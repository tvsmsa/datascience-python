{
 "cells": [
  {
   "cell_type": "markdown",
   "metadata": {},
   "source": [
    "# Линейная регрессия\n",
    "\n",
    "**Выполнил Мелехин Николай Сергеевич**"
   ]
  },
  {
   "cell_type": "markdown",
   "metadata": {},
   "source": [
    "Решение задачи регрессии в scikit-learn с помощью линейной модели - линейная регрессия\n",
    "\n",
    "- Обучение класса SGDRegressor и анализ атрибутов\n",
    "- Анализ модели для разных данных\n",
    "- Предобразование целевой переменной с помощью класса TransformedTargetRegressor\n",
    "- Сохранение модели"
   ]
  },
  {
   "cell_type": "markdown",
   "metadata": {},
   "source": [
    "## Установка и импорт библиотек"
   ]
  },
  {
   "cell_type": "code",
   "execution_count": 1,
   "metadata": {},
   "outputs": [
    {
     "name": "stdout",
     "output_type": "stream",
     "text": [
      "Requirement already satisfied: pandas in c:\\users\\acer\\appdata\\local\\programs\\python\\python312\\lib\\site-packages (2.2.1)\n",
      "Requirement already satisfied: numpy<2,>=1.26.0 in c:\\users\\acer\\appdata\\local\\programs\\python\\python312\\lib\\site-packages (from pandas) (1.26.4)\n",
      "Requirement already satisfied: python-dateutil>=2.8.2 in c:\\users\\acer\\appdata\\local\\programs\\python\\python312\\lib\\site-packages (from pandas) (2.9.0.post0)\n",
      "Requirement already satisfied: pytz>=2020.1 in c:\\users\\acer\\appdata\\local\\programs\\python\\python312\\lib\\site-packages (from pandas) (2024.1)\n",
      "Requirement already satisfied: tzdata>=2022.7 in c:\\users\\acer\\appdata\\local\\programs\\python\\python312\\lib\\site-packages (from pandas) (2024.1)\n",
      "Requirement already satisfied: six>=1.5 in c:\\users\\acer\\appdata\\local\\programs\\python\\python312\\lib\\site-packages (from python-dateutil>=2.8.2->pandas) (1.16.0)\n",
      "Note: you may need to restart the kernel to use updated packages.\n",
      "Requirement already satisfied: numpy in c:\\users\\acer\\appdata\\local\\programs\\python\\python312\\lib\\site-packages (1.26.4)\n",
      "Note: you may need to restart the kernel to use updated packages.\n",
      "Requirement already satisfied: matplotlib in c:\\users\\acer\\appdata\\local\\programs\\python\\python312\\lib\\site-packages (3.8.4)\n",
      "Requirement already satisfied: contourpy>=1.0.1 in c:\\users\\acer\\appdata\\local\\programs\\python\\python312\\lib\\site-packages (from matplotlib) (1.2.1)\n",
      "Requirement already satisfied: cycler>=0.10 in c:\\users\\acer\\appdata\\local\\programs\\python\\python312\\lib\\site-packages (from matplotlib) (0.12.1)\n",
      "Requirement already satisfied: fonttools>=4.22.0 in c:\\users\\acer\\appdata\\local\\programs\\python\\python312\\lib\\site-packages (from matplotlib) (4.51.0)\n",
      "Requirement already satisfied: kiwisolver>=1.3.1 in c:\\users\\acer\\appdata\\local\\programs\\python\\python312\\lib\\site-packages (from matplotlib) (1.4.5)\n",
      "Requirement already satisfied: numpy>=1.21 in c:\\users\\acer\\appdata\\local\\programs\\python\\python312\\lib\\site-packages (from matplotlib) (1.26.4)\n",
      "Requirement already satisfied: packaging>=20.0 in c:\\users\\acer\\appdata\\local\\programs\\python\\python312\\lib\\site-packages (from matplotlib) (24.0)\n",
      "Requirement already satisfied: pillow>=8 in c:\\users\\acer\\appdata\\local\\programs\\python\\python312\\lib\\site-packages (from matplotlib) (10.3.0)\n",
      "Requirement already satisfied: pyparsing>=2.3.1 in c:\\users\\acer\\appdata\\local\\programs\\python\\python312\\lib\\site-packages (from matplotlib) (3.1.2)\n",
      "Requirement already satisfied: python-dateutil>=2.7 in c:\\users\\acer\\appdata\\local\\programs\\python\\python312\\lib\\site-packages (from matplotlib) (2.9.0.post0)\n",
      "Requirement already satisfied: six>=1.5 in c:\\users\\acer\\appdata\\local\\programs\\python\\python312\\lib\\site-packages (from python-dateutil>=2.7->matplotlib) (1.16.0)\n",
      "Note: you may need to restart the kernel to use updated packages.\n",
      "Requirement already satisfied: plotly in c:\\users\\acer\\appdata\\local\\programs\\python\\python312\\lib\\site-packages (5.22.0)\n",
      "Requirement already satisfied: tenacity>=6.2.0 in c:\\users\\acer\\appdata\\local\\programs\\python\\python312\\lib\\site-packages (from plotly) (8.3.0)\n",
      "Requirement already satisfied: packaging in c:\\users\\acer\\appdata\\local\\programs\\python\\python312\\lib\\site-packages (from plotly) (24.0)\n",
      "Note: you may need to restart the kernel to use updated packages.\n",
      "Requirement already satisfied: seaborn in c:\\users\\acer\\appdata\\local\\programs\\python\\python312\\lib\\site-packages (0.13.2)\n",
      "Requirement already satisfied: numpy!=1.24.0,>=1.20 in c:\\users\\acer\\appdata\\local\\programs\\python\\python312\\lib\\site-packages (from seaborn) (1.26.4)\n",
      "Requirement already satisfied: pandas>=1.2 in c:\\users\\acer\\appdata\\local\\programs\\python\\python312\\lib\\site-packages (from seaborn) (2.2.1)\n",
      "Requirement already satisfied: matplotlib!=3.6.1,>=3.4 in c:\\users\\acer\\appdata\\local\\programs\\python\\python312\\lib\\site-packages (from seaborn) (3.8.4)\n",
      "Requirement already satisfied: contourpy>=1.0.1 in c:\\users\\acer\\appdata\\local\\programs\\python\\python312\\lib\\site-packages (from matplotlib!=3.6.1,>=3.4->seaborn) (1.2.1)\n",
      "Requirement already satisfied: cycler>=0.10 in c:\\users\\acer\\appdata\\local\\programs\\python\\python312\\lib\\site-packages (from matplotlib!=3.6.1,>=3.4->seaborn) (0.12.1)\n",
      "Requirement already satisfied: fonttools>=4.22.0 in c:\\users\\acer\\appdata\\local\\programs\\python\\python312\\lib\\site-packages (from matplotlib!=3.6.1,>=3.4->seaborn) (4.51.0)\n",
      "Requirement already satisfied: kiwisolver>=1.3.1 in c:\\users\\acer\\appdata\\local\\programs\\python\\python312\\lib\\site-packages (from matplotlib!=3.6.1,>=3.4->seaborn) (1.4.5)\n",
      "Requirement already satisfied: packaging>=20.0 in c:\\users\\acer\\appdata\\local\\programs\\python\\python312\\lib\\site-packages (from matplotlib!=3.6.1,>=3.4->seaborn) (24.0)\n",
      "Requirement already satisfied: pillow>=8 in c:\\users\\acer\\appdata\\local\\programs\\python\\python312\\lib\\site-packages (from matplotlib!=3.6.1,>=3.4->seaborn) (10.3.0)\n",
      "Requirement already satisfied: pyparsing>=2.3.1 in c:\\users\\acer\\appdata\\local\\programs\\python\\python312\\lib\\site-packages (from matplotlib!=3.6.1,>=3.4->seaborn) (3.1.2)\n",
      "Requirement already satisfied: python-dateutil>=2.7 in c:\\users\\acer\\appdata\\local\\programs\\python\\python312\\lib\\site-packages (from matplotlib!=3.6.1,>=3.4->seaborn) (2.9.0.post0)\n",
      "Requirement already satisfied: pytz>=2020.1 in c:\\users\\acer\\appdata\\local\\programs\\python\\python312\\lib\\site-packages (from pandas>=1.2->seaborn) (2024.1)\n",
      "Requirement already satisfied: tzdata>=2022.7 in c:\\users\\acer\\appdata\\local\\programs\\python\\python312\\lib\\site-packages (from pandas>=1.2->seaborn) (2024.1)\n",
      "Requirement already satisfied: six>=1.5 in c:\\users\\acer\\appdata\\local\\programs\\python\\python312\\lib\\site-packages (from python-dateutil>=2.7->matplotlib!=3.6.1,>=3.4->seaborn) (1.16.0)\n",
      "Note: you may need to restart the kernel to use updated packages.\n",
      "Requirement already satisfied: scikit-learn in c:\\users\\acer\\appdata\\local\\programs\\python\\python312\\lib\\site-packages (1.4.2)\n",
      "Requirement already satisfied: numpy>=1.19.5 in c:\\users\\acer\\appdata\\local\\programs\\python\\python312\\lib\\site-packages (from scikit-learn) (1.26.4)\n",
      "Requirement already satisfied: scipy>=1.6.0 in c:\\users\\acer\\appdata\\local\\programs\\python\\python312\\lib\\site-packages (from scikit-learn) (1.13.0)\n",
      "Requirement already satisfied: joblib>=1.2.0 in c:\\users\\acer\\appdata\\local\\programs\\python\\python312\\lib\\site-packages (from scikit-learn) (1.4.2)\n",
      "Requirement already satisfied: threadpoolctl>=2.0.0 in c:\\users\\acer\\appdata\\local\\programs\\python\\python312\\lib\\site-packages (from scikit-learn) (3.5.0)\n",
      "Note: you may need to restart the kernel to use updated packages.\n"
     ]
    }
   ],
   "source": [
    "%pip install pandas\n",
    "%pip install numpy\n",
    "%pip install matplotlib\n",
    "%pip install plotly\n",
    "%pip install seaborn\n",
    "%pip install scikit-learn"
   ]
  },
  {
   "cell_type": "code",
   "execution_count": 2,
   "metadata": {},
   "outputs": [],
   "source": [
    "import pandas as pd # Библиотека Pandas для работы с табличными данными\n",
    "import numpy as np # библиотека Numpy для операций линейной алгебры и прочего\n",
    "import matplotlib.pyplot as plt # библиотека Matplotlib для визуализации\n",
    "import seaborn as sns # библиотека seaborn для визуализации\n",
    "import numpy as np # библиотека Numpy для операций линейной алгебры и прочего\n",
    "import plotly.graph_objects as go # Библиотека Plotly. Модуль \"Graph Objects\"\n",
    "import plotly.express as px # Библиотека Plotly. Модуль \"Express\"\n",
    "\n",
    "# предварительная обработка числовых признаков\n",
    "from sklearn.preprocessing import MinMaxScaler# Импортируем нормализацию от scikit-learn\n",
    "from sklearn.preprocessing import StandardScaler # Импортируем стандартизацию от scikit-learn\n",
    "from sklearn.preprocessing import PowerTransformer  # Степенное преобразование от scikit-learn\n",
    "# предварительная обработка категориальных признаков\n",
    "from sklearn.preprocessing import OneHotEncoder# Импортируем One-Hot Encoding от scikit-learn\n",
    "from sklearn.preprocessing import OrdinalEncoder# Импортируем Порядковое кодированиеот scikit-learn\n",
    "\n",
    "from sklearn.pipeline import Pipeline # Pipeline.Не добавить, не убавить\n",
    "\n",
    "from sklearn.compose import ColumnTransformer # т.н. преобразователь колонок\n",
    "\n",
    "from sklearn.base import BaseEstimator, TransformerMixin # для создания собственных преобразователей / трансформеров данных\n",
    "\n",
    "from sklearn.compose import TransformedTargetRegressor # ддля обрабоки целевой переменной\n",
    "\n",
    "import warnings\n",
    "warnings.filterwarnings('ignore')"
   ]
  },
  {
   "cell_type": "markdown",
   "metadata": {},
   "source": [
    "# Описание датасета"
   ]
  },
  {
   "cell_type": "markdown",
   "metadata": {},
   "source": [
    "'index': Индекс записи\n",
    "\n",
    "'Publishing Year': Год когда книга опубликована\n",
    "\n",
    "'Book Name': Название книги\n",
    "\n",
    "'Author': Автор\n",
    "\n",
    "'language_code': Язык книги\n",
    "\n",
    "'Author_Rating': Рейтинг автора\n",
    "\n",
    "'Book_average_rating': Средний рейтинг книги\n",
    "\n",
    "'Book_ratings_count':  Количество данных рейтингов для книги\n",
    "\n",
    "'genre': Жанр\n",
    "\n",
    "'gross sales': Валовой объем продаж\n",
    "\n",
    "'publisher revenue': Прибыль для издателя\n",
    "\n",
    "'sale price':  Цена книги\n",
    "\n",
    "'sales rank': Ранг продаж для книги\n",
    "\n",
    "'Publisher': Издатель\n",
    "\n",
    "'units sold': Количество проданных копий\n",
    "\n",
    "Ссылка на датасет: https://www.kaggle.com/datasets/thedevastator/books-sales-and-ratings\n",
    "\n",
    "Целью данной работы будет нахождением зависимости между различными факторами книги и результативным фактором - валовым объемом продаж."
   ]
  },
  {
   "cell_type": "code",
   "execution_count": 3,
   "metadata": {},
   "outputs": [
    {
     "data": {
      "text/html": [
       "<div>\n",
       "<style scoped>\n",
       "    .dataframe tbody tr th:only-of-type {\n",
       "        vertical-align: middle;\n",
       "    }\n",
       "\n",
       "    .dataframe tbody tr th {\n",
       "        vertical-align: top;\n",
       "    }\n",
       "\n",
       "    .dataframe thead th {\n",
       "        text-align: right;\n",
       "    }\n",
       "</style>\n",
       "<table border=\"1\" class=\"dataframe\">\n",
       "  <thead>\n",
       "    <tr style=\"text-align: right;\">\n",
       "      <th></th>\n",
       "      <th>index</th>\n",
       "      <th>Publishing Year</th>\n",
       "      <th>Book Name</th>\n",
       "      <th>Author</th>\n",
       "      <th>language_code</th>\n",
       "      <th>Author_Rating</th>\n",
       "      <th>Book_average_rating</th>\n",
       "      <th>Book_ratings_count</th>\n",
       "      <th>genre</th>\n",
       "      <th>gross sales</th>\n",
       "      <th>publisher revenue</th>\n",
       "      <th>sale price</th>\n",
       "      <th>sales rank</th>\n",
       "      <th>Publisher</th>\n",
       "      <th>units sold</th>\n",
       "    </tr>\n",
       "  </thead>\n",
       "  <tbody>\n",
       "    <tr>\n",
       "      <th>0</th>\n",
       "      <td>0</td>\n",
       "      <td>1975.0</td>\n",
       "      <td>Beowulf</td>\n",
       "      <td>Unknown, Seamus Heaney</td>\n",
       "      <td>en-US</td>\n",
       "      <td>Novice</td>\n",
       "      <td>3.42</td>\n",
       "      <td>155903</td>\n",
       "      <td>genre fiction</td>\n",
       "      <td>34160.0</td>\n",
       "      <td>20496.0</td>\n",
       "      <td>4.88</td>\n",
       "      <td>1</td>\n",
       "      <td>HarperCollins Publishers</td>\n",
       "      <td>7000</td>\n",
       "    </tr>\n",
       "    <tr>\n",
       "      <th>1</th>\n",
       "      <td>1</td>\n",
       "      <td>1987.0</td>\n",
       "      <td>Batman: Year One</td>\n",
       "      <td>Frank Miller, David Mazzucchelli, Richmond Lew...</td>\n",
       "      <td>eng</td>\n",
       "      <td>Intermediate</td>\n",
       "      <td>4.23</td>\n",
       "      <td>145267</td>\n",
       "      <td>genre fiction</td>\n",
       "      <td>12437.5</td>\n",
       "      <td>7462.5</td>\n",
       "      <td>1.99</td>\n",
       "      <td>2</td>\n",
       "      <td>HarperCollins Publishers</td>\n",
       "      <td>6250</td>\n",
       "    </tr>\n",
       "    <tr>\n",
       "      <th>2</th>\n",
       "      <td>2</td>\n",
       "      <td>2015.0</td>\n",
       "      <td>Go Set a Watchman</td>\n",
       "      <td>Harper Lee</td>\n",
       "      <td>eng</td>\n",
       "      <td>Novice</td>\n",
       "      <td>3.31</td>\n",
       "      <td>138669</td>\n",
       "      <td>genre fiction</td>\n",
       "      <td>47795.0</td>\n",
       "      <td>28677.0</td>\n",
       "      <td>8.69</td>\n",
       "      <td>3</td>\n",
       "      <td>Amazon Digital Services,  Inc.</td>\n",
       "      <td>5500</td>\n",
       "    </tr>\n",
       "    <tr>\n",
       "      <th>3</th>\n",
       "      <td>3</td>\n",
       "      <td>2008.0</td>\n",
       "      <td>When You Are Engulfed in Flames</td>\n",
       "      <td>David Sedaris</td>\n",
       "      <td>en-US</td>\n",
       "      <td>Intermediate</td>\n",
       "      <td>4.04</td>\n",
       "      <td>150898</td>\n",
       "      <td>fiction</td>\n",
       "      <td>41250.0</td>\n",
       "      <td>24750.0</td>\n",
       "      <td>7.50</td>\n",
       "      <td>3</td>\n",
       "      <td>Hachette Book Group</td>\n",
       "      <td>5500</td>\n",
       "    </tr>\n",
       "    <tr>\n",
       "      <th>4</th>\n",
       "      <td>4</td>\n",
       "      <td>2011.0</td>\n",
       "      <td>Daughter of Smoke &amp; Bone</td>\n",
       "      <td>Laini Taylor</td>\n",
       "      <td>eng</td>\n",
       "      <td>Intermediate</td>\n",
       "      <td>4.04</td>\n",
       "      <td>198283</td>\n",
       "      <td>genre fiction</td>\n",
       "      <td>37952.5</td>\n",
       "      <td>22771.5</td>\n",
       "      <td>7.99</td>\n",
       "      <td>4</td>\n",
       "      <td>Penguin Group (USA) LLC</td>\n",
       "      <td>4750</td>\n",
       "    </tr>\n",
       "  </tbody>\n",
       "</table>\n",
       "</div>"
      ],
      "text/plain": [
       "   index  Publishing Year                        Book Name  \\\n",
       "0      0           1975.0                          Beowulf   \n",
       "1      1           1987.0                 Batman: Year One   \n",
       "2      2           2015.0                Go Set a Watchman   \n",
       "3      3           2008.0  When You Are Engulfed in Flames   \n",
       "4      4           2011.0         Daughter of Smoke & Bone   \n",
       "\n",
       "                                              Author language_code  \\\n",
       "0                             Unknown, Seamus Heaney         en-US   \n",
       "1  Frank Miller, David Mazzucchelli, Richmond Lew...           eng   \n",
       "2                                         Harper Lee           eng   \n",
       "3                                      David Sedaris         en-US   \n",
       "4                                       Laini Taylor           eng   \n",
       "\n",
       "  Author_Rating  Book_average_rating  Book_ratings_count          genre  \\\n",
       "0        Novice                 3.42              155903  genre fiction   \n",
       "1  Intermediate                 4.23              145267  genre fiction   \n",
       "2        Novice                 3.31              138669  genre fiction   \n",
       "3  Intermediate                 4.04              150898        fiction   \n",
       "4  Intermediate                 4.04              198283  genre fiction   \n",
       "\n",
       "   gross sales  publisher revenue  sale price  sales rank  \\\n",
       "0      34160.0            20496.0        4.88           1   \n",
       "1      12437.5             7462.5        1.99           2   \n",
       "2      47795.0            28677.0        8.69           3   \n",
       "3      41250.0            24750.0        7.50           3   \n",
       "4      37952.5            22771.5        7.99           4   \n",
       "\n",
       "                        Publisher  units sold  \n",
       "0        HarperCollins Publishers        7000  \n",
       "1        HarperCollins Publishers        6250  \n",
       "2  Amazon Digital Services,  Inc.        5500  \n",
       "3             Hachette Book Group        5500  \n",
       "4         Penguin Group (USA) LLC        4750  "
      ]
     },
     "execution_count": 3,
     "metadata": {},
     "output_type": "execute_result"
    }
   ],
   "source": [
    "df = pd.read_csv('Books_Data_Clean.csv')  # Считываем файл в DataFrame\n",
    "df.head(5)  # Посмотрим первые пять записей"
   ]
  },
  {
   "cell_type": "code",
   "execution_count": 4,
   "metadata": {},
   "outputs": [
    {
     "name": "stdout",
     "output_type": "stream",
     "text": [
      "<class 'pandas.core.frame.DataFrame'>\n",
      "RangeIndex: 1070 entries, 0 to 1069\n",
      "Data columns (total 15 columns):\n",
      " #   Column               Non-Null Count  Dtype  \n",
      "---  ------               --------------  -----  \n",
      " 0   index                1070 non-null   int64  \n",
      " 1   Publishing Year      1069 non-null   float64\n",
      " 2   Book Name            1047 non-null   object \n",
      " 3   Author               1070 non-null   object \n",
      " 4   language_code        1017 non-null   object \n",
      " 5   Author_Rating        1070 non-null   object \n",
      " 6   Book_average_rating  1070 non-null   float64\n",
      " 7   Book_ratings_count   1070 non-null   int64  \n",
      " 8   genre                1070 non-null   object \n",
      " 9   gross sales          1070 non-null   float64\n",
      " 10  publisher revenue    1070 non-null   float64\n",
      " 11  sale price           1070 non-null   float64\n",
      " 12  sales rank           1070 non-null   int64  \n",
      " 13  Publisher            1070 non-null   object \n",
      " 14  units sold           1070 non-null   int64  \n",
      "dtypes: float64(5), int64(4), object(6)\n",
      "memory usage: 125.5+ KB\n"
     ]
    }
   ],
   "source": [
    "df.info()  # Выведем краткую сводку по датафрейму\n",
    "#Не заполненные ячейки отсутствуют"
   ]
  },
  {
   "cell_type": "code",
   "execution_count": 5,
   "metadata": {},
   "outputs": [
    {
     "name": "stdout",
     "output_type": "stream",
     "text": [
      "<class 'pandas.core.frame.DataFrame'>\n",
      "Index: 1047 entries, 0 to 1069\n",
      "Data columns (total 10 columns):\n",
      " #   Column               Non-Null Count  Dtype  \n",
      "---  ------               --------------  -----  \n",
      " 0   Publishing Year      1047 non-null   float64\n",
      " 1   Author               1047 non-null   object \n",
      " 2   language_code        1047 non-null   object \n",
      " 3   Author_Rating        1047 non-null   object \n",
      " 4   Book_average_rating  1047 non-null   float64\n",
      " 5   Book_ratings_count   1047 non-null   int64  \n",
      " 6   genre                1047 non-null   object \n",
      " 7   sale price           1047 non-null   float64\n",
      " 8   Publisher            1047 non-null   object \n",
      " 9   units sold           1047 non-null   int64  \n",
      "dtypes: float64(3), int64(2), object(5)\n",
      "memory usage: 90.0+ KB\n"
     ]
    }
   ],
   "source": [
    "df = df.dropna(subset=['Book Name'])  # Удаляем строки с пропусками в колонке Book Name\n",
    "#Удалим результативным признаки, индекс, год издания и имя книги\n",
    "df = df.drop(['index', 'gross sales', 'publisher revenue', 'sales rank', 'Book Name'], axis=1)\n",
    "df['language_code'].fillna('eng', inplace = True)  # Заменим пропуски на частовстечающееся значение в колонке language_code\n",
    "df.info()"
   ]
  },
  {
   "cell_type": "code",
   "execution_count": 6,
   "metadata": {},
   "outputs": [
    {
     "data": {
      "text/html": [
       "<div>\n",
       "<style scoped>\n",
       "    .dataframe tbody tr th:only-of-type {\n",
       "        vertical-align: middle;\n",
       "    }\n",
       "\n",
       "    .dataframe tbody tr th {\n",
       "        vertical-align: top;\n",
       "    }\n",
       "\n",
       "    .dataframe thead th {\n",
       "        text-align: right;\n",
       "    }\n",
       "</style>\n",
       "<table border=\"1\" class=\"dataframe\">\n",
       "  <thead>\n",
       "    <tr style=\"text-align: right;\">\n",
       "      <th></th>\n",
       "      <th>Age</th>\n",
       "      <th>Author</th>\n",
       "      <th>language_code</th>\n",
       "      <th>Author_Rating</th>\n",
       "      <th>Book_average_rating</th>\n",
       "      <th>Book_ratings_count</th>\n",
       "      <th>genre</th>\n",
       "      <th>sale price</th>\n",
       "      <th>Publisher</th>\n",
       "      <th>units sold</th>\n",
       "    </tr>\n",
       "  </thead>\n",
       "  <tbody>\n",
       "    <tr>\n",
       "      <th>0</th>\n",
       "      <td>49.0</td>\n",
       "      <td>Unknown, Seamus Heaney</td>\n",
       "      <td>en-US</td>\n",
       "      <td>Novice</td>\n",
       "      <td>3.42</td>\n",
       "      <td>155903</td>\n",
       "      <td>genre fiction</td>\n",
       "      <td>4.88</td>\n",
       "      <td>HarperCollins Publishers</td>\n",
       "      <td>7000</td>\n",
       "    </tr>\n",
       "    <tr>\n",
       "      <th>1</th>\n",
       "      <td>37.0</td>\n",
       "      <td>Frank Miller, David Mazzucchelli, Richmond Lew...</td>\n",
       "      <td>eng</td>\n",
       "      <td>Intermediate</td>\n",
       "      <td>4.23</td>\n",
       "      <td>145267</td>\n",
       "      <td>genre fiction</td>\n",
       "      <td>1.99</td>\n",
       "      <td>HarperCollins Publishers</td>\n",
       "      <td>6250</td>\n",
       "    </tr>\n",
       "    <tr>\n",
       "      <th>2</th>\n",
       "      <td>9.0</td>\n",
       "      <td>Harper Lee</td>\n",
       "      <td>eng</td>\n",
       "      <td>Novice</td>\n",
       "      <td>3.31</td>\n",
       "      <td>138669</td>\n",
       "      <td>genre fiction</td>\n",
       "      <td>8.69</td>\n",
       "      <td>Amazon Digital Services,  Inc.</td>\n",
       "      <td>5500</td>\n",
       "    </tr>\n",
       "    <tr>\n",
       "      <th>3</th>\n",
       "      <td>16.0</td>\n",
       "      <td>David Sedaris</td>\n",
       "      <td>en-US</td>\n",
       "      <td>Intermediate</td>\n",
       "      <td>4.04</td>\n",
       "      <td>150898</td>\n",
       "      <td>fiction</td>\n",
       "      <td>7.50</td>\n",
       "      <td>Hachette Book Group</td>\n",
       "      <td>5500</td>\n",
       "    </tr>\n",
       "    <tr>\n",
       "      <th>4</th>\n",
       "      <td>13.0</td>\n",
       "      <td>Laini Taylor</td>\n",
       "      <td>eng</td>\n",
       "      <td>Intermediate</td>\n",
       "      <td>4.04</td>\n",
       "      <td>198283</td>\n",
       "      <td>genre fiction</td>\n",
       "      <td>7.99</td>\n",
       "      <td>Penguin Group (USA) LLC</td>\n",
       "      <td>4750</td>\n",
       "    </tr>\n",
       "  </tbody>\n",
       "</table>\n",
       "</div>"
      ],
      "text/plain": [
       "    Age                                             Author language_code  \\\n",
       "0  49.0                             Unknown, Seamus Heaney         en-US   \n",
       "1  37.0  Frank Miller, David Mazzucchelli, Richmond Lew...           eng   \n",
       "2   9.0                                         Harper Lee           eng   \n",
       "3  16.0                                      David Sedaris         en-US   \n",
       "4  13.0                                       Laini Taylor           eng   \n",
       "\n",
       "  Author_Rating  Book_average_rating  Book_ratings_count          genre  \\\n",
       "0        Novice                 3.42              155903  genre fiction   \n",
       "1  Intermediate                 4.23              145267  genre fiction   \n",
       "2        Novice                 3.31              138669  genre fiction   \n",
       "3  Intermediate                 4.04              150898        fiction   \n",
       "4  Intermediate                 4.04              198283  genre fiction   \n",
       "\n",
       "   sale price                       Publisher  units sold  \n",
       "0        4.88        HarperCollins Publishers        7000  \n",
       "1        1.99        HarperCollins Publishers        6250  \n",
       "2        8.69  Amazon Digital Services,  Inc.        5500  \n",
       "3        7.50             Hachette Book Group        5500  \n",
       "4        7.99         Penguin Group (USA) LLC        4750  "
      ]
     },
     "execution_count": 6,
     "metadata": {},
     "output_type": "execute_result"
    }
   ],
   "source": [
    "#Заменим Publishing Year на возраст книги\n",
    "df['Publishing Year'] = 2024 - df['Publishing Year']\n",
    "df.rename(columns = {'Publishing Year':'Age'}, inplace = True )\n",
    "df.head()"
   ]
  },
  {
   "cell_type": "code",
   "execution_count": 7,
   "metadata": {},
   "outputs": [
    {
     "name": "stdout",
     "output_type": "stream",
     "text": [
      "<class 'pandas.core.frame.DataFrame'>\n",
      "Index: 1047 entries, 0 to 1069\n",
      "Data columns (total 10 columns):\n",
      " #   Column               Non-Null Count  Dtype  \n",
      "---  ------               --------------  -----  \n",
      " 0   Age                  1047 non-null   float64\n",
      " 1   Author               1047 non-null   object \n",
      " 2   language_code        1047 non-null   object \n",
      " 3   Author_Rating        1047 non-null   object \n",
      " 4   Book_average_rating  1047 non-null   float64\n",
      " 5   Book_ratings_count   1047 non-null   int64  \n",
      " 6   genre                1047 non-null   object \n",
      " 7   sale price           1047 non-null   float64\n",
      " 8   Publisher            1047 non-null   object \n",
      " 9   units sold           1047 non-null   int64  \n",
      "dtypes: float64(3), int64(2), object(5)\n",
      "memory usage: 90.0+ KB\n"
     ]
    }
   ],
   "source": [
    "df.info()\n",
    "#Не заполненные ячейки отсутствуют"
   ]
  },
  {
   "cell_type": "markdown",
   "metadata": {},
   "source": [
    "## Числовые и категориальные признаки"
   ]
  },
  {
   "cell_type": "markdown",
   "metadata": {},
   "source": [
    "Из предварительной обработки исключена колонка units sold (поскольку она является целевой переменной и будет обработана отдельно)\n",
    "и колонка index (поскольку она дублирует другие колонки)"
   ]
  },
  {
   "cell_type": "code",
   "execution_count": 8,
   "metadata": {},
   "outputs": [],
   "source": [
    "class QuantileReplacer(BaseEstimator, TransformerMixin):\n",
    "    def __init__(self, threshold=0.05):\n",
    "        self.threshold = threshold\n",
    "        self.quantiles = {}\n",
    "\n",
    "    def fit(self, X, y=None):\n",
    "        for col in X.select_dtypes(include='number'):\n",
    "            low_quantile = X[col].quantile(self.threshold)\n",
    "            high_quantile = X[col].quantile(1 - self.threshold)\n",
    "            self.quantiles[col] = (low_quantile, high_quantile)\n",
    "        return self\n",
    "\n",
    "    def transform(self, X):\n",
    "        X_copy = X.copy()\n",
    "        for col in X.select_dtypes(include='number'):\n",
    "            low_quantile, high_quantile = self.quantiles[col]\n",
    "            rare_mask = ((X[col] < low_quantile) | (X[col] > high_quantile))\n",
    "            if rare_mask.any():\n",
    "                rare_values = X_copy.loc[rare_mask, col]\n",
    "                replace_value = np.mean([low_quantile, high_quantile])\n",
    "                if rare_values.mean() > replace_value:\n",
    "                    X_copy.loc[rare_mask, col] = high_quantile\n",
    "                else:\n",
    "                    X_copy.loc[rare_mask, col] = low_quantile\n",
    "        return X_copy"
   ]
  },
  {
   "cell_type": "code",
   "execution_count": 9,
   "metadata": {},
   "outputs": [],
   "source": [
    "class RareGrouper(BaseEstimator, TransformerMixin):\n",
    "    def __init__(self, threshold=0.05, other_value='Other'):\n",
    "        self.threshold = threshold\n",
    "        self.other_value = other_value\n",
    "        self.freq_dict = {}\n",
    "\n",
    "    def fit(self, X, y=None):\n",
    "        for col in X.select_dtypes(include=['object']):\n",
    "            freq = X[col].value_counts(normalize=True)\n",
    "            self.freq_dict[col] = freq[freq >= self.threshold].index.tolist()\n",
    "        return self\n",
    "\n",
    "    def transform(self, X, y=None):\n",
    "        X_copy = X.copy()\n",
    "        for col in X.select_dtypes(include=['object']):\n",
    "            X_copy[col] = X_copy[col].apply(lambda x: x if x in self.freq_dict[col] else self.other_value)\n",
    "        return X_copy"
   ]
  },
  {
   "cell_type": "code",
   "execution_count": 10,
   "metadata": {},
   "outputs": [],
   "source": [
    "# Pipeline для числовых признаков\n",
    "\n",
    "num_pipe_num = Pipeline([\n",
    "    ('QuantReplace', QuantileReplacer(threshold=0.01, )),\n",
    "    ('norm', MinMaxScaler())\n",
    "])\n",
    " \n",
    "num = ['Age', 'Book_average_rating', 'Book_ratings_count', 'sale price']\n",
    "\n",
    "# И для категориальных признаков\n",
    "\n",
    "cat_pipe = Pipeline([\n",
    "    ('replace_rare', RareGrouper(threshold=0.0001, other_value='Other')),\n",
    "    ('encoder', OneHotEncoder(drop='if_binary', handle_unknown='ignore', sparse_output=False))\n",
    "])\n",
    "\n",
    "cat = ['Author', 'language_code', 'Author_Rating', 'genre', 'Publisher']\n",
    "\n",
    "\n",
    "# Сделаем отдельно Pipeline с числовыми признаками\n",
    "preprocessors_num = ColumnTransformer(transformers=[\n",
    "    ('num', num_pipe_num, num),\n",
    "])\n",
    "\n",
    "\n",
    "# И полный Pipeline со всеми признаками\n",
    "preprocessors_All = ColumnTransformer(transformers=[\n",
    "    ('norm', num_pipe_num, num),\n",
    "    ('cat', cat_pipe, cat)\n",
    "])"
   ]
  },
  {
   "cell_type": "code",
   "execution_count": 11,
   "metadata": {},
   "outputs": [],
   "source": [
    "columns_num = np.hstack([num])"
   ]
  },
  {
   "cell_type": "markdown",
   "metadata": {},
   "source": [
    "# Линейная Регрессия"
   ]
  },
  {
   "cell_type": "code",
   "execution_count": 12,
   "metadata": {},
   "outputs": [],
   "source": [
    "from sklearn.linear_model import SGDRegressor # Линейная регрессия с градиентным спуском от scikit-learn\n",
    "\n",
    "from sklearn.model_selection import train_test_split  # Функция разбиения на тренировочную и тестовую выборку\n",
    "# в исполнении scikit-learn\n",
    "from sklearn.model_selection import ShuffleSplit  # При кросс-валидации случайно перемешиваем данные\n",
    "from sklearn.model_selection import cross_validate  # Функция кросс-валидации от Scikit-learn\n",
    "\n",
    "from sklearn.metrics import mean_squared_error as mse  # Метрика MSE от Scikit-learn\n",
    "from sklearn.metrics import r2_score  # Коэффициент детерминации R2 от Scikit-learn\n",
    "\n",
    "from sklearn.metrics import PredictionErrorDisplay  # Класс визуализации ошибок модели"
   ]
  },
  {
   "cell_type": "code",
   "execution_count": 13,
   "metadata": {},
   "outputs": [],
   "source": [
    "# Не забываем удалить целевую переменную цену из признаков\n",
    "X,y = df.drop(columns = ['units sold']), df['units sold']\n",
    "\n",
    "# Разбиваем датасет на обучающую и валидационную выборку\n",
    "X_train, X_val, y_train, y_val = train_test_split(X, y, test_size=0.3, random_state=42)"
   ]
  },
  {
   "cell_type": "code",
   "execution_count": 14,
   "metadata": {},
   "outputs": [
    {
     "data": {
      "text/html": [
       "<div>\n",
       "<style scoped>\n",
       "    .dataframe tbody tr th:only-of-type {\n",
       "        vertical-align: middle;\n",
       "    }\n",
       "\n",
       "    .dataframe tbody tr th {\n",
       "        vertical-align: top;\n",
       "    }\n",
       "\n",
       "    .dataframe thead th {\n",
       "        text-align: right;\n",
       "    }\n",
       "</style>\n",
       "<table border=\"1\" class=\"dataframe\">\n",
       "  <thead>\n",
       "    <tr style=\"text-align: right;\">\n",
       "      <th></th>\n",
       "      <th>Age</th>\n",
       "      <th>Author</th>\n",
       "      <th>language_code</th>\n",
       "      <th>Author_Rating</th>\n",
       "      <th>Book_average_rating</th>\n",
       "      <th>Book_ratings_count</th>\n",
       "      <th>genre</th>\n",
       "      <th>sale price</th>\n",
       "      <th>Publisher</th>\n",
       "    </tr>\n",
       "  </thead>\n",
       "  <tbody>\n",
       "    <tr>\n",
       "      <th>287</th>\n",
       "      <td>23.0</td>\n",
       "      <td>Stephen King, William Olivier Desmond</td>\n",
       "      <td>fre</td>\n",
       "      <td>Intermediate</td>\n",
       "      <td>3.59</td>\n",
       "      <td>115855</td>\n",
       "      <td>genre fiction</td>\n",
       "      <td>4.99</td>\n",
       "      <td>Amazon Digital Services,  Inc.</td>\n",
       "    </tr>\n",
       "    <tr>\n",
       "      <th>272</th>\n",
       "      <td>25.0</td>\n",
       "      <td>Natsuki Takaya, Alethea Nibley, Athena Nibley</td>\n",
       "      <td>eng</td>\n",
       "      <td>Intermediate</td>\n",
       "      <td>4.23</td>\n",
       "      <td>118467</td>\n",
       "      <td>nonfiction</td>\n",
       "      <td>2.99</td>\n",
       "      <td>Simon and Schuster Digital Sales Inc</td>\n",
       "    </tr>\n",
       "    <tr>\n",
       "      <th>508</th>\n",
       "      <td>15.0</td>\n",
       "      <td>Seth Grahame-Smith, Jane Austen</td>\n",
       "      <td>eng</td>\n",
       "      <td>Novice</td>\n",
       "      <td>3.28</td>\n",
       "      <td>103995</td>\n",
       "      <td>genre fiction</td>\n",
       "      <td>3.82</td>\n",
       "      <td>Amazon Digital Services,  Inc.</td>\n",
       "    </tr>\n",
       "    <tr>\n",
       "      <th>579</th>\n",
       "      <td>10.0</td>\n",
       "      <td>Colleen Hoover</td>\n",
       "      <td>eng</td>\n",
       "      <td>Excellent</td>\n",
       "      <td>4.33</td>\n",
       "      <td>81707</td>\n",
       "      <td>genre fiction</td>\n",
       "      <td>6.83</td>\n",
       "      <td>Random House LLC</td>\n",
       "    </tr>\n",
       "    <tr>\n",
       "      <th>849</th>\n",
       "      <td>38.0</td>\n",
       "      <td>Art Spiegelman</td>\n",
       "      <td>en-GB</td>\n",
       "      <td>Famous</td>\n",
       "      <td>4.53</td>\n",
       "      <td>76785</td>\n",
       "      <td>nonfiction</td>\n",
       "      <td>0.99</td>\n",
       "      <td>Amazon Digital Services,  Inc.</td>\n",
       "    </tr>\n",
       "    <tr>\n",
       "      <th>...</th>\n",
       "      <td>...</td>\n",
       "      <td>...</td>\n",
       "      <td>...</td>\n",
       "      <td>...</td>\n",
       "      <td>...</td>\n",
       "      <td>...</td>\n",
       "      <td>...</td>\n",
       "      <td>...</td>\n",
       "      <td>...</td>\n",
       "    </tr>\n",
       "    <tr>\n",
       "      <th>337</th>\n",
       "      <td>79.0</td>\n",
       "      <td>Astrid Lindgren, Lauren Child, Florence Lambor...</td>\n",
       "      <td>eng</td>\n",
       "      <td>Excellent</td>\n",
       "      <td>4.11</td>\n",
       "      <td>123065</td>\n",
       "      <td>genre fiction</td>\n",
       "      <td>3.99</td>\n",
       "      <td>Amazon Digital Services,  Inc.</td>\n",
       "    </tr>\n",
       "    <tr>\n",
       "      <th>476</th>\n",
       "      <td>20.0</td>\n",
       "      <td>Chelsea Handler</td>\n",
       "      <td>en-GB</td>\n",
       "      <td>Intermediate</td>\n",
       "      <td>3.79</td>\n",
       "      <td>83607</td>\n",
       "      <td>nonfiction</td>\n",
       "      <td>7.66</td>\n",
       "      <td>Simon and Schuster Digital Sales Inc</td>\n",
       "    </tr>\n",
       "    <tr>\n",
       "      <th>124</th>\n",
       "      <td>13.0</td>\n",
       "      <td>Ally Condie</td>\n",
       "      <td>eng</td>\n",
       "      <td>Intermediate</td>\n",
       "      <td>3.52</td>\n",
       "      <td>100886</td>\n",
       "      <td>genre fiction</td>\n",
       "      <td>0.99</td>\n",
       "      <td>Amazon Digital Services,  Inc.</td>\n",
       "    </tr>\n",
       "    <tr>\n",
       "      <th>1067</th>\n",
       "      <td>94.0</td>\n",
       "      <td>Dashiell Hammett</td>\n",
       "      <td>eng</td>\n",
       "      <td>Intermediate</td>\n",
       "      <td>3.92</td>\n",
       "      <td>58742</td>\n",
       "      <td>genre fiction</td>\n",
       "      <td>7.99</td>\n",
       "      <td>Hachette Book Group</td>\n",
       "    </tr>\n",
       "    <tr>\n",
       "      <th>878</th>\n",
       "      <td>16.0</td>\n",
       "      <td>Chetan Bhagat</td>\n",
       "      <td>eng</td>\n",
       "      <td>Intermediate</td>\n",
       "      <td>2.97</td>\n",
       "      <td>53331</td>\n",
       "      <td>genre fiction</td>\n",
       "      <td>7.99</td>\n",
       "      <td>Random House LLC</td>\n",
       "    </tr>\n",
       "  </tbody>\n",
       "</table>\n",
       "<p>732 rows × 9 columns</p>\n",
       "</div>"
      ],
      "text/plain": [
       "       Age                                             Author language_code  \\\n",
       "287   23.0              Stephen King, William Olivier Desmond           fre   \n",
       "272   25.0      Natsuki Takaya, Alethea Nibley, Athena Nibley           eng   \n",
       "508   15.0                    Seth Grahame-Smith, Jane Austen           eng   \n",
       "579   10.0                                     Colleen Hoover           eng   \n",
       "849   38.0                                     Art Spiegelman         en-GB   \n",
       "...    ...                                                ...           ...   \n",
       "337   79.0  Astrid Lindgren, Lauren Child, Florence Lambor...           eng   \n",
       "476   20.0                                    Chelsea Handler         en-GB   \n",
       "124   13.0                                        Ally Condie           eng   \n",
       "1067  94.0                                   Dashiell Hammett           eng   \n",
       "878   16.0                                      Chetan Bhagat           eng   \n",
       "\n",
       "     Author_Rating  Book_average_rating  Book_ratings_count          genre  \\\n",
       "287   Intermediate                 3.59              115855  genre fiction   \n",
       "272   Intermediate                 4.23              118467     nonfiction   \n",
       "508         Novice                 3.28              103995  genre fiction   \n",
       "579      Excellent                 4.33               81707  genre fiction   \n",
       "849         Famous                 4.53               76785     nonfiction   \n",
       "...            ...                  ...                 ...            ...   \n",
       "337      Excellent                 4.11              123065  genre fiction   \n",
       "476   Intermediate                 3.79               83607     nonfiction   \n",
       "124   Intermediate                 3.52              100886  genre fiction   \n",
       "1067  Intermediate                 3.92               58742  genre fiction   \n",
       "878   Intermediate                 2.97               53331  genre fiction   \n",
       "\n",
       "      sale price                             Publisher  \n",
       "287         4.99        Amazon Digital Services,  Inc.  \n",
       "272         2.99  Simon and Schuster Digital Sales Inc  \n",
       "508         3.82        Amazon Digital Services,  Inc.  \n",
       "579         6.83                      Random House LLC  \n",
       "849         0.99        Amazon Digital Services,  Inc.  \n",
       "...          ...                                   ...  \n",
       "337         3.99        Amazon Digital Services,  Inc.  \n",
       "476         7.66  Simon and Schuster Digital Sales Inc  \n",
       "124         0.99        Amazon Digital Services,  Inc.  \n",
       "1067        7.99                   Hachette Book Group  \n",
       "878         7.99                      Random House LLC  \n",
       "\n",
       "[732 rows x 9 columns]"
      ]
     },
     "execution_count": 14,
     "metadata": {},
     "output_type": "execute_result"
    }
   ],
   "source": [
    "X_train  # Посмотрим содержимое обучающей выборки"
   ]
  },
  {
   "cell_type": "code",
   "execution_count": 15,
   "metadata": {},
   "outputs": [],
   "source": [
    "#  На тренировочных данных делаем fit_transform - одновременно и обучаемся, и преобразуем тренировочные данные\n",
    "X_train_prep = preprocessors_num.fit_transform(X_train)\n",
    "# После на валидационных данных делаем уже только transform - преобразуем данные согласно ранее запомненным параметрам, полученным на тренировочной выборке\n",
    "X_val_prep = preprocessors_num.transform(X_val)"
   ]
  },
  {
   "cell_type": "markdown",
   "metadata": {},
   "source": [
    "### Обучаем модель"
   ]
  },
  {
   "cell_type": "code",
   "execution_count": 16,
   "metadata": {},
   "outputs": [],
   "source": [
    "model = SGDRegressor(random_state = 42)  # Суть параметра random_state (во всех функциях и методах из SciKit-Learn) в воспроизводимых случайных значениях. \n",
    "                                         # Т.е. если явно задать значение random_state отличным от None - то генерируемые псевдослучайные величины будут иметь \n",
    "                                         # одни и те же значения при каждом вызове.\n",
    "\n",
    "model.fit(X_train_prep, y_train);  # Обучаем модель на тренировочной выборке"
   ]
  },
  {
   "cell_type": "markdown",
   "metadata": {},
   "source": [
    "## Подготовим несколько функций для анализа обученной модели"
   ]
  },
  {
   "cell_type": "markdown",
   "metadata": {},
   "source": [
    "Извлечение коэффициентов из модели"
   ]
  },
  {
   "cell_type": "code",
   "execution_count": 17,
   "metadata": {},
   "outputs": [],
   "source": [
    "def get_coefs(model):  # model: наша обученная модель\n",
    "\n",
    "    B0 = model.intercept_[0]\n",
    "    B = model.coef_\n",
    "    return B0, B"
   ]
  },
  {
   "cell_type": "code",
   "execution_count": 18,
   "metadata": {},
   "outputs": [],
   "source": [
    "def print_model (B0,B,features_names):\n",
    "    \"\"\"Написание уравнения модели.\n",
    "    Входные переменные:\n",
    "    ===========\n",
    "    B0: смещение (независимый коэффициент)\n",
    "    weights: веса признаков\n",
    "    features_names: список названий признаков\n",
    "    \"\"\"\n",
    "    line='{:.3f}'.format(B0)\n",
    "    sign=['+','-']\n",
    "    for p,(fn,b) in enumerate(zip(features_names,B)):\n",
    "        line=line+sign[int(0.5*(np.sign(b)-1))]+'{:.2f}*'.format(np.abs(b))+fn\n",
    "\n",
    "    print('Решение')\n",
    "    print(line)"
   ]
  },
  {
   "cell_type": "markdown",
   "metadata": {},
   "source": [
    "## Визуализации весов в виде столбчатых диаграмм"
   ]
  },
  {
   "cell_type": "code",
   "execution_count": 19,
   "metadata": {},
   "outputs": [],
   "source": [
    "def vis_weigths(weights,features_names = None, width = 1200, height = 600):\n",
    "    \"\"\"Отрисовка весов.\n",
    "    Входные переменные:\n",
    "    ===========\n",
    "    weights: веса признаков\n",
    "    features_names: список названий признаков\n",
    "    \"\"\"\n",
    "    numbers = np.arange(0,len(weights))                 # создаем массив от 0 до количество весов-1\n",
    "    if features_names:\n",
    "        tick_labels = np.hstack(['B0',features_names])\n",
    "    else:\n",
    "        tick_labels = ['B'+str(num) for num in numbers]  # создаем \"названия\" весов\n",
    "    fig = go.Figure()\n",
    "    fig.add_trace(go.Bar(x=numbers[weights<0], y=weights[weights<0],\n",
    "                    marker_color='red',\n",
    "                    name='отрицательные веса'))\n",
    "    fig.add_trace(go.Bar(x=numbers[weights>=0], y=weights[weights>=0],\n",
    "                    marker_color='blue',\n",
    "                    name='положительные веса'\n",
    "                    ))\n",
    "\n",
    "    fig.update_layout(\n",
    "                title=\"Веса модели\",\n",
    "                width=width,\n",
    "                height=height,\n",
    "                template = \"plotly_dark\",\n",
    "                xaxis = dict(\n",
    "                                         tickmode = 'array',\n",
    "                                         tickvals = numbers,\n",
    "                                         ticktext = tick_labels,\n",
    "                                         )\n",
    "                )\n",
    "\n",
    "    fig.show()"
   ]
  },
  {
   "cell_type": "markdown",
   "metadata": {},
   "source": [
    "### Напишем уравнение модели"
   ]
  },
  {
   "cell_type": "code",
   "execution_count": 20,
   "metadata": {},
   "outputs": [
    {
     "name": "stdout",
     "output_type": "stream",
     "text": [
      "Решение\n",
      "14121.967-652.56*Age+4083.45*Book_average_rating-15883.17*Book_ratings_count-1780.39*sale price\n"
     ]
    }
   ],
   "source": [
    "B0, B = get_coefs(model)\n",
    "features_names = list(columns_num)\n",
    "print_model(B0,B,features_names)"
   ]
  },
  {
   "cell_type": "markdown",
   "metadata": {},
   "source": [
    "### Визуализируем веса в виде столбчатых диаграмм"
   ]
  },
  {
   "cell_type": "code",
   "execution_count": 21,
   "metadata": {},
   "outputs": [
    {
     "data": {
      "application/vnd.plotly.v1+json": {
       "config": {
        "plotlyServerURL": "https://plot.ly"
       },
       "data": [
        {
         "marker": {
          "color": "red"
         },
         "name": "отрицательные веса",
         "type": "bar",
         "x": [
          1,
          3,
          4
         ],
         "y": [
          -652.5642759420541,
          -15883.170968269153,
          -1780.3896886368755
         ]
        },
        {
         "marker": {
          "color": "blue"
         },
         "name": "положительные веса",
         "type": "bar",
         "x": [
          0,
          2
         ],
         "y": [
          14121.96681944318,
          4083.4522581568153
         ]
        }
       ],
       "layout": {
        "height": 600,
        "template": {
         "data": {
          "bar": [
           {
            "error_x": {
             "color": "#f2f5fa"
            },
            "error_y": {
             "color": "#f2f5fa"
            },
            "marker": {
             "line": {
              "color": "rgb(17,17,17)",
              "width": 0.5
             },
             "pattern": {
              "fillmode": "overlay",
              "size": 10,
              "solidity": 0.2
             }
            },
            "type": "bar"
           }
          ],
          "barpolar": [
           {
            "marker": {
             "line": {
              "color": "rgb(17,17,17)",
              "width": 0.5
             },
             "pattern": {
              "fillmode": "overlay",
              "size": 10,
              "solidity": 0.2
             }
            },
            "type": "barpolar"
           }
          ],
          "carpet": [
           {
            "aaxis": {
             "endlinecolor": "#A2B1C6",
             "gridcolor": "#506784",
             "linecolor": "#506784",
             "minorgridcolor": "#506784",
             "startlinecolor": "#A2B1C6"
            },
            "baxis": {
             "endlinecolor": "#A2B1C6",
             "gridcolor": "#506784",
             "linecolor": "#506784",
             "minorgridcolor": "#506784",
             "startlinecolor": "#A2B1C6"
            },
            "type": "carpet"
           }
          ],
          "choropleth": [
           {
            "colorbar": {
             "outlinewidth": 0,
             "ticks": ""
            },
            "type": "choropleth"
           }
          ],
          "contour": [
           {
            "colorbar": {
             "outlinewidth": 0,
             "ticks": ""
            },
            "colorscale": [
             [
              0,
              "#0d0887"
             ],
             [
              0.1111111111111111,
              "#46039f"
             ],
             [
              0.2222222222222222,
              "#7201a8"
             ],
             [
              0.3333333333333333,
              "#9c179e"
             ],
             [
              0.4444444444444444,
              "#bd3786"
             ],
             [
              0.5555555555555556,
              "#d8576b"
             ],
             [
              0.6666666666666666,
              "#ed7953"
             ],
             [
              0.7777777777777778,
              "#fb9f3a"
             ],
             [
              0.8888888888888888,
              "#fdca26"
             ],
             [
              1,
              "#f0f921"
             ]
            ],
            "type": "contour"
           }
          ],
          "contourcarpet": [
           {
            "colorbar": {
             "outlinewidth": 0,
             "ticks": ""
            },
            "type": "contourcarpet"
           }
          ],
          "heatmap": [
           {
            "colorbar": {
             "outlinewidth": 0,
             "ticks": ""
            },
            "colorscale": [
             [
              0,
              "#0d0887"
             ],
             [
              0.1111111111111111,
              "#46039f"
             ],
             [
              0.2222222222222222,
              "#7201a8"
             ],
             [
              0.3333333333333333,
              "#9c179e"
             ],
             [
              0.4444444444444444,
              "#bd3786"
             ],
             [
              0.5555555555555556,
              "#d8576b"
             ],
             [
              0.6666666666666666,
              "#ed7953"
             ],
             [
              0.7777777777777778,
              "#fb9f3a"
             ],
             [
              0.8888888888888888,
              "#fdca26"
             ],
             [
              1,
              "#f0f921"
             ]
            ],
            "type": "heatmap"
           }
          ],
          "heatmapgl": [
           {
            "colorbar": {
             "outlinewidth": 0,
             "ticks": ""
            },
            "colorscale": [
             [
              0,
              "#0d0887"
             ],
             [
              0.1111111111111111,
              "#46039f"
             ],
             [
              0.2222222222222222,
              "#7201a8"
             ],
             [
              0.3333333333333333,
              "#9c179e"
             ],
             [
              0.4444444444444444,
              "#bd3786"
             ],
             [
              0.5555555555555556,
              "#d8576b"
             ],
             [
              0.6666666666666666,
              "#ed7953"
             ],
             [
              0.7777777777777778,
              "#fb9f3a"
             ],
             [
              0.8888888888888888,
              "#fdca26"
             ],
             [
              1,
              "#f0f921"
             ]
            ],
            "type": "heatmapgl"
           }
          ],
          "histogram": [
           {
            "marker": {
             "pattern": {
              "fillmode": "overlay",
              "size": 10,
              "solidity": 0.2
             }
            },
            "type": "histogram"
           }
          ],
          "histogram2d": [
           {
            "colorbar": {
             "outlinewidth": 0,
             "ticks": ""
            },
            "colorscale": [
             [
              0,
              "#0d0887"
             ],
             [
              0.1111111111111111,
              "#46039f"
             ],
             [
              0.2222222222222222,
              "#7201a8"
             ],
             [
              0.3333333333333333,
              "#9c179e"
             ],
             [
              0.4444444444444444,
              "#bd3786"
             ],
             [
              0.5555555555555556,
              "#d8576b"
             ],
             [
              0.6666666666666666,
              "#ed7953"
             ],
             [
              0.7777777777777778,
              "#fb9f3a"
             ],
             [
              0.8888888888888888,
              "#fdca26"
             ],
             [
              1,
              "#f0f921"
             ]
            ],
            "type": "histogram2d"
           }
          ],
          "histogram2dcontour": [
           {
            "colorbar": {
             "outlinewidth": 0,
             "ticks": ""
            },
            "colorscale": [
             [
              0,
              "#0d0887"
             ],
             [
              0.1111111111111111,
              "#46039f"
             ],
             [
              0.2222222222222222,
              "#7201a8"
             ],
             [
              0.3333333333333333,
              "#9c179e"
             ],
             [
              0.4444444444444444,
              "#bd3786"
             ],
             [
              0.5555555555555556,
              "#d8576b"
             ],
             [
              0.6666666666666666,
              "#ed7953"
             ],
             [
              0.7777777777777778,
              "#fb9f3a"
             ],
             [
              0.8888888888888888,
              "#fdca26"
             ],
             [
              1,
              "#f0f921"
             ]
            ],
            "type": "histogram2dcontour"
           }
          ],
          "mesh3d": [
           {
            "colorbar": {
             "outlinewidth": 0,
             "ticks": ""
            },
            "type": "mesh3d"
           }
          ],
          "parcoords": [
           {
            "line": {
             "colorbar": {
              "outlinewidth": 0,
              "ticks": ""
             }
            },
            "type": "parcoords"
           }
          ],
          "pie": [
           {
            "automargin": true,
            "type": "pie"
           }
          ],
          "scatter": [
           {
            "marker": {
             "line": {
              "color": "#283442"
             }
            },
            "type": "scatter"
           }
          ],
          "scatter3d": [
           {
            "line": {
             "colorbar": {
              "outlinewidth": 0,
              "ticks": ""
             }
            },
            "marker": {
             "colorbar": {
              "outlinewidth": 0,
              "ticks": ""
             }
            },
            "type": "scatter3d"
           }
          ],
          "scattercarpet": [
           {
            "marker": {
             "colorbar": {
              "outlinewidth": 0,
              "ticks": ""
             }
            },
            "type": "scattercarpet"
           }
          ],
          "scattergeo": [
           {
            "marker": {
             "colorbar": {
              "outlinewidth": 0,
              "ticks": ""
             }
            },
            "type": "scattergeo"
           }
          ],
          "scattergl": [
           {
            "marker": {
             "line": {
              "color": "#283442"
             }
            },
            "type": "scattergl"
           }
          ],
          "scattermapbox": [
           {
            "marker": {
             "colorbar": {
              "outlinewidth": 0,
              "ticks": ""
             }
            },
            "type": "scattermapbox"
           }
          ],
          "scatterpolar": [
           {
            "marker": {
             "colorbar": {
              "outlinewidth": 0,
              "ticks": ""
             }
            },
            "type": "scatterpolar"
           }
          ],
          "scatterpolargl": [
           {
            "marker": {
             "colorbar": {
              "outlinewidth": 0,
              "ticks": ""
             }
            },
            "type": "scatterpolargl"
           }
          ],
          "scatterternary": [
           {
            "marker": {
             "colorbar": {
              "outlinewidth": 0,
              "ticks": ""
             }
            },
            "type": "scatterternary"
           }
          ],
          "surface": [
           {
            "colorbar": {
             "outlinewidth": 0,
             "ticks": ""
            },
            "colorscale": [
             [
              0,
              "#0d0887"
             ],
             [
              0.1111111111111111,
              "#46039f"
             ],
             [
              0.2222222222222222,
              "#7201a8"
             ],
             [
              0.3333333333333333,
              "#9c179e"
             ],
             [
              0.4444444444444444,
              "#bd3786"
             ],
             [
              0.5555555555555556,
              "#d8576b"
             ],
             [
              0.6666666666666666,
              "#ed7953"
             ],
             [
              0.7777777777777778,
              "#fb9f3a"
             ],
             [
              0.8888888888888888,
              "#fdca26"
             ],
             [
              1,
              "#f0f921"
             ]
            ],
            "type": "surface"
           }
          ],
          "table": [
           {
            "cells": {
             "fill": {
              "color": "#506784"
             },
             "line": {
              "color": "rgb(17,17,17)"
             }
            },
            "header": {
             "fill": {
              "color": "#2a3f5f"
             },
             "line": {
              "color": "rgb(17,17,17)"
             }
            },
            "type": "table"
           }
          ]
         },
         "layout": {
          "annotationdefaults": {
           "arrowcolor": "#f2f5fa",
           "arrowhead": 0,
           "arrowwidth": 1
          },
          "autotypenumbers": "strict",
          "coloraxis": {
           "colorbar": {
            "outlinewidth": 0,
            "ticks": ""
           }
          },
          "colorscale": {
           "diverging": [
            [
             0,
             "#8e0152"
            ],
            [
             0.1,
             "#c51b7d"
            ],
            [
             0.2,
             "#de77ae"
            ],
            [
             0.3,
             "#f1b6da"
            ],
            [
             0.4,
             "#fde0ef"
            ],
            [
             0.5,
             "#f7f7f7"
            ],
            [
             0.6,
             "#e6f5d0"
            ],
            [
             0.7,
             "#b8e186"
            ],
            [
             0.8,
             "#7fbc41"
            ],
            [
             0.9,
             "#4d9221"
            ],
            [
             1,
             "#276419"
            ]
           ],
           "sequential": [
            [
             0,
             "#0d0887"
            ],
            [
             0.1111111111111111,
             "#46039f"
            ],
            [
             0.2222222222222222,
             "#7201a8"
            ],
            [
             0.3333333333333333,
             "#9c179e"
            ],
            [
             0.4444444444444444,
             "#bd3786"
            ],
            [
             0.5555555555555556,
             "#d8576b"
            ],
            [
             0.6666666666666666,
             "#ed7953"
            ],
            [
             0.7777777777777778,
             "#fb9f3a"
            ],
            [
             0.8888888888888888,
             "#fdca26"
            ],
            [
             1,
             "#f0f921"
            ]
           ],
           "sequentialminus": [
            [
             0,
             "#0d0887"
            ],
            [
             0.1111111111111111,
             "#46039f"
            ],
            [
             0.2222222222222222,
             "#7201a8"
            ],
            [
             0.3333333333333333,
             "#9c179e"
            ],
            [
             0.4444444444444444,
             "#bd3786"
            ],
            [
             0.5555555555555556,
             "#d8576b"
            ],
            [
             0.6666666666666666,
             "#ed7953"
            ],
            [
             0.7777777777777778,
             "#fb9f3a"
            ],
            [
             0.8888888888888888,
             "#fdca26"
            ],
            [
             1,
             "#f0f921"
            ]
           ]
          },
          "colorway": [
           "#636efa",
           "#EF553B",
           "#00cc96",
           "#ab63fa",
           "#FFA15A",
           "#19d3f3",
           "#FF6692",
           "#B6E880",
           "#FF97FF",
           "#FECB52"
          ],
          "font": {
           "color": "#f2f5fa"
          },
          "geo": {
           "bgcolor": "rgb(17,17,17)",
           "lakecolor": "rgb(17,17,17)",
           "landcolor": "rgb(17,17,17)",
           "showlakes": true,
           "showland": true,
           "subunitcolor": "#506784"
          },
          "hoverlabel": {
           "align": "left"
          },
          "hovermode": "closest",
          "mapbox": {
           "style": "dark"
          },
          "paper_bgcolor": "rgb(17,17,17)",
          "plot_bgcolor": "rgb(17,17,17)",
          "polar": {
           "angularaxis": {
            "gridcolor": "#506784",
            "linecolor": "#506784",
            "ticks": ""
           },
           "bgcolor": "rgb(17,17,17)",
           "radialaxis": {
            "gridcolor": "#506784",
            "linecolor": "#506784",
            "ticks": ""
           }
          },
          "scene": {
           "xaxis": {
            "backgroundcolor": "rgb(17,17,17)",
            "gridcolor": "#506784",
            "gridwidth": 2,
            "linecolor": "#506784",
            "showbackground": true,
            "ticks": "",
            "zerolinecolor": "#C8D4E3"
           },
           "yaxis": {
            "backgroundcolor": "rgb(17,17,17)",
            "gridcolor": "#506784",
            "gridwidth": 2,
            "linecolor": "#506784",
            "showbackground": true,
            "ticks": "",
            "zerolinecolor": "#C8D4E3"
           },
           "zaxis": {
            "backgroundcolor": "rgb(17,17,17)",
            "gridcolor": "#506784",
            "gridwidth": 2,
            "linecolor": "#506784",
            "showbackground": true,
            "ticks": "",
            "zerolinecolor": "#C8D4E3"
           }
          },
          "shapedefaults": {
           "line": {
            "color": "#f2f5fa"
           }
          },
          "sliderdefaults": {
           "bgcolor": "#C8D4E3",
           "bordercolor": "rgb(17,17,17)",
           "borderwidth": 1,
           "tickwidth": 0
          },
          "ternary": {
           "aaxis": {
            "gridcolor": "#506784",
            "linecolor": "#506784",
            "ticks": ""
           },
           "baxis": {
            "gridcolor": "#506784",
            "linecolor": "#506784",
            "ticks": ""
           },
           "bgcolor": "rgb(17,17,17)",
           "caxis": {
            "gridcolor": "#506784",
            "linecolor": "#506784",
            "ticks": ""
           }
          },
          "title": {
           "x": 0.05
          },
          "updatemenudefaults": {
           "bgcolor": "#506784",
           "borderwidth": 0
          },
          "xaxis": {
           "automargin": true,
           "gridcolor": "#283442",
           "linecolor": "#506784",
           "ticks": "",
           "title": {
            "standoff": 15
           },
           "zerolinecolor": "#283442",
           "zerolinewidth": 2
          },
          "yaxis": {
           "automargin": true,
           "gridcolor": "#283442",
           "linecolor": "#506784",
           "ticks": "",
           "title": {
            "standoff": 15
           },
           "zerolinecolor": "#283442",
           "zerolinewidth": 2
          }
         }
        },
        "title": {
         "text": "Веса модели"
        },
        "width": 1200,
        "xaxis": {
         "tickmode": "array",
         "ticktext": [
          "B0",
          "Age",
          "Book_average_rating",
          "Book_ratings_count",
          "sale price"
         ],
         "tickvals": [
          0,
          1,
          2,
          3,
          4
         ]
        }
       }
      }
     },
     "metadata": {},
     "output_type": "display_data"
    }
   ],
   "source": [
    "Bs = np.hstack([B0,B])\n",
    "vis_weigths(Bs,features_names)"
   ]
  },
  {
   "cell_type": "markdown",
   "metadata": {},
   "source": [
    "Видно, что признаки Book_ratings_count (Количество отзывов на книгу) и sale price (Цена книги) в модели имеют наибольшие коэффициенты, следовательно, они больше влияют на целевой показатель - объем продаж. Также признак Book_average_rating имеет отрицательный коэффициент - это означает, что книги с более высоким средним рейтингом не обязательно будут продаваться лучше чем не с высоким. Возраст книги влияет на продажи, но не сильно."
   ]
  },
  {
   "cell_type": "markdown",
   "metadata": {},
   "source": [
    "### Оценка метрик"
   ]
  },
  {
   "cell_type": "code",
   "execution_count": 22,
   "metadata": {},
   "outputs": [],
   "source": [
    "def calculate_metric(model_pipe, X, y, metric = r2_score, **kwargs):\n",
    "    \"\"\"Расчет метрики.\n",
    "    Параметры:\n",
    "    ===========\n",
    "    model_pipe: модель или pipeline\n",
    "    X: признаки\n",
    "    y: истинные значения\n",
    "    metric: метрика (r2 - по умолчанию)\n",
    "    \"\"\"\n",
    "    y_model = model_pipe.predict(X)\n",
    "    return metric(y, y_model, **kwargs)"
   ]
  },
  {
   "cell_type": "code",
   "execution_count": 23,
   "metadata": {},
   "outputs": [
    {
     "name": "stdout",
     "output_type": "stream",
     "text": [
      "r2 на тренировочной выборке: 0.0673\n",
      "r2 на валидационной выборке: 0.0502\n",
      "mse на тренировочной выборке: 220583484.4008\n",
      "mse на валидационной выборке: 234584120.7330\n",
      "rmse на тренировочной выборке: 14852.0532\n",
      "rmse на валидационной выборке: 15316.1392\n"
     ]
    }
   ],
   "source": [
    "print(f\"r2 на тренировочной выборке: {calculate_metric(model, X_train_prep, y_train):.4f}\")\n",
    "print(f\"r2 на валидационной выборке: {calculate_metric(model, X_val_prep, y_val):.4f}\")\n",
    "\n",
    "print(f\"mse на тренировочной выборке: {calculate_metric(model, X_train_prep, y_train, mse):.4f}\")\n",
    "print(f\"mse на валидационной выборке: {calculate_metric(model, X_val_prep, y_val, mse):.4f}\")\n",
    "\n",
    "print(f\"rmse на тренировочной выборке: {calculate_metric(model, X_train_prep, y_train, mse, squared = False):.4f}\")\n",
    "print(f\"rmse на валидационной выборке: {calculate_metric(model, X_val_prep, y_val, mse, squared = False):.4f}\")"
   ]
  },
  {
   "cell_type": "markdown",
   "metadata": {},
   "source": [
    "## Кросс-валидация"
   ]
  },
  {
   "cell_type": "code",
   "execution_count": 24,
   "metadata": {},
   "outputs": [],
   "source": [
    "def cross_validation (X, y, model, scoring, cv_rule):\n",
    "    \"\"\"Расчет метрик на кросс-валидации.\n",
    "    Параметры:\n",
    "    ===========\n",
    "    model: модель или pipeline\n",
    "    X: признаки\n",
    "    y: истинные значения\n",
    "    scoring: словарь метрик\n",
    "    cv_rule: правило кросс-валидации\n",
    "    \"\"\"\n",
    "    scores = cross_validate(model,X, y,\n",
    "                      scoring=scoring, cv=cv_rule )\n",
    "    print('Ошибка на кросс-валидации')\n",
    "    DF_score = pd.DataFrame(scores)\n",
    "    display(DF_score)\n",
    "    print('\\n')\n",
    "    print(DF_score.mean()[2:])"
   ]
  },
  {
   "cell_type": "code",
   "execution_count": 25,
   "metadata": {},
   "outputs": [],
   "source": [
    "scoring_reg = {'R2': 'r2',\n",
    "           '-MSE': 'neg_mean_squared_error',\n",
    "           '-MAE': 'neg_mean_absolute_error',\n",
    "           '-Max': 'max_error'}"
   ]
  },
  {
   "cell_type": "code",
   "execution_count": 26,
   "metadata": {},
   "outputs": [
    {
     "name": "stdout",
     "output_type": "stream",
     "text": [
      "Ошибка на кросс-валидации\n"
     ]
    },
    {
     "data": {
      "text/html": [
       "<div>\n",
       "<style scoped>\n",
       "    .dataframe tbody tr th:only-of-type {\n",
       "        vertical-align: middle;\n",
       "    }\n",
       "\n",
       "    .dataframe tbody tr th {\n",
       "        vertical-align: top;\n",
       "    }\n",
       "\n",
       "    .dataframe thead th {\n",
       "        text-align: right;\n",
       "    }\n",
       "</style>\n",
       "<table border=\"1\" class=\"dataframe\">\n",
       "  <thead>\n",
       "    <tr style=\"text-align: right;\">\n",
       "      <th></th>\n",
       "      <th>fit_time</th>\n",
       "      <th>score_time</th>\n",
       "      <th>test_R2</th>\n",
       "      <th>test_-MSE</th>\n",
       "      <th>test_-MAE</th>\n",
       "      <th>test_-Max</th>\n",
       "    </tr>\n",
       "  </thead>\n",
       "  <tbody>\n",
       "    <tr>\n",
       "      <th>0</th>\n",
       "      <td>0.005000</td>\n",
       "      <td>0.002000</td>\n",
       "      <td>0.124687</td>\n",
       "      <td>-2.184706e+08</td>\n",
       "      <td>-10517.794430</td>\n",
       "      <td>-49861.003162</td>\n",
       "    </tr>\n",
       "    <tr>\n",
       "      <th>1</th>\n",
       "      <td>0.005001</td>\n",
       "      <td>0.001000</td>\n",
       "      <td>0.105294</td>\n",
       "      <td>-1.931761e+08</td>\n",
       "      <td>-10824.320731</td>\n",
       "      <td>-42643.367558</td>\n",
       "    </tr>\n",
       "    <tr>\n",
       "      <th>2</th>\n",
       "      <td>0.005001</td>\n",
       "      <td>0.002001</td>\n",
       "      <td>0.050216</td>\n",
       "      <td>-2.409331e+08</td>\n",
       "      <td>-11429.761588</td>\n",
       "      <td>-51661.659551</td>\n",
       "    </tr>\n",
       "    <tr>\n",
       "      <th>3</th>\n",
       "      <td>0.007001</td>\n",
       "      <td>0.002001</td>\n",
       "      <td>0.040372</td>\n",
       "      <td>-2.242560e+08</td>\n",
       "      <td>-12004.115861</td>\n",
       "      <td>-42722.047824</td>\n",
       "    </tr>\n",
       "    <tr>\n",
       "      <th>4</th>\n",
       "      <td>0.008003</td>\n",
       "      <td>0.002000</td>\n",
       "      <td>0.055298</td>\n",
       "      <td>-2.295609e+08</td>\n",
       "      <td>-10961.350219</td>\n",
       "      <td>-46352.628045</td>\n",
       "    </tr>\n",
       "  </tbody>\n",
       "</table>\n",
       "</div>"
      ],
      "text/plain": [
       "   fit_time  score_time   test_R2     test_-MSE     test_-MAE     test_-Max\n",
       "0  0.005000    0.002000  0.124687 -2.184706e+08 -10517.794430 -49861.003162\n",
       "1  0.005001    0.001000  0.105294 -1.931761e+08 -10824.320731 -42643.367558\n",
       "2  0.005001    0.002001  0.050216 -2.409331e+08 -11429.761588 -51661.659551\n",
       "3  0.007001    0.002001  0.040372 -2.242560e+08 -12004.115861 -42722.047824\n",
       "4  0.008003    0.002000  0.055298 -2.295609e+08 -10961.350219 -46352.628045"
      ]
     },
     "metadata": {},
     "output_type": "display_data"
    },
    {
     "name": "stdout",
     "output_type": "stream",
     "text": [
      "\n",
      "\n",
      "test_R2      7.517355e-02\n",
      "test_-MSE   -2.212793e+08\n",
      "test_-MAE   -1.114747e+04\n",
      "test_-Max   -4.664814e+04\n",
      "dtype: float64\n"
     ]
    }
   ],
   "source": [
    "cross_validation (X_train_prep, y_train,\n",
    "                  model,\n",
    "                  scoring_reg,\n",
    "                  ShuffleSplit(n_splits=5, random_state = 42))"
   ]
  },
  {
   "cell_type": "markdown",
   "metadata": {},
   "source": [
    "### Визуализация ошибок от scikit-learn"
   ]
  },
  {
   "cell_type": "code",
   "execution_count": 27,
   "metadata": {},
   "outputs": [
    {
     "data": {
      "image/png": "[encoded data removed]",
      "text/plain": [
       "<Figure size 640x480 with 1 Axes>"
      ]
     },
     "metadata": {},
     "output_type": "display_data"
    }
   ],
   "source": [
    "PredictionErrorDisplay.from_predictions(\n",
    "    y_val,\n",
    "    model.predict(X_val_prep),\n",
    "    kind=\"actual_vs_predicted\",\n",
    "    scatter_kwargs={\"alpha\": 0.5},\n",
    ");"
   ]
  },
  {
   "cell_type": "markdown",
   "metadata": {},
   "source": [
    "Небольшие выводы по модели:\n",
    "\n",
    "* Используя только 3 числовых признака можно довольно неплохо предсказывать объем продаж\n",
    "\n",
    "* Больше проблем при предсказании высоких объемов продаж\n",
    "\n",
    "* Увеличение количества рейтингов и цены книги положительно сказывается на объеме продаж, рейтинга книги - отрицательно\n",
    "\n"
   ]
  },
  {
   "cell_type": "markdown",
   "metadata": {},
   "source": [
    "## Объединяем Pipeline Предобработки и Модель"
   ]
  },
  {
   "cell_type": "code",
   "execution_count": 28,
   "metadata": {},
   "outputs": [],
   "source": [
    "pipe_num = Pipeline([\n",
    "    ('preprocessors', preprocessors_num),\n",
    "    ('model', SGDRegressor(random_state = 42))\n",
    "])"
   ]
  },
  {
   "cell_type": "code",
   "execution_count": 29,
   "metadata": {},
   "outputs": [
    {
     "data": {
      "text/html": [
       "<style>#sk-container-id-1 {\n",
       "  /* Definition of color scheme common for light and dark mode */\n",
       "  --sklearn-color-text: black;\n",
       "  --sklearn-color-line: gray;\n",
       "  /* Definition of color scheme for unfitted estimators */\n",
       "  --sklearn-color-unfitted-level-0: #fff5e6;\n",
       "  --sklearn-color-unfitted-level-1: #f6e4d2;\n",
       "  --sklearn-color-unfitted-level-2: #ffe0b3;\n",
       "  --sklearn-color-unfitted-level-3: chocolate;\n",
       "  /* Definition of color scheme for fitted estimators */\n",
       "  --sklearn-color-fitted-level-0: #f0f8ff;\n",
       "  --sklearn-color-fitted-level-1: #d4ebff;\n",
       "  --sklearn-color-fitted-level-2: #b3dbfd;\n",
       "  --sklearn-color-fitted-level-3: cornflowerblue;\n",
       "\n",
       "  /* Specific color for light theme */\n",
       "  --sklearn-color-text-on-default-background: var(--sg-text-color, var(--theme-code-foreground, var(--jp-content-font-color1, black)));\n",
       "  --sklearn-color-background: var(--sg-background-color, var(--theme-background, var(--jp-layout-color0, white)));\n",
       "  --sklearn-color-border-box: var(--sg-text-color, var(--theme-code-foreground, var(--jp-content-font-color1, black)));\n",
       "  --sklearn-color-icon: #696969;\n",
       "\n",
       "  @media (prefers-color-scheme: dark) {\n",
       "    /* Redefinition of color scheme for dark theme */\n",
       "    --sklearn-color-text-on-default-background: var(--sg-text-color, var(--theme-code-foreground, var(--jp-content-font-color1, white)));\n",
       "    --sklearn-color-background: var(--sg-background-color, var(--theme-background, var(--jp-layout-color0, #111)));\n",
       "    --sklearn-color-border-box: var(--sg-text-color, var(--theme-code-foreground, var(--jp-content-font-color1, white)));\n",
       "    --sklearn-color-icon: #878787;\n",
       "  }\n",
       "}\n",
       "\n",
       "#sk-container-id-1 {\n",
       "  color: var(--sklearn-color-text);\n",
       "}\n",
       "\n",
       "#sk-container-id-1 pre {\n",
       "  padding: 0;\n",
       "}\n",
       "\n",
       "#sk-container-id-1 input.sk-hidden--visually {\n",
       "  border: 0;\n",
       "  clip: rect(1px 1px 1px 1px);\n",
       "  clip: rect(1px, 1px, 1px, 1px);\n",
       "  height: 1px;\n",
       "  margin: -1px;\n",
       "  overflow: hidden;\n",
       "  padding: 0;\n",
       "  position: absolute;\n",
       "  width: 1px;\n",
       "}\n",
       "\n",
       "#sk-container-id-1 div.sk-dashed-wrapped {\n",
       "  border: 1px dashed var(--sklearn-color-line);\n",
       "  margin: 0 0.4em 0.5em 0.4em;\n",
       "  box-sizing: border-box;\n",
       "  padding-bottom: 0.4em;\n",
       "  background-color: var(--sklearn-color-background);\n",
       "}\n",
       "\n",
       "#sk-container-id-1 div.sk-container {\n",
       "  /* jupyter's `normalize.less` sets `[hidden] { display: none; }`\n",
       "     but bootstrap.min.css set `[hidden] { display: none !important; }`\n",
       "     so we also need the `!important` here to be able to override the\n",
       "     default hidden behavior on the sphinx rendered scikit-learn.org.\n",
       "     See: https://github.com/scikit-learn/scikit-learn/issues/21755 */\n",
       "  display: inline-block !important;\n",
       "  position: relative;\n",
       "}\n",
       "\n",
       "#sk-container-id-1 div.sk-text-repr-fallback {\n",
       "  display: none;\n",
       "}\n",
       "\n",
       "div.sk-parallel-item,\n",
       "div.sk-serial,\n",
       "div.sk-item {\n",
       "  /* draw centered vertical line to link estimators */\n",
       "  background-image: linear-gradient(var(--sklearn-color-text-on-default-background), var(--sklearn-color-text-on-default-background));\n",
       "  background-size: 2px 100%;\n",
       "  background-repeat: no-repeat;\n",
       "  background-position: center center;\n",
       "}\n",
       "\n",
       "/* Parallel-specific style estimator block */\n",
       "\n",
       "#sk-container-id-1 div.sk-parallel-item::after {\n",
       "  content: \"\";\n",
       "  width: 100%;\n",
       "  border-bottom: 2px solid var(--sklearn-color-text-on-default-background);\n",
       "  flex-grow: 1;\n",
       "}\n",
       "\n",
       "#sk-container-id-1 div.sk-parallel {\n",
       "  display: flex;\n",
       "  align-items: stretch;\n",
       "  justify-content: center;\n",
       "  background-color: var(--sklearn-color-background);\n",
       "  position: relative;\n",
       "}\n",
       "\n",
       "#sk-container-id-1 div.sk-parallel-item {\n",
       "  display: flex;\n",
       "  flex-direction: column;\n",
       "}\n",
       "\n",
       "#sk-container-id-1 div.sk-parallel-item:first-child::after {\n",
       "  align-self: flex-end;\n",
       "  width: 50%;\n",
       "}\n",
       "\n",
       "#sk-container-id-1 div.sk-parallel-item:last-child::after {\n",
       "  align-self: flex-start;\n",
       "  width: 50%;\n",
       "}\n",
       "\n",
       "#sk-container-id-1 div.sk-parallel-item:only-child::after {\n",
       "  width: 0;\n",
       "}\n",
       "\n",
       "/* Serial-specific style estimator block */\n",
       "\n",
       "#sk-container-id-1 div.sk-serial {\n",
       "  display: flex;\n",
       "  flex-direction: column;\n",
       "  align-items: center;\n",
       "  background-color: var(--sklearn-color-background);\n",
       "  padding-right: 1em;\n",
       "  padding-left: 1em;\n",
       "}\n",
       "\n",
       "\n",
       "/* Toggleable style: style used for estimator/Pipeline/ColumnTransformer box that is\n",
       "clickable and can be expanded/collapsed.\n",
       "- Pipeline and ColumnTransformer use this feature and define the default style\n",
       "- Estimators will overwrite some part of the style using the `sk-estimator` class\n",
       "*/\n",
       "\n",
       "/* Pipeline and ColumnTransformer style (default) */\n",
       "\n",
       "#sk-container-id-1 div.sk-toggleable {\n",
       "  /* Default theme specific background. It is overwritten whether we have a\n",
       "  specific estimator or a Pipeline/ColumnTransformer */\n",
       "  background-color: var(--sklearn-color-background);\n",
       "}\n",
       "\n",
       "/* Toggleable label */\n",
       "#sk-container-id-1 label.sk-toggleable__label {\n",
       "  cursor: pointer;\n",
       "  display: block;\n",
       "  width: 100%;\n",
       "  margin-bottom: 0;\n",
       "  padding: 0.5em;\n",
       "  box-sizing: border-box;\n",
       "  text-align: center;\n",
       "}\n",
       "\n",
       "#sk-container-id-1 label.sk-toggleable__label-arrow:before {\n",
       "  /* Arrow on the left of the label */\n",
       "  content: \"▸\";\n",
       "  float: left;\n",
       "  margin-right: 0.25em;\n",
       "  color: var(--sklearn-color-icon);\n",
       "}\n",
       "\n",
       "#sk-container-id-1 label.sk-toggleable__label-arrow:hover:before {\n",
       "  color: var(--sklearn-color-text);\n",
       "}\n",
       "\n",
       "/* Toggleable content - dropdown */\n",
       "\n",
       "#sk-container-id-1 div.sk-toggleable__content {\n",
       "  max-height: 0;\n",
       "  max-width: 0;\n",
       "  overflow: hidden;\n",
       "  text-align: left;\n",
       "  /* unfitted */\n",
       "  background-color: var(--sklearn-color-unfitted-level-0);\n",
       "}\n",
       "\n",
       "#sk-container-id-1 div.sk-toggleable__content.fitted {\n",
       "  /* fitted */\n",
       "  background-color: var(--sklearn-color-fitted-level-0);\n",
       "}\n",
       "\n",
       "#sk-container-id-1 div.sk-toggleable__content pre {\n",
       "  margin: 0.2em;\n",
       "  border-radius: 0.25em;\n",
       "  color: var(--sklearn-color-text);\n",
       "  /* unfitted */\n",
       "  background-color: var(--sklearn-color-unfitted-level-0);\n",
       "}\n",
       "\n",
       "#sk-container-id-1 div.sk-toggleable__content.fitted pre {\n",
       "  /* unfitted */\n",
       "  background-color: var(--sklearn-color-fitted-level-0);\n",
       "}\n",
       "\n",
       "#sk-container-id-1 input.sk-toggleable__control:checked~div.sk-toggleable__content {\n",
       "  /* Expand drop-down */\n",
       "  max-height: 200px;\n",
       "  max-width: 100%;\n",
       "  overflow: auto;\n",
       "}\n",
       "\n",
       "#sk-container-id-1 input.sk-toggleable__control:checked~label.sk-toggleable__label-arrow:before {\n",
       "  content: \"▾\";\n",
       "}\n",
       "\n",
       "/* Pipeline/ColumnTransformer-specific style */\n",
       "\n",
       "#sk-container-id-1 div.sk-label input.sk-toggleable__control:checked~label.sk-toggleable__label {\n",
       "  color: var(--sklearn-color-text);\n",
       "  background-color: var(--sklearn-color-unfitted-level-2);\n",
       "}\n",
       "\n",
       "#sk-container-id-1 div.sk-label.fitted input.sk-toggleable__control:checked~label.sk-toggleable__label {\n",
       "  background-color: var(--sklearn-color-fitted-level-2);\n",
       "}\n",
       "\n",
       "/* Estimator-specific style */\n",
       "\n",
       "/* Colorize estimator box */\n",
       "#sk-container-id-1 div.sk-estimator input.sk-toggleable__control:checked~label.sk-toggleable__label {\n",
       "  /* unfitted */\n",
       "  background-color: var(--sklearn-color-unfitted-level-2);\n",
       "}\n",
       "\n",
       "#sk-container-id-1 div.sk-estimator.fitted input.sk-toggleable__control:checked~label.sk-toggleable__label {\n",
       "  /* fitted */\n",
       "  background-color: var(--sklearn-color-fitted-level-2);\n",
       "}\n",
       "\n",
       "#sk-container-id-1 div.sk-label label.sk-toggleable__label,\n",
       "#sk-container-id-1 div.sk-label label {\n",
       "  /* The background is the default theme color */\n",
       "  color: var(--sklearn-color-text-on-default-background);\n",
       "}\n",
       "\n",
       "/* On hover, darken the color of the background */\n",
       "#sk-container-id-1 div.sk-label:hover label.sk-toggleable__label {\n",
       "  color: var(--sklearn-color-text);\n",
       "  background-color: var(--sklearn-color-unfitted-level-2);\n",
       "}\n",
       "\n",
       "/* Label box, darken color on hover, fitted */\n",
       "#sk-container-id-1 div.sk-label.fitted:hover label.sk-toggleable__label.fitted {\n",
       "  color: var(--sklearn-color-text);\n",
       "  background-color: var(--sklearn-color-fitted-level-2);\n",
       "}\n",
       "\n",
       "/* Estimator label */\n",
       "\n",
       "#sk-container-id-1 div.sk-label label {\n",
       "  font-family: monospace;\n",
       "  font-weight: bold;\n",
       "  display: inline-block;\n",
       "  line-height: 1.2em;\n",
       "}\n",
       "\n",
       "#sk-container-id-1 div.sk-label-container {\n",
       "  text-align: center;\n",
       "}\n",
       "\n",
       "/* Estimator-specific */\n",
       "#sk-container-id-1 div.sk-estimator {\n",
       "  font-family: monospace;\n",
       "  border: 1px dotted var(--sklearn-color-border-box);\n",
       "  border-radius: 0.25em;\n",
       "  box-sizing: border-box;\n",
       "  margin-bottom: 0.5em;\n",
       "  /* unfitted */\n",
       "  background-color: var(--sklearn-color-unfitted-level-0);\n",
       "}\n",
       "\n",
       "#sk-container-id-1 div.sk-estimator.fitted {\n",
       "  /* fitted */\n",
       "  background-color: var(--sklearn-color-fitted-level-0);\n",
       "}\n",
       "\n",
       "/* on hover */\n",
       "#sk-container-id-1 div.sk-estimator:hover {\n",
       "  /* unfitted */\n",
       "  background-color: var(--sklearn-color-unfitted-level-2);\n",
       "}\n",
       "\n",
       "#sk-container-id-1 div.sk-estimator.fitted:hover {\n",
       "  /* fitted */\n",
       "  background-color: var(--sklearn-color-fitted-level-2);\n",
       "}\n",
       "\n",
       "/* Specification for estimator info (e.g. \"i\" and \"?\") */\n",
       "\n",
       "/* Common style for \"i\" and \"?\" */\n",
       "\n",
       ".sk-estimator-doc-link,\n",
       "a:link.sk-estimator-doc-link,\n",
       "a:visited.sk-estimator-doc-link {\n",
       "  float: right;\n",
       "  font-size: smaller;\n",
       "  line-height: 1em;\n",
       "  font-family: monospace;\n",
       "  background-color: var(--sklearn-color-background);\n",
       "  border-radius: 1em;\n",
       "  height: 1em;\n",
       "  width: 1em;\n",
       "  text-decoration: none !important;\n",
       "  margin-left: 1ex;\n",
       "  /* unfitted */\n",
       "  border: var(--sklearn-color-unfitted-level-1) 1pt solid;\n",
       "  color: var(--sklearn-color-unfitted-level-1);\n",
       "}\n",
       "\n",
       ".sk-estimator-doc-link.fitted,\n",
       "a:link.sk-estimator-doc-link.fitted,\n",
       "a:visited.sk-estimator-doc-link.fitted {\n",
       "  /* fitted */\n",
       "  border: var(--sklearn-color-fitted-level-1) 1pt solid;\n",
       "  color: var(--sklearn-color-fitted-level-1);\n",
       "}\n",
       "\n",
       "/* On hover */\n",
       "div.sk-estimator:hover .sk-estimator-doc-link:hover,\n",
       ".sk-estimator-doc-link:hover,\n",
       "div.sk-label-container:hover .sk-estimator-doc-link:hover,\n",
       ".sk-estimator-doc-link:hover {\n",
       "  /* unfitted */\n",
       "  background-color: var(--sklearn-color-unfitted-level-3);\n",
       "  color: var(--sklearn-color-background);\n",
       "  text-decoration: none;\n",
       "}\n",
       "\n",
       "div.sk-estimator.fitted:hover .sk-estimator-doc-link.fitted:hover,\n",
       ".sk-estimator-doc-link.fitted:hover,\n",
       "div.sk-label-container:hover .sk-estimator-doc-link.fitted:hover,\n",
       ".sk-estimator-doc-link.fitted:hover {\n",
       "  /* fitted */\n",
       "  background-color: var(--sklearn-color-fitted-level-3);\n",
       "  color: var(--sklearn-color-background);\n",
       "  text-decoration: none;\n",
       "}\n",
       "\n",
       "/* Span, style for the box shown on hovering the info icon */\n",
       ".sk-estimator-doc-link span {\n",
       "  display: none;\n",
       "  z-index: 9999;\n",
       "  position: relative;\n",
       "  font-weight: normal;\n",
       "  right: .2ex;\n",
       "  padding: .5ex;\n",
       "  margin: .5ex;\n",
       "  width: min-content;\n",
       "  min-width: 20ex;\n",
       "  max-width: 50ex;\n",
       "  color: var(--sklearn-color-text);\n",
       "  box-shadow: 2pt 2pt 4pt #999;\n",
       "  /* unfitted */\n",
       "  background: var(--sklearn-color-unfitted-level-0);\n",
       "  border: .5pt solid var(--sklearn-color-unfitted-level-3);\n",
       "}\n",
       "\n",
       ".sk-estimator-doc-link.fitted span {\n",
       "  /* fitted */\n",
       "  background: var(--sklearn-color-fitted-level-0);\n",
       "  border: var(--sklearn-color-fitted-level-3);\n",
       "}\n",
       "\n",
       ".sk-estimator-doc-link:hover span {\n",
       "  display: block;\n",
       "}\n",
       "\n",
       "/* \"?\"-specific style due to the `<a>` HTML tag */\n",
       "\n",
       "#sk-container-id-1 a.estimator_doc_link {\n",
       "  float: right;\n",
       "  font-size: 1rem;\n",
       "  line-height: 1em;\n",
       "  font-family: monospace;\n",
       "  background-color: var(--sklearn-color-background);\n",
       "  border-radius: 1rem;\n",
       "  height: 1rem;\n",
       "  width: 1rem;\n",
       "  text-decoration: none;\n",
       "  /* unfitted */\n",
       "  color: var(--sklearn-color-unfitted-level-1);\n",
       "  border: var(--sklearn-color-unfitted-level-1) 1pt solid;\n",
       "}\n",
       "\n",
       "#sk-container-id-1 a.estimator_doc_link.fitted {\n",
       "  /* fitted */\n",
       "  border: var(--sklearn-color-fitted-level-1) 1pt solid;\n",
       "  color: var(--sklearn-color-fitted-level-1);\n",
       "}\n",
       "\n",
       "/* On hover */\n",
       "#sk-container-id-1 a.estimator_doc_link:hover {\n",
       "  /* unfitted */\n",
       "  background-color: var(--sklearn-color-unfitted-level-3);\n",
       "  color: var(--sklearn-color-background);\n",
       "  text-decoration: none;\n",
       "}\n",
       "\n",
       "#sk-container-id-1 a.estimator_doc_link.fitted:hover {\n",
       "  /* fitted */\n",
       "  background-color: var(--sklearn-color-fitted-level-3);\n",
       "}\n",
       "</style><div id=\"sk-container-id-1\" class=\"sk-top-container\"><div class=\"sk-text-repr-fallback\"><pre>SGDRegressor(random_state=42)</pre><b>In a Jupyter environment, please rerun this cell to show the HTML representation or trust the notebook. <br />On GitHub, the HTML representation is unable to render, please try loading this page with nbviewer.org.</b></div><div class=\"sk-container\" hidden><div class=\"sk-item\"><div class=\"sk-estimator  sk-toggleable\"><input class=\"sk-toggleable__control sk-hidden--visually\" id=\"sk-estimator-id-1\" type=\"checkbox\" checked><label for=\"sk-estimator-id-1\" class=\"sk-toggleable__label  sk-toggleable__label-arrow \">&nbsp;&nbsp;SGDRegressor<a class=\"sk-estimator-doc-link \" rel=\"noreferrer\" target=\"_blank\" href=\"https://scikit-learn.org/1.4/modules/generated/sklearn.linear_model.SGDRegressor.html\">?<span>Documentation for SGDRegressor</span></a><span class=\"sk-estimator-doc-link \">i<span>Not fitted</span></span></label><div class=\"sk-toggleable__content \"><pre>SGDRegressor(random_state=42)</pre></div> </div></div></div></div>"
      ],
      "text/plain": [
       "SGDRegressor(random_state=42)"
      ]
     },
     "execution_count": 29,
     "metadata": {},
     "output_type": "execute_result"
    }
   ],
   "source": [
    "pipe_num['model']"
   ]
  },
  {
   "cell_type": "code",
   "execution_count": 30,
   "metadata": {},
   "outputs": [
    {
     "data": {
      "text/html": [
       "<style>#sk-container-id-2 {\n",
       "  /* Definition of color scheme common for light and dark mode */\n",
       "  --sklearn-color-text: black;\n",
       "  --sklearn-color-line: gray;\n",
       "  /* Definition of color scheme for unfitted estimators */\n",
       "  --sklearn-color-unfitted-level-0: #fff5e6;\n",
       "  --sklearn-color-unfitted-level-1: #f6e4d2;\n",
       "  --sklearn-color-unfitted-level-2: #ffe0b3;\n",
       "  --sklearn-color-unfitted-level-3: chocolate;\n",
       "  /* Definition of color scheme for fitted estimators */\n",
       "  --sklearn-color-fitted-level-0: #f0f8ff;\n",
       "  --sklearn-color-fitted-level-1: #d4ebff;\n",
       "  --sklearn-color-fitted-level-2: #b3dbfd;\n",
       "  --sklearn-color-fitted-level-3: cornflowerblue;\n",
       "\n",
       "  /* Specific color for light theme */\n",
       "  --sklearn-color-text-on-default-background: var(--sg-text-color, var(--theme-code-foreground, var(--jp-content-font-color1, black)));\n",
       "  --sklearn-color-background: var(--sg-background-color, var(--theme-background, var(--jp-layout-color0, white)));\n",
       "  --sklearn-color-border-box: var(--sg-text-color, var(--theme-code-foreground, var(--jp-content-font-color1, black)));\n",
       "  --sklearn-color-icon: #696969;\n",
       "\n",
       "  @media (prefers-color-scheme: dark) {\n",
       "    /* Redefinition of color scheme for dark theme */\n",
       "    --sklearn-color-text-on-default-background: var(--sg-text-color, var(--theme-code-foreground, var(--jp-content-font-color1, white)));\n",
       "    --sklearn-color-background: var(--sg-background-color, var(--theme-background, var(--jp-layout-color0, #111)));\n",
       "    --sklearn-color-border-box: var(--sg-text-color, var(--theme-code-foreground, var(--jp-content-font-color1, white)));\n",
       "    --sklearn-color-icon: #878787;\n",
       "  }\n",
       "}\n",
       "\n",
       "#sk-container-id-2 {\n",
       "  color: var(--sklearn-color-text);\n",
       "}\n",
       "\n",
       "#sk-container-id-2 pre {\n",
       "  padding: 0;\n",
       "}\n",
       "\n",
       "#sk-container-id-2 input.sk-hidden--visually {\n",
       "  border: 0;\n",
       "  clip: rect(1px 1px 1px 1px);\n",
       "  clip: rect(1px, 1px, 1px, 1px);\n",
       "  height: 1px;\n",
       "  margin: -1px;\n",
       "  overflow: hidden;\n",
       "  padding: 0;\n",
       "  position: absolute;\n",
       "  width: 1px;\n",
       "}\n",
       "\n",
       "#sk-container-id-2 div.sk-dashed-wrapped {\n",
       "  border: 1px dashed var(--sklearn-color-line);\n",
       "  margin: 0 0.4em 0.5em 0.4em;\n",
       "  box-sizing: border-box;\n",
       "  padding-bottom: 0.4em;\n",
       "  background-color: var(--sklearn-color-background);\n",
       "}\n",
       "\n",
       "#sk-container-id-2 div.sk-container {\n",
       "  /* jupyter's `normalize.less` sets `[hidden] { display: none; }`\n",
       "     but bootstrap.min.css set `[hidden] { display: none !important; }`\n",
       "     so we also need the `!important` here to be able to override the\n",
       "     default hidden behavior on the sphinx rendered scikit-learn.org.\n",
       "     See: https://github.com/scikit-learn/scikit-learn/issues/21755 */\n",
       "  display: inline-block !important;\n",
       "  position: relative;\n",
       "}\n",
       "\n",
       "#sk-container-id-2 div.sk-text-repr-fallback {\n",
       "  display: none;\n",
       "}\n",
       "\n",
       "div.sk-parallel-item,\n",
       "div.sk-serial,\n",
       "div.sk-item {\n",
       "  /* draw centered vertical line to link estimators */\n",
       "  background-image: linear-gradient(var(--sklearn-color-text-on-default-background), var(--sklearn-color-text-on-default-background));\n",
       "  background-size: 2px 100%;\n",
       "  background-repeat: no-repeat;\n",
       "  background-position: center center;\n",
       "}\n",
       "\n",
       "/* Parallel-specific style estimator block */\n",
       "\n",
       "#sk-container-id-2 div.sk-parallel-item::after {\n",
       "  content: \"\";\n",
       "  width: 100%;\n",
       "  border-bottom: 2px solid var(--sklearn-color-text-on-default-background);\n",
       "  flex-grow: 1;\n",
       "}\n",
       "\n",
       "#sk-container-id-2 div.sk-parallel {\n",
       "  display: flex;\n",
       "  align-items: stretch;\n",
       "  justify-content: center;\n",
       "  background-color: var(--sklearn-color-background);\n",
       "  position: relative;\n",
       "}\n",
       "\n",
       "#sk-container-id-2 div.sk-parallel-item {\n",
       "  display: flex;\n",
       "  flex-direction: column;\n",
       "}\n",
       "\n",
       "#sk-container-id-2 div.sk-parallel-item:first-child::after {\n",
       "  align-self: flex-end;\n",
       "  width: 50%;\n",
       "}\n",
       "\n",
       "#sk-container-id-2 div.sk-parallel-item:last-child::after {\n",
       "  align-self: flex-start;\n",
       "  width: 50%;\n",
       "}\n",
       "\n",
       "#sk-container-id-2 div.sk-parallel-item:only-child::after {\n",
       "  width: 0;\n",
       "}\n",
       "\n",
       "/* Serial-specific style estimator block */\n",
       "\n",
       "#sk-container-id-2 div.sk-serial {\n",
       "  display: flex;\n",
       "  flex-direction: column;\n",
       "  align-items: center;\n",
       "  background-color: var(--sklearn-color-background);\n",
       "  padding-right: 1em;\n",
       "  padding-left: 1em;\n",
       "}\n",
       "\n",
       "\n",
       "/* Toggleable style: style used for estimator/Pipeline/ColumnTransformer box that is\n",
       "clickable and can be expanded/collapsed.\n",
       "- Pipeline and ColumnTransformer use this feature and define the default style\n",
       "- Estimators will overwrite some part of the style using the `sk-estimator` class\n",
       "*/\n",
       "\n",
       "/* Pipeline and ColumnTransformer style (default) */\n",
       "\n",
       "#sk-container-id-2 div.sk-toggleable {\n",
       "  /* Default theme specific background. It is overwritten whether we have a\n",
       "  specific estimator or a Pipeline/ColumnTransformer */\n",
       "  background-color: var(--sklearn-color-background);\n",
       "}\n",
       "\n",
       "/* Toggleable label */\n",
       "#sk-container-id-2 label.sk-toggleable__label {\n",
       "  cursor: pointer;\n",
       "  display: block;\n",
       "  width: 100%;\n",
       "  margin-bottom: 0;\n",
       "  padding: 0.5em;\n",
       "  box-sizing: border-box;\n",
       "  text-align: center;\n",
       "}\n",
       "\n",
       "#sk-container-id-2 label.sk-toggleable__label-arrow:before {\n",
       "  /* Arrow on the left of the label */\n",
       "  content: \"▸\";\n",
       "  float: left;\n",
       "  margin-right: 0.25em;\n",
       "  color: var(--sklearn-color-icon);\n",
       "}\n",
       "\n",
       "#sk-container-id-2 label.sk-toggleable__label-arrow:hover:before {\n",
       "  color: var(--sklearn-color-text);\n",
       "}\n",
       "\n",
       "/* Toggleable content - dropdown */\n",
       "\n",
       "#sk-container-id-2 div.sk-toggleable__content {\n",
       "  max-height: 0;\n",
       "  max-width: 0;\n",
       "  overflow: hidden;\n",
       "  text-align: left;\n",
       "  /* unfitted */\n",
       "  background-color: var(--sklearn-color-unfitted-level-0);\n",
       "}\n",
       "\n",
       "#sk-container-id-2 div.sk-toggleable__content.fitted {\n",
       "  /* fitted */\n",
       "  background-color: var(--sklearn-color-fitted-level-0);\n",
       "}\n",
       "\n",
       "#sk-container-id-2 div.sk-toggleable__content pre {\n",
       "  margin: 0.2em;\n",
       "  border-radius: 0.25em;\n",
       "  color: var(--sklearn-color-text);\n",
       "  /* unfitted */\n",
       "  background-color: var(--sklearn-color-unfitted-level-0);\n",
       "}\n",
       "\n",
       "#sk-container-id-2 div.sk-toggleable__content.fitted pre {\n",
       "  /* unfitted */\n",
       "  background-color: var(--sklearn-color-fitted-level-0);\n",
       "}\n",
       "\n",
       "#sk-container-id-2 input.sk-toggleable__control:checked~div.sk-toggleable__content {\n",
       "  /* Expand drop-down */\n",
       "  max-height: 200px;\n",
       "  max-width: 100%;\n",
       "  overflow: auto;\n",
       "}\n",
       "\n",
       "#sk-container-id-2 input.sk-toggleable__control:checked~label.sk-toggleable__label-arrow:before {\n",
       "  content: \"▾\";\n",
       "}\n",
       "\n",
       "/* Pipeline/ColumnTransformer-specific style */\n",
       "\n",
       "#sk-container-id-2 div.sk-label input.sk-toggleable__control:checked~label.sk-toggleable__label {\n",
       "  color: var(--sklearn-color-text);\n",
       "  background-color: var(--sklearn-color-unfitted-level-2);\n",
       "}\n",
       "\n",
       "#sk-container-id-2 div.sk-label.fitted input.sk-toggleable__control:checked~label.sk-toggleable__label {\n",
       "  background-color: var(--sklearn-color-fitted-level-2);\n",
       "}\n",
       "\n",
       "/* Estimator-specific style */\n",
       "\n",
       "/* Colorize estimator box */\n",
       "#sk-container-id-2 div.sk-estimator input.sk-toggleable__control:checked~label.sk-toggleable__label {\n",
       "  /* unfitted */\n",
       "  background-color: var(--sklearn-color-unfitted-level-2);\n",
       "}\n",
       "\n",
       "#sk-container-id-2 div.sk-estimator.fitted input.sk-toggleable__control:checked~label.sk-toggleable__label {\n",
       "  /* fitted */\n",
       "  background-color: var(--sklearn-color-fitted-level-2);\n",
       "}\n",
       "\n",
       "#sk-container-id-2 div.sk-label label.sk-toggleable__label,\n",
       "#sk-container-id-2 div.sk-label label {\n",
       "  /* The background is the default theme color */\n",
       "  color: var(--sklearn-color-text-on-default-background);\n",
       "}\n",
       "\n",
       "/* On hover, darken the color of the background */\n",
       "#sk-container-id-2 div.sk-label:hover label.sk-toggleable__label {\n",
       "  color: var(--sklearn-color-text);\n",
       "  background-color: var(--sklearn-color-unfitted-level-2);\n",
       "}\n",
       "\n",
       "/* Label box, darken color on hover, fitted */\n",
       "#sk-container-id-2 div.sk-label.fitted:hover label.sk-toggleable__label.fitted {\n",
       "  color: var(--sklearn-color-text);\n",
       "  background-color: var(--sklearn-color-fitted-level-2);\n",
       "}\n",
       "\n",
       "/* Estimator label */\n",
       "\n",
       "#sk-container-id-2 div.sk-label label {\n",
       "  font-family: monospace;\n",
       "  font-weight: bold;\n",
       "  display: inline-block;\n",
       "  line-height: 1.2em;\n",
       "}\n",
       "\n",
       "#sk-container-id-2 div.sk-label-container {\n",
       "  text-align: center;\n",
       "}\n",
       "\n",
       "/* Estimator-specific */\n",
       "#sk-container-id-2 div.sk-estimator {\n",
       "  font-family: monospace;\n",
       "  border: 1px dotted var(--sklearn-color-border-box);\n",
       "  border-radius: 0.25em;\n",
       "  box-sizing: border-box;\n",
       "  margin-bottom: 0.5em;\n",
       "  /* unfitted */\n",
       "  background-color: var(--sklearn-color-unfitted-level-0);\n",
       "}\n",
       "\n",
       "#sk-container-id-2 div.sk-estimator.fitted {\n",
       "  /* fitted */\n",
       "  background-color: var(--sklearn-color-fitted-level-0);\n",
       "}\n",
       "\n",
       "/* on hover */\n",
       "#sk-container-id-2 div.sk-estimator:hover {\n",
       "  /* unfitted */\n",
       "  background-color: var(--sklearn-color-unfitted-level-2);\n",
       "}\n",
       "\n",
       "#sk-container-id-2 div.sk-estimator.fitted:hover {\n",
       "  /* fitted */\n",
       "  background-color: var(--sklearn-color-fitted-level-2);\n",
       "}\n",
       "\n",
       "/* Specification for estimator info (e.g. \"i\" and \"?\") */\n",
       "\n",
       "/* Common style for \"i\" and \"?\" */\n",
       "\n",
       ".sk-estimator-doc-link,\n",
       "a:link.sk-estimator-doc-link,\n",
       "a:visited.sk-estimator-doc-link {\n",
       "  float: right;\n",
       "  font-size: smaller;\n",
       "  line-height: 1em;\n",
       "  font-family: monospace;\n",
       "  background-color: var(--sklearn-color-background);\n",
       "  border-radius: 1em;\n",
       "  height: 1em;\n",
       "  width: 1em;\n",
       "  text-decoration: none !important;\n",
       "  margin-left: 1ex;\n",
       "  /* unfitted */\n",
       "  border: var(--sklearn-color-unfitted-level-1) 1pt solid;\n",
       "  color: var(--sklearn-color-unfitted-level-1);\n",
       "}\n",
       "\n",
       ".sk-estimator-doc-link.fitted,\n",
       "a:link.sk-estimator-doc-link.fitted,\n",
       "a:visited.sk-estimator-doc-link.fitted {\n",
       "  /* fitted */\n",
       "  border: var(--sklearn-color-fitted-level-1) 1pt solid;\n",
       "  color: var(--sklearn-color-fitted-level-1);\n",
       "}\n",
       "\n",
       "/* On hover */\n",
       "div.sk-estimator:hover .sk-estimator-doc-link:hover,\n",
       ".sk-estimator-doc-link:hover,\n",
       "div.sk-label-container:hover .sk-estimator-doc-link:hover,\n",
       ".sk-estimator-doc-link:hover {\n",
       "  /* unfitted */\n",
       "  background-color: var(--sklearn-color-unfitted-level-3);\n",
       "  color: var(--sklearn-color-background);\n",
       "  text-decoration: none;\n",
       "}\n",
       "\n",
       "div.sk-estimator.fitted:hover .sk-estimator-doc-link.fitted:hover,\n",
       ".sk-estimator-doc-link.fitted:hover,\n",
       "div.sk-label-container:hover .sk-estimator-doc-link.fitted:hover,\n",
       ".sk-estimator-doc-link.fitted:hover {\n",
       "  /* fitted */\n",
       "  background-color: var(--sklearn-color-fitted-level-3);\n",
       "  color: var(--sklearn-color-background);\n",
       "  text-decoration: none;\n",
       "}\n",
       "\n",
       "/* Span, style for the box shown on hovering the info icon */\n",
       ".sk-estimator-doc-link span {\n",
       "  display: none;\n",
       "  z-index: 9999;\n",
       "  position: relative;\n",
       "  font-weight: normal;\n",
       "  right: .2ex;\n",
       "  padding: .5ex;\n",
       "  margin: .5ex;\n",
       "  width: min-content;\n",
       "  min-width: 20ex;\n",
       "  max-width: 50ex;\n",
       "  color: var(--sklearn-color-text);\n",
       "  box-shadow: 2pt 2pt 4pt #999;\n",
       "  /* unfitted */\n",
       "  background: var(--sklearn-color-unfitted-level-0);\n",
       "  border: .5pt solid var(--sklearn-color-unfitted-level-3);\n",
       "}\n",
       "\n",
       ".sk-estimator-doc-link.fitted span {\n",
       "  /* fitted */\n",
       "  background: var(--sklearn-color-fitted-level-0);\n",
       "  border: var(--sklearn-color-fitted-level-3);\n",
       "}\n",
       "\n",
       ".sk-estimator-doc-link:hover span {\n",
       "  display: block;\n",
       "}\n",
       "\n",
       "/* \"?\"-specific style due to the `<a>` HTML tag */\n",
       "\n",
       "#sk-container-id-2 a.estimator_doc_link {\n",
       "  float: right;\n",
       "  font-size: 1rem;\n",
       "  line-height: 1em;\n",
       "  font-family: monospace;\n",
       "  background-color: var(--sklearn-color-background);\n",
       "  border-radius: 1rem;\n",
       "  height: 1rem;\n",
       "  width: 1rem;\n",
       "  text-decoration: none;\n",
       "  /* unfitted */\n",
       "  color: var(--sklearn-color-unfitted-level-1);\n",
       "  border: var(--sklearn-color-unfitted-level-1) 1pt solid;\n",
       "}\n",
       "\n",
       "#sk-container-id-2 a.estimator_doc_link.fitted {\n",
       "  /* fitted */\n",
       "  border: var(--sklearn-color-fitted-level-1) 1pt solid;\n",
       "  color: var(--sklearn-color-fitted-level-1);\n",
       "}\n",
       "\n",
       "/* On hover */\n",
       "#sk-container-id-2 a.estimator_doc_link:hover {\n",
       "  /* unfitted */\n",
       "  background-color: var(--sklearn-color-unfitted-level-3);\n",
       "  color: var(--sklearn-color-background);\n",
       "  text-decoration: none;\n",
       "}\n",
       "\n",
       "#sk-container-id-2 a.estimator_doc_link.fitted:hover {\n",
       "  /* fitted */\n",
       "  background-color: var(--sklearn-color-fitted-level-3);\n",
       "}\n",
       "</style><div id=\"sk-container-id-2\" class=\"sk-top-container\"><div class=\"sk-text-repr-fallback\"><pre>Pipeline(steps=[(&#x27;preprocessors&#x27;,\n",
       "                 ColumnTransformer(transformers=[(&#x27;num&#x27;,\n",
       "                                                  Pipeline(steps=[(&#x27;QuantReplace&#x27;,\n",
       "                                                                   QuantileReplacer(threshold=0.01)),\n",
       "                                                                  (&#x27;norm&#x27;,\n",
       "                                                                   MinMaxScaler())]),\n",
       "                                                  [&#x27;Age&#x27;, &#x27;Book_average_rating&#x27;,\n",
       "                                                   &#x27;Book_ratings_count&#x27;,\n",
       "                                                   &#x27;sale price&#x27;])])),\n",
       "                (&#x27;model&#x27;, SGDRegressor(random_state=42))])</pre><b>In a Jupyter environment, please rerun this cell to show the HTML representation or trust the notebook. <br />On GitHub, the HTML representation is unable to render, please try loading this page with nbviewer.org.</b></div><div class=\"sk-container\" hidden><div class=\"sk-item sk-dashed-wrapped\"><div class=\"sk-label-container\"><div class=\"sk-label fitted sk-toggleable\"><input class=\"sk-toggleable__control sk-hidden--visually\" id=\"sk-estimator-id-2\" type=\"checkbox\" ><label for=\"sk-estimator-id-2\" class=\"sk-toggleable__label fitted sk-toggleable__label-arrow fitted\">&nbsp;&nbsp;Pipeline<a class=\"sk-estimator-doc-link fitted\" rel=\"noreferrer\" target=\"_blank\" href=\"https://scikit-learn.org/1.4/modules/generated/sklearn.pipeline.Pipeline.html\">?<span>Documentation for Pipeline</span></a><span class=\"sk-estimator-doc-link fitted\">i<span>Fitted</span></span></label><div class=\"sk-toggleable__content fitted\"><pre>Pipeline(steps=[(&#x27;preprocessors&#x27;,\n",
       "                 ColumnTransformer(transformers=[(&#x27;num&#x27;,\n",
       "                                                  Pipeline(steps=[(&#x27;QuantReplace&#x27;,\n",
       "                                                                   QuantileReplacer(threshold=0.01)),\n",
       "                                                                  (&#x27;norm&#x27;,\n",
       "                                                                   MinMaxScaler())]),\n",
       "                                                  [&#x27;Age&#x27;, &#x27;Book_average_rating&#x27;,\n",
       "                                                   &#x27;Book_ratings_count&#x27;,\n",
       "                                                   &#x27;sale price&#x27;])])),\n",
       "                (&#x27;model&#x27;, SGDRegressor(random_state=42))])</pre></div> </div></div><div class=\"sk-serial\"><div class=\"sk-item sk-dashed-wrapped\"><div class=\"sk-label-container\"><div class=\"sk-label fitted sk-toggleable\"><input class=\"sk-toggleable__control sk-hidden--visually\" id=\"sk-estimator-id-3\" type=\"checkbox\" ><label for=\"sk-estimator-id-3\" class=\"sk-toggleable__label fitted sk-toggleable__label-arrow fitted\">&nbsp;preprocessors: ColumnTransformer<a class=\"sk-estimator-doc-link fitted\" rel=\"noreferrer\" target=\"_blank\" href=\"https://scikit-learn.org/1.4/modules/generated/sklearn.compose.ColumnTransformer.html\">?<span>Documentation for preprocessors: ColumnTransformer</span></a></label><div class=\"sk-toggleable__content fitted\"><pre>ColumnTransformer(transformers=[(&#x27;num&#x27;,\n",
       "                                 Pipeline(steps=[(&#x27;QuantReplace&#x27;,\n",
       "                                                  QuantileReplacer(threshold=0.01)),\n",
       "                                                 (&#x27;norm&#x27;, MinMaxScaler())]),\n",
       "                                 [&#x27;Age&#x27;, &#x27;Book_average_rating&#x27;,\n",
       "                                  &#x27;Book_ratings_count&#x27;, &#x27;sale price&#x27;])])</pre></div> </div></div><div class=\"sk-parallel\"><div class=\"sk-parallel-item\"><div class=\"sk-item\"><div class=\"sk-label-container\"><div class=\"sk-label fitted sk-toggleable\"><input class=\"sk-toggleable__control sk-hidden--visually\" id=\"sk-estimator-id-4\" type=\"checkbox\" ><label for=\"sk-estimator-id-4\" class=\"sk-toggleable__label fitted sk-toggleable__label-arrow fitted\">num</label><div class=\"sk-toggleable__content fitted\"><pre>[&#x27;Age&#x27;, &#x27;Book_average_rating&#x27;, &#x27;Book_ratings_count&#x27;, &#x27;sale price&#x27;]</pre></div> </div></div><div class=\"sk-serial\"><div class=\"sk-item\"><div class=\"sk-serial\"><div class=\"sk-item\"><div class=\"sk-estimator fitted sk-toggleable\"><input class=\"sk-toggleable__control sk-hidden--visually\" id=\"sk-estimator-id-5\" type=\"checkbox\" ><label for=\"sk-estimator-id-5\" class=\"sk-toggleable__label fitted sk-toggleable__label-arrow fitted\">QuantileReplacer</label><div class=\"sk-toggleable__content fitted\"><pre>QuantileReplacer(threshold=0.01)</pre></div> </div></div><div class=\"sk-item\"><div class=\"sk-estimator fitted sk-toggleable\"><input class=\"sk-toggleable__control sk-hidden--visually\" id=\"sk-estimator-id-6\" type=\"checkbox\" ><label for=\"sk-estimator-id-6\" class=\"sk-toggleable__label fitted sk-toggleable__label-arrow fitted\">&nbsp;MinMaxScaler<a class=\"sk-estimator-doc-link fitted\" rel=\"noreferrer\" target=\"_blank\" href=\"https://scikit-learn.org/1.4/modules/generated/sklearn.preprocessing.MinMaxScaler.html\">?<span>Documentation for MinMaxScaler</span></a></label><div class=\"sk-toggleable__content fitted\"><pre>MinMaxScaler()</pre></div> </div></div></div></div></div></div></div></div></div><div class=\"sk-item\"><div class=\"sk-estimator fitted sk-toggleable\"><input class=\"sk-toggleable__control sk-hidden--visually\" id=\"sk-estimator-id-7\" type=\"checkbox\" ><label for=\"sk-estimator-id-7\" class=\"sk-toggleable__label fitted sk-toggleable__label-arrow fitted\">&nbsp;SGDRegressor<a class=\"sk-estimator-doc-link fitted\" rel=\"noreferrer\" target=\"_blank\" href=\"https://scikit-learn.org/1.4/modules/generated/sklearn.linear_model.SGDRegressor.html\">?<span>Documentation for SGDRegressor</span></a></label><div class=\"sk-toggleable__content fitted\"><pre>SGDRegressor(random_state=42)</pre></div> </div></div></div></div></div></div>"
      ],
      "text/plain": [
       "Pipeline(steps=[('preprocessors',\n",
       "                 ColumnTransformer(transformers=[('num',\n",
       "                                                  Pipeline(steps=[('QuantReplace',\n",
       "                                                                   QuantileReplacer(threshold=0.01)),\n",
       "                                                                  ('norm',\n",
       "                                                                   MinMaxScaler())]),\n",
       "                                                  ['Age', 'Book_average_rating',\n",
       "                                                   'Book_ratings_count',\n",
       "                                                   'sale price'])])),\n",
       "                ('model', SGDRegressor(random_state=42))])"
      ]
     },
     "execution_count": 30,
     "metadata": {},
     "output_type": "execute_result"
    }
   ],
   "source": [
    "pipe_num.fit(X_train, y_train)"
   ]
  },
  {
   "cell_type": "code",
   "execution_count": 31,
   "metadata": {},
   "outputs": [
    {
     "name": "stdout",
     "output_type": "stream",
     "text": [
      "Решение\n",
      "14121.967-652.56*Age+4083.45*Book_average_rating-15883.17*Book_ratings_count-1780.39*sale price\n"
     ]
    }
   ],
   "source": [
    "B0, B = get_coefs(pipe_num['model'])\n",
    "features_names = list(columns_num)\n",
    "\n",
    "print_model (B0,B,features_names)"
   ]
  },
  {
   "cell_type": "code",
   "execution_count": 32,
   "metadata": {},
   "outputs": [
    {
     "name": "stdout",
     "output_type": "stream",
     "text": [
      "r2 на тренировочной выборке: 0.0673\n"
     ]
    },
    {
     "name": "stdout",
     "output_type": "stream",
     "text": [
      "r2 на валидационной выборке: 0.0502\n",
      "mse на тренировочной выборке: 220583484.4008\n",
      "mse на валидационной выборке: 234584120.7330\n",
      "rmse на тренировочной выборке: 14852.0532\n",
      "rmse на валидационной выборке: 15316.1392\n"
     ]
    }
   ],
   "source": [
    "print(f\"r2 на тренировочной выборке: {calculate_metric(pipe_num, X_train, y_train):.4f}\")\n",
    "print(f\"r2 на валидационной выборке: {calculate_metric(pipe_num, X_val, y_val):.4f}\")\n",
    "\n",
    "print(f\"mse на тренировочной выборке: {calculate_metric(pipe_num, X_train, y_train, mse):.4f}\")\n",
    "print(f\"mse на валидационной выборке: {calculate_metric(pipe_num, X_val, y_val, mse):.4f}\")\n",
    "\n",
    "print(f\"rmse на тренировочной выборке: {calculate_metric(pipe_num, X_train, y_train, mse, squared = False):.4f}\")\n",
    "print(f\"rmse на валидационной выборке: {calculate_metric(pipe_num, X_val, y_val, mse, squared = False):.4f}\")"
   ]
  },
  {
   "cell_type": "code",
   "execution_count": 33,
   "metadata": {},
   "outputs": [
    {
     "name": "stdout",
     "output_type": "stream",
     "text": [
      "Ошибка на кросс-валидации\n"
     ]
    },
    {
     "data": {
      "text/html": [
       "<div>\n",
       "<style scoped>\n",
       "    .dataframe tbody tr th:only-of-type {\n",
       "        vertical-align: middle;\n",
       "    }\n",
       "\n",
       "    .dataframe tbody tr th {\n",
       "        vertical-align: top;\n",
       "    }\n",
       "\n",
       "    .dataframe thead th {\n",
       "        text-align: right;\n",
       "    }\n",
       "</style>\n",
       "<table border=\"1\" class=\"dataframe\">\n",
       "  <thead>\n",
       "    <tr style=\"text-align: right;\">\n",
       "      <th></th>\n",
       "      <th>fit_time</th>\n",
       "      <th>score_time</th>\n",
       "      <th>test_R2</th>\n",
       "      <th>test_-MSE</th>\n",
       "      <th>test_-MAE</th>\n",
       "      <th>test_-Max</th>\n",
       "    </tr>\n",
       "  </thead>\n",
       "  <tbody>\n",
       "    <tr>\n",
       "      <th>0</th>\n",
       "      <td>0.015004</td>\n",
       "      <td>0.006001</td>\n",
       "      <td>0.125346</td>\n",
       "      <td>-2.183061e+08</td>\n",
       "      <td>-10518.020700</td>\n",
       "      <td>-49809.570165</td>\n",
       "    </tr>\n",
       "    <tr>\n",
       "      <th>1</th>\n",
       "      <td>0.016004</td>\n",
       "      <td>0.004000</td>\n",
       "      <td>0.104088</td>\n",
       "      <td>-1.934366e+08</td>\n",
       "      <td>-10834.252568</td>\n",
       "      <td>-42652.748136</td>\n",
       "    </tr>\n",
       "    <tr>\n",
       "      <th>2</th>\n",
       "      <td>0.012003</td>\n",
       "      <td>0.004000</td>\n",
       "      <td>0.050639</td>\n",
       "      <td>-2.408258e+08</td>\n",
       "      <td>-11410.492380</td>\n",
       "      <td>-51757.385288</td>\n",
       "    </tr>\n",
       "    <tr>\n",
       "      <th>3</th>\n",
       "      <td>0.013003</td>\n",
       "      <td>0.004001</td>\n",
       "      <td>0.041421</td>\n",
       "      <td>-2.240108e+08</td>\n",
       "      <td>-11952.264097</td>\n",
       "      <td>-42586.466147</td>\n",
       "    </tr>\n",
       "    <tr>\n",
       "      <th>4</th>\n",
       "      <td>0.013003</td>\n",
       "      <td>0.004001</td>\n",
       "      <td>0.108839</td>\n",
       "      <td>-2.165505e+08</td>\n",
       "      <td>-10898.771661</td>\n",
       "      <td>-46321.266863</td>\n",
       "    </tr>\n",
       "  </tbody>\n",
       "</table>\n",
       "</div>"
      ],
      "text/plain": [
       "   fit_time  score_time   test_R2     test_-MSE     test_-MAE     test_-Max\n",
       "0  0.015004    0.006001  0.125346 -2.183061e+08 -10518.020700 -49809.570165\n",
       "1  0.016004    0.004000  0.104088 -1.934366e+08 -10834.252568 -42652.748136\n",
       "2  0.012003    0.004000  0.050639 -2.408258e+08 -11410.492380 -51757.385288\n",
       "3  0.013003    0.004001  0.041421 -2.240108e+08 -11952.264097 -42586.466147\n",
       "4  0.013003    0.004001  0.108839 -2.165505e+08 -10898.771661 -46321.266863"
      ]
     },
     "metadata": {},
     "output_type": "display_data"
    },
    {
     "name": "stdout",
     "output_type": "stream",
     "text": [
      "\n",
      "\n",
      "test_R2      8.606680e-02\n",
      "test_-MSE   -2.186259e+08\n",
      "test_-MAE   -1.112276e+04\n",
      "test_-Max   -4.662549e+04\n",
      "dtype: float64\n"
     ]
    }
   ],
   "source": [
    "cross_validation (X_train, y_train,\n",
    "                  pipe_num,\n",
    "                  scoring_reg,\n",
    "                  ShuffleSplit(n_splits=5, random_state = 42))"
   ]
  },
  {
   "cell_type": "markdown",
   "metadata": {},
   "source": [
    "## Оценим влияние предварительной обработки целевой переменной"
   ]
  },
  {
   "cell_type": "code",
   "execution_count": 34,
   "metadata": {},
   "outputs": [],
   "source": [
    "pipe_num_transform = Pipeline([\n",
    "    ('preprocessors', preprocessors_num),\n",
    "    ('model', TransformedTargetRegressor( regressor=SGDRegressor(random_state = 42),\n",
    "    transformer=PowerTransformer())\n",
    "    )\n",
    "])"
   ]
  },
  {
   "cell_type": "code",
   "execution_count": 35,
   "metadata": {},
   "outputs": [
    {
     "data": {
      "text/html": [
       "<style>#sk-container-id-3 {\n",
       "  /* Definition of color scheme common for light and dark mode */\n",
       "  --sklearn-color-text: black;\n",
       "  --sklearn-color-line: gray;\n",
       "  /* Definition of color scheme for unfitted estimators */\n",
       "  --sklearn-color-unfitted-level-0: #fff5e6;\n",
       "  --sklearn-color-unfitted-level-1: #f6e4d2;\n",
       "  --sklearn-color-unfitted-level-2: #ffe0b3;\n",
       "  --sklearn-color-unfitted-level-3: chocolate;\n",
       "  /* Definition of color scheme for fitted estimators */\n",
       "  --sklearn-color-fitted-level-0: #f0f8ff;\n",
       "  --sklearn-color-fitted-level-1: #d4ebff;\n",
       "  --sklearn-color-fitted-level-2: #b3dbfd;\n",
       "  --sklearn-color-fitted-level-3: cornflowerblue;\n",
       "\n",
       "  /* Specific color for light theme */\n",
       "  --sklearn-color-text-on-default-background: var(--sg-text-color, var(--theme-code-foreground, var(--jp-content-font-color1, black)));\n",
       "  --sklearn-color-background: var(--sg-background-color, var(--theme-background, var(--jp-layout-color0, white)));\n",
       "  --sklearn-color-border-box: var(--sg-text-color, var(--theme-code-foreground, var(--jp-content-font-color1, black)));\n",
       "  --sklearn-color-icon: #696969;\n",
       "\n",
       "  @media (prefers-color-scheme: dark) {\n",
       "    /* Redefinition of color scheme for dark theme */\n",
       "    --sklearn-color-text-on-default-background: var(--sg-text-color, var(--theme-code-foreground, var(--jp-content-font-color1, white)));\n",
       "    --sklearn-color-background: var(--sg-background-color, var(--theme-background, var(--jp-layout-color0, #111)));\n",
       "    --sklearn-color-border-box: var(--sg-text-color, var(--theme-code-foreground, var(--jp-content-font-color1, white)));\n",
       "    --sklearn-color-icon: #878787;\n",
       "  }\n",
       "}\n",
       "\n",
       "#sk-container-id-3 {\n",
       "  color: var(--sklearn-color-text);\n",
       "}\n",
       "\n",
       "#sk-container-id-3 pre {\n",
       "  padding: 0;\n",
       "}\n",
       "\n",
       "#sk-container-id-3 input.sk-hidden--visually {\n",
       "  border: 0;\n",
       "  clip: rect(1px 1px 1px 1px);\n",
       "  clip: rect(1px, 1px, 1px, 1px);\n",
       "  height: 1px;\n",
       "  margin: -1px;\n",
       "  overflow: hidden;\n",
       "  padding: 0;\n",
       "  position: absolute;\n",
       "  width: 1px;\n",
       "}\n",
       "\n",
       "#sk-container-id-3 div.sk-dashed-wrapped {\n",
       "  border: 1px dashed var(--sklearn-color-line);\n",
       "  margin: 0 0.4em 0.5em 0.4em;\n",
       "  box-sizing: border-box;\n",
       "  padding-bottom: 0.4em;\n",
       "  background-color: var(--sklearn-color-background);\n",
       "}\n",
       "\n",
       "#sk-container-id-3 div.sk-container {\n",
       "  /* jupyter's `normalize.less` sets `[hidden] { display: none; }`\n",
       "     but bootstrap.min.css set `[hidden] { display: none !important; }`\n",
       "     so we also need the `!important` here to be able to override the\n",
       "     default hidden behavior on the sphinx rendered scikit-learn.org.\n",
       "     See: https://github.com/scikit-learn/scikit-learn/issues/21755 */\n",
       "  display: inline-block !important;\n",
       "  position: relative;\n",
       "}\n",
       "\n",
       "#sk-container-id-3 div.sk-text-repr-fallback {\n",
       "  display: none;\n",
       "}\n",
       "\n",
       "div.sk-parallel-item,\n",
       "div.sk-serial,\n",
       "div.sk-item {\n",
       "  /* draw centered vertical line to link estimators */\n",
       "  background-image: linear-gradient(var(--sklearn-color-text-on-default-background), var(--sklearn-color-text-on-default-background));\n",
       "  background-size: 2px 100%;\n",
       "  background-repeat: no-repeat;\n",
       "  background-position: center center;\n",
       "}\n",
       "\n",
       "/* Parallel-specific style estimator block */\n",
       "\n",
       "#sk-container-id-3 div.sk-parallel-item::after {\n",
       "  content: \"\";\n",
       "  width: 100%;\n",
       "  border-bottom: 2px solid var(--sklearn-color-text-on-default-background);\n",
       "  flex-grow: 1;\n",
       "}\n",
       "\n",
       "#sk-container-id-3 div.sk-parallel {\n",
       "  display: flex;\n",
       "  align-items: stretch;\n",
       "  justify-content: center;\n",
       "  background-color: var(--sklearn-color-background);\n",
       "  position: relative;\n",
       "}\n",
       "\n",
       "#sk-container-id-3 div.sk-parallel-item {\n",
       "  display: flex;\n",
       "  flex-direction: column;\n",
       "}\n",
       "\n",
       "#sk-container-id-3 div.sk-parallel-item:first-child::after {\n",
       "  align-self: flex-end;\n",
       "  width: 50%;\n",
       "}\n",
       "\n",
       "#sk-container-id-3 div.sk-parallel-item:last-child::after {\n",
       "  align-self: flex-start;\n",
       "  width: 50%;\n",
       "}\n",
       "\n",
       "#sk-container-id-3 div.sk-parallel-item:only-child::after {\n",
       "  width: 0;\n",
       "}\n",
       "\n",
       "/* Serial-specific style estimator block */\n",
       "\n",
       "#sk-container-id-3 div.sk-serial {\n",
       "  display: flex;\n",
       "  flex-direction: column;\n",
       "  align-items: center;\n",
       "  background-color: var(--sklearn-color-background);\n",
       "  padding-right: 1em;\n",
       "  padding-left: 1em;\n",
       "}\n",
       "\n",
       "\n",
       "/* Toggleable style: style used for estimator/Pipeline/ColumnTransformer box that is\n",
       "clickable and can be expanded/collapsed.\n",
       "- Pipeline and ColumnTransformer use this feature and define the default style\n",
       "- Estimators will overwrite some part of the style using the `sk-estimator` class\n",
       "*/\n",
       "\n",
       "/* Pipeline and ColumnTransformer style (default) */\n",
       "\n",
       "#sk-container-id-3 div.sk-toggleable {\n",
       "  /* Default theme specific background. It is overwritten whether we have a\n",
       "  specific estimator or a Pipeline/ColumnTransformer */\n",
       "  background-color: var(--sklearn-color-background);\n",
       "}\n",
       "\n",
       "/* Toggleable label */\n",
       "#sk-container-id-3 label.sk-toggleable__label {\n",
       "  cursor: pointer;\n",
       "  display: block;\n",
       "  width: 100%;\n",
       "  margin-bottom: 0;\n",
       "  padding: 0.5em;\n",
       "  box-sizing: border-box;\n",
       "  text-align: center;\n",
       "}\n",
       "\n",
       "#sk-container-id-3 label.sk-toggleable__label-arrow:before {\n",
       "  /* Arrow on the left of the label */\n",
       "  content: \"▸\";\n",
       "  float: left;\n",
       "  margin-right: 0.25em;\n",
       "  color: var(--sklearn-color-icon);\n",
       "}\n",
       "\n",
       "#sk-container-id-3 label.sk-toggleable__label-arrow:hover:before {\n",
       "  color: var(--sklearn-color-text);\n",
       "}\n",
       "\n",
       "/* Toggleable content - dropdown */\n",
       "\n",
       "#sk-container-id-3 div.sk-toggleable__content {\n",
       "  max-height: 0;\n",
       "  max-width: 0;\n",
       "  overflow: hidden;\n",
       "  text-align: left;\n",
       "  /* unfitted */\n",
       "  background-color: var(--sklearn-color-unfitted-level-0);\n",
       "}\n",
       "\n",
       "#sk-container-id-3 div.sk-toggleable__content.fitted {\n",
       "  /* fitted */\n",
       "  background-color: var(--sklearn-color-fitted-level-0);\n",
       "}\n",
       "\n",
       "#sk-container-id-3 div.sk-toggleable__content pre {\n",
       "  margin: 0.2em;\n",
       "  border-radius: 0.25em;\n",
       "  color: var(--sklearn-color-text);\n",
       "  /* unfitted */\n",
       "  background-color: var(--sklearn-color-unfitted-level-0);\n",
       "}\n",
       "\n",
       "#sk-container-id-3 div.sk-toggleable__content.fitted pre {\n",
       "  /* unfitted */\n",
       "  background-color: var(--sklearn-color-fitted-level-0);\n",
       "}\n",
       "\n",
       "#sk-container-id-3 input.sk-toggleable__control:checked~div.sk-toggleable__content {\n",
       "  /* Expand drop-down */\n",
       "  max-height: 200px;\n",
       "  max-width: 100%;\n",
       "  overflow: auto;\n",
       "}\n",
       "\n",
       "#sk-container-id-3 input.sk-toggleable__control:checked~label.sk-toggleable__label-arrow:before {\n",
       "  content: \"▾\";\n",
       "}\n",
       "\n",
       "/* Pipeline/ColumnTransformer-specific style */\n",
       "\n",
       "#sk-container-id-3 div.sk-label input.sk-toggleable__control:checked~label.sk-toggleable__label {\n",
       "  color: var(--sklearn-color-text);\n",
       "  background-color: var(--sklearn-color-unfitted-level-2);\n",
       "}\n",
       "\n",
       "#sk-container-id-3 div.sk-label.fitted input.sk-toggleable__control:checked~label.sk-toggleable__label {\n",
       "  background-color: var(--sklearn-color-fitted-level-2);\n",
       "}\n",
       "\n",
       "/* Estimator-specific style */\n",
       "\n",
       "/* Colorize estimator box */\n",
       "#sk-container-id-3 div.sk-estimator input.sk-toggleable__control:checked~label.sk-toggleable__label {\n",
       "  /* unfitted */\n",
       "  background-color: var(--sklearn-color-unfitted-level-2);\n",
       "}\n",
       "\n",
       "#sk-container-id-3 div.sk-estimator.fitted input.sk-toggleable__control:checked~label.sk-toggleable__label {\n",
       "  /* fitted */\n",
       "  background-color: var(--sklearn-color-fitted-level-2);\n",
       "}\n",
       "\n",
       "#sk-container-id-3 div.sk-label label.sk-toggleable__label,\n",
       "#sk-container-id-3 div.sk-label label {\n",
       "  /* The background is the default theme color */\n",
       "  color: var(--sklearn-color-text-on-default-background);\n",
       "}\n",
       "\n",
       "/* On hover, darken the color of the background */\n",
       "#sk-container-id-3 div.sk-label:hover label.sk-toggleable__label {\n",
       "  color: var(--sklearn-color-text);\n",
       "  background-color: var(--sklearn-color-unfitted-level-2);\n",
       "}\n",
       "\n",
       "/* Label box, darken color on hover, fitted */\n",
       "#sk-container-id-3 div.sk-label.fitted:hover label.sk-toggleable__label.fitted {\n",
       "  color: var(--sklearn-color-text);\n",
       "  background-color: var(--sklearn-color-fitted-level-2);\n",
       "}\n",
       "\n",
       "/* Estimator label */\n",
       "\n",
       "#sk-container-id-3 div.sk-label label {\n",
       "  font-family: monospace;\n",
       "  font-weight: bold;\n",
       "  display: inline-block;\n",
       "  line-height: 1.2em;\n",
       "}\n",
       "\n",
       "#sk-container-id-3 div.sk-label-container {\n",
       "  text-align: center;\n",
       "}\n",
       "\n",
       "/* Estimator-specific */\n",
       "#sk-container-id-3 div.sk-estimator {\n",
       "  font-family: monospace;\n",
       "  border: 1px dotted var(--sklearn-color-border-box);\n",
       "  border-radius: 0.25em;\n",
       "  box-sizing: border-box;\n",
       "  margin-bottom: 0.5em;\n",
       "  /* unfitted */\n",
       "  background-color: var(--sklearn-color-unfitted-level-0);\n",
       "}\n",
       "\n",
       "#sk-container-id-3 div.sk-estimator.fitted {\n",
       "  /* fitted */\n",
       "  background-color: var(--sklearn-color-fitted-level-0);\n",
       "}\n",
       "\n",
       "/* on hover */\n",
       "#sk-container-id-3 div.sk-estimator:hover {\n",
       "  /* unfitted */\n",
       "  background-color: var(--sklearn-color-unfitted-level-2);\n",
       "}\n",
       "\n",
       "#sk-container-id-3 div.sk-estimator.fitted:hover {\n",
       "  /* fitted */\n",
       "  background-color: var(--sklearn-color-fitted-level-2);\n",
       "}\n",
       "\n",
       "/* Specification for estimator info (e.g. \"i\" and \"?\") */\n",
       "\n",
       "/* Common style for \"i\" and \"?\" */\n",
       "\n",
       ".sk-estimator-doc-link,\n",
       "a:link.sk-estimator-doc-link,\n",
       "a:visited.sk-estimator-doc-link {\n",
       "  float: right;\n",
       "  font-size: smaller;\n",
       "  line-height: 1em;\n",
       "  font-family: monospace;\n",
       "  background-color: var(--sklearn-color-background);\n",
       "  border-radius: 1em;\n",
       "  height: 1em;\n",
       "  width: 1em;\n",
       "  text-decoration: none !important;\n",
       "  margin-left: 1ex;\n",
       "  /* unfitted */\n",
       "  border: var(--sklearn-color-unfitted-level-1) 1pt solid;\n",
       "  color: var(--sklearn-color-unfitted-level-1);\n",
       "}\n",
       "\n",
       ".sk-estimator-doc-link.fitted,\n",
       "a:link.sk-estimator-doc-link.fitted,\n",
       "a:visited.sk-estimator-doc-link.fitted {\n",
       "  /* fitted */\n",
       "  border: var(--sklearn-color-fitted-level-1) 1pt solid;\n",
       "  color: var(--sklearn-color-fitted-level-1);\n",
       "}\n",
       "\n",
       "/* On hover */\n",
       "div.sk-estimator:hover .sk-estimator-doc-link:hover,\n",
       ".sk-estimator-doc-link:hover,\n",
       "div.sk-label-container:hover .sk-estimator-doc-link:hover,\n",
       ".sk-estimator-doc-link:hover {\n",
       "  /* unfitted */\n",
       "  background-color: var(--sklearn-color-unfitted-level-3);\n",
       "  color: var(--sklearn-color-background);\n",
       "  text-decoration: none;\n",
       "}\n",
       "\n",
       "div.sk-estimator.fitted:hover .sk-estimator-doc-link.fitted:hover,\n",
       ".sk-estimator-doc-link.fitted:hover,\n",
       "div.sk-label-container:hover .sk-estimator-doc-link.fitted:hover,\n",
       ".sk-estimator-doc-link.fitted:hover {\n",
       "  /* fitted */\n",
       "  background-color: var(--sklearn-color-fitted-level-3);\n",
       "  color: var(--sklearn-color-background);\n",
       "  text-decoration: none;\n",
       "}\n",
       "\n",
       "/* Span, style for the box shown on hovering the info icon */\n",
       ".sk-estimator-doc-link span {\n",
       "  display: none;\n",
       "  z-index: 9999;\n",
       "  position: relative;\n",
       "  font-weight: normal;\n",
       "  right: .2ex;\n",
       "  padding: .5ex;\n",
       "  margin: .5ex;\n",
       "  width: min-content;\n",
       "  min-width: 20ex;\n",
       "  max-width: 50ex;\n",
       "  color: var(--sklearn-color-text);\n",
       "  box-shadow: 2pt 2pt 4pt #999;\n",
       "  /* unfitted */\n",
       "  background: var(--sklearn-color-unfitted-level-0);\n",
       "  border: .5pt solid var(--sklearn-color-unfitted-level-3);\n",
       "}\n",
       "\n",
       ".sk-estimator-doc-link.fitted span {\n",
       "  /* fitted */\n",
       "  background: var(--sklearn-color-fitted-level-0);\n",
       "  border: var(--sklearn-color-fitted-level-3);\n",
       "}\n",
       "\n",
       ".sk-estimator-doc-link:hover span {\n",
       "  display: block;\n",
       "}\n",
       "\n",
       "/* \"?\"-specific style due to the `<a>` HTML tag */\n",
       "\n",
       "#sk-container-id-3 a.estimator_doc_link {\n",
       "  float: right;\n",
       "  font-size: 1rem;\n",
       "  line-height: 1em;\n",
       "  font-family: monospace;\n",
       "  background-color: var(--sklearn-color-background);\n",
       "  border-radius: 1rem;\n",
       "  height: 1rem;\n",
       "  width: 1rem;\n",
       "  text-decoration: none;\n",
       "  /* unfitted */\n",
       "  color: var(--sklearn-color-unfitted-level-1);\n",
       "  border: var(--sklearn-color-unfitted-level-1) 1pt solid;\n",
       "}\n",
       "\n",
       "#sk-container-id-3 a.estimator_doc_link.fitted {\n",
       "  /* fitted */\n",
       "  border: var(--sklearn-color-fitted-level-1) 1pt solid;\n",
       "  color: var(--sklearn-color-fitted-level-1);\n",
       "}\n",
       "\n",
       "/* On hover */\n",
       "#sk-container-id-3 a.estimator_doc_link:hover {\n",
       "  /* unfitted */\n",
       "  background-color: var(--sklearn-color-unfitted-level-3);\n",
       "  color: var(--sklearn-color-background);\n",
       "  text-decoration: none;\n",
       "}\n",
       "\n",
       "#sk-container-id-3 a.estimator_doc_link.fitted:hover {\n",
       "  /* fitted */\n",
       "  background-color: var(--sklearn-color-fitted-level-3);\n",
       "}\n",
       "</style><div id=\"sk-container-id-3\" class=\"sk-top-container\"><div class=\"sk-text-repr-fallback\"><pre>Pipeline(steps=[(&#x27;preprocessors&#x27;,\n",
       "                 ColumnTransformer(transformers=[(&#x27;num&#x27;,\n",
       "                                                  Pipeline(steps=[(&#x27;QuantReplace&#x27;,\n",
       "                                                                   QuantileReplacer(threshold=0.01)),\n",
       "                                                                  (&#x27;norm&#x27;,\n",
       "                                                                   MinMaxScaler())]),\n",
       "                                                  [&#x27;Age&#x27;, &#x27;Book_average_rating&#x27;,\n",
       "                                                   &#x27;Book_ratings_count&#x27;,\n",
       "                                                   &#x27;sale price&#x27;])])),\n",
       "                (&#x27;model&#x27;,\n",
       "                 TransformedTargetRegressor(regressor=SGDRegressor(random_state=42),\n",
       "                                            transformer=PowerTransformer()))])</pre><b>In a Jupyter environment, please rerun this cell to show the HTML representation or trust the notebook. <br />On GitHub, the HTML representation is unable to render, please try loading this page with nbviewer.org.</b></div><div class=\"sk-container\" hidden><div class=\"sk-item sk-dashed-wrapped\"><div class=\"sk-label-container\"><div class=\"sk-label fitted sk-toggleable\"><input class=\"sk-toggleable__control sk-hidden--visually\" id=\"sk-estimator-id-8\" type=\"checkbox\" ><label for=\"sk-estimator-id-8\" class=\"sk-toggleable__label fitted sk-toggleable__label-arrow fitted\">&nbsp;&nbsp;Pipeline<a class=\"sk-estimator-doc-link fitted\" rel=\"noreferrer\" target=\"_blank\" href=\"https://scikit-learn.org/1.4/modules/generated/sklearn.pipeline.Pipeline.html\">?<span>Documentation for Pipeline</span></a><span class=\"sk-estimator-doc-link fitted\">i<span>Fitted</span></span></label><div class=\"sk-toggleable__content fitted\"><pre>Pipeline(steps=[(&#x27;preprocessors&#x27;,\n",
       "                 ColumnTransformer(transformers=[(&#x27;num&#x27;,\n",
       "                                                  Pipeline(steps=[(&#x27;QuantReplace&#x27;,\n",
       "                                                                   QuantileReplacer(threshold=0.01)),\n",
       "                                                                  (&#x27;norm&#x27;,\n",
       "                                                                   MinMaxScaler())]),\n",
       "                                                  [&#x27;Age&#x27;, &#x27;Book_average_rating&#x27;,\n",
       "                                                   &#x27;Book_ratings_count&#x27;,\n",
       "                                                   &#x27;sale price&#x27;])])),\n",
       "                (&#x27;model&#x27;,\n",
       "                 TransformedTargetRegressor(regressor=SGDRegressor(random_state=42),\n",
       "                                            transformer=PowerTransformer()))])</pre></div> </div></div><div class=\"sk-serial\"><div class=\"sk-item sk-dashed-wrapped\"><div class=\"sk-label-container\"><div class=\"sk-label fitted sk-toggleable\"><input class=\"sk-toggleable__control sk-hidden--visually\" id=\"sk-estimator-id-9\" type=\"checkbox\" ><label for=\"sk-estimator-id-9\" class=\"sk-toggleable__label fitted sk-toggleable__label-arrow fitted\">&nbsp;preprocessors: ColumnTransformer<a class=\"sk-estimator-doc-link fitted\" rel=\"noreferrer\" target=\"_blank\" href=\"https://scikit-learn.org/1.4/modules/generated/sklearn.compose.ColumnTransformer.html\">?<span>Documentation for preprocessors: ColumnTransformer</span></a></label><div class=\"sk-toggleable__content fitted\"><pre>ColumnTransformer(transformers=[(&#x27;num&#x27;,\n",
       "                                 Pipeline(steps=[(&#x27;QuantReplace&#x27;,\n",
       "                                                  QuantileReplacer(threshold=0.01)),\n",
       "                                                 (&#x27;norm&#x27;, MinMaxScaler())]),\n",
       "                                 [&#x27;Age&#x27;, &#x27;Book_average_rating&#x27;,\n",
       "                                  &#x27;Book_ratings_count&#x27;, &#x27;sale price&#x27;])])</pre></div> </div></div><div class=\"sk-parallel\"><div class=\"sk-parallel-item\"><div class=\"sk-item\"><div class=\"sk-label-container\"><div class=\"sk-label fitted sk-toggleable\"><input class=\"sk-toggleable__control sk-hidden--visually\" id=\"sk-estimator-id-10\" type=\"checkbox\" ><label for=\"sk-estimator-id-10\" class=\"sk-toggleable__label fitted sk-toggleable__label-arrow fitted\">num</label><div class=\"sk-toggleable__content fitted\"><pre>[&#x27;Age&#x27;, &#x27;Book_average_rating&#x27;, &#x27;Book_ratings_count&#x27;, &#x27;sale price&#x27;]</pre></div> </div></div><div class=\"sk-serial\"><div class=\"sk-item\"><div class=\"sk-serial\"><div class=\"sk-item\"><div class=\"sk-estimator fitted sk-toggleable\"><input class=\"sk-toggleable__control sk-hidden--visually\" id=\"sk-estimator-id-11\" type=\"checkbox\" ><label for=\"sk-estimator-id-11\" class=\"sk-toggleable__label fitted sk-toggleable__label-arrow fitted\">QuantileReplacer</label><div class=\"sk-toggleable__content fitted\"><pre>QuantileReplacer(threshold=0.01)</pre></div> </div></div><div class=\"sk-item\"><div class=\"sk-estimator fitted sk-toggleable\"><input class=\"sk-toggleable__control sk-hidden--visually\" id=\"sk-estimator-id-12\" type=\"checkbox\" ><label for=\"sk-estimator-id-12\" class=\"sk-toggleable__label fitted sk-toggleable__label-arrow fitted\">&nbsp;MinMaxScaler<a class=\"sk-estimator-doc-link fitted\" rel=\"noreferrer\" target=\"_blank\" href=\"https://scikit-learn.org/1.4/modules/generated/sklearn.preprocessing.MinMaxScaler.html\">?<span>Documentation for MinMaxScaler</span></a></label><div class=\"sk-toggleable__content fitted\"><pre>MinMaxScaler()</pre></div> </div></div></div></div></div></div></div></div></div><div class=\"sk-item sk-dashed-wrapped\"><div class=\"sk-label-container\"><div class=\"sk-label fitted sk-toggleable\"><input class=\"sk-toggleable__control sk-hidden--visually\" id=\"sk-estimator-id-13\" type=\"checkbox\" ><label for=\"sk-estimator-id-13\" class=\"sk-toggleable__label fitted sk-toggleable__label-arrow fitted\">&nbsp;model: TransformedTargetRegressor<a class=\"sk-estimator-doc-link fitted\" rel=\"noreferrer\" target=\"_blank\" href=\"https://scikit-learn.org/1.4/modules/generated/sklearn.compose.TransformedTargetRegressor.html\">?<span>Documentation for model: TransformedTargetRegressor</span></a></label><div class=\"sk-toggleable__content fitted\"><pre>TransformedTargetRegressor(regressor=SGDRegressor(random_state=42),\n",
       "                           transformer=PowerTransformer())</pre></div> </div></div><div class=\"sk-parallel\"><div class=\"sk-parallel-item\"><div class=\"sk-item\"><div class=\"sk-label-container\"><div class=\"sk-label fitted sk-toggleable\"><input class=\"sk-toggleable__control sk-hidden--visually\" id=\"sk-estimator-id-14\" type=\"checkbox\" ><label for=\"sk-estimator-id-14\" class=\"sk-toggleable__label fitted sk-toggleable__label-arrow fitted\">regressor: SGDRegressor</label><div class=\"sk-toggleable__content fitted\"><pre>SGDRegressor(random_state=42)</pre></div> </div></div><div class=\"sk-serial\"><div class=\"sk-item\"><div class=\"sk-estimator fitted sk-toggleable\"><input class=\"sk-toggleable__control sk-hidden--visually\" id=\"sk-estimator-id-15\" type=\"checkbox\" ><label for=\"sk-estimator-id-15\" class=\"sk-toggleable__label fitted sk-toggleable__label-arrow fitted\">&nbsp;SGDRegressor<a class=\"sk-estimator-doc-link fitted\" rel=\"noreferrer\" target=\"_blank\" href=\"https://scikit-learn.org/1.4/modules/generated/sklearn.linear_model.SGDRegressor.html\">?<span>Documentation for SGDRegressor</span></a></label><div class=\"sk-toggleable__content fitted\"><pre>SGDRegressor(random_state=42)</pre></div> </div></div></div></div></div><div class=\"sk-parallel-item\"><div class=\"sk-item\"><div class=\"sk-label-container\"><div class=\"sk-label fitted sk-toggleable\"><input class=\"sk-toggleable__control sk-hidden--visually\" id=\"sk-estimator-id-16\" type=\"checkbox\" ><label for=\"sk-estimator-id-16\" class=\"sk-toggleable__label fitted sk-toggleable__label-arrow fitted\">transformer: PowerTransformer</label><div class=\"sk-toggleable__content fitted\"><pre>PowerTransformer()</pre></div> </div></div><div class=\"sk-serial\"><div class=\"sk-item\"><div class=\"sk-estimator fitted sk-toggleable\"><input class=\"sk-toggleable__control sk-hidden--visually\" id=\"sk-estimator-id-17\" type=\"checkbox\" ><label for=\"sk-estimator-id-17\" class=\"sk-toggleable__label fitted sk-toggleable__label-arrow fitted\">&nbsp;PowerTransformer<a class=\"sk-estimator-doc-link fitted\" rel=\"noreferrer\" target=\"_blank\" href=\"https://scikit-learn.org/1.4/modules/generated/sklearn.preprocessing.PowerTransformer.html\">?<span>Documentation for PowerTransformer</span></a></label><div class=\"sk-toggleable__content fitted\"><pre>PowerTransformer()</pre></div> </div></div></div></div></div></div></div></div></div></div></div>"
      ],
      "text/plain": [
       "Pipeline(steps=[('preprocessors',\n",
       "                 ColumnTransformer(transformers=[('num',\n",
       "                                                  Pipeline(steps=[('QuantReplace',\n",
       "                                                                   QuantileReplacer(threshold=0.01)),\n",
       "                                                                  ('norm',\n",
       "                                                                   MinMaxScaler())]),\n",
       "                                                  ['Age', 'Book_average_rating',\n",
       "                                                   'Book_ratings_count',\n",
       "                                                   'sale price'])])),\n",
       "                ('model',\n",
       "                 TransformedTargetRegressor(regressor=SGDRegressor(random_state=42),\n",
       "                                            transformer=PowerTransformer()))])"
      ]
     },
     "execution_count": 35,
     "metadata": {},
     "output_type": "execute_result"
    }
   ],
   "source": [
    "pipe_num_transform.fit(X_train, y_train)"
   ]
  },
  {
   "cell_type": "code",
   "execution_count": 36,
   "metadata": {},
   "outputs": [
    {
     "name": "stdout",
     "output_type": "stream",
     "text": [
      "Решение\n",
      "0.131-0.15*Age+0.17*Book_average_rating-0.57*Book_ratings_count-0.02*sale price\n"
     ]
    }
   ],
   "source": [
    "B0, B = get_coefs(pipe_num_transform['model'].regressor_)\n",
    "features_names = list(columns_num)\n",
    "\n",
    "print_model (B0,B,features_names)"
   ]
  },
  {
   "cell_type": "code",
   "execution_count": 37,
   "metadata": {},
   "outputs": [
    {
     "data": {
      "application/vnd.plotly.v1+json": {
       "config": {
        "plotlyServerURL": "https://plot.ly"
       },
       "data": [
        {
         "marker": {
          "color": "red"
         },
         "name": "отрицательные веса",
         "type": "bar",
         "x": [
          1,
          3,
          4
         ],
         "y": [
          -0.15204629100963557,
          -0.5669531294264949,
          -0.01991779240806967
         ]
        },
        {
         "marker": {
          "color": "blue"
         },
         "name": "положительные веса",
         "type": "bar",
         "x": [
          0,
          2
         ],
         "y": [
          0.1312429924427032,
          0.17187474203704933
         ]
        }
       ],
       "layout": {
        "height": 600,
        "template": {
         "data": {
          "bar": [
           {
            "error_x": {
             "color": "#f2f5fa"
            },
            "error_y": {
             "color": "#f2f5fa"
            },
            "marker": {
             "line": {
              "color": "rgb(17,17,17)",
              "width": 0.5
             },
             "pattern": {
              "fillmode": "overlay",
              "size": 10,
              "solidity": 0.2
             }
            },
            "type": "bar"
           }
          ],
          "barpolar": [
           {
            "marker": {
             "line": {
              "color": "rgb(17,17,17)",
              "width": 0.5
             },
             "pattern": {
              "fillmode": "overlay",
              "size": 10,
              "solidity": 0.2
             }
            },
            "type": "barpolar"
           }
          ],
          "carpet": [
           {
            "aaxis": {
             "endlinecolor": "#A2B1C6",
             "gridcolor": "#506784",
             "linecolor": "#506784",
             "minorgridcolor": "#506784",
             "startlinecolor": "#A2B1C6"
            },
            "baxis": {
             "endlinecolor": "#A2B1C6",
             "gridcolor": "#506784",
             "linecolor": "#506784",
             "minorgridcolor": "#506784",
             "startlinecolor": "#A2B1C6"
            },
            "type": "carpet"
           }
          ],
          "choropleth": [
           {
            "colorbar": {
             "outlinewidth": 0,
             "ticks": ""
            },
            "type": "choropleth"
           }
          ],
          "contour": [
           {
            "colorbar": {
             "outlinewidth": 0,
             "ticks": ""
            },
            "colorscale": [
             [
              0,
              "#0d0887"
             ],
             [
              0.1111111111111111,
              "#46039f"
             ],
             [
              0.2222222222222222,
              "#7201a8"
             ],
             [
              0.3333333333333333,
              "#9c179e"
             ],
             [
              0.4444444444444444,
              "#bd3786"
             ],
             [
              0.5555555555555556,
              "#d8576b"
             ],
             [
              0.6666666666666666,
              "#ed7953"
             ],
             [
              0.7777777777777778,
              "#fb9f3a"
             ],
             [
              0.8888888888888888,
              "#fdca26"
             ],
             [
              1,
              "#f0f921"
             ]
            ],
            "type": "contour"
           }
          ],
          "contourcarpet": [
           {
            "colorbar": {
             "outlinewidth": 0,
             "ticks": ""
            },
            "type": "contourcarpet"
           }
          ],
          "heatmap": [
           {
            "colorbar": {
             "outlinewidth": 0,
             "ticks": ""
            },
            "colorscale": [
             [
              0,
              "#0d0887"
             ],
             [
              0.1111111111111111,
              "#46039f"
             ],
             [
              0.2222222222222222,
              "#7201a8"
             ],
             [
              0.3333333333333333,
              "#9c179e"
             ],
             [
              0.4444444444444444,
              "#bd3786"
             ],
             [
              0.5555555555555556,
              "#d8576b"
             ],
             [
              0.6666666666666666,
              "#ed7953"
             ],
             [
              0.7777777777777778,
              "#fb9f3a"
             ],
             [
              0.8888888888888888,
              "#fdca26"
             ],
             [
              1,
              "#f0f921"
             ]
            ],
            "type": "heatmap"
           }
          ],
          "heatmapgl": [
           {
            "colorbar": {
             "outlinewidth": 0,
             "ticks": ""
            },
            "colorscale": [
             [
              0,
              "#0d0887"
             ],
             [
              0.1111111111111111,
              "#46039f"
             ],
             [
              0.2222222222222222,
              "#7201a8"
             ],
             [
              0.3333333333333333,
              "#9c179e"
             ],
             [
              0.4444444444444444,
              "#bd3786"
             ],
             [
              0.5555555555555556,
              "#d8576b"
             ],
             [
              0.6666666666666666,
              "#ed7953"
             ],
             [
              0.7777777777777778,
              "#fb9f3a"
             ],
             [
              0.8888888888888888,
              "#fdca26"
             ],
             [
              1,
              "#f0f921"
             ]
            ],
            "type": "heatmapgl"
           }
          ],
          "histogram": [
           {
            "marker": {
             "pattern": {
              "fillmode": "overlay",
              "size": 10,
              "solidity": 0.2
             }
            },
            "type": "histogram"
           }
          ],
          "histogram2d": [
           {
            "colorbar": {
             "outlinewidth": 0,
             "ticks": ""
            },
            "colorscale": [
             [
              0,
              "#0d0887"
             ],
             [
              0.1111111111111111,
              "#46039f"
             ],
             [
              0.2222222222222222,
              "#7201a8"
             ],
             [
              0.3333333333333333,
              "#9c179e"
             ],
             [
              0.4444444444444444,
              "#bd3786"
             ],
             [
              0.5555555555555556,
              "#d8576b"
             ],
             [
              0.6666666666666666,
              "#ed7953"
             ],
             [
              0.7777777777777778,
              "#fb9f3a"
             ],
             [
              0.8888888888888888,
              "#fdca26"
             ],
             [
              1,
              "#f0f921"
             ]
            ],
            "type": "histogram2d"
           }
          ],
          "histogram2dcontour": [
           {
            "colorbar": {
             "outlinewidth": 0,
             "ticks": ""
            },
            "colorscale": [
             [
              0,
              "#0d0887"
             ],
             [
              0.1111111111111111,
              "#46039f"
             ],
             [
              0.2222222222222222,
              "#7201a8"
             ],
             [
              0.3333333333333333,
              "#9c179e"
             ],
             [
              0.4444444444444444,
              "#bd3786"
             ],
             [
              0.5555555555555556,
              "#d8576b"
             ],
             [
              0.6666666666666666,
              "#ed7953"
             ],
             [
              0.7777777777777778,
              "#fb9f3a"
             ],
             [
              0.8888888888888888,
              "#fdca26"
             ],
             [
              1,
              "#f0f921"
             ]
            ],
            "type": "histogram2dcontour"
           }
          ],
          "mesh3d": [
           {
            "colorbar": {
             "outlinewidth": 0,
             "ticks": ""
            },
            "type": "mesh3d"
           }
          ],
          "parcoords": [
           {
            "line": {
             "colorbar": {
              "outlinewidth": 0,
              "ticks": ""
             }
            },
            "type": "parcoords"
           }
          ],
          "pie": [
           {
            "automargin": true,
            "type": "pie"
           }
          ],
          "scatter": [
           {
            "marker": {
             "line": {
              "color": "#283442"
             }
            },
            "type": "scatter"
           }
          ],
          "scatter3d": [
           {
            "line": {
             "colorbar": {
              "outlinewidth": 0,
              "ticks": ""
             }
            },
            "marker": {
             "colorbar": {
              "outlinewidth": 0,
              "ticks": ""
             }
            },
            "type": "scatter3d"
           }
          ],
          "scattercarpet": [
           {
            "marker": {
             "colorbar": {
              "outlinewidth": 0,
              "ticks": ""
             }
            },
            "type": "scattercarpet"
           }
          ],
          "scattergeo": [
           {
            "marker": {
             "colorbar": {
              "outlinewidth": 0,
              "ticks": ""
             }
            },
            "type": "scattergeo"
           }
          ],
          "scattergl": [
           {
            "marker": {
             "line": {
              "color": "#283442"
             }
            },
            "type": "scattergl"
           }
          ],
          "scattermapbox": [
           {
            "marker": {
             "colorbar": {
              "outlinewidth": 0,
              "ticks": ""
             }
            },
            "type": "scattermapbox"
           }
          ],
          "scatterpolar": [
           {
            "marker": {
             "colorbar": {
              "outlinewidth": 0,
              "ticks": ""
             }
            },
            "type": "scatterpolar"
           }
          ],
          "scatterpolargl": [
           {
            "marker": {
             "colorbar": {
              "outlinewidth": 0,
              "ticks": ""
             }
            },
            "type": "scatterpolargl"
           }
          ],
          "scatterternary": [
           {
            "marker": {
             "colorbar": {
              "outlinewidth": 0,
              "ticks": ""
             }
            },
            "type": "scatterternary"
           }
          ],
          "surface": [
           {
            "colorbar": {
             "outlinewidth": 0,
             "ticks": ""
            },
            "colorscale": [
             [
              0,
              "#0d0887"
             ],
             [
              0.1111111111111111,
              "#46039f"
             ],
             [
              0.2222222222222222,
              "#7201a8"
             ],
             [
              0.3333333333333333,
              "#9c179e"
             ],
             [
              0.4444444444444444,
              "#bd3786"
             ],
             [
              0.5555555555555556,
              "#d8576b"
             ],
             [
              0.6666666666666666,
              "#ed7953"
             ],
             [
              0.7777777777777778,
              "#fb9f3a"
             ],
             [
              0.8888888888888888,
              "#fdca26"
             ],
             [
              1,
              "#f0f921"
             ]
            ],
            "type": "surface"
           }
          ],
          "table": [
           {
            "cells": {
             "fill": {
              "color": "#506784"
             },
             "line": {
              "color": "rgb(17,17,17)"
             }
            },
            "header": {
             "fill": {
              "color": "#2a3f5f"
             },
             "line": {
              "color": "rgb(17,17,17)"
             }
            },
            "type": "table"
           }
          ]
         },
         "layout": {
          "annotationdefaults": {
           "arrowcolor": "#f2f5fa",
           "arrowhead": 0,
           "arrowwidth": 1
          },
          "autotypenumbers": "strict",
          "coloraxis": {
           "colorbar": {
            "outlinewidth": 0,
            "ticks": ""
           }
          },
          "colorscale": {
           "diverging": [
            [
             0,
             "#8e0152"
            ],
            [
             0.1,
             "#c51b7d"
            ],
            [
             0.2,
             "#de77ae"
            ],
            [
             0.3,
             "#f1b6da"
            ],
            [
             0.4,
             "#fde0ef"
            ],
            [
             0.5,
             "#f7f7f7"
            ],
            [
             0.6,
             "#e6f5d0"
            ],
            [
             0.7,
             "#b8e186"
            ],
            [
             0.8,
             "#7fbc41"
            ],
            [
             0.9,
             "#4d9221"
            ],
            [
             1,
             "#276419"
            ]
           ],
           "sequential": [
            [
             0,
             "#0d0887"
            ],
            [
             0.1111111111111111,
             "#46039f"
            ],
            [
             0.2222222222222222,
             "#7201a8"
            ],
            [
             0.3333333333333333,
             "#9c179e"
            ],
            [
             0.4444444444444444,
             "#bd3786"
            ],
            [
             0.5555555555555556,
             "#d8576b"
            ],
            [
             0.6666666666666666,
             "#ed7953"
            ],
            [
             0.7777777777777778,
             "#fb9f3a"
            ],
            [
             0.8888888888888888,
             "#fdca26"
            ],
            [
             1,
             "#f0f921"
            ]
           ],
           "sequentialminus": [
            [
             0,
             "#0d0887"
            ],
            [
             0.1111111111111111,
             "#46039f"
            ],
            [
             0.2222222222222222,
             "#7201a8"
            ],
            [
             0.3333333333333333,
             "#9c179e"
            ],
            [
             0.4444444444444444,
             "#bd3786"
            ],
            [
             0.5555555555555556,
             "#d8576b"
            ],
            [
             0.6666666666666666,
             "#ed7953"
            ],
            [
             0.7777777777777778,
             "#fb9f3a"
            ],
            [
             0.8888888888888888,
             "#fdca26"
            ],
            [
             1,
             "#f0f921"
            ]
           ]
          },
          "colorway": [
           "#636efa",
           "#EF553B",
           "#00cc96",
           "#ab63fa",
           "#FFA15A",
           "#19d3f3",
           "#FF6692",
           "#B6E880",
           "#FF97FF",
           "#FECB52"
          ],
          "font": {
           "color": "#f2f5fa"
          },
          "geo": {
           "bgcolor": "rgb(17,17,17)",
           "lakecolor": "rgb(17,17,17)",
           "landcolor": "rgb(17,17,17)",
           "showlakes": true,
           "showland": true,
           "subunitcolor": "#506784"
          },
          "hoverlabel": {
           "align": "left"
          },
          "hovermode": "closest",
          "mapbox": {
           "style": "dark"
          },
          "paper_bgcolor": "rgb(17,17,17)",
          "plot_bgcolor": "rgb(17,17,17)",
          "polar": {
           "angularaxis": {
            "gridcolor": "#506784",
            "linecolor": "#506784",
            "ticks": ""
           },
           "bgcolor": "rgb(17,17,17)",
           "radialaxis": {
            "gridcolor": "#506784",
            "linecolor": "#506784",
            "ticks": ""
           }
          },
          "scene": {
           "xaxis": {
            "backgroundcolor": "rgb(17,17,17)",
            "gridcolor": "#506784",
            "gridwidth": 2,
            "linecolor": "#506784",
            "showbackground": true,
            "ticks": "",
            "zerolinecolor": "#C8D4E3"
           },
           "yaxis": {
            "backgroundcolor": "rgb(17,17,17)",
            "gridcolor": "#506784",
            "gridwidth": 2,
            "linecolor": "#506784",
            "showbackground": true,
            "ticks": "",
            "zerolinecolor": "#C8D4E3"
           },
           "zaxis": {
            "backgroundcolor": "rgb(17,17,17)",
            "gridcolor": "#506784",
            "gridwidth": 2,
            "linecolor": "#506784",
            "showbackground": true,
            "ticks": "",
            "zerolinecolor": "#C8D4E3"
           }
          },
          "shapedefaults": {
           "line": {
            "color": "#f2f5fa"
           }
          },
          "sliderdefaults": {
           "bgcolor": "#C8D4E3",
           "bordercolor": "rgb(17,17,17)",
           "borderwidth": 1,
           "tickwidth": 0
          },
          "ternary": {
           "aaxis": {
            "gridcolor": "#506784",
            "linecolor": "#506784",
            "ticks": ""
           },
           "baxis": {
            "gridcolor": "#506784",
            "linecolor": "#506784",
            "ticks": ""
           },
           "bgcolor": "rgb(17,17,17)",
           "caxis": {
            "gridcolor": "#506784",
            "linecolor": "#506784",
            "ticks": ""
           }
          },
          "title": {
           "x": 0.05
          },
          "updatemenudefaults": {
           "bgcolor": "#506784",
           "borderwidth": 0
          },
          "xaxis": {
           "automargin": true,
           "gridcolor": "#283442",
           "linecolor": "#506784",
           "ticks": "",
           "title": {
            "standoff": 15
           },
           "zerolinecolor": "#283442",
           "zerolinewidth": 2
          },
          "yaxis": {
           "automargin": true,
           "gridcolor": "#283442",
           "linecolor": "#506784",
           "ticks": "",
           "title": {
            "standoff": 15
           },
           "zerolinecolor": "#283442",
           "zerolinewidth": 2
          }
         }
        },
        "title": {
         "text": "Веса модели"
        },
        "width": 1200,
        "xaxis": {
         "tickmode": "array",
         "ticktext": [
          "B0",
          "Age",
          "Book_average_rating",
          "Book_ratings_count",
          "sale price"
         ],
         "tickvals": [
          0,
          1,
          2,
          3,
          4
         ]
        }
       }
      }
     },
     "metadata": {},
     "output_type": "display_data"
    }
   ],
   "source": [
    "Bs = np.hstack([B0,B])\n",
    "vis_weigths(Bs,features_names)"
   ]
  },
  {
   "cell_type": "markdown",
   "metadata": {},
   "source": [
    "Смещение (член нулевого порядка) уменьшился по модулю, влияние Book_ratings_count уступило влиянию sale price, Book_average_rating сильно не изменился."
   ]
  },
  {
   "cell_type": "code",
   "execution_count": 38,
   "metadata": {},
   "outputs": [
    {
     "name": "stdout",
     "output_type": "stream",
     "text": [
      "Ошибка на кросс-валидации\n"
     ]
    },
    {
     "data": {
      "text/html": [
       "<div>\n",
       "<style scoped>\n",
       "    .dataframe tbody tr th:only-of-type {\n",
       "        vertical-align: middle;\n",
       "    }\n",
       "\n",
       "    .dataframe tbody tr th {\n",
       "        vertical-align: top;\n",
       "    }\n",
       "\n",
       "    .dataframe thead th {\n",
       "        text-align: right;\n",
       "    }\n",
       "</style>\n",
       "<table border=\"1\" class=\"dataframe\">\n",
       "  <thead>\n",
       "    <tr style=\"text-align: right;\">\n",
       "      <th></th>\n",
       "      <th>fit_time</th>\n",
       "      <th>score_time</th>\n",
       "      <th>test_R2</th>\n",
       "      <th>test_-MSE</th>\n",
       "      <th>test_-MAE</th>\n",
       "      <th>test_-Max</th>\n",
       "    </tr>\n",
       "  </thead>\n",
       "  <tbody>\n",
       "    <tr>\n",
       "      <th>0</th>\n",
       "      <td>0.013003</td>\n",
       "      <td>0.005002</td>\n",
       "      <td>-0.178049</td>\n",
       "      <td>-2.940309e+08</td>\n",
       "      <td>-8562.503122</td>\n",
       "      <td>-57960.771653</td>\n",
       "    </tr>\n",
       "    <tr>\n",
       "      <th>1</th>\n",
       "      <td>0.013002</td>\n",
       "      <td>0.004002</td>\n",
       "      <td>-0.240044</td>\n",
       "      <td>-2.677382e+08</td>\n",
       "      <td>-8775.875760</td>\n",
       "      <td>-51219.147646</td>\n",
       "    </tr>\n",
       "    <tr>\n",
       "      <th>2</th>\n",
       "      <td>0.012002</td>\n",
       "      <td>0.005001</td>\n",
       "      <td>-0.173380</td>\n",
       "      <td>-2.976529e+08</td>\n",
       "      <td>-8461.054810</td>\n",
       "      <td>-58447.491238</td>\n",
       "    </tr>\n",
       "    <tr>\n",
       "      <th>3</th>\n",
       "      <td>0.011002</td>\n",
       "      <td>0.005001</td>\n",
       "      <td>-0.144502</td>\n",
       "      <td>-2.674593e+08</td>\n",
       "      <td>-8211.527215</td>\n",
       "      <td>-53288.711655</td>\n",
       "    </tr>\n",
       "    <tr>\n",
       "      <th>4</th>\n",
       "      <td>0.011003</td>\n",
       "      <td>0.005001</td>\n",
       "      <td>-0.190680</td>\n",
       "      <td>-2.893333e+08</td>\n",
       "      <td>-8540.623923</td>\n",
       "      <td>-56367.895340</td>\n",
       "    </tr>\n",
       "  </tbody>\n",
       "</table>\n",
       "</div>"
      ],
      "text/plain": [
       "   fit_time  score_time   test_R2     test_-MSE    test_-MAE     test_-Max\n",
       "0  0.013003    0.005002 -0.178049 -2.940309e+08 -8562.503122 -57960.771653\n",
       "1  0.013002    0.004002 -0.240044 -2.677382e+08 -8775.875760 -51219.147646\n",
       "2  0.012002    0.005001 -0.173380 -2.976529e+08 -8461.054810 -58447.491238\n",
       "3  0.011002    0.005001 -0.144502 -2.674593e+08 -8211.527215 -53288.711655\n",
       "4  0.011003    0.005001 -0.190680 -2.893333e+08 -8540.623923 -56367.895340"
      ]
     },
     "metadata": {},
     "output_type": "display_data"
    },
    {
     "name": "stdout",
     "output_type": "stream",
     "text": [
      "\n",
      "\n",
      "test_R2     -1.853310e-01\n",
      "test_-MSE   -2.832429e+08\n",
      "test_-MAE   -8.510317e+03\n",
      "test_-Max   -5.545680e+04\n",
      "dtype: float64\n"
     ]
    }
   ],
   "source": [
    "cross_validation (X_train, y_train,\n",
    "                  pipe_num_transform,\n",
    "                  scoring_reg,\n",
    "                  ShuffleSplit(n_splits=5, random_state = 42))"
   ]
  },
  {
   "cell_type": "code",
   "execution_count": 39,
   "metadata": {},
   "outputs": [
    {
     "data": {
      "image/png": "[encoded data removed]",
      "text/plain": [
       "<Figure size 640x480 with 1 Axes>"
      ]
     },
     "metadata": {},
     "output_type": "display_data"
    }
   ],
   "source": [
    "PredictionErrorDisplay.from_predictions(\n",
    "    y_val,\n",
    "    pipe_num_transform.predict(X_val),\n",
    "    kind=\"actual_vs_predicted\",\n",
    "    scatter_kwargs={\"alpha\": 0.5},\n",
    ");"
   ]
  },
  {
   "cell_type": "markdown",
   "metadata": {},
   "source": [
    "Небольшие выводы по модели:\n",
    "\n",
    "* Предварительная обработка целевой переменной в данном случае не улучшает результаты линейной модели (метрика r2 на кроссвалидации 0.47 против 0.58)\n",
    "\n",
    "* В целом предварительная обработка целевой переменной сделала хуже предсказание высоких значений цен\n",
    "\n",
    "* В области низких цен кластеризация несколько уменьшилась, но не ушла полностью (косвенно подтверждает гипотезу о влиянии ограниченного набора значений числовых признаков)\n",
    "\n"
   ]
  },
  {
   "cell_type": "code",
   "execution_count": 40,
   "metadata": {},
   "outputs": [],
   "source": [
    "pipe_all_transform = Pipeline([\n",
    "    ('preprocessors', preprocessors_All),\n",
    "    ('model', TransformedTargetRegressor( regressor=SGDRegressor(random_state = 42),\n",
    "    transformer=PowerTransformer())\n",
    "    )\n",
    "])"
   ]
  },
  {
   "cell_type": "code",
   "execution_count": 41,
   "metadata": {},
   "outputs": [
    {
     "data": {
      "text/html": [
       "<style>#sk-container-id-4 {\n",
       "  /* Definition of color scheme common for light and dark mode */\n",
       "  --sklearn-color-text: black;\n",
       "  --sklearn-color-line: gray;\n",
       "  /* Definition of color scheme for unfitted estimators */\n",
       "  --sklearn-color-unfitted-level-0: #fff5e6;\n",
       "  --sklearn-color-unfitted-level-1: #f6e4d2;\n",
       "  --sklearn-color-unfitted-level-2: #ffe0b3;\n",
       "  --sklearn-color-unfitted-level-3: chocolate;\n",
       "  /* Definition of color scheme for fitted estimators */\n",
       "  --sklearn-color-fitted-level-0: #f0f8ff;\n",
       "  --sklearn-color-fitted-level-1: #d4ebff;\n",
       "  --sklearn-color-fitted-level-2: #b3dbfd;\n",
       "  --sklearn-color-fitted-level-3: cornflowerblue;\n",
       "\n",
       "  /* Specific color for light theme */\n",
       "  --sklearn-color-text-on-default-background: var(--sg-text-color, var(--theme-code-foreground, var(--jp-content-font-color1, black)));\n",
       "  --sklearn-color-background: var(--sg-background-color, var(--theme-background, var(--jp-layout-color0, white)));\n",
       "  --sklearn-color-border-box: var(--sg-text-color, var(--theme-code-foreground, var(--jp-content-font-color1, black)));\n",
       "  --sklearn-color-icon: #696969;\n",
       "\n",
       "  @media (prefers-color-scheme: dark) {\n",
       "    /* Redefinition of color scheme for dark theme */\n",
       "    --sklearn-color-text-on-default-background: var(--sg-text-color, var(--theme-code-foreground, var(--jp-content-font-color1, white)));\n",
       "    --sklearn-color-background: var(--sg-background-color, var(--theme-background, var(--jp-layout-color0, #111)));\n",
       "    --sklearn-color-border-box: var(--sg-text-color, var(--theme-code-foreground, var(--jp-content-font-color1, white)));\n",
       "    --sklearn-color-icon: #878787;\n",
       "  }\n",
       "}\n",
       "\n",
       "#sk-container-id-4 {\n",
       "  color: var(--sklearn-color-text);\n",
       "}\n",
       "\n",
       "#sk-container-id-4 pre {\n",
       "  padding: 0;\n",
       "}\n",
       "\n",
       "#sk-container-id-4 input.sk-hidden--visually {\n",
       "  border: 0;\n",
       "  clip: rect(1px 1px 1px 1px);\n",
       "  clip: rect(1px, 1px, 1px, 1px);\n",
       "  height: 1px;\n",
       "  margin: -1px;\n",
       "  overflow: hidden;\n",
       "  padding: 0;\n",
       "  position: absolute;\n",
       "  width: 1px;\n",
       "}\n",
       "\n",
       "#sk-container-id-4 div.sk-dashed-wrapped {\n",
       "  border: 1px dashed var(--sklearn-color-line);\n",
       "  margin: 0 0.4em 0.5em 0.4em;\n",
       "  box-sizing: border-box;\n",
       "  padding-bottom: 0.4em;\n",
       "  background-color: var(--sklearn-color-background);\n",
       "}\n",
       "\n",
       "#sk-container-id-4 div.sk-container {\n",
       "  /* jupyter's `normalize.less` sets `[hidden] { display: none; }`\n",
       "     but bootstrap.min.css set `[hidden] { display: none !important; }`\n",
       "     so we also need the `!important` here to be able to override the\n",
       "     default hidden behavior on the sphinx rendered scikit-learn.org.\n",
       "     See: https://github.com/scikit-learn/scikit-learn/issues/21755 */\n",
       "  display: inline-block !important;\n",
       "  position: relative;\n",
       "}\n",
       "\n",
       "#sk-container-id-4 div.sk-text-repr-fallback {\n",
       "  display: none;\n",
       "}\n",
       "\n",
       "div.sk-parallel-item,\n",
       "div.sk-serial,\n",
       "div.sk-item {\n",
       "  /* draw centered vertical line to link estimators */\n",
       "  background-image: linear-gradient(var(--sklearn-color-text-on-default-background), var(--sklearn-color-text-on-default-background));\n",
       "  background-size: 2px 100%;\n",
       "  background-repeat: no-repeat;\n",
       "  background-position: center center;\n",
       "}\n",
       "\n",
       "/* Parallel-specific style estimator block */\n",
       "\n",
       "#sk-container-id-4 div.sk-parallel-item::after {\n",
       "  content: \"\";\n",
       "  width: 100%;\n",
       "  border-bottom: 2px solid var(--sklearn-color-text-on-default-background);\n",
       "  flex-grow: 1;\n",
       "}\n",
       "\n",
       "#sk-container-id-4 div.sk-parallel {\n",
       "  display: flex;\n",
       "  align-items: stretch;\n",
       "  justify-content: center;\n",
       "  background-color: var(--sklearn-color-background);\n",
       "  position: relative;\n",
       "}\n",
       "\n",
       "#sk-container-id-4 div.sk-parallel-item {\n",
       "  display: flex;\n",
       "  flex-direction: column;\n",
       "}\n",
       "\n",
       "#sk-container-id-4 div.sk-parallel-item:first-child::after {\n",
       "  align-self: flex-end;\n",
       "  width: 50%;\n",
       "}\n",
       "\n",
       "#sk-container-id-4 div.sk-parallel-item:last-child::after {\n",
       "  align-self: flex-start;\n",
       "  width: 50%;\n",
       "}\n",
       "\n",
       "#sk-container-id-4 div.sk-parallel-item:only-child::after {\n",
       "  width: 0;\n",
       "}\n",
       "\n",
       "/* Serial-specific style estimator block */\n",
       "\n",
       "#sk-container-id-4 div.sk-serial {\n",
       "  display: flex;\n",
       "  flex-direction: column;\n",
       "  align-items: center;\n",
       "  background-color: var(--sklearn-color-background);\n",
       "  padding-right: 1em;\n",
       "  padding-left: 1em;\n",
       "}\n",
       "\n",
       "\n",
       "/* Toggleable style: style used for estimator/Pipeline/ColumnTransformer box that is\n",
       "clickable and can be expanded/collapsed.\n",
       "- Pipeline and ColumnTransformer use this feature and define the default style\n",
       "- Estimators will overwrite some part of the style using the `sk-estimator` class\n",
       "*/\n",
       "\n",
       "/* Pipeline and ColumnTransformer style (default) */\n",
       "\n",
       "#sk-container-id-4 div.sk-toggleable {\n",
       "  /* Default theme specific background. It is overwritten whether we have a\n",
       "  specific estimator or a Pipeline/ColumnTransformer */\n",
       "  background-color: var(--sklearn-color-background);\n",
       "}\n",
       "\n",
       "/* Toggleable label */\n",
       "#sk-container-id-4 label.sk-toggleable__label {\n",
       "  cursor: pointer;\n",
       "  display: block;\n",
       "  width: 100%;\n",
       "  margin-bottom: 0;\n",
       "  padding: 0.5em;\n",
       "  box-sizing: border-box;\n",
       "  text-align: center;\n",
       "}\n",
       "\n",
       "#sk-container-id-4 label.sk-toggleable__label-arrow:before {\n",
       "  /* Arrow on the left of the label */\n",
       "  content: \"▸\";\n",
       "  float: left;\n",
       "  margin-right: 0.25em;\n",
       "  color: var(--sklearn-color-icon);\n",
       "}\n",
       "\n",
       "#sk-container-id-4 label.sk-toggleable__label-arrow:hover:before {\n",
       "  color: var(--sklearn-color-text);\n",
       "}\n",
       "\n",
       "/* Toggleable content - dropdown */\n",
       "\n",
       "#sk-container-id-4 div.sk-toggleable__content {\n",
       "  max-height: 0;\n",
       "  max-width: 0;\n",
       "  overflow: hidden;\n",
       "  text-align: left;\n",
       "  /* unfitted */\n",
       "  background-color: var(--sklearn-color-unfitted-level-0);\n",
       "}\n",
       "\n",
       "#sk-container-id-4 div.sk-toggleable__content.fitted {\n",
       "  /* fitted */\n",
       "  background-color: var(--sklearn-color-fitted-level-0);\n",
       "}\n",
       "\n",
       "#sk-container-id-4 div.sk-toggleable__content pre {\n",
       "  margin: 0.2em;\n",
       "  border-radius: 0.25em;\n",
       "  color: var(--sklearn-color-text);\n",
       "  /* unfitted */\n",
       "  background-color: var(--sklearn-color-unfitted-level-0);\n",
       "}\n",
       "\n",
       "#sk-container-id-4 div.sk-toggleable__content.fitted pre {\n",
       "  /* unfitted */\n",
       "  background-color: var(--sklearn-color-fitted-level-0);\n",
       "}\n",
       "\n",
       "#sk-container-id-4 input.sk-toggleable__control:checked~div.sk-toggleable__content {\n",
       "  /* Expand drop-down */\n",
       "  max-height: 200px;\n",
       "  max-width: 100%;\n",
       "  overflow: auto;\n",
       "}\n",
       "\n",
       "#sk-container-id-4 input.sk-toggleable__control:checked~label.sk-toggleable__label-arrow:before {\n",
       "  content: \"▾\";\n",
       "}\n",
       "\n",
       "/* Pipeline/ColumnTransformer-specific style */\n",
       "\n",
       "#sk-container-id-4 div.sk-label input.sk-toggleable__control:checked~label.sk-toggleable__label {\n",
       "  color: var(--sklearn-color-text);\n",
       "  background-color: var(--sklearn-color-unfitted-level-2);\n",
       "}\n",
       "\n",
       "#sk-container-id-4 div.sk-label.fitted input.sk-toggleable__control:checked~label.sk-toggleable__label {\n",
       "  background-color: var(--sklearn-color-fitted-level-2);\n",
       "}\n",
       "\n",
       "/* Estimator-specific style */\n",
       "\n",
       "/* Colorize estimator box */\n",
       "#sk-container-id-4 div.sk-estimator input.sk-toggleable__control:checked~label.sk-toggleable__label {\n",
       "  /* unfitted */\n",
       "  background-color: var(--sklearn-color-unfitted-level-2);\n",
       "}\n",
       "\n",
       "#sk-container-id-4 div.sk-estimator.fitted input.sk-toggleable__control:checked~label.sk-toggleable__label {\n",
       "  /* fitted */\n",
       "  background-color: var(--sklearn-color-fitted-level-2);\n",
       "}\n",
       "\n",
       "#sk-container-id-4 div.sk-label label.sk-toggleable__label,\n",
       "#sk-container-id-4 div.sk-label label {\n",
       "  /* The background is the default theme color */\n",
       "  color: var(--sklearn-color-text-on-default-background);\n",
       "}\n",
       "\n",
       "/* On hover, darken the color of the background */\n",
       "#sk-container-id-4 div.sk-label:hover label.sk-toggleable__label {\n",
       "  color: var(--sklearn-color-text);\n",
       "  background-color: var(--sklearn-color-unfitted-level-2);\n",
       "}\n",
       "\n",
       "/* Label box, darken color on hover, fitted */\n",
       "#sk-container-id-4 div.sk-label.fitted:hover label.sk-toggleable__label.fitted {\n",
       "  color: var(--sklearn-color-text);\n",
       "  background-color: var(--sklearn-color-fitted-level-2);\n",
       "}\n",
       "\n",
       "/* Estimator label */\n",
       "\n",
       "#sk-container-id-4 div.sk-label label {\n",
       "  font-family: monospace;\n",
       "  font-weight: bold;\n",
       "  display: inline-block;\n",
       "  line-height: 1.2em;\n",
       "}\n",
       "\n",
       "#sk-container-id-4 div.sk-label-container {\n",
       "  text-align: center;\n",
       "}\n",
       "\n",
       "/* Estimator-specific */\n",
       "#sk-container-id-4 div.sk-estimator {\n",
       "  font-family: monospace;\n",
       "  border: 1px dotted var(--sklearn-color-border-box);\n",
       "  border-radius: 0.25em;\n",
       "  box-sizing: border-box;\n",
       "  margin-bottom: 0.5em;\n",
       "  /* unfitted */\n",
       "  background-color: var(--sklearn-color-unfitted-level-0);\n",
       "}\n",
       "\n",
       "#sk-container-id-4 div.sk-estimator.fitted {\n",
       "  /* fitted */\n",
       "  background-color: var(--sklearn-color-fitted-level-0);\n",
       "}\n",
       "\n",
       "/* on hover */\n",
       "#sk-container-id-4 div.sk-estimator:hover {\n",
       "  /* unfitted */\n",
       "  background-color: var(--sklearn-color-unfitted-level-2);\n",
       "}\n",
       "\n",
       "#sk-container-id-4 div.sk-estimator.fitted:hover {\n",
       "  /* fitted */\n",
       "  background-color: var(--sklearn-color-fitted-level-2);\n",
       "}\n",
       "\n",
       "/* Specification for estimator info (e.g. \"i\" and \"?\") */\n",
       "\n",
       "/* Common style for \"i\" and \"?\" */\n",
       "\n",
       ".sk-estimator-doc-link,\n",
       "a:link.sk-estimator-doc-link,\n",
       "a:visited.sk-estimator-doc-link {\n",
       "  float: right;\n",
       "  font-size: smaller;\n",
       "  line-height: 1em;\n",
       "  font-family: monospace;\n",
       "  background-color: var(--sklearn-color-background);\n",
       "  border-radius: 1em;\n",
       "  height: 1em;\n",
       "  width: 1em;\n",
       "  text-decoration: none !important;\n",
       "  margin-left: 1ex;\n",
       "  /* unfitted */\n",
       "  border: var(--sklearn-color-unfitted-level-1) 1pt solid;\n",
       "  color: var(--sklearn-color-unfitted-level-1);\n",
       "}\n",
       "\n",
       ".sk-estimator-doc-link.fitted,\n",
       "a:link.sk-estimator-doc-link.fitted,\n",
       "a:visited.sk-estimator-doc-link.fitted {\n",
       "  /* fitted */\n",
       "  border: var(--sklearn-color-fitted-level-1) 1pt solid;\n",
       "  color: var(--sklearn-color-fitted-level-1);\n",
       "}\n",
       "\n",
       "/* On hover */\n",
       "div.sk-estimator:hover .sk-estimator-doc-link:hover,\n",
       ".sk-estimator-doc-link:hover,\n",
       "div.sk-label-container:hover .sk-estimator-doc-link:hover,\n",
       ".sk-estimator-doc-link:hover {\n",
       "  /* unfitted */\n",
       "  background-color: var(--sklearn-color-unfitted-level-3);\n",
       "  color: var(--sklearn-color-background);\n",
       "  text-decoration: none;\n",
       "}\n",
       "\n",
       "div.sk-estimator.fitted:hover .sk-estimator-doc-link.fitted:hover,\n",
       ".sk-estimator-doc-link.fitted:hover,\n",
       "div.sk-label-container:hover .sk-estimator-doc-link.fitted:hover,\n",
       ".sk-estimator-doc-link.fitted:hover {\n",
       "  /* fitted */\n",
       "  background-color: var(--sklearn-color-fitted-level-3);\n",
       "  color: var(--sklearn-color-background);\n",
       "  text-decoration: none;\n",
       "}\n",
       "\n",
       "/* Span, style for the box shown on hovering the info icon */\n",
       ".sk-estimator-doc-link span {\n",
       "  display: none;\n",
       "  z-index: 9999;\n",
       "  position: relative;\n",
       "  font-weight: normal;\n",
       "  right: .2ex;\n",
       "  padding: .5ex;\n",
       "  margin: .5ex;\n",
       "  width: min-content;\n",
       "  min-width: 20ex;\n",
       "  max-width: 50ex;\n",
       "  color: var(--sklearn-color-text);\n",
       "  box-shadow: 2pt 2pt 4pt #999;\n",
       "  /* unfitted */\n",
       "  background: var(--sklearn-color-unfitted-level-0);\n",
       "  border: .5pt solid var(--sklearn-color-unfitted-level-3);\n",
       "}\n",
       "\n",
       ".sk-estimator-doc-link.fitted span {\n",
       "  /* fitted */\n",
       "  background: var(--sklearn-color-fitted-level-0);\n",
       "  border: var(--sklearn-color-fitted-level-3);\n",
       "}\n",
       "\n",
       ".sk-estimator-doc-link:hover span {\n",
       "  display: block;\n",
       "}\n",
       "\n",
       "/* \"?\"-specific style due to the `<a>` HTML tag */\n",
       "\n",
       "#sk-container-id-4 a.estimator_doc_link {\n",
       "  float: right;\n",
       "  font-size: 1rem;\n",
       "  line-height: 1em;\n",
       "  font-family: monospace;\n",
       "  background-color: var(--sklearn-color-background);\n",
       "  border-radius: 1rem;\n",
       "  height: 1rem;\n",
       "  width: 1rem;\n",
       "  text-decoration: none;\n",
       "  /* unfitted */\n",
       "  color: var(--sklearn-color-unfitted-level-1);\n",
       "  border: var(--sklearn-color-unfitted-level-1) 1pt solid;\n",
       "}\n",
       "\n",
       "#sk-container-id-4 a.estimator_doc_link.fitted {\n",
       "  /* fitted */\n",
       "  border: var(--sklearn-color-fitted-level-1) 1pt solid;\n",
       "  color: var(--sklearn-color-fitted-level-1);\n",
       "}\n",
       "\n",
       "/* On hover */\n",
       "#sk-container-id-4 a.estimator_doc_link:hover {\n",
       "  /* unfitted */\n",
       "  background-color: var(--sklearn-color-unfitted-level-3);\n",
       "  color: var(--sklearn-color-background);\n",
       "  text-decoration: none;\n",
       "}\n",
       "\n",
       "#sk-container-id-4 a.estimator_doc_link.fitted:hover {\n",
       "  /* fitted */\n",
       "  background-color: var(--sklearn-color-fitted-level-3);\n",
       "}\n",
       "</style><div id=\"sk-container-id-4\" class=\"sk-top-container\"><div class=\"sk-text-repr-fallback\"><pre>Pipeline(steps=[(&#x27;preprocessors&#x27;,\n",
       "                 ColumnTransformer(transformers=[(&#x27;norm&#x27;,\n",
       "                                                  Pipeline(steps=[(&#x27;QuantReplace&#x27;,\n",
       "                                                                   QuantileReplacer(threshold=0.01)),\n",
       "                                                                  (&#x27;norm&#x27;,\n",
       "                                                                   MinMaxScaler())]),\n",
       "                                                  [&#x27;Age&#x27;, &#x27;Book_average_rating&#x27;,\n",
       "                                                   &#x27;Book_ratings_count&#x27;,\n",
       "                                                   &#x27;sale price&#x27;]),\n",
       "                                                 (&#x27;cat&#x27;,\n",
       "                                                  Pipeline(steps=[(&#x27;replace_rare&#x27;,\n",
       "                                                                   RareGrouper(threshold=0.0001)),\n",
       "                                                                  (&#x27;encoder&#x27;,\n",
       "                                                                   OneHotEncoder(drop=&#x27;if_binary&#x27;,\n",
       "                                                                                 handle_unknown=&#x27;ignore&#x27;,\n",
       "                                                                                 sparse_output=False))]),\n",
       "                                                  [&#x27;Author&#x27;, &#x27;language_code&#x27;,\n",
       "                                                   &#x27;Author_Rating&#x27;, &#x27;genre&#x27;,\n",
       "                                                   &#x27;Publisher&#x27;])])),\n",
       "                (&#x27;model&#x27;,\n",
       "                 TransformedTargetRegressor(regressor=SGDRegressor(random_state=42),\n",
       "                                            transformer=PowerTransformer()))])</pre><b>In a Jupyter environment, please rerun this cell to show the HTML representation or trust the notebook. <br />On GitHub, the HTML representation is unable to render, please try loading this page with nbviewer.org.</b></div><div class=\"sk-container\" hidden><div class=\"sk-item sk-dashed-wrapped\"><div class=\"sk-label-container\"><div class=\"sk-label fitted sk-toggleable\"><input class=\"sk-toggleable__control sk-hidden--visually\" id=\"sk-estimator-id-18\" type=\"checkbox\" ><label for=\"sk-estimator-id-18\" class=\"sk-toggleable__label fitted sk-toggleable__label-arrow fitted\">&nbsp;&nbsp;Pipeline<a class=\"sk-estimator-doc-link fitted\" rel=\"noreferrer\" target=\"_blank\" href=\"https://scikit-learn.org/1.4/modules/generated/sklearn.pipeline.Pipeline.html\">?<span>Documentation for Pipeline</span></a><span class=\"sk-estimator-doc-link fitted\">i<span>Fitted</span></span></label><div class=\"sk-toggleable__content fitted\"><pre>Pipeline(steps=[(&#x27;preprocessors&#x27;,\n",
       "                 ColumnTransformer(transformers=[(&#x27;norm&#x27;,\n",
       "                                                  Pipeline(steps=[(&#x27;QuantReplace&#x27;,\n",
       "                                                                   QuantileReplacer(threshold=0.01)),\n",
       "                                                                  (&#x27;norm&#x27;,\n",
       "                                                                   MinMaxScaler())]),\n",
       "                                                  [&#x27;Age&#x27;, &#x27;Book_average_rating&#x27;,\n",
       "                                                   &#x27;Book_ratings_count&#x27;,\n",
       "                                                   &#x27;sale price&#x27;]),\n",
       "                                                 (&#x27;cat&#x27;,\n",
       "                                                  Pipeline(steps=[(&#x27;replace_rare&#x27;,\n",
       "                                                                   RareGrouper(threshold=0.0001)),\n",
       "                                                                  (&#x27;encoder&#x27;,\n",
       "                                                                   OneHotEncoder(drop=&#x27;if_binary&#x27;,\n",
       "                                                                                 handle_unknown=&#x27;ignore&#x27;,\n",
       "                                                                                 sparse_output=False))]),\n",
       "                                                  [&#x27;Author&#x27;, &#x27;language_code&#x27;,\n",
       "                                                   &#x27;Author_Rating&#x27;, &#x27;genre&#x27;,\n",
       "                                                   &#x27;Publisher&#x27;])])),\n",
       "                (&#x27;model&#x27;,\n",
       "                 TransformedTargetRegressor(regressor=SGDRegressor(random_state=42),\n",
       "                                            transformer=PowerTransformer()))])</pre></div> </div></div><div class=\"sk-serial\"><div class=\"sk-item sk-dashed-wrapped\"><div class=\"sk-label-container\"><div class=\"sk-label fitted sk-toggleable\"><input class=\"sk-toggleable__control sk-hidden--visually\" id=\"sk-estimator-id-19\" type=\"checkbox\" ><label for=\"sk-estimator-id-19\" class=\"sk-toggleable__label fitted sk-toggleable__label-arrow fitted\">&nbsp;preprocessors: ColumnTransformer<a class=\"sk-estimator-doc-link fitted\" rel=\"noreferrer\" target=\"_blank\" href=\"https://scikit-learn.org/1.4/modules/generated/sklearn.compose.ColumnTransformer.html\">?<span>Documentation for preprocessors: ColumnTransformer</span></a></label><div class=\"sk-toggleable__content fitted\"><pre>ColumnTransformer(transformers=[(&#x27;norm&#x27;,\n",
       "                                 Pipeline(steps=[(&#x27;QuantReplace&#x27;,\n",
       "                                                  QuantileReplacer(threshold=0.01)),\n",
       "                                                 (&#x27;norm&#x27;, MinMaxScaler())]),\n",
       "                                 [&#x27;Age&#x27;, &#x27;Book_average_rating&#x27;,\n",
       "                                  &#x27;Book_ratings_count&#x27;, &#x27;sale price&#x27;]),\n",
       "                                (&#x27;cat&#x27;,\n",
       "                                 Pipeline(steps=[(&#x27;replace_rare&#x27;,\n",
       "                                                  RareGrouper(threshold=0.0001)),\n",
       "                                                 (&#x27;encoder&#x27;,\n",
       "                                                  OneHotEncoder(drop=&#x27;if_binary&#x27;,\n",
       "                                                                handle_unknown=&#x27;ignore&#x27;,\n",
       "                                                                sparse_output=False))]),\n",
       "                                 [&#x27;Author&#x27;, &#x27;language_code&#x27;, &#x27;Author_Rating&#x27;,\n",
       "                                  &#x27;genre&#x27;, &#x27;Publisher&#x27;])])</pre></div> </div></div><div class=\"sk-parallel\"><div class=\"sk-parallel-item\"><div class=\"sk-item\"><div class=\"sk-label-container\"><div class=\"sk-label fitted sk-toggleable\"><input class=\"sk-toggleable__control sk-hidden--visually\" id=\"sk-estimator-id-20\" type=\"checkbox\" ><label for=\"sk-estimator-id-20\" class=\"sk-toggleable__label fitted sk-toggleable__label-arrow fitted\">norm</label><div class=\"sk-toggleable__content fitted\"><pre>[&#x27;Age&#x27;, &#x27;Book_average_rating&#x27;, &#x27;Book_ratings_count&#x27;, &#x27;sale price&#x27;]</pre></div> </div></div><div class=\"sk-serial\"><div class=\"sk-item\"><div class=\"sk-serial\"><div class=\"sk-item\"><div class=\"sk-estimator fitted sk-toggleable\"><input class=\"sk-toggleable__control sk-hidden--visually\" id=\"sk-estimator-id-21\" type=\"checkbox\" ><label for=\"sk-estimator-id-21\" class=\"sk-toggleable__label fitted sk-toggleable__label-arrow fitted\">QuantileReplacer</label><div class=\"sk-toggleable__content fitted\"><pre>QuantileReplacer(threshold=0.01)</pre></div> </div></div><div class=\"sk-item\"><div class=\"sk-estimator fitted sk-toggleable\"><input class=\"sk-toggleable__control sk-hidden--visually\" id=\"sk-estimator-id-22\" type=\"checkbox\" ><label for=\"sk-estimator-id-22\" class=\"sk-toggleable__label fitted sk-toggleable__label-arrow fitted\">&nbsp;MinMaxScaler<a class=\"sk-estimator-doc-link fitted\" rel=\"noreferrer\" target=\"_blank\" href=\"https://scikit-learn.org/1.4/modules/generated/sklearn.preprocessing.MinMaxScaler.html\">?<span>Documentation for MinMaxScaler</span></a></label><div class=\"sk-toggleable__content fitted\"><pre>MinMaxScaler()</pre></div> </div></div></div></div></div></div></div><div class=\"sk-parallel-item\"><div class=\"sk-item\"><div class=\"sk-label-container\"><div class=\"sk-label fitted sk-toggleable\"><input class=\"sk-toggleable__control sk-hidden--visually\" id=\"sk-estimator-id-23\" type=\"checkbox\" ><label for=\"sk-estimator-id-23\" class=\"sk-toggleable__label fitted sk-toggleable__label-arrow fitted\">cat</label><div class=\"sk-toggleable__content fitted\"><pre>[&#x27;Author&#x27;, &#x27;language_code&#x27;, &#x27;Author_Rating&#x27;, &#x27;genre&#x27;, &#x27;Publisher&#x27;]</pre></div> </div></div><div class=\"sk-serial\"><div class=\"sk-item\"><div class=\"sk-serial\"><div class=\"sk-item\"><div class=\"sk-estimator fitted sk-toggleable\"><input class=\"sk-toggleable__control sk-hidden--visually\" id=\"sk-estimator-id-24\" type=\"checkbox\" ><label for=\"sk-estimator-id-24\" class=\"sk-toggleable__label fitted sk-toggleable__label-arrow fitted\">RareGrouper</label><div class=\"sk-toggleable__content fitted\"><pre>RareGrouper(threshold=0.0001)</pre></div> </div></div><div class=\"sk-item\"><div class=\"sk-estimator fitted sk-toggleable\"><input class=\"sk-toggleable__control sk-hidden--visually\" id=\"sk-estimator-id-25\" type=\"checkbox\" ><label for=\"sk-estimator-id-25\" class=\"sk-toggleable__label fitted sk-toggleable__label-arrow fitted\">&nbsp;OneHotEncoder<a class=\"sk-estimator-doc-link fitted\" rel=\"noreferrer\" target=\"_blank\" href=\"https://scikit-learn.org/1.4/modules/generated/sklearn.preprocessing.OneHotEncoder.html\">?<span>Documentation for OneHotEncoder</span></a></label><div class=\"sk-toggleable__content fitted\"><pre>OneHotEncoder(drop=&#x27;if_binary&#x27;, handle_unknown=&#x27;ignore&#x27;, sparse_output=False)</pre></div> </div></div></div></div></div></div></div></div></div><div class=\"sk-item sk-dashed-wrapped\"><div class=\"sk-label-container\"><div class=\"sk-label fitted sk-toggleable\"><input class=\"sk-toggleable__control sk-hidden--visually\" id=\"sk-estimator-id-26\" type=\"checkbox\" ><label for=\"sk-estimator-id-26\" class=\"sk-toggleable__label fitted sk-toggleable__label-arrow fitted\">&nbsp;model: TransformedTargetRegressor<a class=\"sk-estimator-doc-link fitted\" rel=\"noreferrer\" target=\"_blank\" href=\"https://scikit-learn.org/1.4/modules/generated/sklearn.compose.TransformedTargetRegressor.html\">?<span>Documentation for model: TransformedTargetRegressor</span></a></label><div class=\"sk-toggleable__content fitted\"><pre>TransformedTargetRegressor(regressor=SGDRegressor(random_state=42),\n",
       "                           transformer=PowerTransformer())</pre></div> </div></div><div class=\"sk-parallel\"><div class=\"sk-parallel-item\"><div class=\"sk-item\"><div class=\"sk-label-container\"><div class=\"sk-label fitted sk-toggleable\"><input class=\"sk-toggleable__control sk-hidden--visually\" id=\"sk-estimator-id-27\" type=\"checkbox\" ><label for=\"sk-estimator-id-27\" class=\"sk-toggleable__label fitted sk-toggleable__label-arrow fitted\">regressor: SGDRegressor</label><div class=\"sk-toggleable__content fitted\"><pre>SGDRegressor(random_state=42)</pre></div> </div></div><div class=\"sk-serial\"><div class=\"sk-item\"><div class=\"sk-estimator fitted sk-toggleable\"><input class=\"sk-toggleable__control sk-hidden--visually\" id=\"sk-estimator-id-28\" type=\"checkbox\" ><label for=\"sk-estimator-id-28\" class=\"sk-toggleable__label fitted sk-toggleable__label-arrow fitted\">&nbsp;SGDRegressor<a class=\"sk-estimator-doc-link fitted\" rel=\"noreferrer\" target=\"_blank\" href=\"https://scikit-learn.org/1.4/modules/generated/sklearn.linear_model.SGDRegressor.html\">?<span>Documentation for SGDRegressor</span></a></label><div class=\"sk-toggleable__content fitted\"><pre>SGDRegressor(random_state=42)</pre></div> </div></div></div></div></div><div class=\"sk-parallel-item\"><div class=\"sk-item\"><div class=\"sk-label-container\"><div class=\"sk-label fitted sk-toggleable\"><input class=\"sk-toggleable__control sk-hidden--visually\" id=\"sk-estimator-id-29\" type=\"checkbox\" ><label for=\"sk-estimator-id-29\" class=\"sk-toggleable__label fitted sk-toggleable__label-arrow fitted\">transformer: PowerTransformer</label><div class=\"sk-toggleable__content fitted\"><pre>PowerTransformer()</pre></div> </div></div><div class=\"sk-serial\"><div class=\"sk-item\"><div class=\"sk-estimator fitted sk-toggleable\"><input class=\"sk-toggleable__control sk-hidden--visually\" id=\"sk-estimator-id-30\" type=\"checkbox\" ><label for=\"sk-estimator-id-30\" class=\"sk-toggleable__label fitted sk-toggleable__label-arrow fitted\">&nbsp;PowerTransformer<a class=\"sk-estimator-doc-link fitted\" rel=\"noreferrer\" target=\"_blank\" href=\"https://scikit-learn.org/1.4/modules/generated/sklearn.preprocessing.PowerTransformer.html\">?<span>Documentation for PowerTransformer</span></a></label><div class=\"sk-toggleable__content fitted\"><pre>PowerTransformer()</pre></div> </div></div></div></div></div></div></div></div></div></div></div>"
      ],
      "text/plain": [
       "Pipeline(steps=[('preprocessors',\n",
       "                 ColumnTransformer(transformers=[('norm',\n",
       "                                                  Pipeline(steps=[('QuantReplace',\n",
       "                                                                   QuantileReplacer(threshold=0.01)),\n",
       "                                                                  ('norm',\n",
       "                                                                   MinMaxScaler())]),\n",
       "                                                  ['Age', 'Book_average_rating',\n",
       "                                                   'Book_ratings_count',\n",
       "                                                   'sale price']),\n",
       "                                                 ('cat',\n",
       "                                                  Pipeline(steps=[('replace_rare',\n",
       "                                                                   RareGrouper(threshold=0.0001)),\n",
       "                                                                  ('encoder',\n",
       "                                                                   OneHotEncoder(drop='if_binary',\n",
       "                                                                                 handle_unknown='ignore',\n",
       "                                                                                 sparse_output=False))]),\n",
       "                                                  ['Author', 'language_code',\n",
       "                                                   'Author_Rating', 'genre',\n",
       "                                                   'Publisher'])])),\n",
       "                ('model',\n",
       "                 TransformedTargetRegressor(regressor=SGDRegressor(random_state=42),\n",
       "                                            transformer=PowerTransformer()))])"
      ]
     },
     "execution_count": 41,
     "metadata": {},
     "output_type": "execute_result"
    }
   ],
   "source": [
    "pipe_all_transform.fit(X_train, y_train)"
   ]
  },
  {
   "cell_type": "code",
   "execution_count": 42,
   "metadata": {},
   "outputs": [],
   "source": [
    "cat_names = pipe_all_transform['preprocessors'].transformers_[1][1]['encoder'].get_feature_names_out(cat)\n",
    "\n",
    "# объединяем названия колонок в один список (важен порядок как в ColumnTransformer)\n",
    "columns = np.hstack([num, cat])"
   ]
  },
  {
   "cell_type": "code",
   "execution_count": 43,
   "metadata": {},
   "outputs": [
    {
     "name": "stdout",
     "output_type": "stream",
     "text": [
      "Решение\n",
      "0.106-0.16*Age-0.09*Book_average_rating-0.53*Book_ratings_count+0.01*sale price+0.04*Author-0.02*language_code+0.04*Author_Rating-0.03*genre-0.01*Publisher\n"
     ]
    }
   ],
   "source": [
    "B0, B = get_coefs(pipe_all_transform['model'].regressor_)\n",
    "features_names = list(columns)\n",
    "\n",
    "print_model (B0,B,features_names)"
   ]
  },
  {
   "cell_type": "code",
   "execution_count": 44,
   "metadata": {},
   "outputs": [],
   "source": [
    "def vis_weigths_threshold(weights, feature_names, threshold, width = 1200, height = 600):\n",
    "    \"\"\"Отрисовка весов с фильтром.\n",
    "    Входные переменные:\n",
    "    ===========\n",
    "    weights: веса признаков\n",
    "    features_names: список названий признаков\n",
    "    threshold: порог \"значимости\" коэффициентов\n",
    "    \"\"\"\n",
    "    # фильтруем веса коэффициентов\n",
    "    mask = np.abs(weights) >= threshold\n",
    "    weights_filtered = weights[mask]\n",
    "    feature_names_filtered = [name for name, m in zip(feature_names, mask[1:]) if m]\n",
    "\n",
    "    # Рисуем столбчатую диаграмму\n",
    "    vis_weigths(weights_filtered,feature_names_filtered, width = width, height = height)"
   ]
  },
  {
   "cell_type": "code",
   "execution_count": 45,
   "metadata": {},
   "outputs": [
    {
     "data": {
      "application/vnd.plotly.v1+json": {
       "config": {
        "plotlyServerURL": "https://plot.ly"
       },
       "data": [
        {
         "marker": {
          "color": "red"
         },
         "name": "отрицательные веса",
         "type": "bar",
         "x": [
          1,
          2,
          3,
          5,
          6,
          8,
          13,
          17
         ],
         "y": [
          -0.15736983060376428,
          -0.09482165265332071,
          -0.5296558118840042,
          -0.09148159372861354,
          -0.09353157298227505,
          -0.08688471834416413,
          -0.1301411295890285,
          -0.08283274629259604
         ]
        },
        {
         "marker": {
          "color": "blue"
         },
         "name": "положительные веса",
         "type": "bar",
         "x": [
          0,
          4,
          7,
          9,
          10,
          11,
          12,
          14,
          15,
          16
         ],
         "y": [
          0.10574844994131379,
          0.10633290323310982,
          0.14682414280940767,
          0.09835427600993249,
          0.08999701557750178,
          0.10466087984181602,
          0.34438321388722937,
          0.18358413605100815,
          0.09262114772625671,
          0.12091626993798628
         ]
        }
       ],
       "layout": {
        "height": 600,
        "template": {
         "data": {
          "bar": [
           {
            "error_x": {
             "color": "#f2f5fa"
            },
            "error_y": {
             "color": "#f2f5fa"
            },
            "marker": {
             "line": {
              "color": "rgb(17,17,17)",
              "width": 0.5
             },
             "pattern": {
              "fillmode": "overlay",
              "size": 10,
              "solidity": 0.2
             }
            },
            "type": "bar"
           }
          ],
          "barpolar": [
           {
            "marker": {
             "line": {
              "color": "rgb(17,17,17)",
              "width": 0.5
             },
             "pattern": {
              "fillmode": "overlay",
              "size": 10,
              "solidity": 0.2
             }
            },
            "type": "barpolar"
           }
          ],
          "carpet": [
           {
            "aaxis": {
             "endlinecolor": "#A2B1C6",
             "gridcolor": "#506784",
             "linecolor": "#506784",
             "minorgridcolor": "#506784",
             "startlinecolor": "#A2B1C6"
            },
            "baxis": {
             "endlinecolor": "#A2B1C6",
             "gridcolor": "#506784",
             "linecolor": "#506784",
             "minorgridcolor": "#506784",
             "startlinecolor": "#A2B1C6"
            },
            "type": "carpet"
           }
          ],
          "choropleth": [
           {
            "colorbar": {
             "outlinewidth": 0,
             "ticks": ""
            },
            "type": "choropleth"
           }
          ],
          "contour": [
           {
            "colorbar": {
             "outlinewidth": 0,
             "ticks": ""
            },
            "colorscale": [
             [
              0,
              "#0d0887"
             ],
             [
              0.1111111111111111,
              "#46039f"
             ],
             [
              0.2222222222222222,
              "#7201a8"
             ],
             [
              0.3333333333333333,
              "#9c179e"
             ],
             [
              0.4444444444444444,
              "#bd3786"
             ],
             [
              0.5555555555555556,
              "#d8576b"
             ],
             [
              0.6666666666666666,
              "#ed7953"
             ],
             [
              0.7777777777777778,
              "#fb9f3a"
             ],
             [
              0.8888888888888888,
              "#fdca26"
             ],
             [
              1,
              "#f0f921"
             ]
            ],
            "type": "contour"
           }
          ],
          "contourcarpet": [
           {
            "colorbar": {
             "outlinewidth": 0,
             "ticks": ""
            },
            "type": "contourcarpet"
           }
          ],
          "heatmap": [
           {
            "colorbar": {
             "outlinewidth": 0,
             "ticks": ""
            },
            "colorscale": [
             [
              0,
              "#0d0887"
             ],
             [
              0.1111111111111111,
              "#46039f"
             ],
             [
              0.2222222222222222,
              "#7201a8"
             ],
             [
              0.3333333333333333,
              "#9c179e"
             ],
             [
              0.4444444444444444,
              "#bd3786"
             ],
             [
              0.5555555555555556,
              "#d8576b"
             ],
             [
              0.6666666666666666,
              "#ed7953"
             ],
             [
              0.7777777777777778,
              "#fb9f3a"
             ],
             [
              0.8888888888888888,
              "#fdca26"
             ],
             [
              1,
              "#f0f921"
             ]
            ],
            "type": "heatmap"
           }
          ],
          "heatmapgl": [
           {
            "colorbar": {
             "outlinewidth": 0,
             "ticks": ""
            },
            "colorscale": [
             [
              0,
              "#0d0887"
             ],
             [
              0.1111111111111111,
              "#46039f"
             ],
             [
              0.2222222222222222,
              "#7201a8"
             ],
             [
              0.3333333333333333,
              "#9c179e"
             ],
             [
              0.4444444444444444,
              "#bd3786"
             ],
             [
              0.5555555555555556,
              "#d8576b"
             ],
             [
              0.6666666666666666,
              "#ed7953"
             ],
             [
              0.7777777777777778,
              "#fb9f3a"
             ],
             [
              0.8888888888888888,
              "#fdca26"
             ],
             [
              1,
              "#f0f921"
             ]
            ],
            "type": "heatmapgl"
           }
          ],
          "histogram": [
           {
            "marker": {
             "pattern": {
              "fillmode": "overlay",
              "size": 10,
              "solidity": 0.2
             }
            },
            "type": "histogram"
           }
          ],
          "histogram2d": [
           {
            "colorbar": {
             "outlinewidth": 0,
             "ticks": ""
            },
            "colorscale": [
             [
              0,
              "#0d0887"
             ],
             [
              0.1111111111111111,
              "#46039f"
             ],
             [
              0.2222222222222222,
              "#7201a8"
             ],
             [
              0.3333333333333333,
              "#9c179e"
             ],
             [
              0.4444444444444444,
              "#bd3786"
             ],
             [
              0.5555555555555556,
              "#d8576b"
             ],
             [
              0.6666666666666666,
              "#ed7953"
             ],
             [
              0.7777777777777778,
              "#fb9f3a"
             ],
             [
              0.8888888888888888,
              "#fdca26"
             ],
             [
              1,
              "#f0f921"
             ]
            ],
            "type": "histogram2d"
           }
          ],
          "histogram2dcontour": [
           {
            "colorbar": {
             "outlinewidth": 0,
             "ticks": ""
            },
            "colorscale": [
             [
              0,
              "#0d0887"
             ],
             [
              0.1111111111111111,
              "#46039f"
             ],
             [
              0.2222222222222222,
              "#7201a8"
             ],
             [
              0.3333333333333333,
              "#9c179e"
             ],
             [
              0.4444444444444444,
              "#bd3786"
             ],
             [
              0.5555555555555556,
              "#d8576b"
             ],
             [
              0.6666666666666666,
              "#ed7953"
             ],
             [
              0.7777777777777778,
              "#fb9f3a"
             ],
             [
              0.8888888888888888,
              "#fdca26"
             ],
             [
              1,
              "#f0f921"
             ]
            ],
            "type": "histogram2dcontour"
           }
          ],
          "mesh3d": [
           {
            "colorbar": {
             "outlinewidth": 0,
             "ticks": ""
            },
            "type": "mesh3d"
           }
          ],
          "parcoords": [
           {
            "line": {
             "colorbar": {
              "outlinewidth": 0,
              "ticks": ""
             }
            },
            "type": "parcoords"
           }
          ],
          "pie": [
           {
            "automargin": true,
            "type": "pie"
           }
          ],
          "scatter": [
           {
            "marker": {
             "line": {
              "color": "#283442"
             }
            },
            "type": "scatter"
           }
          ],
          "scatter3d": [
           {
            "line": {
             "colorbar": {
              "outlinewidth": 0,
              "ticks": ""
             }
            },
            "marker": {
             "colorbar": {
              "outlinewidth": 0,
              "ticks": ""
             }
            },
            "type": "scatter3d"
           }
          ],
          "scattercarpet": [
           {
            "marker": {
             "colorbar": {
              "outlinewidth": 0,
              "ticks": ""
             }
            },
            "type": "scattercarpet"
           }
          ],
          "scattergeo": [
           {
            "marker": {
             "colorbar": {
              "outlinewidth": 0,
              "ticks": ""
             }
            },
            "type": "scattergeo"
           }
          ],
          "scattergl": [
           {
            "marker": {
             "line": {
              "color": "#283442"
             }
            },
            "type": "scattergl"
           }
          ],
          "scattermapbox": [
           {
            "marker": {
             "colorbar": {
              "outlinewidth": 0,
              "ticks": ""
             }
            },
            "type": "scattermapbox"
           }
          ],
          "scatterpolar": [
           {
            "marker": {
             "colorbar": {
              "outlinewidth": 0,
              "ticks": ""
             }
            },
            "type": "scatterpolar"
           }
          ],
          "scatterpolargl": [
           {
            "marker": {
             "colorbar": {
              "outlinewidth": 0,
              "ticks": ""
             }
            },
            "type": "scatterpolargl"
           }
          ],
          "scatterternary": [
           {
            "marker": {
             "colorbar": {
              "outlinewidth": 0,
              "ticks": ""
             }
            },
            "type": "scatterternary"
           }
          ],
          "surface": [
           {
            "colorbar": {
             "outlinewidth": 0,
             "ticks": ""
            },
            "colorscale": [
             [
              0,
              "#0d0887"
             ],
             [
              0.1111111111111111,
              "#46039f"
             ],
             [
              0.2222222222222222,
              "#7201a8"
             ],
             [
              0.3333333333333333,
              "#9c179e"
             ],
             [
              0.4444444444444444,
              "#bd3786"
             ],
             [
              0.5555555555555556,
              "#d8576b"
             ],
             [
              0.6666666666666666,
              "#ed7953"
             ],
             [
              0.7777777777777778,
              "#fb9f3a"
             ],
             [
              0.8888888888888888,
              "#fdca26"
             ],
             [
              1,
              "#f0f921"
             ]
            ],
            "type": "surface"
           }
          ],
          "table": [
           {
            "cells": {
             "fill": {
              "color": "#506784"
             },
             "line": {
              "color": "rgb(17,17,17)"
             }
            },
            "header": {
             "fill": {
              "color": "#2a3f5f"
             },
             "line": {
              "color": "rgb(17,17,17)"
             }
            },
            "type": "table"
           }
          ]
         },
         "layout": {
          "annotationdefaults": {
           "arrowcolor": "#f2f5fa",
           "arrowhead": 0,
           "arrowwidth": 1
          },
          "autotypenumbers": "strict",
          "coloraxis": {
           "colorbar": {
            "outlinewidth": 0,
            "ticks": ""
           }
          },
          "colorscale": {
           "diverging": [
            [
             0,
             "#8e0152"
            ],
            [
             0.1,
             "#c51b7d"
            ],
            [
             0.2,
             "#de77ae"
            ],
            [
             0.3,
             "#f1b6da"
            ],
            [
             0.4,
             "#fde0ef"
            ],
            [
             0.5,
             "#f7f7f7"
            ],
            [
             0.6,
             "#e6f5d0"
            ],
            [
             0.7,
             "#b8e186"
            ],
            [
             0.8,
             "#7fbc41"
            ],
            [
             0.9,
             "#4d9221"
            ],
            [
             1,
             "#276419"
            ]
           ],
           "sequential": [
            [
             0,
             "#0d0887"
            ],
            [
             0.1111111111111111,
             "#46039f"
            ],
            [
             0.2222222222222222,
             "#7201a8"
            ],
            [
             0.3333333333333333,
             "#9c179e"
            ],
            [
             0.4444444444444444,
             "#bd3786"
            ],
            [
             0.5555555555555556,
             "#d8576b"
            ],
            [
             0.6666666666666666,
             "#ed7953"
            ],
            [
             0.7777777777777778,
             "#fb9f3a"
            ],
            [
             0.8888888888888888,
             "#fdca26"
            ],
            [
             1,
             "#f0f921"
            ]
           ],
           "sequentialminus": [
            [
             0,
             "#0d0887"
            ],
            [
             0.1111111111111111,
             "#46039f"
            ],
            [
             0.2222222222222222,
             "#7201a8"
            ],
            [
             0.3333333333333333,
             "#9c179e"
            ],
            [
             0.4444444444444444,
             "#bd3786"
            ],
            [
             0.5555555555555556,
             "#d8576b"
            ],
            [
             0.6666666666666666,
             "#ed7953"
            ],
            [
             0.7777777777777778,
             "#fb9f3a"
            ],
            [
             0.8888888888888888,
             "#fdca26"
            ],
            [
             1,
             "#f0f921"
            ]
           ]
          },
          "colorway": [
           "#636efa",
           "#EF553B",
           "#00cc96",
           "#ab63fa",
           "#FFA15A",
           "#19d3f3",
           "#FF6692",
           "#B6E880",
           "#FF97FF",
           "#FECB52"
          ],
          "font": {
           "color": "#f2f5fa"
          },
          "geo": {
           "bgcolor": "rgb(17,17,17)",
           "lakecolor": "rgb(17,17,17)",
           "landcolor": "rgb(17,17,17)",
           "showlakes": true,
           "showland": true,
           "subunitcolor": "#506784"
          },
          "hoverlabel": {
           "align": "left"
          },
          "hovermode": "closest",
          "mapbox": {
           "style": "dark"
          },
          "paper_bgcolor": "rgb(17,17,17)",
          "plot_bgcolor": "rgb(17,17,17)",
          "polar": {
           "angularaxis": {
            "gridcolor": "#506784",
            "linecolor": "#506784",
            "ticks": ""
           },
           "bgcolor": "rgb(17,17,17)",
           "radialaxis": {
            "gridcolor": "#506784",
            "linecolor": "#506784",
            "ticks": ""
           }
          },
          "scene": {
           "xaxis": {
            "backgroundcolor": "rgb(17,17,17)",
            "gridcolor": "#506784",
            "gridwidth": 2,
            "linecolor": "#506784",
            "showbackground": true,
            "ticks": "",
            "zerolinecolor": "#C8D4E3"
           },
           "yaxis": {
            "backgroundcolor": "rgb(17,17,17)",
            "gridcolor": "#506784",
            "gridwidth": 2,
            "linecolor": "#506784",
            "showbackground": true,
            "ticks": "",
            "zerolinecolor": "#C8D4E3"
           },
           "zaxis": {
            "backgroundcolor": "rgb(17,17,17)",
            "gridcolor": "#506784",
            "gridwidth": 2,
            "linecolor": "#506784",
            "showbackground": true,
            "ticks": "",
            "zerolinecolor": "#C8D4E3"
           }
          },
          "shapedefaults": {
           "line": {
            "color": "#f2f5fa"
           }
          },
          "sliderdefaults": {
           "bgcolor": "#C8D4E3",
           "bordercolor": "rgb(17,17,17)",
           "borderwidth": 1,
           "tickwidth": 0
          },
          "ternary": {
           "aaxis": {
            "gridcolor": "#506784",
            "linecolor": "#506784",
            "ticks": ""
           },
           "baxis": {
            "gridcolor": "#506784",
            "linecolor": "#506784",
            "ticks": ""
           },
           "bgcolor": "rgb(17,17,17)",
           "caxis": {
            "gridcolor": "#506784",
            "linecolor": "#506784",
            "ticks": ""
           }
          },
          "title": {
           "x": 0.05
          },
          "updatemenudefaults": {
           "bgcolor": "#506784",
           "borderwidth": 0
          },
          "xaxis": {
           "automargin": true,
           "gridcolor": "#283442",
           "linecolor": "#506784",
           "ticks": "",
           "title": {
            "standoff": 15
           },
           "zerolinecolor": "#283442",
           "zerolinewidth": 2
          },
          "yaxis": {
           "automargin": true,
           "gridcolor": "#283442",
           "linecolor": "#506784",
           "ticks": "",
           "title": {
            "standoff": 15
           },
           "zerolinecolor": "#283442",
           "zerolinewidth": 2
          }
         }
        },
        "title": {
         "text": "Веса модели"
        },
        "width": 1800,
        "xaxis": {
         "tickmode": "array",
         "ticktext": [
          "B0",
          "Age",
          "Book_average_rating",
          "Book_ratings_count"
         ],
         "tickvals": [
          0,
          1,
          2,
          3,
          4,
          5,
          6,
          7,
          8,
          9,
          10,
          11,
          12,
          13,
          14,
          15,
          16,
          17
         ]
        }
       }
      }
     },
     "metadata": {},
     "output_type": "display_data"
    }
   ],
   "source": [
    "Bs = np.hstack([B0,B])\n",
    "vis_weigths_threshold(Bs,columns, 0.08, width = 1800)"
   ]
  },
  {
   "cell_type": "code",
   "execution_count": 46,
   "metadata": {},
   "outputs": [
    {
     "data": {
      "text/plain": [
       "array(['Author_A.S.A. Harrison', 'Author_Agatha Christie',\n",
       "       'Author_Alan Brennert',\n",
       "       'Author_Aldous Huxley, Christopher Hitchens', 'Author_Alex Flinn',\n",
       "       'Author_Alex Garland', 'Author_Alexandra Bracken',\n",
       "       'Author_Alice Clayton',\n",
       "       'Author_Allen Ginsberg, William Carlos Williams',\n",
       "       'Author_Ally Carter', 'Author_Ally Condie',\n",
       "       'Author_Amanda Hocking', 'Author_Amish Tripathi',\n",
       "       'Author_Amor Towles', 'Author_Andre Dubus III',\n",
       "       'Author_Andrew Clements, Brian Selznick', 'Author_Anita Diamant',\n",
       "       'Author_Anita Shreve', 'Author_Ann Patchett',\n",
       "       'Author_Anna Quindlen',\n",
       "       'Author_Anne McCaffrey, Teodor PanasiÅ„ski', 'Author_Anne Rice',\n",
       "       'Author_Anne Tyler', 'Author_Anonymous, Joseph Smith Jr.',\n",
       "       'Author_Anthony Bourdain', 'Author_Aravind Adiga',\n",
       "       'Author_Arnold Lobel', 'Author_Art Spiegelman',\n",
       "       'Author_Arthur C. Clarke', 'Author_Arthur Conan Doyle',\n",
       "       'Author_Arthur Conan Doyle, Anne Perry', 'Author_Arthur Miller',\n",
       "       'Author_Astrid Lindgren, Lauren Child, Florence Lamborn, Nancy Seligsohn',\n",
       "       'Author_Atul Gawande', 'Author_Austin Kleon', 'Author_Ayn Rand',\n",
       "       'Author_Aziz Ansari, Eric Klinenberg', 'Author_B.A. Paris',\n",
       "       'Author_Barack Obama', 'Author_Barbara Kingsolver',\n",
       "       'Author_Barbara Kingsolver, Steven L. Hopp, Camille Kingsolver, Richard A. Houser',\n",
       "       'Author_Beatrix Potter', 'Author_Becca Fitzpatrick',\n",
       "       'Author_Benjamin Alire SÃ¡enz',\n",
       "       'Author_Bernhard Schlink, Carol Brown Janeway',\n",
       "       'Author_Beth Hoffman, Jenna Lamia', 'Author_Beth Revis',\n",
       "       'Author_Better Homes and Gardens', 'Author_Bill Bryson',\n",
       "       \"Author_Bill O'Reilly, Martin Dugard\", 'Author_Bill Watterson',\n",
       "       'Author_Bill Watterson, G.B. Trudeau', 'Author_Bisco Hatori',\n",
       "       'Author_Brandon Mull', 'Author_Brandon Sanderson',\n",
       "       'Author_Brent Weeks', 'Author_Brian Jacques',\n",
       "       'Author_Brian K. Vaughan, Fiona Staples',\n",
       "       'Author_Brian K. Vaughan, Pia Guerra, JosÃ© MarzÃ¡n Jr.',\n",
       "       'Author_Brian Selznick', \"Author_Bryan Lee O'Malley\",\n",
       "       'Author_C.S. Lewis', 'Author_C.S. Lewis, Pauline Baynes',\n",
       "       'Author_Caitlin Moran', 'Author_Caleb Carr', 'Author_Carl Hiaasen',\n",
       "       'Author_Carlos Ruiz ZafÃ³n, Lucia Graves',\n",
       "       'Author_Carol Rifka Brunt', 'Author_Cassandra Clare',\n",
       "       'Author_Catherine Hardwicke', 'Author_Cecelia Ahern',\n",
       "       'Author_Celeste Ng', 'Author_Chad Harbach',\n",
       "       'Author_Charlaine Harris', 'Author_Charles Bukowski',\n",
       "       'Author_Charles Darwin', 'Author_Charles Dickens, Jeremy Tambling',\n",
       "       'Author_Charles Dickens, Nicola Bradbury, Hablot Knight Browne',\n",
       "       'Author_Charles Duhigg', 'Author_Chelsea Handler',\n",
       "       'Author_Chetan Bhagat', 'Author_Chris Van Allsburg',\n",
       "       'Author_Christina Lauren', 'Author_Christopher Hitchens',\n",
       "       'Author_Christopher McDougall', 'Author_Christopher Moore',\n",
       "       'Author_Christopher Paolini', 'Author_Christopher Paul Curtis',\n",
       "       'Author_Chuck Palahniuk', 'Author_Colleen Hoover',\n",
       "       'Author_Colm TÃ³ibÃ\\xadn', 'Author_Colson Whitehead',\n",
       "       'Author_Colum McCann', 'Author_Cora Carmack',\n",
       "       'Author_Cormac McCarthy', 'Author_Cornelia Funke, Anthea Bell',\n",
       "       'Author_Craig Thompson', \"Author_Cynthia D'Aprix Sweeney\",\n",
       "       'Author_Cynthia Hand', 'Author_Dalai Lama XIV, Howard C. Cutler',\n",
       "       'Author_Dan Simmons',\n",
       "       'Author_Dante Alighieri, Allen Mandelbaum, Eugenio Montale',\n",
       "       'Author_Dante Alighieri, Anthony M. Esolen',\n",
       "       'Author_Dashiell Hammett', 'Author_Dave Eggers',\n",
       "       'Author_David    Allen', 'Author_David Baldacci',\n",
       "       'Author_David Benioff', 'Author_David Eddings',\n",
       "       'Author_David Guterson', 'Author_David Levithan',\n",
       "       'Author_David McCullough', 'Author_David Mitchell',\n",
       "       'Author_David Sedaris', 'Author_David Wroblewski',\n",
       "       'Author_Dean Koontz', 'Author_Deborah Harkness',\n",
       "       'Author_Dennis Lehane', 'Author_Diana Gabaldon',\n",
       "       'Author_Don DeLillo', 'Author_Don Freeman',\n",
       "       'Author_Don Piper, Cecil Murphey', 'Author_Donald Miller',\n",
       "       'Author_Douglas Adams', 'Author_Douglas Preston, Lincoln Child',\n",
       "       'Author_Dr. Seuss', 'Author_E.B. White, Garth Williams',\n",
       "       'Author_E.H. Gombrich', 'Author_E.L. James',\n",
       "       'Author_Edith Wharton', 'Author_Edith Wharton, Maureen Howard',\n",
       "       'Author_Elena Ferrante, Ann Goldstein',\n",
       "       'Author_Elif Shafak, Ø¥Ù„ÙŠÙ\\x81 Ø´Ø§Ù\\x81Ø§Ù‚, Ø§Ø±Ø³Ù„Ø§Ù† Ù\\x81ØµÛŒØ\\xadÛŒ, Ù…Ø\\xadÙ…Ø¯ Ø¯Ø±ÙˆÙŠØ´',\n",
       "       'Author_Elizabeth Gaskell, Alan Shelston',\n",
       "       'Author_Elizabeth Gilbert', 'Author_Elizabeth Strout',\n",
       "       'Author_Ellen DeGeneres',\n",
       "       'Author_Emily Dickinson, Thomas H. Johnson', 'Author_Emily Giffin',\n",
       "       'Author_Emma Cline', 'Author_Emmuska Orczy', 'Author_Eoin Colfer',\n",
       "       'Author_Eowyn Ivey', 'Author_Eric Ries', 'Author_Ernest Hemingway',\n",
       "       'Author_Esphyr Slobodkina', 'Author_Evelyn Waugh',\n",
       "       'Author_Ezra Jack Keats', 'Author_F. Scott Fitzgerald',\n",
       "       'Author_Faye Perozich, Anne Rice, John Bolton, Daerick GrÃ¶ss',\n",
       "       'Author_Frances Hodgson Burnett, Nancy Bond',\n",
       "       'Author_Frank E. Peretti', 'Author_Frank Herbert',\n",
       "       \"Author_Frank Miller, David Mazzucchelli, Richmond Lewis, Dennis O'Neil\",\n",
       "       'Author_Frank Miller, Klaus Janson, Lynn Varley',\n",
       "       'Author_Frank Warren',\n",
       "       'Author_Franz Kafka, Edwin Muir, Willa Muir, Max Brod',\n",
       "       'Author_Friedrich Nietzsche, Walter Kaufmann',\n",
       "       'Author_Fyodor Dostoyevsky, Andrew R. MacAndrew, Ben Marcus',\n",
       "       'Author_Gabrielle Zevin', 'Author_Garth Nix',\n",
       "       'Author_Gaston Leroux, Alexander Teixeira de Mattos',\n",
       "       'Author_Geoffrey Chaucer, Nevill Coghill',\n",
       "       'Author_George Eliot, Michel Faber', 'Author_George R.R. Martin',\n",
       "       'Author_Geraldine Brooks',\n",
       "       'Author_Gertrude Chandler Warner, L. Kate Deal',\n",
       "       'Author_Graeme Simsion', 'Author_Gregory David Roberts',\n",
       "       'Author_Gretchen Rubin',\n",
       "       'Author_Gustave Flaubert, Margaret Mauldon, Malcolm Bowie, Mark Overstall',\n",
       "       'Author_H.A. Rey', 'Author_H.G. Wells',\n",
       "       'Author_H.G. Wells, Arthur C. Clarke',\n",
       "       'Author_Hajime Isayama, Sheldon Drzka',\n",
       "       'Author_Hans Christian Andersen, Lily Owens, Arthur Rackham, Hans Richter',\n",
       "       'Author_Hanya Yanagihara', 'Author_Harriet Beecher Stowe',\n",
       "       'Author_Harry Allard, James  Marshall',\n",
       "       'Author_Haruki Murakami, Alfred Birnbaum',\n",
       "       'Author_Haruki Murakami, Jay Rubin',\n",
       "       'Author_Haruki Murakami, Jay Rubin, Philip Gabriel',\n",
       "       'Author_Haruki Murakami, Philip Gabriel', 'Author_Helen Fielding',\n",
       "       'Author_Helen Keller', 'Author_Helen Simonson',\n",
       "       'Author_Helene Wecker', 'Author_Henrik Ibsen, Michael   Meyer',\n",
       "       'Author_Henry David Thoreau', 'Author_Herman Koch, Sam Garrett',\n",
       "       'Author_Hermann Hesse, Basil Creighton', 'Author_Hilary Mantel',\n",
       "       'Author_Hiro Mashima, William Flanagan',\n",
       "       'Author_Hiromu Arakawa, Akira Watanabe', 'Author_Howard Zinn',\n",
       "       'Author_Hugh Howey', 'Author_Ira Levin',\n",
       "       'Author_Irma S. Rombauer, Marion Rombauer Becker, Ethan Becker',\n",
       "       'Author_Irvine Welsh, Eric Lindor Fall',\n",
       "       'Author_Irving Stone, ×©×ž×•×\\x90×œ ×©×\\xa0×™×¦×¨',\n",
       "       'Author_Isaac Asimov', 'Author_Isaac Marion',\n",
       "       'Author_Isabel Allende, Magda Bogin',\n",
       "       'Author_Isabel Allende, Margaret Sayers Peden',\n",
       "       'Author_Ishmael Beah', 'Author_J. Lynn, Jennifer L. Armentrout',\n",
       "       'Author_J.A. Redmerski', 'Author_J.D. Robb',\n",
       "       'Author_J.D. Salinger', 'Author_J.D. Vance', 'Author_J.M. Coetzee',\n",
       "       'Author_J.R. Ward', 'Author_J.R.R. Tolkien', 'Author_Jack Kerouac',\n",
       "       'Author_Jack London',\n",
       "       'Author_Jacob Grimm, Wilhelm Grimm, Josef Scharl, Padraic Colum, Joseph Campbell, Margaret Raine Hunt, James Stern',\n",
       "       'Author_James A. Michener', 'Author_James C. Collins',\n",
       "       'Author_James Clavell', 'Author_James Dashner',\n",
       "       'Author_James Fenimore Cooper', 'Author_James Herriot',\n",
       "       'Author_James Joyce', 'Author_James Joyce, Jeri Johnson',\n",
       "       'Author_James Patterson', 'Author_James Patterson, Andrew Gross',\n",
       "       'Author_James Patterson, Peter de Jonge', 'Author_James Redfield',\n",
       "       'Author_James S.A. Corey', 'Author_Jane Green',\n",
       "       'Author_Janell Cannon', 'Author_Janet Evanovich',\n",
       "       'Author_Janet Evanovich, Lorelei King', 'Author_Jasper Fforde',\n",
       "       'Author_Jaycee Dugard', 'Author_Jeff Kinney',\n",
       "       'Author_Jeff Smith, Steve Hamaker', 'Author_Jeffery Deaver',\n",
       "       'Author_Jeffrey Eugenides', 'Author_Jennifer Crusie',\n",
       "       'Author_Jennifer E. Smith', 'Author_Jennifer L. Armentrout',\n",
       "       'Author_Jennifer Niven, Ù\\x81Ø±Ø§Ù†Ú© Ù…Ø¹Ù†ÙˆÛŒ',\n",
       "       'Author_Jennifer Weiner', 'Author_Jenny Han',\n",
       "       'Author_Jerry Spinelli', 'Author_Jess Walter',\n",
       "       'Author_Jessica Knoll', 'Author_Jessica Sorensen',\n",
       "       'Author_Jessie Burton', 'Author_Jhumpa Lahiri',\n",
       "       'Author_Jim Butcher', 'Author_Jim Fergus', 'Author_Joan Didion',\n",
       "       'Author_Joanne Harris', 'Author_Jodi Ellen Malpas',\n",
       "       'Author_Jodi Picoult', 'Author_Joe Abercrombie',\n",
       "       'Author_Joe Haldeman', 'Author_Joe Hill',\n",
       "       'Author_Johann David Wyss, Scott McKowen, Arthur Pober',\n",
       "       'Author_Johanna Spyri, Angelo  Rinaldi, Beverly Cleary',\n",
       "       'Author_John Berendt', 'Author_John Flanagan', 'Author_John Gray',\n",
       "       'Author_John Green, Maureen Johnson, Lauren Myracle',\n",
       "       'Author_John Grisham', 'Author_John Irving', 'Author_John Knowles',\n",
       "       'Author_John Milton, John      Leonard', 'Author_John Steinbeck',\n",
       "       'Author_Jojo Moyes', 'Author_Jon Krakauer', 'Author_Jon Ronson',\n",
       "       'Author_Jon Scieszka, Lane Smith',\n",
       "       'Author_Jon Stewart, Ben Karlin, David Javerbaum, Rich Bloomquist, Steve Bodow, Tim Carvell, Eric Drysdale, J.R. Havlan, Scott Jacobson, Tom Johnson, Rob Kutner, Chris Regan, Jason Reich, Jason Ross, Stephen Colbert, Samantha Bee, Rob Corddry, Brendan Hay, Ed Helms',\n",
       "       'Author_Jonathan Franzen', 'Author_Jonathan Stroud',\n",
       "       'Author_Jonathan Tropper',\n",
       "       'Author_Jostein Gaarder, Paulette MÃ¸ller',\n",
       "       'Author_JosÃ© Saramago, Giovanni Pontiero',\n",
       "       'Author_Joyce Carol Oates', 'Author_Judi Barrett, Ron Barrett',\n",
       "       'Author_Judith Viorst, Ray Cruz', 'Author_Judy Blume',\n",
       "       'Author_Jules Verne, Michael Glencross, Brian W. Aldiss',\n",
       "       \"Author_Julia Child, Alex Prud'Homme\", 'Author_Julian Barnes',\n",
       "       'Author_Julie Kagawa', 'Author_Julie Powell', 'Author_Jung Chang',\n",
       "       'Author_Junot DÃ\\xadaz', 'Author_Justin Cronin',\n",
       "       'Author_Justin Halpern', 'Author_Kami Garcia, Margaret Stohl',\n",
       "       'Author_Kami Garcia, Margaret Stohl, Paz Pruneda',\n",
       "       'Author_Karen Thompson Walker', 'Author_Karin Slaughter',\n",
       "       'Author_Karl Marx, Friedrich Engels, Gareth Stedman Jones',\n",
       "       'Author_Kate Atkinson', 'Author_Kate Chopin',\n",
       "       'Author_Kate DiCamillo, Chris Sheban', 'Author_Kate Morton',\n",
       "       'Author_Katherine Applegate, Patricia Castelao',\n",
       "       'Author_Katherine Boo', 'Author_Kathy Reichs',\n",
       "       'Author_Katie McGarry', 'Author_Kazuo Ishiguro',\n",
       "       'Author_Keith Richards', 'Author_Kelley Armstrong',\n",
       "       'Author_Ken Follett',\n",
       "       'Author_Kenneth H. Blanchard, Spencer Johnson',\n",
       "       'Author_Kennilworthy Whisp, J.K. Rowling', 'Author_Kiera Cass',\n",
       "       'Author_Kim Harrison', 'Author_Kimberly McCreight',\n",
       "       'Author_Kody Keplinger', 'Author_Kristin Cashore',\n",
       "       'Author_Kristin Hannah', 'Author_Kurt Vonnegut Jr.',\n",
       "       'Author_L.M. Montgomery', 'Author_Laini Taylor',\n",
       "       'Author_Larry Niven',\n",
       "       'Author_Laura Ingalls Wilder, Garth Williams',\n",
       "       'Author_Laurell K. Hamilton', 'Author_Lauren DeStefano',\n",
       "       'Author_Lauren Kate', 'Author_Lauren Weisberger',\n",
       "       'Author_Laurie Halse Anderson', 'Author_Lee Child',\n",
       "       'Author_Lee Strobel', 'Author_Leigh Bardugo',\n",
       "       'Author_Lemony Snicket, Brett Helquist',\n",
       "       'Author_Lena Dunham, Joana Avillez', 'Author_Lev Grossman',\n",
       "       'Author_Liane Moriarty', 'Author_Libba Bray', 'Author_Lisa See',\n",
       "       'Author_Lois Lowry', 'Author_Louise Rennison',\n",
       "       'Author_Ludwig Bemelmans', 'Author_Lynne Reid Banks',\n",
       "       'Author_M.R. Carey', \"Author_Madeleine L'Engle\",\n",
       "       'Author_Maggie Stiefvater', 'Author_Malcolm Gladwell',\n",
       "       'Author_Malcolm X, Alex Haley',\n",
       "       'Author_Marcus Luttrell, Patrick Robinson',\n",
       "       'Author_Margaret Atwood', 'Author_Margaret Peterson Haddix',\n",
       "       'Author_Margaret Weis, Tracy Hickman',\n",
       "       'Author_Margery Williams Bianco, William   Nicholson',\n",
       "       'Author_Maria V. Snyder', 'Author_Marie KondÅ\\x8d, Cathy Hirano',\n",
       "       'Author_Marie Lu', 'Author_Marion Zimmer Bradley',\n",
       "       'Author_Marissa Meyer', 'Author_Marjane Satrapi, Mattias Ripa',\n",
       "       'Author_Marjane Satrapi, Mattias Ripa, Blake Ferris, Anjali Singh',\n",
       "       'Author_Markus Zusak', 'Author_Mary Kubica', 'Author_Mary Roach',\n",
       "       'Author_Matthew Quick', 'Author_Meg Wolitzer',\n",
       "       'Author_Melissa Bank', 'Author_Melissa Marr',\n",
       "       'Author_Melissa de la Cruz', 'Author_Michael   Lewis',\n",
       "       'Author_Michael  Grant', 'Author_Michael Connelly',\n",
       "       'Author_Michael Crichton', 'Author_Michael Cunningham',\n",
       "       'Author_Michael Ende, Ralph Manheim, Roswitha Quadflieg',\n",
       "       'Author_Michael Ondaatje', 'Author_Michael Pollan',\n",
       "       'Author_Michael Scott', 'Author_Michael Shaara',\n",
       "       'Author_Michelle Hodkin', 'Author_Miguel Ruiz',\n",
       "       'Author_Miguel de Cervantes Saavedra, Roberto GonzÃ¡lez EchevarrÃ\\xada, John Rutherford',\n",
       "       'Author_Mildred D. Taylor', 'Author_Mindy Kaling',\n",
       "       'Author_Mitch Albom', 'Author_Napoleon Hill',\n",
       "       'Author_Nassim Nicholas Taleb', 'Author_Nathaniel Philbrick',\n",
       "       'Author_Natsuki Takaya, Alethea Nibley, Athena Nibley',\n",
       "       'Author_Neal Shusterman', 'Author_Neal Stephenson',\n",
       "       'Author_Ned Vizzini', 'Author_Neil Gaiman',\n",
       "       'Author_Neil Gaiman, Kelley Jones, Charles Vess, Colleen Doran, Malcolm Jones III, Steve Erickson',\n",
       "       'Author_Neil Gaiman, Sam Kieth, Mike Dringenberg, Malcolm Jones III, Todd Klein, Karen  Berger',\n",
       "       'Author_Nicholas Sparks', 'Author_Nick Hornby',\n",
       "       'Author_Nicola Yoon, David Yoon', 'Author_Nicole Krauss',\n",
       "       'Author_Nora Roberts', 'Author_Norman Vincent Peale',\n",
       "       'Author_Oliver Sacks', 'Author_Orson Scott Card',\n",
       "       'Author_P.C. Cast, Kristin Cast', 'Author_P.D. Eastman',\n",
       "       'Author_P.D. James', 'Author_Patrick Ness',\n",
       "       'Author_Patrick Ness, Jim Kay, Siobhan Dowd',\n",
       "       'Author_Patrick Rothfuss, Nate  Taylor', 'Author_Patti Smith',\n",
       "       'Author_Paulo Coelho', 'Author_Paulo Coelho, Alan R. Clarke',\n",
       "       'Author_Paulo Coelho, Margaret Jull Costa',\n",
       "       'Author_Peggy Parish, Fritz Siebel', 'Author_Peter S. Beagle',\n",
       "       'Author_Peter V. Brett', 'Author_Philip K. Dick',\n",
       "       'Author_Philippa Gregory', 'Author_Pierce Brown',\n",
       "       'Author_Plato, Desmond Lee', 'Author_Rachel Cohn, David Levithan',\n",
       "       'Author_Rainbow Rowell', 'Author_Ralph Ellison',\n",
       "       'Author_Randall Munroe', 'Author_Ray Bradbury',\n",
       "       'Author_Raymond E. Feist', 'Author_Richard   Preston',\n",
       "       'Author_Richard Bach, Russell Munson',\n",
       "       'Author_Richard Bachman, Stephen King', 'Author_Richard Carlson',\n",
       "       'Author_Richard Feynman', 'Author_Richard Matheson',\n",
       "       'Author_Richard Wright', 'Author_Richard Yates',\n",
       "       'Author_Richelle Mead', 'Author_Rick Riordan',\n",
       "       'Author_Rick Yancey', 'Author_Roald Dahl, Quentin Blake',\n",
       "       'Author_Robert A. Heinlein', \"Author_Robert C. O'Brien\",\n",
       "       'Author_Robert Galbraith, J.K. Rowling', 'Author_Robert Jordan',\n",
       "       'Author_Robert Jordan, Brandon Sanderson',\n",
       "       'Author_Robert K. Massie', 'Author_Robert Kirkman',\n",
       "       'Author_Robert Louis Stevenson, Robert Mighall',\n",
       "       'Author_Robert M. Pirsig', 'Author_Robert Munsch, Sheila McGraw',\n",
       "       'Author_Robin Hobb', 'Author_Robin S. Sharma',\n",
       "       'Author_Rohinton Mistry', 'Author_Ronald Holt, Arthur Conan Doyle',\n",
       "       'Author_Rosamunde Pilcher', 'Author_Rudyard Kipling',\n",
       "       'Author_Ruth Ware', 'Author_S.C. Stephens', 'Author_Sabaa Tahir',\n",
       "       'Author_Salman Rushdie', 'Author_Sam McBratney, Anita Jeram',\n",
       "       'Author_Samuel Beckett', 'Author_Sara Shepard',\n",
       "       'Author_Sarah Dessen', 'Author_Sarah Dunant',\n",
       "       'Author_Sarah J. Maas', 'Author_Scott Lynch',\n",
       "       'Author_Scott McCloud', 'Author_Scott Turow',\n",
       "       'Author_Scott Westerfeld', 'Author_Sebastian Junger',\n",
       "       'Author_Seth Grahame-Smith, Jane Austen', 'Author_Shannon Hale',\n",
       "       'Author_Sharon Creech', 'Author_Simon Winchester',\n",
       "       'Author_Solomon Northup', 'Author_Sophie Kinsella',\n",
       "       'Author_Sophocles, J.E. Thomas', 'Author_Stacy Schiff',\n",
       "       'Author_Stephanie Perkins', 'Author_Stephen Crane',\n",
       "       'Author_Stephen E. Ambrose', 'Author_Stephen King',\n",
       "       'Author_Stephen King, Bernie Wrightson',\n",
       "       'Author_Stephen King, Bettina Blanch Tyroller',\n",
       "       'Author_Stephen King, Darrel Anderson',\n",
       "       'Author_Stephen King, Dave McKean',\n",
       "       'Author_Stephen King, Dominique Dill',\n",
       "       'Author_Stephen King, Jerry N. Uelsmann',\n",
       "       'Author_Stephen King, Marie Milpois',\n",
       "       'Author_Stephen King, Ned Dameron',\n",
       "       'Author_Stephen King, Peter Straub',\n",
       "       'Author_Stephen King, William Olivier Desmond',\n",
       "       'Author_Stephenie Meyer', 'Author_Steve Martin',\n",
       "       'Author_Steven D. Levitt, Stephen J. Dubner',\n",
       "       'Author_Steven Erikson', 'Author_Sue Monk Kidd',\n",
       "       'Author_Susan Beth Pfeffer', 'Author_Susanna Clarke',\n",
       "       'Author_Sylvain Reynard', 'Author_Sylvia Day',\n",
       "       'Author_Sylvia Nasar', 'Author_T.H. White',\n",
       "       'Author_Ta-Nehisi Coates', 'Author_Tahereh Mafi',\n",
       "       'Author_Tammara Webber', 'Author_Tana French',\n",
       "       'Author_Tennessee Williams', 'Author_Terry Goodkind',\n",
       "       'Author_Terry Pratchett',\n",
       "       'Author_Thomas Hardy, Rosemarie Morgan, Shannon Russell',\n",
       "       'Author_Thomas Hardy, Tim Dolin, Margaret R. Higonnet',\n",
       "       'Author_Thomas Keneally', 'Author_Timothy Ferriss',\n",
       "       'Author_Tite Kubo', 'Author_Tom Clancy', 'Author_Tom Robbins',\n",
       "       'Author_Tom Stoppard, Henry Popkin', 'Author_Toni Morrison',\n",
       "       'Author_Travis Bradberry, Jean Greaves, Patrick Lencioni',\n",
       "       'Author_Trenton Lee Stewart, Carson Ellis', 'Author_Truman Capote',\n",
       "       'Author_Tsugumi Ohba, Takeshi Obata', 'Author_TÃ©a Obreht',\n",
       "       'Author_Unknown, Seamus Heaney',\n",
       "       'Author_Upton Sinclair, Earl Lee, Kathleen DeGrave',\n",
       "       'Author_Ursula K. Le Guin', 'Author_V.C. Andrews',\n",
       "       'Author_Vanessa Diffenbaugh', 'Author_Veronica Rossi',\n",
       "       'Author_Veronica Roth', 'Author_Victor Hugo, Walter J. Cobb',\n",
       "       'Author_Vincent Bugliosi, Curt Gentry',\n",
       "       'Author_Virgil, Robert Fitzgerald',\n",
       "       'Author_Virginia Woolf, Maureen Howard', 'Author_Voltaire',\n",
       "       'Author_W. Bruce Cameron', 'Author_Walter Isaacson',\n",
       "       'Author_Walter M. Miller Jr.',\n",
       "       'Author_Watty Piper, Doris Hauman, George Hauman',\n",
       "       'Author_Wendelin Van Draanen', 'Author_William Faulkner',\n",
       "       'Author_William L. Shirer',\n",
       "       'Author_William Makepeace Thackeray, John Carey',\n",
       "       'Author_William Peter Blatty',\n",
       "       'Author_William S. Burroughs, James Grauerholz, Barry  Miles',\n",
       "       'Author_William Shakespeare',\n",
       "       'Author_William Shakespeare, Robert          Jackson, Barbara A. Mowat, Paul Werstine',\n",
       "       'Author_William Shakespeare, Roma Gill', 'Author_William Styron',\n",
       "       'Author_Yana Toboso, Tomo Kimura', 'Author_Zadie Smith',\n",
       "       'Author_Ø£Ø\\xadÙ„Ø§Ù… Ù…Ø³ØªØºØ§Ù†Ù…ÙŠ, Ahlam Mosteghanemi',\n",
       "       'language_code_ara', 'language_code_en-CA', 'language_code_en-GB',\n",
       "       'language_code_en-US', 'language_code_eng', 'language_code_fre',\n",
       "       'language_code_spa', 'Author_Rating_Excellent',\n",
       "       'Author_Rating_Famous', 'Author_Rating_Intermediate',\n",
       "       'Author_Rating_Novice', 'genre_children', 'genre_fiction',\n",
       "       'genre_genre fiction', 'genre_nonfiction',\n",
       "       'Publisher_Amazon Digital Services,  Inc.',\n",
       "       'Publisher_Hachette Book Group',\n",
       "       'Publisher_HarperCollins Christian Publishing',\n",
       "       'Publisher_HarperCollins Publishers', 'Publisher_Macmillan',\n",
       "       'Publisher_Penguin Group (USA) LLC', 'Publisher_Random House LLC',\n",
       "       'Publisher_Simon and Schuster Digital Sales Inc'], dtype=object)"
      ]
     },
     "execution_count": 46,
     "metadata": {},
     "output_type": "execute_result"
    }
   ],
   "source": [
    "cat_names  # Можно посмотреть, что скрывается за индексами"
   ]
  },
  {
   "cell_type": "code",
   "execution_count": 47,
   "metadata": {},
   "outputs": [
    {
     "name": "stdout",
     "output_type": "stream",
     "text": [
      "r2 на тренировочной выборке: -0.1430\n",
      "r2 на валидационной выборке: -0.1457\n",
      "mse на тренировочной выборке: 270303061.5607\n",
      "mse на валидационной выборке: 282970326.0897\n",
      "rmse на тренировочной выборке: 16440.8960\n",
      "rmse на валидационной выборке: 16821.7219\n"
     ]
    }
   ],
   "source": [
    "print(f\"r2 на тренировочной выборке: {calculate_metric(pipe_all_transform, X_train, y_train):.4f}\")\n",
    "print(f\"r2 на валидационной выборке: {calculate_metric(pipe_all_transform, X_val, y_val):.4f}\")\n",
    "\n",
    "print(f\"mse на тренировочной выборке: {calculate_metric(pipe_all_transform, X_train, y_train, mse):.4f}\")\n",
    "print(f\"mse на валидационной выборке: {calculate_metric(pipe_all_transform, X_val, y_val, mse):.4f}\")\n",
    "\n",
    "print(f\"rmse на тренировочной выборке: {calculate_metric(pipe_all_transform, X_train, y_train, mse, squared = False):.4f}\")\n",
    "print(f\"rmse на валидационной выборке: {calculate_metric(pipe_all_transform, X_val, y_val, mse, squared = False):.4f}\")"
   ]
  },
  {
   "cell_type": "code",
   "execution_count": 48,
   "metadata": {},
   "outputs": [
    {
     "name": "stdout",
     "output_type": "stream",
     "text": [
      "Ошибка на кросс-валидации\n"
     ]
    },
    {
     "data": {
      "text/html": [
       "<div>\n",
       "<style scoped>\n",
       "    .dataframe tbody tr th:only-of-type {\n",
       "        vertical-align: middle;\n",
       "    }\n",
       "\n",
       "    .dataframe tbody tr th {\n",
       "        vertical-align: top;\n",
       "    }\n",
       "\n",
       "    .dataframe thead th {\n",
       "        text-align: right;\n",
       "    }\n",
       "</style>\n",
       "<table border=\"1\" class=\"dataframe\">\n",
       "  <thead>\n",
       "    <tr style=\"text-align: right;\">\n",
       "      <th></th>\n",
       "      <th>fit_time</th>\n",
       "      <th>score_time</th>\n",
       "      <th>test_R2</th>\n",
       "      <th>test_-MSE</th>\n",
       "      <th>test_-MAE</th>\n",
       "      <th>test_-Max</th>\n",
       "    </tr>\n",
       "  </thead>\n",
       "  <tbody>\n",
       "    <tr>\n",
       "      <th>0</th>\n",
       "      <td>0.039008</td>\n",
       "      <td>0.007002</td>\n",
       "      <td>-0.190992</td>\n",
       "      <td>-2.249559e+08</td>\n",
       "      <td>-7579.187838</td>\n",
       "      <td>-50942.349549</td>\n",
       "    </tr>\n",
       "    <tr>\n",
       "      <th>1</th>\n",
       "      <td>0.046010</td>\n",
       "      <td>0.008002</td>\n",
       "      <td>-0.153668</td>\n",
       "      <td>-2.637030e+08</td>\n",
       "      <td>-7846.940398</td>\n",
       "      <td>-48599.799729</td>\n",
       "    </tr>\n",
       "    <tr>\n",
       "      <th>2</th>\n",
       "      <td>0.036008</td>\n",
       "      <td>0.008002</td>\n",
       "      <td>-0.166907</td>\n",
       "      <td>-2.812811e+08</td>\n",
       "      <td>-8621.145001</td>\n",
       "      <td>-55463.476417</td>\n",
       "    </tr>\n",
       "    <tr>\n",
       "      <th>3</th>\n",
       "      <td>0.042009</td>\n",
       "      <td>0.008002</td>\n",
       "      <td>-0.158316</td>\n",
       "      <td>-2.980069e+08</td>\n",
       "      <td>-8930.667387</td>\n",
       "      <td>-54760.397967</td>\n",
       "    </tr>\n",
       "    <tr>\n",
       "      <th>4</th>\n",
       "      <td>0.041009</td>\n",
       "      <td>0.009002</td>\n",
       "      <td>-0.270623</td>\n",
       "      <td>-3.142499e+08</td>\n",
       "      <td>-10263.874241</td>\n",
       "      <td>-56982.174985</td>\n",
       "    </tr>\n",
       "  </tbody>\n",
       "</table>\n",
       "</div>"
      ],
      "text/plain": [
       "   fit_time  score_time   test_R2     test_-MSE     test_-MAE     test_-Max\n",
       "0  0.039008    0.007002 -0.190992 -2.249559e+08  -7579.187838 -50942.349549\n",
       "1  0.046010    0.008002 -0.153668 -2.637030e+08  -7846.940398 -48599.799729\n",
       "2  0.036008    0.008002 -0.166907 -2.812811e+08  -8621.145001 -55463.476417\n",
       "3  0.042009    0.008002 -0.158316 -2.980069e+08  -8930.667387 -54760.397967\n",
       "4  0.041009    0.009002 -0.270623 -3.142499e+08 -10263.874241 -56982.174985"
      ]
     },
     "metadata": {},
     "output_type": "display_data"
    },
    {
     "name": "stdout",
     "output_type": "stream",
     "text": [
      "\n",
      "\n",
      "test_R2     -1.881016e-01\n",
      "test_-MSE   -2.764393e+08\n",
      "test_-MAE   -8.648363e+03\n",
      "test_-Max   -5.334964e+04\n",
      "dtype: float64\n"
     ]
    }
   ],
   "source": [
    "cross_validation (X_train, y_train,\n",
    "                  pipe_all_transform,\n",
    "                  scoring_reg,\n",
    "                  ShuffleSplit(n_splits=5, random_state = 73))"
   ]
  },
  {
   "cell_type": "code",
   "execution_count": 49,
   "metadata": {},
   "outputs": [
    {
     "data": {
      "image/png": "[encoded data removed]",
      "text/plain": [
       "<Figure size 640x480 with 1 Axes>"
      ]
     },
     "metadata": {},
     "output_type": "display_data"
    }
   ],
   "source": [
    "PredictionErrorDisplay.from_predictions(\n",
    "    y_val,\n",
    "    pipe_all_transform.predict(X_val),\n",
    "    kind=\"actual_vs_predicted\",\n",
    "    scatter_kwargs={\"alpha\": 0.5},\n",
    ");"
   ]
  },
  {
   "cell_type": "markdown",
   "metadata": {},
   "source": [
    "Выводы по модели:\n",
    "\n",
    "* Добавление категориальных признаков не улучшило результаты линейной модели (метрика r2 так и осталась 2.8)\n",
    "\n",
    "* Результаты так явно не кластеризуются\n",
    "\n",
    "* Предсказание средних книг улучшилось, но максимальных ухудшилось\n",
    "\n",
    "* Наиболее значимыми оказались числовые признаки: цена книги и количество рейтингов.\n",
    "\n"
   ]
  }
 ],
 "metadata": {
  "kernelspec": {
   "display_name": "Python 3",
   "language": "python",
   "name": "python3"
  },
  "language_info": {
   "codemirror_mode": {
    "name": "ipython",
    "version": 3
   },
   "file_extension": ".py",
   "mimetype": "text/x-python",
   "name": "python",
   "nbconvert_exporter": "python",
   "pygments_lexer": "ipython3",
   "version": "3.12.2"
  }
 },
 "nbformat": 4,
 "nbformat_minor": 2
}
