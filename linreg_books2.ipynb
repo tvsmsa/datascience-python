{
 "cells": [
  {
   "cell_type": "markdown",
   "id": "75245275",
   "metadata": {},
   "source": [
    "# Линейная регрессия\n",
    "\n",
    "**Выполнил студент ФИО**"
   ]
  },
  {
   "cell_type": "markdown",
   "id": "153830d1",
   "metadata": {},
   "source": [
    "Решение задачи регрессии в scikit-learn с помощью линейной модели - линейная регрессия\n",
    "\n",
    "- Обучение класса SGDRegressor и анализ атрибутов\n",
    "- Анализ модели для разных данных\n",
    "- Предобразование целевой переменной с помощью класса TransformedTargetRegressor\n",
    "- Сохранение модели"
   ]
  },
  {
   "cell_type": "markdown",
   "id": "663adcbd",
   "metadata": {},
   "source": [
    "## Установка и импорт библиотек"
   ]
  },
  {
   "cell_type": "code",
   "execution_count": 62,
   "id": "069d9e52",
   "metadata": {},
   "outputs": [
    {
     "name": "stdout",
     "output_type": "stream",
     "text": [
      "Requirement already satisfied: pandas in c:\\users\\acer\\appdata\\local\\programs\\python\\python312\\lib\\site-packages (2.2.1)\n",
      "Requirement already satisfied: numpy<2,>=1.26.0 in c:\\users\\acer\\appdata\\local\\programs\\python\\python312\\lib\\site-packages (from pandas) (1.26.4)\n",
      "Requirement already satisfied: python-dateutil>=2.8.2 in c:\\users\\acer\\appdata\\local\\programs\\python\\python312\\lib\\site-packages (from pandas) (2.9.0.post0)\n",
      "Requirement already satisfied: pytz>=2020.1 in c:\\users\\acer\\appdata\\local\\programs\\python\\python312\\lib\\site-packages (from pandas) (2024.1)\n",
      "Requirement already satisfied: tzdata>=2022.7 in c:\\users\\acer\\appdata\\local\\programs\\python\\python312\\lib\\site-packages (from pandas) (2024.1)\n",
      "Requirement already satisfied: six>=1.5 in c:\\users\\acer\\appdata\\local\\programs\\python\\python312\\lib\\site-packages (from python-dateutil>=2.8.2->pandas) (1.16.0)\n",
      "Note: you may need to restart the kernel to use updated packages.\n",
      "Requirement already satisfied: numpy in c:\\users\\acer\\appdata\\local\\programs\\python\\python312\\lib\\site-packages (1.26.4)\n",
      "Note: you may need to restart the kernel to use updated packages.\n",
      "Requirement already satisfied: matplotlib in c:\\users\\acer\\appdata\\local\\programs\\python\\python312\\lib\\site-packages (3.8.4)Note: you may need to restart the kernel to use updated packages.\n",
      "\n",
      "Requirement already satisfied: contourpy>=1.0.1 in c:\\users\\acer\\appdata\\local\\programs\\python\\python312\\lib\\site-packages (from matplotlib) (1.2.1)\n",
      "Requirement already satisfied: cycler>=0.10 in c:\\users\\acer\\appdata\\local\\programs\\python\\python312\\lib\\site-packages (from matplotlib) (0.12.1)\n",
      "Requirement already satisfied: fonttools>=4.22.0 in c:\\users\\acer\\appdata\\local\\programs\\python\\python312\\lib\\site-packages (from matplotlib) (4.51.0)\n",
      "Requirement already satisfied: kiwisolver>=1.3.1 in c:\\users\\acer\\appdata\\local\\programs\\python\\python312\\lib\\site-packages (from matplotlib) (1.4.5)\n",
      "Requirement already satisfied: numpy>=1.21 in c:\\users\\acer\\appdata\\local\\programs\\python\\python312\\lib\\site-packages (from matplotlib) (1.26.4)\n",
      "Requirement already satisfied: packaging>=20.0 in c:\\users\\acer\\appdata\\local\\programs\\python\\python312\\lib\\site-packages (from matplotlib) (24.0)\n",
      "Requirement already satisfied: pillow>=8 in c:\\users\\acer\\appdata\\local\\programs\\python\\python312\\lib\\site-packages (from matplotlib) (10.3.0)\n",
      "Requirement already satisfied: pyparsing>=2.3.1 in c:\\users\\acer\\appdata\\local\\programs\\python\\python312\\lib\\site-packages (from matplotlib) (3.1.2)\n",
      "Requirement already satisfied: python-dateutil>=2.7 in c:\\users\\acer\\appdata\\local\\programs\\python\\python312\\lib\\site-packages (from matplotlib) (2.9.0.post0)\n",
      "Requirement already satisfied: six>=1.5 in c:\\users\\acer\\appdata\\local\\programs\\python\\python312\\lib\\site-packages (from python-dateutil>=2.7->matplotlib) (1.16.0)\n",
      "Requirement already satisfied: plotly in c:\\users\\acer\\appdata\\local\\programs\\python\\python312\\lib\\site-packages (5.22.0)\n",
      "Requirement already satisfied: tenacity>=6.2.0 in c:\\users\\acer\\appdata\\local\\programs\\python\\python312\\lib\\site-packages (from plotly) (8.3.0)\n",
      "Requirement already satisfied: packaging in c:\\users\\acer\\appdata\\local\\programs\\python\\python312\\lib\\site-packages (from plotly) (24.0)\n",
      "Note: you may need to restart the kernel to use updated packages.\n",
      "Requirement already satisfied: seaborn in c:\\users\\acer\\appdata\\local\\programs\\python\\python312\\lib\\site-packages (0.13.2)\n",
      "Requirement already satisfied: numpy!=1.24.0,>=1.20 in c:\\users\\acer\\appdata\\local\\programs\\python\\python312\\lib\\site-packages (from seaborn) (1.26.4)\n",
      "Requirement already satisfied: pandas>=1.2 in c:\\users\\acer\\appdata\\local\\programs\\python\\python312\\lib\\site-packages (from seaborn) (2.2.1)\n",
      "Requirement already satisfied: matplotlib!=3.6.1,>=3.4 in c:\\users\\acer\\appdata\\local\\programs\\python\\python312\\lib\\site-packages (from seaborn) (3.8.4)\n",
      "Requirement already satisfied: contourpy>=1.0.1 in c:\\users\\acer\\appdata\\local\\programs\\python\\python312\\lib\\site-packages (from matplotlib!=3.6.1,>=3.4->seaborn) (1.2.1)\n",
      "Requirement already satisfied: cycler>=0.10 in c:\\users\\acer\\appdata\\local\\programs\\python\\python312\\lib\\site-packages (from matplotlib!=3.6.1,>=3.4->seaborn) (0.12.1)\n",
      "Requirement already satisfied: fonttools>=4.22.0 in c:\\users\\acer\\appdata\\local\\programs\\python\\python312\\lib\\site-packages (from matplotlib!=3.6.1,>=3.4->seaborn) (4.51.0)\n",
      "Requirement already satisfied: kiwisolver>=1.3.1 in c:\\users\\acer\\appdata\\local\\programs\\python\\python312\\lib\\site-packages (from matplotlib!=3.6.1,>=3.4->seaborn) (1.4.5)\n",
      "Requirement already satisfied: packaging>=20.0 in c:\\users\\acer\\appdata\\local\\programs\\python\\python312\\lib\\site-packages (from matplotlib!=3.6.1,>=3.4->seaborn) (24.0)\n",
      "Requirement already satisfied: pillow>=8 in c:\\users\\acer\\appdata\\local\\programs\\python\\python312\\lib\\site-packages (from matplotlib!=3.6.1,>=3.4->seaborn) (10.3.0)\n",
      "Requirement already satisfied: pyparsing>=2.3.1 in c:\\users\\acer\\appdata\\local\\programs\\python\\python312\\lib\\site-packages (from matplotlib!=3.6.1,>=3.4->seaborn) (3.1.2)\n",
      "Requirement already satisfied: python-dateutil>=2.7 in c:\\users\\acer\\appdata\\local\\programs\\python\\python312\\lib\\site-packages (from matplotlib!=3.6.1,>=3.4->seaborn) (2.9.0.post0)\n",
      "Requirement already satisfied: pytz>=2020.1 in c:\\users\\acer\\appdata\\local\\programs\\python\\python312\\lib\\site-packages (from pandas>=1.2->seaborn) (2024.1)\n",
      "Requirement already satisfied: tzdata>=2022.7 in c:\\users\\acer\\appdata\\local\\programs\\python\\python312\\lib\\site-packages (from pandas>=1.2->seaborn) (2024.1)\n",
      "Requirement already satisfied: six>=1.5 in c:\\users\\acer\\appdata\\local\\programs\\python\\python312\\lib\\site-packages (from python-dateutil>=2.7->matplotlib!=3.6.1,>=3.4->seaborn) (1.16.0)\n",
      "Note: you may need to restart the kernel to use updated packages.\n",
      "Requirement already satisfied: scikit-learn in c:\\users\\acer\\appdata\\local\\programs\\python\\python312\\lib\\site-packages (1.4.2)\n",
      "Requirement already satisfied: numpy>=1.19.5 in c:\\users\\acer\\appdata\\local\\programs\\python\\python312\\lib\\site-packages (from scikit-learn) (1.26.4)\n",
      "Requirement already satisfied: scipy>=1.6.0 in c:\\users\\acer\\appdata\\local\\programs\\python\\python312\\lib\\site-packages (from scikit-learn) (1.13.0)\n",
      "Requirement already satisfied: joblib>=1.2.0 in c:\\users\\acer\\appdata\\local\\programs\\python\\python312\\lib\\site-packages (from scikit-learn) (1.4.2)\n",
      "Requirement already satisfied: threadpoolctl>=2.0.0 in c:\\users\\acer\\appdata\\local\\programs\\python\\python312\\lib\\site-packages (from scikit-learn) (3.5.0)\n",
      "Note: you may need to restart the kernel to use updated packages.\n"
     ]
    }
   ],
   "source": [
    "%pip install pandas\n",
    "%pip install numpy\n",
    "%pip install matplotlib\n",
    "%pip install plotly\n",
    "%pip install seaborn\n",
    "%pip install scikit-learn"
   ]
  },
  {
   "cell_type": "code",
   "execution_count": 63,
   "id": "3806c607",
   "metadata": {},
   "outputs": [],
   "source": [
    "import pandas as pd # Библиотека Pandas для работы с табличными данными\n",
    "import numpy as np # библиотека Numpy для операций линейной алгебры и прочего\n",
    "import matplotlib.pyplot as plt # библиотека Matplotlib для визуализации\n",
    "import seaborn as sns # библиотека seaborn для визуализации\n",
    "import numpy as np # библиотека Numpy для операций линейной алгебры и прочего\n",
    "import plotly.graph_objects as go # Библиотека Plotly. Модуль \"Graph Objects\"\n",
    "import plotly.express as px # Библиотека Plotly. Модуль \"Express\"\n",
    "\n",
    "# предварительная обработка числовых признаков\n",
    "from sklearn.preprocessing import MinMaxScaler# Импортируем нормализацию от scikit-learn\n",
    "from sklearn.preprocessing import StandardScaler # Импортируем стандартизацию от scikit-learn\n",
    "from sklearn.preprocessing import PowerTransformer  # Степенное преобразование от scikit-learn\n",
    "# предварительная обработка категориальных признаков\n",
    "from sklearn.preprocessing import OneHotEncoder# Импортируем One-Hot Encoding от scikit-learn\n",
    "from sklearn.preprocessing import OrdinalEncoder# Импортируем Порядковое кодированиеот scikit-learn\n",
    "\n",
    "from sklearn.pipeline import Pipeline # Pipeline.Не добавить, не убавить\n",
    "\n",
    "from sklearn.compose import ColumnTransformer # т.н. преобразователь колонок\n",
    "\n",
    "from sklearn.base import BaseEstimator, TransformerMixin # для создания собственных преобразователей / трансформеров данных\n",
    "\n",
    "from sklearn.compose import TransformedTargetRegressor # ддля обрабоки целевой переменной\n",
    "\n",
    "import warnings\n",
    "warnings.filterwarnings('ignore')"
   ]
  },
  {
   "cell_type": "markdown",
   "id": "7540b7db",
   "metadata": {},
   "source": [
    "# Описание датасета"
   ]
  },
  {
   "cell_type": "markdown",
   "id": "a20cdd4c",
   "metadata": {},
   "source": [
    "'Laptop': Уникальный идентификатор или название модели ноутбука.\n",
    "\n",
    "'Status': Новый или бывший в ремонте\n",
    "\n",
    "'Brand': Производитель ноутбука\n",
    "\n",
    "'Model': Модель ноутбука\n",
    "\n",
    "'CPU' (центральный процессор): Марка, модель процессора и другие важные сведения\n",
    "\n",
    "'GPU' (графический процессор): Марка, модель видеокарты и связанные с ней технические характеристики\n",
    "\n",
    "'RAM' (оперативная память): Объем памяти\n",
    "\n",
    "'Storage':  Емкость накопителя\n",
    "\n",
    "'Storage type': Тип накопителя\n",
    "\n",
    "'Screen': Диагональ экрана в дюймах\n",
    "\n",
    "'Touch': Есть или нет тачскрин\n",
    "\n",
    "'Final Price': Стоимость ноутбука в соответствующей валюте\n",
    "\n",
    "Ссылка на датасет: https://www.kaggle.com/datasets/juanmerinobermejo/laptops-price-dataset"
   ]
  },
  {
   "cell_type": "code",
   "execution_count": 64,
   "id": "b889cc26",
   "metadata": {},
   "outputs": [
    {
     "data": {
      "text/html": [
       "<div>\n",
       "<style scoped>\n",
       "    .dataframe tbody tr th:only-of-type {\n",
       "        vertical-align: middle;\n",
       "    }\n",
       "\n",
       "    .dataframe tbody tr th {\n",
       "        vertical-align: top;\n",
       "    }\n",
       "\n",
       "    .dataframe thead th {\n",
       "        text-align: right;\n",
       "    }\n",
       "</style>\n",
       "<table border=\"1\" class=\"dataframe\">\n",
       "  <thead>\n",
       "    <tr style=\"text-align: right;\">\n",
       "      <th></th>\n",
       "      <th>index</th>\n",
       "      <th>Publishing Year</th>\n",
       "      <th>Book Name</th>\n",
       "      <th>Author</th>\n",
       "      <th>language_code</th>\n",
       "      <th>Author_Rating</th>\n",
       "      <th>Book_average_rating</th>\n",
       "      <th>Book_ratings_count</th>\n",
       "      <th>genre</th>\n",
       "      <th>gross sales</th>\n",
       "      <th>publisher revenue</th>\n",
       "      <th>sale price</th>\n",
       "      <th>sales rank</th>\n",
       "      <th>Publisher</th>\n",
       "      <th>units sold</th>\n",
       "    </tr>\n",
       "  </thead>\n",
       "  <tbody>\n",
       "    <tr>\n",
       "      <th>0</th>\n",
       "      <td>0</td>\n",
       "      <td>1975.0</td>\n",
       "      <td>Beowulf</td>\n",
       "      <td>Unknown, Seamus Heaney</td>\n",
       "      <td>en-US</td>\n",
       "      <td>Novice</td>\n",
       "      <td>3.42</td>\n",
       "      <td>155903</td>\n",
       "      <td>genre fiction</td>\n",
       "      <td>34160.0</td>\n",
       "      <td>20496.0</td>\n",
       "      <td>4.88</td>\n",
       "      <td>1</td>\n",
       "      <td>HarperCollins Publishers</td>\n",
       "      <td>7000</td>\n",
       "    </tr>\n",
       "    <tr>\n",
       "      <th>1</th>\n",
       "      <td>1</td>\n",
       "      <td>1987.0</td>\n",
       "      <td>Batman: Year One</td>\n",
       "      <td>Frank Miller, David Mazzucchelli, Richmond Lew...</td>\n",
       "      <td>eng</td>\n",
       "      <td>Intermediate</td>\n",
       "      <td>4.23</td>\n",
       "      <td>145267</td>\n",
       "      <td>genre fiction</td>\n",
       "      <td>12437.5</td>\n",
       "      <td>7462.5</td>\n",
       "      <td>1.99</td>\n",
       "      <td>2</td>\n",
       "      <td>HarperCollins Publishers</td>\n",
       "      <td>6250</td>\n",
       "    </tr>\n",
       "    <tr>\n",
       "      <th>2</th>\n",
       "      <td>2</td>\n",
       "      <td>2015.0</td>\n",
       "      <td>Go Set a Watchman</td>\n",
       "      <td>Harper Lee</td>\n",
       "      <td>eng</td>\n",
       "      <td>Novice</td>\n",
       "      <td>3.31</td>\n",
       "      <td>138669</td>\n",
       "      <td>genre fiction</td>\n",
       "      <td>47795.0</td>\n",
       "      <td>28677.0</td>\n",
       "      <td>8.69</td>\n",
       "      <td>3</td>\n",
       "      <td>Amazon Digital Services,  Inc.</td>\n",
       "      <td>5500</td>\n",
       "    </tr>\n",
       "    <tr>\n",
       "      <th>3</th>\n",
       "      <td>3</td>\n",
       "      <td>2008.0</td>\n",
       "      <td>When You Are Engulfed in Flames</td>\n",
       "      <td>David Sedaris</td>\n",
       "      <td>en-US</td>\n",
       "      <td>Intermediate</td>\n",
       "      <td>4.04</td>\n",
       "      <td>150898</td>\n",
       "      <td>fiction</td>\n",
       "      <td>41250.0</td>\n",
       "      <td>24750.0</td>\n",
       "      <td>7.50</td>\n",
       "      <td>3</td>\n",
       "      <td>Hachette Book Group</td>\n",
       "      <td>5500</td>\n",
       "    </tr>\n",
       "    <tr>\n",
       "      <th>4</th>\n",
       "      <td>4</td>\n",
       "      <td>2011.0</td>\n",
       "      <td>Daughter of Smoke &amp; Bone</td>\n",
       "      <td>Laini Taylor</td>\n",
       "      <td>eng</td>\n",
       "      <td>Intermediate</td>\n",
       "      <td>4.04</td>\n",
       "      <td>198283</td>\n",
       "      <td>genre fiction</td>\n",
       "      <td>37952.5</td>\n",
       "      <td>22771.5</td>\n",
       "      <td>7.99</td>\n",
       "      <td>4</td>\n",
       "      <td>Penguin Group (USA) LLC</td>\n",
       "      <td>4750</td>\n",
       "    </tr>\n",
       "  </tbody>\n",
       "</table>\n",
       "</div>"
      ],
      "text/plain": [
       "   index  Publishing Year                        Book Name  \\\n",
       "0      0           1975.0                          Beowulf   \n",
       "1      1           1987.0                 Batman: Year One   \n",
       "2      2           2015.0                Go Set a Watchman   \n",
       "3      3           2008.0  When You Are Engulfed in Flames   \n",
       "4      4           2011.0         Daughter of Smoke & Bone   \n",
       "\n",
       "                                              Author language_code  \\\n",
       "0                             Unknown, Seamus Heaney         en-US   \n",
       "1  Frank Miller, David Mazzucchelli, Richmond Lew...           eng   \n",
       "2                                         Harper Lee           eng   \n",
       "3                                      David Sedaris         en-US   \n",
       "4                                       Laini Taylor           eng   \n",
       "\n",
       "  Author_Rating  Book_average_rating  Book_ratings_count          genre  \\\n",
       "0        Novice                 3.42              155903  genre fiction   \n",
       "1  Intermediate                 4.23              145267  genre fiction   \n",
       "2        Novice                 3.31              138669  genre fiction   \n",
       "3  Intermediate                 4.04              150898        fiction   \n",
       "4  Intermediate                 4.04              198283  genre fiction   \n",
       "\n",
       "   gross sales  publisher revenue  sale price  sales rank  \\\n",
       "0      34160.0            20496.0        4.88           1   \n",
       "1      12437.5             7462.5        1.99           2   \n",
       "2      47795.0            28677.0        8.69           3   \n",
       "3      41250.0            24750.0        7.50           3   \n",
       "4      37952.5            22771.5        7.99           4   \n",
       "\n",
       "                        Publisher  units sold  \n",
       "0        HarperCollins Publishers        7000  \n",
       "1        HarperCollins Publishers        6250  \n",
       "2  Amazon Digital Services,  Inc.        5500  \n",
       "3             Hachette Book Group        5500  \n",
       "4         Penguin Group (USA) LLC        4750  "
      ]
     },
     "execution_count": 64,
     "metadata": {},
     "output_type": "execute_result"
    }
   ],
   "source": [
    "df = pd.read_csv('Books_Data_Clean.csv')  # Считываем файл в DataFrame\n",
    "df.head(5)  # Посмотрим первые пять записей"
   ]
  },
  {
   "cell_type": "code",
   "execution_count": 65,
   "id": "4d03602b",
   "metadata": {},
   "outputs": [],
   "source": [
    "df = df.dropna(subset=['Book Name'])  # Удалим записи с пропусками.\n",
    "df['language_code'].fillna('eng', inplace = True)  # Заменим пропуски на самое часто встречающее значение - eng"
   ]
  },
  {
   "cell_type": "code",
   "execution_count": 66,
   "id": "028b6d90",
   "metadata": {},
   "outputs": [],
   "source": [
    "df = df.drop(['index', 'Book Name'], axis=1) #Дубликаты\n",
    "df = df.drop(['units sold', 'publisher revenue', 'sales rank'], axis=1) #Результативные"
   ]
  },
  {
   "cell_type": "code",
   "execution_count": 67,
   "id": "60f0ae59",
   "metadata": {},
   "outputs": [],
   "source": [
    "df['Publishing Year'] = 2024 - df['Publishing Year']\n",
    "df.rename(columns = {'Publishing Year':'Age'}, inplace = True )"
   ]
  },
  {
   "cell_type": "code",
   "execution_count": 68,
   "id": "c4d887f3",
   "metadata": {},
   "outputs": [
    {
     "name": "stdout",
     "output_type": "stream",
     "text": [
      "<class 'pandas.core.frame.DataFrame'>\n",
      "Index: 1047 entries, 0 to 1069\n",
      "Data columns (total 10 columns):\n",
      " #   Column               Non-Null Count  Dtype  \n",
      "---  ------               --------------  -----  \n",
      " 0   Age                  1047 non-null   float64\n",
      " 1   Author               1047 non-null   object \n",
      " 2   language_code        1047 non-null   object \n",
      " 3   Author_Rating        1047 non-null   object \n",
      " 4   Book_average_rating  1047 non-null   float64\n",
      " 5   Book_ratings_count   1047 non-null   int64  \n",
      " 6   genre                1047 non-null   object \n",
      " 7   gross sales          1047 non-null   float64\n",
      " 8   sale price           1047 non-null   float64\n",
      " 9   Publisher            1047 non-null   object \n",
      "dtypes: float64(4), int64(1), object(5)\n",
      "memory usage: 90.0+ KB\n"
     ]
    }
   ],
   "source": [
    "df.info()  # Выведем краткую сводку по датафрейму"
   ]
  },
  {
   "cell_type": "code",
   "execution_count": 69,
   "id": "74d6b03c",
   "metadata": {},
   "outputs": [
    {
     "data": {
      "text/html": [
       "<div>\n",
       "<style scoped>\n",
       "    .dataframe tbody tr th:only-of-type {\n",
       "        vertical-align: middle;\n",
       "    }\n",
       "\n",
       "    .dataframe tbody tr th {\n",
       "        vertical-align: top;\n",
       "    }\n",
       "\n",
       "    .dataframe thead th {\n",
       "        text-align: right;\n",
       "    }\n",
       "</style>\n",
       "<table border=\"1\" class=\"dataframe\">\n",
       "  <thead>\n",
       "    <tr style=\"text-align: right;\">\n",
       "      <th></th>\n",
       "      <th>Age</th>\n",
       "      <th>Author</th>\n",
       "      <th>language_code</th>\n",
       "      <th>Author_Rating</th>\n",
       "      <th>Book_average_rating</th>\n",
       "      <th>Book_ratings_count</th>\n",
       "      <th>genre</th>\n",
       "      <th>gross sales</th>\n",
       "      <th>sale price</th>\n",
       "      <th>Publisher</th>\n",
       "    </tr>\n",
       "  </thead>\n",
       "  <tbody>\n",
       "    <tr>\n",
       "      <th>0</th>\n",
       "      <td>49.0</td>\n",
       "      <td>Unknown, Seamus Heaney</td>\n",
       "      <td>en-US</td>\n",
       "      <td>Novice</td>\n",
       "      <td>3.42</td>\n",
       "      <td>155903</td>\n",
       "      <td>genre fiction</td>\n",
       "      <td>34160.0</td>\n",
       "      <td>4.88</td>\n",
       "      <td>HarperCollins Publishers</td>\n",
       "    </tr>\n",
       "    <tr>\n",
       "      <th>1</th>\n",
       "      <td>37.0</td>\n",
       "      <td>Frank Miller, David Mazzucchelli, Richmond Lew...</td>\n",
       "      <td>eng</td>\n",
       "      <td>Intermediate</td>\n",
       "      <td>4.23</td>\n",
       "      <td>145267</td>\n",
       "      <td>genre fiction</td>\n",
       "      <td>12437.5</td>\n",
       "      <td>1.99</td>\n",
       "      <td>HarperCollins Publishers</td>\n",
       "    </tr>\n",
       "    <tr>\n",
       "      <th>2</th>\n",
       "      <td>9.0</td>\n",
       "      <td>Harper Lee</td>\n",
       "      <td>eng</td>\n",
       "      <td>Novice</td>\n",
       "      <td>3.31</td>\n",
       "      <td>138669</td>\n",
       "      <td>genre fiction</td>\n",
       "      <td>47795.0</td>\n",
       "      <td>8.69</td>\n",
       "      <td>Amazon Digital Services,  Inc.</td>\n",
       "    </tr>\n",
       "    <tr>\n",
       "      <th>3</th>\n",
       "      <td>16.0</td>\n",
       "      <td>David Sedaris</td>\n",
       "      <td>en-US</td>\n",
       "      <td>Intermediate</td>\n",
       "      <td>4.04</td>\n",
       "      <td>150898</td>\n",
       "      <td>fiction</td>\n",
       "      <td>41250.0</td>\n",
       "      <td>7.50</td>\n",
       "      <td>Hachette Book Group</td>\n",
       "    </tr>\n",
       "    <tr>\n",
       "      <th>4</th>\n",
       "      <td>13.0</td>\n",
       "      <td>Laini Taylor</td>\n",
       "      <td>eng</td>\n",
       "      <td>Intermediate</td>\n",
       "      <td>4.04</td>\n",
       "      <td>198283</td>\n",
       "      <td>genre fiction</td>\n",
       "      <td>37952.5</td>\n",
       "      <td>7.99</td>\n",
       "      <td>Penguin Group (USA) LLC</td>\n",
       "    </tr>\n",
       "  </tbody>\n",
       "</table>\n",
       "</div>"
      ],
      "text/plain": [
       "    Age                                             Author language_code  \\\n",
       "0  49.0                             Unknown, Seamus Heaney         en-US   \n",
       "1  37.0  Frank Miller, David Mazzucchelli, Richmond Lew...           eng   \n",
       "2   9.0                                         Harper Lee           eng   \n",
       "3  16.0                                      David Sedaris         en-US   \n",
       "4  13.0                                       Laini Taylor           eng   \n",
       "\n",
       "  Author_Rating  Book_average_rating  Book_ratings_count          genre  \\\n",
       "0        Novice                 3.42              155903  genre fiction   \n",
       "1  Intermediate                 4.23              145267  genre fiction   \n",
       "2        Novice                 3.31              138669  genre fiction   \n",
       "3  Intermediate                 4.04              150898        fiction   \n",
       "4  Intermediate                 4.04              198283  genre fiction   \n",
       "\n",
       "   gross sales  sale price                       Publisher  \n",
       "0      34160.0        4.88        HarperCollins Publishers  \n",
       "1      12437.5        1.99        HarperCollins Publishers  \n",
       "2      47795.0        8.69  Amazon Digital Services,  Inc.  \n",
       "3      41250.0        7.50             Hachette Book Group  \n",
       "4      37952.5        7.99         Penguin Group (USA) LLC  "
      ]
     },
     "execution_count": 69,
     "metadata": {},
     "output_type": "execute_result"
    }
   ],
   "source": [
    "df.head(5)"
   ]
  },
  {
   "cell_type": "markdown",
   "id": "83db74e4",
   "metadata": {},
   "source": [
    "## Числовые и категориальные признаки"
   ]
  },
  {
   "cell_type": "markdown",
   "id": "6ad1cff7",
   "metadata": {},
   "source": [
    "Из предварительной обработки исключена колонка Final Price (поскольку она является целевой переменной и будет обработана отдельно)\n",
    "и колонка Laptop (поскольку она дублирует другие колонки)"
   ]
  },
  {
   "cell_type": "code",
   "execution_count": 70,
   "id": "713d4138",
   "metadata": {},
   "outputs": [],
   "source": [
    "class QuantileReplacer(BaseEstimator, TransformerMixin):\n",
    "    def __init__(self, threshold=0.05):\n",
    "        self.threshold = threshold\n",
    "        self.quantiles = {}\n",
    "\n",
    "    def fit(self, X, y=None):\n",
    "        for col in X.select_dtypes(include='number'):\n",
    "            low_quantile = X[col].quantile(self.threshold)\n",
    "            high_quantile = X[col].quantile(1 - self.threshold)\n",
    "            self.quantiles[col] = (low_quantile, high_quantile)\n",
    "        return self\n",
    "\n",
    "    def transform(self, X):\n",
    "        X_copy = X.copy()\n",
    "        for col in X.select_dtypes(include='number'):\n",
    "            low_quantile, high_quantile = self.quantiles[col]\n",
    "            rare_mask = ((X[col] < low_quantile) | (X[col] > high_quantile))\n",
    "            if rare_mask.any():\n",
    "                rare_values = X_copy.loc[rare_mask, col]\n",
    "                replace_value = np.mean([low_quantile, high_quantile])\n",
    "                if rare_values.mean() > replace_value:\n",
    "                    X_copy.loc[rare_mask, col] = high_quantile\n",
    "                else:\n",
    "                    X_copy.loc[rare_mask, col] = low_quantile\n",
    "        return X_copy"
   ]
  },
  {
   "cell_type": "code",
   "execution_count": 71,
   "id": "bde7d01c",
   "metadata": {},
   "outputs": [],
   "source": [
    "class RareGrouper(BaseEstimator, TransformerMixin):\n",
    "    def __init__(self, threshold=0.05, other_value='Other'):\n",
    "        self.threshold = threshold\n",
    "        self.other_value = other_value\n",
    "        self.freq_dict = {}\n",
    "\n",
    "    def fit(self, X, y=None):\n",
    "        for col in X.select_dtypes(include=['object']):\n",
    "            freq = X[col].value_counts(normalize=True)\n",
    "            self.freq_dict[col] = freq[freq >= self.threshold].index.tolist()\n",
    "        return self\n",
    "\n",
    "    def transform(self, X, y=None):\n",
    "        X_copy = X.copy()\n",
    "        for col in X.select_dtypes(include=['object']):\n",
    "            X_copy[col] = X_copy[col].apply(lambda x: x if x in self.freq_dict[col] else self.other_value)\n",
    "        return X_copy"
   ]
  },
  {
   "cell_type": "code",
   "execution_count": 72,
   "id": "a39f55a8",
   "metadata": {},
   "outputs": [],
   "source": [
    "# Pipeline для числовых признаков\n",
    "\n",
    "num_pipe_num = Pipeline([\n",
    "    ('QuantReplace', QuantileReplacer(threshold=0.01, )),\n",
    "    ('norm', MinMaxScaler())\n",
    "])\n",
    " \n",
    "num = ['Age', 'Book_average_rating', 'Book_ratings_count', 'sale price']\n",
    "\n",
    "# И для категориальных признаков\n",
    "\n",
    "cat_pipe_Status_Touch = Pipeline([\n",
    "    ('encoder', OrdinalEncoder())\n",
    "])\n",
    "\n",
    "\n",
    "cat_Status_Touch = ['Author_Rating', 'genre']\n",
    "\n",
    "cat_pipe = Pipeline([\n",
    "    ('replace_rare', RareGrouper(threshold=0.0001, other_value='Other')),\n",
    "    ('encoder', OneHotEncoder(drop='if_binary', handle_unknown='ignore', sparse_output=False))\n",
    "])\n",
    "\n",
    "cat = ['Author_Rating', 'Author', 'language_code', 'genre', 'Publisher']\n",
    "\n",
    "\n",
    "# Сделаем отдельно Pipeline с числовыми признаками\n",
    "preprocessors_num = ColumnTransformer(transformers=[\n",
    "    ('num', num_pipe_num, num),\n",
    "])\n",
    "\n",
    "\n",
    "# И полный Pipeline со всеми признаками\n",
    "preprocessors_All = ColumnTransformer(transformers=[\n",
    "    ('norm', num_pipe_num, num),\n",
    "    ('Status_Touch', cat_pipe_Status_Touch, cat_Status_Touch),\n",
    "    ('cat', cat_pipe, cat)\n",
    "])"
   ]
  },
  {
   "cell_type": "code",
   "execution_count": 73,
   "id": "92282507",
   "metadata": {},
   "outputs": [],
   "source": [
    "columns_num = np.hstack([num])"
   ]
  },
  {
   "cell_type": "markdown",
   "id": "ad80197d",
   "metadata": {},
   "source": [
    "# Линейная Регрессия"
   ]
  },
  {
   "cell_type": "code",
   "execution_count": 74,
   "id": "eb739a00",
   "metadata": {},
   "outputs": [],
   "source": [
    "from sklearn.linear_model import SGDRegressor # Линейная регрессия с градиентным спуском от scikit-learn\n",
    "\n",
    "from sklearn.model_selection import train_test_split  # Функция разбиения на тренировочную и тестовую выборку\n",
    "# в исполнении scikit-learn\n",
    "from sklearn.model_selection import ShuffleSplit  # При кросс-валидации случайно перемешиваем данные\n",
    "from sklearn.model_selection import cross_validate  # Функция кросс-валидации от Scikit-learn\n",
    "\n",
    "from sklearn.metrics import mean_squared_error as mse  # Метрика MSE от Scikit-learn\n",
    "from sklearn.metrics import r2_score  # Коэффициент детерминации R2 от Scikit-learn\n",
    "\n",
    "from sklearn.metrics import PredictionErrorDisplay  # Класс визуализации ошибок модели"
   ]
  },
  {
   "cell_type": "code",
   "execution_count": 75,
   "id": "5f31ab68",
   "metadata": {},
   "outputs": [],
   "source": [
    "# Не забываем удалить целевую переменную цену из признаков\n",
    "X,y = df.drop(columns = ['gross sales']), df['gross sales']\n",
    "\n",
    "# Разбиваем датасет на обучающую и валидационную выборку\n",
    "X_train, X_val, y_train, y_val = train_test_split(X, y,\n",
    "                                                    test_size=0.3,\n",
    "                                                    random_state=42)"
   ]
  },
  {
   "cell_type": "code",
   "execution_count": 76,
   "id": "3d25c01e",
   "metadata": {},
   "outputs": [
    {
     "data": {
      "text/html": [
       "<div>\n",
       "<style scoped>\n",
       "    .dataframe tbody tr th:only-of-type {\n",
       "        vertical-align: middle;\n",
       "    }\n",
       "\n",
       "    .dataframe tbody tr th {\n",
       "        vertical-align: top;\n",
       "    }\n",
       "\n",
       "    .dataframe thead th {\n",
       "        text-align: right;\n",
       "    }\n",
       "</style>\n",
       "<table border=\"1\" class=\"dataframe\">\n",
       "  <thead>\n",
       "    <tr style=\"text-align: right;\">\n",
       "      <th></th>\n",
       "      <th>Age</th>\n",
       "      <th>Author</th>\n",
       "      <th>language_code</th>\n",
       "      <th>Author_Rating</th>\n",
       "      <th>Book_average_rating</th>\n",
       "      <th>Book_ratings_count</th>\n",
       "      <th>genre</th>\n",
       "      <th>sale price</th>\n",
       "      <th>Publisher</th>\n",
       "    </tr>\n",
       "  </thead>\n",
       "  <tbody>\n",
       "    <tr>\n",
       "      <th>287</th>\n",
       "      <td>23.0</td>\n",
       "      <td>Stephen King, William Olivier Desmond</td>\n",
       "      <td>fre</td>\n",
       "      <td>Intermediate</td>\n",
       "      <td>3.59</td>\n",
       "      <td>115855</td>\n",
       "      <td>genre fiction</td>\n",
       "      <td>4.99</td>\n",
       "      <td>Amazon Digital Services,  Inc.</td>\n",
       "    </tr>\n",
       "    <tr>\n",
       "      <th>272</th>\n",
       "      <td>25.0</td>\n",
       "      <td>Natsuki Takaya, Alethea Nibley, Athena Nibley</td>\n",
       "      <td>eng</td>\n",
       "      <td>Intermediate</td>\n",
       "      <td>4.23</td>\n",
       "      <td>118467</td>\n",
       "      <td>nonfiction</td>\n",
       "      <td>2.99</td>\n",
       "      <td>Simon and Schuster Digital Sales Inc</td>\n",
       "    </tr>\n",
       "    <tr>\n",
       "      <th>508</th>\n",
       "      <td>15.0</td>\n",
       "      <td>Seth Grahame-Smith, Jane Austen</td>\n",
       "      <td>eng</td>\n",
       "      <td>Novice</td>\n",
       "      <td>3.28</td>\n",
       "      <td>103995</td>\n",
       "      <td>genre fiction</td>\n",
       "      <td>3.82</td>\n",
       "      <td>Amazon Digital Services,  Inc.</td>\n",
       "    </tr>\n",
       "    <tr>\n",
       "      <th>579</th>\n",
       "      <td>10.0</td>\n",
       "      <td>Colleen Hoover</td>\n",
       "      <td>eng</td>\n",
       "      <td>Excellent</td>\n",
       "      <td>4.33</td>\n",
       "      <td>81707</td>\n",
       "      <td>genre fiction</td>\n",
       "      <td>6.83</td>\n",
       "      <td>Random House LLC</td>\n",
       "    </tr>\n",
       "    <tr>\n",
       "      <th>849</th>\n",
       "      <td>38.0</td>\n",
       "      <td>Art Spiegelman</td>\n",
       "      <td>en-GB</td>\n",
       "      <td>Famous</td>\n",
       "      <td>4.53</td>\n",
       "      <td>76785</td>\n",
       "      <td>nonfiction</td>\n",
       "      <td>0.99</td>\n",
       "      <td>Amazon Digital Services,  Inc.</td>\n",
       "    </tr>\n",
       "    <tr>\n",
       "      <th>...</th>\n",
       "      <td>...</td>\n",
       "      <td>...</td>\n",
       "      <td>...</td>\n",
       "      <td>...</td>\n",
       "      <td>...</td>\n",
       "      <td>...</td>\n",
       "      <td>...</td>\n",
       "      <td>...</td>\n",
       "      <td>...</td>\n",
       "    </tr>\n",
       "    <tr>\n",
       "      <th>337</th>\n",
       "      <td>79.0</td>\n",
       "      <td>Astrid Lindgren, Lauren Child, Florence Lambor...</td>\n",
       "      <td>eng</td>\n",
       "      <td>Excellent</td>\n",
       "      <td>4.11</td>\n",
       "      <td>123065</td>\n",
       "      <td>genre fiction</td>\n",
       "      <td>3.99</td>\n",
       "      <td>Amazon Digital Services,  Inc.</td>\n",
       "    </tr>\n",
       "    <tr>\n",
       "      <th>476</th>\n",
       "      <td>20.0</td>\n",
       "      <td>Chelsea Handler</td>\n",
       "      <td>en-GB</td>\n",
       "      <td>Intermediate</td>\n",
       "      <td>3.79</td>\n",
       "      <td>83607</td>\n",
       "      <td>nonfiction</td>\n",
       "      <td>7.66</td>\n",
       "      <td>Simon and Schuster Digital Sales Inc</td>\n",
       "    </tr>\n",
       "    <tr>\n",
       "      <th>124</th>\n",
       "      <td>13.0</td>\n",
       "      <td>Ally Condie</td>\n",
       "      <td>eng</td>\n",
       "      <td>Intermediate</td>\n",
       "      <td>3.52</td>\n",
       "      <td>100886</td>\n",
       "      <td>genre fiction</td>\n",
       "      <td>0.99</td>\n",
       "      <td>Amazon Digital Services,  Inc.</td>\n",
       "    </tr>\n",
       "    <tr>\n",
       "      <th>1067</th>\n",
       "      <td>94.0</td>\n",
       "      <td>Dashiell Hammett</td>\n",
       "      <td>eng</td>\n",
       "      <td>Intermediate</td>\n",
       "      <td>3.92</td>\n",
       "      <td>58742</td>\n",
       "      <td>genre fiction</td>\n",
       "      <td>7.99</td>\n",
       "      <td>Hachette Book Group</td>\n",
       "    </tr>\n",
       "    <tr>\n",
       "      <th>878</th>\n",
       "      <td>16.0</td>\n",
       "      <td>Chetan Bhagat</td>\n",
       "      <td>eng</td>\n",
       "      <td>Intermediate</td>\n",
       "      <td>2.97</td>\n",
       "      <td>53331</td>\n",
       "      <td>genre fiction</td>\n",
       "      <td>7.99</td>\n",
       "      <td>Random House LLC</td>\n",
       "    </tr>\n",
       "  </tbody>\n",
       "</table>\n",
       "<p>732 rows × 9 columns</p>\n",
       "</div>"
      ],
      "text/plain": [
       "       Age                                             Author language_code  \\\n",
       "287   23.0              Stephen King, William Olivier Desmond           fre   \n",
       "272   25.0      Natsuki Takaya, Alethea Nibley, Athena Nibley           eng   \n",
       "508   15.0                    Seth Grahame-Smith, Jane Austen           eng   \n",
       "579   10.0                                     Colleen Hoover           eng   \n",
       "849   38.0                                     Art Spiegelman         en-GB   \n",
       "...    ...                                                ...           ...   \n",
       "337   79.0  Astrid Lindgren, Lauren Child, Florence Lambor...           eng   \n",
       "476   20.0                                    Chelsea Handler         en-GB   \n",
       "124   13.0                                        Ally Condie           eng   \n",
       "1067  94.0                                   Dashiell Hammett           eng   \n",
       "878   16.0                                      Chetan Bhagat           eng   \n",
       "\n",
       "     Author_Rating  Book_average_rating  Book_ratings_count          genre  \\\n",
       "287   Intermediate                 3.59              115855  genre fiction   \n",
       "272   Intermediate                 4.23              118467     nonfiction   \n",
       "508         Novice                 3.28              103995  genre fiction   \n",
       "579      Excellent                 4.33               81707  genre fiction   \n",
       "849         Famous                 4.53               76785     nonfiction   \n",
       "...            ...                  ...                 ...            ...   \n",
       "337      Excellent                 4.11              123065  genre fiction   \n",
       "476   Intermediate                 3.79               83607     nonfiction   \n",
       "124   Intermediate                 3.52              100886  genre fiction   \n",
       "1067  Intermediate                 3.92               58742  genre fiction   \n",
       "878   Intermediate                 2.97               53331  genre fiction   \n",
       "\n",
       "      sale price                             Publisher  \n",
       "287         4.99        Amazon Digital Services,  Inc.  \n",
       "272         2.99  Simon and Schuster Digital Sales Inc  \n",
       "508         3.82        Amazon Digital Services,  Inc.  \n",
       "579         6.83                      Random House LLC  \n",
       "849         0.99        Amazon Digital Services,  Inc.  \n",
       "...          ...                                   ...  \n",
       "337         3.99        Amazon Digital Services,  Inc.  \n",
       "476         7.66  Simon and Schuster Digital Sales Inc  \n",
       "124         0.99        Amazon Digital Services,  Inc.  \n",
       "1067        7.99                   Hachette Book Group  \n",
       "878         7.99                      Random House LLC  \n",
       "\n",
       "[732 rows x 9 columns]"
      ]
     },
     "execution_count": 76,
     "metadata": {},
     "output_type": "execute_result"
    }
   ],
   "source": [
    "X_train  # Посмотрим содержимое обучающей выборки"
   ]
  },
  {
   "cell_type": "markdown",
   "id": "54cfe313",
   "metadata": {},
   "source": [
    "# Оценим модель с использованием только числовых признаков"
   ]
  },
  {
   "cell_type": "code",
   "execution_count": 77,
   "id": "76eef7f9",
   "metadata": {},
   "outputs": [],
   "source": [
    "#  На тренировочных данных делаем fit_transform - одновременно и обучаемся, и преобразуем тренировочные данные\n",
    "X_train_prep = preprocessors_num.fit_transform(X_train)\n",
    "# После на валидационных данных делаем уже только transform - преобразуем данные согласно ранее запомненным параметрам, полученным на тренировочной выборке\n",
    "X_val_prep = preprocessors_num.transform(X_val)"
   ]
  },
  {
   "cell_type": "markdown",
   "id": "4a2b479d",
   "metadata": {},
   "source": [
    "### Обучаем модель"
   ]
  },
  {
   "cell_type": "code",
   "execution_count": 78,
   "id": "3a7f7e28",
   "metadata": {},
   "outputs": [],
   "source": [
    "model = SGDRegressor(random_state = 42)  # Суть параметра random_state (во всех функциях и методах из SciKit-Learn) в воспроизводимых случайных значениях. \n",
    "                                         # Т.е. если явно задать значение random_state отличным от None - то генерируемые псевдослучайные величины будут иметь \n",
    "                                         # одни и те же значения при каждом вызове.\n",
    "\n",
    "model.fit(X_train_prep, y_train);  # Обучаем модель на тренировочной выборке"
   ]
  },
  {
   "cell_type": "markdown",
   "id": "c4169656",
   "metadata": {},
   "source": [
    "## Подготовим несколько функций для анализа обученной модели"
   ]
  },
  {
   "cell_type": "markdown",
   "id": "80111b78",
   "metadata": {},
   "source": [
    "Извлечение коэффициентов из модели"
   ]
  },
  {
   "cell_type": "code",
   "execution_count": 79,
   "id": "22957215",
   "metadata": {},
   "outputs": [],
   "source": [
    "def get_coefs(model):  # model: наша обученная модель\n",
    "\n",
    "    B0 = model.intercept_[0]\n",
    "    B = model.coef_\n",
    "    return B0, B"
   ]
  },
  {
   "cell_type": "code",
   "execution_count": 80,
   "id": "02becf92",
   "metadata": {},
   "outputs": [],
   "source": [
    "def print_model (B0,B,features_names):\n",
    "    \"\"\"Написание уравнения модели.\n",
    "    Входные переменные:\n",
    "    ===========\n",
    "    B0: смещение (независимый коэффициент)\n",
    "    weights: веса признаков\n",
    "    features_names: список названий признаков\n",
    "    \"\"\"\n",
    "    line='{:.3f}'.format(B0)\n",
    "    sign=['+','-']\n",
    "    for p,(fn,b) in enumerate(zip(features_names,B)):\n",
    "        line=line+sign[int(0.5*(np.sign(b)-1))]+'{:.2f}*'.format(np.abs(b))+fn\n",
    "\n",
    "    print('Решение')\n",
    "    print(line)"
   ]
  },
  {
   "cell_type": "markdown",
   "id": "57e68d4b",
   "metadata": {},
   "source": [
    "## Визуализации весов в виде столбчатых диаграмм"
   ]
  },
  {
   "cell_type": "code",
   "execution_count": 81,
   "id": "49edf00c",
   "metadata": {},
   "outputs": [],
   "source": [
    "def vis_weigths(weights,features_names = None, width = 1200, height = 600):\n",
    "    \"\"\"Отрисовка весов.\n",
    "    Входные переменные:\n",
    "    ===========\n",
    "    weights: веса признаков\n",
    "    features_names: список названий признаков\n",
    "    \"\"\"\n",
    "    numbers = np.arange(0,len(weights))                 # создаем массив от 0 до количество весов-1\n",
    "    if features_names:\n",
    "        tick_labels = np.hstack(['B0',features_names])\n",
    "    else:\n",
    "        tick_labels = ['B'+str(num) for num in numbers]  # создаем \"названия\" весов\n",
    "    fig = go.Figure()\n",
    "    fig.add_trace(go.Bar(x=numbers[weights<0], y=weights[weights<0],\n",
    "                    marker_color='red',\n",
    "                    name='отрицательные веса'))\n",
    "    fig.add_trace(go.Bar(x=numbers[weights>=0], y=weights[weights>=0],\n",
    "                    marker_color='blue',\n",
    "                    name='положительные веса'\n",
    "                    ))\n",
    "\n",
    "    fig.update_layout(\n",
    "                title=\"Веса модели\",\n",
    "                width=width,\n",
    "                height=height,\n",
    "                template = \"plotly_dark\",\n",
    "                xaxis = dict(\n",
    "                                         tickmode = 'array',\n",
    "                                         tickvals = numbers,\n",
    "                                         ticktext = tick_labels,\n",
    "                                         )\n",
    "                )\n",
    "\n",
    "    fig.show()"
   ]
  },
  {
   "cell_type": "markdown",
   "id": "3a691fa1",
   "metadata": {},
   "source": [
    "### Напишем уравнение модели"
   ]
  },
  {
   "cell_type": "code",
   "execution_count": 82,
   "id": "096d375e",
   "metadata": {},
   "outputs": [
    {
     "name": "stdout",
     "output_type": "stream",
     "text": [
      "Решение\n",
      "-1921.105+204.00*Age-1018.98*Book_average_rating+8132.64*Book_ratings_count+4096.44*sale price\n"
     ]
    }
   ],
   "source": [
    "B0, B = get_coefs(model)\n",
    "features_names = list(columns_num)\n",
    "print_model(B0,B,features_names)"
   ]
  },
  {
   "cell_type": "markdown",
   "id": "2f3e8c35",
   "metadata": {},
   "source": [
    "### Визуализируем веса в виде столбчатых диаграмм"
   ]
  },
  {
   "cell_type": "code",
   "execution_count": 83,
   "id": "ab51def2",
   "metadata": {},
   "outputs": [
    {
     "data": {
      "application/vnd.plotly.v1+json": {
       "config": {
        "plotlyServerURL": "https://plot.ly"
       },
       "data": [
        {
         "marker": {
          "color": "red"
         },
         "name": "отрицательные веса",
         "type": "bar",
         "x": [
          0,
          2
         ],
         "y": [
          -1921.1048563465831,
          -1018.9837240180251
         ]
        },
        {
         "marker": {
          "color": "blue"
         },
         "name": "положительные веса",
         "type": "bar",
         "x": [
          1,
          3,
          4
         ],
         "y": [
          203.9978123231521,
          8132.640789721441,
          4096.442501327917
         ]
        }
       ],
       "layout": {
        "height": 600,
        "template": {
         "data": {
          "bar": [
           {
            "error_x": {
             "color": "#f2f5fa"
            },
            "error_y": {
             "color": "#f2f5fa"
            },
            "marker": {
             "line": {
              "color": "rgb(17,17,17)",
              "width": 0.5
             },
             "pattern": {
              "fillmode": "overlay",
              "size": 10,
              "solidity": 0.2
             }
            },
            "type": "bar"
           }
          ],
          "barpolar": [
           {
            "marker": {
             "line": {
              "color": "rgb(17,17,17)",
              "width": 0.5
             },
             "pattern": {
              "fillmode": "overlay",
              "size": 10,
              "solidity": 0.2
             }
            },
            "type": "barpolar"
           }
          ],
          "carpet": [
           {
            "aaxis": {
             "endlinecolor": "#A2B1C6",
             "gridcolor": "#506784",
             "linecolor": "#506784",
             "minorgridcolor": "#506784",
             "startlinecolor": "#A2B1C6"
            },
            "baxis": {
             "endlinecolor": "#A2B1C6",
             "gridcolor": "#506784",
             "linecolor": "#506784",
             "minorgridcolor": "#506784",
             "startlinecolor": "#A2B1C6"
            },
            "type": "carpet"
           }
          ],
          "choropleth": [
           {
            "colorbar": {
             "outlinewidth": 0,
             "ticks": ""
            },
            "type": "choropleth"
           }
          ],
          "contour": [
           {
            "colorbar": {
             "outlinewidth": 0,
             "ticks": ""
            },
            "colorscale": [
             [
              0,
              "#0d0887"
             ],
             [
              0.1111111111111111,
              "#46039f"
             ],
             [
              0.2222222222222222,
              "#7201a8"
             ],
             [
              0.3333333333333333,
              "#9c179e"
             ],
             [
              0.4444444444444444,
              "#bd3786"
             ],
             [
              0.5555555555555556,
              "#d8576b"
             ],
             [
              0.6666666666666666,
              "#ed7953"
             ],
             [
              0.7777777777777778,
              "#fb9f3a"
             ],
             [
              0.8888888888888888,
              "#fdca26"
             ],
             [
              1,
              "#f0f921"
             ]
            ],
            "type": "contour"
           }
          ],
          "contourcarpet": [
           {
            "colorbar": {
             "outlinewidth": 0,
             "ticks": ""
            },
            "type": "contourcarpet"
           }
          ],
          "heatmap": [
           {
            "colorbar": {
             "outlinewidth": 0,
             "ticks": ""
            },
            "colorscale": [
             [
              0,
              "#0d0887"
             ],
             [
              0.1111111111111111,
              "#46039f"
             ],
             [
              0.2222222222222222,
              "#7201a8"
             ],
             [
              0.3333333333333333,
              "#9c179e"
             ],
             [
              0.4444444444444444,
              "#bd3786"
             ],
             [
              0.5555555555555556,
              "#d8576b"
             ],
             [
              0.6666666666666666,
              "#ed7953"
             ],
             [
              0.7777777777777778,
              "#fb9f3a"
             ],
             [
              0.8888888888888888,
              "#fdca26"
             ],
             [
              1,
              "#f0f921"
             ]
            ],
            "type": "heatmap"
           }
          ],
          "heatmapgl": [
           {
            "colorbar": {
             "outlinewidth": 0,
             "ticks": ""
            },
            "colorscale": [
             [
              0,
              "#0d0887"
             ],
             [
              0.1111111111111111,
              "#46039f"
             ],
             [
              0.2222222222222222,
              "#7201a8"
             ],
             [
              0.3333333333333333,
              "#9c179e"
             ],
             [
              0.4444444444444444,
              "#bd3786"
             ],
             [
              0.5555555555555556,
              "#d8576b"
             ],
             [
              0.6666666666666666,
              "#ed7953"
             ],
             [
              0.7777777777777778,
              "#fb9f3a"
             ],
             [
              0.8888888888888888,
              "#fdca26"
             ],
             [
              1,
              "#f0f921"
             ]
            ],
            "type": "heatmapgl"
           }
          ],
          "histogram": [
           {
            "marker": {
             "pattern": {
              "fillmode": "overlay",
              "size": 10,
              "solidity": 0.2
             }
            },
            "type": "histogram"
           }
          ],
          "histogram2d": [
           {
            "colorbar": {
             "outlinewidth": 0,
             "ticks": ""
            },
            "colorscale": [
             [
              0,
              "#0d0887"
             ],
             [
              0.1111111111111111,
              "#46039f"
             ],
             [
              0.2222222222222222,
              "#7201a8"
             ],
             [
              0.3333333333333333,
              "#9c179e"
             ],
             [
              0.4444444444444444,
              "#bd3786"
             ],
             [
              0.5555555555555556,
              "#d8576b"
             ],
             [
              0.6666666666666666,
              "#ed7953"
             ],
             [
              0.7777777777777778,
              "#fb9f3a"
             ],
             [
              0.8888888888888888,
              "#fdca26"
             ],
             [
              1,
              "#f0f921"
             ]
            ],
            "type": "histogram2d"
           }
          ],
          "histogram2dcontour": [
           {
            "colorbar": {
             "outlinewidth": 0,
             "ticks": ""
            },
            "colorscale": [
             [
              0,
              "#0d0887"
             ],
             [
              0.1111111111111111,
              "#46039f"
             ],
             [
              0.2222222222222222,
              "#7201a8"
             ],
             [
              0.3333333333333333,
              "#9c179e"
             ],
             [
              0.4444444444444444,
              "#bd3786"
             ],
             [
              0.5555555555555556,
              "#d8576b"
             ],
             [
              0.6666666666666666,
              "#ed7953"
             ],
             [
              0.7777777777777778,
              "#fb9f3a"
             ],
             [
              0.8888888888888888,
              "#fdca26"
             ],
             [
              1,
              "#f0f921"
             ]
            ],
            "type": "histogram2dcontour"
           }
          ],
          "mesh3d": [
           {
            "colorbar": {
             "outlinewidth": 0,
             "ticks": ""
            },
            "type": "mesh3d"
           }
          ],
          "parcoords": [
           {
            "line": {
             "colorbar": {
              "outlinewidth": 0,
              "ticks": ""
             }
            },
            "type": "parcoords"
           }
          ],
          "pie": [
           {
            "automargin": true,
            "type": "pie"
           }
          ],
          "scatter": [
           {
            "marker": {
             "line": {
              "color": "#283442"
             }
            },
            "type": "scatter"
           }
          ],
          "scatter3d": [
           {
            "line": {
             "colorbar": {
              "outlinewidth": 0,
              "ticks": ""
             }
            },
            "marker": {
             "colorbar": {
              "outlinewidth": 0,
              "ticks": ""
             }
            },
            "type": "scatter3d"
           }
          ],
          "scattercarpet": [
           {
            "marker": {
             "colorbar": {
              "outlinewidth": 0,
              "ticks": ""
             }
            },
            "type": "scattercarpet"
           }
          ],
          "scattergeo": [
           {
            "marker": {
             "colorbar": {
              "outlinewidth": 0,
              "ticks": ""
             }
            },
            "type": "scattergeo"
           }
          ],
          "scattergl": [
           {
            "marker": {
             "line": {
              "color": "#283442"
             }
            },
            "type": "scattergl"
           }
          ],
          "scattermapbox": [
           {
            "marker": {
             "colorbar": {
              "outlinewidth": 0,
              "ticks": ""
             }
            },
            "type": "scattermapbox"
           }
          ],
          "scatterpolar": [
           {
            "marker": {
             "colorbar": {
              "outlinewidth": 0,
              "ticks": ""
             }
            },
            "type": "scatterpolar"
           }
          ],
          "scatterpolargl": [
           {
            "marker": {
             "colorbar": {
              "outlinewidth": 0,
              "ticks": ""
             }
            },
            "type": "scatterpolargl"
           }
          ],
          "scatterternary": [
           {
            "marker": {
             "colorbar": {
              "outlinewidth": 0,
              "ticks": ""
             }
            },
            "type": "scatterternary"
           }
          ],
          "surface": [
           {
            "colorbar": {
             "outlinewidth": 0,
             "ticks": ""
            },
            "colorscale": [
             [
              0,
              "#0d0887"
             ],
             [
              0.1111111111111111,
              "#46039f"
             ],
             [
              0.2222222222222222,
              "#7201a8"
             ],
             [
              0.3333333333333333,
              "#9c179e"
             ],
             [
              0.4444444444444444,
              "#bd3786"
             ],
             [
              0.5555555555555556,
              "#d8576b"
             ],
             [
              0.6666666666666666,
              "#ed7953"
             ],
             [
              0.7777777777777778,
              "#fb9f3a"
             ],
             [
              0.8888888888888888,
              "#fdca26"
             ],
             [
              1,
              "#f0f921"
             ]
            ],
            "type": "surface"
           }
          ],
          "table": [
           {
            "cells": {
             "fill": {
              "color": "#506784"
             },
             "line": {
              "color": "rgb(17,17,17)"
             }
            },
            "header": {
             "fill": {
              "color": "#2a3f5f"
             },
             "line": {
              "color": "rgb(17,17,17)"
             }
            },
            "type": "table"
           }
          ]
         },
         "layout": {
          "annotationdefaults": {
           "arrowcolor": "#f2f5fa",
           "arrowhead": 0,
           "arrowwidth": 1
          },
          "autotypenumbers": "strict",
          "coloraxis": {
           "colorbar": {
            "outlinewidth": 0,
            "ticks": ""
           }
          },
          "colorscale": {
           "diverging": [
            [
             0,
             "#8e0152"
            ],
            [
             0.1,
             "#c51b7d"
            ],
            [
             0.2,
             "#de77ae"
            ],
            [
             0.3,
             "#f1b6da"
            ],
            [
             0.4,
             "#fde0ef"
            ],
            [
             0.5,
             "#f7f7f7"
            ],
            [
             0.6,
             "#e6f5d0"
            ],
            [
             0.7,
             "#b8e186"
            ],
            [
             0.8,
             "#7fbc41"
            ],
            [
             0.9,
             "#4d9221"
            ],
            [
             1,
             "#276419"
            ]
           ],
           "sequential": [
            [
             0,
             "#0d0887"
            ],
            [
             0.1111111111111111,
             "#46039f"
            ],
            [
             0.2222222222222222,
             "#7201a8"
            ],
            [
             0.3333333333333333,
             "#9c179e"
            ],
            [
             0.4444444444444444,
             "#bd3786"
            ],
            [
             0.5555555555555556,
             "#d8576b"
            ],
            [
             0.6666666666666666,
             "#ed7953"
            ],
            [
             0.7777777777777778,
             "#fb9f3a"
            ],
            [
             0.8888888888888888,
             "#fdca26"
            ],
            [
             1,
             "#f0f921"
            ]
           ],
           "sequentialminus": [
            [
             0,
             "#0d0887"
            ],
            [
             0.1111111111111111,
             "#46039f"
            ],
            [
             0.2222222222222222,
             "#7201a8"
            ],
            [
             0.3333333333333333,
             "#9c179e"
            ],
            [
             0.4444444444444444,
             "#bd3786"
            ],
            [
             0.5555555555555556,
             "#d8576b"
            ],
            [
             0.6666666666666666,
             "#ed7953"
            ],
            [
             0.7777777777777778,
             "#fb9f3a"
            ],
            [
             0.8888888888888888,
             "#fdca26"
            ],
            [
             1,
             "#f0f921"
            ]
           ]
          },
          "colorway": [
           "#636efa",
           "#EF553B",
           "#00cc96",
           "#ab63fa",
           "#FFA15A",
           "#19d3f3",
           "#FF6692",
           "#B6E880",
           "#FF97FF",
           "#FECB52"
          ],
          "font": {
           "color": "#f2f5fa"
          },
          "geo": {
           "bgcolor": "rgb(17,17,17)",
           "lakecolor": "rgb(17,17,17)",
           "landcolor": "rgb(17,17,17)",
           "showlakes": true,
           "showland": true,
           "subunitcolor": "#506784"
          },
          "hoverlabel": {
           "align": "left"
          },
          "hovermode": "closest",
          "mapbox": {
           "style": "dark"
          },
          "paper_bgcolor": "rgb(17,17,17)",
          "plot_bgcolor": "rgb(17,17,17)",
          "polar": {
           "angularaxis": {
            "gridcolor": "#506784",
            "linecolor": "#506784",
            "ticks": ""
           },
           "bgcolor": "rgb(17,17,17)",
           "radialaxis": {
            "gridcolor": "#506784",
            "linecolor": "#506784",
            "ticks": ""
           }
          },
          "scene": {
           "xaxis": {
            "backgroundcolor": "rgb(17,17,17)",
            "gridcolor": "#506784",
            "gridwidth": 2,
            "linecolor": "#506784",
            "showbackground": true,
            "ticks": "",
            "zerolinecolor": "#C8D4E3"
           },
           "yaxis": {
            "backgroundcolor": "rgb(17,17,17)",
            "gridcolor": "#506784",
            "gridwidth": 2,
            "linecolor": "#506784",
            "showbackground": true,
            "ticks": "",
            "zerolinecolor": "#C8D4E3"
           },
           "zaxis": {
            "backgroundcolor": "rgb(17,17,17)",
            "gridcolor": "#506784",
            "gridwidth": 2,
            "linecolor": "#506784",
            "showbackground": true,
            "ticks": "",
            "zerolinecolor": "#C8D4E3"
           }
          },
          "shapedefaults": {
           "line": {
            "color": "#f2f5fa"
           }
          },
          "sliderdefaults": {
           "bgcolor": "#C8D4E3",
           "bordercolor": "rgb(17,17,17)",
           "borderwidth": 1,
           "tickwidth": 0
          },
          "ternary": {
           "aaxis": {
            "gridcolor": "#506784",
            "linecolor": "#506784",
            "ticks": ""
           },
           "baxis": {
            "gridcolor": "#506784",
            "linecolor": "#506784",
            "ticks": ""
           },
           "bgcolor": "rgb(17,17,17)",
           "caxis": {
            "gridcolor": "#506784",
            "linecolor": "#506784",
            "ticks": ""
           }
          },
          "title": {
           "x": 0.05
          },
          "updatemenudefaults": {
           "bgcolor": "#506784",
           "borderwidth": 0
          },
          "xaxis": {
           "automargin": true,
           "gridcolor": "#283442",
           "linecolor": "#506784",
           "ticks": "",
           "title": {
            "standoff": 15
           },
           "zerolinecolor": "#283442",
           "zerolinewidth": 2
          },
          "yaxis": {
           "automargin": true,
           "gridcolor": "#283442",
           "linecolor": "#506784",
           "ticks": "",
           "title": {
            "standoff": 15
           },
           "zerolinecolor": "#283442",
           "zerolinewidth": 2
          }
         }
        },
        "title": {
         "text": "Веса модели"
        },
        "width": 1200,
        "xaxis": {
         "tickmode": "array",
         "ticktext": [
          "B0",
          "Age",
          "Book_average_rating",
          "Book_ratings_count",
          "sale price"
         ],
         "tickvals": [
          0,
          1,
          2,
          3,
          4
         ]
        }
       }
      }
     },
     "metadata": {},
     "output_type": "display_data"
    }
   ],
   "source": [
    "Bs = np.hstack([B0,B])\n",
    "vis_weigths(Bs,features_names)"
   ]
  },
  {
   "cell_type": "markdown",
   "id": "b57f909a",
   "metadata": {},
   "source": [
    "Видно, что признаки RAM и Storage в модели имеют наибольшие коэффициенты, следовательно, они больше влияют на целевой показатель - цену. Также признак Screen имеет отрицательный коэффициент - это означает, что ноутбуки с большей диагональю будут дешевле, что не очевидно."
   ]
  },
  {
   "cell_type": "markdown",
   "id": "0bb7b9c9",
   "metadata": {},
   "source": [
    "### Оценка метрик"
   ]
  },
  {
   "cell_type": "code",
   "execution_count": 84,
   "id": "75194319",
   "metadata": {},
   "outputs": [],
   "source": [
    "def calculate_metric(model_pipe, X, y, metric = r2_score, **kwargs):\n",
    "    \"\"\"Расчет метрики.\n",
    "    Параметры:\n",
    "    ===========\n",
    "    model_pipe: модель или pipeline\n",
    "    X: признаки\n",
    "    y: истинные значения\n",
    "    metric: метрика (r2 - по умолчанию)\n",
    "    \"\"\"\n",
    "    y_model = model_pipe.predict(X)\n",
    "    return metric(y, y_model, **kwargs)"
   ]
  },
  {
   "cell_type": "code",
   "execution_count": 85,
   "id": "39e7bd5a",
   "metadata": {},
   "outputs": [
    {
     "name": "stdout",
     "output_type": "stream",
     "text": [
      "r2 на тренировочной выборке: 0.3535\n",
      "r2 на валидационной выборке: 0.2668\n",
      "mse на тренировочной выборке: 8602643.7809\n",
      "mse на валидационной выборке: 15088028.3631\n",
      "rmse на тренировочной выборке: 2933.0264\n",
      "rmse на валидационной выборке: 3884.3311\n"
     ]
    }
   ],
   "source": [
    "print(f\"r2 на тренировочной выборке: {calculate_metric(model, X_train_prep, y_train):.4f}\")\n",
    "print(f\"r2 на валидационной выборке: {calculate_metric(model, X_val_prep, y_val):.4f}\")\n",
    "\n",
    "print(f\"mse на тренировочной выборке: {calculate_metric(model, X_train_prep, y_train, mse):.4f}\")\n",
    "print(f\"mse на валидационной выборке: {calculate_metric(model, X_val_prep, y_val, mse):.4f}\")\n",
    "\n",
    "print(f\"rmse на тренировочной выборке: {calculate_metric(model, X_train_prep, y_train, mse, squared = False):.4f}\")\n",
    "print(f\"rmse на валидационной выборке: {calculate_metric(model, X_val_prep, y_val, mse, squared = False):.4f}\")"
   ]
  },
  {
   "cell_type": "markdown",
   "id": "18e544de",
   "metadata": {},
   "source": [
    "## Кросс-валидация"
   ]
  },
  {
   "cell_type": "code",
   "execution_count": 86,
   "id": "20020b44",
   "metadata": {},
   "outputs": [],
   "source": [
    "def cross_validation (X, y, model, scoring, cv_rule):\n",
    "    \"\"\"Расчет метрик на кросс-валидации.\n",
    "    Параметры:\n",
    "    ===========\n",
    "    model: модель или pipeline\n",
    "    X: признаки\n",
    "    y: истинные значения\n",
    "    scoring: словарь метрик\n",
    "    cv_rule: правило кросс-валидации\n",
    "    \"\"\"\n",
    "    scores = cross_validate(model,X, y,\n",
    "                      scoring=scoring, cv=cv_rule )\n",
    "    print('Ошибка на кросс-валидации')\n",
    "    DF_score = pd.DataFrame(scores)\n",
    "    display(DF_score)\n",
    "    print('\\n')\n",
    "    print(DF_score.mean()[2:])"
   ]
  },
  {
   "cell_type": "code",
   "execution_count": 87,
   "id": "3bcfe998",
   "metadata": {},
   "outputs": [],
   "source": [
    "scoring_reg = {'R2': 'r2',\n",
    "           '-MSE': 'neg_mean_squared_error',\n",
    "           '-MAE': 'neg_mean_absolute_error',\n",
    "           '-Max': 'max_error'}"
   ]
  },
  {
   "cell_type": "code",
   "execution_count": 88,
   "id": "4ab5c4ce",
   "metadata": {},
   "outputs": [
    {
     "name": "stdout",
     "output_type": "stream",
     "text": [
      "Ошибка на кросс-валидации\n"
     ]
    },
    {
     "data": {
      "text/html": [
       "<div>\n",
       "<style scoped>\n",
       "    .dataframe tbody tr th:only-of-type {\n",
       "        vertical-align: middle;\n",
       "    }\n",
       "\n",
       "    .dataframe tbody tr th {\n",
       "        vertical-align: top;\n",
       "    }\n",
       "\n",
       "    .dataframe thead th {\n",
       "        text-align: right;\n",
       "    }\n",
       "</style>\n",
       "<table border=\"1\" class=\"dataframe\">\n",
       "  <thead>\n",
       "    <tr style=\"text-align: right;\">\n",
       "      <th></th>\n",
       "      <th>fit_time</th>\n",
       "      <th>score_time</th>\n",
       "      <th>test_R2</th>\n",
       "      <th>test_-MSE</th>\n",
       "      <th>test_-MAE</th>\n",
       "      <th>test_-Max</th>\n",
       "    </tr>\n",
       "  </thead>\n",
       "  <tbody>\n",
       "    <tr>\n",
       "      <th>0</th>\n",
       "      <td>0.011000</td>\n",
       "      <td>0.003002</td>\n",
       "      <td>0.313014</td>\n",
       "      <td>-2.079011e+07</td>\n",
       "      <td>-1945.403451</td>\n",
       "      <td>-29075.401366</td>\n",
       "    </tr>\n",
       "    <tr>\n",
       "      <th>1</th>\n",
       "      <td>0.009997</td>\n",
       "      <td>0.003003</td>\n",
       "      <td>0.131962</td>\n",
       "      <td>-1.967288e+06</td>\n",
       "      <td>-1120.098106</td>\n",
       "      <td>-3956.439595</td>\n",
       "    </tr>\n",
       "    <tr>\n",
       "      <th>2</th>\n",
       "      <td>0.011998</td>\n",
       "      <td>0.002000</td>\n",
       "      <td>0.448177</td>\n",
       "      <td>-3.880113e+06</td>\n",
       "      <td>-1247.273069</td>\n",
       "      <td>-11130.415493</td>\n",
       "    </tr>\n",
       "    <tr>\n",
       "      <th>3</th>\n",
       "      <td>0.008999</td>\n",
       "      <td>0.002005</td>\n",
       "      <td>0.205626</td>\n",
       "      <td>-2.061329e+06</td>\n",
       "      <td>-1125.238769</td>\n",
       "      <td>-3952.250429</td>\n",
       "    </tr>\n",
       "    <tr>\n",
       "      <th>4</th>\n",
       "      <td>0.006994</td>\n",
       "      <td>0.001000</td>\n",
       "      <td>0.339519</td>\n",
       "      <td>-9.471696e+06</td>\n",
       "      <td>-1704.355083</td>\n",
       "      <td>-15308.706807</td>\n",
       "    </tr>\n",
       "  </tbody>\n",
       "</table>\n",
       "</div>"
      ],
      "text/plain": [
       "   fit_time  score_time   test_R2     test_-MSE    test_-MAE     test_-Max\n",
       "0  0.011000    0.003002  0.313014 -2.079011e+07 -1945.403451 -29075.401366\n",
       "1  0.009997    0.003003  0.131962 -1.967288e+06 -1120.098106  -3956.439595\n",
       "2  0.011998    0.002000  0.448177 -3.880113e+06 -1247.273069 -11130.415493\n",
       "3  0.008999    0.002005  0.205626 -2.061329e+06 -1125.238769  -3952.250429\n",
       "4  0.006994    0.001000  0.339519 -9.471696e+06 -1704.355083 -15308.706807"
      ]
     },
     "metadata": {},
     "output_type": "display_data"
    },
    {
     "name": "stdout",
     "output_type": "stream",
     "text": [
      "\n",
      "\n",
      "test_R2      2.876596e-01\n",
      "test_-MSE   -7.634107e+06\n",
      "test_-MAE   -1.428474e+03\n",
      "test_-Max   -1.268464e+04\n",
      "dtype: float64\n"
     ]
    }
   ],
   "source": [
    "cross_validation (X_train_prep, y_train,\n",
    "                  model,\n",
    "                  scoring_reg,\n",
    "                  ShuffleSplit(n_splits=5, random_state = 42))"
   ]
  },
  {
   "cell_type": "markdown",
   "id": "1bd5b096",
   "metadata": {},
   "source": [
    "### Визуализация ошибок от scikit-learn"
   ]
  },
  {
   "cell_type": "code",
   "execution_count": 89,
   "id": "a9efa662",
   "metadata": {},
   "outputs": [
    {
     "data": {
      "image/png": "[encoded data removed]",
      "text/plain": [
       "<Figure size 640x480 with 1 Axes>"
      ]
     },
     "metadata": {},
     "output_type": "display_data"
    }
   ],
   "source": [
    "PredictionErrorDisplay.from_predictions(\n",
    "    y_val,\n",
    "    model.predict(X_val_prep),\n",
    "    kind=\"actual_vs_predicted\",\n",
    "    scatter_kwargs={\"alpha\": 0.5},\n",
    ");"
   ]
  },
  {
   "cell_type": "markdown",
   "id": "fc6a6623",
   "metadata": {},
   "source": [
    "Небольшие выводы по модели:\n",
    "\n",
    "* Используя только 3 числовых признака можно с достаточно большой погрешностью предсказывать цены\n",
    "\n",
    "* Результаты сильно кластеризуются - сказывается влияние ограниченного числа значений у числовых признаков\n",
    "\n",
    "* Больше проблем при предсказании высоких цен\n",
    "\n",
    "* Увеличение объема памяти и оперативной памяти положительно сказывается на цене, размер экрана - отрицательно\n",
    "\n"
   ]
  },
  {
   "cell_type": "markdown",
   "id": "bebc8567",
   "metadata": {},
   "source": [
    "## Объединяем Pipeline Предобработки и Модель"
   ]
  },
  {
   "cell_type": "code",
   "execution_count": 90,
   "id": "15afc24b",
   "metadata": {},
   "outputs": [],
   "source": [
    "pipe_num = Pipeline([\n",
    "    ('preprocessors', preprocessors_num),\n",
    "    ('model', SGDRegressor(random_state = 42))\n",
    "])"
   ]
  },
  {
   "cell_type": "code",
   "execution_count": 91,
   "id": "c6429885",
   "metadata": {},
   "outputs": [
    {
     "data": {
      "text/html": [
       "<style>#sk-container-id-5 {\n",
       "  /* Definition of color scheme common for light and dark mode */\n",
       "  --sklearn-color-text: black;\n",
       "  --sklearn-color-line: gray;\n",
       "  /* Definition of color scheme for unfitted estimators */\n",
       "  --sklearn-color-unfitted-level-0: #fff5e6;\n",
       "  --sklearn-color-unfitted-level-1: #f6e4d2;\n",
       "  --sklearn-color-unfitted-level-2: #ffe0b3;\n",
       "  --sklearn-color-unfitted-level-3: chocolate;\n",
       "  /* Definition of color scheme for fitted estimators */\n",
       "  --sklearn-color-fitted-level-0: #f0f8ff;\n",
       "  --sklearn-color-fitted-level-1: #d4ebff;\n",
       "  --sklearn-color-fitted-level-2: #b3dbfd;\n",
       "  --sklearn-color-fitted-level-3: cornflowerblue;\n",
       "\n",
       "  /* Specific color for light theme */\n",
       "  --sklearn-color-text-on-default-background: var(--sg-text-color, var(--theme-code-foreground, var(--jp-content-font-color1, black)));\n",
       "  --sklearn-color-background: var(--sg-background-color, var(--theme-background, var(--jp-layout-color0, white)));\n",
       "  --sklearn-color-border-box: var(--sg-text-color, var(--theme-code-foreground, var(--jp-content-font-color1, black)));\n",
       "  --sklearn-color-icon: #696969;\n",
       "\n",
       "  @media (prefers-color-scheme: dark) {\n",
       "    /* Redefinition of color scheme for dark theme */\n",
       "    --sklearn-color-text-on-default-background: var(--sg-text-color, var(--theme-code-foreground, var(--jp-content-font-color1, white)));\n",
       "    --sklearn-color-background: var(--sg-background-color, var(--theme-background, var(--jp-layout-color0, #111)));\n",
       "    --sklearn-color-border-box: var(--sg-text-color, var(--theme-code-foreground, var(--jp-content-font-color1, white)));\n",
       "    --sklearn-color-icon: #878787;\n",
       "  }\n",
       "}\n",
       "\n",
       "#sk-container-id-5 {\n",
       "  color: var(--sklearn-color-text);\n",
       "}\n",
       "\n",
       "#sk-container-id-5 pre {\n",
       "  padding: 0;\n",
       "}\n",
       "\n",
       "#sk-container-id-5 input.sk-hidden--visually {\n",
       "  border: 0;\n",
       "  clip: rect(1px 1px 1px 1px);\n",
       "  clip: rect(1px, 1px, 1px, 1px);\n",
       "  height: 1px;\n",
       "  margin: -1px;\n",
       "  overflow: hidden;\n",
       "  padding: 0;\n",
       "  position: absolute;\n",
       "  width: 1px;\n",
       "}\n",
       "\n",
       "#sk-container-id-5 div.sk-dashed-wrapped {\n",
       "  border: 1px dashed var(--sklearn-color-line);\n",
       "  margin: 0 0.4em 0.5em 0.4em;\n",
       "  box-sizing: border-box;\n",
       "  padding-bottom: 0.4em;\n",
       "  background-color: var(--sklearn-color-background);\n",
       "}\n",
       "\n",
       "#sk-container-id-5 div.sk-container {\n",
       "  /* jupyter's `normalize.less` sets `[hidden] { display: none; }`\n",
       "     but bootstrap.min.css set `[hidden] { display: none !important; }`\n",
       "     so we also need the `!important` here to be able to override the\n",
       "     default hidden behavior on the sphinx rendered scikit-learn.org.\n",
       "     See: https://github.com/scikit-learn/scikit-learn/issues/21755 */\n",
       "  display: inline-block !important;\n",
       "  position: relative;\n",
       "}\n",
       "\n",
       "#sk-container-id-5 div.sk-text-repr-fallback {\n",
       "  display: none;\n",
       "}\n",
       "\n",
       "div.sk-parallel-item,\n",
       "div.sk-serial,\n",
       "div.sk-item {\n",
       "  /* draw centered vertical line to link estimators */\n",
       "  background-image: linear-gradient(var(--sklearn-color-text-on-default-background), var(--sklearn-color-text-on-default-background));\n",
       "  background-size: 2px 100%;\n",
       "  background-repeat: no-repeat;\n",
       "  background-position: center center;\n",
       "}\n",
       "\n",
       "/* Parallel-specific style estimator block */\n",
       "\n",
       "#sk-container-id-5 div.sk-parallel-item::after {\n",
       "  content: \"\";\n",
       "  width: 100%;\n",
       "  border-bottom: 2px solid var(--sklearn-color-text-on-default-background);\n",
       "  flex-grow: 1;\n",
       "}\n",
       "\n",
       "#sk-container-id-5 div.sk-parallel {\n",
       "  display: flex;\n",
       "  align-items: stretch;\n",
       "  justify-content: center;\n",
       "  background-color: var(--sklearn-color-background);\n",
       "  position: relative;\n",
       "}\n",
       "\n",
       "#sk-container-id-5 div.sk-parallel-item {\n",
       "  display: flex;\n",
       "  flex-direction: column;\n",
       "}\n",
       "\n",
       "#sk-container-id-5 div.sk-parallel-item:first-child::after {\n",
       "  align-self: flex-end;\n",
       "  width: 50%;\n",
       "}\n",
       "\n",
       "#sk-container-id-5 div.sk-parallel-item:last-child::after {\n",
       "  align-self: flex-start;\n",
       "  width: 50%;\n",
       "}\n",
       "\n",
       "#sk-container-id-5 div.sk-parallel-item:only-child::after {\n",
       "  width: 0;\n",
       "}\n",
       "\n",
       "/* Serial-specific style estimator block */\n",
       "\n",
       "#sk-container-id-5 div.sk-serial {\n",
       "  display: flex;\n",
       "  flex-direction: column;\n",
       "  align-items: center;\n",
       "  background-color: var(--sklearn-color-background);\n",
       "  padding-right: 1em;\n",
       "  padding-left: 1em;\n",
       "}\n",
       "\n",
       "\n",
       "/* Toggleable style: style used for estimator/Pipeline/ColumnTransformer box that is\n",
       "clickable and can be expanded/collapsed.\n",
       "- Pipeline and ColumnTransformer use this feature and define the default style\n",
       "- Estimators will overwrite some part of the style using the `sk-estimator` class\n",
       "*/\n",
       "\n",
       "/* Pipeline and ColumnTransformer style (default) */\n",
       "\n",
       "#sk-container-id-5 div.sk-toggleable {\n",
       "  /* Default theme specific background. It is overwritten whether we have a\n",
       "  specific estimator or a Pipeline/ColumnTransformer */\n",
       "  background-color: var(--sklearn-color-background);\n",
       "}\n",
       "\n",
       "/* Toggleable label */\n",
       "#sk-container-id-5 label.sk-toggleable__label {\n",
       "  cursor: pointer;\n",
       "  display: block;\n",
       "  width: 100%;\n",
       "  margin-bottom: 0;\n",
       "  padding: 0.5em;\n",
       "  box-sizing: border-box;\n",
       "  text-align: center;\n",
       "}\n",
       "\n",
       "#sk-container-id-5 label.sk-toggleable__label-arrow:before {\n",
       "  /* Arrow on the left of the label */\n",
       "  content: \"▸\";\n",
       "  float: left;\n",
       "  margin-right: 0.25em;\n",
       "  color: var(--sklearn-color-icon);\n",
       "}\n",
       "\n",
       "#sk-container-id-5 label.sk-toggleable__label-arrow:hover:before {\n",
       "  color: var(--sklearn-color-text);\n",
       "}\n",
       "\n",
       "/* Toggleable content - dropdown */\n",
       "\n",
       "#sk-container-id-5 div.sk-toggleable__content {\n",
       "  max-height: 0;\n",
       "  max-width: 0;\n",
       "  overflow: hidden;\n",
       "  text-align: left;\n",
       "  /* unfitted */\n",
       "  background-color: var(--sklearn-color-unfitted-level-0);\n",
       "}\n",
       "\n",
       "#sk-container-id-5 div.sk-toggleable__content.fitted {\n",
       "  /* fitted */\n",
       "  background-color: var(--sklearn-color-fitted-level-0);\n",
       "}\n",
       "\n",
       "#sk-container-id-5 div.sk-toggleable__content pre {\n",
       "  margin: 0.2em;\n",
       "  border-radius: 0.25em;\n",
       "  color: var(--sklearn-color-text);\n",
       "  /* unfitted */\n",
       "  background-color: var(--sklearn-color-unfitted-level-0);\n",
       "}\n",
       "\n",
       "#sk-container-id-5 div.sk-toggleable__content.fitted pre {\n",
       "  /* unfitted */\n",
       "  background-color: var(--sklearn-color-fitted-level-0);\n",
       "}\n",
       "\n",
       "#sk-container-id-5 input.sk-toggleable__control:checked~div.sk-toggleable__content {\n",
       "  /* Expand drop-down */\n",
       "  max-height: 200px;\n",
       "  max-width: 100%;\n",
       "  overflow: auto;\n",
       "}\n",
       "\n",
       "#sk-container-id-5 input.sk-toggleable__control:checked~label.sk-toggleable__label-arrow:before {\n",
       "  content: \"▾\";\n",
       "}\n",
       "\n",
       "/* Pipeline/ColumnTransformer-specific style */\n",
       "\n",
       "#sk-container-id-5 div.sk-label input.sk-toggleable__control:checked~label.sk-toggleable__label {\n",
       "  color: var(--sklearn-color-text);\n",
       "  background-color: var(--sklearn-color-unfitted-level-2);\n",
       "}\n",
       "\n",
       "#sk-container-id-5 div.sk-label.fitted input.sk-toggleable__control:checked~label.sk-toggleable__label {\n",
       "  background-color: var(--sklearn-color-fitted-level-2);\n",
       "}\n",
       "\n",
       "/* Estimator-specific style */\n",
       "\n",
       "/* Colorize estimator box */\n",
       "#sk-container-id-5 div.sk-estimator input.sk-toggleable__control:checked~label.sk-toggleable__label {\n",
       "  /* unfitted */\n",
       "  background-color: var(--sklearn-color-unfitted-level-2);\n",
       "}\n",
       "\n",
       "#sk-container-id-5 div.sk-estimator.fitted input.sk-toggleable__control:checked~label.sk-toggleable__label {\n",
       "  /* fitted */\n",
       "  background-color: var(--sklearn-color-fitted-level-2);\n",
       "}\n",
       "\n",
       "#sk-container-id-5 div.sk-label label.sk-toggleable__label,\n",
       "#sk-container-id-5 div.sk-label label {\n",
       "  /* The background is the default theme color */\n",
       "  color: var(--sklearn-color-text-on-default-background);\n",
       "}\n",
       "\n",
       "/* On hover, darken the color of the background */\n",
       "#sk-container-id-5 div.sk-label:hover label.sk-toggleable__label {\n",
       "  color: var(--sklearn-color-text);\n",
       "  background-color: var(--sklearn-color-unfitted-level-2);\n",
       "}\n",
       "\n",
       "/* Label box, darken color on hover, fitted */\n",
       "#sk-container-id-5 div.sk-label.fitted:hover label.sk-toggleable__label.fitted {\n",
       "  color: var(--sklearn-color-text);\n",
       "  background-color: var(--sklearn-color-fitted-level-2);\n",
       "}\n",
       "\n",
       "/* Estimator label */\n",
       "\n",
       "#sk-container-id-5 div.sk-label label {\n",
       "  font-family: monospace;\n",
       "  font-weight: bold;\n",
       "  display: inline-block;\n",
       "  line-height: 1.2em;\n",
       "}\n",
       "\n",
       "#sk-container-id-5 div.sk-label-container {\n",
       "  text-align: center;\n",
       "}\n",
       "\n",
       "/* Estimator-specific */\n",
       "#sk-container-id-5 div.sk-estimator {\n",
       "  font-family: monospace;\n",
       "  border: 1px dotted var(--sklearn-color-border-box);\n",
       "  border-radius: 0.25em;\n",
       "  box-sizing: border-box;\n",
       "  margin-bottom: 0.5em;\n",
       "  /* unfitted */\n",
       "  background-color: var(--sklearn-color-unfitted-level-0);\n",
       "}\n",
       "\n",
       "#sk-container-id-5 div.sk-estimator.fitted {\n",
       "  /* fitted */\n",
       "  background-color: var(--sklearn-color-fitted-level-0);\n",
       "}\n",
       "\n",
       "/* on hover */\n",
       "#sk-container-id-5 div.sk-estimator:hover {\n",
       "  /* unfitted */\n",
       "  background-color: var(--sklearn-color-unfitted-level-2);\n",
       "}\n",
       "\n",
       "#sk-container-id-5 div.sk-estimator.fitted:hover {\n",
       "  /* fitted */\n",
       "  background-color: var(--sklearn-color-fitted-level-2);\n",
       "}\n",
       "\n",
       "/* Specification for estimator info (e.g. \"i\" and \"?\") */\n",
       "\n",
       "/* Common style for \"i\" and \"?\" */\n",
       "\n",
       ".sk-estimator-doc-link,\n",
       "a:link.sk-estimator-doc-link,\n",
       "a:visited.sk-estimator-doc-link {\n",
       "  float: right;\n",
       "  font-size: smaller;\n",
       "  line-height: 1em;\n",
       "  font-family: monospace;\n",
       "  background-color: var(--sklearn-color-background);\n",
       "  border-radius: 1em;\n",
       "  height: 1em;\n",
       "  width: 1em;\n",
       "  text-decoration: none !important;\n",
       "  margin-left: 1ex;\n",
       "  /* unfitted */\n",
       "  border: var(--sklearn-color-unfitted-level-1) 1pt solid;\n",
       "  color: var(--sklearn-color-unfitted-level-1);\n",
       "}\n",
       "\n",
       ".sk-estimator-doc-link.fitted,\n",
       "a:link.sk-estimator-doc-link.fitted,\n",
       "a:visited.sk-estimator-doc-link.fitted {\n",
       "  /* fitted */\n",
       "  border: var(--sklearn-color-fitted-level-1) 1pt solid;\n",
       "  color: var(--sklearn-color-fitted-level-1);\n",
       "}\n",
       "\n",
       "/* On hover */\n",
       "div.sk-estimator:hover .sk-estimator-doc-link:hover,\n",
       ".sk-estimator-doc-link:hover,\n",
       "div.sk-label-container:hover .sk-estimator-doc-link:hover,\n",
       ".sk-estimator-doc-link:hover {\n",
       "  /* unfitted */\n",
       "  background-color: var(--sklearn-color-unfitted-level-3);\n",
       "  color: var(--sklearn-color-background);\n",
       "  text-decoration: none;\n",
       "}\n",
       "\n",
       "div.sk-estimator.fitted:hover .sk-estimator-doc-link.fitted:hover,\n",
       ".sk-estimator-doc-link.fitted:hover,\n",
       "div.sk-label-container:hover .sk-estimator-doc-link.fitted:hover,\n",
       ".sk-estimator-doc-link.fitted:hover {\n",
       "  /* fitted */\n",
       "  background-color: var(--sklearn-color-fitted-level-3);\n",
       "  color: var(--sklearn-color-background);\n",
       "  text-decoration: none;\n",
       "}\n",
       "\n",
       "/* Span, style for the box shown on hovering the info icon */\n",
       ".sk-estimator-doc-link span {\n",
       "  display: none;\n",
       "  z-index: 9999;\n",
       "  position: relative;\n",
       "  font-weight: normal;\n",
       "  right: .2ex;\n",
       "  padding: .5ex;\n",
       "  margin: .5ex;\n",
       "  width: min-content;\n",
       "  min-width: 20ex;\n",
       "  max-width: 50ex;\n",
       "  color: var(--sklearn-color-text);\n",
       "  box-shadow: 2pt 2pt 4pt #999;\n",
       "  /* unfitted */\n",
       "  background: var(--sklearn-color-unfitted-level-0);\n",
       "  border: .5pt solid var(--sklearn-color-unfitted-level-3);\n",
       "}\n",
       "\n",
       ".sk-estimator-doc-link.fitted span {\n",
       "  /* fitted */\n",
       "  background: var(--sklearn-color-fitted-level-0);\n",
       "  border: var(--sklearn-color-fitted-level-3);\n",
       "}\n",
       "\n",
       ".sk-estimator-doc-link:hover span {\n",
       "  display: block;\n",
       "}\n",
       "\n",
       "/* \"?\"-specific style due to the `<a>` HTML tag */\n",
       "\n",
       "#sk-container-id-5 a.estimator_doc_link {\n",
       "  float: right;\n",
       "  font-size: 1rem;\n",
       "  line-height: 1em;\n",
       "  font-family: monospace;\n",
       "  background-color: var(--sklearn-color-background);\n",
       "  border-radius: 1rem;\n",
       "  height: 1rem;\n",
       "  width: 1rem;\n",
       "  text-decoration: none;\n",
       "  /* unfitted */\n",
       "  color: var(--sklearn-color-unfitted-level-1);\n",
       "  border: var(--sklearn-color-unfitted-level-1) 1pt solid;\n",
       "}\n",
       "\n",
       "#sk-container-id-5 a.estimator_doc_link.fitted {\n",
       "  /* fitted */\n",
       "  border: var(--sklearn-color-fitted-level-1) 1pt solid;\n",
       "  color: var(--sklearn-color-fitted-level-1);\n",
       "}\n",
       "\n",
       "/* On hover */\n",
       "#sk-container-id-5 a.estimator_doc_link:hover {\n",
       "  /* unfitted */\n",
       "  background-color: var(--sklearn-color-unfitted-level-3);\n",
       "  color: var(--sklearn-color-background);\n",
       "  text-decoration: none;\n",
       "}\n",
       "\n",
       "#sk-container-id-5 a.estimator_doc_link.fitted:hover {\n",
       "  /* fitted */\n",
       "  background-color: var(--sklearn-color-fitted-level-3);\n",
       "}\n",
       "</style><div id=\"sk-container-id-5\" class=\"sk-top-container\"><div class=\"sk-text-repr-fallback\"><pre>SGDRegressor(random_state=42)</pre><b>In a Jupyter environment, please rerun this cell to show the HTML representation or trust the notebook. <br />On GitHub, the HTML representation is unable to render, please try loading this page with nbviewer.org.</b></div><div class=\"sk-container\" hidden><div class=\"sk-item\"><div class=\"sk-estimator  sk-toggleable\"><input class=\"sk-toggleable__control sk-hidden--visually\" id=\"sk-estimator-id-33\" type=\"checkbox\" checked><label for=\"sk-estimator-id-33\" class=\"sk-toggleable__label  sk-toggleable__label-arrow \">&nbsp;&nbsp;SGDRegressor<a class=\"sk-estimator-doc-link \" rel=\"noreferrer\" target=\"_blank\" href=\"https://scikit-learn.org/1.4/modules/generated/sklearn.linear_model.SGDRegressor.html\">?<span>Documentation for SGDRegressor</span></a><span class=\"sk-estimator-doc-link \">i<span>Not fitted</span></span></label><div class=\"sk-toggleable__content \"><pre>SGDRegressor(random_state=42)</pre></div> </div></div></div></div>"
      ],
      "text/plain": [
       "SGDRegressor(random_state=42)"
      ]
     },
     "execution_count": 91,
     "metadata": {},
     "output_type": "execute_result"
    }
   ],
   "source": [
    "pipe_num['model']"
   ]
  },
  {
   "cell_type": "code",
   "execution_count": 92,
   "id": "a907bfc9",
   "metadata": {},
   "outputs": [
    {
     "data": {
      "text/html": [
       "<style>#sk-container-id-6 {\n",
       "  /* Definition of color scheme common for light and dark mode */\n",
       "  --sklearn-color-text: black;\n",
       "  --sklearn-color-line: gray;\n",
       "  /* Definition of color scheme for unfitted estimators */\n",
       "  --sklearn-color-unfitted-level-0: #fff5e6;\n",
       "  --sklearn-color-unfitted-level-1: #f6e4d2;\n",
       "  --sklearn-color-unfitted-level-2: #ffe0b3;\n",
       "  --sklearn-color-unfitted-level-3: chocolate;\n",
       "  /* Definition of color scheme for fitted estimators */\n",
       "  --sklearn-color-fitted-level-0: #f0f8ff;\n",
       "  --sklearn-color-fitted-level-1: #d4ebff;\n",
       "  --sklearn-color-fitted-level-2: #b3dbfd;\n",
       "  --sklearn-color-fitted-level-3: cornflowerblue;\n",
       "\n",
       "  /* Specific color for light theme */\n",
       "  --sklearn-color-text-on-default-background: var(--sg-text-color, var(--theme-code-foreground, var(--jp-content-font-color1, black)));\n",
       "  --sklearn-color-background: var(--sg-background-color, var(--theme-background, var(--jp-layout-color0, white)));\n",
       "  --sklearn-color-border-box: var(--sg-text-color, var(--theme-code-foreground, var(--jp-content-font-color1, black)));\n",
       "  --sklearn-color-icon: #696969;\n",
       "\n",
       "  @media (prefers-color-scheme: dark) {\n",
       "    /* Redefinition of color scheme for dark theme */\n",
       "    --sklearn-color-text-on-default-background: var(--sg-text-color, var(--theme-code-foreground, var(--jp-content-font-color1, white)));\n",
       "    --sklearn-color-background: var(--sg-background-color, var(--theme-background, var(--jp-layout-color0, #111)));\n",
       "    --sklearn-color-border-box: var(--sg-text-color, var(--theme-code-foreground, var(--jp-content-font-color1, white)));\n",
       "    --sklearn-color-icon: #878787;\n",
       "  }\n",
       "}\n",
       "\n",
       "#sk-container-id-6 {\n",
       "  color: var(--sklearn-color-text);\n",
       "}\n",
       "\n",
       "#sk-container-id-6 pre {\n",
       "  padding: 0;\n",
       "}\n",
       "\n",
       "#sk-container-id-6 input.sk-hidden--visually {\n",
       "  border: 0;\n",
       "  clip: rect(1px 1px 1px 1px);\n",
       "  clip: rect(1px, 1px, 1px, 1px);\n",
       "  height: 1px;\n",
       "  margin: -1px;\n",
       "  overflow: hidden;\n",
       "  padding: 0;\n",
       "  position: absolute;\n",
       "  width: 1px;\n",
       "}\n",
       "\n",
       "#sk-container-id-6 div.sk-dashed-wrapped {\n",
       "  border: 1px dashed var(--sklearn-color-line);\n",
       "  margin: 0 0.4em 0.5em 0.4em;\n",
       "  box-sizing: border-box;\n",
       "  padding-bottom: 0.4em;\n",
       "  background-color: var(--sklearn-color-background);\n",
       "}\n",
       "\n",
       "#sk-container-id-6 div.sk-container {\n",
       "  /* jupyter's `normalize.less` sets `[hidden] { display: none; }`\n",
       "     but bootstrap.min.css set `[hidden] { display: none !important; }`\n",
       "     so we also need the `!important` here to be able to override the\n",
       "     default hidden behavior on the sphinx rendered scikit-learn.org.\n",
       "     See: https://github.com/scikit-learn/scikit-learn/issues/21755 */\n",
       "  display: inline-block !important;\n",
       "  position: relative;\n",
       "}\n",
       "\n",
       "#sk-container-id-6 div.sk-text-repr-fallback {\n",
       "  display: none;\n",
       "}\n",
       "\n",
       "div.sk-parallel-item,\n",
       "div.sk-serial,\n",
       "div.sk-item {\n",
       "  /* draw centered vertical line to link estimators */\n",
       "  background-image: linear-gradient(var(--sklearn-color-text-on-default-background), var(--sklearn-color-text-on-default-background));\n",
       "  background-size: 2px 100%;\n",
       "  background-repeat: no-repeat;\n",
       "  background-position: center center;\n",
       "}\n",
       "\n",
       "/* Parallel-specific style estimator block */\n",
       "\n",
       "#sk-container-id-6 div.sk-parallel-item::after {\n",
       "  content: \"\";\n",
       "  width: 100%;\n",
       "  border-bottom: 2px solid var(--sklearn-color-text-on-default-background);\n",
       "  flex-grow: 1;\n",
       "}\n",
       "\n",
       "#sk-container-id-6 div.sk-parallel {\n",
       "  display: flex;\n",
       "  align-items: stretch;\n",
       "  justify-content: center;\n",
       "  background-color: var(--sklearn-color-background);\n",
       "  position: relative;\n",
       "}\n",
       "\n",
       "#sk-container-id-6 div.sk-parallel-item {\n",
       "  display: flex;\n",
       "  flex-direction: column;\n",
       "}\n",
       "\n",
       "#sk-container-id-6 div.sk-parallel-item:first-child::after {\n",
       "  align-self: flex-end;\n",
       "  width: 50%;\n",
       "}\n",
       "\n",
       "#sk-container-id-6 div.sk-parallel-item:last-child::after {\n",
       "  align-self: flex-start;\n",
       "  width: 50%;\n",
       "}\n",
       "\n",
       "#sk-container-id-6 div.sk-parallel-item:only-child::after {\n",
       "  width: 0;\n",
       "}\n",
       "\n",
       "/* Serial-specific style estimator block */\n",
       "\n",
       "#sk-container-id-6 div.sk-serial {\n",
       "  display: flex;\n",
       "  flex-direction: column;\n",
       "  align-items: center;\n",
       "  background-color: var(--sklearn-color-background);\n",
       "  padding-right: 1em;\n",
       "  padding-left: 1em;\n",
       "}\n",
       "\n",
       "\n",
       "/* Toggleable style: style used for estimator/Pipeline/ColumnTransformer box that is\n",
       "clickable and can be expanded/collapsed.\n",
       "- Pipeline and ColumnTransformer use this feature and define the default style\n",
       "- Estimators will overwrite some part of the style using the `sk-estimator` class\n",
       "*/\n",
       "\n",
       "/* Pipeline and ColumnTransformer style (default) */\n",
       "\n",
       "#sk-container-id-6 div.sk-toggleable {\n",
       "  /* Default theme specific background. It is overwritten whether we have a\n",
       "  specific estimator or a Pipeline/ColumnTransformer */\n",
       "  background-color: var(--sklearn-color-background);\n",
       "}\n",
       "\n",
       "/* Toggleable label */\n",
       "#sk-container-id-6 label.sk-toggleable__label {\n",
       "  cursor: pointer;\n",
       "  display: block;\n",
       "  width: 100%;\n",
       "  margin-bottom: 0;\n",
       "  padding: 0.5em;\n",
       "  box-sizing: border-box;\n",
       "  text-align: center;\n",
       "}\n",
       "\n",
       "#sk-container-id-6 label.sk-toggleable__label-arrow:before {\n",
       "  /* Arrow on the left of the label */\n",
       "  content: \"▸\";\n",
       "  float: left;\n",
       "  margin-right: 0.25em;\n",
       "  color: var(--sklearn-color-icon);\n",
       "}\n",
       "\n",
       "#sk-container-id-6 label.sk-toggleable__label-arrow:hover:before {\n",
       "  color: var(--sklearn-color-text);\n",
       "}\n",
       "\n",
       "/* Toggleable content - dropdown */\n",
       "\n",
       "#sk-container-id-6 div.sk-toggleable__content {\n",
       "  max-height: 0;\n",
       "  max-width: 0;\n",
       "  overflow: hidden;\n",
       "  text-align: left;\n",
       "  /* unfitted */\n",
       "  background-color: var(--sklearn-color-unfitted-level-0);\n",
       "}\n",
       "\n",
       "#sk-container-id-6 div.sk-toggleable__content.fitted {\n",
       "  /* fitted */\n",
       "  background-color: var(--sklearn-color-fitted-level-0);\n",
       "}\n",
       "\n",
       "#sk-container-id-6 div.sk-toggleable__content pre {\n",
       "  margin: 0.2em;\n",
       "  border-radius: 0.25em;\n",
       "  color: var(--sklearn-color-text);\n",
       "  /* unfitted */\n",
       "  background-color: var(--sklearn-color-unfitted-level-0);\n",
       "}\n",
       "\n",
       "#sk-container-id-6 div.sk-toggleable__content.fitted pre {\n",
       "  /* unfitted */\n",
       "  background-color: var(--sklearn-color-fitted-level-0);\n",
       "}\n",
       "\n",
       "#sk-container-id-6 input.sk-toggleable__control:checked~div.sk-toggleable__content {\n",
       "  /* Expand drop-down */\n",
       "  max-height: 200px;\n",
       "  max-width: 100%;\n",
       "  overflow: auto;\n",
       "}\n",
       "\n",
       "#sk-container-id-6 input.sk-toggleable__control:checked~label.sk-toggleable__label-arrow:before {\n",
       "  content: \"▾\";\n",
       "}\n",
       "\n",
       "/* Pipeline/ColumnTransformer-specific style */\n",
       "\n",
       "#sk-container-id-6 div.sk-label input.sk-toggleable__control:checked~label.sk-toggleable__label {\n",
       "  color: var(--sklearn-color-text);\n",
       "  background-color: var(--sklearn-color-unfitted-level-2);\n",
       "}\n",
       "\n",
       "#sk-container-id-6 div.sk-label.fitted input.sk-toggleable__control:checked~label.sk-toggleable__label {\n",
       "  background-color: var(--sklearn-color-fitted-level-2);\n",
       "}\n",
       "\n",
       "/* Estimator-specific style */\n",
       "\n",
       "/* Colorize estimator box */\n",
       "#sk-container-id-6 div.sk-estimator input.sk-toggleable__control:checked~label.sk-toggleable__label {\n",
       "  /* unfitted */\n",
       "  background-color: var(--sklearn-color-unfitted-level-2);\n",
       "}\n",
       "\n",
       "#sk-container-id-6 div.sk-estimator.fitted input.sk-toggleable__control:checked~label.sk-toggleable__label {\n",
       "  /* fitted */\n",
       "  background-color: var(--sklearn-color-fitted-level-2);\n",
       "}\n",
       "\n",
       "#sk-container-id-6 div.sk-label label.sk-toggleable__label,\n",
       "#sk-container-id-6 div.sk-label label {\n",
       "  /* The background is the default theme color */\n",
       "  color: var(--sklearn-color-text-on-default-background);\n",
       "}\n",
       "\n",
       "/* On hover, darken the color of the background */\n",
       "#sk-container-id-6 div.sk-label:hover label.sk-toggleable__label {\n",
       "  color: var(--sklearn-color-text);\n",
       "  background-color: var(--sklearn-color-unfitted-level-2);\n",
       "}\n",
       "\n",
       "/* Label box, darken color on hover, fitted */\n",
       "#sk-container-id-6 div.sk-label.fitted:hover label.sk-toggleable__label.fitted {\n",
       "  color: var(--sklearn-color-text);\n",
       "  background-color: var(--sklearn-color-fitted-level-2);\n",
       "}\n",
       "\n",
       "/* Estimator label */\n",
       "\n",
       "#sk-container-id-6 div.sk-label label {\n",
       "  font-family: monospace;\n",
       "  font-weight: bold;\n",
       "  display: inline-block;\n",
       "  line-height: 1.2em;\n",
       "}\n",
       "\n",
       "#sk-container-id-6 div.sk-label-container {\n",
       "  text-align: center;\n",
       "}\n",
       "\n",
       "/* Estimator-specific */\n",
       "#sk-container-id-6 div.sk-estimator {\n",
       "  font-family: monospace;\n",
       "  border: 1px dotted var(--sklearn-color-border-box);\n",
       "  border-radius: 0.25em;\n",
       "  box-sizing: border-box;\n",
       "  margin-bottom: 0.5em;\n",
       "  /* unfitted */\n",
       "  background-color: var(--sklearn-color-unfitted-level-0);\n",
       "}\n",
       "\n",
       "#sk-container-id-6 div.sk-estimator.fitted {\n",
       "  /* fitted */\n",
       "  background-color: var(--sklearn-color-fitted-level-0);\n",
       "}\n",
       "\n",
       "/* on hover */\n",
       "#sk-container-id-6 div.sk-estimator:hover {\n",
       "  /* unfitted */\n",
       "  background-color: var(--sklearn-color-unfitted-level-2);\n",
       "}\n",
       "\n",
       "#sk-container-id-6 div.sk-estimator.fitted:hover {\n",
       "  /* fitted */\n",
       "  background-color: var(--sklearn-color-fitted-level-2);\n",
       "}\n",
       "\n",
       "/* Specification for estimator info (e.g. \"i\" and \"?\") */\n",
       "\n",
       "/* Common style for \"i\" and \"?\" */\n",
       "\n",
       ".sk-estimator-doc-link,\n",
       "a:link.sk-estimator-doc-link,\n",
       "a:visited.sk-estimator-doc-link {\n",
       "  float: right;\n",
       "  font-size: smaller;\n",
       "  line-height: 1em;\n",
       "  font-family: monospace;\n",
       "  background-color: var(--sklearn-color-background);\n",
       "  border-radius: 1em;\n",
       "  height: 1em;\n",
       "  width: 1em;\n",
       "  text-decoration: none !important;\n",
       "  margin-left: 1ex;\n",
       "  /* unfitted */\n",
       "  border: var(--sklearn-color-unfitted-level-1) 1pt solid;\n",
       "  color: var(--sklearn-color-unfitted-level-1);\n",
       "}\n",
       "\n",
       ".sk-estimator-doc-link.fitted,\n",
       "a:link.sk-estimator-doc-link.fitted,\n",
       "a:visited.sk-estimator-doc-link.fitted {\n",
       "  /* fitted */\n",
       "  border: var(--sklearn-color-fitted-level-1) 1pt solid;\n",
       "  color: var(--sklearn-color-fitted-level-1);\n",
       "}\n",
       "\n",
       "/* On hover */\n",
       "div.sk-estimator:hover .sk-estimator-doc-link:hover,\n",
       ".sk-estimator-doc-link:hover,\n",
       "div.sk-label-container:hover .sk-estimator-doc-link:hover,\n",
       ".sk-estimator-doc-link:hover {\n",
       "  /* unfitted */\n",
       "  background-color: var(--sklearn-color-unfitted-level-3);\n",
       "  color: var(--sklearn-color-background);\n",
       "  text-decoration: none;\n",
       "}\n",
       "\n",
       "div.sk-estimator.fitted:hover .sk-estimator-doc-link.fitted:hover,\n",
       ".sk-estimator-doc-link.fitted:hover,\n",
       "div.sk-label-container:hover .sk-estimator-doc-link.fitted:hover,\n",
       ".sk-estimator-doc-link.fitted:hover {\n",
       "  /* fitted */\n",
       "  background-color: var(--sklearn-color-fitted-level-3);\n",
       "  color: var(--sklearn-color-background);\n",
       "  text-decoration: none;\n",
       "}\n",
       "\n",
       "/* Span, style for the box shown on hovering the info icon */\n",
       ".sk-estimator-doc-link span {\n",
       "  display: none;\n",
       "  z-index: 9999;\n",
       "  position: relative;\n",
       "  font-weight: normal;\n",
       "  right: .2ex;\n",
       "  padding: .5ex;\n",
       "  margin: .5ex;\n",
       "  width: min-content;\n",
       "  min-width: 20ex;\n",
       "  max-width: 50ex;\n",
       "  color: var(--sklearn-color-text);\n",
       "  box-shadow: 2pt 2pt 4pt #999;\n",
       "  /* unfitted */\n",
       "  background: var(--sklearn-color-unfitted-level-0);\n",
       "  border: .5pt solid var(--sklearn-color-unfitted-level-3);\n",
       "}\n",
       "\n",
       ".sk-estimator-doc-link.fitted span {\n",
       "  /* fitted */\n",
       "  background: var(--sklearn-color-fitted-level-0);\n",
       "  border: var(--sklearn-color-fitted-level-3);\n",
       "}\n",
       "\n",
       ".sk-estimator-doc-link:hover span {\n",
       "  display: block;\n",
       "}\n",
       "\n",
       "/* \"?\"-specific style due to the `<a>` HTML tag */\n",
       "\n",
       "#sk-container-id-6 a.estimator_doc_link {\n",
       "  float: right;\n",
       "  font-size: 1rem;\n",
       "  line-height: 1em;\n",
       "  font-family: monospace;\n",
       "  background-color: var(--sklearn-color-background);\n",
       "  border-radius: 1rem;\n",
       "  height: 1rem;\n",
       "  width: 1rem;\n",
       "  text-decoration: none;\n",
       "  /* unfitted */\n",
       "  color: var(--sklearn-color-unfitted-level-1);\n",
       "  border: var(--sklearn-color-unfitted-level-1) 1pt solid;\n",
       "}\n",
       "\n",
       "#sk-container-id-6 a.estimator_doc_link.fitted {\n",
       "  /* fitted */\n",
       "  border: var(--sklearn-color-fitted-level-1) 1pt solid;\n",
       "  color: var(--sklearn-color-fitted-level-1);\n",
       "}\n",
       "\n",
       "/* On hover */\n",
       "#sk-container-id-6 a.estimator_doc_link:hover {\n",
       "  /* unfitted */\n",
       "  background-color: var(--sklearn-color-unfitted-level-3);\n",
       "  color: var(--sklearn-color-background);\n",
       "  text-decoration: none;\n",
       "}\n",
       "\n",
       "#sk-container-id-6 a.estimator_doc_link.fitted:hover {\n",
       "  /* fitted */\n",
       "  background-color: var(--sklearn-color-fitted-level-3);\n",
       "}\n",
       "</style><div id=\"sk-container-id-6\" class=\"sk-top-container\"><div class=\"sk-text-repr-fallback\"><pre>Pipeline(steps=[(&#x27;preprocessors&#x27;,\n",
       "                 ColumnTransformer(transformers=[(&#x27;num&#x27;,\n",
       "                                                  Pipeline(steps=[(&#x27;QuantReplace&#x27;,\n",
       "                                                                   QuantileReplacer(threshold=0.01)),\n",
       "                                                                  (&#x27;norm&#x27;,\n",
       "                                                                   MinMaxScaler())]),\n",
       "                                                  [&#x27;Age&#x27;, &#x27;Book_average_rating&#x27;,\n",
       "                                                   &#x27;Book_ratings_count&#x27;,\n",
       "                                                   &#x27;sale price&#x27;])])),\n",
       "                (&#x27;model&#x27;, SGDRegressor(random_state=42))])</pre><b>In a Jupyter environment, please rerun this cell to show the HTML representation or trust the notebook. <br />On GitHub, the HTML representation is unable to render, please try loading this page with nbviewer.org.</b></div><div class=\"sk-container\" hidden><div class=\"sk-item sk-dashed-wrapped\"><div class=\"sk-label-container\"><div class=\"sk-label fitted sk-toggleable\"><input class=\"sk-toggleable__control sk-hidden--visually\" id=\"sk-estimator-id-34\" type=\"checkbox\" ><label for=\"sk-estimator-id-34\" class=\"sk-toggleable__label fitted sk-toggleable__label-arrow fitted\">&nbsp;&nbsp;Pipeline<a class=\"sk-estimator-doc-link fitted\" rel=\"noreferrer\" target=\"_blank\" href=\"https://scikit-learn.org/1.4/modules/generated/sklearn.pipeline.Pipeline.html\">?<span>Documentation for Pipeline</span></a><span class=\"sk-estimator-doc-link fitted\">i<span>Fitted</span></span></label><div class=\"sk-toggleable__content fitted\"><pre>Pipeline(steps=[(&#x27;preprocessors&#x27;,\n",
       "                 ColumnTransformer(transformers=[(&#x27;num&#x27;,\n",
       "                                                  Pipeline(steps=[(&#x27;QuantReplace&#x27;,\n",
       "                                                                   QuantileReplacer(threshold=0.01)),\n",
       "                                                                  (&#x27;norm&#x27;,\n",
       "                                                                   MinMaxScaler())]),\n",
       "                                                  [&#x27;Age&#x27;, &#x27;Book_average_rating&#x27;,\n",
       "                                                   &#x27;Book_ratings_count&#x27;,\n",
       "                                                   &#x27;sale price&#x27;])])),\n",
       "                (&#x27;model&#x27;, SGDRegressor(random_state=42))])</pre></div> </div></div><div class=\"sk-serial\"><div class=\"sk-item sk-dashed-wrapped\"><div class=\"sk-label-container\"><div class=\"sk-label fitted sk-toggleable\"><input class=\"sk-toggleable__control sk-hidden--visually\" id=\"sk-estimator-id-35\" type=\"checkbox\" ><label for=\"sk-estimator-id-35\" class=\"sk-toggleable__label fitted sk-toggleable__label-arrow fitted\">&nbsp;preprocessors: ColumnTransformer<a class=\"sk-estimator-doc-link fitted\" rel=\"noreferrer\" target=\"_blank\" href=\"https://scikit-learn.org/1.4/modules/generated/sklearn.compose.ColumnTransformer.html\">?<span>Documentation for preprocessors: ColumnTransformer</span></a></label><div class=\"sk-toggleable__content fitted\"><pre>ColumnTransformer(transformers=[(&#x27;num&#x27;,\n",
       "                                 Pipeline(steps=[(&#x27;QuantReplace&#x27;,\n",
       "                                                  QuantileReplacer(threshold=0.01)),\n",
       "                                                 (&#x27;norm&#x27;, MinMaxScaler())]),\n",
       "                                 [&#x27;Age&#x27;, &#x27;Book_average_rating&#x27;,\n",
       "                                  &#x27;Book_ratings_count&#x27;, &#x27;sale price&#x27;])])</pre></div> </div></div><div class=\"sk-parallel\"><div class=\"sk-parallel-item\"><div class=\"sk-item\"><div class=\"sk-label-container\"><div class=\"sk-label fitted sk-toggleable\"><input class=\"sk-toggleable__control sk-hidden--visually\" id=\"sk-estimator-id-36\" type=\"checkbox\" ><label for=\"sk-estimator-id-36\" class=\"sk-toggleable__label fitted sk-toggleable__label-arrow fitted\">num</label><div class=\"sk-toggleable__content fitted\"><pre>[&#x27;Age&#x27;, &#x27;Book_average_rating&#x27;, &#x27;Book_ratings_count&#x27;, &#x27;sale price&#x27;]</pre></div> </div></div><div class=\"sk-serial\"><div class=\"sk-item\"><div class=\"sk-serial\"><div class=\"sk-item\"><div class=\"sk-estimator fitted sk-toggleable\"><input class=\"sk-toggleable__control sk-hidden--visually\" id=\"sk-estimator-id-37\" type=\"checkbox\" ><label for=\"sk-estimator-id-37\" class=\"sk-toggleable__label fitted sk-toggleable__label-arrow fitted\">QuantileReplacer</label><div class=\"sk-toggleable__content fitted\"><pre>QuantileReplacer(threshold=0.01)</pre></div> </div></div><div class=\"sk-item\"><div class=\"sk-estimator fitted sk-toggleable\"><input class=\"sk-toggleable__control sk-hidden--visually\" id=\"sk-estimator-id-38\" type=\"checkbox\" ><label for=\"sk-estimator-id-38\" class=\"sk-toggleable__label fitted sk-toggleable__label-arrow fitted\">&nbsp;MinMaxScaler<a class=\"sk-estimator-doc-link fitted\" rel=\"noreferrer\" target=\"_blank\" href=\"https://scikit-learn.org/1.4/modules/generated/sklearn.preprocessing.MinMaxScaler.html\">?<span>Documentation for MinMaxScaler</span></a></label><div class=\"sk-toggleable__content fitted\"><pre>MinMaxScaler()</pre></div> </div></div></div></div></div></div></div></div></div><div class=\"sk-item\"><div class=\"sk-estimator fitted sk-toggleable\"><input class=\"sk-toggleable__control sk-hidden--visually\" id=\"sk-estimator-id-39\" type=\"checkbox\" ><label for=\"sk-estimator-id-39\" class=\"sk-toggleable__label fitted sk-toggleable__label-arrow fitted\">&nbsp;SGDRegressor<a class=\"sk-estimator-doc-link fitted\" rel=\"noreferrer\" target=\"_blank\" href=\"https://scikit-learn.org/1.4/modules/generated/sklearn.linear_model.SGDRegressor.html\">?<span>Documentation for SGDRegressor</span></a></label><div class=\"sk-toggleable__content fitted\"><pre>SGDRegressor(random_state=42)</pre></div> </div></div></div></div></div></div>"
      ],
      "text/plain": [
       "Pipeline(steps=[('preprocessors',\n",
       "                 ColumnTransformer(transformers=[('num',\n",
       "                                                  Pipeline(steps=[('QuantReplace',\n",
       "                                                                   QuantileReplacer(threshold=0.01)),\n",
       "                                                                  ('norm',\n",
       "                                                                   MinMaxScaler())]),\n",
       "                                                  ['Age', 'Book_average_rating',\n",
       "                                                   'Book_ratings_count',\n",
       "                                                   'sale price'])])),\n",
       "                ('model', SGDRegressor(random_state=42))])"
      ]
     },
     "execution_count": 92,
     "metadata": {},
     "output_type": "execute_result"
    }
   ],
   "source": [
    "pipe_num.fit(X_train, y_train)"
   ]
  },
  {
   "cell_type": "code",
   "execution_count": 93,
   "id": "0ea0192e",
   "metadata": {},
   "outputs": [
    {
     "name": "stdout",
     "output_type": "stream",
     "text": [
      "Решение\n",
      "-1921.105+204.00*Age-1018.98*Book_average_rating+8132.64*Book_ratings_count+4096.44*sale price\n"
     ]
    }
   ],
   "source": [
    "B0, B = get_coefs(pipe_num['model'])\n",
    "features_names = list(columns_num)\n",
    "\n",
    "print_model (B0,B,features_names)"
   ]
  },
  {
   "cell_type": "code",
   "execution_count": 94,
   "id": "d5da4419",
   "metadata": {},
   "outputs": [
    {
     "name": "stdout",
     "output_type": "stream",
     "text": [
      "r2 на тренировочной выборке: 0.3535\n",
      "r2 на валидационной выборке: 0.2668\n",
      "mse на тренировочной выборке: 8602643.7809\n",
      "mse на валидационной выборке: 15088028.3631\n",
      "rmse на тренировочной выборке: 2933.0264\n",
      "rmse на валидационной выборке: 3884.3311\n"
     ]
    }
   ],
   "source": [
    "print(f\"r2 на тренировочной выборке: {calculate_metric(pipe_num, X_train, y_train):.4f}\")\n",
    "print(f\"r2 на валидационной выборке: {calculate_metric(pipe_num, X_val, y_val):.4f}\")\n",
    "\n",
    "print(f\"mse на тренировочной выборке: {calculate_metric(pipe_num, X_train, y_train, mse):.4f}\")\n",
    "print(f\"mse на валидационной выборке: {calculate_metric(pipe_num, X_val, y_val, mse):.4f}\")\n",
    "\n",
    "print(f\"rmse на тренировочной выборке: {calculate_metric(pipe_num, X_train, y_train, mse, squared = False):.4f}\")\n",
    "print(f\"rmse на валидационной выборке: {calculate_metric(pipe_num, X_val, y_val, mse, squared = False):.4f}\")"
   ]
  },
  {
   "cell_type": "code",
   "execution_count": 95,
   "id": "7a53c76d",
   "metadata": {},
   "outputs": [
    {
     "name": "stdout",
     "output_type": "stream",
     "text": [
      "Ошибка на кросс-валидации\n"
     ]
    },
    {
     "data": {
      "text/html": [
       "<div>\n",
       "<style scoped>\n",
       "    .dataframe tbody tr th:only-of-type {\n",
       "        vertical-align: middle;\n",
       "    }\n",
       "\n",
       "    .dataframe tbody tr th {\n",
       "        vertical-align: top;\n",
       "    }\n",
       "\n",
       "    .dataframe thead th {\n",
       "        text-align: right;\n",
       "    }\n",
       "</style>\n",
       "<table border=\"1\" class=\"dataframe\">\n",
       "  <thead>\n",
       "    <tr style=\"text-align: right;\">\n",
       "      <th></th>\n",
       "      <th>fit_time</th>\n",
       "      <th>score_time</th>\n",
       "      <th>test_R2</th>\n",
       "      <th>test_-MSE</th>\n",
       "      <th>test_-MAE</th>\n",
       "      <th>test_-Max</th>\n",
       "    </tr>\n",
       "  </thead>\n",
       "  <tbody>\n",
       "    <tr>\n",
       "      <th>0</th>\n",
       "      <td>0.016000</td>\n",
       "      <td>0.006003</td>\n",
       "      <td>0.321470</td>\n",
       "      <td>-2.053422e+07</td>\n",
       "      <td>-1947.256499</td>\n",
       "      <td>-28920.405888</td>\n",
       "    </tr>\n",
       "    <tr>\n",
       "      <th>1</th>\n",
       "      <td>0.015995</td>\n",
       "      <td>0.005000</td>\n",
       "      <td>0.114183</td>\n",
       "      <td>-2.007581e+06</td>\n",
       "      <td>-1132.478842</td>\n",
       "      <td>-3991.403016</td>\n",
       "    </tr>\n",
       "    <tr>\n",
       "      <th>2</th>\n",
       "      <td>0.014999</td>\n",
       "      <td>0.005002</td>\n",
       "      <td>0.448099</td>\n",
       "      <td>-3.880662e+06</td>\n",
       "      <td>-1266.076719</td>\n",
       "      <td>-11000.760437</td>\n",
       "    </tr>\n",
       "    <tr>\n",
       "      <th>3</th>\n",
       "      <td>0.014004</td>\n",
       "      <td>0.005004</td>\n",
       "      <td>0.150399</td>\n",
       "      <td>-2.204638e+06</td>\n",
       "      <td>-1176.829641</td>\n",
       "      <td>-3460.784383</td>\n",
       "    </tr>\n",
       "    <tr>\n",
       "      <th>4</th>\n",
       "      <td>0.013994</td>\n",
       "      <td>0.004998</td>\n",
       "      <td>0.418041</td>\n",
       "      <td>-8.345645e+06</td>\n",
       "      <td>-1548.947755</td>\n",
       "      <td>-15419.375602</td>\n",
       "    </tr>\n",
       "  </tbody>\n",
       "</table>\n",
       "</div>"
      ],
      "text/plain": [
       "   fit_time  score_time   test_R2     test_-MSE    test_-MAE     test_-Max\n",
       "0  0.016000    0.006003  0.321470 -2.053422e+07 -1947.256499 -28920.405888\n",
       "1  0.015995    0.005000  0.114183 -2.007581e+06 -1132.478842  -3991.403016\n",
       "2  0.014999    0.005002  0.448099 -3.880662e+06 -1266.076719 -11000.760437\n",
       "3  0.014004    0.005004  0.150399 -2.204638e+06 -1176.829641  -3460.784383\n",
       "4  0.013994    0.004998  0.418041 -8.345645e+06 -1548.947755 -15419.375602"
      ]
     },
     "metadata": {},
     "output_type": "display_data"
    },
    {
     "name": "stdout",
     "output_type": "stream",
     "text": [
      "\n",
      "\n",
      "test_R2      2.904383e-01\n",
      "test_-MSE   -7.394550e+06\n",
      "test_-MAE   -1.414318e+03\n",
      "test_-Max   -1.255855e+04\n",
      "dtype: float64\n"
     ]
    }
   ],
   "source": [
    "cross_validation (X_train, y_train,\n",
    "                  pipe_num,\n",
    "                  scoring_reg,\n",
    "                  ShuffleSplit(n_splits=5, random_state = 42))"
   ]
  },
  {
   "cell_type": "markdown",
   "id": "99483c25",
   "metadata": {},
   "source": [
    "## Оценим влияние предварительной обработки целевой переменной"
   ]
  },
  {
   "cell_type": "code",
   "execution_count": 96,
   "id": "0f549f42",
   "metadata": {},
   "outputs": [],
   "source": [
    "pipe_num_transform = Pipeline([\n",
    "    ('preprocessors', preprocessors_num),\n",
    "    ('model', TransformedTargetRegressor( regressor=SGDRegressor(random_state = 42),\n",
    "    transformer=PowerTransformer())\n",
    "    )\n",
    "])"
   ]
  },
  {
   "cell_type": "code",
   "execution_count": 97,
   "id": "d5963c57",
   "metadata": {},
   "outputs": [
    {
     "data": {
      "text/html": [
       "<style>#sk-container-id-7 {\n",
       "  /* Definition of color scheme common for light and dark mode */\n",
       "  --sklearn-color-text: black;\n",
       "  --sklearn-color-line: gray;\n",
       "  /* Definition of color scheme for unfitted estimators */\n",
       "  --sklearn-color-unfitted-level-0: #fff5e6;\n",
       "  --sklearn-color-unfitted-level-1: #f6e4d2;\n",
       "  --sklearn-color-unfitted-level-2: #ffe0b3;\n",
       "  --sklearn-color-unfitted-level-3: chocolate;\n",
       "  /* Definition of color scheme for fitted estimators */\n",
       "  --sklearn-color-fitted-level-0: #f0f8ff;\n",
       "  --sklearn-color-fitted-level-1: #d4ebff;\n",
       "  --sklearn-color-fitted-level-2: #b3dbfd;\n",
       "  --sklearn-color-fitted-level-3: cornflowerblue;\n",
       "\n",
       "  /* Specific color for light theme */\n",
       "  --sklearn-color-text-on-default-background: var(--sg-text-color, var(--theme-code-foreground, var(--jp-content-font-color1, black)));\n",
       "  --sklearn-color-background: var(--sg-background-color, var(--theme-background, var(--jp-layout-color0, white)));\n",
       "  --sklearn-color-border-box: var(--sg-text-color, var(--theme-code-foreground, var(--jp-content-font-color1, black)));\n",
       "  --sklearn-color-icon: #696969;\n",
       "\n",
       "  @media (prefers-color-scheme: dark) {\n",
       "    /* Redefinition of color scheme for dark theme */\n",
       "    --sklearn-color-text-on-default-background: var(--sg-text-color, var(--theme-code-foreground, var(--jp-content-font-color1, white)));\n",
       "    --sklearn-color-background: var(--sg-background-color, var(--theme-background, var(--jp-layout-color0, #111)));\n",
       "    --sklearn-color-border-box: var(--sg-text-color, var(--theme-code-foreground, var(--jp-content-font-color1, white)));\n",
       "    --sklearn-color-icon: #878787;\n",
       "  }\n",
       "}\n",
       "\n",
       "#sk-container-id-7 {\n",
       "  color: var(--sklearn-color-text);\n",
       "}\n",
       "\n",
       "#sk-container-id-7 pre {\n",
       "  padding: 0;\n",
       "}\n",
       "\n",
       "#sk-container-id-7 input.sk-hidden--visually {\n",
       "  border: 0;\n",
       "  clip: rect(1px 1px 1px 1px);\n",
       "  clip: rect(1px, 1px, 1px, 1px);\n",
       "  height: 1px;\n",
       "  margin: -1px;\n",
       "  overflow: hidden;\n",
       "  padding: 0;\n",
       "  position: absolute;\n",
       "  width: 1px;\n",
       "}\n",
       "\n",
       "#sk-container-id-7 div.sk-dashed-wrapped {\n",
       "  border: 1px dashed var(--sklearn-color-line);\n",
       "  margin: 0 0.4em 0.5em 0.4em;\n",
       "  box-sizing: border-box;\n",
       "  padding-bottom: 0.4em;\n",
       "  background-color: var(--sklearn-color-background);\n",
       "}\n",
       "\n",
       "#sk-container-id-7 div.sk-container {\n",
       "  /* jupyter's `normalize.less` sets `[hidden] { display: none; }`\n",
       "     but bootstrap.min.css set `[hidden] { display: none !important; }`\n",
       "     so we also need the `!important` here to be able to override the\n",
       "     default hidden behavior on the sphinx rendered scikit-learn.org.\n",
       "     See: https://github.com/scikit-learn/scikit-learn/issues/21755 */\n",
       "  display: inline-block !important;\n",
       "  position: relative;\n",
       "}\n",
       "\n",
       "#sk-container-id-7 div.sk-text-repr-fallback {\n",
       "  display: none;\n",
       "}\n",
       "\n",
       "div.sk-parallel-item,\n",
       "div.sk-serial,\n",
       "div.sk-item {\n",
       "  /* draw centered vertical line to link estimators */\n",
       "  background-image: linear-gradient(var(--sklearn-color-text-on-default-background), var(--sklearn-color-text-on-default-background));\n",
       "  background-size: 2px 100%;\n",
       "  background-repeat: no-repeat;\n",
       "  background-position: center center;\n",
       "}\n",
       "\n",
       "/* Parallel-specific style estimator block */\n",
       "\n",
       "#sk-container-id-7 div.sk-parallel-item::after {\n",
       "  content: \"\";\n",
       "  width: 100%;\n",
       "  border-bottom: 2px solid var(--sklearn-color-text-on-default-background);\n",
       "  flex-grow: 1;\n",
       "}\n",
       "\n",
       "#sk-container-id-7 div.sk-parallel {\n",
       "  display: flex;\n",
       "  align-items: stretch;\n",
       "  justify-content: center;\n",
       "  background-color: var(--sklearn-color-background);\n",
       "  position: relative;\n",
       "}\n",
       "\n",
       "#sk-container-id-7 div.sk-parallel-item {\n",
       "  display: flex;\n",
       "  flex-direction: column;\n",
       "}\n",
       "\n",
       "#sk-container-id-7 div.sk-parallel-item:first-child::after {\n",
       "  align-self: flex-end;\n",
       "  width: 50%;\n",
       "}\n",
       "\n",
       "#sk-container-id-7 div.sk-parallel-item:last-child::after {\n",
       "  align-self: flex-start;\n",
       "  width: 50%;\n",
       "}\n",
       "\n",
       "#sk-container-id-7 div.sk-parallel-item:only-child::after {\n",
       "  width: 0;\n",
       "}\n",
       "\n",
       "/* Serial-specific style estimator block */\n",
       "\n",
       "#sk-container-id-7 div.sk-serial {\n",
       "  display: flex;\n",
       "  flex-direction: column;\n",
       "  align-items: center;\n",
       "  background-color: var(--sklearn-color-background);\n",
       "  padding-right: 1em;\n",
       "  padding-left: 1em;\n",
       "}\n",
       "\n",
       "\n",
       "/* Toggleable style: style used for estimator/Pipeline/ColumnTransformer box that is\n",
       "clickable and can be expanded/collapsed.\n",
       "- Pipeline and ColumnTransformer use this feature and define the default style\n",
       "- Estimators will overwrite some part of the style using the `sk-estimator` class\n",
       "*/\n",
       "\n",
       "/* Pipeline and ColumnTransformer style (default) */\n",
       "\n",
       "#sk-container-id-7 div.sk-toggleable {\n",
       "  /* Default theme specific background. It is overwritten whether we have a\n",
       "  specific estimator or a Pipeline/ColumnTransformer */\n",
       "  background-color: var(--sklearn-color-background);\n",
       "}\n",
       "\n",
       "/* Toggleable label */\n",
       "#sk-container-id-7 label.sk-toggleable__label {\n",
       "  cursor: pointer;\n",
       "  display: block;\n",
       "  width: 100%;\n",
       "  margin-bottom: 0;\n",
       "  padding: 0.5em;\n",
       "  box-sizing: border-box;\n",
       "  text-align: center;\n",
       "}\n",
       "\n",
       "#sk-container-id-7 label.sk-toggleable__label-arrow:before {\n",
       "  /* Arrow on the left of the label */\n",
       "  content: \"▸\";\n",
       "  float: left;\n",
       "  margin-right: 0.25em;\n",
       "  color: var(--sklearn-color-icon);\n",
       "}\n",
       "\n",
       "#sk-container-id-7 label.sk-toggleable__label-arrow:hover:before {\n",
       "  color: var(--sklearn-color-text);\n",
       "}\n",
       "\n",
       "/* Toggleable content - dropdown */\n",
       "\n",
       "#sk-container-id-7 div.sk-toggleable__content {\n",
       "  max-height: 0;\n",
       "  max-width: 0;\n",
       "  overflow: hidden;\n",
       "  text-align: left;\n",
       "  /* unfitted */\n",
       "  background-color: var(--sklearn-color-unfitted-level-0);\n",
       "}\n",
       "\n",
       "#sk-container-id-7 div.sk-toggleable__content.fitted {\n",
       "  /* fitted */\n",
       "  background-color: var(--sklearn-color-fitted-level-0);\n",
       "}\n",
       "\n",
       "#sk-container-id-7 div.sk-toggleable__content pre {\n",
       "  margin: 0.2em;\n",
       "  border-radius: 0.25em;\n",
       "  color: var(--sklearn-color-text);\n",
       "  /* unfitted */\n",
       "  background-color: var(--sklearn-color-unfitted-level-0);\n",
       "}\n",
       "\n",
       "#sk-container-id-7 div.sk-toggleable__content.fitted pre {\n",
       "  /* unfitted */\n",
       "  background-color: var(--sklearn-color-fitted-level-0);\n",
       "}\n",
       "\n",
       "#sk-container-id-7 input.sk-toggleable__control:checked~div.sk-toggleable__content {\n",
       "  /* Expand drop-down */\n",
       "  max-height: 200px;\n",
       "  max-width: 100%;\n",
       "  overflow: auto;\n",
       "}\n",
       "\n",
       "#sk-container-id-7 input.sk-toggleable__control:checked~label.sk-toggleable__label-arrow:before {\n",
       "  content: \"▾\";\n",
       "}\n",
       "\n",
       "/* Pipeline/ColumnTransformer-specific style */\n",
       "\n",
       "#sk-container-id-7 div.sk-label input.sk-toggleable__control:checked~label.sk-toggleable__label {\n",
       "  color: var(--sklearn-color-text);\n",
       "  background-color: var(--sklearn-color-unfitted-level-2);\n",
       "}\n",
       "\n",
       "#sk-container-id-7 div.sk-label.fitted input.sk-toggleable__control:checked~label.sk-toggleable__label {\n",
       "  background-color: var(--sklearn-color-fitted-level-2);\n",
       "}\n",
       "\n",
       "/* Estimator-specific style */\n",
       "\n",
       "/* Colorize estimator box */\n",
       "#sk-container-id-7 div.sk-estimator input.sk-toggleable__control:checked~label.sk-toggleable__label {\n",
       "  /* unfitted */\n",
       "  background-color: var(--sklearn-color-unfitted-level-2);\n",
       "}\n",
       "\n",
       "#sk-container-id-7 div.sk-estimator.fitted input.sk-toggleable__control:checked~label.sk-toggleable__label {\n",
       "  /* fitted */\n",
       "  background-color: var(--sklearn-color-fitted-level-2);\n",
       "}\n",
       "\n",
       "#sk-container-id-7 div.sk-label label.sk-toggleable__label,\n",
       "#sk-container-id-7 div.sk-label label {\n",
       "  /* The background is the default theme color */\n",
       "  color: var(--sklearn-color-text-on-default-background);\n",
       "}\n",
       "\n",
       "/* On hover, darken the color of the background */\n",
       "#sk-container-id-7 div.sk-label:hover label.sk-toggleable__label {\n",
       "  color: var(--sklearn-color-text);\n",
       "  background-color: var(--sklearn-color-unfitted-level-2);\n",
       "}\n",
       "\n",
       "/* Label box, darken color on hover, fitted */\n",
       "#sk-container-id-7 div.sk-label.fitted:hover label.sk-toggleable__label.fitted {\n",
       "  color: var(--sklearn-color-text);\n",
       "  background-color: var(--sklearn-color-fitted-level-2);\n",
       "}\n",
       "\n",
       "/* Estimator label */\n",
       "\n",
       "#sk-container-id-7 div.sk-label label {\n",
       "  font-family: monospace;\n",
       "  font-weight: bold;\n",
       "  display: inline-block;\n",
       "  line-height: 1.2em;\n",
       "}\n",
       "\n",
       "#sk-container-id-7 div.sk-label-container {\n",
       "  text-align: center;\n",
       "}\n",
       "\n",
       "/* Estimator-specific */\n",
       "#sk-container-id-7 div.sk-estimator {\n",
       "  font-family: monospace;\n",
       "  border: 1px dotted var(--sklearn-color-border-box);\n",
       "  border-radius: 0.25em;\n",
       "  box-sizing: border-box;\n",
       "  margin-bottom: 0.5em;\n",
       "  /* unfitted */\n",
       "  background-color: var(--sklearn-color-unfitted-level-0);\n",
       "}\n",
       "\n",
       "#sk-container-id-7 div.sk-estimator.fitted {\n",
       "  /* fitted */\n",
       "  background-color: var(--sklearn-color-fitted-level-0);\n",
       "}\n",
       "\n",
       "/* on hover */\n",
       "#sk-container-id-7 div.sk-estimator:hover {\n",
       "  /* unfitted */\n",
       "  background-color: var(--sklearn-color-unfitted-level-2);\n",
       "}\n",
       "\n",
       "#sk-container-id-7 div.sk-estimator.fitted:hover {\n",
       "  /* fitted */\n",
       "  background-color: var(--sklearn-color-fitted-level-2);\n",
       "}\n",
       "\n",
       "/* Specification for estimator info (e.g. \"i\" and \"?\") */\n",
       "\n",
       "/* Common style for \"i\" and \"?\" */\n",
       "\n",
       ".sk-estimator-doc-link,\n",
       "a:link.sk-estimator-doc-link,\n",
       "a:visited.sk-estimator-doc-link {\n",
       "  float: right;\n",
       "  font-size: smaller;\n",
       "  line-height: 1em;\n",
       "  font-family: monospace;\n",
       "  background-color: var(--sklearn-color-background);\n",
       "  border-radius: 1em;\n",
       "  height: 1em;\n",
       "  width: 1em;\n",
       "  text-decoration: none !important;\n",
       "  margin-left: 1ex;\n",
       "  /* unfitted */\n",
       "  border: var(--sklearn-color-unfitted-level-1) 1pt solid;\n",
       "  color: var(--sklearn-color-unfitted-level-1);\n",
       "}\n",
       "\n",
       ".sk-estimator-doc-link.fitted,\n",
       "a:link.sk-estimator-doc-link.fitted,\n",
       "a:visited.sk-estimator-doc-link.fitted {\n",
       "  /* fitted */\n",
       "  border: var(--sklearn-color-fitted-level-1) 1pt solid;\n",
       "  color: var(--sklearn-color-fitted-level-1);\n",
       "}\n",
       "\n",
       "/* On hover */\n",
       "div.sk-estimator:hover .sk-estimator-doc-link:hover,\n",
       ".sk-estimator-doc-link:hover,\n",
       "div.sk-label-container:hover .sk-estimator-doc-link:hover,\n",
       ".sk-estimator-doc-link:hover {\n",
       "  /* unfitted */\n",
       "  background-color: var(--sklearn-color-unfitted-level-3);\n",
       "  color: var(--sklearn-color-background);\n",
       "  text-decoration: none;\n",
       "}\n",
       "\n",
       "div.sk-estimator.fitted:hover .sk-estimator-doc-link.fitted:hover,\n",
       ".sk-estimator-doc-link.fitted:hover,\n",
       "div.sk-label-container:hover .sk-estimator-doc-link.fitted:hover,\n",
       ".sk-estimator-doc-link.fitted:hover {\n",
       "  /* fitted */\n",
       "  background-color: var(--sklearn-color-fitted-level-3);\n",
       "  color: var(--sklearn-color-background);\n",
       "  text-decoration: none;\n",
       "}\n",
       "\n",
       "/* Span, style for the box shown on hovering the info icon */\n",
       ".sk-estimator-doc-link span {\n",
       "  display: none;\n",
       "  z-index: 9999;\n",
       "  position: relative;\n",
       "  font-weight: normal;\n",
       "  right: .2ex;\n",
       "  padding: .5ex;\n",
       "  margin: .5ex;\n",
       "  width: min-content;\n",
       "  min-width: 20ex;\n",
       "  max-width: 50ex;\n",
       "  color: var(--sklearn-color-text);\n",
       "  box-shadow: 2pt 2pt 4pt #999;\n",
       "  /* unfitted */\n",
       "  background: var(--sklearn-color-unfitted-level-0);\n",
       "  border: .5pt solid var(--sklearn-color-unfitted-level-3);\n",
       "}\n",
       "\n",
       ".sk-estimator-doc-link.fitted span {\n",
       "  /* fitted */\n",
       "  background: var(--sklearn-color-fitted-level-0);\n",
       "  border: var(--sklearn-color-fitted-level-3);\n",
       "}\n",
       "\n",
       ".sk-estimator-doc-link:hover span {\n",
       "  display: block;\n",
       "}\n",
       "\n",
       "/* \"?\"-specific style due to the `<a>` HTML tag */\n",
       "\n",
       "#sk-container-id-7 a.estimator_doc_link {\n",
       "  float: right;\n",
       "  font-size: 1rem;\n",
       "  line-height: 1em;\n",
       "  font-family: monospace;\n",
       "  background-color: var(--sklearn-color-background);\n",
       "  border-radius: 1rem;\n",
       "  height: 1rem;\n",
       "  width: 1rem;\n",
       "  text-decoration: none;\n",
       "  /* unfitted */\n",
       "  color: var(--sklearn-color-unfitted-level-1);\n",
       "  border: var(--sklearn-color-unfitted-level-1) 1pt solid;\n",
       "}\n",
       "\n",
       "#sk-container-id-7 a.estimator_doc_link.fitted {\n",
       "  /* fitted */\n",
       "  border: var(--sklearn-color-fitted-level-1) 1pt solid;\n",
       "  color: var(--sklearn-color-fitted-level-1);\n",
       "}\n",
       "\n",
       "/* On hover */\n",
       "#sk-container-id-7 a.estimator_doc_link:hover {\n",
       "  /* unfitted */\n",
       "  background-color: var(--sklearn-color-unfitted-level-3);\n",
       "  color: var(--sklearn-color-background);\n",
       "  text-decoration: none;\n",
       "}\n",
       "\n",
       "#sk-container-id-7 a.estimator_doc_link.fitted:hover {\n",
       "  /* fitted */\n",
       "  background-color: var(--sklearn-color-fitted-level-3);\n",
       "}\n",
       "</style><div id=\"sk-container-id-7\" class=\"sk-top-container\"><div class=\"sk-text-repr-fallback\"><pre>Pipeline(steps=[(&#x27;preprocessors&#x27;,\n",
       "                 ColumnTransformer(transformers=[(&#x27;num&#x27;,\n",
       "                                                  Pipeline(steps=[(&#x27;QuantReplace&#x27;,\n",
       "                                                                   QuantileReplacer(threshold=0.01)),\n",
       "                                                                  (&#x27;norm&#x27;,\n",
       "                                                                   MinMaxScaler())]),\n",
       "                                                  [&#x27;Age&#x27;, &#x27;Book_average_rating&#x27;,\n",
       "                                                   &#x27;Book_ratings_count&#x27;,\n",
       "                                                   &#x27;sale price&#x27;])])),\n",
       "                (&#x27;model&#x27;,\n",
       "                 TransformedTargetRegressor(regressor=SGDRegressor(random_state=42),\n",
       "                                            transformer=PowerTransformer()))])</pre><b>In a Jupyter environment, please rerun this cell to show the HTML representation or trust the notebook. <br />On GitHub, the HTML representation is unable to render, please try loading this page with nbviewer.org.</b></div><div class=\"sk-container\" hidden><div class=\"sk-item sk-dashed-wrapped\"><div class=\"sk-label-container\"><div class=\"sk-label fitted sk-toggleable\"><input class=\"sk-toggleable__control sk-hidden--visually\" id=\"sk-estimator-id-40\" type=\"checkbox\" ><label for=\"sk-estimator-id-40\" class=\"sk-toggleable__label fitted sk-toggleable__label-arrow fitted\">&nbsp;&nbsp;Pipeline<a class=\"sk-estimator-doc-link fitted\" rel=\"noreferrer\" target=\"_blank\" href=\"https://scikit-learn.org/1.4/modules/generated/sklearn.pipeline.Pipeline.html\">?<span>Documentation for Pipeline</span></a><span class=\"sk-estimator-doc-link fitted\">i<span>Fitted</span></span></label><div class=\"sk-toggleable__content fitted\"><pre>Pipeline(steps=[(&#x27;preprocessors&#x27;,\n",
       "                 ColumnTransformer(transformers=[(&#x27;num&#x27;,\n",
       "                                                  Pipeline(steps=[(&#x27;QuantReplace&#x27;,\n",
       "                                                                   QuantileReplacer(threshold=0.01)),\n",
       "                                                                  (&#x27;norm&#x27;,\n",
       "                                                                   MinMaxScaler())]),\n",
       "                                                  [&#x27;Age&#x27;, &#x27;Book_average_rating&#x27;,\n",
       "                                                   &#x27;Book_ratings_count&#x27;,\n",
       "                                                   &#x27;sale price&#x27;])])),\n",
       "                (&#x27;model&#x27;,\n",
       "                 TransformedTargetRegressor(regressor=SGDRegressor(random_state=42),\n",
       "                                            transformer=PowerTransformer()))])</pre></div> </div></div><div class=\"sk-serial\"><div class=\"sk-item sk-dashed-wrapped\"><div class=\"sk-label-container\"><div class=\"sk-label fitted sk-toggleable\"><input class=\"sk-toggleable__control sk-hidden--visually\" id=\"sk-estimator-id-41\" type=\"checkbox\" ><label for=\"sk-estimator-id-41\" class=\"sk-toggleable__label fitted sk-toggleable__label-arrow fitted\">&nbsp;preprocessors: ColumnTransformer<a class=\"sk-estimator-doc-link fitted\" rel=\"noreferrer\" target=\"_blank\" href=\"https://scikit-learn.org/1.4/modules/generated/sklearn.compose.ColumnTransformer.html\">?<span>Documentation for preprocessors: ColumnTransformer</span></a></label><div class=\"sk-toggleable__content fitted\"><pre>ColumnTransformer(transformers=[(&#x27;num&#x27;,\n",
       "                                 Pipeline(steps=[(&#x27;QuantReplace&#x27;,\n",
       "                                                  QuantileReplacer(threshold=0.01)),\n",
       "                                                 (&#x27;norm&#x27;, MinMaxScaler())]),\n",
       "                                 [&#x27;Age&#x27;, &#x27;Book_average_rating&#x27;,\n",
       "                                  &#x27;Book_ratings_count&#x27;, &#x27;sale price&#x27;])])</pre></div> </div></div><div class=\"sk-parallel\"><div class=\"sk-parallel-item\"><div class=\"sk-item\"><div class=\"sk-label-container\"><div class=\"sk-label fitted sk-toggleable\"><input class=\"sk-toggleable__control sk-hidden--visually\" id=\"sk-estimator-id-42\" type=\"checkbox\" ><label for=\"sk-estimator-id-42\" class=\"sk-toggleable__label fitted sk-toggleable__label-arrow fitted\">num</label><div class=\"sk-toggleable__content fitted\"><pre>[&#x27;Age&#x27;, &#x27;Book_average_rating&#x27;, &#x27;Book_ratings_count&#x27;, &#x27;sale price&#x27;]</pre></div> </div></div><div class=\"sk-serial\"><div class=\"sk-item\"><div class=\"sk-serial\"><div class=\"sk-item\"><div class=\"sk-estimator fitted sk-toggleable\"><input class=\"sk-toggleable__control sk-hidden--visually\" id=\"sk-estimator-id-43\" type=\"checkbox\" ><label for=\"sk-estimator-id-43\" class=\"sk-toggleable__label fitted sk-toggleable__label-arrow fitted\">QuantileReplacer</label><div class=\"sk-toggleable__content fitted\"><pre>QuantileReplacer(threshold=0.01)</pre></div> </div></div><div class=\"sk-item\"><div class=\"sk-estimator fitted sk-toggleable\"><input class=\"sk-toggleable__control sk-hidden--visually\" id=\"sk-estimator-id-44\" type=\"checkbox\" ><label for=\"sk-estimator-id-44\" class=\"sk-toggleable__label fitted sk-toggleable__label-arrow fitted\">&nbsp;MinMaxScaler<a class=\"sk-estimator-doc-link fitted\" rel=\"noreferrer\" target=\"_blank\" href=\"https://scikit-learn.org/1.4/modules/generated/sklearn.preprocessing.MinMaxScaler.html\">?<span>Documentation for MinMaxScaler</span></a></label><div class=\"sk-toggleable__content fitted\"><pre>MinMaxScaler()</pre></div> </div></div></div></div></div></div></div></div></div><div class=\"sk-item sk-dashed-wrapped\"><div class=\"sk-label-container\"><div class=\"sk-label fitted sk-toggleable\"><input class=\"sk-toggleable__control sk-hidden--visually\" id=\"sk-estimator-id-45\" type=\"checkbox\" ><label for=\"sk-estimator-id-45\" class=\"sk-toggleable__label fitted sk-toggleable__label-arrow fitted\">&nbsp;model: TransformedTargetRegressor<a class=\"sk-estimator-doc-link fitted\" rel=\"noreferrer\" target=\"_blank\" href=\"https://scikit-learn.org/1.4/modules/generated/sklearn.compose.TransformedTargetRegressor.html\">?<span>Documentation for model: TransformedTargetRegressor</span></a></label><div class=\"sk-toggleable__content fitted\"><pre>TransformedTargetRegressor(regressor=SGDRegressor(random_state=42),\n",
       "                           transformer=PowerTransformer())</pre></div> </div></div><div class=\"sk-parallel\"><div class=\"sk-parallel-item\"><div class=\"sk-item\"><div class=\"sk-label-container\"><div class=\"sk-label fitted sk-toggleable\"><input class=\"sk-toggleable__control sk-hidden--visually\" id=\"sk-estimator-id-46\" type=\"checkbox\" ><label for=\"sk-estimator-id-46\" class=\"sk-toggleable__label fitted sk-toggleable__label-arrow fitted\">regressor: SGDRegressor</label><div class=\"sk-toggleable__content fitted\"><pre>SGDRegressor(random_state=42)</pre></div> </div></div><div class=\"sk-serial\"><div class=\"sk-item\"><div class=\"sk-estimator fitted sk-toggleable\"><input class=\"sk-toggleable__control sk-hidden--visually\" id=\"sk-estimator-id-47\" type=\"checkbox\" ><label for=\"sk-estimator-id-47\" class=\"sk-toggleable__label fitted sk-toggleable__label-arrow fitted\">&nbsp;SGDRegressor<a class=\"sk-estimator-doc-link fitted\" rel=\"noreferrer\" target=\"_blank\" href=\"https://scikit-learn.org/1.4/modules/generated/sklearn.linear_model.SGDRegressor.html\">?<span>Documentation for SGDRegressor</span></a></label><div class=\"sk-toggleable__content fitted\"><pre>SGDRegressor(random_state=42)</pre></div> </div></div></div></div></div><div class=\"sk-parallel-item\"><div class=\"sk-item\"><div class=\"sk-label-container\"><div class=\"sk-label fitted sk-toggleable\"><input class=\"sk-toggleable__control sk-hidden--visually\" id=\"sk-estimator-id-48\" type=\"checkbox\" ><label for=\"sk-estimator-id-48\" class=\"sk-toggleable__label fitted sk-toggleable__label-arrow fitted\">transformer: PowerTransformer</label><div class=\"sk-toggleable__content fitted\"><pre>PowerTransformer()</pre></div> </div></div><div class=\"sk-serial\"><div class=\"sk-item\"><div class=\"sk-estimator fitted sk-toggleable\"><input class=\"sk-toggleable__control sk-hidden--visually\" id=\"sk-estimator-id-49\" type=\"checkbox\" ><label for=\"sk-estimator-id-49\" class=\"sk-toggleable__label fitted sk-toggleable__label-arrow fitted\">&nbsp;PowerTransformer<a class=\"sk-estimator-doc-link fitted\" rel=\"noreferrer\" target=\"_blank\" href=\"https://scikit-learn.org/1.4/modules/generated/sklearn.preprocessing.PowerTransformer.html\">?<span>Documentation for PowerTransformer</span></a></label><div class=\"sk-toggleable__content fitted\"><pre>PowerTransformer()</pre></div> </div></div></div></div></div></div></div></div></div></div></div>"
      ],
      "text/plain": [
       "Pipeline(steps=[('preprocessors',\n",
       "                 ColumnTransformer(transformers=[('num',\n",
       "                                                  Pipeline(steps=[('QuantReplace',\n",
       "                                                                   QuantileReplacer(threshold=0.01)),\n",
       "                                                                  ('norm',\n",
       "                                                                   MinMaxScaler())]),\n",
       "                                                  ['Age', 'Book_average_rating',\n",
       "                                                   'Book_ratings_count',\n",
       "                                                   'sale price'])])),\n",
       "                ('model',\n",
       "                 TransformedTargetRegressor(regressor=SGDRegressor(random_state=42),\n",
       "                                            transformer=PowerTransformer()))])"
      ]
     },
     "execution_count": 97,
     "metadata": {},
     "output_type": "execute_result"
    }
   ],
   "source": [
    "pipe_num_transform.fit(X_train, y_train)"
   ]
  },
  {
   "cell_type": "code",
   "execution_count": 98,
   "id": "11020f88",
   "metadata": {},
   "outputs": [
    {
     "name": "stdout",
     "output_type": "stream",
     "text": [
      "Решение\n",
      "-1.149+0.01*Age-0.31*Book_average_rating+1.90*Book_ratings_count+2.10*sale price\n"
     ]
    }
   ],
   "source": [
    "B0, B = get_coefs(pipe_num_transform['model'].regressor_)\n",
    "features_names = list(columns_num)\n",
    "\n",
    "print_model (B0,B,features_names)"
   ]
  },
  {
   "cell_type": "code",
   "execution_count": 99,
   "id": "b16baca6",
   "metadata": {},
   "outputs": [
    {
     "data": {
      "application/vnd.plotly.v1+json": {
       "config": {
        "plotlyServerURL": "https://plot.ly"
       },
       "data": [
        {
         "marker": {
          "color": "red"
         },
         "name": "отрицательные веса",
         "type": "bar",
         "x": [
          0,
          2
         ],
         "y": [
          -1.1490922833508348,
          -0.31034932953040767
         ]
        },
        {
         "marker": {
          "color": "blue"
         },
         "name": "положительные веса",
         "type": "bar",
         "x": [
          1,
          3,
          4
         ],
         "y": [
          0.01290631159281311,
          1.903119950333968,
          2.0954232360770257
         ]
        }
       ],
       "layout": {
        "height": 600,
        "template": {
         "data": {
          "bar": [
           {
            "error_x": {
             "color": "#f2f5fa"
            },
            "error_y": {
             "color": "#f2f5fa"
            },
            "marker": {
             "line": {
              "color": "rgb(17,17,17)",
              "width": 0.5
             },
             "pattern": {
              "fillmode": "overlay",
              "size": 10,
              "solidity": 0.2
             }
            },
            "type": "bar"
           }
          ],
          "barpolar": [
           {
            "marker": {
             "line": {
              "color": "rgb(17,17,17)",
              "width": 0.5
             },
             "pattern": {
              "fillmode": "overlay",
              "size": 10,
              "solidity": 0.2
             }
            },
            "type": "barpolar"
           }
          ],
          "carpet": [
           {
            "aaxis": {
             "endlinecolor": "#A2B1C6",
             "gridcolor": "#506784",
             "linecolor": "#506784",
             "minorgridcolor": "#506784",
             "startlinecolor": "#A2B1C6"
            },
            "baxis": {
             "endlinecolor": "#A2B1C6",
             "gridcolor": "#506784",
             "linecolor": "#506784",
             "minorgridcolor": "#506784",
             "startlinecolor": "#A2B1C6"
            },
            "type": "carpet"
           }
          ],
          "choropleth": [
           {
            "colorbar": {
             "outlinewidth": 0,
             "ticks": ""
            },
            "type": "choropleth"
           }
          ],
          "contour": [
           {
            "colorbar": {
             "outlinewidth": 0,
             "ticks": ""
            },
            "colorscale": [
             [
              0,
              "#0d0887"
             ],
             [
              0.1111111111111111,
              "#46039f"
             ],
             [
              0.2222222222222222,
              "#7201a8"
             ],
             [
              0.3333333333333333,
              "#9c179e"
             ],
             [
              0.4444444444444444,
              "#bd3786"
             ],
             [
              0.5555555555555556,
              "#d8576b"
             ],
             [
              0.6666666666666666,
              "#ed7953"
             ],
             [
              0.7777777777777778,
              "#fb9f3a"
             ],
             [
              0.8888888888888888,
              "#fdca26"
             ],
             [
              1,
              "#f0f921"
             ]
            ],
            "type": "contour"
           }
          ],
          "contourcarpet": [
           {
            "colorbar": {
             "outlinewidth": 0,
             "ticks": ""
            },
            "type": "contourcarpet"
           }
          ],
          "heatmap": [
           {
            "colorbar": {
             "outlinewidth": 0,
             "ticks": ""
            },
            "colorscale": [
             [
              0,
              "#0d0887"
             ],
             [
              0.1111111111111111,
              "#46039f"
             ],
             [
              0.2222222222222222,
              "#7201a8"
             ],
             [
              0.3333333333333333,
              "#9c179e"
             ],
             [
              0.4444444444444444,
              "#bd3786"
             ],
             [
              0.5555555555555556,
              "#d8576b"
             ],
             [
              0.6666666666666666,
              "#ed7953"
             ],
             [
              0.7777777777777778,
              "#fb9f3a"
             ],
             [
              0.8888888888888888,
              "#fdca26"
             ],
             [
              1,
              "#f0f921"
             ]
            ],
            "type": "heatmap"
           }
          ],
          "heatmapgl": [
           {
            "colorbar": {
             "outlinewidth": 0,
             "ticks": ""
            },
            "colorscale": [
             [
              0,
              "#0d0887"
             ],
             [
              0.1111111111111111,
              "#46039f"
             ],
             [
              0.2222222222222222,
              "#7201a8"
             ],
             [
              0.3333333333333333,
              "#9c179e"
             ],
             [
              0.4444444444444444,
              "#bd3786"
             ],
             [
              0.5555555555555556,
              "#d8576b"
             ],
             [
              0.6666666666666666,
              "#ed7953"
             ],
             [
              0.7777777777777778,
              "#fb9f3a"
             ],
             [
              0.8888888888888888,
              "#fdca26"
             ],
             [
              1,
              "#f0f921"
             ]
            ],
            "type": "heatmapgl"
           }
          ],
          "histogram": [
           {
            "marker": {
             "pattern": {
              "fillmode": "overlay",
              "size": 10,
              "solidity": 0.2
             }
            },
            "type": "histogram"
           }
          ],
          "histogram2d": [
           {
            "colorbar": {
             "outlinewidth": 0,
             "ticks": ""
            },
            "colorscale": [
             [
              0,
              "#0d0887"
             ],
             [
              0.1111111111111111,
              "#46039f"
             ],
             [
              0.2222222222222222,
              "#7201a8"
             ],
             [
              0.3333333333333333,
              "#9c179e"
             ],
             [
              0.4444444444444444,
              "#bd3786"
             ],
             [
              0.5555555555555556,
              "#d8576b"
             ],
             [
              0.6666666666666666,
              "#ed7953"
             ],
             [
              0.7777777777777778,
              "#fb9f3a"
             ],
             [
              0.8888888888888888,
              "#fdca26"
             ],
             [
              1,
              "#f0f921"
             ]
            ],
            "type": "histogram2d"
           }
          ],
          "histogram2dcontour": [
           {
            "colorbar": {
             "outlinewidth": 0,
             "ticks": ""
            },
            "colorscale": [
             [
              0,
              "#0d0887"
             ],
             [
              0.1111111111111111,
              "#46039f"
             ],
             [
              0.2222222222222222,
              "#7201a8"
             ],
             [
              0.3333333333333333,
              "#9c179e"
             ],
             [
              0.4444444444444444,
              "#bd3786"
             ],
             [
              0.5555555555555556,
              "#d8576b"
             ],
             [
              0.6666666666666666,
              "#ed7953"
             ],
             [
              0.7777777777777778,
              "#fb9f3a"
             ],
             [
              0.8888888888888888,
              "#fdca26"
             ],
             [
              1,
              "#f0f921"
             ]
            ],
            "type": "histogram2dcontour"
           }
          ],
          "mesh3d": [
           {
            "colorbar": {
             "outlinewidth": 0,
             "ticks": ""
            },
            "type": "mesh3d"
           }
          ],
          "parcoords": [
           {
            "line": {
             "colorbar": {
              "outlinewidth": 0,
              "ticks": ""
             }
            },
            "type": "parcoords"
           }
          ],
          "pie": [
           {
            "automargin": true,
            "type": "pie"
           }
          ],
          "scatter": [
           {
            "marker": {
             "line": {
              "color": "#283442"
             }
            },
            "type": "scatter"
           }
          ],
          "scatter3d": [
           {
            "line": {
             "colorbar": {
              "outlinewidth": 0,
              "ticks": ""
             }
            },
            "marker": {
             "colorbar": {
              "outlinewidth": 0,
              "ticks": ""
             }
            },
            "type": "scatter3d"
           }
          ],
          "scattercarpet": [
           {
            "marker": {
             "colorbar": {
              "outlinewidth": 0,
              "ticks": ""
             }
            },
            "type": "scattercarpet"
           }
          ],
          "scattergeo": [
           {
            "marker": {
             "colorbar": {
              "outlinewidth": 0,
              "ticks": ""
             }
            },
            "type": "scattergeo"
           }
          ],
          "scattergl": [
           {
            "marker": {
             "line": {
              "color": "#283442"
             }
            },
            "type": "scattergl"
           }
          ],
          "scattermapbox": [
           {
            "marker": {
             "colorbar": {
              "outlinewidth": 0,
              "ticks": ""
             }
            },
            "type": "scattermapbox"
           }
          ],
          "scatterpolar": [
           {
            "marker": {
             "colorbar": {
              "outlinewidth": 0,
              "ticks": ""
             }
            },
            "type": "scatterpolar"
           }
          ],
          "scatterpolargl": [
           {
            "marker": {
             "colorbar": {
              "outlinewidth": 0,
              "ticks": ""
             }
            },
            "type": "scatterpolargl"
           }
          ],
          "scatterternary": [
           {
            "marker": {
             "colorbar": {
              "outlinewidth": 0,
              "ticks": ""
             }
            },
            "type": "scatterternary"
           }
          ],
          "surface": [
           {
            "colorbar": {
             "outlinewidth": 0,
             "ticks": ""
            },
            "colorscale": [
             [
              0,
              "#0d0887"
             ],
             [
              0.1111111111111111,
              "#46039f"
             ],
             [
              0.2222222222222222,
              "#7201a8"
             ],
             [
              0.3333333333333333,
              "#9c179e"
             ],
             [
              0.4444444444444444,
              "#bd3786"
             ],
             [
              0.5555555555555556,
              "#d8576b"
             ],
             [
              0.6666666666666666,
              "#ed7953"
             ],
             [
              0.7777777777777778,
              "#fb9f3a"
             ],
             [
              0.8888888888888888,
              "#fdca26"
             ],
             [
              1,
              "#f0f921"
             ]
            ],
            "type": "surface"
           }
          ],
          "table": [
           {
            "cells": {
             "fill": {
              "color": "#506784"
             },
             "line": {
              "color": "rgb(17,17,17)"
             }
            },
            "header": {
             "fill": {
              "color": "#2a3f5f"
             },
             "line": {
              "color": "rgb(17,17,17)"
             }
            },
            "type": "table"
           }
          ]
         },
         "layout": {
          "annotationdefaults": {
           "arrowcolor": "#f2f5fa",
           "arrowhead": 0,
           "arrowwidth": 1
          },
          "autotypenumbers": "strict",
          "coloraxis": {
           "colorbar": {
            "outlinewidth": 0,
            "ticks": ""
           }
          },
          "colorscale": {
           "diverging": [
            [
             0,
             "#8e0152"
            ],
            [
             0.1,
             "#c51b7d"
            ],
            [
             0.2,
             "#de77ae"
            ],
            [
             0.3,
             "#f1b6da"
            ],
            [
             0.4,
             "#fde0ef"
            ],
            [
             0.5,
             "#f7f7f7"
            ],
            [
             0.6,
             "#e6f5d0"
            ],
            [
             0.7,
             "#b8e186"
            ],
            [
             0.8,
             "#7fbc41"
            ],
            [
             0.9,
             "#4d9221"
            ],
            [
             1,
             "#276419"
            ]
           ],
           "sequential": [
            [
             0,
             "#0d0887"
            ],
            [
             0.1111111111111111,
             "#46039f"
            ],
            [
             0.2222222222222222,
             "#7201a8"
            ],
            [
             0.3333333333333333,
             "#9c179e"
            ],
            [
             0.4444444444444444,
             "#bd3786"
            ],
            [
             0.5555555555555556,
             "#d8576b"
            ],
            [
             0.6666666666666666,
             "#ed7953"
            ],
            [
             0.7777777777777778,
             "#fb9f3a"
            ],
            [
             0.8888888888888888,
             "#fdca26"
            ],
            [
             1,
             "#f0f921"
            ]
           ],
           "sequentialminus": [
            [
             0,
             "#0d0887"
            ],
            [
             0.1111111111111111,
             "#46039f"
            ],
            [
             0.2222222222222222,
             "#7201a8"
            ],
            [
             0.3333333333333333,
             "#9c179e"
            ],
            [
             0.4444444444444444,
             "#bd3786"
            ],
            [
             0.5555555555555556,
             "#d8576b"
            ],
            [
             0.6666666666666666,
             "#ed7953"
            ],
            [
             0.7777777777777778,
             "#fb9f3a"
            ],
            [
             0.8888888888888888,
             "#fdca26"
            ],
            [
             1,
             "#f0f921"
            ]
           ]
          },
          "colorway": [
           "#636efa",
           "#EF553B",
           "#00cc96",
           "#ab63fa",
           "#FFA15A",
           "#19d3f3",
           "#FF6692",
           "#B6E880",
           "#FF97FF",
           "#FECB52"
          ],
          "font": {
           "color": "#f2f5fa"
          },
          "geo": {
           "bgcolor": "rgb(17,17,17)",
           "lakecolor": "rgb(17,17,17)",
           "landcolor": "rgb(17,17,17)",
           "showlakes": true,
           "showland": true,
           "subunitcolor": "#506784"
          },
          "hoverlabel": {
           "align": "left"
          },
          "hovermode": "closest",
          "mapbox": {
           "style": "dark"
          },
          "paper_bgcolor": "rgb(17,17,17)",
          "plot_bgcolor": "rgb(17,17,17)",
          "polar": {
           "angularaxis": {
            "gridcolor": "#506784",
            "linecolor": "#506784",
            "ticks": ""
           },
           "bgcolor": "rgb(17,17,17)",
           "radialaxis": {
            "gridcolor": "#506784",
            "linecolor": "#506784",
            "ticks": ""
           }
          },
          "scene": {
           "xaxis": {
            "backgroundcolor": "rgb(17,17,17)",
            "gridcolor": "#506784",
            "gridwidth": 2,
            "linecolor": "#506784",
            "showbackground": true,
            "ticks": "",
            "zerolinecolor": "#C8D4E3"
           },
           "yaxis": {
            "backgroundcolor": "rgb(17,17,17)",
            "gridcolor": "#506784",
            "gridwidth": 2,
            "linecolor": "#506784",
            "showbackground": true,
            "ticks": "",
            "zerolinecolor": "#C8D4E3"
           },
           "zaxis": {
            "backgroundcolor": "rgb(17,17,17)",
            "gridcolor": "#506784",
            "gridwidth": 2,
            "linecolor": "#506784",
            "showbackground": true,
            "ticks": "",
            "zerolinecolor": "#C8D4E3"
           }
          },
          "shapedefaults": {
           "line": {
            "color": "#f2f5fa"
           }
          },
          "sliderdefaults": {
           "bgcolor": "#C8D4E3",
           "bordercolor": "rgb(17,17,17)",
           "borderwidth": 1,
           "tickwidth": 0
          },
          "ternary": {
           "aaxis": {
            "gridcolor": "#506784",
            "linecolor": "#506784",
            "ticks": ""
           },
           "baxis": {
            "gridcolor": "#506784",
            "linecolor": "#506784",
            "ticks": ""
           },
           "bgcolor": "rgb(17,17,17)",
           "caxis": {
            "gridcolor": "#506784",
            "linecolor": "#506784",
            "ticks": ""
           }
          },
          "title": {
           "x": 0.05
          },
          "updatemenudefaults": {
           "bgcolor": "#506784",
           "borderwidth": 0
          },
          "xaxis": {
           "automargin": true,
           "gridcolor": "#283442",
           "linecolor": "#506784",
           "ticks": "",
           "title": {
            "standoff": 15
           },
           "zerolinecolor": "#283442",
           "zerolinewidth": 2
          },
          "yaxis": {
           "automargin": true,
           "gridcolor": "#283442",
           "linecolor": "#506784",
           "ticks": "",
           "title": {
            "standoff": 15
           },
           "zerolinecolor": "#283442",
           "zerolinewidth": 2
          }
         }
        },
        "title": {
         "text": "Веса модели"
        },
        "width": 1200,
        "xaxis": {
         "tickmode": "array",
         "ticktext": [
          "B0",
          "Age",
          "Book_average_rating",
          "Book_ratings_count",
          "sale price"
         ],
         "tickvals": [
          0,
          1,
          2,
          3,
          4
         ]
        }
       }
      }
     },
     "metadata": {},
     "output_type": "display_data"
    }
   ],
   "source": [
    "Bs = np.hstack([B0,B])\n",
    "vis_weigths(Bs,features_names)"
   ]
  },
  {
   "cell_type": "markdown",
   "id": "e8c7477b",
   "metadata": {},
   "source": [
    "Смещение (член нулевого порядка) стал отрицательным и сильно уменьшился по модулю, влияние RAM уступило влиянию Storage, остальные соотношения без критичных изменений."
   ]
  },
  {
   "cell_type": "code",
   "execution_count": 100,
   "id": "93f02705",
   "metadata": {},
   "outputs": [
    {
     "name": "stdout",
     "output_type": "stream",
     "text": [
      "Ошибка на кросс-валидации\n"
     ]
    },
    {
     "data": {
      "text/html": [
       "<div>\n",
       "<style scoped>\n",
       "    .dataframe tbody tr th:only-of-type {\n",
       "        vertical-align: middle;\n",
       "    }\n",
       "\n",
       "    .dataframe tbody tr th {\n",
       "        vertical-align: top;\n",
       "    }\n",
       "\n",
       "    .dataframe thead th {\n",
       "        text-align: right;\n",
       "    }\n",
       "</style>\n",
       "<table border=\"1\" class=\"dataframe\">\n",
       "  <thead>\n",
       "    <tr style=\"text-align: right;\">\n",
       "      <th></th>\n",
       "      <th>fit_time</th>\n",
       "      <th>score_time</th>\n",
       "      <th>test_R2</th>\n",
       "      <th>test_-MSE</th>\n",
       "      <th>test_-MAE</th>\n",
       "      <th>test_-Max</th>\n",
       "    </tr>\n",
       "  </thead>\n",
       "  <tbody>\n",
       "    <tr>\n",
       "      <th>0</th>\n",
       "      <td>0.014996</td>\n",
       "      <td>0.005002</td>\n",
       "      <td>0.101709</td>\n",
       "      <td>-2.718479e+07</td>\n",
       "      <td>-1770.937093</td>\n",
       "      <td>-31882.589077</td>\n",
       "    </tr>\n",
       "    <tr>\n",
       "      <th>1</th>\n",
       "      <td>0.014000</td>\n",
       "      <td>0.003998</td>\n",
       "      <td>0.323777</td>\n",
       "      <td>-1.532566e+06</td>\n",
       "      <td>-629.301424</td>\n",
       "      <td>-5292.333180</td>\n",
       "    </tr>\n",
       "    <tr>\n",
       "      <th>2</th>\n",
       "      <td>0.013001</td>\n",
       "      <td>0.003999</td>\n",
       "      <td>0.588483</td>\n",
       "      <td>-2.893555e+06</td>\n",
       "      <td>-639.412858</td>\n",
       "      <td>-10052.786271</td>\n",
       "    </tr>\n",
       "    <tr>\n",
       "      <th>3</th>\n",
       "      <td>0.013000</td>\n",
       "      <td>0.004000</td>\n",
       "      <td>0.389712</td>\n",
       "      <td>-1.583643e+06</td>\n",
       "      <td>-560.428726</td>\n",
       "      <td>-5743.891418</td>\n",
       "    </tr>\n",
       "    <tr>\n",
       "      <th>4</th>\n",
       "      <td>0.012999</td>\n",
       "      <td>0.005000</td>\n",
       "      <td>0.179885</td>\n",
       "      <td>-1.176095e+07</td>\n",
       "      <td>-1357.618317</td>\n",
       "      <td>-18414.032786</td>\n",
       "    </tr>\n",
       "  </tbody>\n",
       "</table>\n",
       "</div>"
      ],
      "text/plain": [
       "   fit_time  score_time   test_R2     test_-MSE    test_-MAE     test_-Max\n",
       "0  0.014996    0.005002  0.101709 -2.718479e+07 -1770.937093 -31882.589077\n",
       "1  0.014000    0.003998  0.323777 -1.532566e+06  -629.301424  -5292.333180\n",
       "2  0.013001    0.003999  0.588483 -2.893555e+06  -639.412858 -10052.786271\n",
       "3  0.013000    0.004000  0.389712 -1.583643e+06  -560.428726  -5743.891418\n",
       "4  0.012999    0.005000  0.179885 -1.176095e+07 -1357.618317 -18414.032786"
      ]
     },
     "metadata": {},
     "output_type": "display_data"
    },
    {
     "name": "stdout",
     "output_type": "stream",
     "text": [
      "\n",
      "\n",
      "test_R2      3.167132e-01\n",
      "test_-MSE   -8.991100e+06\n",
      "test_-MAE   -9.915397e+02\n",
      "test_-Max   -1.427713e+04\n",
      "dtype: float64\n"
     ]
    }
   ],
   "source": [
    "cross_validation (X_train, y_train,\n",
    "                  pipe_num_transform,\n",
    "                  scoring_reg,\n",
    "                  ShuffleSplit(n_splits=5, random_state = 42))"
   ]
  },
  {
   "cell_type": "code",
   "execution_count": 101,
   "id": "d0f15443",
   "metadata": {},
   "outputs": [
    {
     "data": {
      "image/png": "[encoded data removed]",
      "text/plain": [
       "<Figure size 640x480 with 1 Axes>"
      ]
     },
     "metadata": {},
     "output_type": "display_data"
    }
   ],
   "source": [
    "PredictionErrorDisplay.from_predictions(\n",
    "    y_val,\n",
    "    pipe_num_transform.predict(X_val),\n",
    "    kind=\"actual_vs_predicted\",\n",
    "    scatter_kwargs={\"alpha\": 0.5},\n",
    ");"
   ]
  },
  {
   "cell_type": "markdown",
   "id": "8c7afce7",
   "metadata": {},
   "source": [
    "Небольшие выводы по модели:\n",
    "\n",
    "* Предварительная обработка целевой переменной в данном случае не улучшает результаты линейной модели (метрика r2 на кроссвалидации 0.47 против 0.58)\n",
    "\n",
    "* В целом предварительная обработка целевой переменной сделала хуже предсказание высоких значений цен\n",
    "\n",
    "* В области низких цен кластеризация несколько уменьшилась, но не ушла полностью (косвенно подтверждает гипотезу о влиянии ограниченного набора значений числовых признаков)\n",
    "\n"
   ]
  },
  {
   "cell_type": "markdown",
   "id": "6611eea8",
   "metadata": {},
   "source": [
    "# Оценим влияние категориальных признаков"
   ]
  },
  {
   "cell_type": "code",
   "execution_count": 102,
   "id": "9a187f92",
   "metadata": {},
   "outputs": [],
   "source": [
    "pipe_all_transform = Pipeline([\n",
    "    ('preprocessors', preprocessors_All),\n",
    "    ('model', TransformedTargetRegressor( regressor=SGDRegressor(random_state = 42),\n",
    "    transformer=PowerTransformer())\n",
    "    )\n",
    "])"
   ]
  },
  {
   "cell_type": "code",
   "execution_count": 103,
   "id": "e5757eb5",
   "metadata": {},
   "outputs": [
    {
     "data": {
      "text/html": [
       "<style>#sk-container-id-8 {\n",
       "  /* Definition of color scheme common for light and dark mode */\n",
       "  --sklearn-color-text: black;\n",
       "  --sklearn-color-line: gray;\n",
       "  /* Definition of color scheme for unfitted estimators */\n",
       "  --sklearn-color-unfitted-level-0: #fff5e6;\n",
       "  --sklearn-color-unfitted-level-1: #f6e4d2;\n",
       "  --sklearn-color-unfitted-level-2: #ffe0b3;\n",
       "  --sklearn-color-unfitted-level-3: chocolate;\n",
       "  /* Definition of color scheme for fitted estimators */\n",
       "  --sklearn-color-fitted-level-0: #f0f8ff;\n",
       "  --sklearn-color-fitted-level-1: #d4ebff;\n",
       "  --sklearn-color-fitted-level-2: #b3dbfd;\n",
       "  --sklearn-color-fitted-level-3: cornflowerblue;\n",
       "\n",
       "  /* Specific color for light theme */\n",
       "  --sklearn-color-text-on-default-background: var(--sg-text-color, var(--theme-code-foreground, var(--jp-content-font-color1, black)));\n",
       "  --sklearn-color-background: var(--sg-background-color, var(--theme-background, var(--jp-layout-color0, white)));\n",
       "  --sklearn-color-border-box: var(--sg-text-color, var(--theme-code-foreground, var(--jp-content-font-color1, black)));\n",
       "  --sklearn-color-icon: #696969;\n",
       "\n",
       "  @media (prefers-color-scheme: dark) {\n",
       "    /* Redefinition of color scheme for dark theme */\n",
       "    --sklearn-color-text-on-default-background: var(--sg-text-color, var(--theme-code-foreground, var(--jp-content-font-color1, white)));\n",
       "    --sklearn-color-background: var(--sg-background-color, var(--theme-background, var(--jp-layout-color0, #111)));\n",
       "    --sklearn-color-border-box: var(--sg-text-color, var(--theme-code-foreground, var(--jp-content-font-color1, white)));\n",
       "    --sklearn-color-icon: #878787;\n",
       "  }\n",
       "}\n",
       "\n",
       "#sk-container-id-8 {\n",
       "  color: var(--sklearn-color-text);\n",
       "}\n",
       "\n",
       "#sk-container-id-8 pre {\n",
       "  padding: 0;\n",
       "}\n",
       "\n",
       "#sk-container-id-8 input.sk-hidden--visually {\n",
       "  border: 0;\n",
       "  clip: rect(1px 1px 1px 1px);\n",
       "  clip: rect(1px, 1px, 1px, 1px);\n",
       "  height: 1px;\n",
       "  margin: -1px;\n",
       "  overflow: hidden;\n",
       "  padding: 0;\n",
       "  position: absolute;\n",
       "  width: 1px;\n",
       "}\n",
       "\n",
       "#sk-container-id-8 div.sk-dashed-wrapped {\n",
       "  border: 1px dashed var(--sklearn-color-line);\n",
       "  margin: 0 0.4em 0.5em 0.4em;\n",
       "  box-sizing: border-box;\n",
       "  padding-bottom: 0.4em;\n",
       "  background-color: var(--sklearn-color-background);\n",
       "}\n",
       "\n",
       "#sk-container-id-8 div.sk-container {\n",
       "  /* jupyter's `normalize.less` sets `[hidden] { display: none; }`\n",
       "     but bootstrap.min.css set `[hidden] { display: none !important; }`\n",
       "     so we also need the `!important` here to be able to override the\n",
       "     default hidden behavior on the sphinx rendered scikit-learn.org.\n",
       "     See: https://github.com/scikit-learn/scikit-learn/issues/21755 */\n",
       "  display: inline-block !important;\n",
       "  position: relative;\n",
       "}\n",
       "\n",
       "#sk-container-id-8 div.sk-text-repr-fallback {\n",
       "  display: none;\n",
       "}\n",
       "\n",
       "div.sk-parallel-item,\n",
       "div.sk-serial,\n",
       "div.sk-item {\n",
       "  /* draw centered vertical line to link estimators */\n",
       "  background-image: linear-gradient(var(--sklearn-color-text-on-default-background), var(--sklearn-color-text-on-default-background));\n",
       "  background-size: 2px 100%;\n",
       "  background-repeat: no-repeat;\n",
       "  background-position: center center;\n",
       "}\n",
       "\n",
       "/* Parallel-specific style estimator block */\n",
       "\n",
       "#sk-container-id-8 div.sk-parallel-item::after {\n",
       "  content: \"\";\n",
       "  width: 100%;\n",
       "  border-bottom: 2px solid var(--sklearn-color-text-on-default-background);\n",
       "  flex-grow: 1;\n",
       "}\n",
       "\n",
       "#sk-container-id-8 div.sk-parallel {\n",
       "  display: flex;\n",
       "  align-items: stretch;\n",
       "  justify-content: center;\n",
       "  background-color: var(--sklearn-color-background);\n",
       "  position: relative;\n",
       "}\n",
       "\n",
       "#sk-container-id-8 div.sk-parallel-item {\n",
       "  display: flex;\n",
       "  flex-direction: column;\n",
       "}\n",
       "\n",
       "#sk-container-id-8 div.sk-parallel-item:first-child::after {\n",
       "  align-self: flex-end;\n",
       "  width: 50%;\n",
       "}\n",
       "\n",
       "#sk-container-id-8 div.sk-parallel-item:last-child::after {\n",
       "  align-self: flex-start;\n",
       "  width: 50%;\n",
       "}\n",
       "\n",
       "#sk-container-id-8 div.sk-parallel-item:only-child::after {\n",
       "  width: 0;\n",
       "}\n",
       "\n",
       "/* Serial-specific style estimator block */\n",
       "\n",
       "#sk-container-id-8 div.sk-serial {\n",
       "  display: flex;\n",
       "  flex-direction: column;\n",
       "  align-items: center;\n",
       "  background-color: var(--sklearn-color-background);\n",
       "  padding-right: 1em;\n",
       "  padding-left: 1em;\n",
       "}\n",
       "\n",
       "\n",
       "/* Toggleable style: style used for estimator/Pipeline/ColumnTransformer box that is\n",
       "clickable and can be expanded/collapsed.\n",
       "- Pipeline and ColumnTransformer use this feature and define the default style\n",
       "- Estimators will overwrite some part of the style using the `sk-estimator` class\n",
       "*/\n",
       "\n",
       "/* Pipeline and ColumnTransformer style (default) */\n",
       "\n",
       "#sk-container-id-8 div.sk-toggleable {\n",
       "  /* Default theme specific background. It is overwritten whether we have a\n",
       "  specific estimator or a Pipeline/ColumnTransformer */\n",
       "  background-color: var(--sklearn-color-background);\n",
       "}\n",
       "\n",
       "/* Toggleable label */\n",
       "#sk-container-id-8 label.sk-toggleable__label {\n",
       "  cursor: pointer;\n",
       "  display: block;\n",
       "  width: 100%;\n",
       "  margin-bottom: 0;\n",
       "  padding: 0.5em;\n",
       "  box-sizing: border-box;\n",
       "  text-align: center;\n",
       "}\n",
       "\n",
       "#sk-container-id-8 label.sk-toggleable__label-arrow:before {\n",
       "  /* Arrow on the left of the label */\n",
       "  content: \"▸\";\n",
       "  float: left;\n",
       "  margin-right: 0.25em;\n",
       "  color: var(--sklearn-color-icon);\n",
       "}\n",
       "\n",
       "#sk-container-id-8 label.sk-toggleable__label-arrow:hover:before {\n",
       "  color: var(--sklearn-color-text);\n",
       "}\n",
       "\n",
       "/* Toggleable content - dropdown */\n",
       "\n",
       "#sk-container-id-8 div.sk-toggleable__content {\n",
       "  max-height: 0;\n",
       "  max-width: 0;\n",
       "  overflow: hidden;\n",
       "  text-align: left;\n",
       "  /* unfitted */\n",
       "  background-color: var(--sklearn-color-unfitted-level-0);\n",
       "}\n",
       "\n",
       "#sk-container-id-8 div.sk-toggleable__content.fitted {\n",
       "  /* fitted */\n",
       "  background-color: var(--sklearn-color-fitted-level-0);\n",
       "}\n",
       "\n",
       "#sk-container-id-8 div.sk-toggleable__content pre {\n",
       "  margin: 0.2em;\n",
       "  border-radius: 0.25em;\n",
       "  color: var(--sklearn-color-text);\n",
       "  /* unfitted */\n",
       "  background-color: var(--sklearn-color-unfitted-level-0);\n",
       "}\n",
       "\n",
       "#sk-container-id-8 div.sk-toggleable__content.fitted pre {\n",
       "  /* unfitted */\n",
       "  background-color: var(--sklearn-color-fitted-level-0);\n",
       "}\n",
       "\n",
       "#sk-container-id-8 input.sk-toggleable__control:checked~div.sk-toggleable__content {\n",
       "  /* Expand drop-down */\n",
       "  max-height: 200px;\n",
       "  max-width: 100%;\n",
       "  overflow: auto;\n",
       "}\n",
       "\n",
       "#sk-container-id-8 input.sk-toggleable__control:checked~label.sk-toggleable__label-arrow:before {\n",
       "  content: \"▾\";\n",
       "}\n",
       "\n",
       "/* Pipeline/ColumnTransformer-specific style */\n",
       "\n",
       "#sk-container-id-8 div.sk-label input.sk-toggleable__control:checked~label.sk-toggleable__label {\n",
       "  color: var(--sklearn-color-text);\n",
       "  background-color: var(--sklearn-color-unfitted-level-2);\n",
       "}\n",
       "\n",
       "#sk-container-id-8 div.sk-label.fitted input.sk-toggleable__control:checked~label.sk-toggleable__label {\n",
       "  background-color: var(--sklearn-color-fitted-level-2);\n",
       "}\n",
       "\n",
       "/* Estimator-specific style */\n",
       "\n",
       "/* Colorize estimator box */\n",
       "#sk-container-id-8 div.sk-estimator input.sk-toggleable__control:checked~label.sk-toggleable__label {\n",
       "  /* unfitted */\n",
       "  background-color: var(--sklearn-color-unfitted-level-2);\n",
       "}\n",
       "\n",
       "#sk-container-id-8 div.sk-estimator.fitted input.sk-toggleable__control:checked~label.sk-toggleable__label {\n",
       "  /* fitted */\n",
       "  background-color: var(--sklearn-color-fitted-level-2);\n",
       "}\n",
       "\n",
       "#sk-container-id-8 div.sk-label label.sk-toggleable__label,\n",
       "#sk-container-id-8 div.sk-label label {\n",
       "  /* The background is the default theme color */\n",
       "  color: var(--sklearn-color-text-on-default-background);\n",
       "}\n",
       "\n",
       "/* On hover, darken the color of the background */\n",
       "#sk-container-id-8 div.sk-label:hover label.sk-toggleable__label {\n",
       "  color: var(--sklearn-color-text);\n",
       "  background-color: var(--sklearn-color-unfitted-level-2);\n",
       "}\n",
       "\n",
       "/* Label box, darken color on hover, fitted */\n",
       "#sk-container-id-8 div.sk-label.fitted:hover label.sk-toggleable__label.fitted {\n",
       "  color: var(--sklearn-color-text);\n",
       "  background-color: var(--sklearn-color-fitted-level-2);\n",
       "}\n",
       "\n",
       "/* Estimator label */\n",
       "\n",
       "#sk-container-id-8 div.sk-label label {\n",
       "  font-family: monospace;\n",
       "  font-weight: bold;\n",
       "  display: inline-block;\n",
       "  line-height: 1.2em;\n",
       "}\n",
       "\n",
       "#sk-container-id-8 div.sk-label-container {\n",
       "  text-align: center;\n",
       "}\n",
       "\n",
       "/* Estimator-specific */\n",
       "#sk-container-id-8 div.sk-estimator {\n",
       "  font-family: monospace;\n",
       "  border: 1px dotted var(--sklearn-color-border-box);\n",
       "  border-radius: 0.25em;\n",
       "  box-sizing: border-box;\n",
       "  margin-bottom: 0.5em;\n",
       "  /* unfitted */\n",
       "  background-color: var(--sklearn-color-unfitted-level-0);\n",
       "}\n",
       "\n",
       "#sk-container-id-8 div.sk-estimator.fitted {\n",
       "  /* fitted */\n",
       "  background-color: var(--sklearn-color-fitted-level-0);\n",
       "}\n",
       "\n",
       "/* on hover */\n",
       "#sk-container-id-8 div.sk-estimator:hover {\n",
       "  /* unfitted */\n",
       "  background-color: var(--sklearn-color-unfitted-level-2);\n",
       "}\n",
       "\n",
       "#sk-container-id-8 div.sk-estimator.fitted:hover {\n",
       "  /* fitted */\n",
       "  background-color: var(--sklearn-color-fitted-level-2);\n",
       "}\n",
       "\n",
       "/* Specification for estimator info (e.g. \"i\" and \"?\") */\n",
       "\n",
       "/* Common style for \"i\" and \"?\" */\n",
       "\n",
       ".sk-estimator-doc-link,\n",
       "a:link.sk-estimator-doc-link,\n",
       "a:visited.sk-estimator-doc-link {\n",
       "  float: right;\n",
       "  font-size: smaller;\n",
       "  line-height: 1em;\n",
       "  font-family: monospace;\n",
       "  background-color: var(--sklearn-color-background);\n",
       "  border-radius: 1em;\n",
       "  height: 1em;\n",
       "  width: 1em;\n",
       "  text-decoration: none !important;\n",
       "  margin-left: 1ex;\n",
       "  /* unfitted */\n",
       "  border: var(--sklearn-color-unfitted-level-1) 1pt solid;\n",
       "  color: var(--sklearn-color-unfitted-level-1);\n",
       "}\n",
       "\n",
       ".sk-estimator-doc-link.fitted,\n",
       "a:link.sk-estimator-doc-link.fitted,\n",
       "a:visited.sk-estimator-doc-link.fitted {\n",
       "  /* fitted */\n",
       "  border: var(--sklearn-color-fitted-level-1) 1pt solid;\n",
       "  color: var(--sklearn-color-fitted-level-1);\n",
       "}\n",
       "\n",
       "/* On hover */\n",
       "div.sk-estimator:hover .sk-estimator-doc-link:hover,\n",
       ".sk-estimator-doc-link:hover,\n",
       "div.sk-label-container:hover .sk-estimator-doc-link:hover,\n",
       ".sk-estimator-doc-link:hover {\n",
       "  /* unfitted */\n",
       "  background-color: var(--sklearn-color-unfitted-level-3);\n",
       "  color: var(--sklearn-color-background);\n",
       "  text-decoration: none;\n",
       "}\n",
       "\n",
       "div.sk-estimator.fitted:hover .sk-estimator-doc-link.fitted:hover,\n",
       ".sk-estimator-doc-link.fitted:hover,\n",
       "div.sk-label-container:hover .sk-estimator-doc-link.fitted:hover,\n",
       ".sk-estimator-doc-link.fitted:hover {\n",
       "  /* fitted */\n",
       "  background-color: var(--sklearn-color-fitted-level-3);\n",
       "  color: var(--sklearn-color-background);\n",
       "  text-decoration: none;\n",
       "}\n",
       "\n",
       "/* Span, style for the box shown on hovering the info icon */\n",
       ".sk-estimator-doc-link span {\n",
       "  display: none;\n",
       "  z-index: 9999;\n",
       "  position: relative;\n",
       "  font-weight: normal;\n",
       "  right: .2ex;\n",
       "  padding: .5ex;\n",
       "  margin: .5ex;\n",
       "  width: min-content;\n",
       "  min-width: 20ex;\n",
       "  max-width: 50ex;\n",
       "  color: var(--sklearn-color-text);\n",
       "  box-shadow: 2pt 2pt 4pt #999;\n",
       "  /* unfitted */\n",
       "  background: var(--sklearn-color-unfitted-level-0);\n",
       "  border: .5pt solid var(--sklearn-color-unfitted-level-3);\n",
       "}\n",
       "\n",
       ".sk-estimator-doc-link.fitted span {\n",
       "  /* fitted */\n",
       "  background: var(--sklearn-color-fitted-level-0);\n",
       "  border: var(--sklearn-color-fitted-level-3);\n",
       "}\n",
       "\n",
       ".sk-estimator-doc-link:hover span {\n",
       "  display: block;\n",
       "}\n",
       "\n",
       "/* \"?\"-specific style due to the `<a>` HTML tag */\n",
       "\n",
       "#sk-container-id-8 a.estimator_doc_link {\n",
       "  float: right;\n",
       "  font-size: 1rem;\n",
       "  line-height: 1em;\n",
       "  font-family: monospace;\n",
       "  background-color: var(--sklearn-color-background);\n",
       "  border-radius: 1rem;\n",
       "  height: 1rem;\n",
       "  width: 1rem;\n",
       "  text-decoration: none;\n",
       "  /* unfitted */\n",
       "  color: var(--sklearn-color-unfitted-level-1);\n",
       "  border: var(--sklearn-color-unfitted-level-1) 1pt solid;\n",
       "}\n",
       "\n",
       "#sk-container-id-8 a.estimator_doc_link.fitted {\n",
       "  /* fitted */\n",
       "  border: var(--sklearn-color-fitted-level-1) 1pt solid;\n",
       "  color: var(--sklearn-color-fitted-level-1);\n",
       "}\n",
       "\n",
       "/* On hover */\n",
       "#sk-container-id-8 a.estimator_doc_link:hover {\n",
       "  /* unfitted */\n",
       "  background-color: var(--sklearn-color-unfitted-level-3);\n",
       "  color: var(--sklearn-color-background);\n",
       "  text-decoration: none;\n",
       "}\n",
       "\n",
       "#sk-container-id-8 a.estimator_doc_link.fitted:hover {\n",
       "  /* fitted */\n",
       "  background-color: var(--sklearn-color-fitted-level-3);\n",
       "}\n",
       "</style><div id=\"sk-container-id-8\" class=\"sk-top-container\"><div class=\"sk-text-repr-fallback\"><pre>Pipeline(steps=[(&#x27;preprocessors&#x27;,\n",
       "                 ColumnTransformer(transformers=[(&#x27;norm&#x27;,\n",
       "                                                  Pipeline(steps=[(&#x27;QuantReplace&#x27;,\n",
       "                                                                   QuantileReplacer(threshold=0.01)),\n",
       "                                                                  (&#x27;norm&#x27;,\n",
       "                                                                   MinMaxScaler())]),\n",
       "                                                  [&#x27;Age&#x27;, &#x27;Book_average_rating&#x27;,\n",
       "                                                   &#x27;Book_ratings_count&#x27;,\n",
       "                                                   &#x27;sale price&#x27;]),\n",
       "                                                 (&#x27;Status_Touch&#x27;,\n",
       "                                                  Pipeline(steps=[(&#x27;encoder&#x27;,\n",
       "                                                                   OrdinalEncoder())]),\n",
       "                                                  [&#x27;Author_Rating&#x27;, &#x27;genre&#x27;]),\n",
       "                                                 (&#x27;cat&#x27;,\n",
       "                                                  Pipeline(steps=[(&#x27;replace_rare&#x27;,\n",
       "                                                                   RareGrouper(threshold=0.0001)),\n",
       "                                                                  (&#x27;encoder&#x27;,\n",
       "                                                                   OneHotEncoder(drop=&#x27;if_binary&#x27;,\n",
       "                                                                                 handle_unknown=&#x27;ignore&#x27;,\n",
       "                                                                                 sparse_output=False))]),\n",
       "                                                  [&#x27;Author_Rating&#x27;, &#x27;Author&#x27;,\n",
       "                                                   &#x27;language_code&#x27;, &#x27;genre&#x27;,\n",
       "                                                   &#x27;Publisher&#x27;])])),\n",
       "                (&#x27;model&#x27;,\n",
       "                 TransformedTargetRegressor(regressor=SGDRegressor(random_state=42),\n",
       "                                            transformer=PowerTransformer()))])</pre><b>In a Jupyter environment, please rerun this cell to show the HTML representation or trust the notebook. <br />On GitHub, the HTML representation is unable to render, please try loading this page with nbviewer.org.</b></div><div class=\"sk-container\" hidden><div class=\"sk-item sk-dashed-wrapped\"><div class=\"sk-label-container\"><div class=\"sk-label fitted sk-toggleable\"><input class=\"sk-toggleable__control sk-hidden--visually\" id=\"sk-estimator-id-50\" type=\"checkbox\" ><label for=\"sk-estimator-id-50\" class=\"sk-toggleable__label fitted sk-toggleable__label-arrow fitted\">&nbsp;&nbsp;Pipeline<a class=\"sk-estimator-doc-link fitted\" rel=\"noreferrer\" target=\"_blank\" href=\"https://scikit-learn.org/1.4/modules/generated/sklearn.pipeline.Pipeline.html\">?<span>Documentation for Pipeline</span></a><span class=\"sk-estimator-doc-link fitted\">i<span>Fitted</span></span></label><div class=\"sk-toggleable__content fitted\"><pre>Pipeline(steps=[(&#x27;preprocessors&#x27;,\n",
       "                 ColumnTransformer(transformers=[(&#x27;norm&#x27;,\n",
       "                                                  Pipeline(steps=[(&#x27;QuantReplace&#x27;,\n",
       "                                                                   QuantileReplacer(threshold=0.01)),\n",
       "                                                                  (&#x27;norm&#x27;,\n",
       "                                                                   MinMaxScaler())]),\n",
       "                                                  [&#x27;Age&#x27;, &#x27;Book_average_rating&#x27;,\n",
       "                                                   &#x27;Book_ratings_count&#x27;,\n",
       "                                                   &#x27;sale price&#x27;]),\n",
       "                                                 (&#x27;Status_Touch&#x27;,\n",
       "                                                  Pipeline(steps=[(&#x27;encoder&#x27;,\n",
       "                                                                   OrdinalEncoder())]),\n",
       "                                                  [&#x27;Author_Rating&#x27;, &#x27;genre&#x27;]),\n",
       "                                                 (&#x27;cat&#x27;,\n",
       "                                                  Pipeline(steps=[(&#x27;replace_rare&#x27;,\n",
       "                                                                   RareGrouper(threshold=0.0001)),\n",
       "                                                                  (&#x27;encoder&#x27;,\n",
       "                                                                   OneHotEncoder(drop=&#x27;if_binary&#x27;,\n",
       "                                                                                 handle_unknown=&#x27;ignore&#x27;,\n",
       "                                                                                 sparse_output=False))]),\n",
       "                                                  [&#x27;Author_Rating&#x27;, &#x27;Author&#x27;,\n",
       "                                                   &#x27;language_code&#x27;, &#x27;genre&#x27;,\n",
       "                                                   &#x27;Publisher&#x27;])])),\n",
       "                (&#x27;model&#x27;,\n",
       "                 TransformedTargetRegressor(regressor=SGDRegressor(random_state=42),\n",
       "                                            transformer=PowerTransformer()))])</pre></div> </div></div><div class=\"sk-serial\"><div class=\"sk-item sk-dashed-wrapped\"><div class=\"sk-label-container\"><div class=\"sk-label fitted sk-toggleable\"><input class=\"sk-toggleable__control sk-hidden--visually\" id=\"sk-estimator-id-51\" type=\"checkbox\" ><label for=\"sk-estimator-id-51\" class=\"sk-toggleable__label fitted sk-toggleable__label-arrow fitted\">&nbsp;preprocessors: ColumnTransformer<a class=\"sk-estimator-doc-link fitted\" rel=\"noreferrer\" target=\"_blank\" href=\"https://scikit-learn.org/1.4/modules/generated/sklearn.compose.ColumnTransformer.html\">?<span>Documentation for preprocessors: ColumnTransformer</span></a></label><div class=\"sk-toggleable__content fitted\"><pre>ColumnTransformer(transformers=[(&#x27;norm&#x27;,\n",
       "                                 Pipeline(steps=[(&#x27;QuantReplace&#x27;,\n",
       "                                                  QuantileReplacer(threshold=0.01)),\n",
       "                                                 (&#x27;norm&#x27;, MinMaxScaler())]),\n",
       "                                 [&#x27;Age&#x27;, &#x27;Book_average_rating&#x27;,\n",
       "                                  &#x27;Book_ratings_count&#x27;, &#x27;sale price&#x27;]),\n",
       "                                (&#x27;Status_Touch&#x27;,\n",
       "                                 Pipeline(steps=[(&#x27;encoder&#x27;,\n",
       "                                                  OrdinalEncoder())]),\n",
       "                                 [&#x27;Author_Rating&#x27;, &#x27;genre&#x27;]),\n",
       "                                (&#x27;cat&#x27;,\n",
       "                                 Pipeline(steps=[(&#x27;replace_rare&#x27;,\n",
       "                                                  RareGrouper(threshold=0.0001)),\n",
       "                                                 (&#x27;encoder&#x27;,\n",
       "                                                  OneHotEncoder(drop=&#x27;if_binary&#x27;,\n",
       "                                                                handle_unknown=&#x27;ignore&#x27;,\n",
       "                                                                sparse_output=False))]),\n",
       "                                 [&#x27;Author_Rating&#x27;, &#x27;Author&#x27;, &#x27;language_code&#x27;,\n",
       "                                  &#x27;genre&#x27;, &#x27;Publisher&#x27;])])</pre></div> </div></div><div class=\"sk-parallel\"><div class=\"sk-parallel-item\"><div class=\"sk-item\"><div class=\"sk-label-container\"><div class=\"sk-label fitted sk-toggleable\"><input class=\"sk-toggleable__control sk-hidden--visually\" id=\"sk-estimator-id-52\" type=\"checkbox\" ><label for=\"sk-estimator-id-52\" class=\"sk-toggleable__label fitted sk-toggleable__label-arrow fitted\">norm</label><div class=\"sk-toggleable__content fitted\"><pre>[&#x27;Age&#x27;, &#x27;Book_average_rating&#x27;, &#x27;Book_ratings_count&#x27;, &#x27;sale price&#x27;]</pre></div> </div></div><div class=\"sk-serial\"><div class=\"sk-item\"><div class=\"sk-serial\"><div class=\"sk-item\"><div class=\"sk-estimator fitted sk-toggleable\"><input class=\"sk-toggleable__control sk-hidden--visually\" id=\"sk-estimator-id-53\" type=\"checkbox\" ><label for=\"sk-estimator-id-53\" class=\"sk-toggleable__label fitted sk-toggleable__label-arrow fitted\">QuantileReplacer</label><div class=\"sk-toggleable__content fitted\"><pre>QuantileReplacer(threshold=0.01)</pre></div> </div></div><div class=\"sk-item\"><div class=\"sk-estimator fitted sk-toggleable\"><input class=\"sk-toggleable__control sk-hidden--visually\" id=\"sk-estimator-id-54\" type=\"checkbox\" ><label for=\"sk-estimator-id-54\" class=\"sk-toggleable__label fitted sk-toggleable__label-arrow fitted\">&nbsp;MinMaxScaler<a class=\"sk-estimator-doc-link fitted\" rel=\"noreferrer\" target=\"_blank\" href=\"https://scikit-learn.org/1.4/modules/generated/sklearn.preprocessing.MinMaxScaler.html\">?<span>Documentation for MinMaxScaler</span></a></label><div class=\"sk-toggleable__content fitted\"><pre>MinMaxScaler()</pre></div> </div></div></div></div></div></div></div><div class=\"sk-parallel-item\"><div class=\"sk-item\"><div class=\"sk-label-container\"><div class=\"sk-label fitted sk-toggleable\"><input class=\"sk-toggleable__control sk-hidden--visually\" id=\"sk-estimator-id-55\" type=\"checkbox\" ><label for=\"sk-estimator-id-55\" class=\"sk-toggleable__label fitted sk-toggleable__label-arrow fitted\">Status_Touch</label><div class=\"sk-toggleable__content fitted\"><pre>[&#x27;Author_Rating&#x27;, &#x27;genre&#x27;]</pre></div> </div></div><div class=\"sk-serial\"><div class=\"sk-item\"><div class=\"sk-serial\"><div class=\"sk-item\"><div class=\"sk-estimator fitted sk-toggleable\"><input class=\"sk-toggleable__control sk-hidden--visually\" id=\"sk-estimator-id-56\" type=\"checkbox\" ><label for=\"sk-estimator-id-56\" class=\"sk-toggleable__label fitted sk-toggleable__label-arrow fitted\">&nbsp;OrdinalEncoder<a class=\"sk-estimator-doc-link fitted\" rel=\"noreferrer\" target=\"_blank\" href=\"https://scikit-learn.org/1.4/modules/generated/sklearn.preprocessing.OrdinalEncoder.html\">?<span>Documentation for OrdinalEncoder</span></a></label><div class=\"sk-toggleable__content fitted\"><pre>OrdinalEncoder()</pre></div> </div></div></div></div></div></div></div><div class=\"sk-parallel-item\"><div class=\"sk-item\"><div class=\"sk-label-container\"><div class=\"sk-label fitted sk-toggleable\"><input class=\"sk-toggleable__control sk-hidden--visually\" id=\"sk-estimator-id-57\" type=\"checkbox\" ><label for=\"sk-estimator-id-57\" class=\"sk-toggleable__label fitted sk-toggleable__label-arrow fitted\">cat</label><div class=\"sk-toggleable__content fitted\"><pre>[&#x27;Author_Rating&#x27;, &#x27;Author&#x27;, &#x27;language_code&#x27;, &#x27;genre&#x27;, &#x27;Publisher&#x27;]</pre></div> </div></div><div class=\"sk-serial\"><div class=\"sk-item\"><div class=\"sk-serial\"><div class=\"sk-item\"><div class=\"sk-estimator fitted sk-toggleable\"><input class=\"sk-toggleable__control sk-hidden--visually\" id=\"sk-estimator-id-58\" type=\"checkbox\" ><label for=\"sk-estimator-id-58\" class=\"sk-toggleable__label fitted sk-toggleable__label-arrow fitted\">RareGrouper</label><div class=\"sk-toggleable__content fitted\"><pre>RareGrouper(threshold=0.0001)</pre></div> </div></div><div class=\"sk-item\"><div class=\"sk-estimator fitted sk-toggleable\"><input class=\"sk-toggleable__control sk-hidden--visually\" id=\"sk-estimator-id-59\" type=\"checkbox\" ><label for=\"sk-estimator-id-59\" class=\"sk-toggleable__label fitted sk-toggleable__label-arrow fitted\">&nbsp;OneHotEncoder<a class=\"sk-estimator-doc-link fitted\" rel=\"noreferrer\" target=\"_blank\" href=\"https://scikit-learn.org/1.4/modules/generated/sklearn.preprocessing.OneHotEncoder.html\">?<span>Documentation for OneHotEncoder</span></a></label><div class=\"sk-toggleable__content fitted\"><pre>OneHotEncoder(drop=&#x27;if_binary&#x27;, handle_unknown=&#x27;ignore&#x27;, sparse_output=False)</pre></div> </div></div></div></div></div></div></div></div></div><div class=\"sk-item sk-dashed-wrapped\"><div class=\"sk-label-container\"><div class=\"sk-label fitted sk-toggleable\"><input class=\"sk-toggleable__control sk-hidden--visually\" id=\"sk-estimator-id-60\" type=\"checkbox\" ><label for=\"sk-estimator-id-60\" class=\"sk-toggleable__label fitted sk-toggleable__label-arrow fitted\">&nbsp;model: TransformedTargetRegressor<a class=\"sk-estimator-doc-link fitted\" rel=\"noreferrer\" target=\"_blank\" href=\"https://scikit-learn.org/1.4/modules/generated/sklearn.compose.TransformedTargetRegressor.html\">?<span>Documentation for model: TransformedTargetRegressor</span></a></label><div class=\"sk-toggleable__content fitted\"><pre>TransformedTargetRegressor(regressor=SGDRegressor(random_state=42),\n",
       "                           transformer=PowerTransformer())</pre></div> </div></div><div class=\"sk-parallel\"><div class=\"sk-parallel-item\"><div class=\"sk-item\"><div class=\"sk-label-container\"><div class=\"sk-label fitted sk-toggleable\"><input class=\"sk-toggleable__control sk-hidden--visually\" id=\"sk-estimator-id-61\" type=\"checkbox\" ><label for=\"sk-estimator-id-61\" class=\"sk-toggleable__label fitted sk-toggleable__label-arrow fitted\">regressor: SGDRegressor</label><div class=\"sk-toggleable__content fitted\"><pre>SGDRegressor(random_state=42)</pre></div> </div></div><div class=\"sk-serial\"><div class=\"sk-item\"><div class=\"sk-estimator fitted sk-toggleable\"><input class=\"sk-toggleable__control sk-hidden--visually\" id=\"sk-estimator-id-62\" type=\"checkbox\" ><label for=\"sk-estimator-id-62\" class=\"sk-toggleable__label fitted sk-toggleable__label-arrow fitted\">&nbsp;SGDRegressor<a class=\"sk-estimator-doc-link fitted\" rel=\"noreferrer\" target=\"_blank\" href=\"https://scikit-learn.org/1.4/modules/generated/sklearn.linear_model.SGDRegressor.html\">?<span>Documentation for SGDRegressor</span></a></label><div class=\"sk-toggleable__content fitted\"><pre>SGDRegressor(random_state=42)</pre></div> </div></div></div></div></div><div class=\"sk-parallel-item\"><div class=\"sk-item\"><div class=\"sk-label-container\"><div class=\"sk-label fitted sk-toggleable\"><input class=\"sk-toggleable__control sk-hidden--visually\" id=\"sk-estimator-id-63\" type=\"checkbox\" ><label for=\"sk-estimator-id-63\" class=\"sk-toggleable__label fitted sk-toggleable__label-arrow fitted\">transformer: PowerTransformer</label><div class=\"sk-toggleable__content fitted\"><pre>PowerTransformer()</pre></div> </div></div><div class=\"sk-serial\"><div class=\"sk-item\"><div class=\"sk-estimator fitted sk-toggleable\"><input class=\"sk-toggleable__control sk-hidden--visually\" id=\"sk-estimator-id-64\" type=\"checkbox\" ><label for=\"sk-estimator-id-64\" class=\"sk-toggleable__label fitted sk-toggleable__label-arrow fitted\">&nbsp;PowerTransformer<a class=\"sk-estimator-doc-link fitted\" rel=\"noreferrer\" target=\"_blank\" href=\"https://scikit-learn.org/1.4/modules/generated/sklearn.preprocessing.PowerTransformer.html\">?<span>Documentation for PowerTransformer</span></a></label><div class=\"sk-toggleable__content fitted\"><pre>PowerTransformer()</pre></div> </div></div></div></div></div></div></div></div></div></div></div>"
      ],
      "text/plain": [
       "Pipeline(steps=[('preprocessors',\n",
       "                 ColumnTransformer(transformers=[('norm',\n",
       "                                                  Pipeline(steps=[('QuantReplace',\n",
       "                                                                   QuantileReplacer(threshold=0.01)),\n",
       "                                                                  ('norm',\n",
       "                                                                   MinMaxScaler())]),\n",
       "                                                  ['Age', 'Book_average_rating',\n",
       "                                                   'Book_ratings_count',\n",
       "                                                   'sale price']),\n",
       "                                                 ('Status_Touch',\n",
       "                                                  Pipeline(steps=[('encoder',\n",
       "                                                                   OrdinalEncoder())]),\n",
       "                                                  ['Author_Rating', 'genre']),\n",
       "                                                 ('cat',\n",
       "                                                  Pipeline(steps=[('replace_rare',\n",
       "                                                                   RareGrouper(threshold=0.0001)),\n",
       "                                                                  ('encoder',\n",
       "                                                                   OneHotEncoder(drop='if_binary',\n",
       "                                                                                 handle_unknown='ignore',\n",
       "                                                                                 sparse_output=False))]),\n",
       "                                                  ['Author_Rating', 'Author',\n",
       "                                                   'language_code', 'genre',\n",
       "                                                   'Publisher'])])),\n",
       "                ('model',\n",
       "                 TransformedTargetRegressor(regressor=SGDRegressor(random_state=42),\n",
       "                                            transformer=PowerTransformer()))])"
      ]
     },
     "execution_count": 103,
     "metadata": {},
     "output_type": "execute_result"
    }
   ],
   "source": [
    "pipe_all_transform.fit(X_train, y_train)"
   ]
  },
  {
   "cell_type": "code",
   "execution_count": 104,
   "id": "c843ed60",
   "metadata": {
    "code_folding": [
     0
    ]
   },
   "outputs": [],
   "source": [
    "cat_Status_Touch_names = pipe_all_transform['preprocessors'].transformers_[1][\n",
    "    1]['encoder'].get_feature_names_out(cat_Status_Touch)\n",
    "cat_names = pipe_all_transform['preprocessors'].transformers_[2][1][\n",
    "    'encoder'].get_feature_names_out(cat)\n",
    "\n",
    "# объединяем названия колонок в один список (важен порядок как в ColumnTransformer)\n",
    "columns = np.hstack([num, cat_Status_Touch, cat])"
   ]
  },
  {
   "cell_type": "code",
   "execution_count": 105,
   "id": "938fbc13",
   "metadata": {},
   "outputs": [
    {
     "name": "stdout",
     "output_type": "stream",
     "text": [
      "Решение\n",
      "-0.414+0.01*Age+0.24*Book_average_rating+1.80*Book_ratings_count+1.82*sale price+0.01*Author_Rating-0.21*genre-0.32*Author_Rating-0.17*Author+0.06*language_code+0.02*genre+0.02*Publisher\n"
     ]
    }
   ],
   "source": [
    "B0, B = get_coefs(pipe_all_transform['model'].regressor_)\n",
    "features_names = list(columns)\n",
    "\n",
    "print_model (B0,B,features_names)"
   ]
  },
  {
   "cell_type": "code",
   "execution_count": 106,
   "id": "c8144501",
   "metadata": {},
   "outputs": [],
   "source": [
    "def vis_weigths_threshold(weights, feature_names, threshold, width = 1200, height = 600):\n",
    "    \"\"\"Отрисовка весов с фильтром.\n",
    "    Входные переменные:\n",
    "    ===========\n",
    "    weights: веса признаков\n",
    "    features_names: список названий признаков\n",
    "    threshold: порог \"значимости\" коэффициентов\n",
    "    \"\"\"\n",
    "    # фильтруем веса коэффициентов\n",
    "    mask = np.abs(weights) >= threshold\n",
    "    weights_filtered = weights[mask]\n",
    "    feature_names_filtered = [name for name, m in zip(feature_names, mask[1:]) if m]\n",
    "\n",
    "    # Рисуем столбчатую диаграмму\n",
    "    vis_weigths(weights_filtered,feature_names_filtered, width = width, height = height)"
   ]
  },
  {
   "cell_type": "code",
   "execution_count": 107,
   "id": "b8be2325",
   "metadata": {},
   "outputs": [
    {
     "data": {
      "application/vnd.plotly.v1+json": {
       "config": {
        "plotlyServerURL": "https://plot.ly"
       },
       "data": [
        {
         "marker": {
          "color": "red"
         },
         "name": "отрицательные веса",
         "type": "bar",
         "x": [
          0,
          4,
          5,
          6,
          7,
          10,
          11,
          13,
          14,
          15,
          16,
          21,
          24,
          25,
          26,
          27,
          28,
          29,
          30
         ],
         "y": [
          -0.41405830085354756,
          -0.2110104108079336,
          -0.3206137191167709,
          -0.17373430486416447,
          -0.08883212941541076,
          -0.09105646097613758,
          -0.2432140770159584,
          -0.09359015953790868,
          -0.10824283881784756,
          -0.2616172834826183,
          -0.14732467902944382,
          -0.12223792600326021,
          -0.11595168676512549,
          -0.21979018559197494,
          -0.16613945892891338,
          -0.12149167007530408,
          -0.32307036737910205,
          -0.3162390812540429,
          -0.19669135705095486
         ]
        },
        {
         "marker": {
          "color": "blue"
         },
         "name": "положительные веса",
         "type": "bar",
         "x": [
          1,
          2,
          3,
          8,
          9,
          12,
          17,
          18,
          19,
          20,
          22,
          23
         ],
         "y": [
          0.23550109897516586,
          1.8025845726212806,
          1.8152810224422946,
          0.08323655512571071,
          0.08661593570977742,
          0.0916075818930982,
          0.08423820786389268,
          0.09433391451735984,
          0.09614415961280282,
          0.09153557247782663,
          0.08069806882270558,
          0.09452056672213387
         ]
        }
       ],
       "layout": {
        "height": 600,
        "template": {
         "data": {
          "bar": [
           {
            "error_x": {
             "color": "#f2f5fa"
            },
            "error_y": {
             "color": "#f2f5fa"
            },
            "marker": {
             "line": {
              "color": "rgb(17,17,17)",
              "width": 0.5
             },
             "pattern": {
              "fillmode": "overlay",
              "size": 10,
              "solidity": 0.2
             }
            },
            "type": "bar"
           }
          ],
          "barpolar": [
           {
            "marker": {
             "line": {
              "color": "rgb(17,17,17)",
              "width": 0.5
             },
             "pattern": {
              "fillmode": "overlay",
              "size": 10,
              "solidity": 0.2
             }
            },
            "type": "barpolar"
           }
          ],
          "carpet": [
           {
            "aaxis": {
             "endlinecolor": "#A2B1C6",
             "gridcolor": "#506784",
             "linecolor": "#506784",
             "minorgridcolor": "#506784",
             "startlinecolor": "#A2B1C6"
            },
            "baxis": {
             "endlinecolor": "#A2B1C6",
             "gridcolor": "#506784",
             "linecolor": "#506784",
             "minorgridcolor": "#506784",
             "startlinecolor": "#A2B1C6"
            },
            "type": "carpet"
           }
          ],
          "choropleth": [
           {
            "colorbar": {
             "outlinewidth": 0,
             "ticks": ""
            },
            "type": "choropleth"
           }
          ],
          "contour": [
           {
            "colorbar": {
             "outlinewidth": 0,
             "ticks": ""
            },
            "colorscale": [
             [
              0,
              "#0d0887"
             ],
             [
              0.1111111111111111,
              "#46039f"
             ],
             [
              0.2222222222222222,
              "#7201a8"
             ],
             [
              0.3333333333333333,
              "#9c179e"
             ],
             [
              0.4444444444444444,
              "#bd3786"
             ],
             [
              0.5555555555555556,
              "#d8576b"
             ],
             [
              0.6666666666666666,
              "#ed7953"
             ],
             [
              0.7777777777777778,
              "#fb9f3a"
             ],
             [
              0.8888888888888888,
              "#fdca26"
             ],
             [
              1,
              "#f0f921"
             ]
            ],
            "type": "contour"
           }
          ],
          "contourcarpet": [
           {
            "colorbar": {
             "outlinewidth": 0,
             "ticks": ""
            },
            "type": "contourcarpet"
           }
          ],
          "heatmap": [
           {
            "colorbar": {
             "outlinewidth": 0,
             "ticks": ""
            },
            "colorscale": [
             [
              0,
              "#0d0887"
             ],
             [
              0.1111111111111111,
              "#46039f"
             ],
             [
              0.2222222222222222,
              "#7201a8"
             ],
             [
              0.3333333333333333,
              "#9c179e"
             ],
             [
              0.4444444444444444,
              "#bd3786"
             ],
             [
              0.5555555555555556,
              "#d8576b"
             ],
             [
              0.6666666666666666,
              "#ed7953"
             ],
             [
              0.7777777777777778,
              "#fb9f3a"
             ],
             [
              0.8888888888888888,
              "#fdca26"
             ],
             [
              1,
              "#f0f921"
             ]
            ],
            "type": "heatmap"
           }
          ],
          "heatmapgl": [
           {
            "colorbar": {
             "outlinewidth": 0,
             "ticks": ""
            },
            "colorscale": [
             [
              0,
              "#0d0887"
             ],
             [
              0.1111111111111111,
              "#46039f"
             ],
             [
              0.2222222222222222,
              "#7201a8"
             ],
             [
              0.3333333333333333,
              "#9c179e"
             ],
             [
              0.4444444444444444,
              "#bd3786"
             ],
             [
              0.5555555555555556,
              "#d8576b"
             ],
             [
              0.6666666666666666,
              "#ed7953"
             ],
             [
              0.7777777777777778,
              "#fb9f3a"
             ],
             [
              0.8888888888888888,
              "#fdca26"
             ],
             [
              1,
              "#f0f921"
             ]
            ],
            "type": "heatmapgl"
           }
          ],
          "histogram": [
           {
            "marker": {
             "pattern": {
              "fillmode": "overlay",
              "size": 10,
              "solidity": 0.2
             }
            },
            "type": "histogram"
           }
          ],
          "histogram2d": [
           {
            "colorbar": {
             "outlinewidth": 0,
             "ticks": ""
            },
            "colorscale": [
             [
              0,
              "#0d0887"
             ],
             [
              0.1111111111111111,
              "#46039f"
             ],
             [
              0.2222222222222222,
              "#7201a8"
             ],
             [
              0.3333333333333333,
              "#9c179e"
             ],
             [
              0.4444444444444444,
              "#bd3786"
             ],
             [
              0.5555555555555556,
              "#d8576b"
             ],
             [
              0.6666666666666666,
              "#ed7953"
             ],
             [
              0.7777777777777778,
              "#fb9f3a"
             ],
             [
              0.8888888888888888,
              "#fdca26"
             ],
             [
              1,
              "#f0f921"
             ]
            ],
            "type": "histogram2d"
           }
          ],
          "histogram2dcontour": [
           {
            "colorbar": {
             "outlinewidth": 0,
             "ticks": ""
            },
            "colorscale": [
             [
              0,
              "#0d0887"
             ],
             [
              0.1111111111111111,
              "#46039f"
             ],
             [
              0.2222222222222222,
              "#7201a8"
             ],
             [
              0.3333333333333333,
              "#9c179e"
             ],
             [
              0.4444444444444444,
              "#bd3786"
             ],
             [
              0.5555555555555556,
              "#d8576b"
             ],
             [
              0.6666666666666666,
              "#ed7953"
             ],
             [
              0.7777777777777778,
              "#fb9f3a"
             ],
             [
              0.8888888888888888,
              "#fdca26"
             ],
             [
              1,
              "#f0f921"
             ]
            ],
            "type": "histogram2dcontour"
           }
          ],
          "mesh3d": [
           {
            "colorbar": {
             "outlinewidth": 0,
             "ticks": ""
            },
            "type": "mesh3d"
           }
          ],
          "parcoords": [
           {
            "line": {
             "colorbar": {
              "outlinewidth": 0,
              "ticks": ""
             }
            },
            "type": "parcoords"
           }
          ],
          "pie": [
           {
            "automargin": true,
            "type": "pie"
           }
          ],
          "scatter": [
           {
            "marker": {
             "line": {
              "color": "#283442"
             }
            },
            "type": "scatter"
           }
          ],
          "scatter3d": [
           {
            "line": {
             "colorbar": {
              "outlinewidth": 0,
              "ticks": ""
             }
            },
            "marker": {
             "colorbar": {
              "outlinewidth": 0,
              "ticks": ""
             }
            },
            "type": "scatter3d"
           }
          ],
          "scattercarpet": [
           {
            "marker": {
             "colorbar": {
              "outlinewidth": 0,
              "ticks": ""
             }
            },
            "type": "scattercarpet"
           }
          ],
          "scattergeo": [
           {
            "marker": {
             "colorbar": {
              "outlinewidth": 0,
              "ticks": ""
             }
            },
            "type": "scattergeo"
           }
          ],
          "scattergl": [
           {
            "marker": {
             "line": {
              "color": "#283442"
             }
            },
            "type": "scattergl"
           }
          ],
          "scattermapbox": [
           {
            "marker": {
             "colorbar": {
              "outlinewidth": 0,
              "ticks": ""
             }
            },
            "type": "scattermapbox"
           }
          ],
          "scatterpolar": [
           {
            "marker": {
             "colorbar": {
              "outlinewidth": 0,
              "ticks": ""
             }
            },
            "type": "scatterpolar"
           }
          ],
          "scatterpolargl": [
           {
            "marker": {
             "colorbar": {
              "outlinewidth": 0,
              "ticks": ""
             }
            },
            "type": "scatterpolargl"
           }
          ],
          "scatterternary": [
           {
            "marker": {
             "colorbar": {
              "outlinewidth": 0,
              "ticks": ""
             }
            },
            "type": "scatterternary"
           }
          ],
          "surface": [
           {
            "colorbar": {
             "outlinewidth": 0,
             "ticks": ""
            },
            "colorscale": [
             [
              0,
              "#0d0887"
             ],
             [
              0.1111111111111111,
              "#46039f"
             ],
             [
              0.2222222222222222,
              "#7201a8"
             ],
             [
              0.3333333333333333,
              "#9c179e"
             ],
             [
              0.4444444444444444,
              "#bd3786"
             ],
             [
              0.5555555555555556,
              "#d8576b"
             ],
             [
              0.6666666666666666,
              "#ed7953"
             ],
             [
              0.7777777777777778,
              "#fb9f3a"
             ],
             [
              0.8888888888888888,
              "#fdca26"
             ],
             [
              1,
              "#f0f921"
             ]
            ],
            "type": "surface"
           }
          ],
          "table": [
           {
            "cells": {
             "fill": {
              "color": "#506784"
             },
             "line": {
              "color": "rgb(17,17,17)"
             }
            },
            "header": {
             "fill": {
              "color": "#2a3f5f"
             },
             "line": {
              "color": "rgb(17,17,17)"
             }
            },
            "type": "table"
           }
          ]
         },
         "layout": {
          "annotationdefaults": {
           "arrowcolor": "#f2f5fa",
           "arrowhead": 0,
           "arrowwidth": 1
          },
          "autotypenumbers": "strict",
          "coloraxis": {
           "colorbar": {
            "outlinewidth": 0,
            "ticks": ""
           }
          },
          "colorscale": {
           "diverging": [
            [
             0,
             "#8e0152"
            ],
            [
             0.1,
             "#c51b7d"
            ],
            [
             0.2,
             "#de77ae"
            ],
            [
             0.3,
             "#f1b6da"
            ],
            [
             0.4,
             "#fde0ef"
            ],
            [
             0.5,
             "#f7f7f7"
            ],
            [
             0.6,
             "#e6f5d0"
            ],
            [
             0.7,
             "#b8e186"
            ],
            [
             0.8,
             "#7fbc41"
            ],
            [
             0.9,
             "#4d9221"
            ],
            [
             1,
             "#276419"
            ]
           ],
           "sequential": [
            [
             0,
             "#0d0887"
            ],
            [
             0.1111111111111111,
             "#46039f"
            ],
            [
             0.2222222222222222,
             "#7201a8"
            ],
            [
             0.3333333333333333,
             "#9c179e"
            ],
            [
             0.4444444444444444,
             "#bd3786"
            ],
            [
             0.5555555555555556,
             "#d8576b"
            ],
            [
             0.6666666666666666,
             "#ed7953"
            ],
            [
             0.7777777777777778,
             "#fb9f3a"
            ],
            [
             0.8888888888888888,
             "#fdca26"
            ],
            [
             1,
             "#f0f921"
            ]
           ],
           "sequentialminus": [
            [
             0,
             "#0d0887"
            ],
            [
             0.1111111111111111,
             "#46039f"
            ],
            [
             0.2222222222222222,
             "#7201a8"
            ],
            [
             0.3333333333333333,
             "#9c179e"
            ],
            [
             0.4444444444444444,
             "#bd3786"
            ],
            [
             0.5555555555555556,
             "#d8576b"
            ],
            [
             0.6666666666666666,
             "#ed7953"
            ],
            [
             0.7777777777777778,
             "#fb9f3a"
            ],
            [
             0.8888888888888888,
             "#fdca26"
            ],
            [
             1,
             "#f0f921"
            ]
           ]
          },
          "colorway": [
           "#636efa",
           "#EF553B",
           "#00cc96",
           "#ab63fa",
           "#FFA15A",
           "#19d3f3",
           "#FF6692",
           "#B6E880",
           "#FF97FF",
           "#FECB52"
          ],
          "font": {
           "color": "#f2f5fa"
          },
          "geo": {
           "bgcolor": "rgb(17,17,17)",
           "lakecolor": "rgb(17,17,17)",
           "landcolor": "rgb(17,17,17)",
           "showlakes": true,
           "showland": true,
           "subunitcolor": "#506784"
          },
          "hoverlabel": {
           "align": "left"
          },
          "hovermode": "closest",
          "mapbox": {
           "style": "dark"
          },
          "paper_bgcolor": "rgb(17,17,17)",
          "plot_bgcolor": "rgb(17,17,17)",
          "polar": {
           "angularaxis": {
            "gridcolor": "#506784",
            "linecolor": "#506784",
            "ticks": ""
           },
           "bgcolor": "rgb(17,17,17)",
           "radialaxis": {
            "gridcolor": "#506784",
            "linecolor": "#506784",
            "ticks": ""
           }
          },
          "scene": {
           "xaxis": {
            "backgroundcolor": "rgb(17,17,17)",
            "gridcolor": "#506784",
            "gridwidth": 2,
            "linecolor": "#506784",
            "showbackground": true,
            "ticks": "",
            "zerolinecolor": "#C8D4E3"
           },
           "yaxis": {
            "backgroundcolor": "rgb(17,17,17)",
            "gridcolor": "#506784",
            "gridwidth": 2,
            "linecolor": "#506784",
            "showbackground": true,
            "ticks": "",
            "zerolinecolor": "#C8D4E3"
           },
           "zaxis": {
            "backgroundcolor": "rgb(17,17,17)",
            "gridcolor": "#506784",
            "gridwidth": 2,
            "linecolor": "#506784",
            "showbackground": true,
            "ticks": "",
            "zerolinecolor": "#C8D4E3"
           }
          },
          "shapedefaults": {
           "line": {
            "color": "#f2f5fa"
           }
          },
          "sliderdefaults": {
           "bgcolor": "#C8D4E3",
           "bordercolor": "rgb(17,17,17)",
           "borderwidth": 1,
           "tickwidth": 0
          },
          "ternary": {
           "aaxis": {
            "gridcolor": "#506784",
            "linecolor": "#506784",
            "ticks": ""
           },
           "baxis": {
            "gridcolor": "#506784",
            "linecolor": "#506784",
            "ticks": ""
           },
           "bgcolor": "rgb(17,17,17)",
           "caxis": {
            "gridcolor": "#506784",
            "linecolor": "#506784",
            "ticks": ""
           }
          },
          "title": {
           "x": 0.05
          },
          "updatemenudefaults": {
           "bgcolor": "#506784",
           "borderwidth": 0
          },
          "xaxis": {
           "automargin": true,
           "gridcolor": "#283442",
           "linecolor": "#506784",
           "ticks": "",
           "title": {
            "standoff": 15
           },
           "zerolinecolor": "#283442",
           "zerolinewidth": 2
          },
          "yaxis": {
           "automargin": true,
           "gridcolor": "#283442",
           "linecolor": "#506784",
           "ticks": "",
           "title": {
            "standoff": 15
           },
           "zerolinecolor": "#283442",
           "zerolinewidth": 2
          }
         }
        },
        "title": {
         "text": "Веса модели"
        },
        "width": 1800,
        "xaxis": {
         "tickmode": "array",
         "ticktext": [
          "B0",
          "Book_average_rating",
          "Book_ratings_count",
          "sale price",
          "genre",
          "Author_Rating",
          "Author"
         ],
         "tickvals": [
          0,
          1,
          2,
          3,
          4,
          5,
          6,
          7,
          8,
          9,
          10,
          11,
          12,
          13,
          14,
          15,
          16,
          17,
          18,
          19,
          20,
          21,
          22,
          23,
          24,
          25,
          26,
          27,
          28,
          29,
          30
         ]
        }
       }
      }
     },
     "metadata": {},
     "output_type": "display_data"
    }
   ],
   "source": [
    "Bs = np.hstack([B0,B])\n",
    "vis_weigths_threshold(Bs,columns, 0.08, width = 1800)"
   ]
  },
  {
   "cell_type": "code",
   "execution_count": 108,
   "id": "f9272846",
   "metadata": {},
   "outputs": [
    {
     "data": {
      "text/plain": [
       "array(['Author_Rating_Excellent', 'Author_Rating_Famous',\n",
       "       'Author_Rating_Intermediate', 'Author_Rating_Novice',\n",
       "       'Author_A.S.A. Harrison', 'Author_Agatha Christie',\n",
       "       'Author_Alan Brennert',\n",
       "       'Author_Aldous Huxley, Christopher Hitchens', 'Author_Alex Flinn',\n",
       "       'Author_Alex Garland', 'Author_Alexandra Bracken',\n",
       "       'Author_Alice Clayton',\n",
       "       'Author_Allen Ginsberg, William Carlos Williams',\n",
       "       'Author_Ally Carter', 'Author_Ally Condie',\n",
       "       'Author_Amanda Hocking', 'Author_Amish Tripathi',\n",
       "       'Author_Amor Towles', 'Author_Andre Dubus III',\n",
       "       'Author_Andrew Clements, Brian Selznick', 'Author_Anita Diamant',\n",
       "       'Author_Anita Shreve', 'Author_Ann Patchett',\n",
       "       'Author_Anna Quindlen',\n",
       "       'Author_Anne McCaffrey, Teodor PanasiÅ„ski', 'Author_Anne Rice',\n",
       "       'Author_Anne Tyler', 'Author_Anonymous, Joseph Smith Jr.',\n",
       "       'Author_Anthony Bourdain', 'Author_Aravind Adiga',\n",
       "       'Author_Arnold Lobel', 'Author_Art Spiegelman',\n",
       "       'Author_Arthur C. Clarke', 'Author_Arthur Conan Doyle',\n",
       "       'Author_Arthur Conan Doyle, Anne Perry', 'Author_Arthur Miller',\n",
       "       'Author_Astrid Lindgren, Lauren Child, Florence Lamborn, Nancy Seligsohn',\n",
       "       'Author_Atul Gawande', 'Author_Austin Kleon', 'Author_Ayn Rand',\n",
       "       'Author_Aziz Ansari, Eric Klinenberg', 'Author_B.A. Paris',\n",
       "       'Author_Barack Obama', 'Author_Barbara Kingsolver',\n",
       "       'Author_Barbara Kingsolver, Steven L. Hopp, Camille Kingsolver, Richard A. Houser',\n",
       "       'Author_Beatrix Potter', 'Author_Becca Fitzpatrick',\n",
       "       'Author_Benjamin Alire SÃ¡enz',\n",
       "       'Author_Bernhard Schlink, Carol Brown Janeway',\n",
       "       'Author_Beth Hoffman, Jenna Lamia', 'Author_Beth Revis',\n",
       "       'Author_Better Homes and Gardens', 'Author_Bill Bryson',\n",
       "       \"Author_Bill O'Reilly, Martin Dugard\", 'Author_Bill Watterson',\n",
       "       'Author_Bill Watterson, G.B. Trudeau', 'Author_Bisco Hatori',\n",
       "       'Author_Brandon Mull', 'Author_Brandon Sanderson',\n",
       "       'Author_Brent Weeks', 'Author_Brian Jacques',\n",
       "       'Author_Brian K. Vaughan, Fiona Staples',\n",
       "       'Author_Brian K. Vaughan, Pia Guerra, JosÃ© MarzÃ¡n Jr.',\n",
       "       'Author_Brian Selznick', \"Author_Bryan Lee O'Malley\",\n",
       "       'Author_C.S. Lewis', 'Author_C.S. Lewis, Pauline Baynes',\n",
       "       'Author_Caitlin Moran', 'Author_Caleb Carr', 'Author_Carl Hiaasen',\n",
       "       'Author_Carlos Ruiz ZafÃ³n, Lucia Graves',\n",
       "       'Author_Carol Rifka Brunt', 'Author_Cassandra Clare',\n",
       "       'Author_Catherine Hardwicke', 'Author_Cecelia Ahern',\n",
       "       'Author_Celeste Ng', 'Author_Chad Harbach',\n",
       "       'Author_Charlaine Harris', 'Author_Charles Bukowski',\n",
       "       'Author_Charles Darwin', 'Author_Charles Dickens, Jeremy Tambling',\n",
       "       'Author_Charles Dickens, Nicola Bradbury, Hablot Knight Browne',\n",
       "       'Author_Charles Duhigg', 'Author_Chelsea Handler',\n",
       "       'Author_Chetan Bhagat', 'Author_Chris Van Allsburg',\n",
       "       'Author_Christina Lauren', 'Author_Christopher Hitchens',\n",
       "       'Author_Christopher McDougall', 'Author_Christopher Moore',\n",
       "       'Author_Christopher Paolini', 'Author_Christopher Paul Curtis',\n",
       "       'Author_Chuck Palahniuk', 'Author_Colleen Hoover',\n",
       "       'Author_Colm TÃ³ibÃ\\xadn', 'Author_Colson Whitehead',\n",
       "       'Author_Colum McCann', 'Author_Cora Carmack',\n",
       "       'Author_Cormac McCarthy', 'Author_Cornelia Funke, Anthea Bell',\n",
       "       'Author_Craig Thompson', \"Author_Cynthia D'Aprix Sweeney\",\n",
       "       'Author_Cynthia Hand', 'Author_Dalai Lama XIV, Howard C. Cutler',\n",
       "       'Author_Dan Simmons',\n",
       "       'Author_Dante Alighieri, Allen Mandelbaum, Eugenio Montale',\n",
       "       'Author_Dante Alighieri, Anthony M. Esolen',\n",
       "       'Author_Dashiell Hammett', 'Author_Dave Eggers',\n",
       "       'Author_David    Allen', 'Author_David Baldacci',\n",
       "       'Author_David Benioff', 'Author_David Eddings',\n",
       "       'Author_David Guterson', 'Author_David Levithan',\n",
       "       'Author_David McCullough', 'Author_David Mitchell',\n",
       "       'Author_David Sedaris', 'Author_David Wroblewski',\n",
       "       'Author_Dean Koontz', 'Author_Deborah Harkness',\n",
       "       'Author_Dennis Lehane', 'Author_Diana Gabaldon',\n",
       "       'Author_Don DeLillo', 'Author_Don Freeman',\n",
       "       'Author_Don Piper, Cecil Murphey', 'Author_Donald Miller',\n",
       "       'Author_Douglas Adams', 'Author_Douglas Preston, Lincoln Child',\n",
       "       'Author_Dr. Seuss', 'Author_E.B. White, Garth Williams',\n",
       "       'Author_E.H. Gombrich', 'Author_E.L. James',\n",
       "       'Author_Edith Wharton', 'Author_Edith Wharton, Maureen Howard',\n",
       "       'Author_Elena Ferrante, Ann Goldstein',\n",
       "       'Author_Elif Shafak, Ø¥Ù„ÙŠÙ\\x81 Ø´Ø§Ù\\x81Ø§Ù‚, Ø§Ø±Ø³Ù„Ø§Ù† Ù\\x81ØµÛŒØ\\xadÛŒ, Ù…Ø\\xadÙ…Ø¯ Ø¯Ø±ÙˆÙŠØ´',\n",
       "       'Author_Elizabeth Gaskell, Alan Shelston',\n",
       "       'Author_Elizabeth Gilbert', 'Author_Elizabeth Strout',\n",
       "       'Author_Ellen DeGeneres',\n",
       "       'Author_Emily Dickinson, Thomas H. Johnson', 'Author_Emily Giffin',\n",
       "       'Author_Emma Cline', 'Author_Emmuska Orczy', 'Author_Eoin Colfer',\n",
       "       'Author_Eowyn Ivey', 'Author_Eric Ries', 'Author_Ernest Hemingway',\n",
       "       'Author_Esphyr Slobodkina', 'Author_Evelyn Waugh',\n",
       "       'Author_Ezra Jack Keats', 'Author_F. Scott Fitzgerald',\n",
       "       'Author_Faye Perozich, Anne Rice, John Bolton, Daerick GrÃ¶ss',\n",
       "       'Author_Frances Hodgson Burnett, Nancy Bond',\n",
       "       'Author_Frank E. Peretti', 'Author_Frank Herbert',\n",
       "       \"Author_Frank Miller, David Mazzucchelli, Richmond Lewis, Dennis O'Neil\",\n",
       "       'Author_Frank Miller, Klaus Janson, Lynn Varley',\n",
       "       'Author_Frank Warren',\n",
       "       'Author_Franz Kafka, Edwin Muir, Willa Muir, Max Brod',\n",
       "       'Author_Friedrich Nietzsche, Walter Kaufmann',\n",
       "       'Author_Fyodor Dostoyevsky, Andrew R. MacAndrew, Ben Marcus',\n",
       "       'Author_Gabrielle Zevin', 'Author_Garth Nix',\n",
       "       'Author_Gaston Leroux, Alexander Teixeira de Mattos',\n",
       "       'Author_Geoffrey Chaucer, Nevill Coghill',\n",
       "       'Author_George Eliot, Michel Faber', 'Author_George R.R. Martin',\n",
       "       'Author_Geraldine Brooks',\n",
       "       'Author_Gertrude Chandler Warner, L. Kate Deal',\n",
       "       'Author_Graeme Simsion', 'Author_Gregory David Roberts',\n",
       "       'Author_Gretchen Rubin',\n",
       "       'Author_Gustave Flaubert, Margaret Mauldon, Malcolm Bowie, Mark Overstall',\n",
       "       'Author_H.A. Rey', 'Author_H.G. Wells',\n",
       "       'Author_H.G. Wells, Arthur C. Clarke',\n",
       "       'Author_Hajime Isayama, Sheldon Drzka',\n",
       "       'Author_Hans Christian Andersen, Lily Owens, Arthur Rackham, Hans Richter',\n",
       "       'Author_Hanya Yanagihara', 'Author_Harriet Beecher Stowe',\n",
       "       'Author_Harry Allard, James  Marshall',\n",
       "       'Author_Haruki Murakami, Alfred Birnbaum',\n",
       "       'Author_Haruki Murakami, Jay Rubin',\n",
       "       'Author_Haruki Murakami, Jay Rubin, Philip Gabriel',\n",
       "       'Author_Haruki Murakami, Philip Gabriel', 'Author_Helen Fielding',\n",
       "       'Author_Helen Keller', 'Author_Helen Simonson',\n",
       "       'Author_Helene Wecker', 'Author_Henrik Ibsen, Michael   Meyer',\n",
       "       'Author_Henry David Thoreau', 'Author_Herman Koch, Sam Garrett',\n",
       "       'Author_Hermann Hesse, Basil Creighton', 'Author_Hilary Mantel',\n",
       "       'Author_Hiro Mashima, William Flanagan',\n",
       "       'Author_Hiromu Arakawa, Akira Watanabe', 'Author_Howard Zinn',\n",
       "       'Author_Hugh Howey', 'Author_Ira Levin',\n",
       "       'Author_Irma S. Rombauer, Marion Rombauer Becker, Ethan Becker',\n",
       "       'Author_Irvine Welsh, Eric Lindor Fall',\n",
       "       'Author_Irving Stone, ×©×ž×•×\\x90×œ ×©×\\xa0×™×¦×¨',\n",
       "       'Author_Isaac Asimov', 'Author_Isaac Marion',\n",
       "       'Author_Isabel Allende, Magda Bogin',\n",
       "       'Author_Isabel Allende, Margaret Sayers Peden',\n",
       "       'Author_Ishmael Beah', 'Author_J. Lynn, Jennifer L. Armentrout',\n",
       "       'Author_J.A. Redmerski', 'Author_J.D. Robb',\n",
       "       'Author_J.D. Salinger', 'Author_J.D. Vance', 'Author_J.M. Coetzee',\n",
       "       'Author_J.R. Ward', 'Author_J.R.R. Tolkien', 'Author_Jack Kerouac',\n",
       "       'Author_Jack London',\n",
       "       'Author_Jacob Grimm, Wilhelm Grimm, Josef Scharl, Padraic Colum, Joseph Campbell, Margaret Raine Hunt, James Stern',\n",
       "       'Author_James A. Michener', 'Author_James C. Collins',\n",
       "       'Author_James Clavell', 'Author_James Dashner',\n",
       "       'Author_James Fenimore Cooper', 'Author_James Herriot',\n",
       "       'Author_James Joyce', 'Author_James Joyce, Jeri Johnson',\n",
       "       'Author_James Patterson', 'Author_James Patterson, Andrew Gross',\n",
       "       'Author_James Patterson, Peter de Jonge', 'Author_James Redfield',\n",
       "       'Author_James S.A. Corey', 'Author_Jane Green',\n",
       "       'Author_Janell Cannon', 'Author_Janet Evanovich',\n",
       "       'Author_Janet Evanovich, Lorelei King', 'Author_Jasper Fforde',\n",
       "       'Author_Jaycee Dugard', 'Author_Jeff Kinney',\n",
       "       'Author_Jeff Smith, Steve Hamaker', 'Author_Jeffery Deaver',\n",
       "       'Author_Jeffrey Eugenides', 'Author_Jennifer Crusie',\n",
       "       'Author_Jennifer E. Smith', 'Author_Jennifer L. Armentrout',\n",
       "       'Author_Jennifer Niven, Ù\\x81Ø±Ø§Ù†Ú© Ù…Ø¹Ù†ÙˆÛŒ',\n",
       "       'Author_Jennifer Weiner', 'Author_Jenny Han',\n",
       "       'Author_Jerry Spinelli', 'Author_Jess Walter',\n",
       "       'Author_Jessica Knoll', 'Author_Jessica Sorensen',\n",
       "       'Author_Jessie Burton', 'Author_Jhumpa Lahiri',\n",
       "       'Author_Jim Butcher', 'Author_Jim Fergus', 'Author_Joan Didion',\n",
       "       'Author_Joanne Harris', 'Author_Jodi Ellen Malpas',\n",
       "       'Author_Jodi Picoult', 'Author_Joe Abercrombie',\n",
       "       'Author_Joe Haldeman', 'Author_Joe Hill',\n",
       "       'Author_Johann David Wyss, Scott McKowen, Arthur Pober',\n",
       "       'Author_Johanna Spyri, Angelo  Rinaldi, Beverly Cleary',\n",
       "       'Author_John Berendt', 'Author_John Flanagan', 'Author_John Gray',\n",
       "       'Author_John Green, Maureen Johnson, Lauren Myracle',\n",
       "       'Author_John Grisham', 'Author_John Irving', 'Author_John Knowles',\n",
       "       'Author_John Milton, John      Leonard', 'Author_John Steinbeck',\n",
       "       'Author_Jojo Moyes', 'Author_Jon Krakauer', 'Author_Jon Ronson',\n",
       "       'Author_Jon Scieszka, Lane Smith',\n",
       "       'Author_Jon Stewart, Ben Karlin, David Javerbaum, Rich Bloomquist, Steve Bodow, Tim Carvell, Eric Drysdale, J.R. Havlan, Scott Jacobson, Tom Johnson, Rob Kutner, Chris Regan, Jason Reich, Jason Ross, Stephen Colbert, Samantha Bee, Rob Corddry, Brendan Hay, Ed Helms',\n",
       "       'Author_Jonathan Franzen', 'Author_Jonathan Stroud',\n",
       "       'Author_Jonathan Tropper',\n",
       "       'Author_Jostein Gaarder, Paulette MÃ¸ller',\n",
       "       'Author_JosÃ© Saramago, Giovanni Pontiero',\n",
       "       'Author_Joyce Carol Oates', 'Author_Judi Barrett, Ron Barrett',\n",
       "       'Author_Judith Viorst, Ray Cruz', 'Author_Judy Blume',\n",
       "       'Author_Jules Verne, Michael Glencross, Brian W. Aldiss',\n",
       "       \"Author_Julia Child, Alex Prud'Homme\", 'Author_Julian Barnes',\n",
       "       'Author_Julie Kagawa', 'Author_Julie Powell', 'Author_Jung Chang',\n",
       "       'Author_Junot DÃ\\xadaz', 'Author_Justin Cronin',\n",
       "       'Author_Justin Halpern', 'Author_Kami Garcia, Margaret Stohl',\n",
       "       'Author_Kami Garcia, Margaret Stohl, Paz Pruneda',\n",
       "       'Author_Karen Thompson Walker', 'Author_Karin Slaughter',\n",
       "       'Author_Karl Marx, Friedrich Engels, Gareth Stedman Jones',\n",
       "       'Author_Kate Atkinson', 'Author_Kate Chopin',\n",
       "       'Author_Kate DiCamillo, Chris Sheban', 'Author_Kate Morton',\n",
       "       'Author_Katherine Applegate, Patricia Castelao',\n",
       "       'Author_Katherine Boo', 'Author_Kathy Reichs',\n",
       "       'Author_Katie McGarry', 'Author_Kazuo Ishiguro',\n",
       "       'Author_Keith Richards', 'Author_Kelley Armstrong',\n",
       "       'Author_Ken Follett',\n",
       "       'Author_Kenneth H. Blanchard, Spencer Johnson',\n",
       "       'Author_Kennilworthy Whisp, J.K. Rowling', 'Author_Kiera Cass',\n",
       "       'Author_Kim Harrison', 'Author_Kimberly McCreight',\n",
       "       'Author_Kody Keplinger', 'Author_Kristin Cashore',\n",
       "       'Author_Kristin Hannah', 'Author_Kurt Vonnegut Jr.',\n",
       "       'Author_L.M. Montgomery', 'Author_Laini Taylor',\n",
       "       'Author_Larry Niven',\n",
       "       'Author_Laura Ingalls Wilder, Garth Williams',\n",
       "       'Author_Laurell K. Hamilton', 'Author_Lauren DeStefano',\n",
       "       'Author_Lauren Kate', 'Author_Lauren Weisberger',\n",
       "       'Author_Laurie Halse Anderson', 'Author_Lee Child',\n",
       "       'Author_Lee Strobel', 'Author_Leigh Bardugo',\n",
       "       'Author_Lemony Snicket, Brett Helquist',\n",
       "       'Author_Lena Dunham, Joana Avillez', 'Author_Lev Grossman',\n",
       "       'Author_Liane Moriarty', 'Author_Libba Bray', 'Author_Lisa See',\n",
       "       'Author_Lois Lowry', 'Author_Louise Rennison',\n",
       "       'Author_Ludwig Bemelmans', 'Author_Lynne Reid Banks',\n",
       "       'Author_M.R. Carey', \"Author_Madeleine L'Engle\",\n",
       "       'Author_Maggie Stiefvater', 'Author_Malcolm Gladwell',\n",
       "       'Author_Malcolm X, Alex Haley',\n",
       "       'Author_Marcus Luttrell, Patrick Robinson',\n",
       "       'Author_Margaret Atwood', 'Author_Margaret Peterson Haddix',\n",
       "       'Author_Margaret Weis, Tracy Hickman',\n",
       "       'Author_Margery Williams Bianco, William   Nicholson',\n",
       "       'Author_Maria V. Snyder', 'Author_Marie KondÅ\\x8d, Cathy Hirano',\n",
       "       'Author_Marie Lu', 'Author_Marion Zimmer Bradley',\n",
       "       'Author_Marissa Meyer', 'Author_Marjane Satrapi, Mattias Ripa',\n",
       "       'Author_Marjane Satrapi, Mattias Ripa, Blake Ferris, Anjali Singh',\n",
       "       'Author_Markus Zusak', 'Author_Mary Kubica', 'Author_Mary Roach',\n",
       "       'Author_Matthew Quick', 'Author_Meg Wolitzer',\n",
       "       'Author_Melissa Bank', 'Author_Melissa Marr',\n",
       "       'Author_Melissa de la Cruz', 'Author_Michael   Lewis',\n",
       "       'Author_Michael  Grant', 'Author_Michael Connelly',\n",
       "       'Author_Michael Crichton', 'Author_Michael Cunningham',\n",
       "       'Author_Michael Ende, Ralph Manheim, Roswitha Quadflieg',\n",
       "       'Author_Michael Ondaatje', 'Author_Michael Pollan',\n",
       "       'Author_Michael Scott', 'Author_Michael Shaara',\n",
       "       'Author_Michelle Hodkin', 'Author_Miguel Ruiz',\n",
       "       'Author_Miguel de Cervantes Saavedra, Roberto GonzÃ¡lez EchevarrÃ\\xada, John Rutherford',\n",
       "       'Author_Mildred D. Taylor', 'Author_Mindy Kaling',\n",
       "       'Author_Mitch Albom', 'Author_Napoleon Hill',\n",
       "       'Author_Nassim Nicholas Taleb', 'Author_Nathaniel Philbrick',\n",
       "       'Author_Natsuki Takaya, Alethea Nibley, Athena Nibley',\n",
       "       'Author_Neal Shusterman', 'Author_Neal Stephenson',\n",
       "       'Author_Ned Vizzini', 'Author_Neil Gaiman',\n",
       "       'Author_Neil Gaiman, Kelley Jones, Charles Vess, Colleen Doran, Malcolm Jones III, Steve Erickson',\n",
       "       'Author_Neil Gaiman, Sam Kieth, Mike Dringenberg, Malcolm Jones III, Todd Klein, Karen  Berger',\n",
       "       'Author_Nicholas Sparks', 'Author_Nick Hornby',\n",
       "       'Author_Nicola Yoon, David Yoon', 'Author_Nicole Krauss',\n",
       "       'Author_Nora Roberts', 'Author_Norman Vincent Peale',\n",
       "       'Author_Oliver Sacks', 'Author_Orson Scott Card',\n",
       "       'Author_P.C. Cast, Kristin Cast', 'Author_P.D. Eastman',\n",
       "       'Author_P.D. James', 'Author_Patrick Ness',\n",
       "       'Author_Patrick Ness, Jim Kay, Siobhan Dowd',\n",
       "       'Author_Patrick Rothfuss, Nate  Taylor', 'Author_Patti Smith',\n",
       "       'Author_Paulo Coelho', 'Author_Paulo Coelho, Alan R. Clarke',\n",
       "       'Author_Paulo Coelho, Margaret Jull Costa',\n",
       "       'Author_Peggy Parish, Fritz Siebel', 'Author_Peter S. Beagle',\n",
       "       'Author_Peter V. Brett', 'Author_Philip K. Dick',\n",
       "       'Author_Philippa Gregory', 'Author_Pierce Brown',\n",
       "       'Author_Plato, Desmond Lee', 'Author_Rachel Cohn, David Levithan',\n",
       "       'Author_Rainbow Rowell', 'Author_Ralph Ellison',\n",
       "       'Author_Randall Munroe', 'Author_Ray Bradbury',\n",
       "       'Author_Raymond E. Feist', 'Author_Richard   Preston',\n",
       "       'Author_Richard Bach, Russell Munson',\n",
       "       'Author_Richard Bachman, Stephen King', 'Author_Richard Carlson',\n",
       "       'Author_Richard Feynman', 'Author_Richard Matheson',\n",
       "       'Author_Richard Wright', 'Author_Richard Yates',\n",
       "       'Author_Richelle Mead', 'Author_Rick Riordan',\n",
       "       'Author_Rick Yancey', 'Author_Roald Dahl, Quentin Blake',\n",
       "       'Author_Robert A. Heinlein', \"Author_Robert C. O'Brien\",\n",
       "       'Author_Robert Galbraith, J.K. Rowling', 'Author_Robert Jordan',\n",
       "       'Author_Robert Jordan, Brandon Sanderson',\n",
       "       'Author_Robert K. Massie', 'Author_Robert Kirkman',\n",
       "       'Author_Robert Louis Stevenson, Robert Mighall',\n",
       "       'Author_Robert M. Pirsig', 'Author_Robert Munsch, Sheila McGraw',\n",
       "       'Author_Robin Hobb', 'Author_Robin S. Sharma',\n",
       "       'Author_Rohinton Mistry', 'Author_Ronald Holt, Arthur Conan Doyle',\n",
       "       'Author_Rosamunde Pilcher', 'Author_Rudyard Kipling',\n",
       "       'Author_Ruth Ware', 'Author_S.C. Stephens', 'Author_Sabaa Tahir',\n",
       "       'Author_Salman Rushdie', 'Author_Sam McBratney, Anita Jeram',\n",
       "       'Author_Samuel Beckett', 'Author_Sara Shepard',\n",
       "       'Author_Sarah Dessen', 'Author_Sarah Dunant',\n",
       "       'Author_Sarah J. Maas', 'Author_Scott Lynch',\n",
       "       'Author_Scott McCloud', 'Author_Scott Turow',\n",
       "       'Author_Scott Westerfeld', 'Author_Sebastian Junger',\n",
       "       'Author_Seth Grahame-Smith, Jane Austen', 'Author_Shannon Hale',\n",
       "       'Author_Sharon Creech', 'Author_Simon Winchester',\n",
       "       'Author_Solomon Northup', 'Author_Sophie Kinsella',\n",
       "       'Author_Sophocles, J.E. Thomas', 'Author_Stacy Schiff',\n",
       "       'Author_Stephanie Perkins', 'Author_Stephen Crane',\n",
       "       'Author_Stephen E. Ambrose', 'Author_Stephen King',\n",
       "       'Author_Stephen King, Bernie Wrightson',\n",
       "       'Author_Stephen King, Bettina Blanch Tyroller',\n",
       "       'Author_Stephen King, Darrel Anderson',\n",
       "       'Author_Stephen King, Dave McKean',\n",
       "       'Author_Stephen King, Dominique Dill',\n",
       "       'Author_Stephen King, Jerry N. Uelsmann',\n",
       "       'Author_Stephen King, Marie Milpois',\n",
       "       'Author_Stephen King, Ned Dameron',\n",
       "       'Author_Stephen King, Peter Straub',\n",
       "       'Author_Stephen King, William Olivier Desmond',\n",
       "       'Author_Stephenie Meyer', 'Author_Steve Martin',\n",
       "       'Author_Steven D. Levitt, Stephen J. Dubner',\n",
       "       'Author_Steven Erikson', 'Author_Sue Monk Kidd',\n",
       "       'Author_Susan Beth Pfeffer', 'Author_Susanna Clarke',\n",
       "       'Author_Sylvain Reynard', 'Author_Sylvia Day',\n",
       "       'Author_Sylvia Nasar', 'Author_T.H. White',\n",
       "       'Author_Ta-Nehisi Coates', 'Author_Tahereh Mafi',\n",
       "       'Author_Tammara Webber', 'Author_Tana French',\n",
       "       'Author_Tennessee Williams', 'Author_Terry Goodkind',\n",
       "       'Author_Terry Pratchett',\n",
       "       'Author_Thomas Hardy, Rosemarie Morgan, Shannon Russell',\n",
       "       'Author_Thomas Hardy, Tim Dolin, Margaret R. Higonnet',\n",
       "       'Author_Thomas Keneally', 'Author_Timothy Ferriss',\n",
       "       'Author_Tite Kubo', 'Author_Tom Clancy', 'Author_Tom Robbins',\n",
       "       'Author_Tom Stoppard, Henry Popkin', 'Author_Toni Morrison',\n",
       "       'Author_Travis Bradberry, Jean Greaves, Patrick Lencioni',\n",
       "       'Author_Trenton Lee Stewart, Carson Ellis', 'Author_Truman Capote',\n",
       "       'Author_Tsugumi Ohba, Takeshi Obata', 'Author_TÃ©a Obreht',\n",
       "       'Author_Unknown, Seamus Heaney',\n",
       "       'Author_Upton Sinclair, Earl Lee, Kathleen DeGrave',\n",
       "       'Author_Ursula K. Le Guin', 'Author_V.C. Andrews',\n",
       "       'Author_Vanessa Diffenbaugh', 'Author_Veronica Rossi',\n",
       "       'Author_Veronica Roth', 'Author_Victor Hugo, Walter J. Cobb',\n",
       "       'Author_Vincent Bugliosi, Curt Gentry',\n",
       "       'Author_Virgil, Robert Fitzgerald',\n",
       "       'Author_Virginia Woolf, Maureen Howard', 'Author_Voltaire',\n",
       "       'Author_W. Bruce Cameron', 'Author_Walter Isaacson',\n",
       "       'Author_Walter M. Miller Jr.',\n",
       "       'Author_Watty Piper, Doris Hauman, George Hauman',\n",
       "       'Author_Wendelin Van Draanen', 'Author_William Faulkner',\n",
       "       'Author_William L. Shirer',\n",
       "       'Author_William Makepeace Thackeray, John Carey',\n",
       "       'Author_William Peter Blatty',\n",
       "       'Author_William S. Burroughs, James Grauerholz, Barry  Miles',\n",
       "       'Author_William Shakespeare',\n",
       "       'Author_William Shakespeare, Robert          Jackson, Barbara A. Mowat, Paul Werstine',\n",
       "       'Author_William Shakespeare, Roma Gill', 'Author_William Styron',\n",
       "       'Author_Yana Toboso, Tomo Kimura', 'Author_Zadie Smith',\n",
       "       'Author_Ø£Ø\\xadÙ„Ø§Ù… Ù…Ø³ØªØºØ§Ù†Ù…ÙŠ, Ahlam Mosteghanemi',\n",
       "       'language_code_ara', 'language_code_en-CA', 'language_code_en-GB',\n",
       "       'language_code_en-US', 'language_code_eng', 'language_code_fre',\n",
       "       'language_code_spa', 'genre_children', 'genre_fiction',\n",
       "       'genre_genre fiction', 'genre_nonfiction',\n",
       "       'Publisher_Amazon Digital Services,  Inc.',\n",
       "       'Publisher_Hachette Book Group',\n",
       "       'Publisher_HarperCollins Christian Publishing',\n",
       "       'Publisher_HarperCollins Publishers', 'Publisher_Macmillan',\n",
       "       'Publisher_Penguin Group (USA) LLC', 'Publisher_Random House LLC',\n",
       "       'Publisher_Simon and Schuster Digital Sales Inc'], dtype=object)"
      ]
     },
     "execution_count": 108,
     "metadata": {},
     "output_type": "execute_result"
    }
   ],
   "source": [
    "cat_names  # Можно посмотреть, что скрывается за индексами"
   ]
  },
  {
   "cell_type": "code",
   "execution_count": 109,
   "id": "55b650b2",
   "metadata": {},
   "outputs": [
    {
     "name": "stdout",
     "output_type": "stream",
     "text": [
      "r2 на тренировочной выборке: 0.3659\n",
      "r2 на валидационной выборке: 0.2358\n",
      "mse на тренировочной выборке: 8437813.7933\n",
      "mse на валидационной выборке: 15725371.8952\n",
      "rmse на тренировочной выборке: 2904.7915\n",
      "rmse на валидационной выборке: 3965.5229\n"
     ]
    }
   ],
   "source": [
    "print(f\"r2 на тренировочной выборке: {calculate_metric(pipe_all_transform, X_train, y_train):.4f}\")\n",
    "print(f\"r2 на валидационной выборке: {calculate_metric(pipe_all_transform, X_val, y_val):.4f}\")\n",
    "\n",
    "print(f\"mse на тренировочной выборке: {calculate_metric(pipe_all_transform, X_train, y_train, mse):.4f}\")\n",
    "print(f\"mse на валидационной выборке: {calculate_metric(pipe_all_transform, X_val, y_val, mse):.4f}\")\n",
    "\n",
    "print(f\"rmse на тренировочной выборке: {calculate_metric(pipe_all_transform, X_train, y_train, mse, squared = False):.4f}\")\n",
    "print(f\"rmse на валидационной выборке: {calculate_metric(pipe_all_transform, X_val, y_val, mse, squared = False):.4f}\")"
   ]
  },
  {
   "cell_type": "code",
   "execution_count": 110,
   "id": "335b3057",
   "metadata": {},
   "outputs": [
    {
     "name": "stdout",
     "output_type": "stream",
     "text": [
      "Ошибка на кросс-валидации\n"
     ]
    },
    {
     "data": {
      "text/html": [
       "<div>\n",
       "<style scoped>\n",
       "    .dataframe tbody tr th:only-of-type {\n",
       "        vertical-align: middle;\n",
       "    }\n",
       "\n",
       "    .dataframe tbody tr th {\n",
       "        vertical-align: top;\n",
       "    }\n",
       "\n",
       "    .dataframe thead th {\n",
       "        text-align: right;\n",
       "    }\n",
       "</style>\n",
       "<table border=\"1\" class=\"dataframe\">\n",
       "  <thead>\n",
       "    <tr style=\"text-align: right;\">\n",
       "      <th></th>\n",
       "      <th>fit_time</th>\n",
       "      <th>score_time</th>\n",
       "      <th>test_R2</th>\n",
       "      <th>test_-MSE</th>\n",
       "      <th>test_-MAE</th>\n",
       "      <th>test_-Max</th>\n",
       "    </tr>\n",
       "  </thead>\n",
       "  <tbody>\n",
       "    <tr>\n",
       "      <th>0</th>\n",
       "      <td>0.057997</td>\n",
       "      <td>0.009000</td>\n",
       "      <td>0.057644</td>\n",
       "      <td>-1.900083e+07</td>\n",
       "      <td>-1309.349245</td>\n",
       "      <td>-32172.312990</td>\n",
       "    </tr>\n",
       "    <tr>\n",
       "      <th>1</th>\n",
       "      <td>0.055000</td>\n",
       "      <td>0.010002</td>\n",
       "      <td>0.059302</td>\n",
       "      <td>-9.922863e+06</td>\n",
       "      <td>-1063.668802</td>\n",
       "      <td>-16929.614654</td>\n",
       "    </tr>\n",
       "    <tr>\n",
       "      <th>2</th>\n",
       "      <td>0.057998</td>\n",
       "      <td>0.009000</td>\n",
       "      <td>0.385735</td>\n",
       "      <td>-1.099038e+07</td>\n",
       "      <td>-1156.109806</td>\n",
       "      <td>-17434.680549</td>\n",
       "    </tr>\n",
       "    <tr>\n",
       "      <th>3</th>\n",
       "      <td>0.056008</td>\n",
       "      <td>0.009992</td>\n",
       "      <td>0.508679</td>\n",
       "      <td>-4.688288e+06</td>\n",
       "      <td>-768.076861</td>\n",
       "      <td>-15423.344349</td>\n",
       "    </tr>\n",
       "    <tr>\n",
       "      <th>4</th>\n",
       "      <td>0.056000</td>\n",
       "      <td>0.010000</td>\n",
       "      <td>0.540948</td>\n",
       "      <td>-7.165074e+06</td>\n",
       "      <td>-1005.513285</td>\n",
       "      <td>-14859.425054</td>\n",
       "    </tr>\n",
       "  </tbody>\n",
       "</table>\n",
       "</div>"
      ],
      "text/plain": [
       "   fit_time  score_time   test_R2     test_-MSE    test_-MAE     test_-Max\n",
       "0  0.057997    0.009000  0.057644 -1.900083e+07 -1309.349245 -32172.312990\n",
       "1  0.055000    0.010002  0.059302 -9.922863e+06 -1063.668802 -16929.614654\n",
       "2  0.057998    0.009000  0.385735 -1.099038e+07 -1156.109806 -17434.680549\n",
       "3  0.056008    0.009992  0.508679 -4.688288e+06  -768.076861 -15423.344349\n",
       "4  0.056000    0.010000  0.540948 -7.165074e+06 -1005.513285 -14859.425054"
      ]
     },
     "metadata": {},
     "output_type": "display_data"
    },
    {
     "name": "stdout",
     "output_type": "stream",
     "text": [
      "\n",
      "\n",
      "test_R2      3.104619e-01\n",
      "test_-MSE   -1.035349e+07\n",
      "test_-MAE   -1.060544e+03\n",
      "test_-Max   -1.936388e+04\n",
      "dtype: float64\n"
     ]
    }
   ],
   "source": [
    "cross_validation (X_train, y_train,\n",
    "                  pipe_all_transform,\n",
    "                  scoring_reg,\n",
    "                  ShuffleSplit(n_splits=5, random_state = 73))"
   ]
  },
  {
   "cell_type": "code",
   "execution_count": 111,
   "id": "7ffa3fa3",
   "metadata": {},
   "outputs": [
    {
     "data": {
      "image/png": "[encoded data removed]",
      "text/plain": [
       "<Figure size 640x480 with 1 Axes>"
      ]
     },
     "metadata": {},
     "output_type": "display_data"
    }
   ],
   "source": [
    "PredictionErrorDisplay.from_predictions(\n",
    "    y_val,\n",
    "    pipe_all_transform.predict(X_val),\n",
    "    kind=\"actual_vs_predicted\",\n",
    "    scatter_kwargs={\"alpha\": 0.5},\n",
    ");"
   ]
  },
  {
   "cell_type": "markdown",
   "id": "d92f083a",
   "metadata": {},
   "source": [
    "Выводы по модели:\n",
    "\n",
    "* Добавление категориальных признаков улучшает результаты линейной модели (метрика r2 на кроссвалидации 0.74 против 0.58)\n",
    "\n",
    "* Результаты так явно не кластеризуются\n",
    "\n",
    "* Предсказание дорогих ноутбуков немного улучшилось, в предсказании средних по цене все еще проблема.\n",
    "\n",
    "* Наиболее значимыми оказались числовые признаки: объем накопителя и оперативной памяти.\n",
    "\n"
   ]
  }
 ],
 "metadata": {
  "kernelspec": {
   "display_name": "Python 3 (ipykernel)",
   "language": "python",
   "name": "python3"
  },
  "language_info": {
   "codemirror_mode": {
    "name": "ipython",
    "version": 3
   },
   "file_extension": ".py",
   "mimetype": "text/x-python",
   "name": "python",
   "nbconvert_exporter": "python",
   "pygments_lexer": "ipython3",
   "version": "3.12.2"
  }
 },
 "nbformat": 4,
 "nbformat_minor": 5
}
