{
 "cells": [
  {
   "cell_type": "markdown",
   "id": "75245275",
   "metadata": {},
   "source": [
    "# Линейная регрессия\n",
    "\n",
    "**Выполнил Мелехин Николай Сергеевич**"
   ]
  },
  {
   "cell_type": "markdown",
   "id": "153830d1",
   "metadata": {},
   "source": [
    "Решение задачи регрессии в scikit-learn с помощью линейной модели - линейная регрессия\n",
    "\n",
    "- Обучение класса SGDRegressor и анализ атрибутов\n",
    "- Анализ модели для разных данных\n",
    "- Предобразование целевой переменной с помощью класса TransformedTargetRegressor\n",
    "- Сохранение модели"
   ]
  },
  {
   "cell_type": "markdown",
   "id": "663adcbd",
   "metadata": {},
   "source": [
    "## Установка и импорт библиотек"
   ]
  },
  {
   "cell_type": "code",
   "execution_count": 1,
   "id": "069d9e52",
   "metadata": {},
   "outputs": [
    {
     "name": "stdout",
     "output_type": "stream",
     "text": [
      "Requirement already satisfied: pandas in c:\\users\\acer\\appdata\\local\\programs\\python\\python312\\lib\\site-packages (2.2.1)\n",
      "Requirement already satisfied: numpy<2,>=1.26.0 in c:\\users\\acer\\appdata\\local\\programs\\python\\python312\\lib\\site-packages (from pandas) (1.26.4)\n",
      "Requirement already satisfied: python-dateutil>=2.8.2 in c:\\users\\acer\\appdata\\local\\programs\\python\\python312\\lib\\site-packages (from pandas) (2.9.0.post0)\n",
      "Requirement already satisfied: pytz>=2020.1 in c:\\users\\acer\\appdata\\local\\programs\\python\\python312\\lib\\site-packages (from pandas) (2024.1)\n",
      "Requirement already satisfied: tzdata>=2022.7 in c:\\users\\acer\\appdata\\local\\programs\\python\\python312\\lib\\site-packages (from pandas) (2024.1)\n",
      "Requirement already satisfied: six>=1.5 in c:\\users\\acer\\appdata\\local\\programs\\python\\python312\\lib\\site-packages (from python-dateutil>=2.8.2->pandas) (1.16.0)\n",
      "Note: you may need to restart the kernel to use updated packages.\n",
      "Requirement already satisfied: numpy in c:\\users\\acer\\appdata\\local\\programs\\python\\python312\\lib\\site-packages (1.26.4)\n",
      "Note: you may need to restart the kernel to use updated packages.\n",
      "Requirement already satisfied: matplotlib in c:\\users\\acer\\appdata\\local\\programs\\python\\python312\\lib\\site-packages (3.8.4)Note: you may need to restart the kernel to use updated packages.\n",
      "\n",
      "Requirement already satisfied: contourpy>=1.0.1 in c:\\users\\acer\\appdata\\local\\programs\\python\\python312\\lib\\site-packages (from matplotlib) (1.2.1)\n",
      "Requirement already satisfied: cycler>=0.10 in c:\\users\\acer\\appdata\\local\\programs\\python\\python312\\lib\\site-packages (from matplotlib) (0.12.1)\n",
      "Requirement already satisfied: fonttools>=4.22.0 in c:\\users\\acer\\appdata\\local\\programs\\python\\python312\\lib\\site-packages (from matplotlib) (4.51.0)\n",
      "Requirement already satisfied: kiwisolver>=1.3.1 in c:\\users\\acer\\appdata\\local\\programs\\python\\python312\\lib\\site-packages (from matplotlib) (1.4.5)\n",
      "Requirement already satisfied: numpy>=1.21 in c:\\users\\acer\\appdata\\local\\programs\\python\\python312\\lib\\site-packages (from matplotlib) (1.26.4)\n",
      "Requirement already satisfied: packaging>=20.0 in c:\\users\\acer\\appdata\\local\\programs\\python\\python312\\lib\\site-packages (from matplotlib) (24.0)\n",
      "Requirement already satisfied: pillow>=8 in c:\\users\\acer\\appdata\\local\\programs\\python\\python312\\lib\\site-packages (from matplotlib) (10.3.0)\n",
      "Requirement already satisfied: pyparsing>=2.3.1 in c:\\users\\acer\\appdata\\local\\programs\\python\\python312\\lib\\site-packages (from matplotlib) (3.1.2)\n",
      "Requirement already satisfied: python-dateutil>=2.7 in c:\\users\\acer\\appdata\\local\\programs\\python\\python312\\lib\\site-packages (from matplotlib) (2.9.0.post0)\n",
      "Requirement already satisfied: six>=1.5 in c:\\users\\acer\\appdata\\local\\programs\\python\\python312\\lib\\site-packages (from python-dateutil>=2.7->matplotlib) (1.16.0)\n",
      "Requirement already satisfied: plotly in c:\\users\\acer\\appdata\\local\\programs\\python\\python312\\lib\\site-packages (5.22.0)Note: you may need to restart the kernel to use updated packages.\n",
      "\n",
      "Requirement already satisfied: tenacity>=6.2.0 in c:\\users\\acer\\appdata\\local\\programs\\python\\python312\\lib\\site-packages (from plotly) (8.3.0)\n",
      "Requirement already satisfied: packaging in c:\\users\\acer\\appdata\\local\\programs\\python\\python312\\lib\\site-packages (from plotly) (24.0)\n",
      "Requirement already satisfied: seaborn in c:\\users\\acer\\appdata\\local\\programs\\python\\python312\\lib\\site-packages (0.13.2)\n",
      "Requirement already satisfied: numpy!=1.24.0,>=1.20 in c:\\users\\acer\\appdata\\local\\programs\\python\\python312\\lib\\site-packages (from seaborn) (1.26.4)\n",
      "Requirement already satisfied: pandas>=1.2 in c:\\users\\acer\\appdata\\local\\programs\\python\\python312\\lib\\site-packages (from seaborn) (2.2.1)\n",
      "Requirement already satisfied: matplotlib!=3.6.1,>=3.4 in c:\\users\\acer\\appdata\\local\\programs\\python\\python312\\lib\\site-packages (from seaborn) (3.8.4)\n",
      "Requirement already satisfied: contourpy>=1.0.1 in c:\\users\\acer\\appdata\\local\\programs\\python\\python312\\lib\\site-packages (from matplotlib!=3.6.1,>=3.4->seaborn) (1.2.1)\n",
      "Requirement already satisfied: cycler>=0.10 in c:\\users\\acer\\appdata\\local\\programs\\python\\python312\\lib\\site-packages (from matplotlib!=3.6.1,>=3.4->seaborn) (0.12.1)\n",
      "Requirement already satisfied: fonttools>=4.22.0 in c:\\users\\acer\\appdata\\local\\programs\\python\\python312\\lib\\site-packages (from matplotlib!=3.6.1,>=3.4->seaborn) (4.51.0)\n",
      "Requirement already satisfied: kiwisolver>=1.3.1 in c:\\users\\acer\\appdata\\local\\programs\\python\\python312\\lib\\site-packages (from matplotlib!=3.6.1,>=3.4->seaborn) (1.4.5)\n",
      "Requirement already satisfied: packaging>=20.0 in c:\\users\\acer\\appdata\\local\\programs\\python\\python312\\lib\\site-packages (from matplotlib!=3.6.1,>=3.4->seaborn) (24.0)\n",
      "Requirement already satisfied: pillow>=8 in c:\\users\\acer\\appdata\\local\\programs\\python\\python312\\lib\\site-packages (from matplotlib!=3.6.1,>=3.4->seaborn) (10.3.0)\n",
      "Requirement already satisfied: pyparsing>=2.3.1 in c:\\users\\acer\\appdata\\local\\programs\\python\\python312\\lib\\site-packages (from matplotlib!=3.6.1,>=3.4->seaborn) (3.1.2)\n",
      "Requirement already satisfied: python-dateutil>=2.7 in c:\\users\\acer\\appdata\\local\\programs\\python\\python312\\lib\\site-packages (from matplotlib!=3.6.1,>=3.4->seaborn) (2.9.0.post0)\n",
      "Requirement already satisfied: pytz>=2020.1 in c:\\users\\acer\\appdata\\local\\programs\\python\\python312\\lib\\site-packages (from pandas>=1.2->seaborn) (2024.1)\n",
      "Requirement already satisfied: tzdata>=2022.7 in c:\\users\\acer\\appdata\\local\\programs\\python\\python312\\lib\\site-packages (from pandas>=1.2->seaborn) (2024.1)\n",
      "Requirement already satisfied: six>=1.5 in c:\\users\\acer\\appdata\\local\\programs\\python\\python312\\lib\\site-packages (from python-dateutil>=2.7->matplotlib!=3.6.1,>=3.4->seaborn) (1.16.0)\n",
      "Note: you may need to restart the kernel to use updated packages.\n",
      "Requirement already satisfied: scikit-learn in c:\\users\\acer\\appdata\\local\\programs\\python\\python312\\lib\\site-packages (1.4.2)\n",
      "Requirement already satisfied: numpy>=1.19.5 in c:\\users\\acer\\appdata\\local\\programs\\python\\python312\\lib\\site-packages (from scikit-learn) (1.26.4)\n",
      "Requirement already satisfied: scipy>=1.6.0 in c:\\users\\acer\\appdata\\local\\programs\\python\\python312\\lib\\site-packages (from scikit-learn) (1.13.0)\n",
      "Requirement already satisfied: joblib>=1.2.0 in c:\\users\\acer\\appdata\\local\\programs\\python\\python312\\lib\\site-packages (from scikit-learn) (1.4.2)\n",
      "Requirement already satisfied: threadpoolctl>=2.0.0 in c:\\users\\acer\\appdata\\local\\programs\\python\\python312\\lib\\site-packages (from scikit-learn) (3.5.0)\n",
      "Note: you may need to restart the kernel to use updated packages.\n"
     ]
    }
   ],
   "source": [
    "%pip install pandas\n",
    "%pip install numpy\n",
    "%pip install matplotlib\n",
    "%pip install plotly\n",
    "%pip install seaborn\n",
    "%pip install scikit-learn"
   ]
  },
  {
   "cell_type": "code",
   "execution_count": 2,
   "id": "3806c607",
   "metadata": {},
   "outputs": [],
   "source": [
    "import pandas as pd # Библиотека Pandas для работы с табличными данными\n",
    "import numpy as np # библиотека Numpy для операций линейной алгебры и прочего\n",
    "import matplotlib.pyplot as plt # библиотека Matplotlib для визуализации\n",
    "import seaborn as sns # библиотека seaborn для визуализации\n",
    "import numpy as np # библиотека Numpy для операций линейной алгебры и прочего\n",
    "import plotly.graph_objects as go # Библиотека Plotly. Модуль \"Graph Objects\"\n",
    "import plotly.express as px # Библиотека Plotly. Модуль \"Express\"\n",
    "\n",
    "# предварительная обработка числовых признаков\n",
    "from sklearn.preprocessing import MinMaxScaler# Импортируем нормализацию от scikit-learn\n",
    "from sklearn.preprocessing import StandardScaler # Импортируем стандартизацию от scikit-learn\n",
    "from sklearn.preprocessing import PowerTransformer  # Степенное преобразование от scikit-learn\n",
    "# предварительная обработка категориальных признаков\n",
    "from sklearn.preprocessing import OneHotEncoder# Импортируем One-Hot Encoding от scikit-learn\n",
    "from sklearn.preprocessing import OrdinalEncoder# Импортируем Порядковое кодированиеот scikit-learn\n",
    "\n",
    "from sklearn.pipeline import Pipeline # Pipeline.Не добавить, не убавить\n",
    "\n",
    "from sklearn.compose import ColumnTransformer # т.н. преобразователь колонок\n",
    "\n",
    "from sklearn.base import BaseEstimator, TransformerMixin # для создания собственных преобразователей / трансформеров данных\n",
    "\n",
    "from sklearn.compose import TransformedTargetRegressor # ддля обрабоки целевой переменной\n",
    "\n",
    "import warnings\n",
    "warnings.filterwarnings('ignore')"
   ]
  },
  {
   "cell_type": "markdown",
   "id": "7540b7db",
   "metadata": {},
   "source": [
    "# Описание датасета"
   ]
  },
  {
   "cell_type": "markdown",
   "id": "a20cdd4c",
   "metadata": {},
   "source": [
    "'index': Индекс записи\n",
    "\n",
    "'Publishing Year': Год когда книга опубликована\n",
    "\n",
    "'Book Name': Название книги\n",
    "\n",
    "'Author': Автор\n",
    "\n",
    "'language_code': Язык книги\n",
    "\n",
    "'Author_Rating': Рейтинг автора\n",
    "\n",
    "'Book_average_rating': Средний рейтинг книги\n",
    "\n",
    "'Book_ratings_count':  Количество данных рейтингов для книги\n",
    "\n",
    "'genre': Жанр\n",
    "\n",
    "'gross sales': Валовой объем продаж\n",
    "\n",
    "'publisher revenue': Прибыль для издателя\n",
    "\n",
    "'sale price':  Цена книги\n",
    "\n",
    "'sales rank': Ранг продаж для книги\n",
    "\n",
    "'Publisher': Издатель\n",
    "\n",
    "'units sold': Количество проданных копий\n",
    "\n",
    "Ссылка на датасет: https://www.kaggle.com/datasets/thedevastator/books-sales-and-ratings\n",
    "\n",
    "Целью данной работы будет нахождением зависимости между различными факторами книги и результативным фактором - валовым объемом продаж."
   ]
  },
  {
   "cell_type": "code",
   "execution_count": 3,
   "id": "b889cc26",
   "metadata": {},
   "outputs": [
    {
     "data": {
      "text/html": [
       "<div>\n",
       "<style scoped>\n",
       "    .dataframe tbody tr th:only-of-type {\n",
       "        vertical-align: middle;\n",
       "    }\n",
       "\n",
       "    .dataframe tbody tr th {\n",
       "        vertical-align: top;\n",
       "    }\n",
       "\n",
       "    .dataframe thead th {\n",
       "        text-align: right;\n",
       "    }\n",
       "</style>\n",
       "<table border=\"1\" class=\"dataframe\">\n",
       "  <thead>\n",
       "    <tr style=\"text-align: right;\">\n",
       "      <th></th>\n",
       "      <th>index</th>\n",
       "      <th>Publishing Year</th>\n",
       "      <th>Book Name</th>\n",
       "      <th>Author</th>\n",
       "      <th>language_code</th>\n",
       "      <th>Author_Rating</th>\n",
       "      <th>Book_average_rating</th>\n",
       "      <th>Book_ratings_count</th>\n",
       "      <th>genre</th>\n",
       "      <th>gross sales</th>\n",
       "      <th>publisher revenue</th>\n",
       "      <th>sale price</th>\n",
       "      <th>sales rank</th>\n",
       "      <th>Publisher</th>\n",
       "      <th>units sold</th>\n",
       "    </tr>\n",
       "  </thead>\n",
       "  <tbody>\n",
       "    <tr>\n",
       "      <th>0</th>\n",
       "      <td>0</td>\n",
       "      <td>1975.0</td>\n",
       "      <td>Beowulf</td>\n",
       "      <td>Unknown, Seamus Heaney</td>\n",
       "      <td>en-US</td>\n",
       "      <td>Novice</td>\n",
       "      <td>3.42</td>\n",
       "      <td>155903</td>\n",
       "      <td>genre fiction</td>\n",
       "      <td>34160.0</td>\n",
       "      <td>20496.0</td>\n",
       "      <td>4.88</td>\n",
       "      <td>1</td>\n",
       "      <td>HarperCollins Publishers</td>\n",
       "      <td>7000</td>\n",
       "    </tr>\n",
       "    <tr>\n",
       "      <th>1</th>\n",
       "      <td>1</td>\n",
       "      <td>1987.0</td>\n",
       "      <td>Batman: Year One</td>\n",
       "      <td>Frank Miller, David Mazzucchelli, Richmond Lew...</td>\n",
       "      <td>eng</td>\n",
       "      <td>Intermediate</td>\n",
       "      <td>4.23</td>\n",
       "      <td>145267</td>\n",
       "      <td>genre fiction</td>\n",
       "      <td>12437.5</td>\n",
       "      <td>7462.5</td>\n",
       "      <td>1.99</td>\n",
       "      <td>2</td>\n",
       "      <td>HarperCollins Publishers</td>\n",
       "      <td>6250</td>\n",
       "    </tr>\n",
       "    <tr>\n",
       "      <th>2</th>\n",
       "      <td>2</td>\n",
       "      <td>2015.0</td>\n",
       "      <td>Go Set a Watchman</td>\n",
       "      <td>Harper Lee</td>\n",
       "      <td>eng</td>\n",
       "      <td>Novice</td>\n",
       "      <td>3.31</td>\n",
       "      <td>138669</td>\n",
       "      <td>genre fiction</td>\n",
       "      <td>47795.0</td>\n",
       "      <td>28677.0</td>\n",
       "      <td>8.69</td>\n",
       "      <td>3</td>\n",
       "      <td>Amazon Digital Services,  Inc.</td>\n",
       "      <td>5500</td>\n",
       "    </tr>\n",
       "    <tr>\n",
       "      <th>3</th>\n",
       "      <td>3</td>\n",
       "      <td>2008.0</td>\n",
       "      <td>When You Are Engulfed in Flames</td>\n",
       "      <td>David Sedaris</td>\n",
       "      <td>en-US</td>\n",
       "      <td>Intermediate</td>\n",
       "      <td>4.04</td>\n",
       "      <td>150898</td>\n",
       "      <td>fiction</td>\n",
       "      <td>41250.0</td>\n",
       "      <td>24750.0</td>\n",
       "      <td>7.50</td>\n",
       "      <td>3</td>\n",
       "      <td>Hachette Book Group</td>\n",
       "      <td>5500</td>\n",
       "    </tr>\n",
       "    <tr>\n",
       "      <th>4</th>\n",
       "      <td>4</td>\n",
       "      <td>2011.0</td>\n",
       "      <td>Daughter of Smoke &amp; Bone</td>\n",
       "      <td>Laini Taylor</td>\n",
       "      <td>eng</td>\n",
       "      <td>Intermediate</td>\n",
       "      <td>4.04</td>\n",
       "      <td>198283</td>\n",
       "      <td>genre fiction</td>\n",
       "      <td>37952.5</td>\n",
       "      <td>22771.5</td>\n",
       "      <td>7.99</td>\n",
       "      <td>4</td>\n",
       "      <td>Penguin Group (USA) LLC</td>\n",
       "      <td>4750</td>\n",
       "    </tr>\n",
       "  </tbody>\n",
       "</table>\n",
       "</div>"
      ],
      "text/plain": [
       "   index  Publishing Year                        Book Name  \\\n",
       "0      0           1975.0                          Beowulf   \n",
       "1      1           1987.0                 Batman: Year One   \n",
       "2      2           2015.0                Go Set a Watchman   \n",
       "3      3           2008.0  When You Are Engulfed in Flames   \n",
       "4      4           2011.0         Daughter of Smoke & Bone   \n",
       "\n",
       "                                              Author language_code  \\\n",
       "0                             Unknown, Seamus Heaney         en-US   \n",
       "1  Frank Miller, David Mazzucchelli, Richmond Lew...           eng   \n",
       "2                                         Harper Lee           eng   \n",
       "3                                      David Sedaris         en-US   \n",
       "4                                       Laini Taylor           eng   \n",
       "\n",
       "  Author_Rating  Book_average_rating  Book_ratings_count          genre  \\\n",
       "0        Novice                 3.42              155903  genre fiction   \n",
       "1  Intermediate                 4.23              145267  genre fiction   \n",
       "2        Novice                 3.31              138669  genre fiction   \n",
       "3  Intermediate                 4.04              150898        fiction   \n",
       "4  Intermediate                 4.04              198283  genre fiction   \n",
       "\n",
       "   gross sales  publisher revenue  sale price  sales rank  \\\n",
       "0      34160.0            20496.0        4.88           1   \n",
       "1      12437.5             7462.5        1.99           2   \n",
       "2      47795.0            28677.0        8.69           3   \n",
       "3      41250.0            24750.0        7.50           3   \n",
       "4      37952.5            22771.5        7.99           4   \n",
       "\n",
       "                        Publisher  units sold  \n",
       "0        HarperCollins Publishers        7000  \n",
       "1        HarperCollins Publishers        6250  \n",
       "2  Amazon Digital Services,  Inc.        5500  \n",
       "3             Hachette Book Group        5500  \n",
       "4         Penguin Group (USA) LLC        4750  "
      ]
     },
     "execution_count": 3,
     "metadata": {},
     "output_type": "execute_result"
    }
   ],
   "source": [
    "df = pd.read_csv('Books_Data_Clean.csv')  # Считываем файл в DataFrame\n",
    "df.head(5)  # Посмотрим первые пять записей"
   ]
  },
  {
   "cell_type": "code",
   "execution_count": 4,
   "id": "31c3ca36",
   "metadata": {},
   "outputs": [
    {
     "name": "stdout",
     "output_type": "stream",
     "text": [
      "<class 'pandas.core.frame.DataFrame'>\n",
      "RangeIndex: 1070 entries, 0 to 1069\n",
      "Data columns (total 15 columns):\n",
      " #   Column               Non-Null Count  Dtype  \n",
      "---  ------               --------------  -----  \n",
      " 0   index                1070 non-null   int64  \n",
      " 1   Publishing Year      1069 non-null   float64\n",
      " 2   Book Name            1047 non-null   object \n",
      " 3   Author               1070 non-null   object \n",
      " 4   language_code        1017 non-null   object \n",
      " 5   Author_Rating        1070 non-null   object \n",
      " 6   Book_average_rating  1070 non-null   float64\n",
      " 7   Book_ratings_count   1070 non-null   int64  \n",
      " 8   genre                1070 non-null   object \n",
      " 9   gross sales          1070 non-null   float64\n",
      " 10  publisher revenue    1070 non-null   float64\n",
      " 11  sale price           1070 non-null   float64\n",
      " 12  sales rank           1070 non-null   int64  \n",
      " 13  Publisher            1070 non-null   object \n",
      " 14  units sold           1070 non-null   int64  \n",
      "dtypes: float64(5), int64(4), object(6)\n",
      "memory usage: 125.5+ KB\n"
     ]
    }
   ],
   "source": [
    "df.info()"
   ]
  },
  {
   "cell_type": "code",
   "execution_count": 5,
   "id": "028b6d90",
   "metadata": {},
   "outputs": [],
   "source": [
    "df['language_code'].fillna('eng', inplace = True)  # Заменим пропуски на самое часто встречающее значение - eng\n",
    "#Удалим дубликаты - индекс и название книги\n",
    "df = df.drop(['index', 'Book Name'], axis=1)\n",
    "#Удалим результативные признаки - количество проданных копий, прибыль издателя, рейтинг продаж\n",
    "df = df.drop(['units sold', 'publisher revenue', 'sales rank'], axis=1)"
   ]
  },
  {
   "cell_type": "code",
   "execution_count": 6,
   "id": "ff397578",
   "metadata": {},
   "outputs": [
    {
     "data": {
      "text/html": [
       "<div>\n",
       "<style scoped>\n",
       "    .dataframe tbody tr th:only-of-type {\n",
       "        vertical-align: middle;\n",
       "    }\n",
       "\n",
       "    .dataframe tbody tr th {\n",
       "        vertical-align: top;\n",
       "    }\n",
       "\n",
       "    .dataframe thead th {\n",
       "        text-align: right;\n",
       "    }\n",
       "</style>\n",
       "<table border=\"1\" class=\"dataframe\">\n",
       "  <thead>\n",
       "    <tr style=\"text-align: right;\">\n",
       "      <th></th>\n",
       "      <th>Publishing Year</th>\n",
       "      <th>Author</th>\n",
       "      <th>language_code</th>\n",
       "      <th>Author_Rating</th>\n",
       "      <th>Book_average_rating</th>\n",
       "      <th>Book_ratings_count</th>\n",
       "      <th>genre</th>\n",
       "      <th>gross sales</th>\n",
       "      <th>sale price</th>\n",
       "      <th>Publisher</th>\n",
       "    </tr>\n",
       "  </thead>\n",
       "  <tbody>\n",
       "    <tr>\n",
       "      <th>241</th>\n",
       "      <td>-380.0</td>\n",
       "      <td>Plato, Desmond Lee</td>\n",
       "      <td>eng</td>\n",
       "      <td>Intermediate</td>\n",
       "      <td>3.90</td>\n",
       "      <td>110274</td>\n",
       "      <td>genre fiction</td>\n",
       "      <td>387.09</td>\n",
       "      <td>0.99</td>\n",
       "      <td>Amazon Digital Services,  Inc.</td>\n",
       "    </tr>\n",
       "    <tr>\n",
       "      <th>293</th>\n",
       "      <td>-430.0</td>\n",
       "      <td>Sophocles, J.E. Thomas</td>\n",
       "      <td>eng</td>\n",
       "      <td>Intermediate</td>\n",
       "      <td>3.67</td>\n",
       "      <td>119496</td>\n",
       "      <td>genre fiction</td>\n",
       "      <td>2460.92</td>\n",
       "      <td>7.99</td>\n",
       "      <td>Hachette Book Group</td>\n",
       "    </tr>\n",
       "    <tr>\n",
       "      <th>568</th>\n",
       "      <td>-300.0</td>\n",
       "      <td>Lao Tzu, Gia-Fu Feng, Jane English, Chungliang...</td>\n",
       "      <td>eng</td>\n",
       "      <td>Excellent</td>\n",
       "      <td>4.31</td>\n",
       "      <td>39863</td>\n",
       "      <td>genre fiction</td>\n",
       "      <td>665.55</td>\n",
       "      <td>4.59</td>\n",
       "      <td>Penguin Group (USA) LLC</td>\n",
       "    </tr>\n",
       "    <tr>\n",
       "      <th>589</th>\n",
       "      <td>-560.0</td>\n",
       "      <td>Aesop, Laura Harris, Laura Gibbs</td>\n",
       "      <td>eng</td>\n",
       "      <td>Excellent</td>\n",
       "      <td>4.05</td>\n",
       "      <td>88508</td>\n",
       "      <td>genre fiction</td>\n",
       "      <td>693.61</td>\n",
       "      <td>4.99</td>\n",
       "      <td>Amazon Digital Services,  Inc.</td>\n",
       "    </tr>\n",
       "    <tr>\n",
       "      <th>749</th>\n",
       "      <td>-17.0</td>\n",
       "      <td>Virgil, Robert Fitzgerald</td>\n",
       "      <td>eng</td>\n",
       "      <td>Intermediate</td>\n",
       "      <td>3.81</td>\n",
       "      <td>75051</td>\n",
       "      <td>genre fiction</td>\n",
       "      <td>114.84</td>\n",
       "      <td>0.99</td>\n",
       "      <td>Amazon Digital Services,  Inc.</td>\n",
       "    </tr>\n",
       "    <tr>\n",
       "      <th>990</th>\n",
       "      <td>-441.0</td>\n",
       "      <td>Sophocles, J.E. Thomas</td>\n",
       "      <td>eng</td>\n",
       "      <td>Intermediate</td>\n",
       "      <td>3.60</td>\n",
       "      <td>67608</td>\n",
       "      <td>genre fiction</td>\n",
       "      <td>106.92</td>\n",
       "      <td>0.99</td>\n",
       "      <td>Amazon Digital Services,  Inc.</td>\n",
       "    </tr>\n",
       "  </tbody>\n",
       "</table>\n",
       "</div>"
      ],
      "text/plain": [
       "     Publishing Year                                             Author  \\\n",
       "241           -380.0                                 Plato, Desmond Lee   \n",
       "293           -430.0                             Sophocles, J.E. Thomas   \n",
       "568           -300.0  Lao Tzu, Gia-Fu Feng, Jane English, Chungliang...   \n",
       "589           -560.0                   Aesop, Laura Harris, Laura Gibbs   \n",
       "749            -17.0                          Virgil, Robert Fitzgerald   \n",
       "990           -441.0                             Sophocles, J.E. Thomas   \n",
       "\n",
       "    language_code Author_Rating  Book_average_rating  Book_ratings_count  \\\n",
       "241           eng  Intermediate                 3.90              110274   \n",
       "293           eng  Intermediate                 3.67              119496   \n",
       "568           eng     Excellent                 4.31               39863   \n",
       "589           eng     Excellent                 4.05               88508   \n",
       "749           eng  Intermediate                 3.81               75051   \n",
       "990           eng  Intermediate                 3.60               67608   \n",
       "\n",
       "             genre  gross sales  sale price                       Publisher  \n",
       "241  genre fiction       387.09        0.99  Amazon Digital Services,  Inc.  \n",
       "293  genre fiction      2460.92        7.99             Hachette Book Group  \n",
       "568  genre fiction       665.55        4.59         Penguin Group (USA) LLC  \n",
       "589  genre fiction       693.61        4.99  Amazon Digital Services,  Inc.  \n",
       "749  genre fiction       114.84        0.99  Amazon Digital Services,  Inc.  \n",
       "990  genre fiction       106.92        0.99  Amazon Digital Services,  Inc.  "
      ]
     },
     "execution_count": 6,
     "metadata": {},
     "output_type": "execute_result"
    }
   ],
   "source": [
    "ancient_books = df.loc[(df['Publishing Year']<0)] #Посмотрим на древние книги\n",
    "ancient_books"
   ]
  },
  {
   "cell_type": "code",
   "execution_count": 7,
   "id": "bf096d09",
   "metadata": {},
   "outputs": [],
   "source": [
    "df = df.drop(index=[241,293,568,589,749,990]) #Удалим древние книги"
   ]
  },
  {
   "cell_type": "code",
   "execution_count": 8,
   "id": "60f0ae59",
   "metadata": {},
   "outputs": [],
   "source": [
    "#Заменим год на возраст\n",
    "df['Publishing Year'] = 2024 - df['Publishing Year']\n",
    "df.rename(columns = {'Publishing Year':'Age'}, inplace = True )"
   ]
  },
  {
   "cell_type": "code",
   "execution_count": 9,
   "id": "c4d887f3",
   "metadata": {},
   "outputs": [
    {
     "name": "stdout",
     "output_type": "stream",
     "text": [
      "<class 'pandas.core.frame.DataFrame'>\n",
      "Index: 1064 entries, 0 to 1069\n",
      "Data columns (total 10 columns):\n",
      " #   Column               Non-Null Count  Dtype  \n",
      "---  ------               --------------  -----  \n",
      " 0   Age                  1063 non-null   float64\n",
      " 1   Author               1064 non-null   object \n",
      " 2   language_code        1064 non-null   object \n",
      " 3   Author_Rating        1064 non-null   object \n",
      " 4   Book_average_rating  1064 non-null   float64\n",
      " 5   Book_ratings_count   1064 non-null   int64  \n",
      " 6   genre                1064 non-null   object \n",
      " 7   gross sales          1064 non-null   float64\n",
      " 8   sale price           1064 non-null   float64\n",
      " 9   Publisher            1064 non-null   object \n",
      "dtypes: float64(4), int64(1), object(5)\n",
      "memory usage: 91.4+ KB\n"
     ]
    }
   ],
   "source": [
    "df.info()  # Выведем краткую сводку по датафрейму"
   ]
  },
  {
   "cell_type": "code",
   "execution_count": 10,
   "id": "5159a3d5",
   "metadata": {},
   "outputs": [],
   "source": [
    "df = df.dropna(subset='Age') #Удалим пустые значения"
   ]
  },
  {
   "cell_type": "code",
   "execution_count": 11,
   "id": "74d6b03c",
   "metadata": {},
   "outputs": [
    {
     "name": "stdout",
     "output_type": "stream",
     "text": [
      "<class 'pandas.core.frame.DataFrame'>\n",
      "Index: 1063 entries, 0 to 1069\n",
      "Data columns (total 10 columns):\n",
      " #   Column               Non-Null Count  Dtype  \n",
      "---  ------               --------------  -----  \n",
      " 0   Age                  1063 non-null   float64\n",
      " 1   Author               1063 non-null   object \n",
      " 2   language_code        1063 non-null   object \n",
      " 3   Author_Rating        1063 non-null   object \n",
      " 4   Book_average_rating  1063 non-null   float64\n",
      " 5   Book_ratings_count   1063 non-null   int64  \n",
      " 6   genre                1063 non-null   object \n",
      " 7   gross sales          1063 non-null   float64\n",
      " 8   sale price           1063 non-null   float64\n",
      " 9   Publisher            1063 non-null   object \n",
      "dtypes: float64(4), int64(1), object(5)\n",
      "memory usage: 91.4+ KB\n"
     ]
    }
   ],
   "source": [
    "df.info() #Пустые значенния отсутствуют"
   ]
  },
  {
   "cell_type": "markdown",
   "id": "83db74e4",
   "metadata": {},
   "source": [
    "## Числовые и категориальные признаки"
   ]
  },
  {
   "cell_type": "markdown",
   "id": "6ad1cff7",
   "metadata": {},
   "source": [
    "Из предварительной обработки исключена колонка gross sales(поскольку она является целевой)"
   ]
  },
  {
   "cell_type": "code",
   "execution_count": 12,
   "id": "713d4138",
   "metadata": {},
   "outputs": [],
   "source": [
    "class QuantileReplacer(BaseEstimator, TransformerMixin):\n",
    "    def __init__(self, threshold=0.05):\n",
    "        self.threshold = threshold\n",
    "        self.quantiles = {}\n",
    "\n",
    "    def fit(self, X, y=None):\n",
    "        for col in X.select_dtypes(include='number'):\n",
    "            low_quantile = X[col].quantile(self.threshold)\n",
    "            high_quantile = X[col].quantile(1 - self.threshold)\n",
    "            self.quantiles[col] = (low_quantile, high_quantile)\n",
    "        return self\n",
    "\n",
    "    def transform(self, X):\n",
    "        X_copy = X.copy()\n",
    "        for col in X.select_dtypes(include='number'):\n",
    "            low_quantile, high_quantile = self.quantiles[col]\n",
    "            rare_mask = ((X[col] < low_quantile) | (X[col] > high_quantile))\n",
    "            if rare_mask.any():\n",
    "                rare_values = X_copy.loc[rare_mask, col]\n",
    "                replace_value = np.mean([low_quantile, high_quantile])\n",
    "                if rare_values.mean() > replace_value:\n",
    "                    X_copy.loc[rare_mask, col] = high_quantile\n",
    "                else:\n",
    "                    X_copy.loc[rare_mask, col] = low_quantile\n",
    "        return X_copy"
   ]
  },
  {
   "cell_type": "code",
   "execution_count": 13,
   "id": "bde7d01c",
   "metadata": {},
   "outputs": [],
   "source": [
    "class RareGrouper(BaseEstimator, TransformerMixin):\n",
    "    def __init__(self, threshold=0.05, other_value='Other'):\n",
    "        self.threshold = threshold\n",
    "        self.other_value = other_value\n",
    "        self.freq_dict = {}\n",
    "\n",
    "    def fit(self, X, y=None):\n",
    "        for col in X.select_dtypes(include=['object']):\n",
    "            freq = X[col].value_counts(normalize=True)\n",
    "            self.freq_dict[col] = freq[freq >= self.threshold].index.tolist()\n",
    "        return self\n",
    "\n",
    "    def transform(self, X, y=None):\n",
    "        X_copy = X.copy()\n",
    "        for col in X.select_dtypes(include=['object']):\n",
    "            X_copy[col] = X_copy[col].apply(lambda x: x if x in self.freq_dict[col] else self.other_value)\n",
    "        return X_copy"
   ]
  },
  {
   "cell_type": "code",
   "execution_count": 14,
   "id": "a39f55a8",
   "metadata": {},
   "outputs": [],
   "source": [
    "# Pipeline для числовых признаков\n",
    "\n",
    "num_pipe_num = Pipeline([\n",
    "    ('QuantReplace', QuantileReplacer(threshold=0.01, )),\n",
    "    ('norm', MinMaxScaler())\n",
    "])\n",
    " \n",
    "num = ['Age', 'Book_average_rating', 'Book_ratings_count', 'sale price']\n",
    "\n",
    "# И для категориальных признаков\n",
    "\n",
    "cat_pipe_Status_Touch = Pipeline([\n",
    "    ('encoder', OrdinalEncoder())\n",
    "])\n",
    "\n",
    "\n",
    "cat_Status_Touch = ['Author_Rating', 'genre']\n",
    "\n",
    "cat_pipe = Pipeline([\n",
    "    ('replace_rare', RareGrouper(threshold=0.0001, other_value='Other')),\n",
    "    ('encoder', OneHotEncoder(drop='if_binary', handle_unknown='ignore', sparse_output=False))\n",
    "])\n",
    "\n",
    "cat = ['Author_Rating', 'Author', 'language_code', 'genre', 'Publisher']\n",
    "\n",
    "\n",
    "# Сделаем отдельно Pipeline с числовыми признаками\n",
    "preprocessors_num = ColumnTransformer(transformers=[\n",
    "    ('num', num_pipe_num, num),\n",
    "])\n",
    "\n",
    "\n",
    "# И полный Pipeline со всеми признаками\n",
    "preprocessors_All = ColumnTransformer(transformers=[\n",
    "    ('norm', num_pipe_num, num),\n",
    "    ('Status_Touch', cat_pipe_Status_Touch, cat_Status_Touch),\n",
    "    ('cat', cat_pipe, cat)\n",
    "])"
   ]
  },
  {
   "cell_type": "code",
   "execution_count": 15,
   "id": "92282507",
   "metadata": {},
   "outputs": [],
   "source": [
    "columns_num = np.hstack([num])"
   ]
  },
  {
   "cell_type": "markdown",
   "id": "ad80197d",
   "metadata": {},
   "source": [
    "# Линейная Регрессия"
   ]
  },
  {
   "cell_type": "code",
   "execution_count": 16,
   "id": "eb739a00",
   "metadata": {},
   "outputs": [],
   "source": [
    "from sklearn.linear_model import SGDRegressor # Линейная регрессия с градиентным спуском от scikit-learn\n",
    "\n",
    "from sklearn.model_selection import train_test_split  # Функция разбиения на тренировочную и тестовую выборку\n",
    "# в исполнении scikit-learn\n",
    "from sklearn.model_selection import ShuffleSplit  # При кросс-валидации случайно перемешиваем данные\n",
    "from sklearn.model_selection import cross_validate  # Функция кросс-валидации от Scikit-learn\n",
    "\n",
    "from sklearn.metrics import mean_squared_error as mse  # Метрика MSE от Scikit-learn\n",
    "from sklearn.metrics import r2_score  # Коэффициент детерминации R2 от Scikit-learn\n",
    "\n",
    "from sklearn.metrics import PredictionErrorDisplay  # Класс визуализации ошибок модели"
   ]
  },
  {
   "cell_type": "code",
   "execution_count": 17,
   "id": "5f31ab68",
   "metadata": {},
   "outputs": [],
   "source": [
    "# Не забываем удалить целевую переменную цену из признаков\n",
    "X,y = df.drop(columns = ['gross sales']), df['gross sales']\n",
    "\n",
    "# Разбиваем датасет на обучающую и валидационную выборку\n",
    "X_train, X_val, y_train, y_val = train_test_split(X, y,\n",
    "                                                    test_size=0.3,\n",
    "                                                    random_state=42)"
   ]
  },
  {
   "cell_type": "code",
   "execution_count": 18,
   "id": "3d25c01e",
   "metadata": {},
   "outputs": [
    {
     "data": {
      "text/html": [
       "<div>\n",
       "<style scoped>\n",
       "    .dataframe tbody tr th:only-of-type {\n",
       "        vertical-align: middle;\n",
       "    }\n",
       "\n",
       "    .dataframe tbody tr th {\n",
       "        vertical-align: top;\n",
       "    }\n",
       "\n",
       "    .dataframe thead th {\n",
       "        text-align: right;\n",
       "    }\n",
       "</style>\n",
       "<table border=\"1\" class=\"dataframe\">\n",
       "  <thead>\n",
       "    <tr style=\"text-align: right;\">\n",
       "      <th></th>\n",
       "      <th>Age</th>\n",
       "      <th>Author</th>\n",
       "      <th>language_code</th>\n",
       "      <th>Author_Rating</th>\n",
       "      <th>Book_average_rating</th>\n",
       "      <th>Book_ratings_count</th>\n",
       "      <th>genre</th>\n",
       "      <th>sale price</th>\n",
       "      <th>Publisher</th>\n",
       "    </tr>\n",
       "  </thead>\n",
       "  <tbody>\n",
       "    <tr>\n",
       "      <th>348</th>\n",
       "      <td>118.0</td>\n",
       "      <td>Upton Sinclair, Earl Lee, Kathleen DeGrave</td>\n",
       "      <td>eng</td>\n",
       "      <td>Intermediate</td>\n",
       "      <td>3.72</td>\n",
       "      <td>97468</td>\n",
       "      <td>genre fiction</td>\n",
       "      <td>5.99</td>\n",
       "      <td>Random House LLC</td>\n",
       "    </tr>\n",
       "    <tr>\n",
       "      <th>5</th>\n",
       "      <td>9.0</td>\n",
       "      <td>Victoria Aveyard</td>\n",
       "      <td>eng</td>\n",
       "      <td>Intermediate</td>\n",
       "      <td>4.08</td>\n",
       "      <td>83354</td>\n",
       "      <td>genre fiction</td>\n",
       "      <td>4.99</td>\n",
       "      <td>Amazon Digital Services,  Inc.</td>\n",
       "    </tr>\n",
       "    <tr>\n",
       "      <th>312</th>\n",
       "      <td>12.0</td>\n",
       "      <td>E.L. James</td>\n",
       "      <td>eng</td>\n",
       "      <td>Excellent</td>\n",
       "      <td>4.13</td>\n",
       "      <td>76876</td>\n",
       "      <td>genre fiction</td>\n",
       "      <td>4.99</td>\n",
       "      <td>Amazon Digital Services,  Inc.</td>\n",
       "    </tr>\n",
       "    <tr>\n",
       "      <th>502</th>\n",
       "      <td>24.0</td>\n",
       "      <td>Lemony Snicket, Brett Helquist</td>\n",
       "      <td>eng</td>\n",
       "      <td>Intermediate</td>\n",
       "      <td>3.91</td>\n",
       "      <td>118624</td>\n",
       "      <td>genre fiction</td>\n",
       "      <td>0.99</td>\n",
       "      <td>Amazon Digital Services,  Inc.</td>\n",
       "    </tr>\n",
       "    <tr>\n",
       "      <th>104</th>\n",
       "      <td>33.0</td>\n",
       "      <td>Jostein Gaarder, Paulette MÃ¸ller</td>\n",
       "      <td>eng</td>\n",
       "      <td>Intermediate</td>\n",
       "      <td>3.88</td>\n",
       "      <td>109692</td>\n",
       "      <td>genre fiction</td>\n",
       "      <td>10.65</td>\n",
       "      <td>Penguin Group (USA) LLC</td>\n",
       "    </tr>\n",
       "    <tr>\n",
       "      <th>...</th>\n",
       "      <td>...</td>\n",
       "      <td>...</td>\n",
       "      <td>...</td>\n",
       "      <td>...</td>\n",
       "      <td>...</td>\n",
       "      <td>...</td>\n",
       "      <td>...</td>\n",
       "      <td>...</td>\n",
       "      <td>...</td>\n",
       "    </tr>\n",
       "    <tr>\n",
       "      <th>332</th>\n",
       "      <td>36.0</td>\n",
       "      <td>Sam McBratney, Anita Jeram</td>\n",
       "      <td>en-US</td>\n",
       "      <td>Excellent</td>\n",
       "      <td>4.36</td>\n",
       "      <td>104690</td>\n",
       "      <td>genre fiction</td>\n",
       "      <td>2.99</td>\n",
       "      <td>Amazon Digital Services,  Inc.</td>\n",
       "    </tr>\n",
       "    <tr>\n",
       "      <th>469</th>\n",
       "      <td>12.0</td>\n",
       "      <td>Leigh Bardugo</td>\n",
       "      <td>eng</td>\n",
       "      <td>Excellent</td>\n",
       "      <td>4.05</td>\n",
       "      <td>135225</td>\n",
       "      <td>fiction</td>\n",
       "      <td>3.99</td>\n",
       "      <td>Amazon Digital Services,  Inc.</td>\n",
       "    </tr>\n",
       "    <tr>\n",
       "      <th>121</th>\n",
       "      <td>18.0</td>\n",
       "      <td>Charlaine Harris</td>\n",
       "      <td>en-US</td>\n",
       "      <td>Intermediate</td>\n",
       "      <td>4.02</td>\n",
       "      <td>163054</td>\n",
       "      <td>genre fiction</td>\n",
       "      <td>7.50</td>\n",
       "      <td>Simon and Schuster Digital Sales Inc</td>\n",
       "    </tr>\n",
       "    <tr>\n",
       "      <th>1051</th>\n",
       "      <td>63.0</td>\n",
       "      <td>Richard Yates</td>\n",
       "      <td>eng</td>\n",
       "      <td>Intermediate</td>\n",
       "      <td>3.89</td>\n",
       "      <td>56550</td>\n",
       "      <td>genre fiction</td>\n",
       "      <td>6.94</td>\n",
       "      <td>Penguin Group (USA) LLC</td>\n",
       "    </tr>\n",
       "    <tr>\n",
       "      <th>866</th>\n",
       "      <td>18.0</td>\n",
       "      <td>Eoin Colfer</td>\n",
       "      <td>en-US</td>\n",
       "      <td>Excellent</td>\n",
       "      <td>4.01</td>\n",
       "      <td>103844</td>\n",
       "      <td>nonfiction</td>\n",
       "      <td>2.50</td>\n",
       "      <td>Amazon Digital Services,  Inc.</td>\n",
       "    </tr>\n",
       "  </tbody>\n",
       "</table>\n",
       "<p>744 rows × 9 columns</p>\n",
       "</div>"
      ],
      "text/plain": [
       "        Age                                      Author language_code  \\\n",
       "348   118.0  Upton Sinclair, Earl Lee, Kathleen DeGrave           eng   \n",
       "5       9.0                            Victoria Aveyard           eng   \n",
       "312    12.0                                  E.L. James           eng   \n",
       "502    24.0              Lemony Snicket, Brett Helquist           eng   \n",
       "104    33.0           Jostein Gaarder, Paulette MÃ¸ller           eng   \n",
       "...     ...                                         ...           ...   \n",
       "332    36.0                  Sam McBratney, Anita Jeram         en-US   \n",
       "469    12.0                               Leigh Bardugo           eng   \n",
       "121    18.0                            Charlaine Harris         en-US   \n",
       "1051   63.0                               Richard Yates           eng   \n",
       "866    18.0                                 Eoin Colfer         en-US   \n",
       "\n",
       "     Author_Rating  Book_average_rating  Book_ratings_count          genre  \\\n",
       "348   Intermediate                 3.72               97468  genre fiction   \n",
       "5     Intermediate                 4.08               83354  genre fiction   \n",
       "312      Excellent                 4.13               76876  genre fiction   \n",
       "502   Intermediate                 3.91              118624  genre fiction   \n",
       "104   Intermediate                 3.88              109692  genre fiction   \n",
       "...            ...                  ...                 ...            ...   \n",
       "332      Excellent                 4.36              104690  genre fiction   \n",
       "469      Excellent                 4.05              135225        fiction   \n",
       "121   Intermediate                 4.02              163054  genre fiction   \n",
       "1051  Intermediate                 3.89               56550  genre fiction   \n",
       "866      Excellent                 4.01              103844     nonfiction   \n",
       "\n",
       "      sale price                             Publisher  \n",
       "348         5.99                      Random House LLC  \n",
       "5           4.99        Amazon Digital Services,  Inc.  \n",
       "312         4.99        Amazon Digital Services,  Inc.  \n",
       "502         0.99        Amazon Digital Services,  Inc.  \n",
       "104        10.65               Penguin Group (USA) LLC  \n",
       "...          ...                                   ...  \n",
       "332         2.99        Amazon Digital Services,  Inc.  \n",
       "469         3.99        Amazon Digital Services,  Inc.  \n",
       "121         7.50  Simon and Schuster Digital Sales Inc  \n",
       "1051        6.94               Penguin Group (USA) LLC  \n",
       "866         2.50        Amazon Digital Services,  Inc.  \n",
       "\n",
       "[744 rows x 9 columns]"
      ]
     },
     "execution_count": 18,
     "metadata": {},
     "output_type": "execute_result"
    }
   ],
   "source": [
    "X_train  # Посмотрим содержимое обучающей выборки"
   ]
  },
  {
   "cell_type": "markdown",
   "id": "54cfe313",
   "metadata": {},
   "source": [
    "# Оценим модель с использованием только числовых признаков"
   ]
  },
  {
   "cell_type": "code",
   "execution_count": 19,
   "id": "76eef7f9",
   "metadata": {},
   "outputs": [],
   "source": [
    "#  На тренировочных данных делаем fit_transform - одновременно и обучаемся, и преобразуем тренировочные данные\n",
    "X_train_prep = preprocessors_num.fit_transform(X_train)\n",
    "# После на валидационных данных делаем уже только transform - преобразуем данные согласно ранее запомненным параметрам, полученным на тренировочной выборке\n",
    "X_val_prep = preprocessors_num.transform(X_val)"
   ]
  },
  {
   "cell_type": "markdown",
   "id": "4a2b479d",
   "metadata": {},
   "source": [
    "### Обучаем модель"
   ]
  },
  {
   "cell_type": "code",
   "execution_count": 20,
   "id": "3a7f7e28",
   "metadata": {},
   "outputs": [],
   "source": [
    "model = SGDRegressor(random_state = 42)  # Суть параметра random_state (во всех функциях и методах из SciKit-Learn) в воспроизводимых случайных значениях. \n",
    "                                         # Т.е. если явно задать значение random_state отличным от None - то генерируемые псевдослучайные величины будут иметь \n",
    "                                         # одни и те же значения при каждом вызове.\n",
    "\n",
    "model.fit(X_train_prep, y_train);  # Обучаем модель на тренировочной выборке"
   ]
  },
  {
   "cell_type": "markdown",
   "id": "c4169656",
   "metadata": {},
   "source": [
    "## Подготовим несколько функций для анализа обученной модели"
   ]
  },
  {
   "cell_type": "markdown",
   "id": "80111b78",
   "metadata": {},
   "source": [
    "Извлечение коэффициентов из модели"
   ]
  },
  {
   "cell_type": "code",
   "execution_count": 21,
   "id": "22957215",
   "metadata": {},
   "outputs": [],
   "source": [
    "def get_coefs(model):  # model: наша обученная модель\n",
    "\n",
    "    B0 = model.intercept_[0]\n",
    "    B = model.coef_\n",
    "    return B0, B"
   ]
  },
  {
   "cell_type": "code",
   "execution_count": 22,
   "id": "02becf92",
   "metadata": {},
   "outputs": [],
   "source": [
    "def print_model (B0,B,features_names):\n",
    "    \"\"\"Написание уравнения модели.\n",
    "    Входные переменные:\n",
    "    ===========\n",
    "    B0: смещение (независимый коэффициент)\n",
    "    weights: веса признаков\n",
    "    features_names: список названий признаков\n",
    "    \"\"\"\n",
    "    line='{:.3f}'.format(B0)\n",
    "    sign=['+','-']\n",
    "    for p,(fn,b) in enumerate(zip(features_names,B)):\n",
    "        line=line+sign[int(0.5*(np.sign(b)-1))]+'{:.2f}*'.format(np.abs(b))+fn\n",
    "\n",
    "    print('Решение')\n",
    "    print(line)"
   ]
  },
  {
   "cell_type": "markdown",
   "id": "57e68d4b",
   "metadata": {},
   "source": [
    "## Визуализации весов в виде столбчатых диаграмм"
   ]
  },
  {
   "cell_type": "code",
   "execution_count": 23,
   "id": "49edf00c",
   "metadata": {},
   "outputs": [],
   "source": [
    "def vis_weigths(weights,features_names = None, width = 1200, height = 600):\n",
    "    \"\"\"Отрисовка весов.\n",
    "    Входные переменные:\n",
    "    ===========\n",
    "    weights: веса признаков\n",
    "    features_names: список названий признаков\n",
    "    \"\"\"\n",
    "    numbers = np.arange(0,len(weights))                 # создаем массив от 0 до количество весов-1\n",
    "    if features_names:\n",
    "        tick_labels = np.hstack(['B0',features_names])\n",
    "    else:\n",
    "        tick_labels = ['B'+str(num) for num in numbers]  # создаем \"названия\" весов\n",
    "    fig = go.Figure()\n",
    "    fig.add_trace(go.Bar(x=numbers[weights<0], y=weights[weights<0],\n",
    "                    marker_color='red',\n",
    "                    name='отрицательные веса'))\n",
    "    fig.add_trace(go.Bar(x=numbers[weights>=0], y=weights[weights>=0],\n",
    "                    marker_color='blue',\n",
    "                    name='положительные веса'\n",
    "                    ))\n",
    "\n",
    "    fig.update_layout(\n",
    "                title=\"Веса модели\",\n",
    "                width=width,\n",
    "                height=height,\n",
    "                template = \"plotly_dark\",\n",
    "                xaxis = dict(\n",
    "                                         tickmode = 'array',\n",
    "                                         tickvals = numbers,\n",
    "                                         ticktext = tick_labels,\n",
    "                                         )\n",
    "                )\n",
    "\n",
    "    fig.show()"
   ]
  },
  {
   "cell_type": "markdown",
   "id": "3a691fa1",
   "metadata": {},
   "source": [
    "### Напишем уравнение модели"
   ]
  },
  {
   "cell_type": "code",
   "execution_count": 24,
   "id": "096d375e",
   "metadata": {},
   "outputs": [
    {
     "name": "stdout",
     "output_type": "stream",
     "text": [
      "Решение\n",
      "-1290.538-141.69*Age-563.94*Book_average_rating+6392.91*Book_ratings_count+4136.88*sale price\n"
     ]
    }
   ],
   "source": [
    "B0, B = get_coefs(model)\n",
    "features_names = list(columns_num)\n",
    "print_model(B0,B,features_names)"
   ]
  },
  {
   "cell_type": "markdown",
   "id": "2f3e8c35",
   "metadata": {},
   "source": [
    "### Визуализируем веса в виде столбчатых диаграмм"
   ]
  },
  {
   "cell_type": "code",
   "execution_count": 25,
   "id": "ab51def2",
   "metadata": {},
   "outputs": [
    {
     "data": {
      "application/vnd.plotly.v1+json": {
       "config": {
        "plotlyServerURL": "https://plot.ly"
       },
       "data": [
        {
         "marker": {
          "color": "red"
         },
         "name": "отрицательные веса",
         "type": "bar",
         "x": [
          0,
          1,
          2
         ],
         "y": [
          -1290.5383199950404,
          -141.69133240046474,
          -563.9439485876518
         ]
        },
        {
         "marker": {
          "color": "blue"
         },
         "name": "положительные веса",
         "type": "bar",
         "x": [
          3,
          4
         ],
         "y": [
          6392.905538727321,
          4136.877079012337
         ]
        }
       ],
       "layout": {
        "height": 600,
        "template": {
         "data": {
          "bar": [
           {
            "error_x": {
             "color": "#f2f5fa"
            },
            "error_y": {
             "color": "#f2f5fa"
            },
            "marker": {
             "line": {
              "color": "rgb(17,17,17)",
              "width": 0.5
             },
             "pattern": {
              "fillmode": "overlay",
              "size": 10,
              "solidity": 0.2
             }
            },
            "type": "bar"
           }
          ],
          "barpolar": [
           {
            "marker": {
             "line": {
              "color": "rgb(17,17,17)",
              "width": 0.5
             },
             "pattern": {
              "fillmode": "overlay",
              "size": 10,
              "solidity": 0.2
             }
            },
            "type": "barpolar"
           }
          ],
          "carpet": [
           {
            "aaxis": {
             "endlinecolor": "#A2B1C6",
             "gridcolor": "#506784",
             "linecolor": "#506784",
             "minorgridcolor": "#506784",
             "startlinecolor": "#A2B1C6"
            },
            "baxis": {
             "endlinecolor": "#A2B1C6",
             "gridcolor": "#506784",
             "linecolor": "#506784",
             "minorgridcolor": "#506784",
             "startlinecolor": "#A2B1C6"
            },
            "type": "carpet"
           }
          ],
          "choropleth": [
           {
            "colorbar": {
             "outlinewidth": 0,
             "ticks": ""
            },
            "type": "choropleth"
           }
          ],
          "contour": [
           {
            "colorbar": {
             "outlinewidth": 0,
             "ticks": ""
            },
            "colorscale": [
             [
              0,
              "#0d0887"
             ],
             [
              0.1111111111111111,
              "#46039f"
             ],
             [
              0.2222222222222222,
              "#7201a8"
             ],
             [
              0.3333333333333333,
              "#9c179e"
             ],
             [
              0.4444444444444444,
              "#bd3786"
             ],
             [
              0.5555555555555556,
              "#d8576b"
             ],
             [
              0.6666666666666666,
              "#ed7953"
             ],
             [
              0.7777777777777778,
              "#fb9f3a"
             ],
             [
              0.8888888888888888,
              "#fdca26"
             ],
             [
              1,
              "#f0f921"
             ]
            ],
            "type": "contour"
           }
          ],
          "contourcarpet": [
           {
            "colorbar": {
             "outlinewidth": 0,
             "ticks": ""
            },
            "type": "contourcarpet"
           }
          ],
          "heatmap": [
           {
            "colorbar": {
             "outlinewidth": 0,
             "ticks": ""
            },
            "colorscale": [
             [
              0,
              "#0d0887"
             ],
             [
              0.1111111111111111,
              "#46039f"
             ],
             [
              0.2222222222222222,
              "#7201a8"
             ],
             [
              0.3333333333333333,
              "#9c179e"
             ],
             [
              0.4444444444444444,
              "#bd3786"
             ],
             [
              0.5555555555555556,
              "#d8576b"
             ],
             [
              0.6666666666666666,
              "#ed7953"
             ],
             [
              0.7777777777777778,
              "#fb9f3a"
             ],
             [
              0.8888888888888888,
              "#fdca26"
             ],
             [
              1,
              "#f0f921"
             ]
            ],
            "type": "heatmap"
           }
          ],
          "heatmapgl": [
           {
            "colorbar": {
             "outlinewidth": 0,
             "ticks": ""
            },
            "colorscale": [
             [
              0,
              "#0d0887"
             ],
             [
              0.1111111111111111,
              "#46039f"
             ],
             [
              0.2222222222222222,
              "#7201a8"
             ],
             [
              0.3333333333333333,
              "#9c179e"
             ],
             [
              0.4444444444444444,
              "#bd3786"
             ],
             [
              0.5555555555555556,
              "#d8576b"
             ],
             [
              0.6666666666666666,
              "#ed7953"
             ],
             [
              0.7777777777777778,
              "#fb9f3a"
             ],
             [
              0.8888888888888888,
              "#fdca26"
             ],
             [
              1,
              "#f0f921"
             ]
            ],
            "type": "heatmapgl"
           }
          ],
          "histogram": [
           {
            "marker": {
             "pattern": {
              "fillmode": "overlay",
              "size": 10,
              "solidity": 0.2
             }
            },
            "type": "histogram"
           }
          ],
          "histogram2d": [
           {
            "colorbar": {
             "outlinewidth": 0,
             "ticks": ""
            },
            "colorscale": [
             [
              0,
              "#0d0887"
             ],
             [
              0.1111111111111111,
              "#46039f"
             ],
             [
              0.2222222222222222,
              "#7201a8"
             ],
             [
              0.3333333333333333,
              "#9c179e"
             ],
             [
              0.4444444444444444,
              "#bd3786"
             ],
             [
              0.5555555555555556,
              "#d8576b"
             ],
             [
              0.6666666666666666,
              "#ed7953"
             ],
             [
              0.7777777777777778,
              "#fb9f3a"
             ],
             [
              0.8888888888888888,
              "#fdca26"
             ],
             [
              1,
              "#f0f921"
             ]
            ],
            "type": "histogram2d"
           }
          ],
          "histogram2dcontour": [
           {
            "colorbar": {
             "outlinewidth": 0,
             "ticks": ""
            },
            "colorscale": [
             [
              0,
              "#0d0887"
             ],
             [
              0.1111111111111111,
              "#46039f"
             ],
             [
              0.2222222222222222,
              "#7201a8"
             ],
             [
              0.3333333333333333,
              "#9c179e"
             ],
             [
              0.4444444444444444,
              "#bd3786"
             ],
             [
              0.5555555555555556,
              "#d8576b"
             ],
             [
              0.6666666666666666,
              "#ed7953"
             ],
             [
              0.7777777777777778,
              "#fb9f3a"
             ],
             [
              0.8888888888888888,
              "#fdca26"
             ],
             [
              1,
              "#f0f921"
             ]
            ],
            "type": "histogram2dcontour"
           }
          ],
          "mesh3d": [
           {
            "colorbar": {
             "outlinewidth": 0,
             "ticks": ""
            },
            "type": "mesh3d"
           }
          ],
          "parcoords": [
           {
            "line": {
             "colorbar": {
              "outlinewidth": 0,
              "ticks": ""
             }
            },
            "type": "parcoords"
           }
          ],
          "pie": [
           {
            "automargin": true,
            "type": "pie"
           }
          ],
          "scatter": [
           {
            "marker": {
             "line": {
              "color": "#283442"
             }
            },
            "type": "scatter"
           }
          ],
          "scatter3d": [
           {
            "line": {
             "colorbar": {
              "outlinewidth": 0,
              "ticks": ""
             }
            },
            "marker": {
             "colorbar": {
              "outlinewidth": 0,
              "ticks": ""
             }
            },
            "type": "scatter3d"
           }
          ],
          "scattercarpet": [
           {
            "marker": {
             "colorbar": {
              "outlinewidth": 0,
              "ticks": ""
             }
            },
            "type": "scattercarpet"
           }
          ],
          "scattergeo": [
           {
            "marker": {
             "colorbar": {
              "outlinewidth": 0,
              "ticks": ""
             }
            },
            "type": "scattergeo"
           }
          ],
          "scattergl": [
           {
            "marker": {
             "line": {
              "color": "#283442"
             }
            },
            "type": "scattergl"
           }
          ],
          "scattermapbox": [
           {
            "marker": {
             "colorbar": {
              "outlinewidth": 0,
              "ticks": ""
             }
            },
            "type": "scattermapbox"
           }
          ],
          "scatterpolar": [
           {
            "marker": {
             "colorbar": {
              "outlinewidth": 0,
              "ticks": ""
             }
            },
            "type": "scatterpolar"
           }
          ],
          "scatterpolargl": [
           {
            "marker": {
             "colorbar": {
              "outlinewidth": 0,
              "ticks": ""
             }
            },
            "type": "scatterpolargl"
           }
          ],
          "scatterternary": [
           {
            "marker": {
             "colorbar": {
              "outlinewidth": 0,
              "ticks": ""
             }
            },
            "type": "scatterternary"
           }
          ],
          "surface": [
           {
            "colorbar": {
             "outlinewidth": 0,
             "ticks": ""
            },
            "colorscale": [
             [
              0,
              "#0d0887"
             ],
             [
              0.1111111111111111,
              "#46039f"
             ],
             [
              0.2222222222222222,
              "#7201a8"
             ],
             [
              0.3333333333333333,
              "#9c179e"
             ],
             [
              0.4444444444444444,
              "#bd3786"
             ],
             [
              0.5555555555555556,
              "#d8576b"
             ],
             [
              0.6666666666666666,
              "#ed7953"
             ],
             [
              0.7777777777777778,
              "#fb9f3a"
             ],
             [
              0.8888888888888888,
              "#fdca26"
             ],
             [
              1,
              "#f0f921"
             ]
            ],
            "type": "surface"
           }
          ],
          "table": [
           {
            "cells": {
             "fill": {
              "color": "#506784"
             },
             "line": {
              "color": "rgb(17,17,17)"
             }
            },
            "header": {
             "fill": {
              "color": "#2a3f5f"
             },
             "line": {
              "color": "rgb(17,17,17)"
             }
            },
            "type": "table"
           }
          ]
         },
         "layout": {
          "annotationdefaults": {
           "arrowcolor": "#f2f5fa",
           "arrowhead": 0,
           "arrowwidth": 1
          },
          "autotypenumbers": "strict",
          "coloraxis": {
           "colorbar": {
            "outlinewidth": 0,
            "ticks": ""
           }
          },
          "colorscale": {
           "diverging": [
            [
             0,
             "#8e0152"
            ],
            [
             0.1,
             "#c51b7d"
            ],
            [
             0.2,
             "#de77ae"
            ],
            [
             0.3,
             "#f1b6da"
            ],
            [
             0.4,
             "#fde0ef"
            ],
            [
             0.5,
             "#f7f7f7"
            ],
            [
             0.6,
             "#e6f5d0"
            ],
            [
             0.7,
             "#b8e186"
            ],
            [
             0.8,
             "#7fbc41"
            ],
            [
             0.9,
             "#4d9221"
            ],
            [
             1,
             "#276419"
            ]
           ],
           "sequential": [
            [
             0,
             "#0d0887"
            ],
            [
             0.1111111111111111,
             "#46039f"
            ],
            [
             0.2222222222222222,
             "#7201a8"
            ],
            [
             0.3333333333333333,
             "#9c179e"
            ],
            [
             0.4444444444444444,
             "#bd3786"
            ],
            [
             0.5555555555555556,
             "#d8576b"
            ],
            [
             0.6666666666666666,
             "#ed7953"
            ],
            [
             0.7777777777777778,
             "#fb9f3a"
            ],
            [
             0.8888888888888888,
             "#fdca26"
            ],
            [
             1,
             "#f0f921"
            ]
           ],
           "sequentialminus": [
            [
             0,
             "#0d0887"
            ],
            [
             0.1111111111111111,
             "#46039f"
            ],
            [
             0.2222222222222222,
             "#7201a8"
            ],
            [
             0.3333333333333333,
             "#9c179e"
            ],
            [
             0.4444444444444444,
             "#bd3786"
            ],
            [
             0.5555555555555556,
             "#d8576b"
            ],
            [
             0.6666666666666666,
             "#ed7953"
            ],
            [
             0.7777777777777778,
             "#fb9f3a"
            ],
            [
             0.8888888888888888,
             "#fdca26"
            ],
            [
             1,
             "#f0f921"
            ]
           ]
          },
          "colorway": [
           "#636efa",
           "#EF553B",
           "#00cc96",
           "#ab63fa",
           "#FFA15A",
           "#19d3f3",
           "#FF6692",
           "#B6E880",
           "#FF97FF",
           "#FECB52"
          ],
          "font": {
           "color": "#f2f5fa"
          },
          "geo": {
           "bgcolor": "rgb(17,17,17)",
           "lakecolor": "rgb(17,17,17)",
           "landcolor": "rgb(17,17,17)",
           "showlakes": true,
           "showland": true,
           "subunitcolor": "#506784"
          },
          "hoverlabel": {
           "align": "left"
          },
          "hovermode": "closest",
          "mapbox": {
           "style": "dark"
          },
          "paper_bgcolor": "rgb(17,17,17)",
          "plot_bgcolor": "rgb(17,17,17)",
          "polar": {
           "angularaxis": {
            "gridcolor": "#506784",
            "linecolor": "#506784",
            "ticks": ""
           },
           "bgcolor": "rgb(17,17,17)",
           "radialaxis": {
            "gridcolor": "#506784",
            "linecolor": "#506784",
            "ticks": ""
           }
          },
          "scene": {
           "xaxis": {
            "backgroundcolor": "rgb(17,17,17)",
            "gridcolor": "#506784",
            "gridwidth": 2,
            "linecolor": "#506784",
            "showbackground": true,
            "ticks": "",
            "zerolinecolor": "#C8D4E3"
           },
           "yaxis": {
            "backgroundcolor": "rgb(17,17,17)",
            "gridcolor": "#506784",
            "gridwidth": 2,
            "linecolor": "#506784",
            "showbackground": true,
            "ticks": "",
            "zerolinecolor": "#C8D4E3"
           },
           "zaxis": {
            "backgroundcolor": "rgb(17,17,17)",
            "gridcolor": "#506784",
            "gridwidth": 2,
            "linecolor": "#506784",
            "showbackground": true,
            "ticks": "",
            "zerolinecolor": "#C8D4E3"
           }
          },
          "shapedefaults": {
           "line": {
            "color": "#f2f5fa"
           }
          },
          "sliderdefaults": {
           "bgcolor": "#C8D4E3",
           "bordercolor": "rgb(17,17,17)",
           "borderwidth": 1,
           "tickwidth": 0
          },
          "ternary": {
           "aaxis": {
            "gridcolor": "#506784",
            "linecolor": "#506784",
            "ticks": ""
           },
           "baxis": {
            "gridcolor": "#506784",
            "linecolor": "#506784",
            "ticks": ""
           },
           "bgcolor": "rgb(17,17,17)",
           "caxis": {
            "gridcolor": "#506784",
            "linecolor": "#506784",
            "ticks": ""
           }
          },
          "title": {
           "x": 0.05
          },
          "updatemenudefaults": {
           "bgcolor": "#506784",
           "borderwidth": 0
          },
          "xaxis": {
           "automargin": true,
           "gridcolor": "#283442",
           "linecolor": "#506784",
           "ticks": "",
           "title": {
            "standoff": 15
           },
           "zerolinecolor": "#283442",
           "zerolinewidth": 2
          },
          "yaxis": {
           "automargin": true,
           "gridcolor": "#283442",
           "linecolor": "#506784",
           "ticks": "",
           "title": {
            "standoff": 15
           },
           "zerolinecolor": "#283442",
           "zerolinewidth": 2
          }
         }
        },
        "title": {
         "text": "Веса модели"
        },
        "width": 1200,
        "xaxis": {
         "tickmode": "array",
         "ticktext": [
          "B0",
          "Age",
          "Book_average_rating",
          "Book_ratings_count",
          "sale price"
         ],
         "tickvals": [
          0,
          1,
          2,
          3,
          4
         ]
        }
       }
      }
     },
     "metadata": {},
     "output_type": "display_data"
    }
   ],
   "source": [
    "Bs = np.hstack([B0,B])\n",
    "vis_weigths(Bs,features_names)"
   ]
  },
  {
   "cell_type": "markdown",
   "id": "b57f909a",
   "metadata": {},
   "source": [
    "Признаки sale price (цена книги) и book_ratings_count (количество рейтингов) имеют наибольшие коэффициенты, следовательно они больше всего влияют на целевой показатель - объем продаж. Также признак Book_average_rating имеет отрицательный коэффициент - это означает, что книги с более высоким средним рейтингом не обязательно будут продаваться лучше чем не с высоким. Возраст книги на продажи значительно не влияет."
   ]
  },
  {
   "cell_type": "markdown",
   "id": "0bb7b9c9",
   "metadata": {},
   "source": [
    "### Оценка метрик"
   ]
  },
  {
   "cell_type": "code",
   "execution_count": 26,
   "id": "75194319",
   "metadata": {},
   "outputs": [],
   "source": [
    "def calculate_metric(model_pipe, X, y, metric = r2_score, **kwargs):\n",
    "    \"\"\"Расчет метрики.\n",
    "    Параметры:\n",
    "    ===========\n",
    "    model_pipe: модель или pipeline\n",
    "    X: признаки\n",
    "    y: истинные значения\n",
    "    metric: метрика (r2 - по умолчанию)\n",
    "    \"\"\"\n",
    "    y_model = model_pipe.predict(X)\n",
    "    return metric(y, y_model, **kwargs)"
   ]
  },
  {
   "cell_type": "code",
   "execution_count": 27,
   "id": "39e7bd5a",
   "metadata": {},
   "outputs": [
    {
     "name": "stdout",
     "output_type": "stream",
     "text": [
      "r2 на тренировочной выборке: 0.2074\n",
      "r2 на валидационной выборке: 0.2656\n",
      "mse на тренировочной выборке: 11143418.7838\n",
      "mse на валидационной выборке: 14024424.9924\n",
      "rmse на тренировочной выборке: 3338.1760\n",
      "rmse на валидационной выборке: 3744.9199\n"
     ]
    }
   ],
   "source": [
    "print(f\"r2 на тренировочной выборке: {calculate_metric(model, X_train_prep, y_train):.4f}\")\n",
    "print(f\"r2 на валидационной выборке: {calculate_metric(model, X_val_prep, y_val):.4f}\")\n",
    "\n",
    "print(f\"mse на тренировочной выборке: {calculate_metric(model, X_train_prep, y_train, mse):.4f}\")\n",
    "print(f\"mse на валидационной выборке: {calculate_metric(model, X_val_prep, y_val, mse):.4f}\")\n",
    "\n",
    "print(f\"rmse на тренировочной выборке: {calculate_metric(model, X_train_prep, y_train, mse, squared = False):.4f}\")\n",
    "print(f\"rmse на валидационной выборке: {calculate_metric(model, X_val_prep, y_val, mse, squared = False):.4f}\")"
   ]
  },
  {
   "cell_type": "markdown",
   "id": "18e544de",
   "metadata": {},
   "source": [
    "## Кросс-валидация"
   ]
  },
  {
   "cell_type": "code",
   "execution_count": 28,
   "id": "20020b44",
   "metadata": {},
   "outputs": [],
   "source": [
    "def cross_validation (X, y, model, scoring, cv_rule):\n",
    "    \"\"\"Расчет метрик на кросс-валидации.\n",
    "    Параметры:\n",
    "    ===========\n",
    "    model: модель или pipeline\n",
    "    X: признаки\n",
    "    y: истинные значения\n",
    "    scoring: словарь метрик\n",
    "    cv_rule: правило кросс-валидации\n",
    "    \"\"\"\n",
    "    scores = cross_validate(model,X, y,\n",
    "                      scoring=scoring, cv=cv_rule )\n",
    "    print('Ошибка на кросс-валидации')\n",
    "    DF_score = pd.DataFrame(scores)\n",
    "    display(DF_score)\n",
    "    print('\\n')\n",
    "    print(DF_score.mean()[2:])"
   ]
  },
  {
   "cell_type": "code",
   "execution_count": 29,
   "id": "3bcfe998",
   "metadata": {},
   "outputs": [],
   "source": [
    "scoring_reg = {'R2': 'r2',\n",
    "           '-MSE': 'neg_mean_squared_error',\n",
    "           '-MAE': 'neg_mean_absolute_error',\n",
    "           '-Max': 'max_error'}"
   ]
  },
  {
   "cell_type": "code",
   "execution_count": 30,
   "id": "4ab5c4ce",
   "metadata": {},
   "outputs": [
    {
     "name": "stdout",
     "output_type": "stream",
     "text": [
      "Ошибка на кросс-валидации\n"
     ]
    },
    {
     "data": {
      "text/html": [
       "<div>\n",
       "<style scoped>\n",
       "    .dataframe tbody tr th:only-of-type {\n",
       "        vertical-align: middle;\n",
       "    }\n",
       "\n",
       "    .dataframe tbody tr th {\n",
       "        vertical-align: top;\n",
       "    }\n",
       "\n",
       "    .dataframe thead th {\n",
       "        text-align: right;\n",
       "    }\n",
       "</style>\n",
       "<table border=\"1\" class=\"dataframe\">\n",
       "  <thead>\n",
       "    <tr style=\"text-align: right;\">\n",
       "      <th></th>\n",
       "      <th>fit_time</th>\n",
       "      <th>score_time</th>\n",
       "      <th>test_R2</th>\n",
       "      <th>test_-MSE</th>\n",
       "      <th>test_-MAE</th>\n",
       "      <th>test_-Max</th>\n",
       "    </tr>\n",
       "  </thead>\n",
       "  <tbody>\n",
       "    <tr>\n",
       "      <th>0</th>\n",
       "      <td>0.008000</td>\n",
       "      <td>0.001001</td>\n",
       "      <td>0.223954</td>\n",
       "      <td>-1.609333e+07</td>\n",
       "      <td>-1623.488752</td>\n",
       "      <td>-29735.690892</td>\n",
       "    </tr>\n",
       "    <tr>\n",
       "      <th>1</th>\n",
       "      <td>0.004999</td>\n",
       "      <td>0.001001</td>\n",
       "      <td>0.053837</td>\n",
       "      <td>-8.007060e+06</td>\n",
       "      <td>-1266.599944</td>\n",
       "      <td>-21661.076796</td>\n",
       "    </tr>\n",
       "    <tr>\n",
       "      <th>2</th>\n",
       "      <td>0.007004</td>\n",
       "      <td>0.002000</td>\n",
       "      <td>0.235657</td>\n",
       "      <td>-1.413006e+07</td>\n",
       "      <td>-1742.447023</td>\n",
       "      <td>-21691.541356</td>\n",
       "    </tr>\n",
       "    <tr>\n",
       "      <th>3</th>\n",
       "      <td>0.005996</td>\n",
       "      <td>0.000998</td>\n",
       "      <td>0.122629</td>\n",
       "      <td>-1.572010e+07</td>\n",
       "      <td>-1482.498217</td>\n",
       "      <td>-26024.056278</td>\n",
       "    </tr>\n",
       "    <tr>\n",
       "      <th>4</th>\n",
       "      <td>0.006001</td>\n",
       "      <td>0.002000</td>\n",
       "      <td>0.123225</td>\n",
       "      <td>-7.900328e+06</td>\n",
       "      <td>-1215.664306</td>\n",
       "      <td>-21642.270884</td>\n",
       "    </tr>\n",
       "  </tbody>\n",
       "</table>\n",
       "</div>"
      ],
      "text/plain": [
       "   fit_time  score_time   test_R2     test_-MSE    test_-MAE     test_-Max\n",
       "0  0.008000    0.001001  0.223954 -1.609333e+07 -1623.488752 -29735.690892\n",
       "1  0.004999    0.001001  0.053837 -8.007060e+06 -1266.599944 -21661.076796\n",
       "2  0.007004    0.002000  0.235657 -1.413006e+07 -1742.447023 -21691.541356\n",
       "3  0.005996    0.000998  0.122629 -1.572010e+07 -1482.498217 -26024.056278\n",
       "4  0.006001    0.002000  0.123225 -7.900328e+06 -1215.664306 -21642.270884"
      ]
     },
     "metadata": {},
     "output_type": "display_data"
    },
    {
     "name": "stdout",
     "output_type": "stream",
     "text": [
      "\n",
      "\n",
      "test_R2      1.518606e-01\n",
      "test_-MSE   -1.237018e+07\n",
      "test_-MAE   -1.466140e+03\n",
      "test_-Max   -2.415093e+04\n",
      "dtype: float64\n"
     ]
    }
   ],
   "source": [
    "cross_validation (X_train_prep, y_train,\n",
    "                  model,\n",
    "                  scoring_reg,\n",
    "                  ShuffleSplit(n_splits=5, random_state = 42))"
   ]
  },
  {
   "cell_type": "markdown",
   "id": "1bd5b096",
   "metadata": {},
   "source": [
    "### Визуализация ошибок от scikit-learn"
   ]
  },
  {
   "cell_type": "code",
   "execution_count": 31,
   "id": "a9efa662",
   "metadata": {},
   "outputs": [
    {
     "data": {
      "image/png": "[encoded data removed]",
      "text/plain": [
       "<Figure size 640x480 with 1 Axes>"
      ]
     },
     "metadata": {},
     "output_type": "display_data"
    }
   ],
   "source": [
    "PredictionErrorDisplay.from_predictions(\n",
    "    y_val,\n",
    "    model.predict(X_val_prep),\n",
    "    kind=\"actual_vs_predicted\",\n",
    "    scatter_kwargs={\"alpha\": 0.5},\n",
    ");"
   ]
  },
  {
   "cell_type": "markdown",
   "id": "fc6a6623",
   "metadata": {},
   "source": [
    "Небольшие выводы по модели:\n",
    "\n",
    "* Используя только 4 числовых признака можно неплохо предсказывать объем продаж\n",
    "\n",
    "* Проблемы с предсказанием высоких объемов продаж\n",
    "\n",
    "* Увеличение количества рейтингов, цены книги положительно сказывается на объеме продаж, рейтинга книги и возраста - отрицательно"
   ]
  },
  {
   "cell_type": "markdown",
   "id": "bebc8567",
   "metadata": {},
   "source": [
    "## Объединяем Pipeline Предобработки и Модель"
   ]
  },
  {
   "cell_type": "code",
   "execution_count": 32,
   "id": "15afc24b",
   "metadata": {},
   "outputs": [],
   "source": [
    "pipe_num = Pipeline([\n",
    "    ('preprocessors', preprocessors_num),\n",
    "    ('model', SGDRegressor(random_state = 42))\n",
    "])"
   ]
  },
  {
   "cell_type": "code",
   "execution_count": 33,
   "id": "c6429885",
   "metadata": {},
   "outputs": [
    {
     "data": {
      "text/html": [
       "<style>#sk-container-id-1 {\n",
       "  /* Definition of color scheme common for light and dark mode */\n",
       "  --sklearn-color-text: black;\n",
       "  --sklearn-color-line: gray;\n",
       "  /* Definition of color scheme for unfitted estimators */\n",
       "  --sklearn-color-unfitted-level-0: #fff5e6;\n",
       "  --sklearn-color-unfitted-level-1: #f6e4d2;\n",
       "  --sklearn-color-unfitted-level-2: #ffe0b3;\n",
       "  --sklearn-color-unfitted-level-3: chocolate;\n",
       "  /* Definition of color scheme for fitted estimators */\n",
       "  --sklearn-color-fitted-level-0: #f0f8ff;\n",
       "  --sklearn-color-fitted-level-1: #d4ebff;\n",
       "  --sklearn-color-fitted-level-2: #b3dbfd;\n",
       "  --sklearn-color-fitted-level-3: cornflowerblue;\n",
       "\n",
       "  /* Specific color for light theme */\n",
       "  --sklearn-color-text-on-default-background: var(--sg-text-color, var(--theme-code-foreground, var(--jp-content-font-color1, black)));\n",
       "  --sklearn-color-background: var(--sg-background-color, var(--theme-background, var(--jp-layout-color0, white)));\n",
       "  --sklearn-color-border-box: var(--sg-text-color, var(--theme-code-foreground, var(--jp-content-font-color1, black)));\n",
       "  --sklearn-color-icon: #696969;\n",
       "\n",
       "  @media (prefers-color-scheme: dark) {\n",
       "    /* Redefinition of color scheme for dark theme */\n",
       "    --sklearn-color-text-on-default-background: var(--sg-text-color, var(--theme-code-foreground, var(--jp-content-font-color1, white)));\n",
       "    --sklearn-color-background: var(--sg-background-color, var(--theme-background, var(--jp-layout-color0, #111)));\n",
       "    --sklearn-color-border-box: var(--sg-text-color, var(--theme-code-foreground, var(--jp-content-font-color1, white)));\n",
       "    --sklearn-color-icon: #878787;\n",
       "  }\n",
       "}\n",
       "\n",
       "#sk-container-id-1 {\n",
       "  color: var(--sklearn-color-text);\n",
       "}\n",
       "\n",
       "#sk-container-id-1 pre {\n",
       "  padding: 0;\n",
       "}\n",
       "\n",
       "#sk-container-id-1 input.sk-hidden--visually {\n",
       "  border: 0;\n",
       "  clip: rect(1px 1px 1px 1px);\n",
       "  clip: rect(1px, 1px, 1px, 1px);\n",
       "  height: 1px;\n",
       "  margin: -1px;\n",
       "  overflow: hidden;\n",
       "  padding: 0;\n",
       "  position: absolute;\n",
       "  width: 1px;\n",
       "}\n",
       "\n",
       "#sk-container-id-1 div.sk-dashed-wrapped {\n",
       "  border: 1px dashed var(--sklearn-color-line);\n",
       "  margin: 0 0.4em 0.5em 0.4em;\n",
       "  box-sizing: border-box;\n",
       "  padding-bottom: 0.4em;\n",
       "  background-color: var(--sklearn-color-background);\n",
       "}\n",
       "\n",
       "#sk-container-id-1 div.sk-container {\n",
       "  /* jupyter's `normalize.less` sets `[hidden] { display: none; }`\n",
       "     but bootstrap.min.css set `[hidden] { display: none !important; }`\n",
       "     so we also need the `!important` here to be able to override the\n",
       "     default hidden behavior on the sphinx rendered scikit-learn.org.\n",
       "     See: https://github.com/scikit-learn/scikit-learn/issues/21755 */\n",
       "  display: inline-block !important;\n",
       "  position: relative;\n",
       "}\n",
       "\n",
       "#sk-container-id-1 div.sk-text-repr-fallback {\n",
       "  display: none;\n",
       "}\n",
       "\n",
       "div.sk-parallel-item,\n",
       "div.sk-serial,\n",
       "div.sk-item {\n",
       "  /* draw centered vertical line to link estimators */\n",
       "  background-image: linear-gradient(var(--sklearn-color-text-on-default-background), var(--sklearn-color-text-on-default-background));\n",
       "  background-size: 2px 100%;\n",
       "  background-repeat: no-repeat;\n",
       "  background-position: center center;\n",
       "}\n",
       "\n",
       "/* Parallel-specific style estimator block */\n",
       "\n",
       "#sk-container-id-1 div.sk-parallel-item::after {\n",
       "  content: \"\";\n",
       "  width: 100%;\n",
       "  border-bottom: 2px solid var(--sklearn-color-text-on-default-background);\n",
       "  flex-grow: 1;\n",
       "}\n",
       "\n",
       "#sk-container-id-1 div.sk-parallel {\n",
       "  display: flex;\n",
       "  align-items: stretch;\n",
       "  justify-content: center;\n",
       "  background-color: var(--sklearn-color-background);\n",
       "  position: relative;\n",
       "}\n",
       "\n",
       "#sk-container-id-1 div.sk-parallel-item {\n",
       "  display: flex;\n",
       "  flex-direction: column;\n",
       "}\n",
       "\n",
       "#sk-container-id-1 div.sk-parallel-item:first-child::after {\n",
       "  align-self: flex-end;\n",
       "  width: 50%;\n",
       "}\n",
       "\n",
       "#sk-container-id-1 div.sk-parallel-item:last-child::after {\n",
       "  align-self: flex-start;\n",
       "  width: 50%;\n",
       "}\n",
       "\n",
       "#sk-container-id-1 div.sk-parallel-item:only-child::after {\n",
       "  width: 0;\n",
       "}\n",
       "\n",
       "/* Serial-specific style estimator block */\n",
       "\n",
       "#sk-container-id-1 div.sk-serial {\n",
       "  display: flex;\n",
       "  flex-direction: column;\n",
       "  align-items: center;\n",
       "  background-color: var(--sklearn-color-background);\n",
       "  padding-right: 1em;\n",
       "  padding-left: 1em;\n",
       "}\n",
       "\n",
       "\n",
       "/* Toggleable style: style used for estimator/Pipeline/ColumnTransformer box that is\n",
       "clickable and can be expanded/collapsed.\n",
       "- Pipeline and ColumnTransformer use this feature and define the default style\n",
       "- Estimators will overwrite some part of the style using the `sk-estimator` class\n",
       "*/\n",
       "\n",
       "/* Pipeline and ColumnTransformer style (default) */\n",
       "\n",
       "#sk-container-id-1 div.sk-toggleable {\n",
       "  /* Default theme specific background. It is overwritten whether we have a\n",
       "  specific estimator or a Pipeline/ColumnTransformer */\n",
       "  background-color: var(--sklearn-color-background);\n",
       "}\n",
       "\n",
       "/* Toggleable label */\n",
       "#sk-container-id-1 label.sk-toggleable__label {\n",
       "  cursor: pointer;\n",
       "  display: block;\n",
       "  width: 100%;\n",
       "  margin-bottom: 0;\n",
       "  padding: 0.5em;\n",
       "  box-sizing: border-box;\n",
       "  text-align: center;\n",
       "}\n",
       "\n",
       "#sk-container-id-1 label.sk-toggleable__label-arrow:before {\n",
       "  /* Arrow on the left of the label */\n",
       "  content: \"▸\";\n",
       "  float: left;\n",
       "  margin-right: 0.25em;\n",
       "  color: var(--sklearn-color-icon);\n",
       "}\n",
       "\n",
       "#sk-container-id-1 label.sk-toggleable__label-arrow:hover:before {\n",
       "  color: var(--sklearn-color-text);\n",
       "}\n",
       "\n",
       "/* Toggleable content - dropdown */\n",
       "\n",
       "#sk-container-id-1 div.sk-toggleable__content {\n",
       "  max-height: 0;\n",
       "  max-width: 0;\n",
       "  overflow: hidden;\n",
       "  text-align: left;\n",
       "  /* unfitted */\n",
       "  background-color: var(--sklearn-color-unfitted-level-0);\n",
       "}\n",
       "\n",
       "#sk-container-id-1 div.sk-toggleable__content.fitted {\n",
       "  /* fitted */\n",
       "  background-color: var(--sklearn-color-fitted-level-0);\n",
       "}\n",
       "\n",
       "#sk-container-id-1 div.sk-toggleable__content pre {\n",
       "  margin: 0.2em;\n",
       "  border-radius: 0.25em;\n",
       "  color: var(--sklearn-color-text);\n",
       "  /* unfitted */\n",
       "  background-color: var(--sklearn-color-unfitted-level-0);\n",
       "}\n",
       "\n",
       "#sk-container-id-1 div.sk-toggleable__content.fitted pre {\n",
       "  /* unfitted */\n",
       "  background-color: var(--sklearn-color-fitted-level-0);\n",
       "}\n",
       "\n",
       "#sk-container-id-1 input.sk-toggleable__control:checked~div.sk-toggleable__content {\n",
       "  /* Expand drop-down */\n",
       "  max-height: 200px;\n",
       "  max-width: 100%;\n",
       "  overflow: auto;\n",
       "}\n",
       "\n",
       "#sk-container-id-1 input.sk-toggleable__control:checked~label.sk-toggleable__label-arrow:before {\n",
       "  content: \"▾\";\n",
       "}\n",
       "\n",
       "/* Pipeline/ColumnTransformer-specific style */\n",
       "\n",
       "#sk-container-id-1 div.sk-label input.sk-toggleable__control:checked~label.sk-toggleable__label {\n",
       "  color: var(--sklearn-color-text);\n",
       "  background-color: var(--sklearn-color-unfitted-level-2);\n",
       "}\n",
       "\n",
       "#sk-container-id-1 div.sk-label.fitted input.sk-toggleable__control:checked~label.sk-toggleable__label {\n",
       "  background-color: var(--sklearn-color-fitted-level-2);\n",
       "}\n",
       "\n",
       "/* Estimator-specific style */\n",
       "\n",
       "/* Colorize estimator box */\n",
       "#sk-container-id-1 div.sk-estimator input.sk-toggleable__control:checked~label.sk-toggleable__label {\n",
       "  /* unfitted */\n",
       "  background-color: var(--sklearn-color-unfitted-level-2);\n",
       "}\n",
       "\n",
       "#sk-container-id-1 div.sk-estimator.fitted input.sk-toggleable__control:checked~label.sk-toggleable__label {\n",
       "  /* fitted */\n",
       "  background-color: var(--sklearn-color-fitted-level-2);\n",
       "}\n",
       "\n",
       "#sk-container-id-1 div.sk-label label.sk-toggleable__label,\n",
       "#sk-container-id-1 div.sk-label label {\n",
       "  /* The background is the default theme color */\n",
       "  color: var(--sklearn-color-text-on-default-background);\n",
       "}\n",
       "\n",
       "/* On hover, darken the color of the background */\n",
       "#sk-container-id-1 div.sk-label:hover label.sk-toggleable__label {\n",
       "  color: var(--sklearn-color-text);\n",
       "  background-color: var(--sklearn-color-unfitted-level-2);\n",
       "}\n",
       "\n",
       "/* Label box, darken color on hover, fitted */\n",
       "#sk-container-id-1 div.sk-label.fitted:hover label.sk-toggleable__label.fitted {\n",
       "  color: var(--sklearn-color-text);\n",
       "  background-color: var(--sklearn-color-fitted-level-2);\n",
       "}\n",
       "\n",
       "/* Estimator label */\n",
       "\n",
       "#sk-container-id-1 div.sk-label label {\n",
       "  font-family: monospace;\n",
       "  font-weight: bold;\n",
       "  display: inline-block;\n",
       "  line-height: 1.2em;\n",
       "}\n",
       "\n",
       "#sk-container-id-1 div.sk-label-container {\n",
       "  text-align: center;\n",
       "}\n",
       "\n",
       "/* Estimator-specific */\n",
       "#sk-container-id-1 div.sk-estimator {\n",
       "  font-family: monospace;\n",
       "  border: 1px dotted var(--sklearn-color-border-box);\n",
       "  border-radius: 0.25em;\n",
       "  box-sizing: border-box;\n",
       "  margin-bottom: 0.5em;\n",
       "  /* unfitted */\n",
       "  background-color: var(--sklearn-color-unfitted-level-0);\n",
       "}\n",
       "\n",
       "#sk-container-id-1 div.sk-estimator.fitted {\n",
       "  /* fitted */\n",
       "  background-color: var(--sklearn-color-fitted-level-0);\n",
       "}\n",
       "\n",
       "/* on hover */\n",
       "#sk-container-id-1 div.sk-estimator:hover {\n",
       "  /* unfitted */\n",
       "  background-color: var(--sklearn-color-unfitted-level-2);\n",
       "}\n",
       "\n",
       "#sk-container-id-1 div.sk-estimator.fitted:hover {\n",
       "  /* fitted */\n",
       "  background-color: var(--sklearn-color-fitted-level-2);\n",
       "}\n",
       "\n",
       "/* Specification for estimator info (e.g. \"i\" and \"?\") */\n",
       "\n",
       "/* Common style for \"i\" and \"?\" */\n",
       "\n",
       ".sk-estimator-doc-link,\n",
       "a:link.sk-estimator-doc-link,\n",
       "a:visited.sk-estimator-doc-link {\n",
       "  float: right;\n",
       "  font-size: smaller;\n",
       "  line-height: 1em;\n",
       "  font-family: monospace;\n",
       "  background-color: var(--sklearn-color-background);\n",
       "  border-radius: 1em;\n",
       "  height: 1em;\n",
       "  width: 1em;\n",
       "  text-decoration: none !important;\n",
       "  margin-left: 1ex;\n",
       "  /* unfitted */\n",
       "  border: var(--sklearn-color-unfitted-level-1) 1pt solid;\n",
       "  color: var(--sklearn-color-unfitted-level-1);\n",
       "}\n",
       "\n",
       ".sk-estimator-doc-link.fitted,\n",
       "a:link.sk-estimator-doc-link.fitted,\n",
       "a:visited.sk-estimator-doc-link.fitted {\n",
       "  /* fitted */\n",
       "  border: var(--sklearn-color-fitted-level-1) 1pt solid;\n",
       "  color: var(--sklearn-color-fitted-level-1);\n",
       "}\n",
       "\n",
       "/* On hover */\n",
       "div.sk-estimator:hover .sk-estimator-doc-link:hover,\n",
       ".sk-estimator-doc-link:hover,\n",
       "div.sk-label-container:hover .sk-estimator-doc-link:hover,\n",
       ".sk-estimator-doc-link:hover {\n",
       "  /* unfitted */\n",
       "  background-color: var(--sklearn-color-unfitted-level-3);\n",
       "  color: var(--sklearn-color-background);\n",
       "  text-decoration: none;\n",
       "}\n",
       "\n",
       "div.sk-estimator.fitted:hover .sk-estimator-doc-link.fitted:hover,\n",
       ".sk-estimator-doc-link.fitted:hover,\n",
       "div.sk-label-container:hover .sk-estimator-doc-link.fitted:hover,\n",
       ".sk-estimator-doc-link.fitted:hover {\n",
       "  /* fitted */\n",
       "  background-color: var(--sklearn-color-fitted-level-3);\n",
       "  color: var(--sklearn-color-background);\n",
       "  text-decoration: none;\n",
       "}\n",
       "\n",
       "/* Span, style for the box shown on hovering the info icon */\n",
       ".sk-estimator-doc-link span {\n",
       "  display: none;\n",
       "  z-index: 9999;\n",
       "  position: relative;\n",
       "  font-weight: normal;\n",
       "  right: .2ex;\n",
       "  padding: .5ex;\n",
       "  margin: .5ex;\n",
       "  width: min-content;\n",
       "  min-width: 20ex;\n",
       "  max-width: 50ex;\n",
       "  color: var(--sklearn-color-text);\n",
       "  box-shadow: 2pt 2pt 4pt #999;\n",
       "  /* unfitted */\n",
       "  background: var(--sklearn-color-unfitted-level-0);\n",
       "  border: .5pt solid var(--sklearn-color-unfitted-level-3);\n",
       "}\n",
       "\n",
       ".sk-estimator-doc-link.fitted span {\n",
       "  /* fitted */\n",
       "  background: var(--sklearn-color-fitted-level-0);\n",
       "  border: var(--sklearn-color-fitted-level-3);\n",
       "}\n",
       "\n",
       ".sk-estimator-doc-link:hover span {\n",
       "  display: block;\n",
       "}\n",
       "\n",
       "/* \"?\"-specific style due to the `<a>` HTML tag */\n",
       "\n",
       "#sk-container-id-1 a.estimator_doc_link {\n",
       "  float: right;\n",
       "  font-size: 1rem;\n",
       "  line-height: 1em;\n",
       "  font-family: monospace;\n",
       "  background-color: var(--sklearn-color-background);\n",
       "  border-radius: 1rem;\n",
       "  height: 1rem;\n",
       "  width: 1rem;\n",
       "  text-decoration: none;\n",
       "  /* unfitted */\n",
       "  color: var(--sklearn-color-unfitted-level-1);\n",
       "  border: var(--sklearn-color-unfitted-level-1) 1pt solid;\n",
       "}\n",
       "\n",
       "#sk-container-id-1 a.estimator_doc_link.fitted {\n",
       "  /* fitted */\n",
       "  border: var(--sklearn-color-fitted-level-1) 1pt solid;\n",
       "  color: var(--sklearn-color-fitted-level-1);\n",
       "}\n",
       "\n",
       "/* On hover */\n",
       "#sk-container-id-1 a.estimator_doc_link:hover {\n",
       "  /* unfitted */\n",
       "  background-color: var(--sklearn-color-unfitted-level-3);\n",
       "  color: var(--sklearn-color-background);\n",
       "  text-decoration: none;\n",
       "}\n",
       "\n",
       "#sk-container-id-1 a.estimator_doc_link.fitted:hover {\n",
       "  /* fitted */\n",
       "  background-color: var(--sklearn-color-fitted-level-3);\n",
       "}\n",
       "</style><div id=\"sk-container-id-1\" class=\"sk-top-container\"><div class=\"sk-text-repr-fallback\"><pre>SGDRegressor(random_state=42)</pre><b>In a Jupyter environment, please rerun this cell to show the HTML representation or trust the notebook. <br />On GitHub, the HTML representation is unable to render, please try loading this page with nbviewer.org.</b></div><div class=\"sk-container\" hidden><div class=\"sk-item\"><div class=\"sk-estimator  sk-toggleable\"><input class=\"sk-toggleable__control sk-hidden--visually\" id=\"sk-estimator-id-1\" type=\"checkbox\" checked><label for=\"sk-estimator-id-1\" class=\"sk-toggleable__label  sk-toggleable__label-arrow \">&nbsp;&nbsp;SGDRegressor<a class=\"sk-estimator-doc-link \" rel=\"noreferrer\" target=\"_blank\" href=\"https://scikit-learn.org/1.4/modules/generated/sklearn.linear_model.SGDRegressor.html\">?<span>Documentation for SGDRegressor</span></a><span class=\"sk-estimator-doc-link \">i<span>Not fitted</span></span></label><div class=\"sk-toggleable__content \"><pre>SGDRegressor(random_state=42)</pre></div> </div></div></div></div>"
      ],
      "text/plain": [
       "SGDRegressor(random_state=42)"
      ]
     },
     "execution_count": 33,
     "metadata": {},
     "output_type": "execute_result"
    }
   ],
   "source": [
    "pipe_num['model']"
   ]
  },
  {
   "cell_type": "code",
   "execution_count": 34,
   "id": "a907bfc9",
   "metadata": {},
   "outputs": [
    {
     "data": {
      "text/html": [
       "<style>#sk-container-id-2 {\n",
       "  /* Definition of color scheme common for light and dark mode */\n",
       "  --sklearn-color-text: black;\n",
       "  --sklearn-color-line: gray;\n",
       "  /* Definition of color scheme for unfitted estimators */\n",
       "  --sklearn-color-unfitted-level-0: #fff5e6;\n",
       "  --sklearn-color-unfitted-level-1: #f6e4d2;\n",
       "  --sklearn-color-unfitted-level-2: #ffe0b3;\n",
       "  --sklearn-color-unfitted-level-3: chocolate;\n",
       "  /* Definition of color scheme for fitted estimators */\n",
       "  --sklearn-color-fitted-level-0: #f0f8ff;\n",
       "  --sklearn-color-fitted-level-1: #d4ebff;\n",
       "  --sklearn-color-fitted-level-2: #b3dbfd;\n",
       "  --sklearn-color-fitted-level-3: cornflowerblue;\n",
       "\n",
       "  /* Specific color for light theme */\n",
       "  --sklearn-color-text-on-default-background: var(--sg-text-color, var(--theme-code-foreground, var(--jp-content-font-color1, black)));\n",
       "  --sklearn-color-background: var(--sg-background-color, var(--theme-background, var(--jp-layout-color0, white)));\n",
       "  --sklearn-color-border-box: var(--sg-text-color, var(--theme-code-foreground, var(--jp-content-font-color1, black)));\n",
       "  --sklearn-color-icon: #696969;\n",
       "\n",
       "  @media (prefers-color-scheme: dark) {\n",
       "    /* Redefinition of color scheme for dark theme */\n",
       "    --sklearn-color-text-on-default-background: var(--sg-text-color, var(--theme-code-foreground, var(--jp-content-font-color1, white)));\n",
       "    --sklearn-color-background: var(--sg-background-color, var(--theme-background, var(--jp-layout-color0, #111)));\n",
       "    --sklearn-color-border-box: var(--sg-text-color, var(--theme-code-foreground, var(--jp-content-font-color1, white)));\n",
       "    --sklearn-color-icon: #878787;\n",
       "  }\n",
       "}\n",
       "\n",
       "#sk-container-id-2 {\n",
       "  color: var(--sklearn-color-text);\n",
       "}\n",
       "\n",
       "#sk-container-id-2 pre {\n",
       "  padding: 0;\n",
       "}\n",
       "\n",
       "#sk-container-id-2 input.sk-hidden--visually {\n",
       "  border: 0;\n",
       "  clip: rect(1px 1px 1px 1px);\n",
       "  clip: rect(1px, 1px, 1px, 1px);\n",
       "  height: 1px;\n",
       "  margin: -1px;\n",
       "  overflow: hidden;\n",
       "  padding: 0;\n",
       "  position: absolute;\n",
       "  width: 1px;\n",
       "}\n",
       "\n",
       "#sk-container-id-2 div.sk-dashed-wrapped {\n",
       "  border: 1px dashed var(--sklearn-color-line);\n",
       "  margin: 0 0.4em 0.5em 0.4em;\n",
       "  box-sizing: border-box;\n",
       "  padding-bottom: 0.4em;\n",
       "  background-color: var(--sklearn-color-background);\n",
       "}\n",
       "\n",
       "#sk-container-id-2 div.sk-container {\n",
       "  /* jupyter's `normalize.less` sets `[hidden] { display: none; }`\n",
       "     but bootstrap.min.css set `[hidden] { display: none !important; }`\n",
       "     so we also need the `!important` here to be able to override the\n",
       "     default hidden behavior on the sphinx rendered scikit-learn.org.\n",
       "     See: https://github.com/scikit-learn/scikit-learn/issues/21755 */\n",
       "  display: inline-block !important;\n",
       "  position: relative;\n",
       "}\n",
       "\n",
       "#sk-container-id-2 div.sk-text-repr-fallback {\n",
       "  display: none;\n",
       "}\n",
       "\n",
       "div.sk-parallel-item,\n",
       "div.sk-serial,\n",
       "div.sk-item {\n",
       "  /* draw centered vertical line to link estimators */\n",
       "  background-image: linear-gradient(var(--sklearn-color-text-on-default-background), var(--sklearn-color-text-on-default-background));\n",
       "  background-size: 2px 100%;\n",
       "  background-repeat: no-repeat;\n",
       "  background-position: center center;\n",
       "}\n",
       "\n",
       "/* Parallel-specific style estimator block */\n",
       "\n",
       "#sk-container-id-2 div.sk-parallel-item::after {\n",
       "  content: \"\";\n",
       "  width: 100%;\n",
       "  border-bottom: 2px solid var(--sklearn-color-text-on-default-background);\n",
       "  flex-grow: 1;\n",
       "}\n",
       "\n",
       "#sk-container-id-2 div.sk-parallel {\n",
       "  display: flex;\n",
       "  align-items: stretch;\n",
       "  justify-content: center;\n",
       "  background-color: var(--sklearn-color-background);\n",
       "  position: relative;\n",
       "}\n",
       "\n",
       "#sk-container-id-2 div.sk-parallel-item {\n",
       "  display: flex;\n",
       "  flex-direction: column;\n",
       "}\n",
       "\n",
       "#sk-container-id-2 div.sk-parallel-item:first-child::after {\n",
       "  align-self: flex-end;\n",
       "  width: 50%;\n",
       "}\n",
       "\n",
       "#sk-container-id-2 div.sk-parallel-item:last-child::after {\n",
       "  align-self: flex-start;\n",
       "  width: 50%;\n",
       "}\n",
       "\n",
       "#sk-container-id-2 div.sk-parallel-item:only-child::after {\n",
       "  width: 0;\n",
       "}\n",
       "\n",
       "/* Serial-specific style estimator block */\n",
       "\n",
       "#sk-container-id-2 div.sk-serial {\n",
       "  display: flex;\n",
       "  flex-direction: column;\n",
       "  align-items: center;\n",
       "  background-color: var(--sklearn-color-background);\n",
       "  padding-right: 1em;\n",
       "  padding-left: 1em;\n",
       "}\n",
       "\n",
       "\n",
       "/* Toggleable style: style used for estimator/Pipeline/ColumnTransformer box that is\n",
       "clickable and can be expanded/collapsed.\n",
       "- Pipeline and ColumnTransformer use this feature and define the default style\n",
       "- Estimators will overwrite some part of the style using the `sk-estimator` class\n",
       "*/\n",
       "\n",
       "/* Pipeline and ColumnTransformer style (default) */\n",
       "\n",
       "#sk-container-id-2 div.sk-toggleable {\n",
       "  /* Default theme specific background. It is overwritten whether we have a\n",
       "  specific estimator or a Pipeline/ColumnTransformer */\n",
       "  background-color: var(--sklearn-color-background);\n",
       "}\n",
       "\n",
       "/* Toggleable label */\n",
       "#sk-container-id-2 label.sk-toggleable__label {\n",
       "  cursor: pointer;\n",
       "  display: block;\n",
       "  width: 100%;\n",
       "  margin-bottom: 0;\n",
       "  padding: 0.5em;\n",
       "  box-sizing: border-box;\n",
       "  text-align: center;\n",
       "}\n",
       "\n",
       "#sk-container-id-2 label.sk-toggleable__label-arrow:before {\n",
       "  /* Arrow on the left of the label */\n",
       "  content: \"▸\";\n",
       "  float: left;\n",
       "  margin-right: 0.25em;\n",
       "  color: var(--sklearn-color-icon);\n",
       "}\n",
       "\n",
       "#sk-container-id-2 label.sk-toggleable__label-arrow:hover:before {\n",
       "  color: var(--sklearn-color-text);\n",
       "}\n",
       "\n",
       "/* Toggleable content - dropdown */\n",
       "\n",
       "#sk-container-id-2 div.sk-toggleable__content {\n",
       "  max-height: 0;\n",
       "  max-width: 0;\n",
       "  overflow: hidden;\n",
       "  text-align: left;\n",
       "  /* unfitted */\n",
       "  background-color: var(--sklearn-color-unfitted-level-0);\n",
       "}\n",
       "\n",
       "#sk-container-id-2 div.sk-toggleable__content.fitted {\n",
       "  /* fitted */\n",
       "  background-color: var(--sklearn-color-fitted-level-0);\n",
       "}\n",
       "\n",
       "#sk-container-id-2 div.sk-toggleable__content pre {\n",
       "  margin: 0.2em;\n",
       "  border-radius: 0.25em;\n",
       "  color: var(--sklearn-color-text);\n",
       "  /* unfitted */\n",
       "  background-color: var(--sklearn-color-unfitted-level-0);\n",
       "}\n",
       "\n",
       "#sk-container-id-2 div.sk-toggleable__content.fitted pre {\n",
       "  /* unfitted */\n",
       "  background-color: var(--sklearn-color-fitted-level-0);\n",
       "}\n",
       "\n",
       "#sk-container-id-2 input.sk-toggleable__control:checked~div.sk-toggleable__content {\n",
       "  /* Expand drop-down */\n",
       "  max-height: 200px;\n",
       "  max-width: 100%;\n",
       "  overflow: auto;\n",
       "}\n",
       "\n",
       "#sk-container-id-2 input.sk-toggleable__control:checked~label.sk-toggleable__label-arrow:before {\n",
       "  content: \"▾\";\n",
       "}\n",
       "\n",
       "/* Pipeline/ColumnTransformer-specific style */\n",
       "\n",
       "#sk-container-id-2 div.sk-label input.sk-toggleable__control:checked~label.sk-toggleable__label {\n",
       "  color: var(--sklearn-color-text);\n",
       "  background-color: var(--sklearn-color-unfitted-level-2);\n",
       "}\n",
       "\n",
       "#sk-container-id-2 div.sk-label.fitted input.sk-toggleable__control:checked~label.sk-toggleable__label {\n",
       "  background-color: var(--sklearn-color-fitted-level-2);\n",
       "}\n",
       "\n",
       "/* Estimator-specific style */\n",
       "\n",
       "/* Colorize estimator box */\n",
       "#sk-container-id-2 div.sk-estimator input.sk-toggleable__control:checked~label.sk-toggleable__label {\n",
       "  /* unfitted */\n",
       "  background-color: var(--sklearn-color-unfitted-level-2);\n",
       "}\n",
       "\n",
       "#sk-container-id-2 div.sk-estimator.fitted input.sk-toggleable__control:checked~label.sk-toggleable__label {\n",
       "  /* fitted */\n",
       "  background-color: var(--sklearn-color-fitted-level-2);\n",
       "}\n",
       "\n",
       "#sk-container-id-2 div.sk-label label.sk-toggleable__label,\n",
       "#sk-container-id-2 div.sk-label label {\n",
       "  /* The background is the default theme color */\n",
       "  color: var(--sklearn-color-text-on-default-background);\n",
       "}\n",
       "\n",
       "/* On hover, darken the color of the background */\n",
       "#sk-container-id-2 div.sk-label:hover label.sk-toggleable__label {\n",
       "  color: var(--sklearn-color-text);\n",
       "  background-color: var(--sklearn-color-unfitted-level-2);\n",
       "}\n",
       "\n",
       "/* Label box, darken color on hover, fitted */\n",
       "#sk-container-id-2 div.sk-label.fitted:hover label.sk-toggleable__label.fitted {\n",
       "  color: var(--sklearn-color-text);\n",
       "  background-color: var(--sklearn-color-fitted-level-2);\n",
       "}\n",
       "\n",
       "/* Estimator label */\n",
       "\n",
       "#sk-container-id-2 div.sk-label label {\n",
       "  font-family: monospace;\n",
       "  font-weight: bold;\n",
       "  display: inline-block;\n",
       "  line-height: 1.2em;\n",
       "}\n",
       "\n",
       "#sk-container-id-2 div.sk-label-container {\n",
       "  text-align: center;\n",
       "}\n",
       "\n",
       "/* Estimator-specific */\n",
       "#sk-container-id-2 div.sk-estimator {\n",
       "  font-family: monospace;\n",
       "  border: 1px dotted var(--sklearn-color-border-box);\n",
       "  border-radius: 0.25em;\n",
       "  box-sizing: border-box;\n",
       "  margin-bottom: 0.5em;\n",
       "  /* unfitted */\n",
       "  background-color: var(--sklearn-color-unfitted-level-0);\n",
       "}\n",
       "\n",
       "#sk-container-id-2 div.sk-estimator.fitted {\n",
       "  /* fitted */\n",
       "  background-color: var(--sklearn-color-fitted-level-0);\n",
       "}\n",
       "\n",
       "/* on hover */\n",
       "#sk-container-id-2 div.sk-estimator:hover {\n",
       "  /* unfitted */\n",
       "  background-color: var(--sklearn-color-unfitted-level-2);\n",
       "}\n",
       "\n",
       "#sk-container-id-2 div.sk-estimator.fitted:hover {\n",
       "  /* fitted */\n",
       "  background-color: var(--sklearn-color-fitted-level-2);\n",
       "}\n",
       "\n",
       "/* Specification for estimator info (e.g. \"i\" and \"?\") */\n",
       "\n",
       "/* Common style for \"i\" and \"?\" */\n",
       "\n",
       ".sk-estimator-doc-link,\n",
       "a:link.sk-estimator-doc-link,\n",
       "a:visited.sk-estimator-doc-link {\n",
       "  float: right;\n",
       "  font-size: smaller;\n",
       "  line-height: 1em;\n",
       "  font-family: monospace;\n",
       "  background-color: var(--sklearn-color-background);\n",
       "  border-radius: 1em;\n",
       "  height: 1em;\n",
       "  width: 1em;\n",
       "  text-decoration: none !important;\n",
       "  margin-left: 1ex;\n",
       "  /* unfitted */\n",
       "  border: var(--sklearn-color-unfitted-level-1) 1pt solid;\n",
       "  color: var(--sklearn-color-unfitted-level-1);\n",
       "}\n",
       "\n",
       ".sk-estimator-doc-link.fitted,\n",
       "a:link.sk-estimator-doc-link.fitted,\n",
       "a:visited.sk-estimator-doc-link.fitted {\n",
       "  /* fitted */\n",
       "  border: var(--sklearn-color-fitted-level-1) 1pt solid;\n",
       "  color: var(--sklearn-color-fitted-level-1);\n",
       "}\n",
       "\n",
       "/* On hover */\n",
       "div.sk-estimator:hover .sk-estimator-doc-link:hover,\n",
       ".sk-estimator-doc-link:hover,\n",
       "div.sk-label-container:hover .sk-estimator-doc-link:hover,\n",
       ".sk-estimator-doc-link:hover {\n",
       "  /* unfitted */\n",
       "  background-color: var(--sklearn-color-unfitted-level-3);\n",
       "  color: var(--sklearn-color-background);\n",
       "  text-decoration: none;\n",
       "}\n",
       "\n",
       "div.sk-estimator.fitted:hover .sk-estimator-doc-link.fitted:hover,\n",
       ".sk-estimator-doc-link.fitted:hover,\n",
       "div.sk-label-container:hover .sk-estimator-doc-link.fitted:hover,\n",
       ".sk-estimator-doc-link.fitted:hover {\n",
       "  /* fitted */\n",
       "  background-color: var(--sklearn-color-fitted-level-3);\n",
       "  color: var(--sklearn-color-background);\n",
       "  text-decoration: none;\n",
       "}\n",
       "\n",
       "/* Span, style for the box shown on hovering the info icon */\n",
       ".sk-estimator-doc-link span {\n",
       "  display: none;\n",
       "  z-index: 9999;\n",
       "  position: relative;\n",
       "  font-weight: normal;\n",
       "  right: .2ex;\n",
       "  padding: .5ex;\n",
       "  margin: .5ex;\n",
       "  width: min-content;\n",
       "  min-width: 20ex;\n",
       "  max-width: 50ex;\n",
       "  color: var(--sklearn-color-text);\n",
       "  box-shadow: 2pt 2pt 4pt #999;\n",
       "  /* unfitted */\n",
       "  background: var(--sklearn-color-unfitted-level-0);\n",
       "  border: .5pt solid var(--sklearn-color-unfitted-level-3);\n",
       "}\n",
       "\n",
       ".sk-estimator-doc-link.fitted span {\n",
       "  /* fitted */\n",
       "  background: var(--sklearn-color-fitted-level-0);\n",
       "  border: var(--sklearn-color-fitted-level-3);\n",
       "}\n",
       "\n",
       ".sk-estimator-doc-link:hover span {\n",
       "  display: block;\n",
       "}\n",
       "\n",
       "/* \"?\"-specific style due to the `<a>` HTML tag */\n",
       "\n",
       "#sk-container-id-2 a.estimator_doc_link {\n",
       "  float: right;\n",
       "  font-size: 1rem;\n",
       "  line-height: 1em;\n",
       "  font-family: monospace;\n",
       "  background-color: var(--sklearn-color-background);\n",
       "  border-radius: 1rem;\n",
       "  height: 1rem;\n",
       "  width: 1rem;\n",
       "  text-decoration: none;\n",
       "  /* unfitted */\n",
       "  color: var(--sklearn-color-unfitted-level-1);\n",
       "  border: var(--sklearn-color-unfitted-level-1) 1pt solid;\n",
       "}\n",
       "\n",
       "#sk-container-id-2 a.estimator_doc_link.fitted {\n",
       "  /* fitted */\n",
       "  border: var(--sklearn-color-fitted-level-1) 1pt solid;\n",
       "  color: var(--sklearn-color-fitted-level-1);\n",
       "}\n",
       "\n",
       "/* On hover */\n",
       "#sk-container-id-2 a.estimator_doc_link:hover {\n",
       "  /* unfitted */\n",
       "  background-color: var(--sklearn-color-unfitted-level-3);\n",
       "  color: var(--sklearn-color-background);\n",
       "  text-decoration: none;\n",
       "}\n",
       "\n",
       "#sk-container-id-2 a.estimator_doc_link.fitted:hover {\n",
       "  /* fitted */\n",
       "  background-color: var(--sklearn-color-fitted-level-3);\n",
       "}\n",
       "</style><div id=\"sk-container-id-2\" class=\"sk-top-container\"><div class=\"sk-text-repr-fallback\"><pre>Pipeline(steps=[(&#x27;preprocessors&#x27;,\n",
       "                 ColumnTransformer(transformers=[(&#x27;num&#x27;,\n",
       "                                                  Pipeline(steps=[(&#x27;QuantReplace&#x27;,\n",
       "                                                                   QuantileReplacer(threshold=0.01)),\n",
       "                                                                  (&#x27;norm&#x27;,\n",
       "                                                                   MinMaxScaler())]),\n",
       "                                                  [&#x27;Age&#x27;, &#x27;Book_average_rating&#x27;,\n",
       "                                                   &#x27;Book_ratings_count&#x27;,\n",
       "                                                   &#x27;sale price&#x27;])])),\n",
       "                (&#x27;model&#x27;, SGDRegressor(random_state=42))])</pre><b>In a Jupyter environment, please rerun this cell to show the HTML representation or trust the notebook. <br />On GitHub, the HTML representation is unable to render, please try loading this page with nbviewer.org.</b></div><div class=\"sk-container\" hidden><div class=\"sk-item sk-dashed-wrapped\"><div class=\"sk-label-container\"><div class=\"sk-label fitted sk-toggleable\"><input class=\"sk-toggleable__control sk-hidden--visually\" id=\"sk-estimator-id-2\" type=\"checkbox\" ><label for=\"sk-estimator-id-2\" class=\"sk-toggleable__label fitted sk-toggleable__label-arrow fitted\">&nbsp;&nbsp;Pipeline<a class=\"sk-estimator-doc-link fitted\" rel=\"noreferrer\" target=\"_blank\" href=\"https://scikit-learn.org/1.4/modules/generated/sklearn.pipeline.Pipeline.html\">?<span>Documentation for Pipeline</span></a><span class=\"sk-estimator-doc-link fitted\">i<span>Fitted</span></span></label><div class=\"sk-toggleable__content fitted\"><pre>Pipeline(steps=[(&#x27;preprocessors&#x27;,\n",
       "                 ColumnTransformer(transformers=[(&#x27;num&#x27;,\n",
       "                                                  Pipeline(steps=[(&#x27;QuantReplace&#x27;,\n",
       "                                                                   QuantileReplacer(threshold=0.01)),\n",
       "                                                                  (&#x27;norm&#x27;,\n",
       "                                                                   MinMaxScaler())]),\n",
       "                                                  [&#x27;Age&#x27;, &#x27;Book_average_rating&#x27;,\n",
       "                                                   &#x27;Book_ratings_count&#x27;,\n",
       "                                                   &#x27;sale price&#x27;])])),\n",
       "                (&#x27;model&#x27;, SGDRegressor(random_state=42))])</pre></div> </div></div><div class=\"sk-serial\"><div class=\"sk-item sk-dashed-wrapped\"><div class=\"sk-label-container\"><div class=\"sk-label fitted sk-toggleable\"><input class=\"sk-toggleable__control sk-hidden--visually\" id=\"sk-estimator-id-3\" type=\"checkbox\" ><label for=\"sk-estimator-id-3\" class=\"sk-toggleable__label fitted sk-toggleable__label-arrow fitted\">&nbsp;preprocessors: ColumnTransformer<a class=\"sk-estimator-doc-link fitted\" rel=\"noreferrer\" target=\"_blank\" href=\"https://scikit-learn.org/1.4/modules/generated/sklearn.compose.ColumnTransformer.html\">?<span>Documentation for preprocessors: ColumnTransformer</span></a></label><div class=\"sk-toggleable__content fitted\"><pre>ColumnTransformer(transformers=[(&#x27;num&#x27;,\n",
       "                                 Pipeline(steps=[(&#x27;QuantReplace&#x27;,\n",
       "                                                  QuantileReplacer(threshold=0.01)),\n",
       "                                                 (&#x27;norm&#x27;, MinMaxScaler())]),\n",
       "                                 [&#x27;Age&#x27;, &#x27;Book_average_rating&#x27;,\n",
       "                                  &#x27;Book_ratings_count&#x27;, &#x27;sale price&#x27;])])</pre></div> </div></div><div class=\"sk-parallel\"><div class=\"sk-parallel-item\"><div class=\"sk-item\"><div class=\"sk-label-container\"><div class=\"sk-label fitted sk-toggleable\"><input class=\"sk-toggleable__control sk-hidden--visually\" id=\"sk-estimator-id-4\" type=\"checkbox\" ><label for=\"sk-estimator-id-4\" class=\"sk-toggleable__label fitted sk-toggleable__label-arrow fitted\">num</label><div class=\"sk-toggleable__content fitted\"><pre>[&#x27;Age&#x27;, &#x27;Book_average_rating&#x27;, &#x27;Book_ratings_count&#x27;, &#x27;sale price&#x27;]</pre></div> </div></div><div class=\"sk-serial\"><div class=\"sk-item\"><div class=\"sk-serial\"><div class=\"sk-item\"><div class=\"sk-estimator fitted sk-toggleable\"><input class=\"sk-toggleable__control sk-hidden--visually\" id=\"sk-estimator-id-5\" type=\"checkbox\" ><label for=\"sk-estimator-id-5\" class=\"sk-toggleable__label fitted sk-toggleable__label-arrow fitted\">QuantileReplacer</label><div class=\"sk-toggleable__content fitted\"><pre>QuantileReplacer(threshold=0.01)</pre></div> </div></div><div class=\"sk-item\"><div class=\"sk-estimator fitted sk-toggleable\"><input class=\"sk-toggleable__control sk-hidden--visually\" id=\"sk-estimator-id-6\" type=\"checkbox\" ><label for=\"sk-estimator-id-6\" class=\"sk-toggleable__label fitted sk-toggleable__label-arrow fitted\">&nbsp;MinMaxScaler<a class=\"sk-estimator-doc-link fitted\" rel=\"noreferrer\" target=\"_blank\" href=\"https://scikit-learn.org/1.4/modules/generated/sklearn.preprocessing.MinMaxScaler.html\">?<span>Documentation for MinMaxScaler</span></a></label><div class=\"sk-toggleable__content fitted\"><pre>MinMaxScaler()</pre></div> </div></div></div></div></div></div></div></div></div><div class=\"sk-item\"><div class=\"sk-estimator fitted sk-toggleable\"><input class=\"sk-toggleable__control sk-hidden--visually\" id=\"sk-estimator-id-7\" type=\"checkbox\" ><label for=\"sk-estimator-id-7\" class=\"sk-toggleable__label fitted sk-toggleable__label-arrow fitted\">&nbsp;SGDRegressor<a class=\"sk-estimator-doc-link fitted\" rel=\"noreferrer\" target=\"_blank\" href=\"https://scikit-learn.org/1.4/modules/generated/sklearn.linear_model.SGDRegressor.html\">?<span>Documentation for SGDRegressor</span></a></label><div class=\"sk-toggleable__content fitted\"><pre>SGDRegressor(random_state=42)</pre></div> </div></div></div></div></div></div>"
      ],
      "text/plain": [
       "Pipeline(steps=[('preprocessors',\n",
       "                 ColumnTransformer(transformers=[('num',\n",
       "                                                  Pipeline(steps=[('QuantReplace',\n",
       "                                                                   QuantileReplacer(threshold=0.01)),\n",
       "                                                                  ('norm',\n",
       "                                                                   MinMaxScaler())]),\n",
       "                                                  ['Age', 'Book_average_rating',\n",
       "                                                   'Book_ratings_count',\n",
       "                                                   'sale price'])])),\n",
       "                ('model', SGDRegressor(random_state=42))])"
      ]
     },
     "execution_count": 34,
     "metadata": {},
     "output_type": "execute_result"
    }
   ],
   "source": [
    "pipe_num.fit(X_train, y_train)"
   ]
  },
  {
   "cell_type": "code",
   "execution_count": 35,
   "id": "0ea0192e",
   "metadata": {},
   "outputs": [
    {
     "name": "stdout",
     "output_type": "stream",
     "text": [
      "Решение\n",
      "-1290.538-141.69*Age-563.94*Book_average_rating+6392.91*Book_ratings_count+4136.88*sale price\n"
     ]
    }
   ],
   "source": [
    "B0, B = get_coefs(pipe_num['model'])\n",
    "features_names = list(columns_num)\n",
    "\n",
    "print_model (B0,B,features_names)"
   ]
  },
  {
   "cell_type": "code",
   "execution_count": 36,
   "id": "d5da4419",
   "metadata": {},
   "outputs": [
    {
     "name": "stdout",
     "output_type": "stream",
     "text": [
      "r2 на тренировочной выборке: 0.2074\n",
      "r2 на валидационной выборке: 0.2656\n",
      "mse на тренировочной выборке: 11143418.7838\n",
      "mse на валидационной выборке: 14024424.9924\n",
      "rmse на тренировочной выборке: 3338.1760\n",
      "rmse на валидационной выборке: 3744.9199\n"
     ]
    }
   ],
   "source": [
    "print(f\"r2 на тренировочной выборке: {calculate_metric(pipe_num, X_train, y_train):.4f}\")\n",
    "print(f\"r2 на валидационной выборке: {calculate_metric(pipe_num, X_val, y_val):.4f}\")\n",
    "\n",
    "print(f\"mse на тренировочной выборке: {calculate_metric(pipe_num, X_train, y_train, mse):.4f}\")\n",
    "print(f\"mse на валидационной выборке: {calculate_metric(pipe_num, X_val, y_val, mse):.4f}\")\n",
    "\n",
    "print(f\"rmse на тренировочной выборке: {calculate_metric(pipe_num, X_train, y_train, mse, squared = False):.4f}\")\n",
    "print(f\"rmse на валидационной выборке: {calculate_metric(pipe_num, X_val, y_val, mse, squared = False):.4f}\")"
   ]
  },
  {
   "cell_type": "code",
   "execution_count": 37,
   "id": "7a53c76d",
   "metadata": {},
   "outputs": [
    {
     "name": "stdout",
     "output_type": "stream",
     "text": [
      "Ошибка на кросс-валидации\n"
     ]
    },
    {
     "data": {
      "text/html": [
       "<div>\n",
       "<style scoped>\n",
       "    .dataframe tbody tr th:only-of-type {\n",
       "        vertical-align: middle;\n",
       "    }\n",
       "\n",
       "    .dataframe tbody tr th {\n",
       "        vertical-align: top;\n",
       "    }\n",
       "\n",
       "    .dataframe thead th {\n",
       "        text-align: right;\n",
       "    }\n",
       "</style>\n",
       "<table border=\"1\" class=\"dataframe\">\n",
       "  <thead>\n",
       "    <tr style=\"text-align: right;\">\n",
       "      <th></th>\n",
       "      <th>fit_time</th>\n",
       "      <th>score_time</th>\n",
       "      <th>test_R2</th>\n",
       "      <th>test_-MSE</th>\n",
       "      <th>test_-MAE</th>\n",
       "      <th>test_-Max</th>\n",
       "    </tr>\n",
       "  </thead>\n",
       "  <tbody>\n",
       "    <tr>\n",
       "      <th>0</th>\n",
       "      <td>0.016999</td>\n",
       "      <td>0.005000</td>\n",
       "      <td>0.235203</td>\n",
       "      <td>-1.586006e+07</td>\n",
       "      <td>-1631.601798</td>\n",
       "      <td>-29448.631557</td>\n",
       "    </tr>\n",
       "    <tr>\n",
       "      <th>1</th>\n",
       "      <td>0.015000</td>\n",
       "      <td>0.004000</td>\n",
       "      <td>0.056514</td>\n",
       "      <td>-7.984409e+06</td>\n",
       "      <td>-1272.105494</td>\n",
       "      <td>-21592.451535</td>\n",
       "    </tr>\n",
       "    <tr>\n",
       "      <th>2</th>\n",
       "      <td>0.016000</td>\n",
       "      <td>0.005000</td>\n",
       "      <td>0.483405</td>\n",
       "      <td>-9.550062e+06</td>\n",
       "      <td>-1633.946725</td>\n",
       "      <td>-15260.793207</td>\n",
       "    </tr>\n",
       "    <tr>\n",
       "      <th>3</th>\n",
       "      <td>0.013000</td>\n",
       "      <td>0.005000</td>\n",
       "      <td>0.129071</td>\n",
       "      <td>-1.560468e+07</td>\n",
       "      <td>-1472.812635</td>\n",
       "      <td>-25940.006929</td>\n",
       "    </tr>\n",
       "    <tr>\n",
       "      <th>4</th>\n",
       "      <td>0.014004</td>\n",
       "      <td>0.004996</td>\n",
       "      <td>-0.032372</td>\n",
       "      <td>-9.302359e+06</td>\n",
       "      <td>-1413.090348</td>\n",
       "      <td>-22339.037590</td>\n",
       "    </tr>\n",
       "  </tbody>\n",
       "</table>\n",
       "</div>"
      ],
      "text/plain": [
       "   fit_time  score_time   test_R2     test_-MSE    test_-MAE     test_-Max\n",
       "0  0.016999    0.005000  0.235203 -1.586006e+07 -1631.601798 -29448.631557\n",
       "1  0.015000    0.004000  0.056514 -7.984409e+06 -1272.105494 -21592.451535\n",
       "2  0.016000    0.005000  0.483405 -9.550062e+06 -1633.946725 -15260.793207\n",
       "3  0.013000    0.005000  0.129071 -1.560468e+07 -1472.812635 -25940.006929\n",
       "4  0.014004    0.004996 -0.032372 -9.302359e+06 -1413.090348 -22339.037590"
      ]
     },
     "metadata": {},
     "output_type": "display_data"
    },
    {
     "name": "stdout",
     "output_type": "stream",
     "text": [
      "\n",
      "\n",
      "test_R2      1.743642e-01\n",
      "test_-MSE   -1.166031e+07\n",
      "test_-MAE   -1.484711e+03\n",
      "test_-Max   -2.291618e+04\n",
      "dtype: float64\n"
     ]
    }
   ],
   "source": [
    "cross_validation (X_train, y_train,\n",
    "                  pipe_num,\n",
    "                  scoring_reg,\n",
    "                  ShuffleSplit(n_splits=5, random_state = 42))"
   ]
  },
  {
   "cell_type": "markdown",
   "id": "c3ab6ed7",
   "metadata": {},
   "source": [
    "Настоящие значения:\n",
    "\n",
    "test_R2      0.1743642\n",
    "\n",
    "test_-MSE   -11660310\n",
    "\n",
    "test_-MAE   -1484.711\n",
    "\n",
    "test_-Max   -22916.18"
   ]
  },
  {
   "cell_type": "markdown",
   "id": "99483c25",
   "metadata": {},
   "source": [
    "## Оценим влияние предварительной обработки целевой переменной"
   ]
  },
  {
   "cell_type": "code",
   "execution_count": 38,
   "id": "0f549f42",
   "metadata": {},
   "outputs": [],
   "source": [
    "pipe_num_transform = Pipeline([\n",
    "    ('preprocessors', preprocessors_num),\n",
    "    ('model', TransformedTargetRegressor( regressor=SGDRegressor(random_state = 42),\n",
    "    transformer=PowerTransformer())\n",
    "    )\n",
    "])"
   ]
  },
  {
   "cell_type": "code",
   "execution_count": 39,
   "id": "d5963c57",
   "metadata": {},
   "outputs": [
    {
     "data": {
      "text/html": [
       "<style>#sk-container-id-3 {\n",
       "  /* Definition of color scheme common for light and dark mode */\n",
       "  --sklearn-color-text: black;\n",
       "  --sklearn-color-line: gray;\n",
       "  /* Definition of color scheme for unfitted estimators */\n",
       "  --sklearn-color-unfitted-level-0: #fff5e6;\n",
       "  --sklearn-color-unfitted-level-1: #f6e4d2;\n",
       "  --sklearn-color-unfitted-level-2: #ffe0b3;\n",
       "  --sklearn-color-unfitted-level-3: chocolate;\n",
       "  /* Definition of color scheme for fitted estimators */\n",
       "  --sklearn-color-fitted-level-0: #f0f8ff;\n",
       "  --sklearn-color-fitted-level-1: #d4ebff;\n",
       "  --sklearn-color-fitted-level-2: #b3dbfd;\n",
       "  --sklearn-color-fitted-level-3: cornflowerblue;\n",
       "\n",
       "  /* Specific color for light theme */\n",
       "  --sklearn-color-text-on-default-background: var(--sg-text-color, var(--theme-code-foreground, var(--jp-content-font-color1, black)));\n",
       "  --sklearn-color-background: var(--sg-background-color, var(--theme-background, var(--jp-layout-color0, white)));\n",
       "  --sklearn-color-border-box: var(--sg-text-color, var(--theme-code-foreground, var(--jp-content-font-color1, black)));\n",
       "  --sklearn-color-icon: #696969;\n",
       "\n",
       "  @media (prefers-color-scheme: dark) {\n",
       "    /* Redefinition of color scheme for dark theme */\n",
       "    --sklearn-color-text-on-default-background: var(--sg-text-color, var(--theme-code-foreground, var(--jp-content-font-color1, white)));\n",
       "    --sklearn-color-background: var(--sg-background-color, var(--theme-background, var(--jp-layout-color0, #111)));\n",
       "    --sklearn-color-border-box: var(--sg-text-color, var(--theme-code-foreground, var(--jp-content-font-color1, white)));\n",
       "    --sklearn-color-icon: #878787;\n",
       "  }\n",
       "}\n",
       "\n",
       "#sk-container-id-3 {\n",
       "  color: var(--sklearn-color-text);\n",
       "}\n",
       "\n",
       "#sk-container-id-3 pre {\n",
       "  padding: 0;\n",
       "}\n",
       "\n",
       "#sk-container-id-3 input.sk-hidden--visually {\n",
       "  border: 0;\n",
       "  clip: rect(1px 1px 1px 1px);\n",
       "  clip: rect(1px, 1px, 1px, 1px);\n",
       "  height: 1px;\n",
       "  margin: -1px;\n",
       "  overflow: hidden;\n",
       "  padding: 0;\n",
       "  position: absolute;\n",
       "  width: 1px;\n",
       "}\n",
       "\n",
       "#sk-container-id-3 div.sk-dashed-wrapped {\n",
       "  border: 1px dashed var(--sklearn-color-line);\n",
       "  margin: 0 0.4em 0.5em 0.4em;\n",
       "  box-sizing: border-box;\n",
       "  padding-bottom: 0.4em;\n",
       "  background-color: var(--sklearn-color-background);\n",
       "}\n",
       "\n",
       "#sk-container-id-3 div.sk-container {\n",
       "  /* jupyter's `normalize.less` sets `[hidden] { display: none; }`\n",
       "     but bootstrap.min.css set `[hidden] { display: none !important; }`\n",
       "     so we also need the `!important` here to be able to override the\n",
       "     default hidden behavior on the sphinx rendered scikit-learn.org.\n",
       "     See: https://github.com/scikit-learn/scikit-learn/issues/21755 */\n",
       "  display: inline-block !important;\n",
       "  position: relative;\n",
       "}\n",
       "\n",
       "#sk-container-id-3 div.sk-text-repr-fallback {\n",
       "  display: none;\n",
       "}\n",
       "\n",
       "div.sk-parallel-item,\n",
       "div.sk-serial,\n",
       "div.sk-item {\n",
       "  /* draw centered vertical line to link estimators */\n",
       "  background-image: linear-gradient(var(--sklearn-color-text-on-default-background), var(--sklearn-color-text-on-default-background));\n",
       "  background-size: 2px 100%;\n",
       "  background-repeat: no-repeat;\n",
       "  background-position: center center;\n",
       "}\n",
       "\n",
       "/* Parallel-specific style estimator block */\n",
       "\n",
       "#sk-container-id-3 div.sk-parallel-item::after {\n",
       "  content: \"\";\n",
       "  width: 100%;\n",
       "  border-bottom: 2px solid var(--sklearn-color-text-on-default-background);\n",
       "  flex-grow: 1;\n",
       "}\n",
       "\n",
       "#sk-container-id-3 div.sk-parallel {\n",
       "  display: flex;\n",
       "  align-items: stretch;\n",
       "  justify-content: center;\n",
       "  background-color: var(--sklearn-color-background);\n",
       "  position: relative;\n",
       "}\n",
       "\n",
       "#sk-container-id-3 div.sk-parallel-item {\n",
       "  display: flex;\n",
       "  flex-direction: column;\n",
       "}\n",
       "\n",
       "#sk-container-id-3 div.sk-parallel-item:first-child::after {\n",
       "  align-self: flex-end;\n",
       "  width: 50%;\n",
       "}\n",
       "\n",
       "#sk-container-id-3 div.sk-parallel-item:last-child::after {\n",
       "  align-self: flex-start;\n",
       "  width: 50%;\n",
       "}\n",
       "\n",
       "#sk-container-id-3 div.sk-parallel-item:only-child::after {\n",
       "  width: 0;\n",
       "}\n",
       "\n",
       "/* Serial-specific style estimator block */\n",
       "\n",
       "#sk-container-id-3 div.sk-serial {\n",
       "  display: flex;\n",
       "  flex-direction: column;\n",
       "  align-items: center;\n",
       "  background-color: var(--sklearn-color-background);\n",
       "  padding-right: 1em;\n",
       "  padding-left: 1em;\n",
       "}\n",
       "\n",
       "\n",
       "/* Toggleable style: style used for estimator/Pipeline/ColumnTransformer box that is\n",
       "clickable and can be expanded/collapsed.\n",
       "- Pipeline and ColumnTransformer use this feature and define the default style\n",
       "- Estimators will overwrite some part of the style using the `sk-estimator` class\n",
       "*/\n",
       "\n",
       "/* Pipeline and ColumnTransformer style (default) */\n",
       "\n",
       "#sk-container-id-3 div.sk-toggleable {\n",
       "  /* Default theme specific background. It is overwritten whether we have a\n",
       "  specific estimator or a Pipeline/ColumnTransformer */\n",
       "  background-color: var(--sklearn-color-background);\n",
       "}\n",
       "\n",
       "/* Toggleable label */\n",
       "#sk-container-id-3 label.sk-toggleable__label {\n",
       "  cursor: pointer;\n",
       "  display: block;\n",
       "  width: 100%;\n",
       "  margin-bottom: 0;\n",
       "  padding: 0.5em;\n",
       "  box-sizing: border-box;\n",
       "  text-align: center;\n",
       "}\n",
       "\n",
       "#sk-container-id-3 label.sk-toggleable__label-arrow:before {\n",
       "  /* Arrow on the left of the label */\n",
       "  content: \"▸\";\n",
       "  float: left;\n",
       "  margin-right: 0.25em;\n",
       "  color: var(--sklearn-color-icon);\n",
       "}\n",
       "\n",
       "#sk-container-id-3 label.sk-toggleable__label-arrow:hover:before {\n",
       "  color: var(--sklearn-color-text);\n",
       "}\n",
       "\n",
       "/* Toggleable content - dropdown */\n",
       "\n",
       "#sk-container-id-3 div.sk-toggleable__content {\n",
       "  max-height: 0;\n",
       "  max-width: 0;\n",
       "  overflow: hidden;\n",
       "  text-align: left;\n",
       "  /* unfitted */\n",
       "  background-color: var(--sklearn-color-unfitted-level-0);\n",
       "}\n",
       "\n",
       "#sk-container-id-3 div.sk-toggleable__content.fitted {\n",
       "  /* fitted */\n",
       "  background-color: var(--sklearn-color-fitted-level-0);\n",
       "}\n",
       "\n",
       "#sk-container-id-3 div.sk-toggleable__content pre {\n",
       "  margin: 0.2em;\n",
       "  border-radius: 0.25em;\n",
       "  color: var(--sklearn-color-text);\n",
       "  /* unfitted */\n",
       "  background-color: var(--sklearn-color-unfitted-level-0);\n",
       "}\n",
       "\n",
       "#sk-container-id-3 div.sk-toggleable__content.fitted pre {\n",
       "  /* unfitted */\n",
       "  background-color: var(--sklearn-color-fitted-level-0);\n",
       "}\n",
       "\n",
       "#sk-container-id-3 input.sk-toggleable__control:checked~div.sk-toggleable__content {\n",
       "  /* Expand drop-down */\n",
       "  max-height: 200px;\n",
       "  max-width: 100%;\n",
       "  overflow: auto;\n",
       "}\n",
       "\n",
       "#sk-container-id-3 input.sk-toggleable__control:checked~label.sk-toggleable__label-arrow:before {\n",
       "  content: \"▾\";\n",
       "}\n",
       "\n",
       "/* Pipeline/ColumnTransformer-specific style */\n",
       "\n",
       "#sk-container-id-3 div.sk-label input.sk-toggleable__control:checked~label.sk-toggleable__label {\n",
       "  color: var(--sklearn-color-text);\n",
       "  background-color: var(--sklearn-color-unfitted-level-2);\n",
       "}\n",
       "\n",
       "#sk-container-id-3 div.sk-label.fitted input.sk-toggleable__control:checked~label.sk-toggleable__label {\n",
       "  background-color: var(--sklearn-color-fitted-level-2);\n",
       "}\n",
       "\n",
       "/* Estimator-specific style */\n",
       "\n",
       "/* Colorize estimator box */\n",
       "#sk-container-id-3 div.sk-estimator input.sk-toggleable__control:checked~label.sk-toggleable__label {\n",
       "  /* unfitted */\n",
       "  background-color: var(--sklearn-color-unfitted-level-2);\n",
       "}\n",
       "\n",
       "#sk-container-id-3 div.sk-estimator.fitted input.sk-toggleable__control:checked~label.sk-toggleable__label {\n",
       "  /* fitted */\n",
       "  background-color: var(--sklearn-color-fitted-level-2);\n",
       "}\n",
       "\n",
       "#sk-container-id-3 div.sk-label label.sk-toggleable__label,\n",
       "#sk-container-id-3 div.sk-label label {\n",
       "  /* The background is the default theme color */\n",
       "  color: var(--sklearn-color-text-on-default-background);\n",
       "}\n",
       "\n",
       "/* On hover, darken the color of the background */\n",
       "#sk-container-id-3 div.sk-label:hover label.sk-toggleable__label {\n",
       "  color: var(--sklearn-color-text);\n",
       "  background-color: var(--sklearn-color-unfitted-level-2);\n",
       "}\n",
       "\n",
       "/* Label box, darken color on hover, fitted */\n",
       "#sk-container-id-3 div.sk-label.fitted:hover label.sk-toggleable__label.fitted {\n",
       "  color: var(--sklearn-color-text);\n",
       "  background-color: var(--sklearn-color-fitted-level-2);\n",
       "}\n",
       "\n",
       "/* Estimator label */\n",
       "\n",
       "#sk-container-id-3 div.sk-label label {\n",
       "  font-family: monospace;\n",
       "  font-weight: bold;\n",
       "  display: inline-block;\n",
       "  line-height: 1.2em;\n",
       "}\n",
       "\n",
       "#sk-container-id-3 div.sk-label-container {\n",
       "  text-align: center;\n",
       "}\n",
       "\n",
       "/* Estimator-specific */\n",
       "#sk-container-id-3 div.sk-estimator {\n",
       "  font-family: monospace;\n",
       "  border: 1px dotted var(--sklearn-color-border-box);\n",
       "  border-radius: 0.25em;\n",
       "  box-sizing: border-box;\n",
       "  margin-bottom: 0.5em;\n",
       "  /* unfitted */\n",
       "  background-color: var(--sklearn-color-unfitted-level-0);\n",
       "}\n",
       "\n",
       "#sk-container-id-3 div.sk-estimator.fitted {\n",
       "  /* fitted */\n",
       "  background-color: var(--sklearn-color-fitted-level-0);\n",
       "}\n",
       "\n",
       "/* on hover */\n",
       "#sk-container-id-3 div.sk-estimator:hover {\n",
       "  /* unfitted */\n",
       "  background-color: var(--sklearn-color-unfitted-level-2);\n",
       "}\n",
       "\n",
       "#sk-container-id-3 div.sk-estimator.fitted:hover {\n",
       "  /* fitted */\n",
       "  background-color: var(--sklearn-color-fitted-level-2);\n",
       "}\n",
       "\n",
       "/* Specification for estimator info (e.g. \"i\" and \"?\") */\n",
       "\n",
       "/* Common style for \"i\" and \"?\" */\n",
       "\n",
       ".sk-estimator-doc-link,\n",
       "a:link.sk-estimator-doc-link,\n",
       "a:visited.sk-estimator-doc-link {\n",
       "  float: right;\n",
       "  font-size: smaller;\n",
       "  line-height: 1em;\n",
       "  font-family: monospace;\n",
       "  background-color: var(--sklearn-color-background);\n",
       "  border-radius: 1em;\n",
       "  height: 1em;\n",
       "  width: 1em;\n",
       "  text-decoration: none !important;\n",
       "  margin-left: 1ex;\n",
       "  /* unfitted */\n",
       "  border: var(--sklearn-color-unfitted-level-1) 1pt solid;\n",
       "  color: var(--sklearn-color-unfitted-level-1);\n",
       "}\n",
       "\n",
       ".sk-estimator-doc-link.fitted,\n",
       "a:link.sk-estimator-doc-link.fitted,\n",
       "a:visited.sk-estimator-doc-link.fitted {\n",
       "  /* fitted */\n",
       "  border: var(--sklearn-color-fitted-level-1) 1pt solid;\n",
       "  color: var(--sklearn-color-fitted-level-1);\n",
       "}\n",
       "\n",
       "/* On hover */\n",
       "div.sk-estimator:hover .sk-estimator-doc-link:hover,\n",
       ".sk-estimator-doc-link:hover,\n",
       "div.sk-label-container:hover .sk-estimator-doc-link:hover,\n",
       ".sk-estimator-doc-link:hover {\n",
       "  /* unfitted */\n",
       "  background-color: var(--sklearn-color-unfitted-level-3);\n",
       "  color: var(--sklearn-color-background);\n",
       "  text-decoration: none;\n",
       "}\n",
       "\n",
       "div.sk-estimator.fitted:hover .sk-estimator-doc-link.fitted:hover,\n",
       ".sk-estimator-doc-link.fitted:hover,\n",
       "div.sk-label-container:hover .sk-estimator-doc-link.fitted:hover,\n",
       ".sk-estimator-doc-link.fitted:hover {\n",
       "  /* fitted */\n",
       "  background-color: var(--sklearn-color-fitted-level-3);\n",
       "  color: var(--sklearn-color-background);\n",
       "  text-decoration: none;\n",
       "}\n",
       "\n",
       "/* Span, style for the box shown on hovering the info icon */\n",
       ".sk-estimator-doc-link span {\n",
       "  display: none;\n",
       "  z-index: 9999;\n",
       "  position: relative;\n",
       "  font-weight: normal;\n",
       "  right: .2ex;\n",
       "  padding: .5ex;\n",
       "  margin: .5ex;\n",
       "  width: min-content;\n",
       "  min-width: 20ex;\n",
       "  max-width: 50ex;\n",
       "  color: var(--sklearn-color-text);\n",
       "  box-shadow: 2pt 2pt 4pt #999;\n",
       "  /* unfitted */\n",
       "  background: var(--sklearn-color-unfitted-level-0);\n",
       "  border: .5pt solid var(--sklearn-color-unfitted-level-3);\n",
       "}\n",
       "\n",
       ".sk-estimator-doc-link.fitted span {\n",
       "  /* fitted */\n",
       "  background: var(--sklearn-color-fitted-level-0);\n",
       "  border: var(--sklearn-color-fitted-level-3);\n",
       "}\n",
       "\n",
       ".sk-estimator-doc-link:hover span {\n",
       "  display: block;\n",
       "}\n",
       "\n",
       "/* \"?\"-specific style due to the `<a>` HTML tag */\n",
       "\n",
       "#sk-container-id-3 a.estimator_doc_link {\n",
       "  float: right;\n",
       "  font-size: 1rem;\n",
       "  line-height: 1em;\n",
       "  font-family: monospace;\n",
       "  background-color: var(--sklearn-color-background);\n",
       "  border-radius: 1rem;\n",
       "  height: 1rem;\n",
       "  width: 1rem;\n",
       "  text-decoration: none;\n",
       "  /* unfitted */\n",
       "  color: var(--sklearn-color-unfitted-level-1);\n",
       "  border: var(--sklearn-color-unfitted-level-1) 1pt solid;\n",
       "}\n",
       "\n",
       "#sk-container-id-3 a.estimator_doc_link.fitted {\n",
       "  /* fitted */\n",
       "  border: var(--sklearn-color-fitted-level-1) 1pt solid;\n",
       "  color: var(--sklearn-color-fitted-level-1);\n",
       "}\n",
       "\n",
       "/* On hover */\n",
       "#sk-container-id-3 a.estimator_doc_link:hover {\n",
       "  /* unfitted */\n",
       "  background-color: var(--sklearn-color-unfitted-level-3);\n",
       "  color: var(--sklearn-color-background);\n",
       "  text-decoration: none;\n",
       "}\n",
       "\n",
       "#sk-container-id-3 a.estimator_doc_link.fitted:hover {\n",
       "  /* fitted */\n",
       "  background-color: var(--sklearn-color-fitted-level-3);\n",
       "}\n",
       "</style><div id=\"sk-container-id-3\" class=\"sk-top-container\"><div class=\"sk-text-repr-fallback\"><pre>Pipeline(steps=[(&#x27;preprocessors&#x27;,\n",
       "                 ColumnTransformer(transformers=[(&#x27;num&#x27;,\n",
       "                                                  Pipeline(steps=[(&#x27;QuantReplace&#x27;,\n",
       "                                                                   QuantileReplacer(threshold=0.01)),\n",
       "                                                                  (&#x27;norm&#x27;,\n",
       "                                                                   MinMaxScaler())]),\n",
       "                                                  [&#x27;Age&#x27;, &#x27;Book_average_rating&#x27;,\n",
       "                                                   &#x27;Book_ratings_count&#x27;,\n",
       "                                                   &#x27;sale price&#x27;])])),\n",
       "                (&#x27;model&#x27;,\n",
       "                 TransformedTargetRegressor(regressor=SGDRegressor(random_state=42),\n",
       "                                            transformer=PowerTransformer()))])</pre><b>In a Jupyter environment, please rerun this cell to show the HTML representation or trust the notebook. <br />On GitHub, the HTML representation is unable to render, please try loading this page with nbviewer.org.</b></div><div class=\"sk-container\" hidden><div class=\"sk-item sk-dashed-wrapped\"><div class=\"sk-label-container\"><div class=\"sk-label fitted sk-toggleable\"><input class=\"sk-toggleable__control sk-hidden--visually\" id=\"sk-estimator-id-8\" type=\"checkbox\" ><label for=\"sk-estimator-id-8\" class=\"sk-toggleable__label fitted sk-toggleable__label-arrow fitted\">&nbsp;&nbsp;Pipeline<a class=\"sk-estimator-doc-link fitted\" rel=\"noreferrer\" target=\"_blank\" href=\"https://scikit-learn.org/1.4/modules/generated/sklearn.pipeline.Pipeline.html\">?<span>Documentation for Pipeline</span></a><span class=\"sk-estimator-doc-link fitted\">i<span>Fitted</span></span></label><div class=\"sk-toggleable__content fitted\"><pre>Pipeline(steps=[(&#x27;preprocessors&#x27;,\n",
       "                 ColumnTransformer(transformers=[(&#x27;num&#x27;,\n",
       "                                                  Pipeline(steps=[(&#x27;QuantReplace&#x27;,\n",
       "                                                                   QuantileReplacer(threshold=0.01)),\n",
       "                                                                  (&#x27;norm&#x27;,\n",
       "                                                                   MinMaxScaler())]),\n",
       "                                                  [&#x27;Age&#x27;, &#x27;Book_average_rating&#x27;,\n",
       "                                                   &#x27;Book_ratings_count&#x27;,\n",
       "                                                   &#x27;sale price&#x27;])])),\n",
       "                (&#x27;model&#x27;,\n",
       "                 TransformedTargetRegressor(regressor=SGDRegressor(random_state=42),\n",
       "                                            transformer=PowerTransformer()))])</pre></div> </div></div><div class=\"sk-serial\"><div class=\"sk-item sk-dashed-wrapped\"><div class=\"sk-label-container\"><div class=\"sk-label fitted sk-toggleable\"><input class=\"sk-toggleable__control sk-hidden--visually\" id=\"sk-estimator-id-9\" type=\"checkbox\" ><label for=\"sk-estimator-id-9\" class=\"sk-toggleable__label fitted sk-toggleable__label-arrow fitted\">&nbsp;preprocessors: ColumnTransformer<a class=\"sk-estimator-doc-link fitted\" rel=\"noreferrer\" target=\"_blank\" href=\"https://scikit-learn.org/1.4/modules/generated/sklearn.compose.ColumnTransformer.html\">?<span>Documentation for preprocessors: ColumnTransformer</span></a></label><div class=\"sk-toggleable__content fitted\"><pre>ColumnTransformer(transformers=[(&#x27;num&#x27;,\n",
       "                                 Pipeline(steps=[(&#x27;QuantReplace&#x27;,\n",
       "                                                  QuantileReplacer(threshold=0.01)),\n",
       "                                                 (&#x27;norm&#x27;, MinMaxScaler())]),\n",
       "                                 [&#x27;Age&#x27;, &#x27;Book_average_rating&#x27;,\n",
       "                                  &#x27;Book_ratings_count&#x27;, &#x27;sale price&#x27;])])</pre></div> </div></div><div class=\"sk-parallel\"><div class=\"sk-parallel-item\"><div class=\"sk-item\"><div class=\"sk-label-container\"><div class=\"sk-label fitted sk-toggleable\"><input class=\"sk-toggleable__control sk-hidden--visually\" id=\"sk-estimator-id-10\" type=\"checkbox\" ><label for=\"sk-estimator-id-10\" class=\"sk-toggleable__label fitted sk-toggleable__label-arrow fitted\">num</label><div class=\"sk-toggleable__content fitted\"><pre>[&#x27;Age&#x27;, &#x27;Book_average_rating&#x27;, &#x27;Book_ratings_count&#x27;, &#x27;sale price&#x27;]</pre></div> </div></div><div class=\"sk-serial\"><div class=\"sk-item\"><div class=\"sk-serial\"><div class=\"sk-item\"><div class=\"sk-estimator fitted sk-toggleable\"><input class=\"sk-toggleable__control sk-hidden--visually\" id=\"sk-estimator-id-11\" type=\"checkbox\" ><label for=\"sk-estimator-id-11\" class=\"sk-toggleable__label fitted sk-toggleable__label-arrow fitted\">QuantileReplacer</label><div class=\"sk-toggleable__content fitted\"><pre>QuantileReplacer(threshold=0.01)</pre></div> </div></div><div class=\"sk-item\"><div class=\"sk-estimator fitted sk-toggleable\"><input class=\"sk-toggleable__control sk-hidden--visually\" id=\"sk-estimator-id-12\" type=\"checkbox\" ><label for=\"sk-estimator-id-12\" class=\"sk-toggleable__label fitted sk-toggleable__label-arrow fitted\">&nbsp;MinMaxScaler<a class=\"sk-estimator-doc-link fitted\" rel=\"noreferrer\" target=\"_blank\" href=\"https://scikit-learn.org/1.4/modules/generated/sklearn.preprocessing.MinMaxScaler.html\">?<span>Documentation for MinMaxScaler</span></a></label><div class=\"sk-toggleable__content fitted\"><pre>MinMaxScaler()</pre></div> </div></div></div></div></div></div></div></div></div><div class=\"sk-item sk-dashed-wrapped\"><div class=\"sk-label-container\"><div class=\"sk-label fitted sk-toggleable\"><input class=\"sk-toggleable__control sk-hidden--visually\" id=\"sk-estimator-id-13\" type=\"checkbox\" ><label for=\"sk-estimator-id-13\" class=\"sk-toggleable__label fitted sk-toggleable__label-arrow fitted\">&nbsp;model: TransformedTargetRegressor<a class=\"sk-estimator-doc-link fitted\" rel=\"noreferrer\" target=\"_blank\" href=\"https://scikit-learn.org/1.4/modules/generated/sklearn.compose.TransformedTargetRegressor.html\">?<span>Documentation for model: TransformedTargetRegressor</span></a></label><div class=\"sk-toggleable__content fitted\"><pre>TransformedTargetRegressor(regressor=SGDRegressor(random_state=42),\n",
       "                           transformer=PowerTransformer())</pre></div> </div></div><div class=\"sk-parallel\"><div class=\"sk-parallel-item\"><div class=\"sk-item\"><div class=\"sk-label-container\"><div class=\"sk-label fitted sk-toggleable\"><input class=\"sk-toggleable__control sk-hidden--visually\" id=\"sk-estimator-id-14\" type=\"checkbox\" ><label for=\"sk-estimator-id-14\" class=\"sk-toggleable__label fitted sk-toggleable__label-arrow fitted\">regressor: SGDRegressor</label><div class=\"sk-toggleable__content fitted\"><pre>SGDRegressor(random_state=42)</pre></div> </div></div><div class=\"sk-serial\"><div class=\"sk-item\"><div class=\"sk-estimator fitted sk-toggleable\"><input class=\"sk-toggleable__control sk-hidden--visually\" id=\"sk-estimator-id-15\" type=\"checkbox\" ><label for=\"sk-estimator-id-15\" class=\"sk-toggleable__label fitted sk-toggleable__label-arrow fitted\">&nbsp;SGDRegressor<a class=\"sk-estimator-doc-link fitted\" rel=\"noreferrer\" target=\"_blank\" href=\"https://scikit-learn.org/1.4/modules/generated/sklearn.linear_model.SGDRegressor.html\">?<span>Documentation for SGDRegressor</span></a></label><div class=\"sk-toggleable__content fitted\"><pre>SGDRegressor(random_state=42)</pre></div> </div></div></div></div></div><div class=\"sk-parallel-item\"><div class=\"sk-item\"><div class=\"sk-label-container\"><div class=\"sk-label fitted sk-toggleable\"><input class=\"sk-toggleable__control sk-hidden--visually\" id=\"sk-estimator-id-16\" type=\"checkbox\" ><label for=\"sk-estimator-id-16\" class=\"sk-toggleable__label fitted sk-toggleable__label-arrow fitted\">transformer: PowerTransformer</label><div class=\"sk-toggleable__content fitted\"><pre>PowerTransformer()</pre></div> </div></div><div class=\"sk-serial\"><div class=\"sk-item\"><div class=\"sk-estimator fitted sk-toggleable\"><input class=\"sk-toggleable__control sk-hidden--visually\" id=\"sk-estimator-id-17\" type=\"checkbox\" ><label for=\"sk-estimator-id-17\" class=\"sk-toggleable__label fitted sk-toggleable__label-arrow fitted\">&nbsp;PowerTransformer<a class=\"sk-estimator-doc-link fitted\" rel=\"noreferrer\" target=\"_blank\" href=\"https://scikit-learn.org/1.4/modules/generated/sklearn.preprocessing.PowerTransformer.html\">?<span>Documentation for PowerTransformer</span></a></label><div class=\"sk-toggleable__content fitted\"><pre>PowerTransformer()</pre></div> </div></div></div></div></div></div></div></div></div></div></div>"
      ],
      "text/plain": [
       "Pipeline(steps=[('preprocessors',\n",
       "                 ColumnTransformer(transformers=[('num',\n",
       "                                                  Pipeline(steps=[('QuantReplace',\n",
       "                                                                   QuantileReplacer(threshold=0.01)),\n",
       "                                                                  ('norm',\n",
       "                                                                   MinMaxScaler())]),\n",
       "                                                  ['Age', 'Book_average_rating',\n",
       "                                                   'Book_ratings_count',\n",
       "                                                   'sale price'])])),\n",
       "                ('model',\n",
       "                 TransformedTargetRegressor(regressor=SGDRegressor(random_state=42),\n",
       "                                            transformer=PowerTransformer()))])"
      ]
     },
     "execution_count": 39,
     "metadata": {},
     "output_type": "execute_result"
    }
   ],
   "source": [
    "pipe_num_transform.fit(X_train, y_train)"
   ]
  },
  {
   "cell_type": "code",
   "execution_count": 40,
   "id": "11020f88",
   "metadata": {},
   "outputs": [
    {
     "name": "stdout",
     "output_type": "stream",
     "text": [
      "Решение\n",
      "-1.130+0.08*Age-0.25*Book_average_rating+1.87*Book_ratings_count+2.16*sale price\n"
     ]
    }
   ],
   "source": [
    "B0, B = get_coefs(pipe_num_transform['model'].regressor_)\n",
    "features_names = list(columns_num)\n",
    "\n",
    "print_model (B0,B,features_names)"
   ]
  },
  {
   "cell_type": "code",
   "execution_count": 41,
   "id": "b16baca6",
   "metadata": {},
   "outputs": [
    {
     "data": {
      "application/vnd.plotly.v1+json": {
       "config": {
        "plotlyServerURL": "https://plot.ly"
       },
       "data": [
        {
         "marker": {
          "color": "red"
         },
         "name": "отрицательные веса",
         "type": "bar",
         "x": [
          0,
          2
         ],
         "y": [
          -1.1298653062134751,
          -0.24763094252892906
         ]
        },
        {
         "marker": {
          "color": "blue"
         },
         "name": "положительные веса",
         "type": "bar",
         "x": [
          1,
          3,
          4
         ],
         "y": [
          0.07825845666902669,
          1.8734767865236377,
          2.164163875580771
         ]
        }
       ],
       "layout": {
        "height": 600,
        "template": {
         "data": {
          "bar": [
           {
            "error_x": {
             "color": "#f2f5fa"
            },
            "error_y": {
             "color": "#f2f5fa"
            },
            "marker": {
             "line": {
              "color": "rgb(17,17,17)",
              "width": 0.5
             },
             "pattern": {
              "fillmode": "overlay",
              "size": 10,
              "solidity": 0.2
             }
            },
            "type": "bar"
           }
          ],
          "barpolar": [
           {
            "marker": {
             "line": {
              "color": "rgb(17,17,17)",
              "width": 0.5
             },
             "pattern": {
              "fillmode": "overlay",
              "size": 10,
              "solidity": 0.2
             }
            },
            "type": "barpolar"
           }
          ],
          "carpet": [
           {
            "aaxis": {
             "endlinecolor": "#A2B1C6",
             "gridcolor": "#506784",
             "linecolor": "#506784",
             "minorgridcolor": "#506784",
             "startlinecolor": "#A2B1C6"
            },
            "baxis": {
             "endlinecolor": "#A2B1C6",
             "gridcolor": "#506784",
             "linecolor": "#506784",
             "minorgridcolor": "#506784",
             "startlinecolor": "#A2B1C6"
            },
            "type": "carpet"
           }
          ],
          "choropleth": [
           {
            "colorbar": {
             "outlinewidth": 0,
             "ticks": ""
            },
            "type": "choropleth"
           }
          ],
          "contour": [
           {
            "colorbar": {
             "outlinewidth": 0,
             "ticks": ""
            },
            "colorscale": [
             [
              0,
              "#0d0887"
             ],
             [
              0.1111111111111111,
              "#46039f"
             ],
             [
              0.2222222222222222,
              "#7201a8"
             ],
             [
              0.3333333333333333,
              "#9c179e"
             ],
             [
              0.4444444444444444,
              "#bd3786"
             ],
             [
              0.5555555555555556,
              "#d8576b"
             ],
             [
              0.6666666666666666,
              "#ed7953"
             ],
             [
              0.7777777777777778,
              "#fb9f3a"
             ],
             [
              0.8888888888888888,
              "#fdca26"
             ],
             [
              1,
              "#f0f921"
             ]
            ],
            "type": "contour"
           }
          ],
          "contourcarpet": [
           {
            "colorbar": {
             "outlinewidth": 0,
             "ticks": ""
            },
            "type": "contourcarpet"
           }
          ],
          "heatmap": [
           {
            "colorbar": {
             "outlinewidth": 0,
             "ticks": ""
            },
            "colorscale": [
             [
              0,
              "#0d0887"
             ],
             [
              0.1111111111111111,
              "#46039f"
             ],
             [
              0.2222222222222222,
              "#7201a8"
             ],
             [
              0.3333333333333333,
              "#9c179e"
             ],
             [
              0.4444444444444444,
              "#bd3786"
             ],
             [
              0.5555555555555556,
              "#d8576b"
             ],
             [
              0.6666666666666666,
              "#ed7953"
             ],
             [
              0.7777777777777778,
              "#fb9f3a"
             ],
             [
              0.8888888888888888,
              "#fdca26"
             ],
             [
              1,
              "#f0f921"
             ]
            ],
            "type": "heatmap"
           }
          ],
          "heatmapgl": [
           {
            "colorbar": {
             "outlinewidth": 0,
             "ticks": ""
            },
            "colorscale": [
             [
              0,
              "#0d0887"
             ],
             [
              0.1111111111111111,
              "#46039f"
             ],
             [
              0.2222222222222222,
              "#7201a8"
             ],
             [
              0.3333333333333333,
              "#9c179e"
             ],
             [
              0.4444444444444444,
              "#bd3786"
             ],
             [
              0.5555555555555556,
              "#d8576b"
             ],
             [
              0.6666666666666666,
              "#ed7953"
             ],
             [
              0.7777777777777778,
              "#fb9f3a"
             ],
             [
              0.8888888888888888,
              "#fdca26"
             ],
             [
              1,
              "#f0f921"
             ]
            ],
            "type": "heatmapgl"
           }
          ],
          "histogram": [
           {
            "marker": {
             "pattern": {
              "fillmode": "overlay",
              "size": 10,
              "solidity": 0.2
             }
            },
            "type": "histogram"
           }
          ],
          "histogram2d": [
           {
            "colorbar": {
             "outlinewidth": 0,
             "ticks": ""
            },
            "colorscale": [
             [
              0,
              "#0d0887"
             ],
             [
              0.1111111111111111,
              "#46039f"
             ],
             [
              0.2222222222222222,
              "#7201a8"
             ],
             [
              0.3333333333333333,
              "#9c179e"
             ],
             [
              0.4444444444444444,
              "#bd3786"
             ],
             [
              0.5555555555555556,
              "#d8576b"
             ],
             [
              0.6666666666666666,
              "#ed7953"
             ],
             [
              0.7777777777777778,
              "#fb9f3a"
             ],
             [
              0.8888888888888888,
              "#fdca26"
             ],
             [
              1,
              "#f0f921"
             ]
            ],
            "type": "histogram2d"
           }
          ],
          "histogram2dcontour": [
           {
            "colorbar": {
             "outlinewidth": 0,
             "ticks": ""
            },
            "colorscale": [
             [
              0,
              "#0d0887"
             ],
             [
              0.1111111111111111,
              "#46039f"
             ],
             [
              0.2222222222222222,
              "#7201a8"
             ],
             [
              0.3333333333333333,
              "#9c179e"
             ],
             [
              0.4444444444444444,
              "#bd3786"
             ],
             [
              0.5555555555555556,
              "#d8576b"
             ],
             [
              0.6666666666666666,
              "#ed7953"
             ],
             [
              0.7777777777777778,
              "#fb9f3a"
             ],
             [
              0.8888888888888888,
              "#fdca26"
             ],
             [
              1,
              "#f0f921"
             ]
            ],
            "type": "histogram2dcontour"
           }
          ],
          "mesh3d": [
           {
            "colorbar": {
             "outlinewidth": 0,
             "ticks": ""
            },
            "type": "mesh3d"
           }
          ],
          "parcoords": [
           {
            "line": {
             "colorbar": {
              "outlinewidth": 0,
              "ticks": ""
             }
            },
            "type": "parcoords"
           }
          ],
          "pie": [
           {
            "automargin": true,
            "type": "pie"
           }
          ],
          "scatter": [
           {
            "marker": {
             "line": {
              "color": "#283442"
             }
            },
            "type": "scatter"
           }
          ],
          "scatter3d": [
           {
            "line": {
             "colorbar": {
              "outlinewidth": 0,
              "ticks": ""
             }
            },
            "marker": {
             "colorbar": {
              "outlinewidth": 0,
              "ticks": ""
             }
            },
            "type": "scatter3d"
           }
          ],
          "scattercarpet": [
           {
            "marker": {
             "colorbar": {
              "outlinewidth": 0,
              "ticks": ""
             }
            },
            "type": "scattercarpet"
           }
          ],
          "scattergeo": [
           {
            "marker": {
             "colorbar": {
              "outlinewidth": 0,
              "ticks": ""
             }
            },
            "type": "scattergeo"
           }
          ],
          "scattergl": [
           {
            "marker": {
             "line": {
              "color": "#283442"
             }
            },
            "type": "scattergl"
           }
          ],
          "scattermapbox": [
           {
            "marker": {
             "colorbar": {
              "outlinewidth": 0,
              "ticks": ""
             }
            },
            "type": "scattermapbox"
           }
          ],
          "scatterpolar": [
           {
            "marker": {
             "colorbar": {
              "outlinewidth": 0,
              "ticks": ""
             }
            },
            "type": "scatterpolar"
           }
          ],
          "scatterpolargl": [
           {
            "marker": {
             "colorbar": {
              "outlinewidth": 0,
              "ticks": ""
             }
            },
            "type": "scatterpolargl"
           }
          ],
          "scatterternary": [
           {
            "marker": {
             "colorbar": {
              "outlinewidth": 0,
              "ticks": ""
             }
            },
            "type": "scatterternary"
           }
          ],
          "surface": [
           {
            "colorbar": {
             "outlinewidth": 0,
             "ticks": ""
            },
            "colorscale": [
             [
              0,
              "#0d0887"
             ],
             [
              0.1111111111111111,
              "#46039f"
             ],
             [
              0.2222222222222222,
              "#7201a8"
             ],
             [
              0.3333333333333333,
              "#9c179e"
             ],
             [
              0.4444444444444444,
              "#bd3786"
             ],
             [
              0.5555555555555556,
              "#d8576b"
             ],
             [
              0.6666666666666666,
              "#ed7953"
             ],
             [
              0.7777777777777778,
              "#fb9f3a"
             ],
             [
              0.8888888888888888,
              "#fdca26"
             ],
             [
              1,
              "#f0f921"
             ]
            ],
            "type": "surface"
           }
          ],
          "table": [
           {
            "cells": {
             "fill": {
              "color": "#506784"
             },
             "line": {
              "color": "rgb(17,17,17)"
             }
            },
            "header": {
             "fill": {
              "color": "#2a3f5f"
             },
             "line": {
              "color": "rgb(17,17,17)"
             }
            },
            "type": "table"
           }
          ]
         },
         "layout": {
          "annotationdefaults": {
           "arrowcolor": "#f2f5fa",
           "arrowhead": 0,
           "arrowwidth": 1
          },
          "autotypenumbers": "strict",
          "coloraxis": {
           "colorbar": {
            "outlinewidth": 0,
            "ticks": ""
           }
          },
          "colorscale": {
           "diverging": [
            [
             0,
             "#8e0152"
            ],
            [
             0.1,
             "#c51b7d"
            ],
            [
             0.2,
             "#de77ae"
            ],
            [
             0.3,
             "#f1b6da"
            ],
            [
             0.4,
             "#fde0ef"
            ],
            [
             0.5,
             "#f7f7f7"
            ],
            [
             0.6,
             "#e6f5d0"
            ],
            [
             0.7,
             "#b8e186"
            ],
            [
             0.8,
             "#7fbc41"
            ],
            [
             0.9,
             "#4d9221"
            ],
            [
             1,
             "#276419"
            ]
           ],
           "sequential": [
            [
             0,
             "#0d0887"
            ],
            [
             0.1111111111111111,
             "#46039f"
            ],
            [
             0.2222222222222222,
             "#7201a8"
            ],
            [
             0.3333333333333333,
             "#9c179e"
            ],
            [
             0.4444444444444444,
             "#bd3786"
            ],
            [
             0.5555555555555556,
             "#d8576b"
            ],
            [
             0.6666666666666666,
             "#ed7953"
            ],
            [
             0.7777777777777778,
             "#fb9f3a"
            ],
            [
             0.8888888888888888,
             "#fdca26"
            ],
            [
             1,
             "#f0f921"
            ]
           ],
           "sequentialminus": [
            [
             0,
             "#0d0887"
            ],
            [
             0.1111111111111111,
             "#46039f"
            ],
            [
             0.2222222222222222,
             "#7201a8"
            ],
            [
             0.3333333333333333,
             "#9c179e"
            ],
            [
             0.4444444444444444,
             "#bd3786"
            ],
            [
             0.5555555555555556,
             "#d8576b"
            ],
            [
             0.6666666666666666,
             "#ed7953"
            ],
            [
             0.7777777777777778,
             "#fb9f3a"
            ],
            [
             0.8888888888888888,
             "#fdca26"
            ],
            [
             1,
             "#f0f921"
            ]
           ]
          },
          "colorway": [
           "#636efa",
           "#EF553B",
           "#00cc96",
           "#ab63fa",
           "#FFA15A",
           "#19d3f3",
           "#FF6692",
           "#B6E880",
           "#FF97FF",
           "#FECB52"
          ],
          "font": {
           "color": "#f2f5fa"
          },
          "geo": {
           "bgcolor": "rgb(17,17,17)",
           "lakecolor": "rgb(17,17,17)",
           "landcolor": "rgb(17,17,17)",
           "showlakes": true,
           "showland": true,
           "subunitcolor": "#506784"
          },
          "hoverlabel": {
           "align": "left"
          },
          "hovermode": "closest",
          "mapbox": {
           "style": "dark"
          },
          "paper_bgcolor": "rgb(17,17,17)",
          "plot_bgcolor": "rgb(17,17,17)",
          "polar": {
           "angularaxis": {
            "gridcolor": "#506784",
            "linecolor": "#506784",
            "ticks": ""
           },
           "bgcolor": "rgb(17,17,17)",
           "radialaxis": {
            "gridcolor": "#506784",
            "linecolor": "#506784",
            "ticks": ""
           }
          },
          "scene": {
           "xaxis": {
            "backgroundcolor": "rgb(17,17,17)",
            "gridcolor": "#506784",
            "gridwidth": 2,
            "linecolor": "#506784",
            "showbackground": true,
            "ticks": "",
            "zerolinecolor": "#C8D4E3"
           },
           "yaxis": {
            "backgroundcolor": "rgb(17,17,17)",
            "gridcolor": "#506784",
            "gridwidth": 2,
            "linecolor": "#506784",
            "showbackground": true,
            "ticks": "",
            "zerolinecolor": "#C8D4E3"
           },
           "zaxis": {
            "backgroundcolor": "rgb(17,17,17)",
            "gridcolor": "#506784",
            "gridwidth": 2,
            "linecolor": "#506784",
            "showbackground": true,
            "ticks": "",
            "zerolinecolor": "#C8D4E3"
           }
          },
          "shapedefaults": {
           "line": {
            "color": "#f2f5fa"
           }
          },
          "sliderdefaults": {
           "bgcolor": "#C8D4E3",
           "bordercolor": "rgb(17,17,17)",
           "borderwidth": 1,
           "tickwidth": 0
          },
          "ternary": {
           "aaxis": {
            "gridcolor": "#506784",
            "linecolor": "#506784",
            "ticks": ""
           },
           "baxis": {
            "gridcolor": "#506784",
            "linecolor": "#506784",
            "ticks": ""
           },
           "bgcolor": "rgb(17,17,17)",
           "caxis": {
            "gridcolor": "#506784",
            "linecolor": "#506784",
            "ticks": ""
           }
          },
          "title": {
           "x": 0.05
          },
          "updatemenudefaults": {
           "bgcolor": "#506784",
           "borderwidth": 0
          },
          "xaxis": {
           "automargin": true,
           "gridcolor": "#283442",
           "linecolor": "#506784",
           "ticks": "",
           "title": {
            "standoff": 15
           },
           "zerolinecolor": "#283442",
           "zerolinewidth": 2
          },
          "yaxis": {
           "automargin": true,
           "gridcolor": "#283442",
           "linecolor": "#506784",
           "ticks": "",
           "title": {
            "standoff": 15
           },
           "zerolinecolor": "#283442",
           "zerolinewidth": 2
          }
         }
        },
        "title": {
         "text": "Веса модели"
        },
        "width": 1200,
        "xaxis": {
         "tickmode": "array",
         "ticktext": [
          "B0",
          "Age",
          "Book_average_rating",
          "Book_ratings_count",
          "sale price"
         ],
         "tickvals": [
          0,
          1,
          2,
          3,
          4
         ]
        }
       }
      }
     },
     "metadata": {},
     "output_type": "display_data"
    }
   ],
   "source": [
    "Bs = np.hstack([B0,B])\n",
    "vis_weigths(Bs,features_names)"
   ]
  },
  {
   "cell_type": "markdown",
   "id": "e8c7477b",
   "metadata": {},
   "source": [
    "Влияние Book_rating_count уступило влиянию sale price, возраст поменялся по модулю, остальные соотношения сильно не изменились."
   ]
  },
  {
   "cell_type": "code",
   "execution_count": 42,
   "id": "93f02705",
   "metadata": {},
   "outputs": [
    {
     "name": "stdout",
     "output_type": "stream",
     "text": [
      "Ошибка на кросс-валидации\n"
     ]
    },
    {
     "data": {
      "text/html": [
       "<div>\n",
       "<style scoped>\n",
       "    .dataframe tbody tr th:only-of-type {\n",
       "        vertical-align: middle;\n",
       "    }\n",
       "\n",
       "    .dataframe tbody tr th {\n",
       "        vertical-align: top;\n",
       "    }\n",
       "\n",
       "    .dataframe thead th {\n",
       "        text-align: right;\n",
       "    }\n",
       "</style>\n",
       "<table border=\"1\" class=\"dataframe\">\n",
       "  <thead>\n",
       "    <tr style=\"text-align: right;\">\n",
       "      <th></th>\n",
       "      <th>fit_time</th>\n",
       "      <th>score_time</th>\n",
       "      <th>test_R2</th>\n",
       "      <th>test_-MSE</th>\n",
       "      <th>test_-MAE</th>\n",
       "      <th>test_-Max</th>\n",
       "    </tr>\n",
       "  </thead>\n",
       "  <tbody>\n",
       "    <tr>\n",
       "      <th>0</th>\n",
       "      <td>0.014995</td>\n",
       "      <td>0.005999</td>\n",
       "      <td>0.111665</td>\n",
       "      <td>-1.842195e+07</td>\n",
       "      <td>-1192.068811</td>\n",
       "      <td>-31878.062156</td>\n",
       "    </tr>\n",
       "    <tr>\n",
       "      <th>1</th>\n",
       "      <td>0.014999</td>\n",
       "      <td>0.005000</td>\n",
       "      <td>0.110275</td>\n",
       "      <td>-7.529447e+06</td>\n",
       "      <td>-813.292789</td>\n",
       "      <td>-21096.035345</td>\n",
       "    </tr>\n",
       "    <tr>\n",
       "      <th>2</th>\n",
       "      <td>0.014000</td>\n",
       "      <td>0.005005</td>\n",
       "      <td>0.325861</td>\n",
       "      <td>-1.246251e+07</td>\n",
       "      <td>-1242.968902</td>\n",
       "      <td>-18245.788947</td>\n",
       "    </tr>\n",
       "    <tr>\n",
       "      <th>3</th>\n",
       "      <td>0.013001</td>\n",
       "      <td>0.004998</td>\n",
       "      <td>0.105141</td>\n",
       "      <td>-1.603343e+07</td>\n",
       "      <td>-1032.593477</td>\n",
       "      <td>-25602.189218</td>\n",
       "    </tr>\n",
       "    <tr>\n",
       "      <th>4</th>\n",
       "      <td>0.014002</td>\n",
       "      <td>0.004998</td>\n",
       "      <td>0.061604</td>\n",
       "      <td>-8.455573e+06</td>\n",
       "      <td>-996.925452</td>\n",
       "      <td>-21121.274798</td>\n",
       "    </tr>\n",
       "  </tbody>\n",
       "</table>\n",
       "</div>"
      ],
      "text/plain": [
       "   fit_time  score_time   test_R2     test_-MSE    test_-MAE     test_-Max\n",
       "0  0.014995    0.005999  0.111665 -1.842195e+07 -1192.068811 -31878.062156\n",
       "1  0.014999    0.005000  0.110275 -7.529447e+06  -813.292789 -21096.035345\n",
       "2  0.014000    0.005005  0.325861 -1.246251e+07 -1242.968902 -18245.788947\n",
       "3  0.013001    0.004998  0.105141 -1.603343e+07 -1032.593477 -25602.189218\n",
       "4  0.014002    0.004998  0.061604 -8.455573e+06  -996.925452 -21121.274798"
      ]
     },
     "metadata": {},
     "output_type": "display_data"
    },
    {
     "name": "stdout",
     "output_type": "stream",
     "text": [
      "\n",
      "\n",
      "test_R2      1.429092e-01\n",
      "test_-MSE   -1.258058e+07\n",
      "test_-MAE   -1.055570e+03\n",
      "test_-Max   -2.358867e+04\n",
      "dtype: float64\n"
     ]
    }
   ],
   "source": [
    "cross_validation (X_train, y_train,\n",
    "                  pipe_num_transform,\n",
    "                  scoring_reg,\n",
    "                  ShuffleSplit(n_splits=5, random_state = 42))"
   ]
  },
  {
   "cell_type": "markdown",
   "id": "1c98be9d",
   "metadata": {},
   "source": [
    "Настоящие значения:\n",
    "\n",
    "test_R2      0.14\n",
    "\n",
    "test_-MSE   -12580580\n",
    "\n",
    "test_-MAE   -1055.570\n",
    "\n",
    "test_-Max   -23588.67"
   ]
  },
  {
   "cell_type": "code",
   "execution_count": 43,
   "id": "d0f15443",
   "metadata": {},
   "outputs": [
    {
     "data": {
      "image/png": "[encoded data removed]",
      "text/plain": [
       "<Figure size 640x480 with 1 Axes>"
      ]
     },
     "metadata": {},
     "output_type": "display_data"
    }
   ],
   "source": [
    "PredictionErrorDisplay.from_predictions(\n",
    "    y_val,\n",
    "    pipe_num_transform.predict(X_val),\n",
    "    kind=\"actual_vs_predicted\",\n",
    "    scatter_kwargs={\"alpha\": 0.5},\n",
    ");"
   ]
  },
  {
   "cell_type": "markdown",
   "id": "8c7afce7",
   "metadata": {},
   "source": [
    "Небольшие выводы по модели:\n",
    "\n",
    "* Предварительная обработка целевой переменной не улучшает результаты линейной модели (метрика r2 на кроссвалидации 0.14 против 0.17)\n",
    "\n",
    "* В целом предварительная обработка целевой переменной сделала хуже предсказание высоких значений продаж\n",
    "\n",
    "* В области низких продаж предсказание немного улучшилось\n",
    "\n"
   ]
  },
  {
   "cell_type": "markdown",
   "id": "6611eea8",
   "metadata": {},
   "source": [
    "# Оценим влияние категориальных признаков"
   ]
  },
  {
   "cell_type": "code",
   "execution_count": 44,
   "id": "9a187f92",
   "metadata": {},
   "outputs": [],
   "source": [
    "pipe_all_transform = Pipeline([\n",
    "    ('preprocessors', preprocessors_All),\n",
    "    ('model', TransformedTargetRegressor( regressor=SGDRegressor(random_state = 42),\n",
    "    transformer=PowerTransformer())\n",
    "    )\n",
    "])"
   ]
  },
  {
   "cell_type": "code",
   "execution_count": 45,
   "id": "e5757eb5",
   "metadata": {},
   "outputs": [
    {
     "data": {
      "text/html": [
       "<style>#sk-container-id-4 {\n",
       "  /* Definition of color scheme common for light and dark mode */\n",
       "  --sklearn-color-text: black;\n",
       "  --sklearn-color-line: gray;\n",
       "  /* Definition of color scheme for unfitted estimators */\n",
       "  --sklearn-color-unfitted-level-0: #fff5e6;\n",
       "  --sklearn-color-unfitted-level-1: #f6e4d2;\n",
       "  --sklearn-color-unfitted-level-2: #ffe0b3;\n",
       "  --sklearn-color-unfitted-level-3: chocolate;\n",
       "  /* Definition of color scheme for fitted estimators */\n",
       "  --sklearn-color-fitted-level-0: #f0f8ff;\n",
       "  --sklearn-color-fitted-level-1: #d4ebff;\n",
       "  --sklearn-color-fitted-level-2: #b3dbfd;\n",
       "  --sklearn-color-fitted-level-3: cornflowerblue;\n",
       "\n",
       "  /* Specific color for light theme */\n",
       "  --sklearn-color-text-on-default-background: var(--sg-text-color, var(--theme-code-foreground, var(--jp-content-font-color1, black)));\n",
       "  --sklearn-color-background: var(--sg-background-color, var(--theme-background, var(--jp-layout-color0, white)));\n",
       "  --sklearn-color-border-box: var(--sg-text-color, var(--theme-code-foreground, var(--jp-content-font-color1, black)));\n",
       "  --sklearn-color-icon: #696969;\n",
       "\n",
       "  @media (prefers-color-scheme: dark) {\n",
       "    /* Redefinition of color scheme for dark theme */\n",
       "    --sklearn-color-text-on-default-background: var(--sg-text-color, var(--theme-code-foreground, var(--jp-content-font-color1, white)));\n",
       "    --sklearn-color-background: var(--sg-background-color, var(--theme-background, var(--jp-layout-color0, #111)));\n",
       "    --sklearn-color-border-box: var(--sg-text-color, var(--theme-code-foreground, var(--jp-content-font-color1, white)));\n",
       "    --sklearn-color-icon: #878787;\n",
       "  }\n",
       "}\n",
       "\n",
       "#sk-container-id-4 {\n",
       "  color: var(--sklearn-color-text);\n",
       "}\n",
       "\n",
       "#sk-container-id-4 pre {\n",
       "  padding: 0;\n",
       "}\n",
       "\n",
       "#sk-container-id-4 input.sk-hidden--visually {\n",
       "  border: 0;\n",
       "  clip: rect(1px 1px 1px 1px);\n",
       "  clip: rect(1px, 1px, 1px, 1px);\n",
       "  height: 1px;\n",
       "  margin: -1px;\n",
       "  overflow: hidden;\n",
       "  padding: 0;\n",
       "  position: absolute;\n",
       "  width: 1px;\n",
       "}\n",
       "\n",
       "#sk-container-id-4 div.sk-dashed-wrapped {\n",
       "  border: 1px dashed var(--sklearn-color-line);\n",
       "  margin: 0 0.4em 0.5em 0.4em;\n",
       "  box-sizing: border-box;\n",
       "  padding-bottom: 0.4em;\n",
       "  background-color: var(--sklearn-color-background);\n",
       "}\n",
       "\n",
       "#sk-container-id-4 div.sk-container {\n",
       "  /* jupyter's `normalize.less` sets `[hidden] { display: none; }`\n",
       "     but bootstrap.min.css set `[hidden] { display: none !important; }`\n",
       "     so we also need the `!important` here to be able to override the\n",
       "     default hidden behavior on the sphinx rendered scikit-learn.org.\n",
       "     See: https://github.com/scikit-learn/scikit-learn/issues/21755 */\n",
       "  display: inline-block !important;\n",
       "  position: relative;\n",
       "}\n",
       "\n",
       "#sk-container-id-4 div.sk-text-repr-fallback {\n",
       "  display: none;\n",
       "}\n",
       "\n",
       "div.sk-parallel-item,\n",
       "div.sk-serial,\n",
       "div.sk-item {\n",
       "  /* draw centered vertical line to link estimators */\n",
       "  background-image: linear-gradient(var(--sklearn-color-text-on-default-background), var(--sklearn-color-text-on-default-background));\n",
       "  background-size: 2px 100%;\n",
       "  background-repeat: no-repeat;\n",
       "  background-position: center center;\n",
       "}\n",
       "\n",
       "/* Parallel-specific style estimator block */\n",
       "\n",
       "#sk-container-id-4 div.sk-parallel-item::after {\n",
       "  content: \"\";\n",
       "  width: 100%;\n",
       "  border-bottom: 2px solid var(--sklearn-color-text-on-default-background);\n",
       "  flex-grow: 1;\n",
       "}\n",
       "\n",
       "#sk-container-id-4 div.sk-parallel {\n",
       "  display: flex;\n",
       "  align-items: stretch;\n",
       "  justify-content: center;\n",
       "  background-color: var(--sklearn-color-background);\n",
       "  position: relative;\n",
       "}\n",
       "\n",
       "#sk-container-id-4 div.sk-parallel-item {\n",
       "  display: flex;\n",
       "  flex-direction: column;\n",
       "}\n",
       "\n",
       "#sk-container-id-4 div.sk-parallel-item:first-child::after {\n",
       "  align-self: flex-end;\n",
       "  width: 50%;\n",
       "}\n",
       "\n",
       "#sk-container-id-4 div.sk-parallel-item:last-child::after {\n",
       "  align-self: flex-start;\n",
       "  width: 50%;\n",
       "}\n",
       "\n",
       "#sk-container-id-4 div.sk-parallel-item:only-child::after {\n",
       "  width: 0;\n",
       "}\n",
       "\n",
       "/* Serial-specific style estimator block */\n",
       "\n",
       "#sk-container-id-4 div.sk-serial {\n",
       "  display: flex;\n",
       "  flex-direction: column;\n",
       "  align-items: center;\n",
       "  background-color: var(--sklearn-color-background);\n",
       "  padding-right: 1em;\n",
       "  padding-left: 1em;\n",
       "}\n",
       "\n",
       "\n",
       "/* Toggleable style: style used for estimator/Pipeline/ColumnTransformer box that is\n",
       "clickable and can be expanded/collapsed.\n",
       "- Pipeline and ColumnTransformer use this feature and define the default style\n",
       "- Estimators will overwrite some part of the style using the `sk-estimator` class\n",
       "*/\n",
       "\n",
       "/* Pipeline and ColumnTransformer style (default) */\n",
       "\n",
       "#sk-container-id-4 div.sk-toggleable {\n",
       "  /* Default theme specific background. It is overwritten whether we have a\n",
       "  specific estimator or a Pipeline/ColumnTransformer */\n",
       "  background-color: var(--sklearn-color-background);\n",
       "}\n",
       "\n",
       "/* Toggleable label */\n",
       "#sk-container-id-4 label.sk-toggleable__label {\n",
       "  cursor: pointer;\n",
       "  display: block;\n",
       "  width: 100%;\n",
       "  margin-bottom: 0;\n",
       "  padding: 0.5em;\n",
       "  box-sizing: border-box;\n",
       "  text-align: center;\n",
       "}\n",
       "\n",
       "#sk-container-id-4 label.sk-toggleable__label-arrow:before {\n",
       "  /* Arrow on the left of the label */\n",
       "  content: \"▸\";\n",
       "  float: left;\n",
       "  margin-right: 0.25em;\n",
       "  color: var(--sklearn-color-icon);\n",
       "}\n",
       "\n",
       "#sk-container-id-4 label.sk-toggleable__label-arrow:hover:before {\n",
       "  color: var(--sklearn-color-text);\n",
       "}\n",
       "\n",
       "/* Toggleable content - dropdown */\n",
       "\n",
       "#sk-container-id-4 div.sk-toggleable__content {\n",
       "  max-height: 0;\n",
       "  max-width: 0;\n",
       "  overflow: hidden;\n",
       "  text-align: left;\n",
       "  /* unfitted */\n",
       "  background-color: var(--sklearn-color-unfitted-level-0);\n",
       "}\n",
       "\n",
       "#sk-container-id-4 div.sk-toggleable__content.fitted {\n",
       "  /* fitted */\n",
       "  background-color: var(--sklearn-color-fitted-level-0);\n",
       "}\n",
       "\n",
       "#sk-container-id-4 div.sk-toggleable__content pre {\n",
       "  margin: 0.2em;\n",
       "  border-radius: 0.25em;\n",
       "  color: var(--sklearn-color-text);\n",
       "  /* unfitted */\n",
       "  background-color: var(--sklearn-color-unfitted-level-0);\n",
       "}\n",
       "\n",
       "#sk-container-id-4 div.sk-toggleable__content.fitted pre {\n",
       "  /* unfitted */\n",
       "  background-color: var(--sklearn-color-fitted-level-0);\n",
       "}\n",
       "\n",
       "#sk-container-id-4 input.sk-toggleable__control:checked~div.sk-toggleable__content {\n",
       "  /* Expand drop-down */\n",
       "  max-height: 200px;\n",
       "  max-width: 100%;\n",
       "  overflow: auto;\n",
       "}\n",
       "\n",
       "#sk-container-id-4 input.sk-toggleable__control:checked~label.sk-toggleable__label-arrow:before {\n",
       "  content: \"▾\";\n",
       "}\n",
       "\n",
       "/* Pipeline/ColumnTransformer-specific style */\n",
       "\n",
       "#sk-container-id-4 div.sk-label input.sk-toggleable__control:checked~label.sk-toggleable__label {\n",
       "  color: var(--sklearn-color-text);\n",
       "  background-color: var(--sklearn-color-unfitted-level-2);\n",
       "}\n",
       "\n",
       "#sk-container-id-4 div.sk-label.fitted input.sk-toggleable__control:checked~label.sk-toggleable__label {\n",
       "  background-color: var(--sklearn-color-fitted-level-2);\n",
       "}\n",
       "\n",
       "/* Estimator-specific style */\n",
       "\n",
       "/* Colorize estimator box */\n",
       "#sk-container-id-4 div.sk-estimator input.sk-toggleable__control:checked~label.sk-toggleable__label {\n",
       "  /* unfitted */\n",
       "  background-color: var(--sklearn-color-unfitted-level-2);\n",
       "}\n",
       "\n",
       "#sk-container-id-4 div.sk-estimator.fitted input.sk-toggleable__control:checked~label.sk-toggleable__label {\n",
       "  /* fitted */\n",
       "  background-color: var(--sklearn-color-fitted-level-2);\n",
       "}\n",
       "\n",
       "#sk-container-id-4 div.sk-label label.sk-toggleable__label,\n",
       "#sk-container-id-4 div.sk-label label {\n",
       "  /* The background is the default theme color */\n",
       "  color: var(--sklearn-color-text-on-default-background);\n",
       "}\n",
       "\n",
       "/* On hover, darken the color of the background */\n",
       "#sk-container-id-4 div.sk-label:hover label.sk-toggleable__label {\n",
       "  color: var(--sklearn-color-text);\n",
       "  background-color: var(--sklearn-color-unfitted-level-2);\n",
       "}\n",
       "\n",
       "/* Label box, darken color on hover, fitted */\n",
       "#sk-container-id-4 div.sk-label.fitted:hover label.sk-toggleable__label.fitted {\n",
       "  color: var(--sklearn-color-text);\n",
       "  background-color: var(--sklearn-color-fitted-level-2);\n",
       "}\n",
       "\n",
       "/* Estimator label */\n",
       "\n",
       "#sk-container-id-4 div.sk-label label {\n",
       "  font-family: monospace;\n",
       "  font-weight: bold;\n",
       "  display: inline-block;\n",
       "  line-height: 1.2em;\n",
       "}\n",
       "\n",
       "#sk-container-id-4 div.sk-label-container {\n",
       "  text-align: center;\n",
       "}\n",
       "\n",
       "/* Estimator-specific */\n",
       "#sk-container-id-4 div.sk-estimator {\n",
       "  font-family: monospace;\n",
       "  border: 1px dotted var(--sklearn-color-border-box);\n",
       "  border-radius: 0.25em;\n",
       "  box-sizing: border-box;\n",
       "  margin-bottom: 0.5em;\n",
       "  /* unfitted */\n",
       "  background-color: var(--sklearn-color-unfitted-level-0);\n",
       "}\n",
       "\n",
       "#sk-container-id-4 div.sk-estimator.fitted {\n",
       "  /* fitted */\n",
       "  background-color: var(--sklearn-color-fitted-level-0);\n",
       "}\n",
       "\n",
       "/* on hover */\n",
       "#sk-container-id-4 div.sk-estimator:hover {\n",
       "  /* unfitted */\n",
       "  background-color: var(--sklearn-color-unfitted-level-2);\n",
       "}\n",
       "\n",
       "#sk-container-id-4 div.sk-estimator.fitted:hover {\n",
       "  /* fitted */\n",
       "  background-color: var(--sklearn-color-fitted-level-2);\n",
       "}\n",
       "\n",
       "/* Specification for estimator info (e.g. \"i\" and \"?\") */\n",
       "\n",
       "/* Common style for \"i\" and \"?\" */\n",
       "\n",
       ".sk-estimator-doc-link,\n",
       "a:link.sk-estimator-doc-link,\n",
       "a:visited.sk-estimator-doc-link {\n",
       "  float: right;\n",
       "  font-size: smaller;\n",
       "  line-height: 1em;\n",
       "  font-family: monospace;\n",
       "  background-color: var(--sklearn-color-background);\n",
       "  border-radius: 1em;\n",
       "  height: 1em;\n",
       "  width: 1em;\n",
       "  text-decoration: none !important;\n",
       "  margin-left: 1ex;\n",
       "  /* unfitted */\n",
       "  border: var(--sklearn-color-unfitted-level-1) 1pt solid;\n",
       "  color: var(--sklearn-color-unfitted-level-1);\n",
       "}\n",
       "\n",
       ".sk-estimator-doc-link.fitted,\n",
       "a:link.sk-estimator-doc-link.fitted,\n",
       "a:visited.sk-estimator-doc-link.fitted {\n",
       "  /* fitted */\n",
       "  border: var(--sklearn-color-fitted-level-1) 1pt solid;\n",
       "  color: var(--sklearn-color-fitted-level-1);\n",
       "}\n",
       "\n",
       "/* On hover */\n",
       "div.sk-estimator:hover .sk-estimator-doc-link:hover,\n",
       ".sk-estimator-doc-link:hover,\n",
       "div.sk-label-container:hover .sk-estimator-doc-link:hover,\n",
       ".sk-estimator-doc-link:hover {\n",
       "  /* unfitted */\n",
       "  background-color: var(--sklearn-color-unfitted-level-3);\n",
       "  color: var(--sklearn-color-background);\n",
       "  text-decoration: none;\n",
       "}\n",
       "\n",
       "div.sk-estimator.fitted:hover .sk-estimator-doc-link.fitted:hover,\n",
       ".sk-estimator-doc-link.fitted:hover,\n",
       "div.sk-label-container:hover .sk-estimator-doc-link.fitted:hover,\n",
       ".sk-estimator-doc-link.fitted:hover {\n",
       "  /* fitted */\n",
       "  background-color: var(--sklearn-color-fitted-level-3);\n",
       "  color: var(--sklearn-color-background);\n",
       "  text-decoration: none;\n",
       "}\n",
       "\n",
       "/* Span, style for the box shown on hovering the info icon */\n",
       ".sk-estimator-doc-link span {\n",
       "  display: none;\n",
       "  z-index: 9999;\n",
       "  position: relative;\n",
       "  font-weight: normal;\n",
       "  right: .2ex;\n",
       "  padding: .5ex;\n",
       "  margin: .5ex;\n",
       "  width: min-content;\n",
       "  min-width: 20ex;\n",
       "  max-width: 50ex;\n",
       "  color: var(--sklearn-color-text);\n",
       "  box-shadow: 2pt 2pt 4pt #999;\n",
       "  /* unfitted */\n",
       "  background: var(--sklearn-color-unfitted-level-0);\n",
       "  border: .5pt solid var(--sklearn-color-unfitted-level-3);\n",
       "}\n",
       "\n",
       ".sk-estimator-doc-link.fitted span {\n",
       "  /* fitted */\n",
       "  background: var(--sklearn-color-fitted-level-0);\n",
       "  border: var(--sklearn-color-fitted-level-3);\n",
       "}\n",
       "\n",
       ".sk-estimator-doc-link:hover span {\n",
       "  display: block;\n",
       "}\n",
       "\n",
       "/* \"?\"-specific style due to the `<a>` HTML tag */\n",
       "\n",
       "#sk-container-id-4 a.estimator_doc_link {\n",
       "  float: right;\n",
       "  font-size: 1rem;\n",
       "  line-height: 1em;\n",
       "  font-family: monospace;\n",
       "  background-color: var(--sklearn-color-background);\n",
       "  border-radius: 1rem;\n",
       "  height: 1rem;\n",
       "  width: 1rem;\n",
       "  text-decoration: none;\n",
       "  /* unfitted */\n",
       "  color: var(--sklearn-color-unfitted-level-1);\n",
       "  border: var(--sklearn-color-unfitted-level-1) 1pt solid;\n",
       "}\n",
       "\n",
       "#sk-container-id-4 a.estimator_doc_link.fitted {\n",
       "  /* fitted */\n",
       "  border: var(--sklearn-color-fitted-level-1) 1pt solid;\n",
       "  color: var(--sklearn-color-fitted-level-1);\n",
       "}\n",
       "\n",
       "/* On hover */\n",
       "#sk-container-id-4 a.estimator_doc_link:hover {\n",
       "  /* unfitted */\n",
       "  background-color: var(--sklearn-color-unfitted-level-3);\n",
       "  color: var(--sklearn-color-background);\n",
       "  text-decoration: none;\n",
       "}\n",
       "\n",
       "#sk-container-id-4 a.estimator_doc_link.fitted:hover {\n",
       "  /* fitted */\n",
       "  background-color: var(--sklearn-color-fitted-level-3);\n",
       "}\n",
       "</style><div id=\"sk-container-id-4\" class=\"sk-top-container\"><div class=\"sk-text-repr-fallback\"><pre>Pipeline(steps=[(&#x27;preprocessors&#x27;,\n",
       "                 ColumnTransformer(transformers=[(&#x27;norm&#x27;,\n",
       "                                                  Pipeline(steps=[(&#x27;QuantReplace&#x27;,\n",
       "                                                                   QuantileReplacer(threshold=0.01)),\n",
       "                                                                  (&#x27;norm&#x27;,\n",
       "                                                                   MinMaxScaler())]),\n",
       "                                                  [&#x27;Age&#x27;, &#x27;Book_average_rating&#x27;,\n",
       "                                                   &#x27;Book_ratings_count&#x27;,\n",
       "                                                   &#x27;sale price&#x27;]),\n",
       "                                                 (&#x27;Status_Touch&#x27;,\n",
       "                                                  Pipeline(steps=[(&#x27;encoder&#x27;,\n",
       "                                                                   OrdinalEncoder())]),\n",
       "                                                  [&#x27;Author_Rating&#x27;, &#x27;genre&#x27;]),\n",
       "                                                 (&#x27;cat&#x27;,\n",
       "                                                  Pipeline(steps=[(&#x27;replace_rare&#x27;,\n",
       "                                                                   RareGrouper(threshold=0.0001)),\n",
       "                                                                  (&#x27;encoder&#x27;,\n",
       "                                                                   OneHotEncoder(drop=&#x27;if_binary&#x27;,\n",
       "                                                                                 handle_unknown=&#x27;ignore&#x27;,\n",
       "                                                                                 sparse_output=False))]),\n",
       "                                                  [&#x27;Author_Rating&#x27;, &#x27;Author&#x27;,\n",
       "                                                   &#x27;language_code&#x27;, &#x27;genre&#x27;,\n",
       "                                                   &#x27;Publisher&#x27;])])),\n",
       "                (&#x27;model&#x27;,\n",
       "                 TransformedTargetRegressor(regressor=SGDRegressor(random_state=42),\n",
       "                                            transformer=PowerTransformer()))])</pre><b>In a Jupyter environment, please rerun this cell to show the HTML representation or trust the notebook. <br />On GitHub, the HTML representation is unable to render, please try loading this page with nbviewer.org.</b></div><div class=\"sk-container\" hidden><div class=\"sk-item sk-dashed-wrapped\"><div class=\"sk-label-container\"><div class=\"sk-label fitted sk-toggleable\"><input class=\"sk-toggleable__control sk-hidden--visually\" id=\"sk-estimator-id-18\" type=\"checkbox\" ><label for=\"sk-estimator-id-18\" class=\"sk-toggleable__label fitted sk-toggleable__label-arrow fitted\">&nbsp;&nbsp;Pipeline<a class=\"sk-estimator-doc-link fitted\" rel=\"noreferrer\" target=\"_blank\" href=\"https://scikit-learn.org/1.4/modules/generated/sklearn.pipeline.Pipeline.html\">?<span>Documentation for Pipeline</span></a><span class=\"sk-estimator-doc-link fitted\">i<span>Fitted</span></span></label><div class=\"sk-toggleable__content fitted\"><pre>Pipeline(steps=[(&#x27;preprocessors&#x27;,\n",
       "                 ColumnTransformer(transformers=[(&#x27;norm&#x27;,\n",
       "                                                  Pipeline(steps=[(&#x27;QuantReplace&#x27;,\n",
       "                                                                   QuantileReplacer(threshold=0.01)),\n",
       "                                                                  (&#x27;norm&#x27;,\n",
       "                                                                   MinMaxScaler())]),\n",
       "                                                  [&#x27;Age&#x27;, &#x27;Book_average_rating&#x27;,\n",
       "                                                   &#x27;Book_ratings_count&#x27;,\n",
       "                                                   &#x27;sale price&#x27;]),\n",
       "                                                 (&#x27;Status_Touch&#x27;,\n",
       "                                                  Pipeline(steps=[(&#x27;encoder&#x27;,\n",
       "                                                                   OrdinalEncoder())]),\n",
       "                                                  [&#x27;Author_Rating&#x27;, &#x27;genre&#x27;]),\n",
       "                                                 (&#x27;cat&#x27;,\n",
       "                                                  Pipeline(steps=[(&#x27;replace_rare&#x27;,\n",
       "                                                                   RareGrouper(threshold=0.0001)),\n",
       "                                                                  (&#x27;encoder&#x27;,\n",
       "                                                                   OneHotEncoder(drop=&#x27;if_binary&#x27;,\n",
       "                                                                                 handle_unknown=&#x27;ignore&#x27;,\n",
       "                                                                                 sparse_output=False))]),\n",
       "                                                  [&#x27;Author_Rating&#x27;, &#x27;Author&#x27;,\n",
       "                                                   &#x27;language_code&#x27;, &#x27;genre&#x27;,\n",
       "                                                   &#x27;Publisher&#x27;])])),\n",
       "                (&#x27;model&#x27;,\n",
       "                 TransformedTargetRegressor(regressor=SGDRegressor(random_state=42),\n",
       "                                            transformer=PowerTransformer()))])</pre></div> </div></div><div class=\"sk-serial\"><div class=\"sk-item sk-dashed-wrapped\"><div class=\"sk-label-container\"><div class=\"sk-label fitted sk-toggleable\"><input class=\"sk-toggleable__control sk-hidden--visually\" id=\"sk-estimator-id-19\" type=\"checkbox\" ><label for=\"sk-estimator-id-19\" class=\"sk-toggleable__label fitted sk-toggleable__label-arrow fitted\">&nbsp;preprocessors: ColumnTransformer<a class=\"sk-estimator-doc-link fitted\" rel=\"noreferrer\" target=\"_blank\" href=\"https://scikit-learn.org/1.4/modules/generated/sklearn.compose.ColumnTransformer.html\">?<span>Documentation for preprocessors: ColumnTransformer</span></a></label><div class=\"sk-toggleable__content fitted\"><pre>ColumnTransformer(transformers=[(&#x27;norm&#x27;,\n",
       "                                 Pipeline(steps=[(&#x27;QuantReplace&#x27;,\n",
       "                                                  QuantileReplacer(threshold=0.01)),\n",
       "                                                 (&#x27;norm&#x27;, MinMaxScaler())]),\n",
       "                                 [&#x27;Age&#x27;, &#x27;Book_average_rating&#x27;,\n",
       "                                  &#x27;Book_ratings_count&#x27;, &#x27;sale price&#x27;]),\n",
       "                                (&#x27;Status_Touch&#x27;,\n",
       "                                 Pipeline(steps=[(&#x27;encoder&#x27;,\n",
       "                                                  OrdinalEncoder())]),\n",
       "                                 [&#x27;Author_Rating&#x27;, &#x27;genre&#x27;]),\n",
       "                                (&#x27;cat&#x27;,\n",
       "                                 Pipeline(steps=[(&#x27;replace_rare&#x27;,\n",
       "                                                  RareGrouper(threshold=0.0001)),\n",
       "                                                 (&#x27;encoder&#x27;,\n",
       "                                                  OneHotEncoder(drop=&#x27;if_binary&#x27;,\n",
       "                                                                handle_unknown=&#x27;ignore&#x27;,\n",
       "                                                                sparse_output=False))]),\n",
       "                                 [&#x27;Author_Rating&#x27;, &#x27;Author&#x27;, &#x27;language_code&#x27;,\n",
       "                                  &#x27;genre&#x27;, &#x27;Publisher&#x27;])])</pre></div> </div></div><div class=\"sk-parallel\"><div class=\"sk-parallel-item\"><div class=\"sk-item\"><div class=\"sk-label-container\"><div class=\"sk-label fitted sk-toggleable\"><input class=\"sk-toggleable__control sk-hidden--visually\" id=\"sk-estimator-id-20\" type=\"checkbox\" ><label for=\"sk-estimator-id-20\" class=\"sk-toggleable__label fitted sk-toggleable__label-arrow fitted\">norm</label><div class=\"sk-toggleable__content fitted\"><pre>[&#x27;Age&#x27;, &#x27;Book_average_rating&#x27;, &#x27;Book_ratings_count&#x27;, &#x27;sale price&#x27;]</pre></div> </div></div><div class=\"sk-serial\"><div class=\"sk-item\"><div class=\"sk-serial\"><div class=\"sk-item\"><div class=\"sk-estimator fitted sk-toggleable\"><input class=\"sk-toggleable__control sk-hidden--visually\" id=\"sk-estimator-id-21\" type=\"checkbox\" ><label for=\"sk-estimator-id-21\" class=\"sk-toggleable__label fitted sk-toggleable__label-arrow fitted\">QuantileReplacer</label><div class=\"sk-toggleable__content fitted\"><pre>QuantileReplacer(threshold=0.01)</pre></div> </div></div><div class=\"sk-item\"><div class=\"sk-estimator fitted sk-toggleable\"><input class=\"sk-toggleable__control sk-hidden--visually\" id=\"sk-estimator-id-22\" type=\"checkbox\" ><label for=\"sk-estimator-id-22\" class=\"sk-toggleable__label fitted sk-toggleable__label-arrow fitted\">&nbsp;MinMaxScaler<a class=\"sk-estimator-doc-link fitted\" rel=\"noreferrer\" target=\"_blank\" href=\"https://scikit-learn.org/1.4/modules/generated/sklearn.preprocessing.MinMaxScaler.html\">?<span>Documentation for MinMaxScaler</span></a></label><div class=\"sk-toggleable__content fitted\"><pre>MinMaxScaler()</pre></div> </div></div></div></div></div></div></div><div class=\"sk-parallel-item\"><div class=\"sk-item\"><div class=\"sk-label-container\"><div class=\"sk-label fitted sk-toggleable\"><input class=\"sk-toggleable__control sk-hidden--visually\" id=\"sk-estimator-id-23\" type=\"checkbox\" ><label for=\"sk-estimator-id-23\" class=\"sk-toggleable__label fitted sk-toggleable__label-arrow fitted\">Status_Touch</label><div class=\"sk-toggleable__content fitted\"><pre>[&#x27;Author_Rating&#x27;, &#x27;genre&#x27;]</pre></div> </div></div><div class=\"sk-serial\"><div class=\"sk-item\"><div class=\"sk-serial\"><div class=\"sk-item\"><div class=\"sk-estimator fitted sk-toggleable\"><input class=\"sk-toggleable__control sk-hidden--visually\" id=\"sk-estimator-id-24\" type=\"checkbox\" ><label for=\"sk-estimator-id-24\" class=\"sk-toggleable__label fitted sk-toggleable__label-arrow fitted\">&nbsp;OrdinalEncoder<a class=\"sk-estimator-doc-link fitted\" rel=\"noreferrer\" target=\"_blank\" href=\"https://scikit-learn.org/1.4/modules/generated/sklearn.preprocessing.OrdinalEncoder.html\">?<span>Documentation for OrdinalEncoder</span></a></label><div class=\"sk-toggleable__content fitted\"><pre>OrdinalEncoder()</pre></div> </div></div></div></div></div></div></div><div class=\"sk-parallel-item\"><div class=\"sk-item\"><div class=\"sk-label-container\"><div class=\"sk-label fitted sk-toggleable\"><input class=\"sk-toggleable__control sk-hidden--visually\" id=\"sk-estimator-id-25\" type=\"checkbox\" ><label for=\"sk-estimator-id-25\" class=\"sk-toggleable__label fitted sk-toggleable__label-arrow fitted\">cat</label><div class=\"sk-toggleable__content fitted\"><pre>[&#x27;Author_Rating&#x27;, &#x27;Author&#x27;, &#x27;language_code&#x27;, &#x27;genre&#x27;, &#x27;Publisher&#x27;]</pre></div> </div></div><div class=\"sk-serial\"><div class=\"sk-item\"><div class=\"sk-serial\"><div class=\"sk-item\"><div class=\"sk-estimator fitted sk-toggleable\"><input class=\"sk-toggleable__control sk-hidden--visually\" id=\"sk-estimator-id-26\" type=\"checkbox\" ><label for=\"sk-estimator-id-26\" class=\"sk-toggleable__label fitted sk-toggleable__label-arrow fitted\">RareGrouper</label><div class=\"sk-toggleable__content fitted\"><pre>RareGrouper(threshold=0.0001)</pre></div> </div></div><div class=\"sk-item\"><div class=\"sk-estimator fitted sk-toggleable\"><input class=\"sk-toggleable__control sk-hidden--visually\" id=\"sk-estimator-id-27\" type=\"checkbox\" ><label for=\"sk-estimator-id-27\" class=\"sk-toggleable__label fitted sk-toggleable__label-arrow fitted\">&nbsp;OneHotEncoder<a class=\"sk-estimator-doc-link fitted\" rel=\"noreferrer\" target=\"_blank\" href=\"https://scikit-learn.org/1.4/modules/generated/sklearn.preprocessing.OneHotEncoder.html\">?<span>Documentation for OneHotEncoder</span></a></label><div class=\"sk-toggleable__content fitted\"><pre>OneHotEncoder(drop=&#x27;if_binary&#x27;, handle_unknown=&#x27;ignore&#x27;, sparse_output=False)</pre></div> </div></div></div></div></div></div></div></div></div><div class=\"sk-item sk-dashed-wrapped\"><div class=\"sk-label-container\"><div class=\"sk-label fitted sk-toggleable\"><input class=\"sk-toggleable__control sk-hidden--visually\" id=\"sk-estimator-id-28\" type=\"checkbox\" ><label for=\"sk-estimator-id-28\" class=\"sk-toggleable__label fitted sk-toggleable__label-arrow fitted\">&nbsp;model: TransformedTargetRegressor<a class=\"sk-estimator-doc-link fitted\" rel=\"noreferrer\" target=\"_blank\" href=\"https://scikit-learn.org/1.4/modules/generated/sklearn.compose.TransformedTargetRegressor.html\">?<span>Documentation for model: TransformedTargetRegressor</span></a></label><div class=\"sk-toggleable__content fitted\"><pre>TransformedTargetRegressor(regressor=SGDRegressor(random_state=42),\n",
       "                           transformer=PowerTransformer())</pre></div> </div></div><div class=\"sk-parallel\"><div class=\"sk-parallel-item\"><div class=\"sk-item\"><div class=\"sk-label-container\"><div class=\"sk-label fitted sk-toggleable\"><input class=\"sk-toggleable__control sk-hidden--visually\" id=\"sk-estimator-id-29\" type=\"checkbox\" ><label for=\"sk-estimator-id-29\" class=\"sk-toggleable__label fitted sk-toggleable__label-arrow fitted\">regressor: SGDRegressor</label><div class=\"sk-toggleable__content fitted\"><pre>SGDRegressor(random_state=42)</pre></div> </div></div><div class=\"sk-serial\"><div class=\"sk-item\"><div class=\"sk-estimator fitted sk-toggleable\"><input class=\"sk-toggleable__control sk-hidden--visually\" id=\"sk-estimator-id-30\" type=\"checkbox\" ><label for=\"sk-estimator-id-30\" class=\"sk-toggleable__label fitted sk-toggleable__label-arrow fitted\">&nbsp;SGDRegressor<a class=\"sk-estimator-doc-link fitted\" rel=\"noreferrer\" target=\"_blank\" href=\"https://scikit-learn.org/1.4/modules/generated/sklearn.linear_model.SGDRegressor.html\">?<span>Documentation for SGDRegressor</span></a></label><div class=\"sk-toggleable__content fitted\"><pre>SGDRegressor(random_state=42)</pre></div> </div></div></div></div></div><div class=\"sk-parallel-item\"><div class=\"sk-item\"><div class=\"sk-label-container\"><div class=\"sk-label fitted sk-toggleable\"><input class=\"sk-toggleable__control sk-hidden--visually\" id=\"sk-estimator-id-31\" type=\"checkbox\" ><label for=\"sk-estimator-id-31\" class=\"sk-toggleable__label fitted sk-toggleable__label-arrow fitted\">transformer: PowerTransformer</label><div class=\"sk-toggleable__content fitted\"><pre>PowerTransformer()</pre></div> </div></div><div class=\"sk-serial\"><div class=\"sk-item\"><div class=\"sk-estimator fitted sk-toggleable\"><input class=\"sk-toggleable__control sk-hidden--visually\" id=\"sk-estimator-id-32\" type=\"checkbox\" ><label for=\"sk-estimator-id-32\" class=\"sk-toggleable__label fitted sk-toggleable__label-arrow fitted\">&nbsp;PowerTransformer<a class=\"sk-estimator-doc-link fitted\" rel=\"noreferrer\" target=\"_blank\" href=\"https://scikit-learn.org/1.4/modules/generated/sklearn.preprocessing.PowerTransformer.html\">?<span>Documentation for PowerTransformer</span></a></label><div class=\"sk-toggleable__content fitted\"><pre>PowerTransformer()</pre></div> </div></div></div></div></div></div></div></div></div></div></div>"
      ],
      "text/plain": [
       "Pipeline(steps=[('preprocessors',\n",
       "                 ColumnTransformer(transformers=[('norm',\n",
       "                                                  Pipeline(steps=[('QuantReplace',\n",
       "                                                                   QuantileReplacer(threshold=0.01)),\n",
       "                                                                  ('norm',\n",
       "                                                                   MinMaxScaler())]),\n",
       "                                                  ['Age', 'Book_average_rating',\n",
       "                                                   'Book_ratings_count',\n",
       "                                                   'sale price']),\n",
       "                                                 ('Status_Touch',\n",
       "                                                  Pipeline(steps=[('encoder',\n",
       "                                                                   OrdinalEncoder())]),\n",
       "                                                  ['Author_Rating', 'genre']),\n",
       "                                                 ('cat',\n",
       "                                                  Pipeline(steps=[('replace_rare',\n",
       "                                                                   RareGrouper(threshold=0.0001)),\n",
       "                                                                  ('encoder',\n",
       "                                                                   OneHotEncoder(drop='if_binary',\n",
       "                                                                                 handle_unknown='ignore',\n",
       "                                                                                 sparse_output=False))]),\n",
       "                                                  ['Author_Rating', 'Author',\n",
       "                                                   'language_code', 'genre',\n",
       "                                                   'Publisher'])])),\n",
       "                ('model',\n",
       "                 TransformedTargetRegressor(regressor=SGDRegressor(random_state=42),\n",
       "                                            transformer=PowerTransformer()))])"
      ]
     },
     "execution_count": 45,
     "metadata": {},
     "output_type": "execute_result"
    }
   ],
   "source": [
    "pipe_all_transform.fit(X_train, y_train)"
   ]
  },
  {
   "cell_type": "code",
   "execution_count": 46,
   "id": "c843ed60",
   "metadata": {
    "code_folding": [
     0
    ]
   },
   "outputs": [],
   "source": [
    "cat_Status_Touch_names = pipe_all_transform['preprocessors'].transformers_[1][\n",
    "    1]['encoder'].get_feature_names_out(cat_Status_Touch)\n",
    "cat_names = pipe_all_transform['preprocessors'].transformers_[2][1][\n",
    "    'encoder'].get_feature_names_out(cat)\n",
    "\n",
    "# объединяем названия колонок в один список (важен порядок как в ColumnTransformer)\n",
    "columns = np.hstack([num, cat_Status_Touch, cat])"
   ]
  },
  {
   "cell_type": "code",
   "execution_count": 47,
   "id": "938fbc13",
   "metadata": {},
   "outputs": [
    {
     "name": "stdout",
     "output_type": "stream",
     "text": [
      "Решение\n",
      "-0.410+0.02*Age+0.33*Book_average_rating+1.74*Book_ratings_count+1.83*sale price+0.04*Author_Rating-0.24*genre-0.30*Author_Rating-0.22*Author+0.08*language_code+0.04*genre+0.02*Publisher\n"
     ]
    }
   ],
   "source": [
    "B0, B = get_coefs(pipe_all_transform['model'].regressor_)\n",
    "features_names = list(columns)\n",
    "\n",
    "print_model (B0,B,features_names)"
   ]
  },
  {
   "cell_type": "code",
   "execution_count": 48,
   "id": "c8144501",
   "metadata": {},
   "outputs": [],
   "source": [
    "def vis_weigths_threshold(weights, feature_names, threshold, width = 1200, height = 600):\n",
    "    \"\"\"Отрисовка весов с фильтром.\n",
    "    Входные переменные:\n",
    "    ===========\n",
    "    weights: веса признаков\n",
    "    features_names: список названий признаков\n",
    "    threshold: порог \"значимости\" коэффициентов\n",
    "    \"\"\"\n",
    "    # фильтруем веса коэффициентов\n",
    "    mask = np.abs(weights) >= threshold\n",
    "    weights_filtered = weights[mask]\n",
    "    feature_names_filtered = [name for name, m in zip(feature_names, mask[1:]) if m]\n",
    "\n",
    "    # Рисуем столбчатую диаграмму\n",
    "    vis_weigths(weights_filtered,feature_names_filtered, width = width, height = height)"
   ]
  },
  {
   "cell_type": "code",
   "execution_count": 49,
   "id": "b8be2325",
   "metadata": {},
   "outputs": [
    {
     "data": {
      "application/vnd.plotly.v1+json": {
       "config": {
        "plotlyServerURL": "https://plot.ly"
       },
       "data": [
        {
         "marker": {
          "color": "red"
         },
         "name": "отрицательные веса",
         "type": "bar",
         "x": [
          0,
          4,
          5,
          6,
          7,
          15,
          16,
          17,
          19,
          20,
          22,
          23,
          29,
          30,
          31,
          32,
          33,
          34,
          36,
          38
         ],
         "y": [
          -0.4103734618446708,
          -0.2439210559972626,
          -0.29878596413751446,
          -0.22470225019389714,
          -0.10927014125,
          -0.08369967202536206,
          -0.08594224523238997,
          -0.2409056864117224,
          -0.0955488975554677,
          -0.12142387601232446,
          -0.2398737338410326,
          -0.08294275321779884,
          -0.1057790072550687,
          -0.18746748043371894,
          -0.12360071025613543,
          -0.11124997488566202,
          -0.2982121041388609,
          -0.3154248521331203,
          -0.16753169304546348,
          -0.10774351595026797
         ]
        },
        {
         "marker": {
          "color": "blue"
         },
         "name": "положительные веса",
         "type": "bar",
         "x": [
          1,
          2,
          3,
          8,
          9,
          10,
          11,
          12,
          13,
          14,
          18,
          21,
          24,
          25,
          26,
          27,
          28,
          35,
          37
         ],
         "y": [
          0.3271760725728989,
          1.7446102994098633,
          1.8333992151955387,
          0.09586673812322206,
          0.10344128146553026,
          0.09685807949121213,
          0.0812144598464255,
          0.08844559271280467,
          0.11119831179312407,
          0.08718059308985313,
          0.09020983524287944,
          0.09878985740194783,
          0.18139107553744502,
          0.09510611552853135,
          0.08970137679123105,
          0.09327379703593827,
          0.11881735387828148,
          0.11009254811196145,
          0.10445350959542982
         ]
        }
       ],
       "layout": {
        "height": 600,
        "template": {
         "data": {
          "bar": [
           {
            "error_x": {
             "color": "#f2f5fa"
            },
            "error_y": {
             "color": "#f2f5fa"
            },
            "marker": {
             "line": {
              "color": "rgb(17,17,17)",
              "width": 0.5
             },
             "pattern": {
              "fillmode": "overlay",
              "size": 10,
              "solidity": 0.2
             }
            },
            "type": "bar"
           }
          ],
          "barpolar": [
           {
            "marker": {
             "line": {
              "color": "rgb(17,17,17)",
              "width": 0.5
             },
             "pattern": {
              "fillmode": "overlay",
              "size": 10,
              "solidity": 0.2
             }
            },
            "type": "barpolar"
           }
          ],
          "carpet": [
           {
            "aaxis": {
             "endlinecolor": "#A2B1C6",
             "gridcolor": "#506784",
             "linecolor": "#506784",
             "minorgridcolor": "#506784",
             "startlinecolor": "#A2B1C6"
            },
            "baxis": {
             "endlinecolor": "#A2B1C6",
             "gridcolor": "#506784",
             "linecolor": "#506784",
             "minorgridcolor": "#506784",
             "startlinecolor": "#A2B1C6"
            },
            "type": "carpet"
           }
          ],
          "choropleth": [
           {
            "colorbar": {
             "outlinewidth": 0,
             "ticks": ""
            },
            "type": "choropleth"
           }
          ],
          "contour": [
           {
            "colorbar": {
             "outlinewidth": 0,
             "ticks": ""
            },
            "colorscale": [
             [
              0,
              "#0d0887"
             ],
             [
              0.1111111111111111,
              "#46039f"
             ],
             [
              0.2222222222222222,
              "#7201a8"
             ],
             [
              0.3333333333333333,
              "#9c179e"
             ],
             [
              0.4444444444444444,
              "#bd3786"
             ],
             [
              0.5555555555555556,
              "#d8576b"
             ],
             [
              0.6666666666666666,
              "#ed7953"
             ],
             [
              0.7777777777777778,
              "#fb9f3a"
             ],
             [
              0.8888888888888888,
              "#fdca26"
             ],
             [
              1,
              "#f0f921"
             ]
            ],
            "type": "contour"
           }
          ],
          "contourcarpet": [
           {
            "colorbar": {
             "outlinewidth": 0,
             "ticks": ""
            },
            "type": "contourcarpet"
           }
          ],
          "heatmap": [
           {
            "colorbar": {
             "outlinewidth": 0,
             "ticks": ""
            },
            "colorscale": [
             [
              0,
              "#0d0887"
             ],
             [
              0.1111111111111111,
              "#46039f"
             ],
             [
              0.2222222222222222,
              "#7201a8"
             ],
             [
              0.3333333333333333,
              "#9c179e"
             ],
             [
              0.4444444444444444,
              "#bd3786"
             ],
             [
              0.5555555555555556,
              "#d8576b"
             ],
             [
              0.6666666666666666,
              "#ed7953"
             ],
             [
              0.7777777777777778,
              "#fb9f3a"
             ],
             [
              0.8888888888888888,
              "#fdca26"
             ],
             [
              1,
              "#f0f921"
             ]
            ],
            "type": "heatmap"
           }
          ],
          "heatmapgl": [
           {
            "colorbar": {
             "outlinewidth": 0,
             "ticks": ""
            },
            "colorscale": [
             [
              0,
              "#0d0887"
             ],
             [
              0.1111111111111111,
              "#46039f"
             ],
             [
              0.2222222222222222,
              "#7201a8"
             ],
             [
              0.3333333333333333,
              "#9c179e"
             ],
             [
              0.4444444444444444,
              "#bd3786"
             ],
             [
              0.5555555555555556,
              "#d8576b"
             ],
             [
              0.6666666666666666,
              "#ed7953"
             ],
             [
              0.7777777777777778,
              "#fb9f3a"
             ],
             [
              0.8888888888888888,
              "#fdca26"
             ],
             [
              1,
              "#f0f921"
             ]
            ],
            "type": "heatmapgl"
           }
          ],
          "histogram": [
           {
            "marker": {
             "pattern": {
              "fillmode": "overlay",
              "size": 10,
              "solidity": 0.2
             }
            },
            "type": "histogram"
           }
          ],
          "histogram2d": [
           {
            "colorbar": {
             "outlinewidth": 0,
             "ticks": ""
            },
            "colorscale": [
             [
              0,
              "#0d0887"
             ],
             [
              0.1111111111111111,
              "#46039f"
             ],
             [
              0.2222222222222222,
              "#7201a8"
             ],
             [
              0.3333333333333333,
              "#9c179e"
             ],
             [
              0.4444444444444444,
              "#bd3786"
             ],
             [
              0.5555555555555556,
              "#d8576b"
             ],
             [
              0.6666666666666666,
              "#ed7953"
             ],
             [
              0.7777777777777778,
              "#fb9f3a"
             ],
             [
              0.8888888888888888,
              "#fdca26"
             ],
             [
              1,
              "#f0f921"
             ]
            ],
            "type": "histogram2d"
           }
          ],
          "histogram2dcontour": [
           {
            "colorbar": {
             "outlinewidth": 0,
             "ticks": ""
            },
            "colorscale": [
             [
              0,
              "#0d0887"
             ],
             [
              0.1111111111111111,
              "#46039f"
             ],
             [
              0.2222222222222222,
              "#7201a8"
             ],
             [
              0.3333333333333333,
              "#9c179e"
             ],
             [
              0.4444444444444444,
              "#bd3786"
             ],
             [
              0.5555555555555556,
              "#d8576b"
             ],
             [
              0.6666666666666666,
              "#ed7953"
             ],
             [
              0.7777777777777778,
              "#fb9f3a"
             ],
             [
              0.8888888888888888,
              "#fdca26"
             ],
             [
              1,
              "#f0f921"
             ]
            ],
            "type": "histogram2dcontour"
           }
          ],
          "mesh3d": [
           {
            "colorbar": {
             "outlinewidth": 0,
             "ticks": ""
            },
            "type": "mesh3d"
           }
          ],
          "parcoords": [
           {
            "line": {
             "colorbar": {
              "outlinewidth": 0,
              "ticks": ""
             }
            },
            "type": "parcoords"
           }
          ],
          "pie": [
           {
            "automargin": true,
            "type": "pie"
           }
          ],
          "scatter": [
           {
            "marker": {
             "line": {
              "color": "#283442"
             }
            },
            "type": "scatter"
           }
          ],
          "scatter3d": [
           {
            "line": {
             "colorbar": {
              "outlinewidth": 0,
              "ticks": ""
             }
            },
            "marker": {
             "colorbar": {
              "outlinewidth": 0,
              "ticks": ""
             }
            },
            "type": "scatter3d"
           }
          ],
          "scattercarpet": [
           {
            "marker": {
             "colorbar": {
              "outlinewidth": 0,
              "ticks": ""
             }
            },
            "type": "scattercarpet"
           }
          ],
          "scattergeo": [
           {
            "marker": {
             "colorbar": {
              "outlinewidth": 0,
              "ticks": ""
             }
            },
            "type": "scattergeo"
           }
          ],
          "scattergl": [
           {
            "marker": {
             "line": {
              "color": "#283442"
             }
            },
            "type": "scattergl"
           }
          ],
          "scattermapbox": [
           {
            "marker": {
             "colorbar": {
              "outlinewidth": 0,
              "ticks": ""
             }
            },
            "type": "scattermapbox"
           }
          ],
          "scatterpolar": [
           {
            "marker": {
             "colorbar": {
              "outlinewidth": 0,
              "ticks": ""
             }
            },
            "type": "scatterpolar"
           }
          ],
          "scatterpolargl": [
           {
            "marker": {
             "colorbar": {
              "outlinewidth": 0,
              "ticks": ""
             }
            },
            "type": "scatterpolargl"
           }
          ],
          "scatterternary": [
           {
            "marker": {
             "colorbar": {
              "outlinewidth": 0,
              "ticks": ""
             }
            },
            "type": "scatterternary"
           }
          ],
          "surface": [
           {
            "colorbar": {
             "outlinewidth": 0,
             "ticks": ""
            },
            "colorscale": [
             [
              0,
              "#0d0887"
             ],
             [
              0.1111111111111111,
              "#46039f"
             ],
             [
              0.2222222222222222,
              "#7201a8"
             ],
             [
              0.3333333333333333,
              "#9c179e"
             ],
             [
              0.4444444444444444,
              "#bd3786"
             ],
             [
              0.5555555555555556,
              "#d8576b"
             ],
             [
              0.6666666666666666,
              "#ed7953"
             ],
             [
              0.7777777777777778,
              "#fb9f3a"
             ],
             [
              0.8888888888888888,
              "#fdca26"
             ],
             [
              1,
              "#f0f921"
             ]
            ],
            "type": "surface"
           }
          ],
          "table": [
           {
            "cells": {
             "fill": {
              "color": "#506784"
             },
             "line": {
              "color": "rgb(17,17,17)"
             }
            },
            "header": {
             "fill": {
              "color": "#2a3f5f"
             },
             "line": {
              "color": "rgb(17,17,17)"
             }
            },
            "type": "table"
           }
          ]
         },
         "layout": {
          "annotationdefaults": {
           "arrowcolor": "#f2f5fa",
           "arrowhead": 0,
           "arrowwidth": 1
          },
          "autotypenumbers": "strict",
          "coloraxis": {
           "colorbar": {
            "outlinewidth": 0,
            "ticks": ""
           }
          },
          "colorscale": {
           "diverging": [
            [
             0,
             "#8e0152"
            ],
            [
             0.1,
             "#c51b7d"
            ],
            [
             0.2,
             "#de77ae"
            ],
            [
             0.3,
             "#f1b6da"
            ],
            [
             0.4,
             "#fde0ef"
            ],
            [
             0.5,
             "#f7f7f7"
            ],
            [
             0.6,
             "#e6f5d0"
            ],
            [
             0.7,
             "#b8e186"
            ],
            [
             0.8,
             "#7fbc41"
            ],
            [
             0.9,
             "#4d9221"
            ],
            [
             1,
             "#276419"
            ]
           ],
           "sequential": [
            [
             0,
             "#0d0887"
            ],
            [
             0.1111111111111111,
             "#46039f"
            ],
            [
             0.2222222222222222,
             "#7201a8"
            ],
            [
             0.3333333333333333,
             "#9c179e"
            ],
            [
             0.4444444444444444,
             "#bd3786"
            ],
            [
             0.5555555555555556,
             "#d8576b"
            ],
            [
             0.6666666666666666,
             "#ed7953"
            ],
            [
             0.7777777777777778,
             "#fb9f3a"
            ],
            [
             0.8888888888888888,
             "#fdca26"
            ],
            [
             1,
             "#f0f921"
            ]
           ],
           "sequentialminus": [
            [
             0,
             "#0d0887"
            ],
            [
             0.1111111111111111,
             "#46039f"
            ],
            [
             0.2222222222222222,
             "#7201a8"
            ],
            [
             0.3333333333333333,
             "#9c179e"
            ],
            [
             0.4444444444444444,
             "#bd3786"
            ],
            [
             0.5555555555555556,
             "#d8576b"
            ],
            [
             0.6666666666666666,
             "#ed7953"
            ],
            [
             0.7777777777777778,
             "#fb9f3a"
            ],
            [
             0.8888888888888888,
             "#fdca26"
            ],
            [
             1,
             "#f0f921"
            ]
           ]
          },
          "colorway": [
           "#636efa",
           "#EF553B",
           "#00cc96",
           "#ab63fa",
           "#FFA15A",
           "#19d3f3",
           "#FF6692",
           "#B6E880",
           "#FF97FF",
           "#FECB52"
          ],
          "font": {
           "color": "#f2f5fa"
          },
          "geo": {
           "bgcolor": "rgb(17,17,17)",
           "lakecolor": "rgb(17,17,17)",
           "landcolor": "rgb(17,17,17)",
           "showlakes": true,
           "showland": true,
           "subunitcolor": "#506784"
          },
          "hoverlabel": {
           "align": "left"
          },
          "hovermode": "closest",
          "mapbox": {
           "style": "dark"
          },
          "paper_bgcolor": "rgb(17,17,17)",
          "plot_bgcolor": "rgb(17,17,17)",
          "polar": {
           "angularaxis": {
            "gridcolor": "#506784",
            "linecolor": "#506784",
            "ticks": ""
           },
           "bgcolor": "rgb(17,17,17)",
           "radialaxis": {
            "gridcolor": "#506784",
            "linecolor": "#506784",
            "ticks": ""
           }
          },
          "scene": {
           "xaxis": {
            "backgroundcolor": "rgb(17,17,17)",
            "gridcolor": "#506784",
            "gridwidth": 2,
            "linecolor": "#506784",
            "showbackground": true,
            "ticks": "",
            "zerolinecolor": "#C8D4E3"
           },
           "yaxis": {
            "backgroundcolor": "rgb(17,17,17)",
            "gridcolor": "#506784",
            "gridwidth": 2,
            "linecolor": "#506784",
            "showbackground": true,
            "ticks": "",
            "zerolinecolor": "#C8D4E3"
           },
           "zaxis": {
            "backgroundcolor": "rgb(17,17,17)",
            "gridcolor": "#506784",
            "gridwidth": 2,
            "linecolor": "#506784",
            "showbackground": true,
            "ticks": "",
            "zerolinecolor": "#C8D4E3"
           }
          },
          "shapedefaults": {
           "line": {
            "color": "#f2f5fa"
           }
          },
          "sliderdefaults": {
           "bgcolor": "#C8D4E3",
           "bordercolor": "rgb(17,17,17)",
           "borderwidth": 1,
           "tickwidth": 0
          },
          "ternary": {
           "aaxis": {
            "gridcolor": "#506784",
            "linecolor": "#506784",
            "ticks": ""
           },
           "baxis": {
            "gridcolor": "#506784",
            "linecolor": "#506784",
            "ticks": ""
           },
           "bgcolor": "rgb(17,17,17)",
           "caxis": {
            "gridcolor": "#506784",
            "linecolor": "#506784",
            "ticks": ""
           }
          },
          "title": {
           "x": 0.05
          },
          "updatemenudefaults": {
           "bgcolor": "#506784",
           "borderwidth": 0
          },
          "xaxis": {
           "automargin": true,
           "gridcolor": "#283442",
           "linecolor": "#506784",
           "ticks": "",
           "title": {
            "standoff": 15
           },
           "zerolinecolor": "#283442",
           "zerolinewidth": 2
          },
          "yaxis": {
           "automargin": true,
           "gridcolor": "#283442",
           "linecolor": "#506784",
           "ticks": "",
           "title": {
            "standoff": 15
           },
           "zerolinecolor": "#283442",
           "zerolinewidth": 2
          }
         }
        },
        "title": {
         "text": "Веса модели"
        },
        "width": 1800,
        "xaxis": {
         "tickmode": "array",
         "ticktext": [
          "B0",
          "Book_average_rating",
          "Book_ratings_count",
          "sale price",
          "genre",
          "Author_Rating",
          "Author"
         ],
         "tickvals": [
          0,
          1,
          2,
          3,
          4,
          5,
          6,
          7,
          8,
          9,
          10,
          11,
          12,
          13,
          14,
          15,
          16,
          17,
          18,
          19,
          20,
          21,
          22,
          23,
          24,
          25,
          26,
          27,
          28,
          29,
          30,
          31,
          32,
          33,
          34,
          35,
          36,
          37,
          38
         ]
        }
       }
      }
     },
     "metadata": {},
     "output_type": "display_data"
    }
   ],
   "source": [
    "Bs = np.hstack([B0,B])\n",
    "vis_weigths_threshold(Bs,columns, 0.08, width = 1800)"
   ]
  },
  {
   "cell_type": "code",
   "execution_count": 50,
   "id": "f9272846",
   "metadata": {},
   "outputs": [
    {
     "data": {
      "text/plain": [
       "array(['Author_Rating_Excellent', 'Author_Rating_Famous',\n",
       "       'Author_Rating_Intermediate', 'Author_Rating_Novice',\n",
       "       'Author_A.S.A. Harrison', 'Author_Adam Johnson',\n",
       "       'Author_Adam Mansbach, Ricardo CortÃ©s', 'Author_Agatha Christie',\n",
       "       'Author_Agatha Christie, Î¡Î¿Î¶Î¯Ï„Î± Î£ÏŽÎºÎ¿Ï…',\n",
       "       'Author_Alan Bradley', 'Author_Alan Brennert',\n",
       "       'Author_Albert Camus, Stuart Gilbert', 'Author_Alex Flinn',\n",
       "       'Author_Alex Garland', 'Author_Alex Haley',\n",
       "       'Author_Alexandra Bracken', 'Author_Alice Clayton',\n",
       "       'Author_Alice Sebold',\n",
       "       'Author_Allen Ginsberg, William Carlos Williams',\n",
       "       'Author_Allie Brosh', 'Author_Ally Carter', 'Author_Ally Condie',\n",
       "       'Author_Amanda Hocking', 'Author_Amor Towles', 'Author_Amy Tan',\n",
       "       'Author_Anita Diamant', 'Author_Anita Shreve',\n",
       "       'Author_Ann Patchett', 'Author_Anna Quindlen',\n",
       "       'Author_Anne McCaffrey, Teodor PanasiÅ„ski', 'Author_Anne Rice',\n",
       "       'Author_Anne Tyler, Jennifer Bassett', 'Author_Annie Proulx',\n",
       "       'Author_Anthony Bourdain', 'Author_Aravind Adiga',\n",
       "       'Author_Arnold Lobel', 'Author_Art Spiegelman',\n",
       "       'Author_Arthur C. Clarke', 'Author_Arthur Conan Doyle',\n",
       "       'Author_Arthur Conan Doyle, Anne Perry',\n",
       "       'Author_Arthur Conan Doyle, Kyle Freeman',\n",
       "       'Author_Astrid Lindgren, Lauren Child, Florence Lamborn, Nancy Seligsohn',\n",
       "       'Author_Atul Gawande', 'Author_Audrey Niffenegger',\n",
       "       'Author_Augusten Burroughs', 'Author_Austin Kleon',\n",
       "       'Author_Ayaan Hirsi Ali', 'Author_Azar Nafisi',\n",
       "       'Author_Aziz Ansari, Eric Klinenberg', 'Author_B.A. Paris',\n",
       "       'Author_Barack Obama', 'Author_Barbara Kingsolver',\n",
       "       'Author_Barbara Kingsolver, Steven L. Hopp, Camille Kingsolver, Richard A. Houser',\n",
       "       'Author_Becca Fitzpatrick',\n",
       "       'Author_Benjamin Hoff, Ernest H. Shepard',\n",
       "       'Author_Bernhard Schlink, Carol Brown Janeway',\n",
       "       'Author_Beth Hoffman, Jenna Lamia', 'Author_Beverly Cleary',\n",
       "       'Author_Bill Bryson', 'Author_Bill Martin Jr., Eric Carle',\n",
       "       'Author_Bill Martin Jr., John Archambault, Lois Ehlert',\n",
       "       \"Author_Bill O'Reilly, Martin Dugard\", 'Author_Bill Watterson',\n",
       "       'Author_Bill Willingham, Lan Medina, Steve Leialoha, Craig Hamilton, James Jean',\n",
       "       'Author_Bisco Hatori', 'Author_Blake Crouch',\n",
       "       'Author_Boris Pasternak, Max Hayward, Manya Harari, John Bayley',\n",
       "       'Author_Brandon Mull', 'Author_Brandon Sanderson',\n",
       "       'Author_Brent Weeks', 'Author_Brian Greene',\n",
       "       'Author_Brian K. Vaughan, Pia Guerra, JosÃ© MarzÃ¡n Jr.',\n",
       "       'Author_Brian Selznick', \"Author_Bryan Lee O'Malley\",\n",
       "       'Author_Bryce Courtenay', 'Author_C.S. Lewis',\n",
       "       'Author_Caitlin Moran', 'Author_Carl Hiaasen', 'Author_Carl Sagan',\n",
       "       'Author_Carlos Ruiz ZafÃ³n, Lucia Graves',\n",
       "       'Author_Carol Rifka Brunt', 'Author_Carson McCullers',\n",
       "       'Author_Catherine Hardwicke', 'Author_Cecelia Ahern',\n",
       "       'Author_Chad Harbach', 'Author_Chaim Potok',\n",
       "       'Author_Charlaine Harris', 'Author_Charles Darwin',\n",
       "       'Author_Charles Dickens, Nicola Bradbury, Hablot Knight Browne',\n",
       "       'Author_Charles Duhigg', 'Author_Chelsea Handler',\n",
       "       'Author_Chetan Bhagat', 'Author_Chimamanda Ngozi Adichie',\n",
       "       'Author_Chris Kyle, Scott McEwen, Jim DeFelice',\n",
       "       'Author_Chris Van Allsburg', 'Author_Christina Lauren',\n",
       "       'Author_Christina Schwarz', 'Author_Christopher Hitchens',\n",
       "       'Author_Christopher McDougall', 'Author_Christopher Moore',\n",
       "       'Author_Christopher Paolini', 'Author_Christopher Paul Curtis',\n",
       "       'Author_Chuck Klosterman', 'Author_Chuck Palahniuk',\n",
       "       'Author_Clement C. Moore, Jan Brett', 'Author_Colleen Hoover',\n",
       "       'Author_Colm TÃ³ibÃ\\xadn', 'Author_Colson Whitehead',\n",
       "       'Author_Colum McCann', 'Author_Cora Carmack',\n",
       "       'Author_Cormac McCarthy', 'Author_Craig Thompson',\n",
       "       'Author_Cynthia Hand', 'Author_Dan Ariely', 'Author_Dan Simmons',\n",
       "       'Author_Daniel James Brown',\n",
       "       'Author_Dante Alighieri, Anthony M. Esolen',\n",
       "       'Author_Dashiell Hammett', 'Author_Dave Eggers',\n",
       "       'Author_David    Allen', 'Author_David Baldacci',\n",
       "       'Author_David Benioff', 'Author_David Eddings',\n",
       "       'Author_David Guterson',\n",
       "       'Author_David Lagercrantz, Stieg Larsson, George Goulding',\n",
       "       'Author_David Levithan', 'Author_David McCullough',\n",
       "       'Author_David Mitchell', 'Author_David Sedaris',\n",
       "       'Author_David Wroblewski', 'Author_Dean Koontz',\n",
       "       'Author_Deborah Harkness', 'Author_Dennis Lehane',\n",
       "       'Author_Diana Gabaldon', 'Author_Diana Wynne Jones',\n",
       "       'Author_Don DeLillo', 'Author_Don Freeman',\n",
       "       'Author_Don Piper, Cecil Murphey',\n",
       "       'Author_Doris Kearns Goodwin, Suzanne Toren',\n",
       "       'Author_Douglas Adams', 'Author_Dr. Seuss',\n",
       "       'Author_E.B. White, Garth Williams', 'Author_E.L. James',\n",
       "       'Author_Eckhart Tolle', 'Author_Edith Wharton',\n",
       "       'Author_Edith Wharton, Maureen Howard',\n",
       "       'Author_Edith Wharton, Nina Bawden',\n",
       "       'Author_EiichirÅ\\x8d Oda, Andy Nakatani',\n",
       "       'Author_Elena Ferrante, Ann Goldstein',\n",
       "       'Author_Elizabeth Gaskell, Alan Shelston',\n",
       "       'Author_Elizabeth George Speare', 'Author_Elizabeth Gilbert',\n",
       "       'Author_Elizabeth Strout', 'Author_Ellen DeGeneres',\n",
       "       'Author_Ellen Raskin', 'Author_Emily Dickinson, Thomas H. Johnson',\n",
       "       'Author_Emily Giffin', 'Author_Emily Seife', 'Author_Emma Cline',\n",
       "       'Author_Emmuska Orczy', 'Author_Eoin Colfer', 'Author_Eric Ries',\n",
       "       'Author_Erik Larson', 'Author_Esphyr Slobodkina',\n",
       "       'Author_Evelyn Waugh', 'Author_Ezra Jack Keats',\n",
       "       'Author_F. Scott Fitzgerald', 'Author_Flora Rheta Schreiber',\n",
       "       'Author_Frances Hodgson Burnett, Nancy Bond',\n",
       "       'Author_Frank E. Peretti', 'Author_Frank Herbert',\n",
       "       \"Author_Frank Miller, David Mazzucchelli, Richmond Lewis, Dennis O'Neil\",\n",
       "       'Author_Frank Miller, Klaus Janson, Lynn Varley',\n",
       "       'Author_Fred Gipson', 'Author_Frederick Forsyth',\n",
       "       'Author_Friedrich Nietzsche, Walter Kaufmann',\n",
       "       'Author_Fyodor Dostoyevsky, Andrew R. MacAndrew, Ben Marcus',\n",
       "       'Author_Fyodor Dostoyevsky, Constance Garnett, Alan Myers, Joseph Frank, Anna Brailovsky',\n",
       "       'Author_Gabrielle Zevin', 'Author_Garth Nix',\n",
       "       'Author_Geoffrey Chaucer, Nevill Coghill',\n",
       "       'Author_George Bernard Shaw',\n",
       "       'Author_George Orwell, Christopher Hitchens',\n",
       "       'Author_Geraldine Brooks',\n",
       "       'Author_Gertrude Chandler Warner, L. Kate Deal',\n",
       "       'Author_Graeme Simsion', 'Author_H.A. Rey', 'Author_H.G. Wells',\n",
       "       'Author_H.G. Wells, Arthur C. Clarke',\n",
       "       'Author_Hajime Isayama, Sheldon Drzka',\n",
       "       'Author_Hans Christian Andersen, Lily Owens, Arthur Rackham, Hans Richter',\n",
       "       'Author_Harlan Coben', 'Author_Harriet Beecher Stowe',\n",
       "       'Author_Harry Allard, James  Marshall',\n",
       "       'Author_Haruki Murakami, Alfred Birnbaum',\n",
       "       'Author_Haruki Murakami, Jay Rubin, Philip Gabriel',\n",
       "       'Author_Haruki Murakami, Philip Gabriel', 'Author_Helen Fielding',\n",
       "       'Author_Helen Keller', 'Author_Helen Simonson',\n",
       "       'Author_Helene Wecker', 'Author_Henrik Ibsen, Michael   Meyer',\n",
       "       'Author_Henry David Thoreau', 'Author_Herman Koch, Sam Garrett',\n",
       "       'Author_Hilary Mantel', 'Author_Hiro Mashima, William Flanagan',\n",
       "       'Author_Hiromu Arakawa, Akira Watanabe', 'Author_Howard Zinn',\n",
       "       'Author_Hugh Howey', 'Author_Huntley Fitzpatrick',\n",
       "       'Author_Ira Levin',\n",
       "       'Author_Irving Stone, ×©×ž×•×\\x90×œ ×©×\\xa0×™×¦×¨',\n",
       "       'Author_Isaac Asimov', 'Author_Isaac Marion',\n",
       "       'Author_Isabel Allende, Magda Bogin',\n",
       "       'Author_Isabel Allende, Margaret Sayers Peden',\n",
       "       'Author_Ishmael Beah', 'Author_J.D. Vance', 'Author_J.M. Coetzee',\n",
       "       'Author_J.R. Ward', 'Author_J.R.R. Tolkien',\n",
       "       'Author_J.R.R. Tolkien, Christopher Tolkien, Ted Nasmith',\n",
       "       'Author_Jack London', 'Author_Jacquelyn Mitchard',\n",
       "       'Author_James A. Michener', 'Author_James C. Collins',\n",
       "       'Author_James Ellroy', 'Author_James Fenimore Cooper',\n",
       "       'Author_James Herriot', 'Author_James Joyce',\n",
       "       'Author_James Joyce, Seamus Deane', 'Author_James McBride',\n",
       "       'Author_James Patterson', 'Author_James Patterson, Andrew Gross',\n",
       "       'Author_James Patterson, Peter de Jonge',\n",
       "       'Author_James S.A. Corey', 'Author_Jandy Nelson',\n",
       "       'Author_Jane Green',\n",
       "       'Author_Jane Hamilton, Frank  Muller, C.J. Critt',\n",
       "       'Author_Janet Evanovich', 'Author_Janet Evanovich, Lorelei King',\n",
       "       'Author_Jason Fried, David Heinemeier Hansson',\n",
       "       'Author_Jasper Fforde', 'Author_Jaycee Dugard',\n",
       "       'Author_Jeaniene Frost', 'Author_Jeannette Walls',\n",
       "       'Author_Jeff Kinney', 'Author_Jeffery Deaver',\n",
       "       'Author_Jeffrey Archer', 'Author_Jeffrey Eugenides',\n",
       "       'Author_Jenna Blum', 'Author_Jennifer Crusie',\n",
       "       'Author_Jennifer E. Smith', 'Author_Jennifer L. Armentrout',\n",
       "       'Author_Jennifer Probst', 'Author_Jennifer Weiner',\n",
       "       'Author_Jenny  Lawson', 'Author_Jenny Han',\n",
       "       'Author_Jerry Spinelli', 'Author_Jesse Andrews',\n",
       "       'Author_Jessica Knoll', 'Author_Jessica Sorensen',\n",
       "       'Author_Jessie Burton', 'Author_Jhumpa Lahiri',\n",
       "       'Author_Jim Butcher', 'Author_Jim Fergus', 'Author_Joanne Harris',\n",
       "       'Author_Jodi Ellen Malpas', 'Author_Jodi Picoult',\n",
       "       'Author_Joe Abercrombie', 'Author_Joe Hill',\n",
       "       'Author_Johann David Wyss, Scott McKowen, Arthur Pober',\n",
       "       'Author_Johanna Spyri, Angelo  Rinaldi, Beverly Cleary',\n",
       "       'Author_John Berendt', 'Author_John Bunyan',\n",
       "       'Author_John Flanagan', 'Author_John Gray', 'Author_John Grisham',\n",
       "       'Author_John Irving', 'Author_John Knowles',\n",
       "       'Author_John Steinbeck', 'Author_Jojo Moyes',\n",
       "       'Author_Jon Krakauer', 'Author_Jon Ronson',\n",
       "       'Author_Jon Scieszka, Lane Smith',\n",
       "       'Author_Jon Stewart, Ben Karlin, David Javerbaum, Rich Bloomquist, Steve Bodow, Tim Carvell, Eric Drysdale, J.R. Havlan, Scott Jacobson, Tom Johnson, Rob Kutner, Chris Regan, Jason Reich, Jason Ross, Stephen Colbert, Samantha Bee, Rob Corddry, Brendan Hay, Ed Helms',\n",
       "       'Author_Jonas Jonasson, Rod Bradbury', 'Author_Jonathan Franzen',\n",
       "       'Author_Jonathan Safran Foer', 'Author_Jonathan Stroud',\n",
       "       'Author_Jonathan Tropper',\n",
       "       'Author_Jostein Gaarder, Paulette MÃ¸ller',\n",
       "       'Author_JosÃ© Saramago, Giovanni Pontiero',\n",
       "       'Author_Joyce Carol Oates', 'Author_Judi Barrett, Ron Barrett',\n",
       "       'Author_Judith Viorst, Ray Cruz', 'Author_Judy Blume',\n",
       "       'Author_Jules Verne, Michael Glencross, Brian W. Aldiss',\n",
       "       'Author_Julia Cameron', \"Author_Julia Child, Alex Prud'Homme\",\n",
       "       'Author_Julie Kagawa', 'Author_Julie Powell', 'Author_Jung Chang',\n",
       "       'Author_Junot DÃ\\xadaz', 'Author_Justin Cronin',\n",
       "       'Author_Justin Halpern',\n",
       "       'Author_Kami Garcia, Margaret Stohl, Paz Pruneda',\n",
       "       'Author_Karen Joy Fowler', 'Author_Karen Thompson Walker',\n",
       "       'Author_Karin Slaughter',\n",
       "       'Author_Karl Marx, Friedrich Engels, Gareth Stedman Jones',\n",
       "       'Author_Kate Atkinson', 'Author_Kate Chopin', 'Author_Kate Egan',\n",
       "       'Author_Katherine Applegate, Patricia Castelao',\n",
       "       'Author_Kathy Reichs', 'Author_Katie McGarry',\n",
       "       'Author_Kazuo Ishiguro', 'Author_Keith Richards',\n",
       "       'Author_Kelley Armstrong', 'Author_Ken Follett',\n",
       "       'Author_Kenneth Branagh, William Shakespeare',\n",
       "       'Author_Kenneth Grahame, Gillian Avery',\n",
       "       'Author_Kenneth H. Blanchard, Spencer Johnson',\n",
       "       'Author_Kennilworthy Whisp, J.K. Rowling', 'Author_Kim Harrison',\n",
       "       'Author_Kimberly McCreight', 'Author_Kody Keplinger',\n",
       "       'Author_Kristin Cashore', 'Author_Kristin Hannah',\n",
       "       'Author_Kurt Vonnegut Jr.', 'Author_L.M. Montgomery',\n",
       "       'Author_Laini Taylor', 'Author_Larry McMurtry',\n",
       "       'Author_Laura Hillenbrand',\n",
       "       'Author_Laura Ingalls Wilder, Garth Williams',\n",
       "       'Author_Laurell K. Hamilton', 'Author_Lauren DeStefano',\n",
       "       'Author_Lauren Kate', 'Author_Lauren Oliver',\n",
       "       'Author_Lauren Weisberger', 'Author_Lee Child',\n",
       "       'Author_Lee Strobel', 'Author_Leigh Bardugo',\n",
       "       'Author_Lemony Snicket, Brett Helquist', 'Author_Lev Grossman',\n",
       "       'Author_Lionel Shriver', 'Author_Lois Lowry',\n",
       "       'Author_Louis Sachar, Adam McCauley', 'Author_Louis de BerniÃ¨res',\n",
       "       'Author_Louise Erdrich', 'Author_Louise Rennison',\n",
       "       'Author_Ludwig Bemelmans', 'Author_Lynne Reid Banks',\n",
       "       'Author_Lynne Truss', 'Author_M. Scott Peck', 'Author_M.R. Carey',\n",
       "       \"Author_Madeleine L'Engle\", 'Author_Maggie Stiefvater',\n",
       "       'Author_Malcolm X, Alex Haley',\n",
       "       'Author_Marcus Luttrell, Patrick Robinson',\n",
       "       'Author_Marcus Pfister, J. Alison James', 'Author_Margaret Atwood',\n",
       "       'Author_Margaret Peterson Haddix',\n",
       "       'Author_Margaret Weis, Tracy Hickman',\n",
       "       'Author_Margery Williams Bianco, William   Nicholson',\n",
       "       'Author_Marie KondÅ\\x8d, Cathy Hirano', 'Author_Marie Lu',\n",
       "       'Author_Marion Zimmer Bradley', 'Author_Marissa Meyer',\n",
       "       'Author_Marjane Satrapi, Mattias Ripa',\n",
       "       'Author_Marjane Satrapi, Mattias Ripa, Blake Ferris, Anjali Singh',\n",
       "       'Author_Mark Cotta Vaz', 'Author_Mark Twain, Everett H. Emerson',\n",
       "       'Author_Mark Z. Danielewski', 'Author_Markus Zusak',\n",
       "       'Author_Mary Kubica', 'Author_Mary Roach',\n",
       "       'Author_Masashi Kishimoto, Katy Bridges',\n",
       "       'Author_Matsuri Hino, Tomo Kimura', 'Author_Matthew Quick',\n",
       "       'Author_Max Brooks', 'Author_Melissa de la Cruz',\n",
       "       'Author_Michael   Lewis', 'Author_Michael  Grant',\n",
       "       'Author_Michael Connelly', 'Author_Michael Crichton',\n",
       "       'Author_Michael Cunningham', 'Author_Michael Pollan',\n",
       "       'Author_Michelle Hodkin', 'Author_Miguel Ruiz',\n",
       "       \"Author_Mikhail Bulgakov, Katherine Tiernan O'Connor, Diana Burgin, Ellendea Proffer\",\n",
       "       'Author_Mildred D. Taylor', 'Author_Mindy Kaling',\n",
       "       'Author_Mitch Albom', 'Author_Nancy Horan', 'Author_Napoleon Hill',\n",
       "       'Author_Nassim Nicholas Taleb', 'Author_Natalie Babbitt',\n",
       "       'Author_Nathaniel Philbrick',\n",
       "       'Author_Natsuki Takaya, Alethea Nibley, Athena Nibley',\n",
       "       'Author_Neal Shusterman', 'Author_Neal Stephenson',\n",
       "       'Author_Neil Gaiman',\n",
       "       'Author_Neil Gaiman, Kelley Jones, Charles Vess, Colleen Doran, Malcolm Jones III, Steve Erickson',\n",
       "       'Author_Nicholas Sparks', 'Author_Nick Hornby',\n",
       "       'Author_Nicola Yoon, David Yoon', 'Author_Nora Roberts',\n",
       "       'Author_Olive Ann Burns', 'Author_Oliver Sacks',\n",
       "       'Author_Orson Scott Card', 'Author_P.C. Cast, Kristin Cast',\n",
       "       'Author_P.D. Eastman', 'Author_P.D. James',\n",
       "       'Author_Patricia Briggs', 'Author_Patrick Ness',\n",
       "       'Author_Patrick Rothfuss, Nate  Taylor',\n",
       "       'Author_Paulo Coelho, Margaret Jull Costa',\n",
       "       'Author_Peggy Parish, Fritz Siebel', 'Author_Peter S. Beagle',\n",
       "       'Author_Peter V. Brett', 'Author_Philip K. Dick',\n",
       "       'Author_Philip Pullman', 'Author_Philippa Gregory',\n",
       "       'Author_Pierce Brown', 'Author_Pittacus Lore',\n",
       "       'Author_Rachel Joyce', 'Author_Rainbow Rowell',\n",
       "       'Author_Ralph Ellison', 'Author_Raymond Chandler',\n",
       "       'Author_Raymond E. Feist', 'Author_Richard   Preston',\n",
       "       'Author_Richard Bach, Russell Munson',\n",
       "       'Author_Richard Bachman, Stephen King', 'Author_Richard Carlson',\n",
       "       'Author_Richard Feynman', 'Author_Richard Matheson',\n",
       "       'Author_Richard Russo', 'Author_Richard Wright',\n",
       "       'Author_Richard Yates', 'Author_Richelle Mead',\n",
       "       'Author_Rick Riordan', 'Author_Rick Yancey',\n",
       "       'Author_Robert A. Heinlein', \"Author_Robert C. O'Brien\",\n",
       "       'Author_Robert Galbraith, J.K. Rowling', 'Author_Robert Jordan',\n",
       "       'Author_Robert Jordan, Brandon Sanderson',\n",
       "       'Author_Robert K. Massie', 'Author_Robert Kirkman',\n",
       "       'Author_Robert Louis Stevenson, Robert Mighall',\n",
       "       'Author_Robert Ludlum', 'Author_Robert M. Pirsig',\n",
       "       'Author_Robert T. Kiyosaki', 'Author_Robin Hobb',\n",
       "       'Author_Robin Sloan', 'Author_Ronald Holt, Arthur Conan Doyle',\n",
       "       'Author_Rosamunde Pilcher', 'Author_Rudyard Kipling',\n",
       "       'Author_Ruth Ware', 'Author_S.C. Stephens',\n",
       "       'Author_Salman Rushdie', 'Author_Sam McBratney, Anita Jeram',\n",
       "       'Author_Samantha Young', 'Author_Samuel Beckett',\n",
       "       'Author_Sandra Cisneros', 'Author_Sara Shepard',\n",
       "       'Author_Sarah Dessen', 'Author_Sarah J. Maas',\n",
       "       'Author_Scott McCloud', 'Author_Scott Turow',\n",
       "       'Author_Scott Westerfeld', 'Author_Seth Grahame-Smith',\n",
       "       'Author_Seth Grahame-Smith, Jane Austen', 'Author_Shannon Hale',\n",
       "       'Author_Sharon Creech', 'Author_Sharon M. Draper',\n",
       "       'Author_Sheryl Sandberg, Nell Scovell', 'Author_Simon Winchester',\n",
       "       'Author_Solomon Northup', 'Author_Sophie Kinsella',\n",
       "       'Author_Stacy Schiff', 'Author_Stephanie Perkins',\n",
       "       'Author_Stephen E. Ambrose', 'Author_Stephen King',\n",
       "       'Author_Stephen King, Bernie Wrightson',\n",
       "       'Author_Stephen King, Bettina Blanch Tyroller',\n",
       "       'Author_Stephen King, Darrel Anderson',\n",
       "       'Author_Stephen King, Dave McKean',\n",
       "       'Author_Stephen King, Jerry N. Uelsmann',\n",
       "       'Author_Stephen King, John D. MacDonald',\n",
       "       'Author_Stephen King, Marie Milpois',\n",
       "       'Author_Stephen King, Ned Dameron', 'Author_Stephenie Meyer',\n",
       "       'Author_Steve Martin',\n",
       "       'Author_Steven D. Levitt, Stephen J. Dubner', 'Author_Sue Grafton',\n",
       "       'Author_Sue Monk Kidd', 'Author_Susan Beth Pfeffer',\n",
       "       'Author_Susan Ee', 'Author_Susanna Clarke',\n",
       "       'Author_Susanna Kaysen', 'Author_Susannah Cahalan',\n",
       "       'Author_Sylvain Reynard', 'Author_Sylvia Day',\n",
       "       'Author_Sylvia Nasar', 'Author_Ta-Nehisi Coates',\n",
       "       'Author_Tamora Pierce', 'Author_Terry Goodkind',\n",
       "       'Author_Terry Hayes', 'Author_Terry Pratchett',\n",
       "       'Author_Tess Gerritsen',\n",
       "       'Author_Thomas Hardy, Tim Dolin, Margaret R. Higonnet',\n",
       "       'Author_Timothy Ferriss', 'Author_Tite Kubo', 'Author_Tom Clancy',\n",
       "       'Author_Tom Robbins', 'Author_Tom Stoppard, Henry Popkin',\n",
       "       'Author_Toni Morrison',\n",
       "       'Author_Travis Bradberry, Jean Greaves, Patrick Lencioni',\n",
       "       'Author_Truman Capote', 'Author_TÃ©a Obreht',\n",
       "       'Author_Unknown, Seamus Heaney',\n",
       "       'Author_Upton Sinclair, Earl Lee, Kathleen DeGrave',\n",
       "       'Author_Ursula Hegi', 'Author_Ursula K. Le Guin',\n",
       "       'Author_Ursula K. Le Guin, Lech JÄ™czmyk',\n",
       "       'Author_Vanessa Diffenbaugh', 'Author_Veronica Rossi',\n",
       "       'Author_Veronica Roth', 'Author_Victor Hugo, Walter J. Cobb',\n",
       "       'Author_Victoria Aveyard', 'Author_Virginia Woolf',\n",
       "       'Author_Virginia Woolf, Maureen Howard', 'Author_Voltaire',\n",
       "       'Author_W. Bruce Cameron', 'Author_Walter Isaacson',\n",
       "       'Author_Walter M. Miller Jr.',\n",
       "       'Author_Watty Piper, Doris Hauman, George Hauman',\n",
       "       'Author_Wendelin Van Draanen',\n",
       "       'Author_Wilkie Collins, Matthew Sweet', 'Author_William Faulkner',\n",
       "       'Author_William L. Shirer', 'Author_William Peter Blatty',\n",
       "       'Author_William Shakespeare',\n",
       "       'Author_William Shakespeare, Roma Gill',\n",
       "       'Author_Yana Toboso, Tomo Kimura', 'Author_Zadie Smith',\n",
       "       'Author_Ø£Ø\\xadÙ„Ø§Ù… Ù…Ø³ØªØºØ§Ù†Ù…ÙŠ, Ahlam Mosteghanemi',\n",
       "       'Author_Ø£Ø\\xadÙ…Ø¯ Ù…Ø±Ø§Ø¯', 'language_code_ara',\n",
       "       'language_code_en-CA', 'language_code_en-GB',\n",
       "       'language_code_en-US', 'language_code_eng', 'language_code_fre',\n",
       "       'language_code_spa', 'genre_children', 'genre_fiction',\n",
       "       'genre_genre fiction', 'genre_nonfiction',\n",
       "       'Publisher_Amazon Digital Services,  Inc.',\n",
       "       'Publisher_Hachette Book Group',\n",
       "       'Publisher_HarperCollins Christian Publishing',\n",
       "       'Publisher_HarperCollins Publishers', 'Publisher_Macmillan',\n",
       "       'Publisher_Penguin Group (USA) LLC', 'Publisher_Random House LLC',\n",
       "       'Publisher_Simon and Schuster Digital Sales Inc'], dtype=object)"
      ]
     },
     "execution_count": 50,
     "metadata": {},
     "output_type": "execute_result"
    }
   ],
   "source": [
    "cat_names  # Можно посмотреть, что скрывается за индексами"
   ]
  },
  {
   "cell_type": "code",
   "execution_count": 51,
   "id": "55b650b2",
   "metadata": {},
   "outputs": [
    {
     "name": "stdout",
     "output_type": "stream",
     "text": [
      "r2 на тренировочной выборке: 0.2476\n",
      "r2 на валидационной выборке: 0.2436\n",
      "mse на тренировочной выборке: 10577820.5436\n",
      "mse на валидационной выборке: 14444524.2334\n",
      "rmse на тренировочной выборке: 3252.3562\n",
      "rmse на валидационной выборке: 3800.5952\n"
     ]
    }
   ],
   "source": [
    "print(f\"r2 на тренировочной выборке: {calculate_metric(pipe_all_transform, X_train, y_train):.4f}\")\n",
    "print(f\"r2 на валидационной выборке: {calculate_metric(pipe_all_transform, X_val, y_val):.4f}\")\n",
    "\n",
    "print(f\"mse на тренировочной выборке: {calculate_metric(pipe_all_transform, X_train, y_train, mse):.4f}\")\n",
    "print(f\"mse на валидационной выборке: {calculate_metric(pipe_all_transform, X_val, y_val, mse):.4f}\")\n",
    "\n",
    "print(f\"rmse на тренировочной выборке: {calculate_metric(pipe_all_transform, X_train, y_train, mse, squared = False):.4f}\")\n",
    "print(f\"rmse на валидационной выборке: {calculate_metric(pipe_all_transform, X_val, y_val, mse, squared = False):.4f}\")"
   ]
  },
  {
   "cell_type": "code",
   "execution_count": 52,
   "id": "335b3057",
   "metadata": {},
   "outputs": [
    {
     "name": "stdout",
     "output_type": "stream",
     "text": [
      "Ошибка на кросс-валидации\n"
     ]
    },
    {
     "data": {
      "text/html": [
       "<div>\n",
       "<style scoped>\n",
       "    .dataframe tbody tr th:only-of-type {\n",
       "        vertical-align: middle;\n",
       "    }\n",
       "\n",
       "    .dataframe tbody tr th {\n",
       "        vertical-align: top;\n",
       "    }\n",
       "\n",
       "    .dataframe thead th {\n",
       "        text-align: right;\n",
       "    }\n",
       "</style>\n",
       "<table border=\"1\" class=\"dataframe\">\n",
       "  <thead>\n",
       "    <tr style=\"text-align: right;\">\n",
       "      <th></th>\n",
       "      <th>fit_time</th>\n",
       "      <th>score_time</th>\n",
       "      <th>test_R2</th>\n",
       "      <th>test_-MSE</th>\n",
       "      <th>test_-MAE</th>\n",
       "      <th>test_-Max</th>\n",
       "    </tr>\n",
       "  </thead>\n",
       "  <tbody>\n",
       "    <tr>\n",
       "      <th>0</th>\n",
       "      <td>0.063999</td>\n",
       "      <td>0.009000</td>\n",
       "      <td>0.363556</td>\n",
       "      <td>-1.785623e+06</td>\n",
       "      <td>-573.974654</td>\n",
       "      <td>-7229.615952</td>\n",
       "    </tr>\n",
       "    <tr>\n",
       "      <th>1</th>\n",
       "      <td>0.052999</td>\n",
       "      <td>0.009001</td>\n",
       "      <td>-0.021092</td>\n",
       "      <td>-9.311203e+06</td>\n",
       "      <td>-1183.822534</td>\n",
       "      <td>-20905.215625</td>\n",
       "    </tr>\n",
       "    <tr>\n",
       "      <th>2</th>\n",
       "      <td>0.063000</td>\n",
       "      <td>0.009000</td>\n",
       "      <td>0.692457</td>\n",
       "      <td>-1.581797e+06</td>\n",
       "      <td>-581.628909</td>\n",
       "      <td>-5141.675714</td>\n",
       "    </tr>\n",
       "    <tr>\n",
       "      <th>3</th>\n",
       "      <td>0.058998</td>\n",
       "      <td>0.009001</td>\n",
       "      <td>0.191198</td>\n",
       "      <td>-7.035212e+06</td>\n",
       "      <td>-846.452771</td>\n",
       "      <td>-16240.835177</td>\n",
       "    </tr>\n",
       "    <tr>\n",
       "      <th>4</th>\n",
       "      <td>0.057997</td>\n",
       "      <td>0.008001</td>\n",
       "      <td>0.427717</td>\n",
       "      <td>-1.131034e+06</td>\n",
       "      <td>-418.469603</td>\n",
       "      <td>-7269.709562</td>\n",
       "    </tr>\n",
       "  </tbody>\n",
       "</table>\n",
       "</div>"
      ],
      "text/plain": [
       "   fit_time  score_time   test_R2     test_-MSE    test_-MAE     test_-Max\n",
       "0  0.063999    0.009000  0.363556 -1.785623e+06  -573.974654  -7229.615952\n",
       "1  0.052999    0.009001 -0.021092 -9.311203e+06 -1183.822534 -20905.215625\n",
       "2  0.063000    0.009000  0.692457 -1.581797e+06  -581.628909  -5141.675714\n",
       "3  0.058998    0.009001  0.191198 -7.035212e+06  -846.452771 -16240.835177\n",
       "4  0.057997    0.008001  0.427717 -1.131034e+06  -418.469603  -7269.709562"
      ]
     },
     "metadata": {},
     "output_type": "display_data"
    },
    {
     "name": "stdout",
     "output_type": "stream",
     "text": [
      "\n",
      "\n",
      "test_R2      3.307670e-01\n",
      "test_-MSE   -4.168974e+06\n",
      "test_-MAE   -7.208697e+02\n",
      "test_-Max   -1.135741e+04\n",
      "dtype: float64\n"
     ]
    }
   ],
   "source": [
    "cross_validation (X_train, y_train,\n",
    "                  pipe_all_transform,\n",
    "                  scoring_reg,\n",
    "                  ShuffleSplit(n_splits=5, random_state = 73))"
   ]
  },
  {
   "cell_type": "markdown",
   "id": "75948764",
   "metadata": {},
   "source": [
    "Настоящие значения:\n",
    "\n",
    "test_R2      0.3307670\n",
    "\n",
    "test_-MSE   -4168974\n",
    "\n",
    "test_-MAE   -720.8697\n",
    "\n",
    "test_-Max   -11357.41\n"
   ]
  },
  {
   "cell_type": "code",
   "execution_count": 53,
   "id": "7ffa3fa3",
   "metadata": {},
   "outputs": [
    {
     "data": {
      "image/png": "[encoded data removed]",
      "text/plain": [
       "<Figure size 640x480 with 1 Axes>"
      ]
     },
     "metadata": {},
     "output_type": "display_data"
    }
   ],
   "source": [
    "PredictionErrorDisplay.from_predictions(\n",
    "    y_val,\n",
    "    pipe_all_transform.predict(X_val),\n",
    "    kind=\"actual_vs_predicted\",\n",
    "    scatter_kwargs={\"alpha\": 0.5},\n",
    ");"
   ]
  },
  {
   "cell_type": "markdown",
   "id": "d92f083a",
   "metadata": {},
   "source": [
    "Выводы по модели:\n",
    "\n",
    "* Добавление категориальных признаков значительно улучшает результаты линейной модели (метрика r2 на кроссвалидации 0.33 против 0.17)\n",
    "\n",
    "* Более высокие продажи предсказываются лучше, но ещё есть проблемы\n",
    "\n",
    "* Наиболее значимыми оказались числовые признаки: цена книги и число рейтингов.\n",
    "\n"
   ]
  }
 ],
 "metadata": {
  "kernelspec": {
   "display_name": "Python 3 (ipykernel)",
   "language": "python",
   "name": "python3"
  },
  "language_info": {
   "codemirror_mode": {
    "name": "ipython",
    "version": 3
   },
   "file_extension": ".py",
   "mimetype": "text/x-python",
   "name": "python",
   "nbconvert_exporter": "python",
   "pygments_lexer": "ipython3",
   "version": "3.12.2"
  }
 },
 "nbformat": 4,
 "nbformat_minor": 5
}
